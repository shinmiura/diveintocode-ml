{
  "nbformat": 4,
  "nbformat_minor": 0,
  "metadata": {
    "colab": {
      "name": "行列積の実装.ipynb",
      "provenance": [],
      "authorship_tag": "ABX9TyNK7gDR21rHDqyRVAqo40HP",
      "include_colab_link": true
    },
    "kernelspec": {
      "name": "python3",
      "display_name": "Python 3"
    },
    "language_info": {
      "name": "python"
    }
  },
  "cells": [
    {
      "cell_type": "markdown",
      "metadata": {
        "id": "view-in-github",
        "colab_type": "text"
      },
      "source": [
        "<a href=\"https://colab.research.google.com/github/shinmiura/diveintocode-ml/blob/master/%E8%A1%8C%E5%88%97%E7%A9%8D%E3%81%AE%E5%AE%9F%E8%A3%85.ipynb\" target=\"_parent\"><img src=\"https://colab.research.google.com/assets/colab-badge.svg\" alt=\"Open In Colab\"/></a>"
      ]
    },
    {
      "cell_type": "markdown",
      "metadata": {
        "id": "GYkT6KAwkydC"
      },
      "source": [
        "テキストの目的\n",
        "\n",
        "・数式演算ライブラリのNumPyに慣れる\n",
        "\n",
        "・行列演算に慣れる"
      ]
    },
    {
      "cell_type": "code",
      "metadata": {
        "id": "sUxfOujvliZ7"
      },
      "source": [
        ""
      ],
      "execution_count": null,
      "outputs": []
    },
    {
      "cell_type": "markdown",
      "metadata": {
        "id": "r5_RNK-HkzqJ"
      },
      "source": [
        "どのように学ぶか\n",
        "\n",
        "行列積の計算を手計算で行った後、スクラッチ実装することで理解を深めていきます。"
      ]
    },
    {
      "cell_type": "markdown",
      "metadata": {
        "id": "V8Rty5NY_NsG"
      },
      "source": [
        "以下のような行列A、Bを考えます。\n",
        "\n",
        "\n",
        "A　=[\n",
        "      \n",
        "          [−1, 2, 3], \n",
        "\n",
        "          [4, −5, 6], \n",
        "\n",
        "          [7, 8, −9]\n",
        "                      ]\n",
        "\n",
        "\n",
        "B =[\n",
        "  \n",
        "          [0, 2, 1],\n",
        "          \n",
        "          [0, 2, −8],\n",
        "\n",
        "          [2, 9, −1]\n",
        "                      ]\n",
        "\n",
        "NumPyで表すと次のようになります。"
      ]
    },
    {
      "cell_type": "markdown",
      "metadata": {
        "id": "4CS88Pxi_ljR"
      },
      "source": [
        "【問題1】行列積を手計算する"
      ]
    },
    {
      "cell_type": "markdown",
      "metadata": {
        "id": "eK2NvrCZXgdq"
      },
      "source": [
        "AとBの行列積を手計算で解いてください。\n",
        "\n",
        "\n",
        "計算過程もマークダウンテキストを用いて説明してください。\n",
        "\n"
      ]
    },
    {
      "cell_type": "code",
      "metadata": {
        "id": "8WpJs-Q3azlT"
      },
      "source": [
        ""
      ],
      "execution_count": null,
      "outputs": []
    },
    {
      "cell_type": "markdown",
      "metadata": {
        "id": "hlcKhZzyaC2y"
      },
      "source": [
        ""
      ]
    },
    {
      "cell_type": "markdown",
      "metadata": {
        "id": "LHaEfJSEawoT"
      },
      "source": [
        "A =                       \n",
        "\n",
        "        [[-1  2  3]\n",
        "\n",
        "         [ 4 -5  6]\n",
        "\n",
        "         [ 7  8 -9]]\n",
        "\n",
        "\n",
        "B = \n",
        "\n",
        "        [[ 0  2  1]\n",
        "\n",
        "         [ 0  2 -8]\n",
        "\n",
        "         [ 2  9 -1]]\n",
        "\n",
        "\n",
        "AB =   \n",
        "\n",
        "        [[(-1×0)+(2×0)+(3×2), (-1×2)+(2×2)+(3×9), (-1×1)+(2×(-8))+(3×(-1))]\n",
        "\n",
        "         [(4×0)+((-5)×0)+(6×2), (4×2)+((-5)×2)+(6×9), (4×1)+((-5)×(-8))+(6×(-1))]\n",
        "\n",
        "         [(7×0)+(8×0)+((-9)×2), (7×2)+(8×2)+((-9)×9), (7×1)+(8×(-8))+((-9)×(-1))]] \n",
        "\n",
        "    =\n",
        "\n",
        "        [[  6,  29,  -20]\n",
        "\n",
        "         [ 12,  52,  38]\n",
        "\n",
        "         [-18,  -51, -48]]\n",
        "\n",
        "\n",
        "\n",
        "\n",
        "\n"
      ]
    },
    {
      "cell_type": "markdown",
      "metadata": {
        "id": "IHsJWWTBXi6Q"
      },
      "source": [
        "【問題2】NumPyの関数による計算"
      ]
    },
    {
      "cell_type": "markdown",
      "metadata": {
        "id": "zCPjyGBNYGz0"
      },
      "source": [
        "この行列積はNumPyのnp.matmul()やnp.dot()、または@演算子を使うことで簡単に計算できます。\n",
        "\n",
        "\n",
        "これらを使い行列積を計算してください。\n"
      ]
    },
    {
      "cell_type": "markdown",
      "metadata": {
        "id": "9AiX5DrfYNCa"
      },
      "source": [
        "《3種類の違い》\n",
        "\n",
        "\n",
        "np.matmul()とnp.dot()は3次元以上の配列で挙動が変わります。@演算子はnp.matmul()と同じ働きをします。\n",
        "\n",
        "\n",
        "今回のような2次元配列の行列積ではnp.matmul()や@演算子が公式に推奨されています。以下はnp.dot()の説明からの引用です。"
      ]
    },
    {
      "cell_type": "code",
      "metadata": {
        "id": "uhXgULmV_UsE"
      },
      "source": [
        "import numpy as np\n",
        "a_ndarray = np.array([[-1, 2, 3], [4, -5, 6], [7, 8, -9]])\n",
        "b_ndarray = np.array([[0, 2, 1], [0, 2, -8], [2, 9, -1]])"
      ],
      "execution_count": null,
      "outputs": []
    },
    {
      "cell_type": "code",
      "metadata": {
        "colab": {
          "base_uri": "https://localhost:8080/"
        },
        "id": "ijCIwAnxaSfY",
        "outputId": "9593e8c0-0ea4-4ad5-9a09-d370c76f010f"
      },
      "source": [
        "print(a_ndarray)"
      ],
      "execution_count": null,
      "outputs": [
        {
          "output_type": "stream",
          "text": [
            "[[-1  2  3]\n",
            " [ 4 -5  6]\n",
            " [ 7  8 -9]]\n"
          ],
          "name": "stdout"
        }
      ]
    },
    {
      "cell_type": "code",
      "metadata": {
        "colab": {
          "base_uri": "https://localhost:8080/"
        },
        "id": "8k8sbCXka4Hs",
        "outputId": "725c8075-3f6b-4239-ef6a-256406adbd4d"
      },
      "source": [
        "print(b_ndarray)"
      ],
      "execution_count": null,
      "outputs": [
        {
          "output_type": "stream",
          "text": [
            "[[ 0  2  1]\n",
            " [ 0  2 -8]\n",
            " [ 2  9 -1]]\n"
          ],
          "name": "stdout"
        }
      ]
    },
    {
      "cell_type": "code",
      "metadata": {
        "colab": {
          "base_uri": "https://localhost:8080/"
        },
        "id": "o9-9Scwqf4TS",
        "outputId": "99a11c6f-8358-440c-e7b7-24f7e6dcb202"
      },
      "source": [
        "# np.matmul()で行列積を求めた場合\n",
        "np.matmul(a_ndarray, b_ndarray)"
      ],
      "execution_count": null,
      "outputs": [
        {
          "output_type": "execute_result",
          "data": {
            "text/plain": [
              "array([[  6,  29, -20],\n",
              "       [ 12,  52,  38],\n",
              "       [-18, -51, -48]])"
            ]
          },
          "metadata": {
            "tags": []
          },
          "execution_count": 4
        }
      ]
    },
    {
      "cell_type": "code",
      "metadata": {
        "colab": {
          "base_uri": "https://localhost:8080/"
        },
        "id": "6_8X6lwngkvd",
        "outputId": "2225aaaf-bca2-4f55-8f51-b0ef51a460fd"
      },
      "source": [
        "# @演算子で行列積を求めた場合\n",
        "a_ndarray @ b_ndarray"
      ],
      "execution_count": null,
      "outputs": [
        {
          "output_type": "execute_result",
          "data": {
            "text/plain": [
              "array([[  6,  29, -20],\n",
              "       [ 12,  52,  38],\n",
              "       [-18, -51, -48]])"
            ]
          },
          "metadata": {
            "tags": []
          },
          "execution_count": 5
        }
      ]
    },
    {
      "cell_type": "markdown",
      "metadata": {
        "id": "Mmt7qAr8YR5V"
      },
      "source": [
        "【問題3】ある要素の計算を実装"
      ]
    },
    {
      "cell_type": "markdown",
      "metadata": {
        "id": "KG25cSahku8K"
      },
      "source": [
        "手計算をする際はまず行列Aの0行目と行列Bの0列目に注目し、以下の計算を行ったかと思います。\n",
        "\n",
        "\n",
        "1.行列Aの(0,0)の要素 $a_{0, 0}$ と行列Bの(0,0)の要素 $b_{0, 0}$ を掛け合わせる\n",
        "\n",
        "2.行列Aの(0,1)の要素 $a_{0, 1}$ と行列Bの(1,0)の要素 $b_{1, 0}$ を掛け合わせる\n",
        "\n",
        "3.行列Aの(0,2)の要素 $a_{0, 2}$ と行列Bの(2,0)の要素 $b_{2, 0}$ を掛け合わせる\n",
        "\n",
        "4.それらの値をすべて足し合わせる\n",
        "\n",
        "数式で表すと\n",
        "\n",
        "2\n",
        "∑\n",
        "k=0\n",
        " \n",
        "a0\n",
        ",\n",
        "k\n",
        "b\n",
        "k\n",
        ",\n",
        "0\n",
        "\n",
        "\n",
        "です。\n",
        "\n",
        "\n",
        "この計算をnp.matmul()やnp.dot()、または@演算子を使わずに行うコードを書いてください。\n",
        "\n"
      ]
    },
    {
      "cell_type": "code",
      "metadata": {
        "colab": {
          "base_uri": "https://localhost:8080/"
        },
        "id": "SMFpT9XZhGi2",
        "outputId": "a4e9a421-7d70-41fa-f67d-209d497d284c"
      },
      "source": [
        "# 上記np.matmul()やnp.dot()、@演算子が禁止のためfor文を用いてコードを書く方針を採用\n",
        "a_ndarray = np.array([[-1, 2, 3], [4, -5, 6], [7, 8, -9]])\n",
        "b_ndarray = np.array([[0, 2, 1], [0, 2, -8], [2, 9, -1]])\n",
        "\n",
        "# リストに計算結果を格納し、後ほど処理する\n",
        "result = []\n",
        "\n",
        "for i in range(3):\n",
        "  for j in range(3):\n",
        "    for k in range(3):\n",
        "      result.append(a_ndarray[i, k] * b_ndarray[k, j])\n",
        "      print(\"a:{}, b:{}, result = {}\".format(a_ndarray[i, k], b_ndarray[k, j], result))"
      ],
      "execution_count": null,
      "outputs": [
        {
          "output_type": "stream",
          "text": [
            "a:-1, b:0, result = [0]\n",
            "a:2, b:0, result = [0, 0]\n",
            "a:3, b:2, result = [0, 0, 6]\n",
            "a:-1, b:2, result = [0, 0, 6, -2]\n",
            "a:2, b:2, result = [0, 0, 6, -2, 4]\n",
            "a:3, b:9, result = [0, 0, 6, -2, 4, 27]\n",
            "a:-1, b:1, result = [0, 0, 6, -2, 4, 27, -1]\n",
            "a:2, b:-8, result = [0, 0, 6, -2, 4, 27, -1, -16]\n",
            "a:3, b:-1, result = [0, 0, 6, -2, 4, 27, -1, -16, -3]\n",
            "a:4, b:0, result = [0, 0, 6, -2, 4, 27, -1, -16, -3, 0]\n",
            "a:-5, b:0, result = [0, 0, 6, -2, 4, 27, -1, -16, -3, 0, 0]\n",
            "a:6, b:2, result = [0, 0, 6, -2, 4, 27, -1, -16, -3, 0, 0, 12]\n",
            "a:4, b:2, result = [0, 0, 6, -2, 4, 27, -1, -16, -3, 0, 0, 12, 8]\n",
            "a:-5, b:2, result = [0, 0, 6, -2, 4, 27, -1, -16, -3, 0, 0, 12, 8, -10]\n",
            "a:6, b:9, result = [0, 0, 6, -2, 4, 27, -1, -16, -3, 0, 0, 12, 8, -10, 54]\n",
            "a:4, b:1, result = [0, 0, 6, -2, 4, 27, -1, -16, -3, 0, 0, 12, 8, -10, 54, 4]\n",
            "a:-5, b:-8, result = [0, 0, 6, -2, 4, 27, -1, -16, -3, 0, 0, 12, 8, -10, 54, 4, 40]\n",
            "a:6, b:-1, result = [0, 0, 6, -2, 4, 27, -1, -16, -3, 0, 0, 12, 8, -10, 54, 4, 40, -6]\n",
            "a:7, b:0, result = [0, 0, 6, -2, 4, 27, -1, -16, -3, 0, 0, 12, 8, -10, 54, 4, 40, -6, 0]\n",
            "a:8, b:0, result = [0, 0, 6, -2, 4, 27, -1, -16, -3, 0, 0, 12, 8, -10, 54, 4, 40, -6, 0, 0]\n",
            "a:-9, b:2, result = [0, 0, 6, -2, 4, 27, -1, -16, -3, 0, 0, 12, 8, -10, 54, 4, 40, -6, 0, 0, -18]\n",
            "a:7, b:2, result = [0, 0, 6, -2, 4, 27, -1, -16, -3, 0, 0, 12, 8, -10, 54, 4, 40, -6, 0, 0, -18, 14]\n",
            "a:8, b:2, result = [0, 0, 6, -2, 4, 27, -1, -16, -3, 0, 0, 12, 8, -10, 54, 4, 40, -6, 0, 0, -18, 14, 16]\n",
            "a:-9, b:9, result = [0, 0, 6, -2, 4, 27, -1, -16, -3, 0, 0, 12, 8, -10, 54, 4, 40, -6, 0, 0, -18, 14, 16, -81]\n",
            "a:7, b:1, result = [0, 0, 6, -2, 4, 27, -1, -16, -3, 0, 0, 12, 8, -10, 54, 4, 40, -6, 0, 0, -18, 14, 16, -81, 7]\n",
            "a:8, b:-8, result = [0, 0, 6, -2, 4, 27, -1, -16, -3, 0, 0, 12, 8, -10, 54, 4, 40, -6, 0, 0, -18, 14, 16, -81, 7, -64]\n",
            "a:-9, b:-1, result = [0, 0, 6, -2, 4, 27, -1, -16, -3, 0, 0, 12, 8, -10, 54, 4, 40, -6, 0, 0, -18, 14, 16, -81, 7, -64, 9]\n"
          ],
          "name": "stdout"
        }
      ]
    },
    {
      "cell_type": "code",
      "metadata": {
        "colab": {
          "base_uri": "https://localhost:8080/"
        },
        "id": "_DS0Rt64nxX4",
        "outputId": "e5ecf79f-1dae-415e-e7b9-5604db273cd3"
      },
      "source": [
        "print(result)"
      ],
      "execution_count": null,
      "outputs": [
        {
          "output_type": "stream",
          "text": [
            "[0, 0, 6, -2, 4, 27, -1, -16, -3, 0, 0, 12, 8, -10, 54, 4, 40, -6, 0, 0, -18, 14, 16, -81, 7, -64, 9]\n"
          ],
          "name": "stdout"
        }
      ]
    },
    {
      "cell_type": "code",
      "metadata": {
        "id": "spxoobskndtW"
      },
      "source": [
        "# 行ごとに集計したいため、３列ごとを１行としてreshapeする\n",
        "c_ndarray = np.array(result)\n",
        "d_ndarray = c_ndarray.reshape(9, 3)"
      ],
      "execution_count": null,
      "outputs": []
    },
    {
      "cell_type": "code",
      "metadata": {
        "colab": {
          "base_uri": "https://localhost:8080/"
        },
        "id": "7D8EKIgxo6m8",
        "outputId": "ce624bde-2d4a-4152-b79b-a60b1f404763"
      },
      "source": [
        "# 各行を集計して3×3の行列にすれば解答となる\n",
        "a = np.sum(d_ndarray, axis=1)\n",
        "answer3 = a.reshape(3,3)\n",
        "answer3"
      ],
      "execution_count": null,
      "outputs": [
        {
          "output_type": "execute_result",
          "data": {
            "text/plain": [
              "array([[  6,  29, -20],\n",
              "       [ 12,  52,  38],\n",
              "       [-18, -51, -48]])"
            ]
          },
          "metadata": {
            "tags": []
          },
          "execution_count": 30
        }
      ]
    },
    {
      "cell_type": "markdown",
      "metadata": {
        "id": "GjrIfXaawVMs"
      },
      "source": [
        "【問題４】行列積を行う関数の作成\n",
        "\n",
        "問題3のコードを拡張し、行列積のスクラッチ実装を完成させてください。行列AとBを引数に受け取り、行列積を返す関数としてください。\n",
        "\n",
        "\n",
        "行列積を計算する場合は、問題3の計算を異なる行や列に対して繰り返していくことになります。\n",
        "\n",
        "計算結果である $3 \\times 3$ の行列Cの各要素 $c_{i, j}$ は数式で表すと次のようになります。\n",
        "\n",
        "\n",
        "c\n",
        "i\n",
        ",\n",
        "j\n",
        "=\n",
        "2\n",
        "∑\n",
        "k\n",
        "=\n",
        "0\n",
        " \n",
        "a\n",
        "i\n",
        ",\n",
        "k\n",
        "b\n",
        "k\n",
        ",\n",
        "j\n",
        "\n",
        "for文を使い、ndarrayのインデックスを動かしていくことで、合計9つの要素が計算できます。インデックス $i$ や $j$ を1増やすと、次の行や列に移ることができます。\n",
        "\n"
      ]
    },
    {
      "cell_type": "code",
      "metadata": {
        "colab": {
          "base_uri": "https://localhost:8080/"
        },
        "id": "fZeUZ4Kyw8Rm",
        "outputId": "09b32394-7bb0-4eba-90d7-de64d7c9ccfd"
      },
      "source": [
        "def matrix_product(a_ndarray, b_ndarray):\n",
        "  \"\"\"\n",
        "  行列Aと行列Bをインプットすると行列積ABを返す関数\n",
        "　　　　Parameters\n",
        "  -----------\n",
        "  a_ndarray : ndarray型\n",
        "  　　　　行列A\n",
        "  b_ndarray : ndarray型\n",
        "  　　　　行列B\n",
        "\n",
        "  Returns\n",
        "  -----------\n",
        "  result : ndarray型\n",
        "  　　　　行列積AB\n",
        "  \"\"\"\n",
        "  # リストに計算結果を格納し、後ほど処理する\n",
        "  result = []\n",
        "  \n",
        "  for i in range(3):\n",
        "    for j in range(3):\n",
        "      for k in range(3):\n",
        "        result.append(a_ndarray[i, k] * b_ndarray[k, j])\n",
        "\n",
        "  return result\n",
        "\n",
        "a_ndarray = np.array([[-1, 2, 3], [4, -5, 6], [7, 8, -9]])\n",
        "b_ndarray = np.array([[0, 2, 1], [0, 2, -8], [2, 9, -1]])\n",
        "print(matrix_product(a_ndarray, b_ndarray))\n",
        "\n",
        "c_ndarray = np.array(result)\n",
        "d_ndarray = c_ndarray.reshape(9, 3)\n",
        "\n",
        "a = np.sum(d_ndarray, axis=1)\n",
        "answer4 = a.reshape(3,3)\n",
        "answer4"
      ],
      "execution_count": null,
      "outputs": [
        {
          "output_type": "stream",
          "text": [
            "[0, 0, 6, -2, 4, 27, -1, -16, -3, 0, 0, 12, 8, -10, 54, 4, 40, -6, 0, 0, -18, 14, 16, -81, 7, -64, 9]\n"
          ],
          "name": "stdout"
        },
        {
          "output_type": "execute_result",
          "data": {
            "text/plain": [
              "array([[  6,  29, -20],\n",
              "       [ 12,  52,  38],\n",
              "       [-18, -51, -48]])"
            ]
          },
          "metadata": {
            "tags": []
          },
          "execution_count": 41
        }
      ]
    },
    {
      "cell_type": "markdown",
      "metadata": {
        "id": "JLwXeo61uz1g"
      },
      "source": [
        "【問題５】計算が定義されない入力を判定する\n"
      ]
    },
    {
      "cell_type": "markdown",
      "metadata": {
        "id": "zA9qHC3DzAsZ"
      },
      "source": [
        "問題4で作成した関数は、実装方法によってはこのDとEの配列を入力しても動いてしまう可能性があります。この場合、不適切な計算が行われることになります。また、途中でエラーになる場合でも、なぜエラーになったかが直接的には分かりづらいメッセージが表示されます。\n",
        "\n",
        "\n",
        "if文などによってこれを防ぎ、入力される形に問題があることをprint()を使い表示するコードを書き加えてください。"
      ]
    },
    {
      "cell_type": "code",
      "metadata": {
        "id": "Kqf0xraKzASv",
        "colab": {
          "base_uri": "https://localhost:8080/"
        },
        "outputId": "3e8d8aad-ec4d-491a-9f1f-efe0f0f2d8a8"
      },
      "source": [
        "def matrix_product(d_ndarray, e_ndarray):\n",
        "  \"\"\"\n",
        "  行列Dと行列Eをインプットすると行列積DEを返す関数\n",
        "　　　　Parameters\n",
        "  -----------\n",
        "  d_ndarray : ndarray型\n",
        "  　　　　行列D\n",
        "  e_ndarray : ndarray型\n",
        "  　　　　行列E\n",
        "\n",
        "  Returns\n",
        "  -----------\n",
        "  result : ndarray型\n",
        "  　　　　行列積DE\n",
        "  \"\"\"\n",
        "  # リストに計算結果を格納し、後ほど処理する\n",
        "  result = []\n",
        "  \n",
        "  for i in range(3):\n",
        "    for j in range(3):\n",
        "      for k in range(3):\n",
        "        result.append(a_ndarray[i, k] * b_ndarray[k, j])\n",
        "\n",
        "  return result\n",
        "\n",
        "d_ndarray = np.array([[-1, 2, 3], [4, -5, 6]])\n",
        "e_ndarray = np.array([[-9, 8, 7], [6, -5, 4]])\n",
        "print(matrix_product(d_ndarray, e_ndarray))\n",
        "\n",
        "f_ndarray = np.array(result)\n",
        "g_ndarray = f_ndarray.reshape(9, 3)\n",
        "\n",
        "b = np.sum(g_ndarray, axis=1)\n",
        "answer5 = b.reshape(3,3)\n",
        "answer5"
      ],
      "execution_count": 43,
      "outputs": [
        {
          "output_type": "stream",
          "text": [
            "[0, 0, 6, -2, 4, 27, -1, -16, -3, 0, 0, 12, 8, -10, 54, 4, 40, -6, 0, 0, -18, 14, 16, -81, 7, -64, 9]\n"
          ],
          "name": "stdout"
        },
        {
          "output_type": "execute_result",
          "data": {
            "text/plain": [
              "array([[  6,  29, -20],\n",
              "       [ 12,  52,  38],\n",
              "       [-18, -51, -48]])"
            ]
          },
          "metadata": {
            "tags": []
          },
          "execution_count": 43
        }
      ]
    },
    {
      "cell_type": "markdown",
      "metadata": {
        "id": "gPG1uy3dzCTJ"
      },
      "source": [
        "【問題６】転置\n",
        "\n",
        "片方の行列を転置することで、行列積が計算できるようになります。\n",
        "\n",
        "\n",
        "np.transpose()や.Tアトリビュートを用いて転置し、行列積を計算してください。"
      ]
    },
    {
      "cell_type": "code",
      "metadata": {
        "id": "_1f27WOn0nrv"
      },
      "source": [
        "a_ndarray = np.array([[-1, 2, 3], [4, -5, 6], [7, 8, -9]])\n",
        "b_ndarray = np.array([[0, 2, 1], [0, 2, -8], [2, 9, -1]])"
      ],
      "execution_count": null,
      "outputs": []
    },
    {
      "cell_type": "code",
      "metadata": {
        "colab": {
          "base_uri": "https://localhost:8080/"
        },
        "id": "LDsNjtse0sh0",
        "outputId": "38358633-92cd-4bb2-b516-8d3cc81a2afa"
      },
      "source": [
        "# 行列Bを転置\n",
        "bT_ndarray = b_ndarray.T\n",
        "bT_ndarray"
      ],
      "execution_count": null,
      "outputs": [
        {
          "output_type": "execute_result",
          "data": {
            "text/plain": [
              "array([[ 0,  0,  2],\n",
              "       [ 2,  2,  9],\n",
              "       [ 1, -8, -1]])"
            ]
          },
          "metadata": {
            "tags": []
          },
          "execution_count": 35
        }
      ]
    },
    {
      "cell_type": "code",
      "metadata": {
        "colab": {
          "base_uri": "https://localhost:8080/"
        },
        "id": "M7emd4xF2QpD",
        "outputId": "9ab36354-42ed-4552-8456-b61312633355"
      },
      "source": [
        "a_ndarray * bT_ndarray"
      ],
      "execution_count": null,
      "outputs": [
        {
          "output_type": "execute_result",
          "data": {
            "text/plain": [
              "array([[  0,   0,   6],\n",
              "       [  8, -10,  54],\n",
              "       [  7, -64,   9]])"
            ]
          },
          "metadata": {
            "tags": []
          },
          "execution_count": 39
        }
      ]
    }
  ]
}
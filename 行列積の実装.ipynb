{
  "nbformat": 4,
  "nbformat_minor": 0,
  "metadata": {
    "colab": {
      "name": "行列積の実装.ipynb",
      "provenance": [],
      "collapsed_sections": [],
      "authorship_tag": "ABX9TyN7YEzzHQMykSa4NT4++RWh",
      "include_colab_link": true
    },
    "kernelspec": {
      "name": "python3",
      "display_name": "Python 3"
    },
    "language_info": {
      "name": "python"
    }
  },
  "cells": [
    {
      "cell_type": "markdown",
      "metadata": {
        "id": "view-in-github",
        "colab_type": "text"
      },
      "source": [
        "<a href=\"https://colab.research.google.com/github/shinmiura/diveintocode-ml/blob/master/%E8%A1%8C%E5%88%97%E7%A9%8D%E3%81%AE%E5%AE%9F%E8%A3%85.ipynb\" target=\"_parent\"><img src=\"https://colab.research.google.com/assets/colab-badge.svg\" alt=\"Open In Colab\"/></a>"
      ]
    },
    {
      "cell_type": "markdown",
      "metadata": {
        "id": "GYkT6KAwkydC"
      },
      "source": [
        "テキストの目的\n",
        "\n",
        "・数式演算ライブラリのNumPyに慣れる\n",
        "\n",
        "・行列演算に慣れる"
      ]
    },
    {
      "cell_type": "markdown",
      "metadata": {
        "id": "r5_RNK-HkzqJ"
      },
      "source": [
        "どのように学ぶか\n",
        "\n",
        "行列積の計算を手計算で行った後、スクラッチ実装することで理解を深めていきます。"
      ]
    },
    {
      "cell_type": "markdown",
      "metadata": {
        "id": "V8Rty5NY_NsG"
      },
      "source": [
        "以下のような行列A、Bを考えます。\n",
        "\n",
        "\n",
        "A　=[\n",
        "      \n",
        "          [−1, 2, 3], \n",
        "\n",
        "          [4, −5, 6], \n",
        "\n",
        "          [7, 8, −9]\n",
        "                      ]\n",
        "\n",
        "\n",
        "B =[\n",
        "  \n",
        "          [0, 2, 1],\n",
        "          \n",
        "          [0, 2, −8],\n",
        "\n",
        "          [2, 9, −1]\n",
        "                      ]\n",
        "\n",
        "NumPyで表すと次のようになります。"
      ]
    },
    {
      "cell_type": "markdown",
      "metadata": {
        "id": "4CS88Pxi_ljR"
      },
      "source": [
        "【問題1】行列積を手計算する"
      ]
    },
    {
      "cell_type": "markdown",
      "metadata": {
        "id": "eK2NvrCZXgdq"
      },
      "source": [
        "AとBの行列積を手計算で解いてください。\n",
        "\n",
        "\n",
        "計算過程もマークダウンテキストを用いて説明してください。\n",
        "\n"
      ]
    },
    {
      "cell_type": "markdown",
      "metadata": {
        "id": "hlcKhZzyaC2y"
      },
      "source": [
        ""
      ]
    },
    {
      "cell_type": "markdown",
      "metadata": {
        "id": "LHaEfJSEawoT"
      },
      "source": [
        "A =                       \n",
        "\n",
        "        [[-1  2  3]\n",
        "\n",
        "         [ 4 -5  6]\n",
        "\n",
        "         [ 7  8 -9]]\n",
        "\n",
        "\n",
        "B = \n",
        "\n",
        "        [[ 0  2  1]\n",
        "\n",
        "         [ 0  2 -8]\n",
        "\n",
        "         [ 2  9 -1]]\n",
        "\n",
        "\n",
        "AB =   \n",
        "\n",
        "        [[(-1×0)+(2×0)+(3×2), (-1×2)+(2×2)+(3×9), (-1×1)+(2×(-8))+(3×(-1))]\n",
        "\n",
        "         [(4×0)+((-5)×0)+(6×2), (4×2)+((-5)×2)+(6×9), (4×1)+((-5)×(-8))+(6×(-1))]\n",
        "\n",
        "         [(7×0)+(8×0)+((-9)×2), (7×2)+(8×2)+((-9)×9), (7×1)+(8×(-8))+((-9)×(-1))]] \n",
        "\n",
        "    =\n",
        "\n",
        "        [[  6,  29,  -20]\n",
        "\n",
        "         [ 12,  52,  38]\n",
        "\n",
        "         [-18,  -51, -48]]\n",
        "\n",
        "\n",
        "\n",
        "\n",
        "\n"
      ]
    },
    {
      "cell_type": "markdown",
      "metadata": {
        "id": "IHsJWWTBXi6Q"
      },
      "source": [
        "【問題2】NumPyの関数による計算"
      ]
    },
    {
      "cell_type": "markdown",
      "metadata": {
        "id": "zCPjyGBNYGz0"
      },
      "source": [
        "この行列積はNumPyのnp.matmul()やnp.dot()、または@演算子を使うことで簡単に計算できます。\n",
        "\n",
        "\n",
        "これらを使い行列積を計算してください。\n"
      ]
    },
    {
      "cell_type": "markdown",
      "metadata": {
        "id": "9AiX5DrfYNCa"
      },
      "source": [
        "《3種類の違い》\n",
        "\n",
        "\n",
        "np.matmul()とnp.dot()は3次元以上の配列で挙動が変わります。@演算子はnp.matmul()と同じ働きをします。\n",
        "\n",
        "\n",
        "今回のような2次元配列の行列積ではnp.matmul()や@演算子が公式に推奨されています。以下はnp.dot()の説明からの引用です。"
      ]
    },
    {
      "cell_type": "code",
      "metadata": {
        "id": "uhXgULmV_UsE"
      },
      "source": [
        "import numpy as np\n",
        "a_ndarray = np.array([[-1, 2, 3], [4, -5, 6], [7, 8, -9]])\n",
        "b_ndarray = np.array([[0, 2, 1], [0, 2, -8], [2, 9, -1]])"
      ],
      "execution_count": 1,
      "outputs": []
    },
    {
      "cell_type": "code",
      "metadata": {
        "colab": {
          "base_uri": "https://localhost:8080/"
        },
        "id": "ijCIwAnxaSfY",
        "outputId": "76fa89c6-cb56-41f7-84c4-1fa2da90ea29"
      },
      "source": [
        "print(a_ndarray)"
      ],
      "execution_count": 2,
      "outputs": [
        {
          "output_type": "stream",
          "text": [
            "[[-1  2  3]\n",
            " [ 4 -5  6]\n",
            " [ 7  8 -9]]\n"
          ],
          "name": "stdout"
        }
      ]
    },
    {
      "cell_type": "code",
      "metadata": {
        "colab": {
          "base_uri": "https://localhost:8080/"
        },
        "id": "8k8sbCXka4Hs",
        "outputId": "bfcba264-753b-4bcf-af7d-18ea73119f81"
      },
      "source": [
        "print(b_ndarray)"
      ],
      "execution_count": 3,
      "outputs": [
        {
          "output_type": "stream",
          "text": [
            "[[ 0  2  1]\n",
            " [ 0  2 -8]\n",
            " [ 2  9 -1]]\n"
          ],
          "name": "stdout"
        }
      ]
    },
    {
      "cell_type": "code",
      "metadata": {
        "colab": {
          "base_uri": "https://localhost:8080/"
        },
        "id": "o9-9Scwqf4TS",
        "outputId": "0cc224f8-1d07-4022-c781-9f126130b212"
      },
      "source": [
        "# np.matmul()で行列積を求めた場合\n",
        "np.matmul(a_ndarray, b_ndarray)"
      ],
      "execution_count": 4,
      "outputs": [
        {
          "output_type": "execute_result",
          "data": {
            "text/plain": [
              "array([[  6,  29, -20],\n",
              "       [ 12,  52,  38],\n",
              "       [-18, -51, -48]])"
            ]
          },
          "metadata": {
            "tags": []
          },
          "execution_count": 4
        }
      ]
    },
    {
      "cell_type": "code",
      "metadata": {
        "colab": {
          "base_uri": "https://localhost:8080/"
        },
        "id": "TmAxwp4womz6",
        "outputId": "26e0e8b8-e3ee-442c-e48a-644c4bf077b9"
      },
      "source": [
        "# np.dot()で行列積を求めた場合\n",
        "np.dot(a_ndarray, b_ndarray)"
      ],
      "execution_count": 5,
      "outputs": [
        {
          "output_type": "execute_result",
          "data": {
            "text/plain": [
              "array([[  6,  29, -20],\n",
              "       [ 12,  52,  38],\n",
              "       [-18, -51, -48]])"
            ]
          },
          "metadata": {
            "tags": []
          },
          "execution_count": 5
        }
      ]
    },
    {
      "cell_type": "code",
      "metadata": {
        "colab": {
          "base_uri": "https://localhost:8080/"
        },
        "id": "6_8X6lwngkvd",
        "outputId": "fca7f290-cac5-4c6f-df6e-1371250ff12b"
      },
      "source": [
        "# @演算子で行列積を求めた場合\n",
        "a_ndarray @ b_ndarray"
      ],
      "execution_count": 6,
      "outputs": [
        {
          "output_type": "execute_result",
          "data": {
            "text/plain": [
              "array([[  6,  29, -20],\n",
              "       [ 12,  52,  38],\n",
              "       [-18, -51, -48]])"
            ]
          },
          "metadata": {
            "tags": []
          },
          "execution_count": 6
        }
      ]
    },
    {
      "cell_type": "markdown",
      "metadata": {
        "id": "Mmt7qAr8YR5V"
      },
      "source": [
        "【問題3】ある要素の計算を実装"
      ]
    },
    {
      "cell_type": "markdown",
      "metadata": {
        "id": "KG25cSahku8K"
      },
      "source": [
        "手計算をする際はまず行列Aの0行目と行列Bの0列目に注目し、以下の計算を行ったかと思います。\n",
        "\n",
        "\n",
        "1.行列Aの(0,0)の要素 $a_{0, 0}$ と行列Bの(0,0)の要素 $b_{0, 0}$ を掛け合わせる\n",
        "\n",
        "2.行列Aの(0,1)の要素 $a_{0, 1}$ と行列Bの(1,0)の要素 $b_{1, 0}$ を掛け合わせる\n",
        "\n",
        "3.行列Aの(0,2)の要素 $a_{0, 2}$ と行列Bの(2,0)の要素 $b_{2, 0}$ を掛け合わせる\n",
        "\n",
        "4.それらの値をすべて足し合わせる\n",
        "\n",
        "数式で表すと\n",
        "\n",
        "2\n",
        "∑\n",
        "k=0\n",
        " \n",
        "a0\n",
        ",\n",
        "k\n",
        "b\n",
        "k\n",
        ",\n",
        "0\n",
        "\n",
        "\n",
        "です。\n",
        "\n",
        "\n",
        "この計算をnp.matmul()やnp.dot()、または@演算子を使わずに行うコードを書いてください。\n",
        "\n"
      ]
    },
    {
      "cell_type": "code",
      "metadata": {
        "colab": {
          "base_uri": "https://localhost:8080/"
        },
        "id": "G9VRhwjGqlzD",
        "outputId": "468d9d73-f52b-4a10-ccd8-bfda8111c0ef"
      },
      "source": [
        "# Aの0行目とBの0列目を取り出し、Numpyを使いまとめて掛け算した後sumメソッドで足し合わせた場合。\n",
        "a_ndarray = np.array([[-1, 2, 3], [4, -5, 6], [7, 8, -9]])\n",
        "b_ndarray = np.array([[0, 2, 1], [0, 2, -8], [2, 9, -1]])\n",
        "mu100 = (a_ndarray[0] * b_ndarray[:, 0]).sum()\n",
        "print(\"Aの0行目とBの0列目 : {}\".format(mu100))"
      ],
      "execution_count": 7,
      "outputs": [
        {
          "output_type": "stream",
          "text": [
            "Aの0行目とBの0列目 : 6\n"
          ],
          "name": "stdout"
        }
      ]
    },
    {
      "cell_type": "code",
      "metadata": {
        "colab": {
          "base_uri": "https://localhost:8080/"
        },
        "id": "SMFpT9XZhGi2",
        "outputId": "dfc58006-8662-429d-a5b8-37396855db4d"
      },
      "source": [
        "# 上記np.matmul()やnp.dot()、@演算子が禁止のためfor文を用いてコードを書く方針を採用\n",
        "a_ndarray = np.array([[-1, 2, 3], [4, -5, 6], [7, 8, -9]])\n",
        "b_ndarray = np.array([[0, 2, 1], [0, 2, -8], [2, 9, -1]])\n",
        "\n",
        "# リストに計算結果を格納し、後ほど処理する\n",
        "result = []\n",
        "\n",
        "for i in range(3):\n",
        "  for j in range(3):\n",
        "    for k in range(3):\n",
        "      result.append(a_ndarray[i, k] * b_ndarray[k, j])\n",
        "      print(\"a:{}, b:{}, result = {}\".format(a_ndarray[i, k], b_ndarray[k, j], result))"
      ],
      "execution_count": 9,
      "outputs": [
        {
          "output_type": "stream",
          "text": [
            "a:-1, b:0, result = [0]\n",
            "a:2, b:0, result = [0, 0]\n",
            "a:3, b:2, result = [0, 0, 6]\n",
            "a:-1, b:2, result = [0, 0, 6, -2]\n",
            "a:2, b:2, result = [0, 0, 6, -2, 4]\n",
            "a:3, b:9, result = [0, 0, 6, -2, 4, 27]\n",
            "a:-1, b:1, result = [0, 0, 6, -2, 4, 27, -1]\n",
            "a:2, b:-8, result = [0, 0, 6, -2, 4, 27, -1, -16]\n",
            "a:3, b:-1, result = [0, 0, 6, -2, 4, 27, -1, -16, -3]\n",
            "a:4, b:0, result = [0, 0, 6, -2, 4, 27, -1, -16, -3, 0]\n",
            "a:-5, b:0, result = [0, 0, 6, -2, 4, 27, -1, -16, -3, 0, 0]\n",
            "a:6, b:2, result = [0, 0, 6, -2, 4, 27, -1, -16, -3, 0, 0, 12]\n",
            "a:4, b:2, result = [0, 0, 6, -2, 4, 27, -1, -16, -3, 0, 0, 12, 8]\n",
            "a:-5, b:2, result = [0, 0, 6, -2, 4, 27, -1, -16, -3, 0, 0, 12, 8, -10]\n",
            "a:6, b:9, result = [0, 0, 6, -2, 4, 27, -1, -16, -3, 0, 0, 12, 8, -10, 54]\n",
            "a:4, b:1, result = [0, 0, 6, -2, 4, 27, -1, -16, -3, 0, 0, 12, 8, -10, 54, 4]\n",
            "a:-5, b:-8, result = [0, 0, 6, -2, 4, 27, -1, -16, -3, 0, 0, 12, 8, -10, 54, 4, 40]\n",
            "a:6, b:-1, result = [0, 0, 6, -2, 4, 27, -1, -16, -3, 0, 0, 12, 8, -10, 54, 4, 40, -6]\n",
            "a:7, b:0, result = [0, 0, 6, -2, 4, 27, -1, -16, -3, 0, 0, 12, 8, -10, 54, 4, 40, -6, 0]\n",
            "a:8, b:0, result = [0, 0, 6, -2, 4, 27, -1, -16, -3, 0, 0, 12, 8, -10, 54, 4, 40, -6, 0, 0]\n",
            "a:-9, b:2, result = [0, 0, 6, -2, 4, 27, -1, -16, -3, 0, 0, 12, 8, -10, 54, 4, 40, -6, 0, 0, -18]\n",
            "a:7, b:2, result = [0, 0, 6, -2, 4, 27, -1, -16, -3, 0, 0, 12, 8, -10, 54, 4, 40, -6, 0, 0, -18, 14]\n",
            "a:8, b:2, result = [0, 0, 6, -2, 4, 27, -1, -16, -3, 0, 0, 12, 8, -10, 54, 4, 40, -6, 0, 0, -18, 14, 16]\n",
            "a:-9, b:9, result = [0, 0, 6, -2, 4, 27, -1, -16, -3, 0, 0, 12, 8, -10, 54, 4, 40, -6, 0, 0, -18, 14, 16, -81]\n",
            "a:7, b:1, result = [0, 0, 6, -2, 4, 27, -1, -16, -3, 0, 0, 12, 8, -10, 54, 4, 40, -6, 0, 0, -18, 14, 16, -81, 7]\n",
            "a:8, b:-8, result = [0, 0, 6, -2, 4, 27, -1, -16, -3, 0, 0, 12, 8, -10, 54, 4, 40, -6, 0, 0, -18, 14, 16, -81, 7, -64]\n",
            "a:-9, b:-1, result = [0, 0, 6, -2, 4, 27, -1, -16, -3, 0, 0, 12, 8, -10, 54, 4, 40, -6, 0, 0, -18, 14, 16, -81, 7, -64, 9]\n"
          ],
          "name": "stdout"
        }
      ]
    },
    {
      "cell_type": "code",
      "metadata": {
        "colab": {
          "base_uri": "https://localhost:8080/"
        },
        "id": "_DS0Rt64nxX4",
        "outputId": "90f36df1-7bae-4bcc-9d58-165c869dea5f"
      },
      "source": [
        "print(result)"
      ],
      "execution_count": 10,
      "outputs": [
        {
          "output_type": "stream",
          "text": [
            "[0, 0, 6, -2, 4, 27, -1, -16, -3, 0, 0, 12, 8, -10, 54, 4, 40, -6, 0, 0, -18, 14, 16, -81, 7, -64, 9]\n"
          ],
          "name": "stdout"
        }
      ]
    },
    {
      "cell_type": "code",
      "metadata": {
        "id": "spxoobskndtW"
      },
      "source": [
        "# 行ごとに集計したいため、３列ごとを１行としてreshapeする\n",
        "c_ndarray = np.array(result)\n",
        "d_ndarray = c_ndarray.reshape(9, 3)"
      ],
      "execution_count": 11,
      "outputs": []
    },
    {
      "cell_type": "code",
      "metadata": {
        "colab": {
          "base_uri": "https://localhost:8080/"
        },
        "id": "7D8EKIgxo6m8",
        "outputId": "8f39825c-dc3e-4772-b164-65e33cada458"
      },
      "source": [
        "# 各行を集計して3×3の行列にすれば解答となる\n",
        "a = np.sum(d_ndarray, axis=1)\n",
        "answer3 = a.reshape(3,3)\n",
        "answer3"
      ],
      "execution_count": 12,
      "outputs": [
        {
          "output_type": "execute_result",
          "data": {
            "text/plain": [
              "array([[  6,  29, -20],\n",
              "       [ 12,  52,  38],\n",
              "       [-18, -51, -48]])"
            ]
          },
          "metadata": {
            "tags": []
          },
          "execution_count": 12
        }
      ]
    },
    {
      "cell_type": "code",
      "metadata": {
        "colab": {
          "base_uri": "https://localhost:8080/"
        },
        "id": "pCnor73cHOwi",
        "outputId": "3cf6547f-9f15-461c-87ef-c634303df597"
      },
      "source": [
        "print(\"Aの0行目とBの0列目 : {}\".format(answer3[0][0]))"
      ],
      "execution_count": 13,
      "outputs": [
        {
          "output_type": "stream",
          "text": [
            "Aの0行目とBの0列目 : 6\n"
          ],
          "name": "stdout"
        }
      ]
    },
    {
      "cell_type": "code",
      "metadata": {
        "colab": {
          "base_uri": "https://localhost:8080/"
        },
        "id": "VSgjrZTMseOs",
        "outputId": "a53841a8-58ea-4a14-f827-ffbd5d6cee82"
      },
      "source": [
        "# for文を使う方法（野田講師がクラス内で解説していた方法）\n",
        "mu100 = 0\n",
        "for k in range(a_ndarray.shape[1]):\n",
        "  mu100 += a_ndarray[0, k] * b_ndarray[k, 0].sum()\n",
        "print(\"Aの0行目とBの0列目 : {}\".format(mu100))"
      ],
      "execution_count": 8,
      "outputs": [
        {
          "output_type": "stream",
          "text": [
            "Aの0行目とBの0列目 : 6\n"
          ],
          "name": "stdout"
        }
      ]
    },
    {
      "cell_type": "markdown",
      "metadata": {
        "id": "GjrIfXaawVMs"
      },
      "source": [
        "【問題４】行列積を行う関数の作成\n",
        "\n",
        "問題3のコードを拡張し、行列積のスクラッチ実装を完成させてください。行列AとBを引数に受け取り、行列積を返す関数としてください。\n",
        "\n",
        "\n",
        "行列積を計算する場合は、問題3の計算を異なる行や列に対して繰り返していくことになります。\n",
        "\n",
        "計算結果である $3 \\times 3$ の行列Cの各要素 $c_{i, j}$ は数式で表すと次のようになります。\n",
        "\n",
        "\n",
        "c\n",
        "i\n",
        ",\n",
        "j\n",
        "=\n",
        "2\n",
        "∑\n",
        "k\n",
        "=\n",
        "0\n",
        " \n",
        "a\n",
        "i\n",
        ",\n",
        "k\n",
        "b\n",
        "k\n",
        ",\n",
        "j\n",
        "\n",
        "for文を使い、ndarrayのインデックスを動かしていくことで、合計9つの要素が計算できます。インデックス $i$ や $j$ を1増やすと、次の行や列に移ることができます。\n",
        "\n"
      ]
    },
    {
      "cell_type": "code",
      "metadata": {
        "colab": {
          "base_uri": "https://localhost:8080/"
        },
        "id": "fZeUZ4Kyw8Rm",
        "outputId": "1a92b5d8-7406-44db-c752-0b2c35bdd9da"
      },
      "source": [
        "def matrix_product(a_ndarray, b_ndarray):\n",
        "  \"\"\"\n",
        "  行列Aと行列Bをインプットすると行列積ABを返す関数\n",
        "　　　　Parameters\n",
        "  -----------\n",
        "  a_ndarray : ndarray型\n",
        "  　　　　行列A\n",
        "  b_ndarray : ndarray型\n",
        "  　　　　行列B\n",
        "\n",
        "  Returns\n",
        "  -----------\n",
        "  result : ndarray型\n",
        "  　　　　行列積AB\n",
        "  \"\"\"\n",
        "  # リストに計算結果を格納し、後ほど処理する\n",
        "  result = np.empty((a_ndarray.shape[0], b_ndarray.shape[1]))\n",
        "  \n",
        "  for i in range(a_ndarray.shape[0]):\n",
        "    for j in range(b_ndarray.shape[1]):\n",
        "      result[i, j] = (a_ndarray[i, :]*b_ndarray[:, j]).sum()\n",
        "\n",
        "  return result\n",
        "\n",
        "a_ndarray = np.array([[-1, 2, 3], [4, -5, 6], [7, 8, -9]])\n",
        "b_ndarray = np.array([[0, 2, 1], [0, 2, -8], [2, 9, -1]])\n",
        "print(\"計算結果{}\".format(matrix_product(a_ndarray, b_ndarray)))"
      ],
      "execution_count": 17,
      "outputs": [
        {
          "output_type": "stream",
          "text": [
            "計算結果[[  6.  29. -20.]\n",
            " [ 12.  52.  38.]\n",
            " [-18. -51. -48.]]\n"
          ],
          "name": "stdout"
        }
      ]
    },
    {
      "cell_type": "markdown",
      "metadata": {
        "id": "JLwXeo61uz1g"
      },
      "source": [
        "【問題５】計算が定義されない入力を判定する\n"
      ]
    },
    {
      "cell_type": "markdown",
      "metadata": {
        "id": "zA9qHC3DzAsZ"
      },
      "source": [
        "問題4で作成した関数は、実装方法によってはこのDとEの配列を入力しても動いてしまう可能性があります。この場合、不適切な計算が行われることになります。また、途中でエラーになる場合でも、なぜエラーになったかが直接的には分かりづらいメッセージが表示されます。\n",
        "\n",
        "\n",
        "if文などによってこれを防ぎ、入力される形に問題があることをprint()を使い表示するコードを書き加えてください。"
      ]
    },
    {
      "cell_type": "code",
      "metadata": {
        "colab": {
          "base_uri": "https://localhost:8080/"
        },
        "id": "5TnHRnHOb_xl",
        "outputId": "ad059338-84fb-4b97-a760-cb947988ed2e"
      },
      "source": [
        "def matrix_product(d_ndarray, e_ndarray):\n",
        "  \"\"\"\n",
        "  行列Dと行列Eをインプットすると行列積DEを返す関数\n",
        "　　　　Parameters\n",
        "  -----------\n",
        "  d_ndarray : ndarray型\n",
        "  　　　　行列D\n",
        "  e_ndarray : ndarray型\n",
        "  　　　　行列E\n",
        "\n",
        "  Returns\n",
        "  -----------\n",
        "  result : ndarray型\n",
        "  　　　　行列積DE\n",
        "  \"\"\"\n",
        "  # リストに計算結果を格納し、後ほど処理する\n",
        "  result2 = np.empty((d_ndarray.shape[0], e_ndarray.shape[1]))\n",
        "  \n",
        "  # dの列数とeの行数を比較し、等しい場合にしか処理しないようにする\n",
        "  if d_ndarray.shape[1] == e_ndarray.shape[0]:\n",
        "    result2 = (d_ndarray[:, np.newaxis, :]*e_ndarray.T).sum(axis = 2)\n",
        "    return result2\n",
        "  else:\n",
        "    print(\"{}と{}は不一致であるため不適切な計算が行われることになります\".format(d_ndarray.shape[1], e_ndarray.shape[0]))\n",
        "    return None\n",
        "\n",
        "d_ndarray = np.array([[-1, 2, 3], [4, -5, 6]])\n",
        "e_ndarray = np.array([[-9, 8, 7], [6, -5, 4]])\n",
        "print(\"計算結果は、{}\".format(matrix_product(d_ndarray, e_ndarray)))"
      ],
      "execution_count": 19,
      "outputs": [
        {
          "output_type": "stream",
          "text": [
            "3と2は不一致であるため不適切な計算が行われることになります\n",
            "計算結果は、None\n"
          ],
          "name": "stdout"
        }
      ]
    },
    {
      "cell_type": "markdown",
      "metadata": {
        "id": "gPG1uy3dzCTJ"
      },
      "source": [
        "【問題６】転置\n",
        "\n",
        "片方の行列を転置することで、行列積が計算できるようになります。\n",
        "\n",
        "\n",
        "np.transpose()や.Tアトリビュートを用いて転置し、行列積を計算してください。"
      ]
    },
    {
      "cell_type": "code",
      "metadata": {
        "id": "_1f27WOn0nrv"
      },
      "source": [
        "d = d_ndarray = np.array([[-1, 2, 3], [4, -5, 6]])\n",
        "e = e_ndarray = np.array([[-9, 8, 7], [6, -5, 4]])"
      ],
      "execution_count": 24,
      "outputs": []
    },
    {
      "cell_type": "code",
      "metadata": {
        "colab": {
          "base_uri": "https://localhost:8080/"
        },
        "id": "LDsNjtse0sh0",
        "outputId": "ee870361-c244-431f-b4ba-ffe7e332d788"
      },
      "source": [
        "# 行列Eを転置した場合\n",
        "eT_ndarray = e.T\n",
        "print(d@eT_ndarray)"
      ],
      "execution_count": 27,
      "outputs": [
        {
          "output_type": "stream",
          "text": [
            "[[ 46  -4]\n",
            " [-34  73]]\n"
          ],
          "name": "stdout"
        }
      ]
    },
    {
      "cell_type": "code",
      "metadata": {
        "colab": {
          "base_uri": "https://localhost:8080/"
        },
        "id": "zWlxDEEcgLz0",
        "outputId": "39a044df-c7a0-48d5-bf5b-4e201cfc2012"
      },
      "source": [
        "# 行列Dを転置した場合\n",
        "dT_ndarray = d.T\n",
        "print(dT_ndarray@e)"
      ],
      "execution_count": 28,
      "outputs": [
        {
          "output_type": "stream",
          "text": [
            "[[ 33 -28   9]\n",
            " [-48  41  -6]\n",
            " [  9  -6  45]]\n"
          ],
          "name": "stdout"
        }
      ]
    }
  ]
}
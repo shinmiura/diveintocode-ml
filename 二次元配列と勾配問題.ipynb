{
  "nbformat": 4,
  "nbformat_minor": 0,
  "metadata": {
    "colab": {
      "name": "二次元配列と勾配問題.ipynb",
      "provenance": [],
      "collapsed_sections": [],
      "authorship_tag": "ABX9TyM1u4WsznSXyZ3RVVc9soRR",
      "include_colab_link": true
    },
    "kernelspec": {
      "name": "python3",
      "display_name": "Python 3"
    },
    "language_info": {
      "name": "python"
    }
  },
  "cells": [
    {
      "cell_type": "markdown",
      "metadata": {
        "id": "view-in-github",
        "colab_type": "text"
      },
      "source": [
        "<a href=\"https://colab.research.google.com/github/shinmiura/diveintocode-ml/blob/master/%E4%BA%8C%E6%AC%A1%E5%85%83%E9%85%8D%E5%88%97%E3%81%A8%E5%8B%BE%E9%85%8D%E5%95%8F%E9%A1%8C.ipynb\" target=\"_parent\"><img src=\"https://colab.research.google.com/assets/colab-badge.svg\" alt=\"Open In Colab\"/></a>"
      ]
    },
    {
      "cell_type": "markdown",
      "metadata": {
        "id": "q444rSBXx8eZ"
      },
      "source": [
        "テキストの目的\n",
        "\n",
        "・数式演算ライブラリのNumPyに慣れる\n",
        "\n",
        "・勾配を求めてみる"
      ]
    },
    {
      "cell_type": "markdown",
      "metadata": {
        "id": "O3njruwRx88r"
      },
      "source": [
        "どのように学ぶか\n",
        "\n",
        "NumPyについていろいろな機能に触れつつ、勾配について学んでいきます。"
      ]
    },
    {
      "cell_type": "markdown",
      "metadata": {
        "id": "L9S3NBLUyuLz"
      },
      "source": [
        "【問題１】１次関数\n",
        "\n",
        "$x$ が-50から50の範囲で次の式を考えます。\n",
        "\n",
        "\n",
        "y　= (1/2) * x + 1\n",
        "\n",
        "-50から50まで0.1間隔のxを表すndarrayと、各要素に対するyを表すndarrayを作成してください。"
      ]
    },
    {
      "cell_type": "code",
      "metadata": {
        "colab": {
          "base_uri": "https://localhost:8080/"
        },
        "id": "NtJbIuJuzhOo",
        "outputId": "1393987f-c4d1-4adb-9030-8ac478df7314"
      },
      "source": [
        "import numpy as np\n",
        "\n",
        "# x\n",
        "x_array = np.arange(-50, 50.1, 0.1)\n",
        "print(x_array.shape)\n",
        "\n",
        "# y = 1/2* x + 1\n",
        "y_array = 1/2 * (x_array) + 1\n",
        "\n",
        "print(y_array.shape)"
      ],
      "execution_count": 2,
      "outputs": [
        {
          "output_type": "stream",
          "text": [
            "(1001,)\n",
            "(1001,)\n"
          ],
          "name": "stdout"
        }
      ]
    },
    {
      "cell_type": "markdown",
      "metadata": {
        "id": "_dUFFMmdzhk5"
      },
      "source": [
        "【問題２】配列の結合\n",
        "\n",
        "問題1で作成したndarrayを結合し、(1001, 2)の形の配列にしてください。0列目にx、1列目にyが来るようにします。\n",
        "\n"
      ]
    },
    {
      "cell_type": "code",
      "metadata": {
        "colab": {
          "base_uri": "https://localhost:8080/"
        },
        "id": "QXeUS9Vz6MNG",
        "outputId": "3e4aad6e-e205-49de-81c3-ed8353c7f0c5"
      },
      "source": [
        "# 縦に結合したいのでvstackを使う。行方向なので転置して0列目にx、1列目にyが来るようにする。\n",
        "xy_array = np.vstack([x_array, y_array]).T\n",
        "print(xy_array)"
      ],
      "execution_count": 5,
      "outputs": [
        {
          "output_type": "stream",
          "text": [
            "[[-50.   -24.  ]\n",
            " [-49.9  -23.95]\n",
            " [-49.8  -23.9 ]\n",
            " ...\n",
            " [ 49.8   25.9 ]\n",
            " [ 49.9   25.95]\n",
            " [ 50.    26.  ]]\n"
          ],
          "name": "stdout"
        }
      ]
    },
    {
      "cell_type": "markdown",
      "metadata": {
        "id": "OyljiVr4zuVz"
      },
      "source": [
        "【問題３】勾配を求める\n",
        "\n",
        "各x座標における勾配を求めます。ここで勾配はyの変化量をxの変化量で割ることで計算します。\n",
        "\n",
        "\n",
        "勾配 = yの変化量　/ **xの変化量**　\n",
        "\n",
        "\n",
        "各変化量は以下の図のように隣同士の要素の差から近似的に求めます。"
      ]
    },
    {
      "cell_type": "markdown",
      "metadata": {
        "id": "TIukBeao0xl0"
      },
      "source": [
        "《注意》\n",
        "\n",
        "\n",
        "厳密に各点における勾配を求めるには極限（微分）を利用する必要があります\n",
        "勾配はx座標の間隔を使うので、xの要素数に対して一つ少なくなります"
      ]
    },
    {
      "cell_type": "code",
      "metadata": {
        "colab": {
          "base_uri": "https://localhost:8080/"
        },
        "id": "XEw0FU2z6mDB",
        "outputId": "df89ccbe-443c-4939-fbbe-75c93071be04"
      },
      "source": [
        "print(x_array)\n",
        "print(y_array)"
      ],
      "execution_count": 7,
      "outputs": [
        {
          "output_type": "stream",
          "text": [
            "[-50.  -49.9 -49.8 ...  49.8  49.9  50. ]\n",
            "[-24.   -23.95 -23.9  ...  25.9   25.95  26.  ]\n"
          ],
          "name": "stdout"
        }
      ]
    },
    {
      "cell_type": "code",
      "metadata": {
        "colab": {
          "base_uri": "https://localhost:8080/"
        },
        "id": "yFxOkp-M6Q3c",
        "outputId": "893bb841-850a-4530-b98b-4939b753f2b9"
      },
      "source": [
        "# xの変化量\n",
        "x_diff = x_array[1:] - x_array[:-1]\n",
        "\n",
        "# yの変化量\n",
        "y_diff = y_array[1:] - y_array[:-1]\n",
        "\n",
        "kobai = y_diff / x_diff\n",
        "                    \n",
        "print(kobai)"
      ],
      "execution_count": 8,
      "outputs": [
        {
          "output_type": "stream",
          "text": [
            "[0.5 0.5 0.5 0.5 0.5 0.5 0.5 0.5 0.5 0.5 0.5 0.5 0.5 0.5 0.5 0.5 0.5 0.5\n",
            " 0.5 0.5 0.5 0.5 0.5 0.5 0.5 0.5 0.5 0.5 0.5 0.5 0.5 0.5 0.5 0.5 0.5 0.5\n",
            " 0.5 0.5 0.5 0.5 0.5 0.5 0.5 0.5 0.5 0.5 0.5 0.5 0.5 0.5 0.5 0.5 0.5 0.5\n",
            " 0.5 0.5 0.5 0.5 0.5 0.5 0.5 0.5 0.5 0.5 0.5 0.5 0.5 0.5 0.5 0.5 0.5 0.5\n",
            " 0.5 0.5 0.5 0.5 0.5 0.5 0.5 0.5 0.5 0.5 0.5 0.5 0.5 0.5 0.5 0.5 0.5 0.5\n",
            " 0.5 0.5 0.5 0.5 0.5 0.5 0.5 0.5 0.5 0.5 0.5 0.5 0.5 0.5 0.5 0.5 0.5 0.5\n",
            " 0.5 0.5 0.5 0.5 0.5 0.5 0.5 0.5 0.5 0.5 0.5 0.5 0.5 0.5 0.5 0.5 0.5 0.5\n",
            " 0.5 0.5 0.5 0.5 0.5 0.5 0.5 0.5 0.5 0.5 0.5 0.5 0.5 0.5 0.5 0.5 0.5 0.5\n",
            " 0.5 0.5 0.5 0.5 0.5 0.5 0.5 0.5 0.5 0.5 0.5 0.5 0.5 0.5 0.5 0.5 0.5 0.5\n",
            " 0.5 0.5 0.5 0.5 0.5 0.5 0.5 0.5 0.5 0.5 0.5 0.5 0.5 0.5 0.5 0.5 0.5 0.5\n",
            " 0.5 0.5 0.5 0.5 0.5 0.5 0.5 0.5 0.5 0.5 0.5 0.5 0.5 0.5 0.5 0.5 0.5 0.5\n",
            " 0.5 0.5 0.5 0.5 0.5 0.5 0.5 0.5 0.5 0.5 0.5 0.5 0.5 0.5 0.5 0.5 0.5 0.5\n",
            " 0.5 0.5 0.5 0.5 0.5 0.5 0.5 0.5 0.5 0.5 0.5 0.5 0.5 0.5 0.5 0.5 0.5 0.5\n",
            " 0.5 0.5 0.5 0.5 0.5 0.5 0.5 0.5 0.5 0.5 0.5 0.5 0.5 0.5 0.5 0.5 0.5 0.5\n",
            " 0.5 0.5 0.5 0.5 0.5 0.5 0.5 0.5 0.5 0.5 0.5 0.5 0.5 0.5 0.5 0.5 0.5 0.5\n",
            " 0.5 0.5 0.5 0.5 0.5 0.5 0.5 0.5 0.5 0.5 0.5 0.5 0.5 0.5 0.5 0.5 0.5 0.5\n",
            " 0.5 0.5 0.5 0.5 0.5 0.5 0.5 0.5 0.5 0.5 0.5 0.5 0.5 0.5 0.5 0.5 0.5 0.5\n",
            " 0.5 0.5 0.5 0.5 0.5 0.5 0.5 0.5 0.5 0.5 0.5 0.5 0.5 0.5 0.5 0.5 0.5 0.5\n",
            " 0.5 0.5 0.5 0.5 0.5 0.5 0.5 0.5 0.5 0.5 0.5 0.5 0.5 0.5 0.5 0.5 0.5 0.5\n",
            " 0.5 0.5 0.5 0.5 0.5 0.5 0.5 0.5 0.5 0.5 0.5 0.5 0.5 0.5 0.5 0.5 0.5 0.5\n",
            " 0.5 0.5 0.5 0.5 0.5 0.5 0.5 0.5 0.5 0.5 0.5 0.5 0.5 0.5 0.5 0.5 0.5 0.5\n",
            " 0.5 0.5 0.5 0.5 0.5 0.5 0.5 0.5 0.5 0.5 0.5 0.5 0.5 0.5 0.5 0.5 0.5 0.5\n",
            " 0.5 0.5 0.5 0.5 0.5 0.5 0.5 0.5 0.5 0.5 0.5 0.5 0.5 0.5 0.5 0.5 0.5 0.5\n",
            " 0.5 0.5 0.5 0.5 0.5 0.5 0.5 0.5 0.5 0.5 0.5 0.5 0.5 0.5 0.5 0.5 0.5 0.5\n",
            " 0.5 0.5 0.5 0.5 0.5 0.5 0.5 0.5 0.5 0.5 0.5 0.5 0.5 0.5 0.5 0.5 0.5 0.5\n",
            " 0.5 0.5 0.5 0.5 0.5 0.5 0.5 0.5 0.5 0.5 0.5 0.5 0.5 0.5 0.5 0.5 0.5 0.5\n",
            " 0.5 0.5 0.5 0.5 0.5 0.5 0.5 0.5 0.5 0.5 0.5 0.5 0.5 0.5 0.5 0.5 0.5 0.5\n",
            " 0.5 0.5 0.5 0.5 0.5 0.5 0.5 0.5 0.5 0.5 0.5 0.5 0.5 0.5 0.5 0.5 0.5 0.5\n",
            " 0.5 0.5 0.5 0.5 0.5 0.5 0.5 0.5 0.5 0.5 0.5 0.5 0.5 0.5 0.5 0.5 0.5 0.5\n",
            " 0.5 0.5 0.5 0.5 0.5 0.5 0.5 0.5 0.5 0.5 0.5 0.5 0.5 0.5 0.5 0.5 0.5 0.5\n",
            " 0.5 0.5 0.5 0.5 0.5 0.5 0.5 0.5 0.5 0.5 0.5 0.5 0.5 0.5 0.5 0.5 0.5 0.5\n",
            " 0.5 0.5 0.5 0.5 0.5 0.5 0.5 0.5 0.5 0.5 0.5 0.5 0.5 0.5 0.5 0.5 0.5 0.5\n",
            " 0.5 0.5 0.5 0.5 0.5 0.5 0.5 0.5 0.5 0.5 0.5 0.5 0.5 0.5 0.5 0.5 0.5 0.5\n",
            " 0.5 0.5 0.5 0.5 0.5 0.5 0.5 0.5 0.5 0.5 0.5 0.5 0.5 0.5 0.5 0.5 0.5 0.5\n",
            " 0.5 0.5 0.5 0.5 0.5 0.5 0.5 0.5 0.5 0.5 0.5 0.5 0.5 0.5 0.5 0.5 0.5 0.5\n",
            " 0.5 0.5 0.5 0.5 0.5 0.5 0.5 0.5 0.5 0.5 0.5 0.5 0.5 0.5 0.5 0.5 0.5 0.5\n",
            " 0.5 0.5 0.5 0.5 0.5 0.5 0.5 0.5 0.5 0.5 0.5 0.5 0.5 0.5 0.5 0.5 0.5 0.5\n",
            " 0.5 0.5 0.5 0.5 0.5 0.5 0.5 0.5 0.5 0.5 0.5 0.5 0.5 0.5 0.5 0.5 0.5 0.5\n",
            " 0.5 0.5 0.5 0.5 0.5 0.5 0.5 0.5 0.5 0.5 0.5 0.5 0.5 0.5 0.5 0.5 0.5 0.5\n",
            " 0.5 0.5 0.5 0.5 0.5 0.5 0.5 0.5 0.5 0.5 0.5 0.5 0.5 0.5 0.5 0.5 0.5 0.5\n",
            " 0.5 0.5 0.5 0.5 0.5 0.5 0.5 0.5 0.5 0.5 0.5 0.5 0.5 0.5 0.5 0.5 0.5 0.5\n",
            " 0.5 0.5 0.5 0.5 0.5 0.5 0.5 0.5 0.5 0.5 0.5 0.5 0.5 0.5 0.5 0.5 0.5 0.5\n",
            " 0.5 0.5 0.5 0.5 0.5 0.5 0.5 0.5 0.5 0.5 0.5 0.5 0.5 0.5 0.5 0.5 0.5 0.5\n",
            " 0.5 0.5 0.5 0.5 0.5 0.5 0.5 0.5 0.5 0.5 0.5 0.5 0.5 0.5 0.5 0.5 0.5 0.5\n",
            " 0.5 0.5 0.5 0.5 0.5 0.5 0.5 0.5 0.5 0.5 0.5 0.5 0.5 0.5 0.5 0.5 0.5 0.5\n",
            " 0.5 0.5 0.5 0.5 0.5 0.5 0.5 0.5 0.5 0.5 0.5 0.5 0.5 0.5 0.5 0.5 0.5 0.5\n",
            " 0.5 0.5 0.5 0.5 0.5 0.5 0.5 0.5 0.5 0.5 0.5 0.5 0.5 0.5 0.5 0.5 0.5 0.5\n",
            " 0.5 0.5 0.5 0.5 0.5 0.5 0.5 0.5 0.5 0.5 0.5 0.5 0.5 0.5 0.5 0.5 0.5 0.5\n",
            " 0.5 0.5 0.5 0.5 0.5 0.5 0.5 0.5 0.5 0.5 0.5 0.5 0.5 0.5 0.5 0.5 0.5 0.5\n",
            " 0.5 0.5 0.5 0.5 0.5 0.5 0.5 0.5 0.5 0.5 0.5 0.5 0.5 0.5 0.5 0.5 0.5 0.5\n",
            " 0.5 0.5 0.5 0.5 0.5 0.5 0.5 0.5 0.5 0.5 0.5 0.5 0.5 0.5 0.5 0.5 0.5 0.5\n",
            " 0.5 0.5 0.5 0.5 0.5 0.5 0.5 0.5 0.5 0.5 0.5 0.5 0.5 0.5 0.5 0.5 0.5 0.5\n",
            " 0.5 0.5 0.5 0.5 0.5 0.5 0.5 0.5 0.5 0.5 0.5 0.5 0.5 0.5 0.5 0.5 0.5 0.5\n",
            " 0.5 0.5 0.5 0.5 0.5 0.5 0.5 0.5 0.5 0.5 0.5 0.5 0.5 0.5 0.5 0.5 0.5 0.5\n",
            " 0.5 0.5 0.5 0.5 0.5 0.5 0.5 0.5 0.5 0.5 0.5 0.5 0.5 0.5 0.5 0.5 0.5 0.5\n",
            " 0.5 0.5 0.5 0.5 0.5 0.5 0.5 0.5 0.5 0.5]\n"
          ],
          "name": "stdout"
        }
      ]
    },
    {
      "cell_type": "markdown",
      "metadata": {
        "id": "XiP267_O01B_"
      },
      "source": [
        "【問題４】　グラフを描く"
      ]
    },
    {
      "cell_type": "code",
      "metadata": {
        "colab": {
          "base_uri": "https://localhost:8080/",
          "height": 295
        },
        "id": "ziQhfEtI08hG",
        "outputId": "25e01406-eaa4-4318-be4c-45d51f96647a"
      },
      "source": [
        "# 1次関数\n",
        "import matplotlib.pyplot as plt\n",
        "%matplotlib inline\n",
        "\n",
        "plt.title(\"Linear Function\")\n",
        "plt.xlabel(\"x_array\")\n",
        "plt.ylabel(\"y_array\")\n",
        "plt.plot(x_array, y_array)\n",
        "plt.grid(linestyle=\"dotted\")\n",
        "plt.show()"
      ],
      "execution_count": 9,
      "outputs": [
        {
          "output_type": "display_data",
          "data": {
            "image/png": "[encoded data removed]",
            "text/plain": [
              "<Figure size 432x288 with 1 Axes>"
            ]
          },
          "metadata": {
            "tags": [],
            "needs_background": "light"
          }
        }
      ]
    },
    {
      "cell_type": "code",
      "metadata": {
        "colab": {
          "base_uri": "https://localhost:8080/",
          "height": 295
        },
        "id": "zL7gYUCz7ijH",
        "outputId": "7bd31b5a-1e45-47c3-a4e4-0cfdaf7bdcfb"
      },
      "source": [
        "import matplotlib.pyplot as plt\n",
        "%matplotlib inline\n",
        "\n",
        "plt.title(\"KOBAI\")\n",
        "plt.xlabel(\"x_array\")\n",
        "plt.ylabel(\"kobai\")\n",
        "plt.plot(x_array[1:], kobai)\n",
        "plt.grid(linestyle=\"dotted\")\n",
        "plt.show()"
      ],
      "execution_count": 11,
      "outputs": [
        {
          "output_type": "display_data",
          "data": {
            "image/png": "[encoded data removed]",
            "text/plain": [
              "<Figure size 432x288 with 1 Axes>"
            ]
          },
          "metadata": {
            "tags": [],
            "needs_background": "light"
          }
        }
      ]
    },
    {
      "cell_type": "markdown",
      "metadata": {
        "id": "s4Z45fP0085l"
      },
      "source": [
        "【問題5】Pythonの関数化\n"
      ]
    },
    {
      "cell_type": "markdown",
      "metadata": {
        "id": "gw75RrPH7wpq"
      },
      "source": [
        "問題1から問題3までの範囲をまとめて行うPythonの関数を雛形を参考に作成してください。\n",
        "\n",
        "\n",
        "そして、以下の3式の勾配を0.1間隔で求めてndarrayで出力してください。\n",
        "\n",
        "\n",
        "y\n",
        "=\n",
        "x\n",
        "2\n",
        "(\n",
        "−\n",
        "50\n",
        "≤\n",
        "x\n",
        "≤\n",
        "50\n",
        ")\n",
        "y\n",
        "=\n",
        "2\n",
        "x\n",
        "2\n",
        "+\n",
        "2\n",
        "x\n",
        "(\n",
        "−\n",
        "50\n",
        "≤\n",
        "x\n",
        "≤\n",
        "50\n",
        ")\n",
        "y\n",
        "=\n",
        "s\n",
        "i\n",
        "n\n",
        "(\n",
        "x\n",
        "1\n",
        "2\n",
        ")\n",
        "(\n",
        "0\n",
        "≤\n",
        "x\n",
        "≤\n",
        "50\n",
        ")\n",
        "\n",
        "また、問題4と同様にグラフを描いてください。\n",
        "\n",
        "\n",
        "ndarrayに対して三角関数のsinの計算を行うには np.sin()を用います。"
      ]
    },
    {
      "cell_type": "code",
      "metadata": {
        "id": "GSRIJLXM2TbY"
      },
      "source": [
        "def compute_gradient(function, x_range=(-50, 50.1, 0.1)):\n",
        "    \"\"\"\n",
        "    変化量を使い勾配を計算する。\n",
        "    Parameters\n",
        "    ----------------\n",
        "    function : function\n",
        "      求めたい関数、xのndarrayを入れるとyのndarrayを返すもの。\n",
        "    x_range : tuple\n",
        "      np.arange()の引数と同じ方法で範囲を指定する。\n",
        "    Returns\n",
        "    ----------------\n",
        "    array_xy : ndarray, shape(n, 2)\n",
        "      xとyを結合したもの。nはx_rangeに依存する。\n",
        "    gradient : ndarray, shape(n-1,)\n",
        "      関数の勾配。差をとるため要素は1つ減る\n",
        "    \"\"\"\n",
        "    \n",
        "    array_x = np.arange(*x_range)\n",
        "    array_y = function(array_x)\n",
        "    array_xy = np.concatenate((array_x[:, np.newaxis], array_y[:, np.newaxis]), axis = 1)\n",
        "    gradient = (array_xy[1:, 1] - array_xy[:-1, 1] / array_xy[1:, 0] - array_xy[:-1, 0])\n",
        "\n",
        "    return array_xy, gradient\n",
        "\n"
      ],
      "execution_count": 12,
      "outputs": []
    },
    {
      "cell_type": "code",
      "metadata": {
        "id": "rVpSNfprh4cl"
      },
      "source": [
        "def function1(array_x):\n",
        "    \"\"\"\n",
        "    y = x ^ 2を計算する。\n",
        "    Parameters\n",
        "    ----------------\n",
        "    array_x : ndarray, shape(n, 2)\n",
        "      求めたい関数、xのndarrayを入れるとyのndarrayを返すもの。\n",
        "    x_range : tuple\n",
        "      np.arange()の引数と同じ方法で範囲を指定する。\n",
        "    Returns\n",
        "    ----------------\n",
        "    array_x**2 : ndarray, shape(n, 2)\n",
        "      xとyを結合したもの。nはx_rangeに依存する。\n",
        "    gradient : ndarray, shape(n-1,)\n",
        "      関数の勾配。差をとるため要素は1つ減る\n",
        "    \"\"\"\n",
        "\n",
        "    return array_x ** 2\n",
        "array_xy2, gradient2 = compute_gradient(function1)"
      ],
      "execution_count": 13,
      "outputs": []
    },
    {
      "cell_type": "code",
      "metadata": {
        "colab": {
          "base_uri": "https://localhost:8080/"
        },
        "id": "h2nbGYx42c6A",
        "outputId": "73db641f-a293-4cbc-e6b8-ffdb7c834980"
      },
      "source": [
        "print(array_xy2)"
      ],
      "execution_count": 14,
      "outputs": [
        {
          "output_type": "stream",
          "text": [
            "[[ -50.   2500.  ]\n",
            " [ -49.9  2490.01]\n",
            " [ -49.8  2480.04]\n",
            " ...\n",
            " [  49.8  2480.04]\n",
            " [  49.9  2490.01]\n",
            " [  50.   2500.  ]]\n"
          ],
          "name": "stdout"
        }
      ]
    },
    {
      "cell_type": "code",
      "metadata": {
        "colab": {
          "base_uri": "https://localhost:8080/"
        },
        "id": "zvlmdu7t28E7",
        "outputId": "e6881109-25f8-48b4-85ac-b9c7d4e05b8c"
      },
      "source": [
        "print(gradient2)"
      ],
      "execution_count": 15,
      "outputs": [
        {
          "output_type": "stream",
          "text": [
            "[ 2.59011020e+03  2.57994020e+03  2.56979020e+03  2.55966020e+03\n",
            "  2.54955020e+03  2.53946020e+03  2.52939020e+03  2.51934020e+03\n",
            "  2.50931020e+03  2.49930020e+03  2.48931020e+03  2.47934020e+03\n",
            "  2.46939021e+03  2.45946021e+03  2.44955021e+03  2.43966021e+03\n",
            "  2.42979021e+03  2.41994021e+03  2.41011021e+03  2.40030021e+03\n",
            "  2.39051021e+03  2.38074021e+03  2.37099021e+03  2.36126021e+03\n",
            "  2.35155021e+03  2.34186021e+03  2.33219021e+03  2.32254021e+03\n",
            "  2.31291021e+03  2.30330021e+03  2.29371021e+03  2.28414021e+03\n",
            "  2.27459021e+03  2.26506021e+03  2.25555022e+03  2.24606022e+03\n",
            "  2.23659022e+03  2.22714022e+03  2.21771022e+03  2.20830022e+03\n",
            "  2.19891022e+03  2.18954022e+03  2.18019022e+03  2.17086022e+03\n",
            "  2.16155022e+03  2.15226022e+03  2.14299022e+03  2.13374022e+03\n",
            "  2.12451022e+03  2.11530022e+03  2.10611022e+03  2.09694022e+03\n",
            "  2.08779022e+03  2.07866022e+03  2.06955022e+03  2.06046023e+03\n",
            "  2.05139023e+03  2.04234023e+03  2.03331023e+03  2.02430023e+03\n",
            "  2.01531023e+03  2.00634023e+03  1.99739023e+03  1.98846023e+03\n",
            "  1.97955023e+03  1.97066023e+03  1.96179023e+03  1.95294023e+03\n",
            "  1.94411023e+03  1.93530023e+03  1.92651023e+03  1.91774023e+03\n",
            "  1.90899023e+03  1.90026023e+03  1.89155024e+03  1.88286024e+03\n",
            "  1.87419024e+03  1.86554024e+03  1.85691024e+03  1.84830024e+03\n",
            "  1.83971024e+03  1.83114024e+03  1.82259024e+03  1.81406024e+03\n",
            "  1.80555024e+03  1.79706024e+03  1.78859024e+03  1.78014024e+03\n",
            "  1.77171024e+03  1.76330024e+03  1.75491024e+03  1.74654025e+03\n",
            "  1.73819025e+03  1.72986025e+03  1.72155025e+03  1.71326025e+03\n",
            "  1.70499025e+03  1.69674025e+03  1.68851025e+03  1.68030025e+03\n",
            "  1.67211025e+03  1.66394025e+03  1.65579025e+03  1.64766025e+03\n",
            "  1.63955025e+03  1.63146025e+03  1.62339025e+03  1.61534026e+03\n",
            "  1.60731026e+03  1.59930026e+03  1.59131026e+03  1.58334026e+03\n",
            "  1.57539026e+03  1.56746026e+03  1.55955026e+03  1.55166026e+03\n",
            "  1.54379026e+03  1.53594026e+03  1.52811026e+03  1.52030026e+03\n",
            "  1.51251026e+03  1.50474026e+03  1.49699027e+03  1.48926027e+03\n",
            "  1.48155027e+03  1.47386027e+03  1.46619027e+03  1.45854027e+03\n",
            "  1.45091027e+03  1.44330027e+03  1.43571027e+03  1.42814027e+03\n",
            "  1.42059027e+03  1.41306027e+03  1.40555027e+03  1.39806027e+03\n",
            "  1.39059028e+03  1.38314028e+03  1.37571028e+03  1.36830028e+03\n",
            "  1.36091028e+03  1.35354028e+03  1.34619028e+03  1.33886028e+03\n",
            "  1.33155028e+03  1.32426028e+03  1.31699028e+03  1.30974028e+03\n",
            "  1.30251028e+03  1.29530029e+03  1.28811029e+03  1.28094029e+03\n",
            "  1.27379029e+03  1.26666029e+03  1.25955029e+03  1.25246029e+03\n",
            "  1.24539029e+03  1.23834029e+03  1.23131029e+03  1.22430029e+03\n",
            "  1.21731029e+03  1.21034030e+03  1.20339030e+03  1.19646030e+03\n",
            "  1.18955030e+03  1.18266030e+03  1.17579030e+03  1.16894030e+03\n",
            "  1.16211030e+03  1.15530030e+03  1.14851030e+03  1.14174030e+03\n",
            "  1.13499031e+03  1.12826031e+03  1.12155031e+03  1.11486031e+03\n",
            "  1.10819031e+03  1.10154031e+03  1.09491031e+03  1.08830031e+03\n",
            "  1.08171031e+03  1.07514031e+03  1.06859032e+03  1.06206032e+03\n",
            "  1.05555032e+03  1.04906032e+03  1.04259032e+03  1.03614032e+03\n",
            "  1.02971032e+03  1.02330032e+03  1.01691032e+03  1.01054032e+03\n",
            "  1.00419033e+03  9.97860327e+02  9.91550328e+02  9.85260329e+02\n",
            "  9.78990330e+02  9.72740331e+02  9.66510332e+02  9.60300333e+02\n",
            "  9.54110334e+02  9.47940336e+02  9.41790337e+02  9.35660338e+02\n",
            "  9.29550339e+02  9.23460340e+02  9.17390341e+02  9.11340342e+02\n",
            "  9.05310344e+02  8.99300345e+02  8.93310346e+02  8.87340347e+02\n",
            "  8.81390348e+02  8.75460350e+02  8.69550351e+02  8.63660352e+02\n",
            "  8.57790353e+02  8.51940355e+02  8.46110356e+02  8.40300357e+02\n",
            "  8.34510358e+02  8.28740360e+02  8.22990361e+02  8.17260362e+02\n",
            "  8.11550364e+02  8.05860365e+02  8.00190366e+02  7.94540368e+02\n",
            "  7.88910369e+02  7.83300370e+02  7.77710372e+02  7.72140373e+02\n",
            "  7.66590375e+02  7.61060376e+02  7.55550377e+02  7.50060379e+02\n",
            "  7.44590380e+02  7.39140382e+02  7.33710383e+02  7.28300385e+02\n",
            "  7.22910386e+02  7.17540388e+02  7.12190389e+02  7.06860391e+02\n",
            "  7.01550392e+02  6.96260394e+02  6.90990395e+02  6.85740397e+02\n",
            "  6.80510398e+02  6.75300400e+02  6.70110402e+02  6.64940403e+02\n",
            "  6.59790405e+02  6.54660407e+02  6.49550408e+02  6.44460410e+02\n",
            "  6.39390412e+02  6.34340413e+02  6.29310415e+02  6.24300417e+02\n",
            "  6.19310418e+02  6.14340420e+02  6.09390422e+02  6.04460424e+02\n",
            "  5.99550426e+02  5.94660427e+02  5.89790429e+02  5.84940431e+02\n",
            "  5.80110433e+02  5.75300435e+02  5.70510437e+02  5.65740439e+02\n",
            "  5.60990441e+02  5.56260442e+02  5.51550444e+02  5.46860446e+02\n",
            "  5.42190448e+02  5.37540450e+02  5.32910452e+02  5.28300455e+02\n",
            "  5.23710457e+02  5.19140459e+02  5.14590461e+02  5.10060463e+02\n",
            "  5.05550465e+02  5.01060467e+02  4.96590469e+02  4.92140472e+02\n",
            "  4.87710474e+02  4.83300476e+02  4.78910478e+02  4.74540481e+02\n",
            "  4.70190483e+02  4.65860485e+02  4.61550488e+02  4.57260490e+02\n",
            "  4.52990493e+02  4.48740495e+02  4.44510498e+02  4.40300500e+02\n",
            "  4.36110503e+02  4.31940505e+02  4.27790508e+02  4.23660510e+02\n",
            "  4.19550513e+02  4.15460515e+02  4.11390518e+02  4.07340521e+02\n",
            "  4.03310524e+02  3.99300526e+02  3.95310529e+02  3.91340532e+02\n",
            "  3.87390535e+02  3.83460538e+02  3.79550541e+02  3.75660543e+02\n",
            "  3.71790546e+02  3.67940549e+02  3.64110552e+02  3.60300556e+02\n",
            "  3.56510559e+02  3.52740562e+02  3.48990565e+02  3.45260568e+02\n",
            "  3.41550571e+02  3.37860575e+02  3.34190578e+02  3.30540581e+02\n",
            "  3.26910585e+02  3.23300588e+02  3.19710592e+02  3.16140595e+02\n",
            "  3.12590599e+02  3.09060602e+02  3.05550606e+02  3.02060610e+02\n",
            "  2.98590613e+02  2.95140617e+02  2.91710621e+02  2.88300625e+02\n",
            "  2.84910629e+02  2.81540633e+02  2.78190637e+02  2.74860641e+02\n",
            "  2.71550645e+02  2.68260649e+02  2.64990654e+02  2.61740658e+02\n",
            "  2.58510662e+02  2.55300667e+02  2.52110671e+02  2.48940676e+02\n",
            "  2.45790680e+02  2.42660685e+02  2.39550690e+02  2.36460694e+02\n",
            "  2.33390699e+02  2.30340704e+02  2.27310709e+02  2.24300714e+02\n",
            "  2.21310719e+02  2.18340725e+02  2.15390730e+02  2.12460735e+02\n",
            "  2.09550741e+02  2.06660746e+02  2.03790752e+02  2.00940758e+02\n",
            "  1.98110763e+02  1.95300769e+02  1.92510775e+02  1.89740781e+02\n",
            "  1.86990787e+02  1.84260794e+02  1.81550800e+02  1.78860806e+02\n",
            "  1.76190813e+02  1.73540820e+02  1.70910826e+02  1.68300833e+02\n",
            "  1.65710840e+02  1.63140847e+02  1.60590855e+02  1.58060862e+02\n",
            "  1.55550870e+02  1.53060877e+02  1.50590885e+02  1.48140893e+02\n",
            "  1.45710901e+02  1.43300909e+02  1.40910917e+02  1.38540926e+02\n",
            "  1.36190935e+02  1.33860943e+02  1.31550952e+02  1.29260962e+02\n",
            "  1.26990971e+02  1.24740980e+02  1.22510990e+02  1.20301000e+02\n",
            "  1.18111010e+02  1.15941020e+02  1.13791031e+02  1.11661042e+02\n",
            "  1.09551053e+02  1.07461064e+02  1.05391075e+02  1.03341087e+02\n",
            "  1.01311099e+02  9.93011111e+01  9.73111236e+01  9.53411364e+01\n",
            "  9.33911494e+01  9.14611628e+01  8.95511765e+01  8.76611905e+01\n",
            "  8.57912048e+01  8.39412195e+01  8.21112346e+01  8.03012500e+01\n",
            "  7.85112658e+01  7.67412821e+01  7.49912987e+01  7.32613158e+01\n",
            "  7.15513333e+01  6.98613514e+01  6.81913699e+01  6.65413889e+01\n",
            "  6.49114085e+01  6.33014286e+01  6.17114493e+01  6.01414706e+01\n",
            "  5.85914925e+01  5.70615152e+01  5.55515385e+01  5.40615625e+01\n",
            "  5.25915873e+01  5.11416129e+01  4.97116393e+01  4.83016667e+01\n",
            "  4.69116949e+01  4.55417241e+01  4.41917544e+01  4.28617857e+01\n",
            "  4.15518182e+01  4.02618519e+01  3.89918868e+01  3.77419231e+01\n",
            "  3.65119608e+01  3.53020000e+01  3.41120408e+01  3.29420833e+01\n",
            "  3.17921277e+01  3.06621739e+01  2.95522222e+01  2.84622727e+01\n",
            "  2.73923256e+01  2.63423810e+01  2.53124390e+01  2.43025000e+01\n",
            "  2.33125641e+01  2.23426316e+01  2.13927027e+01  2.04627778e+01\n",
            "  1.95528571e+01  1.86629412e+01  1.77930303e+01  1.69431250e+01\n",
            "  1.61132258e+01  1.53033333e+01  1.45134483e+01  1.37435714e+01\n",
            "  1.29937037e+01  1.22638462e+01  1.15540000e+01  1.08641667e+01\n",
            "  1.01943478e+01  9.54454545e+00  8.91476190e+00  8.30500000e+00\n",
            "  7.71526316e+00  7.14555556e+00  6.59588235e+00  6.06625000e+00\n",
            "  5.55666667e+00  5.06714286e+00  4.59769231e+00  4.14833333e+00\n",
            "  3.71909091e+00  3.31000000e+00  2.92111111e+00  2.55250000e+00\n",
            "  2.20428571e+00  1.87666667e+00  1.57000000e+00  1.28500000e+00\n",
            "  1.02333333e+00  7.90000000e-01  6.10000000e-01 -1.40737488e+10\n",
            "  1.00000000e-02 -1.10000000e-01 -2.43333333e-01 -3.65000000e-01\n",
            " -4.70000000e-01 -5.56666667e-01 -6.24285714e-01 -6.72500000e-01\n",
            " -7.01111111e-01 -7.10000000e-01 -6.99090909e-01 -6.68333333e-01\n",
            " -6.17692308e-01 -5.47142857e-01 -4.56666667e-01 -3.46250000e-01\n",
            " -2.15882353e-01 -6.55555556e-02  1.04736842e-01  2.95000000e-01\n",
            "  5.05238095e-01  7.35454545e-01  9.85652174e-01  1.25583333e+00\n",
            "  1.54600000e+00  1.85615385e+00  2.18629630e+00  2.53642857e+00\n",
            "  2.90655172e+00  3.29666667e+00  3.70677419e+00  4.13687500e+00\n",
            "  4.58696970e+00  5.05705882e+00  5.54714286e+00  6.05722222e+00\n",
            "  6.58729730e+00  7.13736842e+00  7.70743590e+00  8.29750000e+00\n",
            "  8.90756098e+00  9.53761905e+00  1.01876744e+01  1.08577273e+01\n",
            "  1.15477778e+01  1.22578261e+01  1.29878723e+01  1.37379167e+01\n",
            "  1.45079592e+01  1.52980000e+01  1.61080392e+01  1.69380769e+01\n",
            "  1.77881132e+01  1.86581481e+01  1.95481818e+01  2.04582143e+01\n",
            "  2.13882456e+01  2.23382759e+01  2.33083051e+01  2.42983333e+01\n",
            "  2.53083607e+01  2.63383871e+01  2.73884127e+01  2.84584375e+01\n",
            "  2.95484615e+01  3.06584848e+01  3.17885075e+01  3.29385294e+01\n",
            "  3.41085507e+01  3.52985714e+01  3.65085915e+01  3.77386111e+01\n",
            "  3.89886301e+01  4.02586486e+01  4.15486667e+01  4.28586842e+01\n",
            "  4.41887013e+01  4.55387179e+01  4.69087342e+01  4.82987500e+01\n",
            "  4.97087654e+01  5.11387805e+01  5.25887952e+01  5.40588095e+01\n",
            "  5.55488235e+01  5.70588372e+01  5.85888506e+01  6.01388636e+01\n",
            "  6.17088764e+01  6.32988889e+01  6.49089011e+01  6.65389130e+01\n",
            "  6.81889247e+01  6.98589362e+01  7.15489474e+01  7.32589583e+01\n",
            "  7.49889691e+01  7.67389796e+01  7.85089899e+01  8.02990000e+01\n",
            "  8.21090099e+01  8.39390196e+01  8.57890291e+01  8.76590385e+01\n",
            "  8.95490476e+01  9.14590566e+01  9.33890654e+01  9.53390741e+01\n",
            "  9.73090826e+01  9.92990909e+01  1.01309099e+02  1.03339107e+02\n",
            "  1.05389115e+02  1.07459123e+02  1.09549130e+02  1.11659138e+02\n",
            "  1.13789145e+02  1.15939153e+02  1.18109160e+02  1.20299167e+02\n",
            "  1.22509174e+02  1.24739180e+02  1.26989187e+02  1.29259194e+02\n",
            "  1.31549200e+02  1.33859206e+02  1.36189213e+02  1.38539219e+02\n",
            "  1.40909225e+02  1.43299231e+02  1.45709237e+02  1.48139242e+02\n",
            "  1.50589248e+02  1.53059254e+02  1.55549259e+02  1.58059265e+02\n",
            "  1.60589270e+02  1.63139275e+02  1.65709281e+02  1.68299286e+02\n",
            "  1.70909291e+02  1.73539296e+02  1.76189301e+02  1.78859306e+02\n",
            "  1.81549310e+02  1.84259315e+02  1.86989320e+02  1.89739324e+02\n",
            "  1.92509329e+02  1.95299333e+02  1.98109338e+02  2.00939342e+02\n",
            "  2.03789346e+02  2.06659351e+02  2.09549355e+02  2.12459359e+02\n",
            "  2.15389363e+02  2.18339367e+02  2.21309371e+02  2.24299375e+02\n",
            "  2.27309379e+02  2.30339383e+02  2.33389387e+02  2.36459390e+02\n",
            "  2.39549394e+02  2.42659398e+02  2.45789401e+02  2.48939405e+02\n",
            "  2.52109408e+02  2.55299412e+02  2.58509415e+02  2.61739419e+02\n",
            "  2.64989422e+02  2.68259425e+02  2.71549429e+02  2.74859432e+02\n",
            "  2.78189435e+02  2.81539438e+02  2.84909441e+02  2.88299444e+02\n",
            "  2.91709448e+02  2.95139451e+02  2.98589454e+02  3.02059457e+02\n",
            "  3.05549459e+02  3.09059462e+02  3.12589465e+02  3.16139468e+02\n",
            "  3.19709471e+02  3.23299474e+02  3.26909476e+02  3.30539479e+02\n",
            "  3.34189482e+02  3.37859485e+02  3.41549487e+02  3.45259490e+02\n",
            "  3.48989492e+02  3.52739495e+02  3.56509497e+02  3.60299500e+02\n",
            "  3.64109502e+02  3.67939505e+02  3.71789507e+02  3.75659510e+02\n",
            "  3.79549512e+02  3.83459515e+02  3.87389517e+02  3.91339519e+02\n",
            "  3.95309522e+02  3.99299524e+02  4.03309526e+02  4.07339528e+02\n",
            "  4.11389531e+02  4.15459533e+02  4.19549535e+02  4.23659537e+02\n",
            "  4.27789539e+02  4.31939541e+02  4.36109543e+02  4.40299545e+02\n",
            "  4.44509548e+02  4.48739550e+02  4.52989552e+02  4.57259554e+02\n",
            "  4.61549556e+02  4.65859558e+02  4.70189559e+02  4.74539561e+02\n",
            "  4.78909563e+02  4.83299565e+02  4.87709567e+02  4.92139569e+02\n",
            "  4.96589571e+02  5.01059573e+02  5.05549574e+02  5.10059576e+02\n",
            "  5.14589578e+02  5.19139580e+02  5.23709582e+02  5.28299583e+02\n",
            "  5.32909585e+02  5.37539587e+02  5.42189588e+02  5.46859590e+02\n",
            "  5.51549592e+02  5.56259593e+02  5.60989595e+02  5.65739597e+02\n",
            "  5.70509598e+02  5.75299600e+02  5.80109602e+02  5.84939603e+02\n",
            "  5.89789605e+02  5.94659606e+02  5.99549608e+02  6.04459609e+02\n",
            "  6.09389611e+02  6.14339612e+02  6.19309614e+02  6.24299615e+02\n",
            "  6.29309617e+02  6.34339618e+02  6.39389620e+02  6.44459621e+02\n",
            "  6.49549623e+02  6.54659624e+02  6.59789625e+02  6.64939627e+02\n",
            "  6.70109628e+02  6.75299630e+02  6.80509631e+02  6.85739632e+02\n",
            "  6.90989634e+02  6.96259635e+02  7.01549636e+02  7.06859638e+02\n",
            "  7.12189639e+02  7.17539640e+02  7.22909642e+02  7.28299643e+02\n",
            "  7.33709644e+02  7.39139645e+02  7.44589647e+02  7.50059648e+02\n",
            "  7.55549649e+02  7.61059650e+02  7.66589652e+02  7.72139653e+02\n",
            "  7.77709654e+02  7.83299655e+02  7.88909656e+02  7.94539658e+02\n",
            "  8.00189659e+02  8.05859660e+02  8.11549661e+02  8.17259662e+02\n",
            "  8.22989663e+02  8.28739664e+02  8.34509666e+02  8.40299667e+02\n",
            "  8.46109668e+02  8.51939669e+02  8.57789670e+02  8.63659671e+02\n",
            "  8.69549672e+02  8.75459673e+02  8.81389674e+02  8.87339675e+02\n",
            "  8.93309676e+02  8.99299677e+02  9.05309678e+02  9.11339679e+02\n",
            "  9.17389681e+02  9.23459682e+02  9.29549683e+02  9.35659684e+02\n",
            "  9.41789685e+02  9.47939686e+02  9.54109687e+02  9.60299688e+02\n",
            "  9.66509688e+02  9.72739689e+02  9.78989690e+02  9.85259691e+02\n",
            "  9.91549692e+02  9.97859693e+02  1.00418969e+03  1.01053970e+03\n",
            "  1.01690970e+03  1.02329970e+03  1.02970970e+03  1.03613970e+03\n",
            "  1.04258970e+03  1.04905970e+03  1.05554970e+03  1.06205970e+03\n",
            "  1.06858970e+03  1.07513970e+03  1.08170971e+03  1.08829971e+03\n",
            "  1.09490971e+03  1.10153971e+03  1.10818971e+03  1.11485971e+03\n",
            "  1.12154971e+03  1.12825971e+03  1.13498971e+03  1.14173971e+03\n",
            "  1.14850971e+03  1.15529971e+03  1.16210972e+03  1.16893972e+03\n",
            "  1.17578972e+03  1.18265972e+03  1.18954972e+03  1.19645972e+03\n",
            "  1.20338972e+03  1.21033972e+03  1.21730972e+03  1.22429972e+03\n",
            "  1.23130972e+03  1.23833972e+03  1.24538972e+03  1.25245973e+03\n",
            "  1.25954973e+03  1.26665973e+03  1.27378973e+03  1.28093973e+03\n",
            "  1.28810973e+03  1.29529973e+03  1.30250973e+03  1.30973973e+03\n",
            "  1.31698973e+03  1.32425973e+03  1.33154973e+03  1.33885973e+03\n",
            "  1.34618973e+03  1.35353974e+03  1.36090974e+03  1.36829974e+03\n",
            "  1.37570974e+03  1.38313974e+03  1.39058974e+03  1.39805974e+03\n",
            "  1.40554974e+03  1.41305974e+03  1.42058974e+03  1.42813974e+03\n",
            "  1.43570974e+03  1.44329974e+03  1.45090974e+03  1.45853974e+03\n",
            "  1.46618975e+03  1.47385975e+03  1.48154975e+03  1.48925975e+03\n",
            "  1.49698975e+03  1.50473975e+03  1.51250975e+03  1.52029975e+03\n",
            "  1.52810975e+03  1.53593975e+03  1.54378975e+03  1.55165975e+03\n",
            "  1.55954975e+03  1.56745975e+03  1.57538975e+03  1.58333975e+03\n",
            "  1.59130976e+03  1.59929976e+03  1.60730976e+03  1.61533976e+03\n",
            "  1.62338976e+03  1.63145976e+03  1.63954976e+03  1.64765976e+03\n",
            "  1.65578976e+03  1.66393976e+03  1.67210976e+03  1.68029976e+03\n",
            "  1.68850976e+03  1.69673976e+03  1.70498976e+03  1.71325976e+03\n",
            "  1.72154976e+03  1.72985977e+03  1.73818977e+03  1.74653977e+03\n",
            "  1.75490977e+03  1.76329977e+03  1.77170977e+03  1.78013977e+03\n",
            "  1.78858977e+03  1.79705977e+03  1.80554977e+03  1.81405977e+03\n",
            "  1.82258977e+03  1.83113977e+03  1.83970977e+03  1.84829977e+03\n",
            "  1.85690977e+03  1.86553977e+03  1.87418977e+03  1.88285977e+03\n",
            "  1.89154978e+03  1.90025978e+03  1.90898978e+03  1.91773978e+03\n",
            "  1.92650978e+03  1.93529978e+03  1.94410978e+03  1.95293978e+03\n",
            "  1.96178978e+03  1.97065978e+03  1.97954978e+03  1.98845978e+03\n",
            "  1.99738978e+03  2.00633978e+03  2.01530978e+03  2.02429978e+03\n",
            "  2.03330978e+03  2.04233978e+03  2.05138978e+03  2.06045978e+03\n",
            "  2.06954978e+03  2.07865979e+03  2.08778979e+03  2.09693979e+03\n",
            "  2.10610979e+03  2.11529979e+03  2.12450979e+03  2.13373979e+03\n",
            "  2.14298979e+03  2.15225979e+03  2.16154979e+03  2.17085979e+03\n",
            "  2.18018979e+03  2.18953979e+03  2.19890979e+03  2.20829979e+03\n",
            "  2.21770979e+03  2.22713979e+03  2.23658979e+03  2.24605979e+03\n",
            "  2.25554979e+03  2.26505979e+03  2.27458979e+03  2.28413980e+03\n",
            "  2.29370980e+03  2.30329980e+03  2.31290980e+03  2.32253980e+03\n",
            "  2.33218980e+03  2.34185980e+03  2.35154980e+03  2.36125980e+03\n",
            "  2.37098980e+03  2.38073980e+03  2.39050980e+03  2.40029980e+03]\n"
          ],
          "name": "stdout"
        }
      ]
    },
    {
      "cell_type": "code",
      "metadata": {
        "colab": {
          "base_uri": "https://localhost:8080/",
          "height": 295
        },
        "id": "1pWbrX8Z3iFy",
        "outputId": "01dc9801-e0c5-4378-9b12-1f5b550b2edf"
      },
      "source": [
        "plt.title(\"y = x^2\")\n",
        "plt.xlabel(\"x\")\n",
        "plt.ylabel(\"y\")\n",
        "plt.plot(array_xy2[:, 0], array_xy2[:, 1])\n",
        "plt.grid(linestyle=\"dotted\")\n",
        "plt.show()"
      ],
      "execution_count": 16,
      "outputs": [
        {
          "output_type": "display_data",
          "data": {
            "image/png": "[encoded data removed]",
            "text/plain": [
              "<Figure size 432x288 with 1 Axes>"
            ]
          },
          "metadata": {
            "tags": [],
            "needs_background": "light"
          }
        }
      ]
    },
    {
      "cell_type": "code",
      "metadata": {
        "id": "WD-RKAk05LX9"
      },
      "source": [
        "def function2(array_x):\n",
        "    \"\"\"\n",
        "    y = 2x ^ 2 + 2 ^ xを計算する。\n",
        "    Parameters\n",
        "    ----------------\n",
        "    array_x : ndarray, shape(n, 2)\n",
        "      求めたい関数、xのndarrayを入れるとyのndarrayを返すもの。\n",
        "    x_range : tuple\n",
        "      np.arange()の引数と同じ方法で範囲を指定する。\n",
        "    Returns\n",
        "    ----------------\n",
        "    array_2x**2 + 2**x : ndarray, shape(n, 2)\n",
        "      xとyを結合したもの。nはx_rangeに依存する。\n",
        "    gradient : ndarray, shape(n-1,)\n",
        "      関数の勾配。差をとるため要素は1つ減る\n",
        "    \"\"\"\n",
        "\n",
        "    return 2 * array_x ** 2 + 2 ** array_x\n",
        "array_xy3, gradient3 = compute_gradient(function2)"
      ],
      "execution_count": 17,
      "outputs": []
    },
    {
      "cell_type": "code",
      "metadata": {
        "colab": {
          "base_uri": "https://localhost:8080/"
        },
        "id": "u58NqVY-7he_",
        "outputId": "8f56c05a-5aec-4b7e-cc79-d45dc8e62ec4"
      },
      "source": [
        "print(array_xy3)"
      ],
      "execution_count": 18,
      "outputs": [
        {
          "output_type": "stream",
          "text": [
            "[[-5.00000000e+01  5.00000000e+03]\n",
            " [-4.99000000e+01  4.98002000e+03]\n",
            " [-4.98000000e+01  4.96008000e+03]\n",
            " ...\n",
            " [ 4.98000000e+01  9.80152798e+14]\n",
            " [ 4.99000000e+01  1.05050176e+15]\n",
            " [ 5.00000000e+01  1.12589991e+15]]\n"
          ],
          "name": "stdout"
        }
      ]
    },
    {
      "cell_type": "code",
      "metadata": {
        "colab": {
          "base_uri": "https://localhost:8080/"
        },
        "id": "RNpFsLkF7jtV",
        "outputId": "87a83679-874e-4c08-bf52-f09ae50e399c"
      },
      "source": [
        "print(gradient3)"
      ],
      "execution_count": 19,
      "outputs": [
        {
          "output_type": "stream",
          "text": [
            "[ 5.13022040e+03  5.10998040e+03  5.08978040e+03  5.06962040e+03\n",
            "  5.04950040e+03  5.02942040e+03  5.00938041e+03  4.98938041e+03\n",
            "  4.96942041e+03  4.94950041e+03  4.92962041e+03  4.90978041e+03\n",
            "  4.88998041e+03  4.87022041e+03  4.85050041e+03  4.83082041e+03\n",
            "  4.81118041e+03  4.79158041e+03  4.77202042e+03  4.75250042e+03\n",
            "  4.73302042e+03  4.71358042e+03  4.69418042e+03  4.67482042e+03\n",
            "  4.65550042e+03  4.63622042e+03  4.61698042e+03  4.59778042e+03\n",
            "  4.57862042e+03  4.55950043e+03  4.54042043e+03  4.52138043e+03\n",
            "  4.50238043e+03  4.48342043e+03  4.46450043e+03  4.44562043e+03\n",
            "  4.42678043e+03  4.40798043e+03  4.38922043e+03  4.37050043e+03\n",
            "  4.35182044e+03  4.33318044e+03  4.31458044e+03  4.29602044e+03\n",
            "  4.27750044e+03  4.25902044e+03  4.24058044e+03  4.22218044e+03\n",
            "  4.20382044e+03  4.18550044e+03  4.16722045e+03  4.14898045e+03\n",
            "  4.13078045e+03  4.11262045e+03  4.09450045e+03  4.07642045e+03\n",
            "  4.05838045e+03  4.04038045e+03  4.02242045e+03  4.00450045e+03\n",
            "  3.98662046e+03  3.96878046e+03  3.95098046e+03  3.93322046e+03\n",
            "  3.91550046e+03  3.89782046e+03  3.88018046e+03  3.86258046e+03\n",
            "  3.84502046e+03  3.82750047e+03  3.81002047e+03  3.79258047e+03\n",
            "  3.77518047e+03  3.75782047e+03  3.74050047e+03  3.72322047e+03\n",
            "  3.70598047e+03  3.68878047e+03  3.67162048e+03  3.65450048e+03\n",
            "  3.63742048e+03  3.62038048e+03  3.60338048e+03  3.58642048e+03\n",
            "  3.56950048e+03  3.55262048e+03  3.53578048e+03  3.51898049e+03\n",
            "  3.50222049e+03  3.48550049e+03  3.46882049e+03  3.45218049e+03\n",
            "  3.43558049e+03  3.41902049e+03  3.40250049e+03  3.38602050e+03\n",
            "  3.36958050e+03  3.35318050e+03  3.33682050e+03  3.32050050e+03\n",
            "  3.30422050e+03  3.28798050e+03  3.27178050e+03  3.25562051e+03\n",
            "  3.23950051e+03  3.22342051e+03  3.20738051e+03  3.19138051e+03\n",
            "  3.17542051e+03  3.15950051e+03  3.14362051e+03  3.12778052e+03\n",
            "  3.11198052e+03  3.09622052e+03  3.08050052e+03  3.06482052e+03\n",
            "  3.04918052e+03  3.03358052e+03  3.01802052e+03  3.00250053e+03\n",
            "  2.98702053e+03  2.97158053e+03  2.95618053e+03  2.94082053e+03\n",
            "  2.92550053e+03  2.91022053e+03  2.89498054e+03  2.87978054e+03\n",
            "  2.86462054e+03  2.84950054e+03  2.83442054e+03  2.81938054e+03\n",
            "  2.80438054e+03  2.78942055e+03  2.77450055e+03  2.75962055e+03\n",
            "  2.74478055e+03  2.72998055e+03  2.71522055e+03  2.70050056e+03\n",
            "  2.68582056e+03  2.67118056e+03  2.65658056e+03  2.64202056e+03\n",
            "  2.62750056e+03  2.61302056e+03  2.59858057e+03  2.58418057e+03\n",
            "  2.56982057e+03  2.55550057e+03  2.54122057e+03  2.52698057e+03\n",
            "  2.51278058e+03  2.49862058e+03  2.48450058e+03  2.47042058e+03\n",
            "  2.45638058e+03  2.44238058e+03  2.42842059e+03  2.41450059e+03\n",
            "  2.40062059e+03  2.38678059e+03  2.37298059e+03  2.35922060e+03\n",
            "  2.34550060e+03  2.33182060e+03  2.31818060e+03  2.30458060e+03\n",
            "  2.29102060e+03  2.27750061e+03  2.26402061e+03  2.25058061e+03\n",
            "  2.23718061e+03  2.22382061e+03  2.21050062e+03  2.19722062e+03\n",
            "  2.18398062e+03  2.17078062e+03  2.15762062e+03  2.14450063e+03\n",
            "  2.13142063e+03  2.11838063e+03  2.10538063e+03  2.09242063e+03\n",
            "  2.07950063e+03  2.06662064e+03  2.05378064e+03  2.04098064e+03\n",
            "  2.02822064e+03  2.01550065e+03  2.00282065e+03  1.99018065e+03\n",
            "  1.97758065e+03  1.96502065e+03  1.95250066e+03  1.94002066e+03\n",
            "  1.92758066e+03  1.91518066e+03  1.90282066e+03  1.89050067e+03\n",
            "  1.87822067e+03  1.86598067e+03  1.85378067e+03  1.84162068e+03\n",
            "  1.82950068e+03  1.81742068e+03  1.80538068e+03  1.79338068e+03\n",
            "  1.78142069e+03  1.76950069e+03  1.75762069e+03  1.74578069e+03\n",
            "  1.73398070e+03  1.72222070e+03  1.71050070e+03  1.69882070e+03\n",
            "  1.68718071e+03  1.67558071e+03  1.66402071e+03  1.65250071e+03\n",
            "  1.64102072e+03  1.62958072e+03  1.61818072e+03  1.60682072e+03\n",
            "  1.59550073e+03  1.58422073e+03  1.57298073e+03  1.56178074e+03\n",
            "  1.55062074e+03  1.53950074e+03  1.52842074e+03  1.51738075e+03\n",
            "  1.50638075e+03  1.49542075e+03  1.48450075e+03  1.47362076e+03\n",
            "  1.46278076e+03  1.45198076e+03  1.44122077e+03  1.43050077e+03\n",
            "  1.41982077e+03  1.40918078e+03  1.39858078e+03  1.38802078e+03\n",
            "  1.37750078e+03  1.36702079e+03  1.35658079e+03  1.34618079e+03\n",
            "  1.33582080e+03  1.32550080e+03  1.31522080e+03  1.30498081e+03\n",
            "  1.29478081e+03  1.28462081e+03  1.27450082e+03  1.26442082e+03\n",
            "  1.25438082e+03  1.24438083e+03  1.23442083e+03  1.22450083e+03\n",
            "  1.21462084e+03  1.20478084e+03  1.19498084e+03  1.18522085e+03\n",
            "  1.17550085e+03  1.16582085e+03  1.15618086e+03  1.14658086e+03\n",
            "  1.13702087e+03  1.12750087e+03  1.11802087e+03  1.10858088e+03\n",
            "  1.09918088e+03  1.08982089e+03  1.08050089e+03  1.07122089e+03\n",
            "  1.06198090e+03  1.05278090e+03  1.04362091e+03  1.03450091e+03\n",
            "  1.02542091e+03  1.01638092e+03  1.00738092e+03  9.98420926e+02\n",
            "  9.89500931e+02  9.80620935e+02  9.71780939e+02  9.62980944e+02\n",
            "  9.54220948e+02  9.45500953e+02  9.36820957e+02  9.28180962e+02\n",
            "  9.19580967e+02  9.11020972e+02  9.02500976e+02  8.94020981e+02\n",
            "  8.85580986e+02  8.77180991e+02  8.68820996e+02  8.60501001e+02\n",
            "  8.52221006e+02  8.43981011e+02  8.35781016e+02  8.27621022e+02\n",
            "  8.19501027e+02  8.11421032e+02  8.03381038e+02  7.95381043e+02\n",
            "  7.87421049e+02  7.79501055e+02  7.71621060e+02  7.63781066e+02\n",
            "  7.55981072e+02  7.48221078e+02  7.40501084e+02  7.32821090e+02\n",
            "  7.25181096e+02  7.17581102e+02  7.10021109e+02  7.02501115e+02\n",
            "  6.95021122e+02  6.87581128e+02  6.80181135e+02  6.72821142e+02\n",
            "  6.65501149e+02  6.58221156e+02  6.50981163e+02  6.43781170e+02\n",
            "  6.36621177e+02  6.29501185e+02  6.22421192e+02  6.15381200e+02\n",
            "  6.08381208e+02  6.01421215e+02  5.94501224e+02  5.87621232e+02\n",
            "  5.80781240e+02  5.73981249e+02  5.67221257e+02  5.60501266e+02\n",
            "  5.53821275e+02  5.47181284e+02  5.40581294e+02  5.34021303e+02\n",
            "  5.27501313e+02  5.21021323e+02  5.14581333e+02  5.08181344e+02\n",
            "  5.01821355e+02  4.95501366e+02  4.89221377e+02  4.82981389e+02\n",
            "  4.76781401e+02  4.70621413e+02  4.64501425e+02  4.58421438e+02\n",
            "  4.52381451e+02  4.46381465e+02  4.40421479e+02  4.34501494e+02\n",
            "  4.28621509e+02  4.22781524e+02  4.16981540e+02  4.11221557e+02\n",
            "  4.05501574e+02  3.99821591e+02  3.94181610e+02  3.88581629e+02\n",
            "  3.83021649e+02  3.77501669e+02  3.72021691e+02  3.66581713e+02\n",
            "  3.61181736e+02  3.55821760e+02  3.50501786e+02  3.45221812e+02\n",
            "  3.39981839e+02  3.34781868e+02  3.29621898e+02  3.24501930e+02\n",
            "  3.19421963e+02  3.14381998e+02  3.09382034e+02  3.04422072e+02\n",
            "  2.99502112e+02  2.94622155e+02  2.89782199e+02  2.84982246e+02\n",
            "  2.80222296e+02  2.75502348e+02  2.70822403e+02  2.66182461e+02\n",
            "  2.61582523e+02  2.57022588e+02  2.52502657e+02  2.48022730e+02\n",
            "  2.43582807e+02  2.39182889e+02  2.34822976e+02  2.30503068e+02\n",
            "  2.26223165e+02  2.21983269e+02  2.17783380e+02  2.13623497e+02\n",
            "  2.09503622e+02  2.05423755e+02  2.01383896e+02  1.97384047e+02\n",
            "  1.93424207e+02  1.89504378e+02  1.85624560e+02  1.81784754e+02\n",
            "  1.77984961e+02  1.74225182e+02  1.70505418e+02  1.66825670e+02\n",
            "  1.63185939e+02  1.59586227e+02  1.56026534e+02  1.52506862e+02\n",
            "  1.49027213e+02  1.45587588e+02  1.42187989e+02  1.38828419e+02\n",
            "  1.35508878e+02  1.32229370e+02  1.28989897e+02  1.25790460e+02\n",
            "  1.22631064e+02  1.19511711e+02  1.16432404e+02  1.13393147e+02\n",
            "  1.10393943e+02  1.07434796e+02  1.04515711e+02  1.01636693e+02\n",
            "  9.87977457e+01  9.59988752e+01  9.32400872e+01  9.05213881e+01\n",
            "  8.78427846e+01  8.52042840e+01  8.26058942e+01  8.00476239e+01\n",
            "  7.75294821e+01  7.50514788e+01  7.26136250e+01  7.02159322e+01\n",
            "  6.78584131e+01  6.55410815e+01  6.32639521e+01  6.10270412e+01\n",
            "  5.88303662e+01  5.66739462e+01  5.45578019e+01  5.24819557e+01\n",
            "  5.04464323e+01  4.84512584e+01  4.64964632e+01  4.45820786e+01\n",
            "  4.27081397e+01  4.08746847e+01  3.90817556e+01  3.73293988e+01\n",
            "  3.56176653e+01  3.39466112e+01  3.23162989e+01  3.07267974e+01\n",
            "  2.91781836e+01  2.76705430e+01  2.62039717e+01  2.47785772e+01\n",
            "  2.33944809e+01  2.20518204e+01  2.07507521e+01  1.94914549e+01\n",
            "  1.82741347e+01  1.70990300e+01  1.59664190e+01  1.48766291e+01\n",
            "  1.38300486e+01  1.28271431e+01  1.18684770e+01  1.09547433e+01\n",
            "  1.00868047e+01  9.26575299e+00  8.49299477e+00  7.77038045e+00\n",
            "  7.10040312e+00  6.48651650e+00  5.93366451e+00  5.44920759e+00\n",
            "  5.04464246e+00  4.73904097e+00  4.56661469e+00  4.59562524e+00\n",
            "  4.98511334e+00  6.21181255e+00  1.06585386e+01 -1.34127470e+12\n",
            " -8.90822654e+00 -4.33016896e+00 -2.88451677e+00 -2.18835312e+00\n",
            " -1.76480226e+00 -1.45463937e+00 -1.18937602e+00 -9.34529864e-01\n",
            " -6.70713046e-01 -3.86065983e-01 -7.28167113e-02  2.74440939e-01\n",
            "  6.59675973e-01  1.08595237e+00  1.55574991e+00  2.07116618e+00\n",
            "  2.63404892e+00  3.24608582e+00  3.90886762e+00  4.62393402e+00\n",
            "  5.39280814e+00  6.21702349e+00  7.09814573e+00  8.03779095e+00\n",
            "  9.03764159e+00  1.00994608e+01  1.12251057e+01  1.24165405e+01\n",
            "  1.36758486e+01  1.50052454e+01  1.64070909e+01  1.78839032e+01\n",
            "  1.94383714e+01  2.10733705e+01  2.27919761e+01  2.45974802e+01\n",
            "  2.64934079e+01  2.84835358e+01  3.05719102e+01  3.27628680e+01\n",
            "  3.50610583e+01  3.74714653e+01  3.99994330e+01  4.26506923e+01\n",
            "  4.54313889e+01  4.83481135e+01  5.14079352e+01  5.46184354e+01\n",
            "  5.79877459e+01  6.15245889e+01  6.52383194e+01  6.91389722e+01\n",
            "  7.32373104e+01  7.75448788e+01  8.20740607e+01  8.68381383e+01\n",
            "  9.18513586e+01  9.71290027e+01  1.02687461e+02  1.08544315e+02\n",
            "  1.14718420e+02  1.21230001e+02  1.28100751e+02  1.35353937e+02\n",
            "  1.43014513e+02  1.51109244e+02  1.59666835e+02  1.68718074e+02\n",
            "  1.78295981e+02  1.88435968e+02  1.99176017e+02  2.10556861e+02\n",
            "  2.22622185e+02  2.35418839e+02  2.48997068e+02  2.63410755e+02\n",
            "  2.78717689e+02  2.94979840e+02  3.12263668e+02  3.30640444e+02\n",
            "  3.50186599e+02  3.70984095e+02  3.93120828e+02  4.16691053e+02\n",
            "  4.41795845e+02  4.68543595e+02  4.97050533e+02  5.27441294e+02\n",
            "  5.59849533e+02  5.94418568e+02  6.31302079e+02  6.70664861e+02\n",
            "  7.12683622e+02  7.57547844e+02  8.05460707e+02  8.56640075e+02\n",
            "  9.11319559e+02  9.69749649e+02  1.03219894e+03  1.09895542e+03\n",
            "  1.17032791e+03  1.24664751e+03  1.32826925e+03  1.41557380e+03\n",
            "  1.50896934e+03  1.60889351e+03  1.71581555e+03  1.83023858e+03\n",
            "  1.95270207e+03  2.08378440e+03  2.22410574e+03  2.37433101e+03\n",
            "  2.53517312e+03  2.70739643e+03  2.89182049e+03  3.08932396e+03\n",
            "  3.30084893e+03  3.52740546e+03  3.77007649e+03  4.03002307e+03\n",
            "  4.30849005e+03  4.60681206e+03  4.92642000e+03  5.26884799e+03\n",
            "  5.63574080e+03  6.02886182e+03  6.45010163e+03  6.90148712e+03\n",
            "  7.38519137e+03  7.90354413e+03  8.45904317e+03  9.05436630e+03\n",
            "  9.69238444e+03  1.03761754e+04  1.11090391e+04  1.18945129e+04\n",
            "  1.27363897e+04  1.36387353e+04  1.46059088e+04  1.56425834e+04\n",
            "  1.67537692e+04  1.79448372e+04  1.92215456e+04  2.05900675e+04\n",
            "  2.20570207e+04  2.36295000e+04  2.53151114e+04  2.71220088e+04\n",
            "  2.90589336e+04  3.11352570e+04  3.33610253e+04  3.57470084e+04\n",
            "  3.83047523e+04  4.10466344e+04  4.39859239e+04  4.71368455e+04\n",
            "  5.05146486e+04  5.41356809e+04  5.80174675e+04  6.21787956e+04\n",
            "  6.66398054e+04  7.14220874e+04  7.65487869e+04  8.20447160e+04\n",
            "  8.79364733e+04  9.42525727e+04  1.01023581e+05  1.08282266e+05\n",
            "  1.16063756e+05  1.24405705e+05  1.33348481e+05  1.42935357e+05\n",
            "  1.53212723e+05  1.64230305e+05  1.76041411e+05  1.88703187e+05\n",
            "  2.02276890e+05  2.16828190e+05  2.32427479e+05  2.49150221e+05\n",
            "  2.67077308e+05  2.86295454e+05  3.06897616e+05  3.28983440e+05\n",
            "  3.52659743e+05  3.78041031e+05  4.05250049e+05  4.34418374e+05\n",
            "  4.65687055e+05  4.99207288e+05  5.35141151e+05  5.73662381e+05\n",
            "  6.14957222e+05  6.59225314e+05  7.06680665e+05  7.57552679e+05\n",
            "  8.12087267e+05  8.70548032e+05  9.33217543e+05  1.00039870e+06\n",
            "  1.07241619e+06  1.14961806e+06  1.23237741e+06  1.32109416e+06\n",
            "  1.41619701e+06  1.51814549e+06  1.62743221e+06  1.74458520e+06\n",
            "  1.87017046e+06  2.00479474e+06  2.14910839e+06  2.30380857e+06\n",
            "  2.46964259e+06  2.64741148e+06  2.83797392e+06  3.04225033e+06\n",
            "  3.26122733e+06  3.49596252e+06  3.74758955e+06  4.01732359e+06\n",
            "  4.30646723e+06  4.61641672e+06  4.94866875e+06  5.30482761e+06\n",
            "  5.68661300e+06  6.09586826e+06  6.53456931e+06  7.00483416e+06\n",
            "  7.50893312e+06  8.04929976e+06  8.62854266e+06  9.24945796e+06\n",
            "  9.91504287e+06  1.06285101e+07  1.13933035e+07  1.22131142e+07\n",
            "  1.30918992e+07  1.40338998e+07  1.50436620e+07  1.61260592e+07\n",
            "  1.72863147e+07  1.85300276e+07  1.98631995e+07  2.12922637e+07\n",
            "  2.28241156e+07  2.44661467e+07  2.62262798e+07  2.81130073e+07\n",
            "  3.01354322e+07  3.23033118e+07  3.46271050e+07  3.71180226e+07\n",
            "  3.97880811e+07  4.26501613e+07  4.57180695e+07  4.90066049e+07\n",
            "  5.25316302e+07  5.63101488e+07  6.03603860e+07  6.47018776e+07\n",
            "  6.93555633e+07  7.43438884e+07  7.96909113e+07  8.54224201e+07\n",
            "  9.15660561e+07  9.81514480e+07  1.05210354e+08  1.12776814e+08\n",
            "  1.20887317e+08  1.29580973e+08  1.38899703e+08  1.48888442e+08\n",
            "  1.59595354e+08  1.71072065e+08  1.83373913e+08  1.96560209e+08\n",
            "  2.10694533e+08  2.25845030e+08  2.42084745e+08  2.59491971e+08\n",
            "  2.78150630e+08  2.98150675e+08  3.19588521e+08  3.42567517e+08\n",
            "  3.67198437e+08  3.93600015e+08  4.21899519e+08  4.52233366e+08\n",
            "  4.84747772e+08  5.19599464e+08  5.56956431e+08  5.96998735e+08\n",
            "  6.39919379e+08  6.85925233e+08  7.35238035e+08  7.88095457e+08\n",
            "  8.44752253e+08  9.05481480e+08  9.70575819e+08  1.04034898e+09\n",
            "  1.11513723e+09  1.19530098e+09  1.28122654e+09  1.37332801e+09\n",
            "  1.47204921e+09  1.57786586e+09  1.69128789e+09  1.81286183e+09\n",
            "  1.94317351e+09  2.08285086e+09  2.23256691e+09  2.39304304e+09\n",
            "  2.56505251e+09  2.74942410e+09  2.94704615e+09  3.15887083e+09\n",
            "  3.38591875e+09  3.62928380e+09  3.89013853e+09  4.16973968e+09\n",
            "  4.46943433e+09  4.79066633e+09  5.13498327e+09  5.50404394e+09\n",
            "  5.89962630e+09  6.32363606e+09  6.77811586e+09  7.26525509e+09\n",
            "  7.78740044e+09  8.34706721e+09  8.94695139e+09  9.58994271e+09\n",
            "  1.02791385e+10  1.10178585e+10  1.18096613e+10  1.26583606e+10\n",
            "  1.35680447e+10  1.45430952e+10  1.55882086e+10  1.67084189e+10\n",
            "  1.79091216e+10  1.91961000e+10  2.05755527e+10  2.20541238e+10\n",
            "  2.36389346e+10  2.53376180e+10  2.71583553e+10  2.91099155e+10\n",
            "  3.12016976e+10  3.34437759e+10  3.58469482e+10  3.84227882e+10\n",
            "  4.11837010e+10  4.41429829e+10  4.73148852e+10  5.07146830e+10\n",
            "  5.43587491e+10  5.82646319e+10  6.24511409e+10  6.69384365e+10\n",
            "  7.17481274e+10  7.69033747e+10  8.24290032e+10  8.83516210e+10\n",
            "  9.46997475e+10  1.01503951e+11  1.08796995e+11  1.16613998e+11\n",
            "  1.24992599e+11  1.33973143e+11  1.43598872e+11  1.53916133e+11\n",
            "  1.64974605e+11  1.76827532e+11  1.89531987e+11  2.03149139e+11\n",
            "  2.17744552e+11  2.33388499e+11  2.50156303e+11  2.68128695e+11\n",
            "  2.87392206e+11  3.08039581e+11  3.30170230e+11  3.53890701e+11\n",
            "  3.79315195e+11  4.06566118e+11  4.35774666e+11  4.67081461e+11\n",
            "  5.00637224e+11  5.36603501e+11  5.75153444e+11  6.16472640e+11\n",
            "  6.60760008e+11  7.08228752e+11  7.59107393e+11  8.13640863e+11\n",
            "  8.72091688e+11  9.34741250e+11  1.00189114e+12  1.07386462e+12\n",
            "  1.15100814e+12  1.23369309e+12  1.32231747e+12  1.41730792e+12\n",
            "  1.51912168e+12  1.62824887e+12  1.74521479e+12  1.87058246e+12\n",
            "  2.00495536e+12  2.14898030e+12  2.30335056e+12  2.46880919e+12\n",
            "  2.64615262e+12  2.83623450e+12  3.03996975e+12  3.25833905e+12\n",
            "  3.49239346e+12  3.74325958e+12  4.01214489e+12  4.30034360e+12\n",
            "  4.60924288e+12  4.94032952e+12  5.29519709e+12  5.67555362e+12\n",
            "  6.08322980e+12  6.52018781e+12  6.98853073e+12  7.49051272e+12\n",
            "  8.02854980e+12  8.60523151e+12  9.22333339e+12  9.88583030e+12\n",
            "  1.05959107e+13  1.13569922e+13  1.21727376e+13  1.30470730e+13\n",
            "  1.39842064e+13  1.49886479e+13  1.60652315e+13  1.72191385e+13\n",
            "  1.84559224e+13  1.97815351e+13  2.12023564e+13  2.27252241e+13\n",
            "  2.43574670e+13  2.61069403e+13  2.79820633e+13  2.99918600e+13\n",
            "  3.21460023e+13  3.44548570e+13  3.69295350e+13  3.95819455e+13\n",
            "  4.24248526e+13  4.54719374e+13  4.87378633e+13  5.22383467e+13\n",
            "  5.59902328e+13  6.00115765e+13  6.43217292e+13  6.89414320e+13\n",
            "  7.38929156e+13  7.92000072e+13  8.48882448e+13  9.09850007e+13\n",
            "  9.75196127e+13  1.04523526e+14  1.12030442e+14  1.20076485e+14\n",
            "  1.28700372e+14  1.37943601e+14  1.47850648e+14  1.58469186e+14\n",
            "  1.69850310e+14  1.82048783e+14  1.95123302e+14  2.09136780e+14\n",
            "  2.24156646e+14  2.40255172e+14  2.57509820e+14  2.76003613e+14\n",
            "  2.95825540e+14  3.17070975e+14  3.39842145e+14  3.64248617e+14\n",
            "  3.90407823e+14  4.18445632e+14  4.48496950e+14  4.80706369e+14\n",
            "  5.15228867e+14  5.52230548e+14  5.91889445e+14  6.34396376e+14\n",
            "  6.79955861e+14  7.28787105e+14  7.81125057e+14  8.37221533e+14\n",
            "  8.97346435e+14  9.61789045e+14  1.03085942e+15  1.10488987e+15]\n"
          ],
          "name": "stdout"
        }
      ]
    },
    {
      "cell_type": "code",
      "metadata": {
        "colab": {
          "base_uri": "https://localhost:8080/",
          "height": 295
        },
        "id": "Wm3-fzEj7pal",
        "outputId": "9295a0ed-3a4f-4055-d1d6-912275a463c3"
      },
      "source": [
        "plt.title(\"y = 2x^2 + 2^x\")\n",
        "plt.xlabel(\"x\")\n",
        "plt.ylabel(\"y\")\n",
        "plt.plot(array_xy3[:, 0], array_xy3[:, 1])\n",
        "plt.grid(linestyle=\"dotted\")\n",
        "plt.show()"
      ],
      "execution_count": 20,
      "outputs": [
        {
          "output_type": "display_data",
          "data": {
            "image/png": "[encoded data removed]",
            "text/plain": [
              "<Figure size 432x288 with 1 Axes>"
            ]
          },
          "metadata": {
            "tags": [],
            "needs_background": "light"
          }
        }
      ]
    },
    {
      "cell_type": "code",
      "metadata": {
        "id": "AIisa7fX8t_O"
      },
      "source": [
        "def function3(array_x):\n",
        "    \"\"\"\n",
        "    y = sin(x ^ 0.5)を計算する。\n",
        "    Parameters\n",
        "    ----------------\n",
        "    array_x : ndarray, shape(n, 2)\n",
        "      求めたい関数、xのndarrayを入れるとyのndarrayを返すもの。\n",
        "    x_range : tuple\n",
        "      np.arange()の引数と同じ方法で範囲を指定する。\n",
        "    Returns\n",
        "    ----------------\n",
        "    sin(array_x**0.5) : ndarray, shape(n, 2)\n",
        "      xとyを結合したもの。nはx_rangeに依存する。\n",
        "    gradient : ndarray, shape(n-1,)\n",
        "      関数の勾配。差をとるため要素は1つ減る\n",
        "    \"\"\"\n",
        "\n",
        "    return np.sin(array_x**0.5)\n",
        "array_xy4, gradient4 = compute_gradient(function3, x_range=(0, 50.1, 0.1))"
      ],
      "execution_count": 21,
      "outputs": []
    },
    {
      "cell_type": "code",
      "metadata": {
        "colab": {
          "base_uri": "https://localhost:8080/"
        },
        "id": "L4hGbZKS94lL",
        "outputId": "2ed6a3b7-ac7b-478a-b216-cc82fc515cf1"
      },
      "source": [
        "print(array_xy4)"
      ],
      "execution_count": 22,
      "outputs": [
        {
          "output_type": "stream",
          "text": [
            "[[ 0.          0.        ]\n",
            " [ 0.1         0.31098359]\n",
            " [ 0.2         0.43245484]\n",
            " ...\n",
            " [49.8         0.69880548]\n",
            " [49.9         0.70385354]\n",
            " [50.          0.70886129]]\n"
          ],
          "name": "stdout"
        }
      ]
    },
    {
      "cell_type": "code",
      "metadata": {
        "colab": {
          "base_uri": "https://localhost:8080/"
        },
        "id": "d2-mPxjR977u",
        "outputId": "c452d45f-8f71-48b0-deae-21de3313efba"
      },
      "source": [
        "print(gradient4)"
      ],
      "execution_count": 23,
      "outputs": [
        {
          "output_type": "stream",
          "text": [
            "[  0.31098359  -1.22246313  -1.12077183  -1.01073363  -0.9326173\n",
            "  -0.88330036  -0.85677301  -0.84816143  -0.85385183  -0.87117791\n",
            "  -0.89814369  -0.93322623  -0.97524099  -1.02324998  -1.07649818\n",
            "  -1.13436884  -1.19635145  -1.26201832  -1.33100736  -1.40300894\n",
            "  -1.47775603  -1.55501641  -1.63458673  -1.71628766  -1.79996015\n",
            "  -1.88546227  -1.97266675  -2.06145893  -2.15173501  -2.24340066\n",
            "  -2.33636981  -2.43056369  -2.52590991  -2.62234177  -2.71979765\n",
            "  -2.81822043  -2.91755706  -3.01775812  -3.11877751  -3.2205721\n",
            "  -3.32310146  -3.42632766  -3.530215    -3.63472986  -3.73984052\n",
            "  -3.84551698  -3.95173089  -4.05845535  -4.16566486  -4.2733352\n",
            "  -4.38144332  -4.48996729  -4.59888621  -4.70818015  -4.81783007\n",
            "  -4.92781779  -5.03812591  -5.14873779  -5.25963749  -5.37080972\n",
            "  -5.48223983  -5.59391376  -5.705818    -5.81793957  -5.930266\n",
            "  -6.04278529  -6.15548588  -6.26835666  -6.38138693  -6.49456635\n",
            "  -6.607885    -6.72133326  -6.8349019   -6.94858197  -7.06236486\n",
            "  -7.17624224  -7.29020608  -7.40424859  -7.51836229  -7.63253991\n",
            "  -7.74677443  -7.86105907  -7.97538727  -8.08975268  -8.20414916\n",
            "  -8.31857077  -8.43301175  -8.54746654  -8.66192975  -8.77639616\n",
            "  -8.89086071  -9.00531853  -9.11976486  -9.23419513  -9.34860489\n",
            "  -9.46298983  -9.57734581  -9.69166877  -9.80595481  -9.92020014\n",
            " -10.03440111 -10.14855416 -10.26265586 -10.37670288 -10.49069199\n",
            " -10.60462008 -10.71848413 -10.83228122 -10.94600852 -11.0596633\n",
            " -11.1732429  -11.28674476 -11.40016642 -11.51350548 -11.62675961\n",
            " -11.73992659 -11.85300425 -11.96599051 -12.07888334 -12.19168081\n",
            " -12.30438103 -12.41698219 -12.52948254 -12.6418804  -12.75417415\n",
            " -12.86636222 -12.9784431  -13.09041534 -13.20227756 -13.31402841\n",
            " -13.4256666  -13.53719091 -13.64860015 -13.75989317 -13.8710689\n",
            " -13.98212629 -14.09306435 -14.20388212 -14.31457871 -14.42515323\n",
            " -14.53560488 -14.64593286 -14.75613644 -14.86621491 -14.9761676\n",
            " -15.08599388 -15.19569316 -15.30526489 -15.41470853 -15.5240236\n",
            " -15.63320964 -15.74226622 -15.85119295 -15.95998947 -16.06865545\n",
            " -16.17719057 -16.28559457 -16.3938672  -16.50200824 -16.61001749\n",
            " -16.7178948  -16.82564001 -16.93325301 -17.04073372 -17.14808206\n",
            " -17.25529799 -17.36238148 -17.46933255 -17.57615121 -17.68283751\n",
            " -17.7893915  -17.89581329 -18.00210297 -18.10826066 -18.21428652\n",
            " -18.32018071 -18.4259434  -18.53157479 -18.63707511 -18.74244458\n",
            " -18.84768345 -18.95279199 -19.05777049 -19.16261923 -19.26733853\n",
            " -19.37192872 -19.47639014 -19.58072315 -19.68492811 -19.78900541\n",
            " -19.89295544 -19.99677861 -20.10047535 -20.20404608 -20.30749125\n",
            " -20.41081133 -20.51400677 -20.61707805 -20.72002567 -20.82285013\n",
            " -20.92555194 -21.02813161 -21.13058969 -21.2329267  -21.3351432\n",
            " -21.43723974 -21.5392169  -21.64107525 -21.74281537 -21.84443785\n",
            " -21.9459433  -22.04733231 -22.14860552 -22.24976353 -22.35080698\n",
            " -22.4517365  -22.55255274 -22.65325635 -22.75384797 -22.85432827\n",
            " -22.95469792 -23.0549576  -23.15510797 -23.25514973 -23.35508356\n",
            " -23.45491015 -23.55463021 -23.65424444 -23.75375355 -23.85315824\n",
            " -23.95245924 -24.05165727 -24.15075305 -24.24974731 -24.34864078\n",
            " -24.4474342  -24.5461283  -24.64472384 -24.74322154 -24.84162217\n",
            " -24.93992647 -25.0381352  -25.13624911 -25.23426897 -25.33219552\n",
            " -25.43002955 -25.5277718  -25.62542306 -25.72298408 -25.82045565\n",
            " -25.91783853 -26.01513349 -26.11234132 -26.20946279 -26.30649868\n",
            " -26.40344976 -26.50031683 -26.59710065 -26.69380202 -26.79042172\n",
            " -26.88696052 -26.98341922 -27.0797986  -27.17609945 -27.27232254\n",
            " -27.36846868 -27.46453863 -27.5605332  -27.65645316 -27.75229931\n",
            " -27.84807242 -27.94377329 -28.0394027  -28.13496143 -28.23045027\n",
            " -28.32587    -28.42122142 -28.51650529 -28.61172241 -28.70687355\n",
            " -28.8019595  -28.89698103 -28.99193892 -29.08683396 -29.18166692\n",
            " -29.27643857 -29.37114969 -29.46580105 -29.56039343 -29.65492759\n",
            " -29.74940431 -29.84382434 -29.93818847 -30.03249744 -30.12675203\n",
            " -30.220953   -30.3151011  -30.4091971  -30.50324175 -30.5972358\n",
            " -30.69118    -30.78507512 -30.87892188 -30.97272105 -31.06647337\n",
            " -31.16017957 -31.2538404  -31.3474566  -31.4410289  -31.53455803\n",
            " -31.62804473 -31.72148972 -31.81489374 -31.9082575  -32.00158173\n",
            " -32.09486714 -32.18811445 -32.28132439 -32.37449765 -32.46763495\n",
            " -32.56073699 -32.65380448 -32.74683812 -32.83983861 -32.93280664\n",
            " -33.0257429  -33.1186481  -33.2115229  -33.30436801 -33.39718409\n",
            " -33.48997184 -33.58273192 -33.675465   -33.76817177 -33.86085288\n",
            " -33.953509   -34.04614079 -34.13874891 -34.23133401 -34.32389675\n",
            " -34.41643778 -34.50895774 -34.60145727 -34.69393702 -34.78639761\n",
            " -34.8788397  -34.97126389 -35.06367083 -35.15606113 -35.24843542\n",
            " -35.34079432 -35.43313843 -35.52546837 -35.61778475 -35.71008817\n",
            " -35.80237923 -35.89465853 -35.98692667 -36.07918423 -36.17143181\n",
            " -36.26366999 -36.35589935 -36.44812046 -36.54033391 -36.63254027\n",
            " -36.72474009 -36.81693395 -36.90912241 -37.00130602 -37.09348535\n",
            " -37.18566093 -37.27783332 -37.37000306 -37.46217069 -37.55433676\n",
            " -37.64650178 -37.7386663  -37.83083084 -37.92299592 -38.01516206\n",
            " -38.10732978 -38.1994996  -38.29167202 -38.38384754 -38.47602668\n",
            " -38.56820992 -38.66039777 -38.75259072 -38.84478926 -38.93699386\n",
            " -39.02920502 -39.12142321 -39.21364891 -39.30588258 -39.3981247\n",
            " -39.49037573 -39.58263613 -39.67490636 -39.76718687 -39.85947811\n",
            " -39.95178054 -40.04409458 -40.13642069 -40.2287593  -40.32111084\n",
            " -40.41347575 -40.50585444 -40.59824734 -40.69065488 -40.78307746\n",
            " -40.87551551 -40.96796942 -41.06043961 -41.15292647 -41.2454304\n",
            " -41.33795181 -41.43049108 -41.5230486  -41.61562476 -41.70821994\n",
            " -41.80083451 -41.89346885 -41.98612333 -42.07879833 -42.1714942\n",
            " -42.26421131 -42.35695001 -42.44971066 -42.54249361 -42.63529921\n",
            " -42.72812781 -42.82097974 -42.91385534 -43.00675495 -43.09967889\n",
            " -43.19262751 -43.28560112 -43.37860004 -43.47162459 -43.56467509\n",
            " -43.65775184 -43.75085516 -43.84398536 -43.93714272 -44.03032756\n",
            " -44.12354017 -44.21678084 -44.31004986 -44.40334751 -44.49667408\n",
            " -44.59002984 -44.68341508 -44.77683007 -44.87027507 -44.96375036\n",
            " -45.05725619 -45.15079283 -45.24436054 -45.33795956 -45.43159016\n",
            " -45.52525257 -45.61894706 -45.71267384 -45.80643317 -45.90022529\n",
            " -45.99405041 -46.08790879 -46.18180063 -46.27572616 -46.36968562\n",
            " -46.4636792  -46.55770714 -46.65176963 -46.7458669  -46.83999914\n",
            " -46.93416656 -47.02836935 -47.12260773 -47.21688187 -47.31119197\n",
            " -47.40553823 -47.49992082 -47.59433993 -47.68879574 -47.78328842\n",
            " -47.87781816 -47.97238512 -48.06698946 -48.16163137 -48.256311\n",
            " -48.3510285  -48.44578404 -48.54057778 -48.63540986 -48.73028044\n",
            " -48.82518966 -48.92013766 -49.01512459 -49.11015058 -49.20521578]\n"
          ],
          "name": "stdout"
        }
      ]
    },
    {
      "cell_type": "code",
      "metadata": {
        "colab": {
          "base_uri": "https://localhost:8080/",
          "height": 295
        },
        "id": "8rJQjp41-DyF",
        "outputId": "13419f34-bc63-4196-ae92-29b4085605b1"
      },
      "source": [
        "plt.title(\"sin(x ^ 0.5)\")\n",
        "plt.xlabel(\"x\")\n",
        "plt.ylabel(\"y\")\n",
        "plt.plot(array_xy4[:, 0], array_xy4[:, 1])\n",
        "plt.grid(linestyle=\"dotted\")\n",
        "plt.show()"
      ],
      "execution_count": 24,
      "outputs": [
        {
          "output_type": "display_data",
          "data": {
            "image/png": "[encoded data removed]",
            "text/plain": [
              "<Figure size 432x288 with 1 Axes>"
            ]
          },
          "metadata": {
            "tags": [],
            "needs_background": "light"
          }
        }
      ]
    },
    {
      "cell_type": "markdown",
      "metadata": {
        "id": "NQP0bZVe2UzX"
      },
      "source": [
        "【問題６】最小値を求める\n",
        "\n",
        "問題5で扱った関数のyの最小値を求めます。xの範囲も問題5と同様とします。\n",
        "\n",
        "\n",
        "今回は勾配降下法ではなく、ndarrayのminメソッド、argminメソッドを用いてください。minメソッドは最小値を、argminメソッドは最小値のインデックスを取得することができます。\n",
        "\n",
        "\n",
        "また、最小のyをとる前後の勾配を表示してください。"
      ]
    },
    {
      "cell_type": "code",
      "metadata": {
        "colab": {
          "base_uri": "https://localhost:8080/"
        },
        "id": "cN3WkciKM2-w",
        "outputId": "dcf01ce2-c5e9-47f2-ef62-3149218f5f7f"
      },
      "source": [
        "# 最小値、および、そのインデックスの取得\n",
        "print(array_xy2.min(axis = 0)[1], 'インデックス:{}'.format(array_xy2.argmin(axis = 0)[1]))\n",
        "print(array_xy3.min(axis = 0)[1], 'インデックス:{}'.format(array_xy3.argmin(axis = 0)[1]))\n",
        "print(array_xy4.min(axis = 0)[1], 'インデックス:{}'.format(array_xy4.argmin(axis = 0)[1]))"
      ],
      "execution_count": 29,
      "outputs": [
        {
          "output_type": "stream",
          "text": [
            "5.048709793414476e-25 インデックス:500\n",
            "0.9505505632959851 インデックス:498\n",
            "-0.9999997540298113 インデックス:222\n"
          ],
          "name": "stdout"
        }
      ]
    },
    {
      "cell_type": "code",
      "metadata": {
        "colab": {
          "base_uri": "https://localhost:8080/"
        },
        "id": "lqlBw0P_PEu9",
        "outputId": "2453ed1e-9a24-467b-fd52-e2a2cff92d6a"
      },
      "source": [
        "# 最小のyをとる前後の勾配\n",
        "print(gradient2[499 : 501])\n",
        "print(gradient3[497 : 499])\n",
        "print(gradient4[221 : 223])"
      ],
      "execution_count": 30,
      "outputs": [
        {
          "output_type": "stream",
          "text": [
            "[-1.40737488e+10  1.00000000e-02]\n",
            "[ 6.21181255 10.65853862]\n",
            "[-23.0549576  -23.15510797]\n"
          ],
          "name": "stdout"
        }
      ]
    }
  ]
}
{
  "nbformat": 4,
  "nbformat_minor": 0,
  "metadata": {
    "colab": {
      "name": "富士山折紙問題.ipynb",
      "provenance": [],
      "collapsed_sections": [],
      "authorship_tag": "ABX9TyPLWB3sHFryReGi8FJG/lyL",
      "include_colab_link": true
    },
    "kernelspec": {
      "name": "python3",
      "display_name": "Python 3"
    },
    "language_info": {
      "name": "python"
    }
  },
  "cells": [
    {
      "cell_type": "markdown",
      "metadata": {
        "id": "view-in-github",
        "colab_type": "text"
      },
      "source": [
        "<a href=\"https://colab.research.google.com/github/shinmiura/diveintocode-ml/blob/master/%E5%AF%8C%E5%A3%AB%E5%B1%B1%E6%8A%98%E7%B4%99%E5%95%8F%E9%A1%8C.ipynb\" target=\"_parent\"><img src=\"https://colab.research.google.com/assets/colab-badge.svg\" alt=\"Open In Colab\"/></a>"
      ]
    },
    {
      "cell_type": "markdown",
      "metadata": {
        "id": "UvUhil2Uenhf"
      },
      "source": [
        "目的\n",
        "\n",
        "・基礎的なプログラミング力を確認する\n",
        "\n",
        "・数式をプログラムに落とし込めるようになる"
      ]
    },
    {
      "cell_type": "markdown",
      "metadata": {
        "id": "Lm5bzk9jezsm"
      },
      "source": [
        "学び方"
      ]
    },
    {
      "cell_type": "markdown",
      "metadata": {
        "id": "z33AChBGe1Pq"
      },
      "source": [
        "Python入門課題の発展です。やや複雑な数式が登場しますので、どのようにプログラムに落とし込めるかを考えてください。\n",
        "\n"
      ]
    },
    {
      "cell_type": "markdown",
      "metadata": {
        "id": "3ZHUUfZTfBeQ"
      },
      "source": [
        "【問題1】何回折ったら富士山を超えるか"
      ]
    },
    {
      "cell_type": "markdown",
      "metadata": {
        "id": "9HYxAu4dHiA2"
      },
      "source": [
        "厚さが「富士山の高さ(3776m)」を超えるのに必要な紙を折る最小回数を計算するプログラムを作成してください。"
      ]
    },
    {
      "cell_type": "code",
      "metadata": {
        "colab": {
          "base_uri": "https://localhost:8080/"
        },
        "id": "CwcETJThHncx",
        "outputId": "c4b01c76-1e85-45d4-f652-70abab02b9c6"
      },
      "source": [
        "# 紙の厚さ（定数）\n",
        "THICKNESS = 0.00008\n",
        "\n",
        "# 富士山の高さ\n",
        "mtfuji_elevation = 3776\n",
        "\n",
        "# リストの作成\n",
        "folded_thickness_list = [THICKNESS]\n",
        "\n",
        "# 折る回数\n",
        "folded_count = 0  # 初期値の設定\n",
        "\n",
        "while folded_thickness_list[-1] <= mtfuji_elevation:\n",
        "  folded_thickness_list.append(folded_thickness_list[-1] * 2)\n",
        "  folded_count += 1\n",
        "\n",
        "print(\"折紙を{}回、折ると富士山の高さ{}mを超えます。\".format(folded_count, mtfuji_elevation))"
      ],
      "execution_count": 5,
      "outputs": [
        {
          "output_type": "stream",
          "text": [
            "折紙を26回、折ると富士山の高さ3776mを超えます。\n"
          ],
          "name": "stdout"
        }
      ]
    },
    {
      "cell_type": "code",
      "metadata": {
        "id": "Utg6adAEL0Vo",
        "colab": {
          "base_uri": "https://localhost:8080/"
        },
        "outputId": "f39d4026-a511-4aa1-f248-fa4a69987800"
      },
      "source": [
        "# 回数による検算\n",
        "n_folded = 25\n",
        "folded_thickness = THICKNESS * (2 ** n_folded)\n",
        "print(\"回数：{}、厚さ：{}メートル\".format(n_folded, folded_thickness))\n",
        "\n",
        "n_folded = 26\n",
        "folded_thickness = THICKNESS * (2 ** n_folded)\n",
        "print(\"回数：{}、厚さ：{}メートル\".format(n_folded, folded_thickness))"
      ],
      "execution_count": 4,
      "outputs": [
        {
          "output_type": "stream",
          "text": [
            "回数：25、厚さ：2684.35456メートル\n",
            "回数：26、厚さ：5368.70912メートル\n"
          ],
          "name": "stdout"
        }
      ]
    },
    {
      "cell_type": "markdown",
      "metadata": {
        "id": "KEtUF9ddHqSp"
      },
      "source": [
        ""
      ]
    },
    {
      "cell_type": "markdown",
      "metadata": {
        "id": "D3nIoeTlLrTg"
      },
      "source": [
        "【問題2】任意の厚さに対応した関数"
      ]
    },
    {
      "cell_type": "markdown",
      "metadata": {
        "id": "I8Ju1sYvLvzv"
      },
      "source": [
        "高さを入力すると、それを超えるのに必要な紙を折る最小回数を出力する関数を実装してください。引数として、折る前の厚さ $t_{0}$ も設定できるようにしましょう。\n",
        "\n",
        "\n",
        "この関数を利用して、「最も近い太陽以外の恒星」に到達するには紙を何回折る必要があるか計算してください。\n",
        "「最も近い太陽以外の恒星」は「プロキシマ・ケンタウリ」で、地球からの距離はおよそ $4.0175 \\times 10^{16}$m です。\n",
        "\n"
      ]
    },
    {
      "cell_type": "code",
      "metadata": {
        "colab": {
          "base_uri": "https://localhost:8080/"
        },
        "id": "j4PSZG0-L_Pj",
        "outputId": "d12b5c30-4660-42b0-bdc3-e19fde94d6a2"
      },
      "source": [
        "def compute_n_foldes(elevation):\n",
        "    \"\"\"高さを入力すると、それを超えるのに必要な紙を折る最小回数を出力する関数。\n",
        "    Parameteres\n",
        "    -----------\n",
        "    elevation: int\n",
        "        判定したい高さ（または距離）。単位：メートル\n",
        "    Returns\n",
        "    -------\n",
        "    fold_count : int\n",
        "        折る回数 \n",
        "    \"\"\"\n",
        "    # ここにコードを書く。\n",
        "    THICKNESS = 0.00008\n",
        "    # リストの作成、初期値の代入\n",
        "    folded_thickness_list = [THICKNESS]\n",
        "    # 折る回数\n",
        "    folded_count = 0  # 初期値の設定\n",
        "\n",
        "    while folded_thickness_list[-1] <= elevation:\n",
        "      folded_thickness_list.append(folded_thickness_list[-1] * 2)\n",
        "      folded_count += 1\n",
        "    return folded_count\n",
        "\n",
        "mtfuji_elevation = 3776\n",
        "elevation = mtfuji_elevation\n",
        "folded_count = compute_n_foldes(elevation)\n",
        "print(\"折紙を{}回、折ると高さ{}mを超えます。\".format(folded_count, elevation))"
      ],
      "execution_count": 15,
      "outputs": [
        {
          "output_type": "stream",
          "text": [
            "折紙を26回、折ると高さ3776mを超えます。\n"
          ],
          "name": "stdout"
        }
      ]
    },
    {
      "cell_type": "markdown",
      "metadata": {
        "id": "5Ziyqss_UTmO"
      },
      "source": [
        "【問題3】必要な紙の長さ"
      ]
    },
    {
      "cell_type": "markdown",
      "metadata": {
        "id": "p3An7cMqUk2R"
      },
      "source": [
        "実際のところ身近にある紙は43回はおろか10回も折れません。しかし、大きな紙ほどたくさん折ることができ、トイレットペーパーのような長い紙を一方向に折ることを考えた時の折れる回数を求める公式が存在します。\n",
        "\n",
        "\n",
        "厚さ $t_{0}$ の紙をn回折るために必要な紙の長さLは以下の公式で求まります。\n",
        "\n",
        "\n",
        "L=πt0/6(2^n+4)(2^n−1)\n",
        "\n",
        "この公式を利用して、実際に紙を折り任意の厚さに到達するために必要な紙の長さを求める関数を実装してください。\n",
        "\n",
        "\n",
        "そしてこれを使って「月」「富士山」「最も近い太陽以外の恒星」に届くために必要な紙の長さを求めてください。\n",
        "\n"
      ]
    },
    {
      "cell_type": "code",
      "metadata": {
        "id": "X_zEVvOtDeOd"
      },
      "source": [
        "import math"
      ],
      "execution_count": 16,
      "outputs": []
    },
    {
      "cell_type": "markdown",
      "metadata": {
        "id": "wusZKDi9emJp"
      },
      "source": [
        ""
      ]
    },
    {
      "cell_type": "code",
      "metadata": {
        "colab": {
          "base_uri": "https://localhost:8080/"
        },
        "id": "5eL7hDKaYEMB",
        "outputId": "9eab006e-da96-4078-8612-53a67855a218"
      },
      "source": [
        "def compute_paper_length(elevation):\n",
        "    \"\"\"\n",
        "    必要な紙の長さを出力する関数。\n",
        "    Parameteres\n",
        "    -----------\n",
        "    elevation : int\n",
        "  　　　　　　　判定したい距離。単位：メートル\n",
        "    Returns\n",
        "    -------\n",
        "    paper_length : int\n",
        "      必要な紙の長さ。単位：メートル \n",
        "    fold_count : int\n",
        "      折る回数 \n",
        "    \"\"\"\n",
        "    # ここにコードを書く。passは何もしないことを意味する命令である。\n",
        "    folded_count = compute_n_foldes(elevation)\n",
        "    paper_length = (math.pi * THICKNESS) / 6 * (2 ** folded_count + 4) * (2 ** folded_count - 1)    \n",
        "    \n",
        "    return paper_length, folded_count\n",
        "\n",
        "moon = 384400 * 1000 # 月までの距離はWikipedia参照。単位をメートルに揃える\n",
        "elevation = moon\n",
        "paper_length, folded_count = compute_paper_length(elevation)\n",
        "print(\"{}回折ると{}mを超える。その時、必要となる紙の長さは{}m\".format(folded_count, elevation, paper_length))\n",
        "\n",
        "mtfuji = 3776\n",
        "elevation = mtfuji\n",
        "paper_length, folded_count = compute_paper_length(elevation)\n",
        "print(\"{}回折ると{}mを超える。その時、必要となる紙の長さは{}m\".format(folded_count, elevation, paper_length))\n",
        "\n",
        "\n",
        "centauri = 4.2465 * 9500000000000 * 1000 # ケンタウリまでの距離はWikipedia参照。単位が光年のためkmへ変換し、その後単位をメートルに揃える\n",
        "elevation = centauri\n",
        "paper_length, folded_count = compute_paper_length(elevation)\n",
        "print(\"{}回折ると{}mを超える。その時、必要となる紙の長さは{}m\".format(folded_count, elevation, paper_length))"
      ],
      "execution_count": 17,
      "outputs": [
        {
          "output_type": "stream",
          "text": [
            "43回折ると384400000mを超える。その時、必要となる紙の長さは3.240919444170781e+21m\n",
            "26回折ると3776mを超える。その時、必要となる紙の長さは188646348487.24017m\n",
            "69回折ると4.034175e+16mを超える。その時、必要となる紙の長さは1.4595803601100348e+37m\n"
          ],
          "name": "stdout"
        }
      ]
    }
  ]
}
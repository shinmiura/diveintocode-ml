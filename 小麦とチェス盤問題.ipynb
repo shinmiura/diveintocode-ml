{
  "nbformat": 4,
  "nbformat_minor": 0,
  "metadata": {
    "colab": {
      "name": "小麦とチェス盤問題.ipynb",
      "provenance": [],
      "authorship_tag": "ABX9TyOE3iFZ8yRFgrRIDPIiogg+",
      "include_colab_link": true
    },
    "kernelspec": {
      "name": "python3",
      "display_name": "Python 3"
    },
    "language_info": {
      "name": "python"
    }
  },
  "cells": [
    {
      "cell_type": "markdown",
      "metadata": {
        "id": "view-in-github",
        "colab_type": "text"
      },
      "source": [
        "<a href=\"https://colab.research.google.com/github/shinmiura/diveintocode-ml/blob/master/%E5%B0%8F%E9%BA%A6%E3%81%A8%E3%83%81%E3%82%A7%E3%82%B9%E7%9B%A4%E5%95%8F%E9%A1%8C.ipynb\" target=\"_parent\"><img src=\"https://colab.research.google.com/assets/colab-badge.svg\" alt=\"Open In Colab\"/></a>"
      ]
    },
    {
      "cell_type": "markdown",
      "metadata": {
        "id": "bv6awJ4hPHbp"
      },
      "source": [
        "テキストの目的\n",
        "\n",
        "・数式演算ライブラリのNumPyに慣れる\n",
        "\n",
        "・グラフの表示に慣れる\n"
      ]
    },
    {
      "cell_type": "markdown",
      "metadata": {
        "id": "lKbf0EkOPQf_"
      },
      "source": [
        "どのように学ぶか\n",
        "\n",
        "累乗に関する逸話の問題をNumPyを用いて解いていきます。"
      ]
    },
    {
      "cell_type": "markdown",
      "metadata": {
        "id": "uLKbXTf4LJze"
      },
      "source": [
        "曽呂利新左衛門の米の逸話に似たものとして、小麦とチェス盤の話があります。これを題材に多次元配列を扱うための数値計算ライブラリ NumPy の使い方に慣れていきます。\n",
        "\n",
        "\n",
        "If a chessboard were to have wheat placed upon each square such that one grain were placed on the first square, two on the second, four on the third, and so on (doubling the number of grains on each subsequent square), how many grains of wheat would be on the chessboard at the finish?\n",
        "\n",
        "\n",
        "Wheat and chessboard problem - Wikipedia（最終閲覧日：2019年5月31日）\n",
        "\n",
        "\n",
        "8×8マスのチェス盤の上に、小麦の粒を1, 2, 4と順番に置いていくと最終的な小麦の数はどのようになるかという問題です。"
      ]
    },
    {
      "cell_type": "markdown",
      "metadata": {
        "id": "mMP-pYUaLUnS"
      },
      "source": [
        "まずは4マスの板に小麦の粒を並べていくことを考えます。配列（リスト）の1つの要素を1つのマスに見立てています。\n",
        "\n",
        "\n",
        "Pythonのリストとfor文を使い次のように作ることができます。"
      ]
    },
    {
      "cell_type": "code",
      "metadata": {
        "id": "cNLt0EDUPRvH"
      },
      "source": [
        "import numpy as np"
      ],
      "execution_count": 1,
      "outputs": []
    },
    {
      "cell_type": "code",
      "metadata": {
        "id": "XCbB0iqHLaZD",
        "colab": {
          "base_uri": "https://localhost:8080/"
        },
        "outputId": "93a51a1a-36ff-453f-d16f-8f70937654a9"
      },
      "source": [
        "n_squares = 4\n",
        "small_board_list = [1]\n",
        "for _ in range(n_squares - 1):\n",
        "    small_board_list.append(2*small_board_list[-1])\n",
        "print(\"4マスの板に小麦を並べる（リスト）：{}\".format(small_board_list))"
      ],
      "execution_count": 2,
      "outputs": [
        {
          "output_type": "stream",
          "text": [
            "4マスの板に小麦を並べる（リスト）：[1, 2, 4, 8]\n"
          ],
          "name": "stdout"
        }
      ]
    },
    {
      "cell_type": "markdown",
      "metadata": {
        "id": "wARxKdbbLg57"
      },
      "source": [
        "このリストにnp.array()を使うことで、ndarrayを作成することができます。"
      ]
    },
    {
      "cell_type": "code",
      "metadata": {
        "id": "haZvLHHuLlVn",
        "colab": {
          "base_uri": "https://localhost:8080/"
        },
        "outputId": "dd93933e-db99-4b7b-8cba-4f43b425d83f"
      },
      "source": [
        "small_board_ndarray = np.array(small_board_list)\n",
        "print(\"4マスの板に小麦を並べる（ndarray）：{}\".format(small_board_ndarray))"
      ],
      "execution_count": 3,
      "outputs": [
        {
          "output_type": "stream",
          "text": [
            "4マスの板に小麦を並べる（ndarray）：[1 2 4 8]\n"
          ],
          "name": "stdout"
        }
      ]
    },
    {
      "cell_type": "markdown",
      "metadata": {
        "id": "IAyv9GMQLoeG"
      },
      "source": [
        "【問題1】2×2マスのチェス盤の小麦の数\n",
        "2×2マスのチェス盤をndarrayによって表現し、各マスの小麦の数を計算してください。左上のマスに小麦を1つ置いた後、その右が2つ、左下が4つ、右下が8つという風に進みます。\n",
        "\n",
        "\n",
        "サンプルコードで作成したndarrayのshapeの変形を行ってください。"
      ]
    },
    {
      "cell_type": "code",
      "metadata": {
        "id": "wDfEl9FqLnrl",
        "colab": {
          "base_uri": "https://localhost:8080/"
        },
        "outputId": "429e1645-1081-4e82-b217-028a167a1390"
      },
      "source": [
        "print(small_board_ndarray.shape)\n",
        "square_size = (2, 2)\n",
        "b_ndarray = small_board_ndarray.reshape(square_size)\n",
        "print(b_ndarray)"
      ],
      "execution_count": 8,
      "outputs": [
        {
          "output_type": "stream",
          "text": [
            "(4,)\n",
            "[[1 2]\n",
            " [4 8]]\n"
          ],
          "name": "stdout"
        }
      ]
    },
    {
      "cell_type": "markdown",
      "metadata": {
        "id": "HZ2CR4PULzX7"
      },
      "source": [
        ""
      ]
    },
    {
      "cell_type": "markdown",
      "metadata": {
        "id": "_8QVG-L2dNrL"
      },
      "source": [
        "【問題2】n×mマスへの拡張"
      ]
    },
    {
      "cell_type": "markdown",
      "metadata": {
        "id": "LfGWpvVzdRva"
      },
      "source": [
        "n×mマスのチェス盤の小麦の数を記したndarrayを返す関数を作成してください。そして、この関数を使い8×8マスのチェス盤の小麦の数を求めてください。"
      ]
    },
    {
      "cell_type": "code",
      "metadata": {
        "colab": {
          "base_uri": "https://localhost:8080/",
          "height": 355
        },
        "id": "8SbFexfVcuV3",
        "outputId": "d39d089e-9d4a-448a-e150-202d2914f691"
      },
      "source": [
        "def wheat(n_squares):\n",
        "  board_list = [1]\n",
        "  for _ in range(n_squares - 1):\n",
        "    board_list.append(2 * (board_list[-1]))\n",
        "\n",
        "  board_list = np.array(board_list).reshape(n_squares)\n",
        "\n",
        "  return board_ndarray\n",
        "\n",
        "n_squares = (8, 8)\n",
        "board_ndarray = wheat(n_squares)\n",
        "\n",
        "print(\"{}マスのチェス盤の小麦の数は{}\".format(n_squares, board_ndarray))"
      ],
      "execution_count": 24,
      "outputs": [
        {
          "output_type": "error",
          "ename": "TypeError",
          "evalue": "ignored",
          "traceback": [
            "\u001b[0;31m---------------------------------------------------------------------------\u001b[0m",
            "\u001b[0;31mTypeError\u001b[0m                                 Traceback (most recent call last)",
            "\u001b[0;32m<ipython-input-24-0892e73ca582>\u001b[0m in \u001b[0;36m<module>\u001b[0;34m()\u001b[0m\n\u001b[1;32m      9\u001b[0m \u001b[0;34m\u001b[0m\u001b[0m\n\u001b[1;32m     10\u001b[0m \u001b[0mn_squares\u001b[0m \u001b[0;34m=\u001b[0m \u001b[0;34m(\u001b[0m\u001b[0;36m8\u001b[0m\u001b[0;34m,\u001b[0m \u001b[0;36m8\u001b[0m\u001b[0;34m)\u001b[0m\u001b[0;34m\u001b[0m\u001b[0;34m\u001b[0m\u001b[0m\n\u001b[0;32m---> 11\u001b[0;31m \u001b[0mboard_ndarray\u001b[0m \u001b[0;34m=\u001b[0m \u001b[0mwheat\u001b[0m\u001b[0;34m(\u001b[0m\u001b[0mn_squares\u001b[0m\u001b[0;34m)\u001b[0m\u001b[0;34m\u001b[0m\u001b[0;34m\u001b[0m\u001b[0m\n\u001b[0m\u001b[1;32m     12\u001b[0m \u001b[0;34m\u001b[0m\u001b[0m\n\u001b[1;32m     13\u001b[0m \u001b[0mprint\u001b[0m\u001b[0;34m(\u001b[0m\u001b[0;34m\"{}マスのチェス盤の小麦の数は{}\"\u001b[0m\u001b[0;34m.\u001b[0m\u001b[0mformat\u001b[0m\u001b[0;34m(\u001b[0m\u001b[0mn_squares\u001b[0m\u001b[0;34m,\u001b[0m \u001b[0mboard_ndarray\u001b[0m\u001b[0;34m)\u001b[0m\u001b[0;34m)\u001b[0m\u001b[0;34m\u001b[0m\u001b[0;34m\u001b[0m\u001b[0m\n",
            "\u001b[0;32m<ipython-input-24-0892e73ca582>\u001b[0m in \u001b[0;36mwheat\u001b[0;34m(n_squares)\u001b[0m\n\u001b[1;32m      1\u001b[0m \u001b[0;32mdef\u001b[0m \u001b[0mwheat\u001b[0m\u001b[0;34m(\u001b[0m\u001b[0mn_squares\u001b[0m\u001b[0;34m)\u001b[0m\u001b[0;34m:\u001b[0m\u001b[0;34m\u001b[0m\u001b[0;34m\u001b[0m\u001b[0m\n\u001b[1;32m      2\u001b[0m   \u001b[0mboard_list\u001b[0m \u001b[0;34m=\u001b[0m \u001b[0;34m[\u001b[0m\u001b[0;36m1\u001b[0m\u001b[0;34m]\u001b[0m\u001b[0;34m\u001b[0m\u001b[0;34m\u001b[0m\u001b[0m\n\u001b[0;32m----> 3\u001b[0;31m   \u001b[0;32mfor\u001b[0m \u001b[0m_\u001b[0m \u001b[0;32min\u001b[0m \u001b[0mrange\u001b[0m\u001b[0;34m(\u001b[0m\u001b[0mn_squares\u001b[0m \u001b[0;34m-\u001b[0m \u001b[0;36m1\u001b[0m\u001b[0;34m)\u001b[0m\u001b[0;34m:\u001b[0m\u001b[0;34m\u001b[0m\u001b[0;34m\u001b[0m\u001b[0m\n\u001b[0m\u001b[1;32m      4\u001b[0m     \u001b[0mboard_list\u001b[0m\u001b[0;34m.\u001b[0m\u001b[0mappend\u001b[0m\u001b[0;34m(\u001b[0m\u001b[0;36m2\u001b[0m \u001b[0;34m*\u001b[0m \u001b[0;34m(\u001b[0m\u001b[0mboard_list\u001b[0m\u001b[0;34m[\u001b[0m\u001b[0;34m-\u001b[0m\u001b[0;36m1\u001b[0m\u001b[0;34m]\u001b[0m\u001b[0;34m)\u001b[0m\u001b[0;34m)\u001b[0m\u001b[0;34m\u001b[0m\u001b[0;34m\u001b[0m\u001b[0m\n\u001b[1;32m      5\u001b[0m \u001b[0;34m\u001b[0m\u001b[0m\n",
            "\u001b[0;31mTypeError\u001b[0m: unsupported operand type(s) for -: 'tuple' and 'int'"
          ]
        }
      ]
    },
    {
      "cell_type": "code",
      "metadata": {
        "colab": {
          "base_uri": "https://localhost:8080/"
        },
        "id": "mcDZYV4rRPuI",
        "outputId": "8282d75e-6a7a-497c-af30-ed41f62ebdd5"
      },
      "source": [
        "def wheat_chess(square_size):\n",
        "  # 関数の目的は、n×mマスのチェス盤の小麦の数を記したndarrayを返すこと\n",
        "  \"\"\"\n",
        "  Parameters\n",
        "  --------\n",
        "  square_size : tuple of int \n",
        "  マスの数 : (default : (8, 8))\n",
        "  Returns\n",
        "  --------\n",
        "  n × mマスのチェス盤の小麦の数\n",
        "  small_board_ndarray2 : \n",
        "  \"\"\"\n",
        "  # 前処理\n",
        "  n_squares = square_size[0] * square_size[1]\n",
        "  small_board_list2 = [1]\n",
        "  for _ in range(n_squares - 1):\n",
        "    small_board_list2.append(2 * small_board_list2[-1])\n",
        "    \n",
        "  small_board_ndarray2 = np.array(small_board_list2).reshape(square_size)\n",
        "\n",
        "  return small_board_ndarray2\n",
        "\n",
        "square_size = (8, 8)\n",
        "small_board_ndarray2 = wheat_chess(square_size = square_size)\n",
        "\n",
        "print(\"{}マスのチェス盤の小麦の数は{}\".format(square_size, small_board_ndarray2))"
      ],
      "execution_count": 39,
      "outputs": [
        {
          "output_type": "stream",
          "text": [
            "(8, 8)マスのチェス盤の小麦の数は[[1.0e+00 2.0e+00 4.0e+00 8.0e+00 1.6e+01 3.2e+01 6.4e+01 1.3e+02]\n",
            " [2.6e+02 5.1e+02 1.0e+03 2.0e+03 4.1e+03 8.2e+03 1.6e+04 3.3e+04]\n",
            " [6.6e+04 1.3e+05 2.6e+05 5.2e+05 1.0e+06 2.1e+06 4.2e+06 8.4e+06]\n",
            " [1.7e+07 3.4e+07 6.7e+07 1.3e+08 2.7e+08 5.4e+08 1.1e+09 2.1e+09]\n",
            " [4.3e+09 8.6e+09 1.7e+10 3.4e+10 6.9e+10 1.4e+11 2.7e+11 5.5e+11]\n",
            " [1.1e+12 2.2e+12 4.4e+12 8.8e+12 1.8e+13 3.5e+13 7.0e+13 1.4e+14]\n",
            " [2.8e+14 5.6e+14 1.1e+15 2.3e+15 4.5e+15 9.0e+15 1.8e+16 3.6e+16]\n",
            " [7.2e+16 1.4e+17 2.9e+17 5.8e+17 1.2e+18 2.3e+18 4.6e+18 9.2e+18]]\n"
          ],
          "name": "stdout"
        }
      ]
    },
    {
      "cell_type": "markdown",
      "metadata": {
        "id": "Tf-1pHcphvHc"
      },
      "source": [
        "【問題3】小麦の数の合計"
      ]
    },
    {
      "cell_type": "markdown",
      "metadata": {
        "id": "Cx-p_1AHhyzY"
      },
      "source": [
        "8×8マスのチェス盤の小麦の数の合計を求めてください。また、各列の平均を求め、それを棒グラフで可視化してください。\n",
        "\n",
        "\n",
        "棒グラフはサンプルコードを用意しています。"
      ]
    },
    {
      "cell_type": "code",
      "metadata": {
        "colab": {
          "base_uri": "https://localhost:8080/"
        },
        "id": "Yb-gafIpnyYE",
        "outputId": "7400ea2d-2e95-4aae-ca9f-4372baba1e03"
      },
      "source": [
        "# 8×8マスのチェス盤の小麦の数の合計\n",
        "sum_board = small_board_ndarray2.sum()\n",
        "print(\"8×8マスのチェス盤の小麦の数合計値は{}\".format(sum_board))"
      ],
      "execution_count": 40,
      "outputs": [
        {
          "output_type": "stream",
          "text": [
            "8×8マスのチェス盤の小麦の数合計値は1.8446744073709552e+19\n"
          ],
          "name": "stdout"
        }
      ]
    },
    {
      "cell_type": "code",
      "metadata": {
        "colab": {
          "base_uri": "https://localhost:8080/"
        },
        "id": "FqasOlk4iBYN",
        "outputId": "f0ab52ea-caa2-4df7-f9e6-c64947f908c1"
      },
      "source": [
        "# 各列の平均\n",
        "mean_board_per_columns = small_board_ndarray2.mean(axis = 0)\n",
        "print(\"各列の平均は{}\".format(mean_board_per_columns))"
      ],
      "execution_count": 41,
      "outputs": [
        {
          "output_type": "stream",
          "text": [
            "各列の平均は[9.0e+15 1.8e+16 3.6e+16 7.2e+16 1.4e+17 2.9e+17 5.8e+17 1.2e+18]\n"
          ],
          "name": "stdout"
        }
      ]
    },
    {
      "cell_type": "code",
      "metadata": {
        "colab": {
          "base_uri": "https://localhost:8080/",
          "height": 295
        },
        "id": "gpupdfPXi4Qn",
        "outputId": "332395d3-5ca3-45a7-be97-101d7f708b59"
      },
      "source": [
        "import matplotlib.pyplot as plt\n",
        "%matplotlib inline\n",
        "plt.xlabel(\"column\")\n",
        "plt.ylabel(\"number\")\n",
        "plt.title(\"number in each column\")\n",
        "plt.bar(np.arange(1,9), mean_board_per_columns)\n",
        "plt.show()"
      ],
      "execution_count": 42,
      "outputs": [
        {
          "output_type": "display_data",
          "data": {
            "image/png": "[encoded data removed]",
            "text/plain": [
              "<Figure size 432x288 with 1 Axes>"
            ]
          },
          "metadata": {
            "tags": [],
            "needs_background": "light"
          }
        }
      ]
    },
    {
      "cell_type": "markdown",
      "metadata": {
        "id": "5Vl61M_2jUje"
      },
      "source": [
        "【問題4】小麦の数のヒートマップ"
      ]
    },
    {
      "cell_type": "markdown",
      "metadata": {
        "id": "hWOrWvXUjm6l"
      },
      "source": [
        "8×8マスのチェス盤の小麦の数をヒートマップとして可視化してください。\n",
        "\n",
        "\n",
        "ヒートマップはサンプルコードを用意しています。\n",
        "\n",
        "\n",
        "《ヒートマップのサンプルコード》\n",
        "\n",
        "\n",
        "4行2列の配列のヒートマップです。値が小さいところが紫、大きいところが黄色になっています。"
      ]
    },
    {
      "cell_type": "code",
      "metadata": {
        "colab": {
          "base_uri": "https://localhost:8080/",
          "height": 295
        },
        "id": "yTFr3VVGjsUy",
        "outputId": "5e5190f7-6991-469a-aabd-6cd273c76cbe"
      },
      "source": [
        "plt.xlabel(\"column\")\n",
        "plt.ylabel(\"row\")\n",
        "plt.title(\"heatmap\")\n",
        "plt.pcolor(small_board_ndarray2.reshape(square_size))\n",
        "plt.show()"
      ],
      "execution_count": 43,
      "outputs": [
        {
          "output_type": "display_data",
          "data": {
            "image/png": "[encoded data removed]",
            "text/plain": [
              "<Figure size 432x288 with 1 Axes>"
            ]
          },
          "metadata": {
            "tags": [],
            "needs_background": "light"
          }
        }
      ]
    },
    {
      "cell_type": "markdown",
      "metadata": {
        "id": "_zCt5yIIj30u"
      },
      "source": [
        "アメリカの発明家レイ・カーツワイルはこの逸話を引用し、「チェス盤の後半」というフレーズを作りました。技術の進歩ははじめの内は社会に対して目立った影響が感じられなくとも、倍に倍にと進んでいくと、チェス盤の後半にさしかかったころから、急激な変化を起こすということを伝えています。"
      ]
    },
    {
      "cell_type": "markdown",
      "metadata": {
        "id": "R54MIjKpj3cT"
      },
      "source": [
        "【問題5】後半は前半の何倍か\n"
      ]
    },
    {
      "cell_type": "markdown",
      "metadata": {
        "id": "8T0BtliFj3Ax"
      },
      "source": [
        "チェス盤の後半にある小麦の数は前半にある小麦の数の何倍かを求めてください。前半とは配列の0から3行目、後半は4から7行目です。"
      ]
    },
    {
      "cell_type": "code",
      "metadata": {
        "colab": {
          "base_uri": "https://localhost:8080/"
        },
        "id": "a3zfNQZFsarf",
        "outputId": "ba952eb6-91ad-4ef3-c1fe-570ef2b90b8a"
      },
      "source": [
        "# チェス盤の後半にある小麦の数を算出する\n",
        "latter_half = small_board_ndarray2[4:, :].sum()\n",
        "# チェス盤の前半にある小麦の数を算出する\n",
        "first_half = small_board_ndarray2[:4, :].sum()\n",
        "# 両者を比較し、後半が前半の何倍かを計算する\n",
        "how_many_times = latter_half / first_half\n",
        "print(\"チェス盤の後半にある小麦の数は前半にある小麦の数の{}倍\".format(how_many_times))"
      ],
      "execution_count": 44,
      "outputs": [
        {
          "output_type": "stream",
          "text": [
            "チェス盤の後半にある小麦の数は前半にある小麦の数の4294967296.0倍\n"
          ],
          "name": "stdout"
        }
      ]
    },
    {
      "cell_type": "markdown",
      "metadata": {
        "id": "_gX7YlQGPF8I"
      },
      "source": [
        ""
      ]
    },
    {
      "cell_type": "markdown",
      "metadata": {
        "id": "T_REuotnEh1R"
      },
      "source": [
        "【問題6】他の計算方法によるn×mマスへの拡張"
      ]
    },
    {
      "cell_type": "markdown",
      "metadata": {
        "id": "M_3Ujnq8EnEX"
      },
      "source": [
        "問題2と同様の「n×mマスのチェス盤の小麦の数を記したndarrayを返す関数」を、np.append()を使ったものと、ブロードキャストを使ったもので新たに作成してください。\n",
        "\n",
        "\n",
        "それらの関数を使い8×8マスのチェス盤の小麦の数を再び求めてください。\n",
        "\n"
      ]
    },
    {
      "cell_type": "code",
      "metadata": {
        "colab": {
          "base_uri": "https://localhost:8080/"
        },
        "id": "iKpknOL4ErCx",
        "outputId": "7e01dd5c-aa5a-4970-a22a-07c95758744c"
      },
      "source": [
        "# (np.append())\n",
        "def wheat_chess_append(square_size):\n",
        "  # 関数の目的は、n×mマスのチェス盤の小麦の数を記したndarrayを返すこと\n",
        "  \"\"\"\n",
        "  Parameters\n",
        "  --------\n",
        "  square_size : tuple of int \n",
        "  マスの数 : (default : (8, 8))\n",
        "  Returns\n",
        "  --------\n",
        "  n × mマスのチェス盤の小麦の数\n",
        "  app_board_ndarray4 : \n",
        "  \"\"\"\n",
        "  # 前処理\n",
        "  n_squares = square_size[0] * square_size[1]\n",
        "  app_board_ndarray = np.array([1])\n",
        "  times = np.array([2])\n",
        "  for _ in range(n_squares - 1):\n",
        "    app_board_ndarray = np.append(app_board_ndarray, times * app_board_ndarray[-1])\n",
        "\n",
        "  app_board_ndarray = np.array(app_board_ndarray).reshape(square_size)\n",
        "  return app_board_ndarray\n",
        "\n",
        "square_size = (8, 8)\n",
        "app_board_ndarray = wheat_chess_append(square_size = square_size)\n",
        "\n",
        "print(\"{}マスのチェス盤の小麦の数は{}\".format(square_size, app_board_ndarray))"
      ],
      "execution_count": 50,
      "outputs": [
        {
          "output_type": "stream",
          "text": [
            "(8, 8)マスのチェス盤の小麦の数は[[                   1                    2                    4\n",
            "                     8                   16                   32\n",
            "                    64                  128]\n",
            " [                 256                  512                 1024\n",
            "                  2048                 4096                 8192\n",
            "                 16384                32768]\n",
            " [               65536               131072               262144\n",
            "                524288              1048576              2097152\n",
            "               4194304              8388608]\n",
            " [            16777216             33554432             67108864\n",
            "             134217728            268435456            536870912\n",
            "            1073741824           2147483648]\n",
            " [          4294967296           8589934592          17179869184\n",
            "           34359738368          68719476736         137438953472\n",
            "          274877906944         549755813888]\n",
            " [       1099511627776        2199023255552        4398046511104\n",
            "         8796093022208       17592186044416       35184372088832\n",
            "        70368744177664      140737488355328]\n",
            " [     281474976710656      562949953421312     1125899906842624\n",
            "      2251799813685248     4503599627370496     9007199254740992\n",
            "     18014398509481984    36028797018963968]\n",
            " [   72057594037927936   144115188075855872   288230376151711744\n",
            "    576460752303423488  1152921504606846976  2305843009213693952\n",
            "   4611686018427387904 -9223372036854775808]]\n"
          ],
          "name": "stdout"
        }
      ]
    },
    {
      "cell_type": "code",
      "metadata": {
        "colab": {
          "base_uri": "https://localhost:8080/"
        },
        "id": "tM6ANb67q-4e",
        "outputId": "ce4d4d23-9b71-4ec2-bbd5-26f4a13f8898"
      },
      "source": [
        "# (ブロードキャスト)\n",
        "def wheat_chess_broadcast(square_size):\n",
        "  # 関数の目的は、n×mマスのチェス盤の小麦の数を記したndarrayを返すこと\n",
        "  \"\"\"\n",
        "  Parameters\n",
        "  --------\n",
        "  square_size : tuple of int \n",
        "  マスの数 : (default : (8, 8))\n",
        "  Returns\n",
        "  --------\n",
        "  n × mマスのチェス盤の小麦の数\n",
        "  app_board_ndarray4 : \n",
        "  \"\"\"\n",
        "  # 前処理\n",
        "  n_squares = square_size[0] * square_size[1]\n",
        "  indices_of_squares = np.arange(n_squares).astype(np.uint64)\n",
        "  brocas_board_ndarray = (2 ** indices_of_squares).reshape(square_size)\n",
        "  return brocas_board_ndarray\n",
        "\n",
        "square_size = (8, 8)\n",
        "brocas_board_ndarray = wheat_chess_broadcast(square_size = square_size)\n",
        "\n",
        "print(\"{}マスのチェス盤の小麦の数は{}\".format(square_size, brocas_board_ndarray))"
      ],
      "execution_count": 51,
      "outputs": [
        {
          "output_type": "stream",
          "text": [
            "(8, 8)マスのチェス盤の小麦の数は[[                  1                   2                   4\n",
            "                    8                  16                  32\n",
            "                   64                 128]\n",
            " [                256                 512                1024\n",
            "                 2048                4096                8192\n",
            "                16384               32768]\n",
            " [              65536              131072              262144\n",
            "               524288             1048576             2097152\n",
            "              4194304             8388608]\n",
            " [           16777216            33554432            67108864\n",
            "            134217728           268435456           536870912\n",
            "           1073741824          2147483648]\n",
            " [         4294967296          8589934592         17179869184\n",
            "          34359738368         68719476736        137438953472\n",
            "         274877906944        549755813888]\n",
            " [      1099511627776       2199023255552       4398046511104\n",
            "        8796093022208      17592186044416      35184372088832\n",
            "       70368744177664     140737488355328]\n",
            " [    281474976710656     562949953421312    1125899906842624\n",
            "     2251799813685248    4503599627370496    9007199254740992\n",
            "    18014398509481984   36028797018963968]\n",
            " [  72057594037927936  144115188075855872  288230376151711744\n",
            "   576460752303423488 1152921504606846976 2305843009213693952\n",
            "  4611686018427387904 9223372036854775808]]\n"
          ],
          "name": "stdout"
        }
      ]
    },
    {
      "cell_type": "markdown",
      "metadata": {
        "id": "N2YibBe2EruB"
      },
      "source": [
        "【問題7】計算時間の比較"
      ]
    },
    {
      "cell_type": "markdown",
      "metadata": {
        "id": "E8jIgNIAEvKm"
      },
      "source": [
        "3種類の方法を見てきました。それぞれの計算時間をJupyter Notebookの%%timeitを用いて計測し、比較と考察を行ってください。\n",
        "\n",
        "\n",
        "%%timeitはセル内のコードを複数回実行し、その平均実行時間を出力する働きをします。"
      ]
    },
    {
      "cell_type": "code",
      "metadata": {
        "colab": {
          "base_uri": "https://localhost:8080/"
        },
        "id": "oAWrTFUeE1Sk",
        "outputId": "453ebfc5-e99f-494c-a5bf-2745e521f305"
      },
      "source": [
        "# リストを用いた場合のタイム計測\n",
        "%%timeit \n",
        "small_board_ndarray2 = wheat_chess(square_size = square_size)"
      ],
      "execution_count": 54,
      "outputs": [
        {
          "output_type": "stream",
          "text": [
            "100000 loops, best of 5: 18.6 µs per loop\n"
          ],
          "name": "stdout"
        }
      ]
    },
    {
      "cell_type": "code",
      "metadata": {
        "colab": {
          "base_uri": "https://localhost:8080/"
        },
        "id": "5Uwd7cJk9004",
        "outputId": "a3eca70b-be56-426f-8ae2-b5268f72cea9"
      },
      "source": [
        "# np.appendを用いた場合のタイム計測\n",
        "%%timeit \n",
        "app_board_ndarray = wheat_chess_append(square_size = square_size)"
      ],
      "execution_count": 53,
      "outputs": [
        {
          "output_type": "stream",
          "text": [
            "1000 loops, best of 5: 453 µs per loop\n"
          ],
          "name": "stdout"
        }
      ]
    },
    {
      "cell_type": "code",
      "metadata": {
        "colab": {
          "base_uri": "https://localhost:8080/"
        },
        "id": "Ios9_Lch-UF9",
        "outputId": "43f663e6-ecaa-4a4a-d7c3-294bcbe55584"
      },
      "source": [
        "# broadcastを用いた場合のタイム計測\n",
        "%%timeit \n",
        "brocas_board_ndarray = wheat_chess_broadcast(square_size = square_size)"
      ],
      "execution_count": 55,
      "outputs": [
        {
          "output_type": "stream",
          "text": [
            "The slowest run took 239.65 times longer than the fastest. This could mean that an intermediate result is being cached.\n",
            "100000 loops, best of 5: 4.49 µs per loop\n"
          ],
          "name": "stdout"
        }
      ]
    },
    {
      "cell_type": "markdown",
      "metadata": {
        "id": "cM9gSZN8-kho"
      },
      "source": [
        "∴最も短い時間で実行できたのはbroadcastを用いた場合であった。\n",
        "\n",
        "なお、次点はリストを用いた場合であるが、最も遅かったnp.appendを用いた場合の実行時間は断トツで時間を要するという結果となった。"
      ]
    }
  ]
}
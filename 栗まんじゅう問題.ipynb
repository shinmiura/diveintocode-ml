{
  "nbformat": 4,
  "nbformat_minor": 0,
  "metadata": {
    "colab": {
      "name": "栗まんじゅう問題.ipynb",
      "provenance": [],
      "collapsed_sections": [],
      "authorship_tag": "ABX9TyOB2kHefCKBXJVeaR62QP/+",
      "include_colab_link": true
    },
    "kernelspec": {
      "name": "python3",
      "display_name": "Python 3"
    },
    "language_info": {
      "name": "python"
    }
  },
  "cells": [
    {
      "cell_type": "markdown",
      "metadata": {
        "id": "view-in-github",
        "colab_type": "text"
      },
      "source": [
        "<a href=\"https://colab.research.google.com/github/shinmiura/diveintocode-ml/blob/master/%E6%A0%97%E3%81%BE%E3%82%93%E3%81%98%E3%82%85%E3%81%86%E5%95%8F%E9%A1%8C.ipynb\" target=\"_parent\"><img src=\"https://colab.research.google.com/assets/colab-badge.svg\" alt=\"Open In Colab\"/></a>"
      ]
    },
    {
      "cell_type": "markdown",
      "metadata": {
        "id": "YrLashoq5Gqu"
      },
      "source": [
        "テキストの目的\n",
        "\n",
        "・基礎的なプログラミング力を確認する\n",
        "\n",
        "・誘導なしにプログラムを書いてみる\n",
        "\n",
        "・有名な問題をプログラミングによって解いてみる"
      ]
    },
    {
      "cell_type": "markdown",
      "metadata": {
        "id": "yrdzR2BW5UII"
      },
      "source": [
        "どのように学ぶか\n",
        "\n",
        "「曽呂利新左衛門」「富士山」の課題の発展です。ここまで学んだことを生かして一からプログラムを作り問題を解いてください。"
      ]
    },
    {
      "cell_type": "markdown",
      "metadata": {
        "id": "GPwvmAPTIU5M"
      },
      "source": [
        "漫画ドラえもんには「バイバイン」という道具が登場する、2のn乗に関する有名なエピソード[1]があります。\n",
        "\n",
        "\n",
        "[1] 藤子・Ｆ・不二雄(1979)『ドラえもん（１７）』小学館.\n",
        "\n",
        "\n",
        "「バイバイン」は薬品で、これを振掛けるとその物体は5分ごとに倍に増えるという働きがあります。作中では栗まんじゅうを増やしますが、食べきれなくなったためロケットを使い宇宙に捨てました。\n",
        "\n",
        "\n",
        "ここで度々話題になるのが、栗まんじゅうはその後宇宙でどのように増えていくのかについてです。さまざまな議論がされていますが、今回は単純に栗まんじゅうの体積がどう増えるかを計算してみましょう。\n",
        "\n",
        "\n",
        "\n"
      ]
    },
    {
      "cell_type": "markdown",
      "metadata": {
        "id": "WxEJRDEc5srI"
      },
      "source": [
        "【問題】栗まんじゅうが太陽系を覆う日\n",
        "\n",
        "1個の栗まんじゅうにバイバインを振りかけた場合、太陽系が栗まんじゅうで覆われるのは何分後でしょうか。これを計算するプログラムを作成してください。\n",
        "\n",
        "\n",
        "栗まんじゅうや太陽系の体積を調査した上で仮定して計算してください。栗まんじゅうの隙間や重力などは考えず、問題を単純化して構いません。\n",
        "\n",
        "\n",
        "ボールにバイバインを振りかけた時、東京ドームが一杯になる時間など他の状況にも適用できるような汎用的なプログラムを作成してください。また、グラフを表示するなど分かりやすいノートブックを作成してください。"
      ]
    },
    {
      "cell_type": "code",
      "metadata": {
        "id": "5ni-cRsjIiCn"
      },
      "source": [
        "import math\n",
        "import matplotlib.pyplot as plt\n",
        "%matplotlib inline"
      ],
      "execution_count": 11,
      "outputs": []
    },
    {
      "cell_type": "code",
      "metadata": {
        "colab": {
          "base_uri": "https://localhost:8080/",
          "height": 103
        },
        "id": "Y6ucINAGT5V2",
        "outputId": "9de82068-e341-46be-c96c-6e99632e804a"
      },
      "source": [
        "# 超えるまでの計算なので、富士山折紙と同じ考え方でやってみる。\n",
        "\"\"\"\n",
        "①太陽系の体積を出しておく\n",
        "なお、Wikipediaによると、ヘリオポーズまでの距離 = ~120au\n",
        "heliopause = 120 * 149597870700 # keisan.casio.jpを利用して長さ換算\n",
        "volume_of_solar_system = (4 / 3) * math.pi * heliopause ** 3\n",
        "print(\"太陽系の体積は、{}m^3\".format(volume_of_solar_system))\n",
        "\n",
        "②栗まんじゅうの体積を出す\n",
        "volume_of_kurimanjyu = 60 * 40 * 30 * (10 ** (-9))\n",
        "print(\"栗まんじゅうの体積は、{}m^3\".format(volume_of_kurimanjyu))\n",
        "\"\"\""
      ],
      "execution_count": 12,
      "outputs": [
        {
          "output_type": "execute_result",
          "data": {
            "application/vnd.google.colaboratory.intrinsic+json": {
              "type": "string"
            },
            "text/plain": [
              "'\\n①太陽系の体積を出しておく\\nなお、Wikipediaによると、ヘリオポーズまでの距離 = ~120au\\nheliopause = 120 * 149597870700 # keisan.casio.jpを利用して長さ換算\\nvolume_of_solar_system = (4 / 3) * math.pi * heliopause ** 3\\nprint(\"太陽系の体積は、{}m^3\".format(volume_of_solar_system))\\n\\n②栗まんじゅうの体積を出す\\nvolume_of_kurimanjyu = 60 * 40 * 30 * (10 ** (-9))\\nprint(\"栗まんじゅうの体積は、{}m^3\".format(volume_of_kurimanjyu))\\n'"
            ]
          },
          "metadata": {
            "tags": []
          },
          "execution_count": 12
        }
      ]
    },
    {
      "cell_type": "code",
      "metadata": {
        "colab": {
          "base_uri": "https://localhost:8080/"
        },
        "id": "uGuD-_Mn6Akq",
        "outputId": "5fde0385-92e6-4177-94d5-ff506d1cb9de"
      },
      "source": [
        "# 栗まんじゅうの体積(単位：㎥)\n",
        "volume_of_kuri_manju = 60 * 40 * 30 * (10 ** (-9))\n",
        "print(\"栗まんじゅうの体積は、{}m^3\".format(volume_of_kuri_manju))\n",
        "\n",
        "# 太陽系の体積\n",
        "heliopause = 120 * 149597870700  # keisan.casio.jpを利用して長さ換算\n",
        "volume_of_solar_system = (4 / 3) * math.pi * heliopause ** 3\n",
        "print(\"太陽系の体積は、{}m^3\".format(volume_of_solar_system))"
      ],
      "execution_count": 13,
      "outputs": [
        {
          "output_type": "stream",
          "text": [
            "栗まんじゅうの体積は、7.2e-05m^3\n",
            "太陽系の体積は、2.4233078189139725e+40m^3\n"
          ],
          "name": "stdout"
        }
      ]
    },
    {
      "cell_type": "markdown",
      "metadata": {
        "id": "ZDiQa-bEaOAe"
      },
      "source": [
        ""
      ]
    },
    {
      "cell_type": "code",
      "metadata": {
        "colab": {
          "base_uri": "https://localhost:8080/"
        },
        "id": "M2fVjkeCkfJ2",
        "outputId": "bd45a6db-83e4-43c1-87c1-ca4e29bbdfea"
      },
      "source": [
        "def baibain(volume_of_spaces, volume_of_sprinkled_object, minutes_per_count = 5):\n",
        "  # 関数の目的は、何分後に空間が覆われてしまうかを返すこと\n",
        "  \"\"\"\n",
        "  Parameters\n",
        "  --------\n",
        "  volume_of_sapces : int\n",
        "  空間の体積(m^3)\n",
        "  volume_of_sprinkled_object : int\n",
        "  バイバインを振りかけられるものの体積(m^3)\n",
        "  minutes_per_count\n",
        "  倍になるタイミング（分） (default : 5)\n",
        "\n",
        "  Returns\n",
        "  --------\n",
        "  覆われてしまうまでの時間\n",
        "  minutes: int\n",
        "  \"\"\"\n",
        "  # 体積のリストを作成\n",
        "  list_of_volumes = [volume_of_sprinkled_object]\n",
        "  # 倍増した回数をカウント。初期値の設定。\n",
        "  increased_count = 0\n",
        "  \n",
        "  # バイバインをかけられた物体の体積が空間の体積を超えるまで回数を数える\n",
        "  while True:\n",
        "    list_of_volumes.append(list_of_volumes[-1] * 2)\n",
        "    increased_count += 1\n",
        "    if list_of_volumes[-1] >= volume_of_spaces:\n",
        "      break\n",
        "\n",
        "  # ５分ごとで数えると汎用性が下がるため回数を上でカウントしたものに１カウントごとに要する分数を乗じる    \n",
        "  minutes = increased_count * minutes_per_count\n",
        "\n",
        "  return minutes, increased_count, list_of_volumes\n",
        "\n",
        "# 空間の体積に太陽系の体積を設定\n",
        "volume_of_spaces = volume_of_solar_system  # 栗まんじゅうの体積\n",
        "# バイバインをかけられる物体の体積に栗まんじゅうの体積を設定\n",
        "volume_of_sprinkled_object = volume_of_kuri_manju\n",
        "minutes, increased_count, list_of_volumes = baibain(volume_of_spaces, volume_of_sprinkled_object, minutes_per_count = 5)\n",
        "print(\"1個の栗まんじゅうにバイバインを振りかけた場合、太陽系が栗まんじゅうで覆われるのは{}分後\".format(minutes))"
      ],
      "execution_count": 14,
      "outputs": [
        {
          "output_type": "stream",
          "text": [
            "1個の栗まんじゅうにバイバインを振りかけた場合、太陽系が栗まんじゅうで覆われるのは740分後\n"
          ],
          "name": "stdout"
        }
      ]
    },
    {
      "cell_type": "code",
      "metadata": {
        "colab": {
          "base_uri": "https://localhost:8080/",
          "height": 531
        },
        "id": "FXs44JINoF2m",
        "outputId": "2b910748-02e2-4918-db30-cbb12d4be9b8"
      },
      "source": [
        "# グラフを表示する。タイトルと軸ラベル名付き。\n",
        "plt.title(\"baibain_kurimanju\")\n",
        "plt.xlabel(\"minutes\")\n",
        "plt.ylabel(\"volumes[m^3]\")\n",
        "plt.plot(range(0, (minutes + 1), minutes_per_count), list_volumes, label = \"sprinkled_object\")  # 「リスト名」のところにリストの変数名を入れる\n",
        "plt.legend()\n",
        "plt.show()"
      ],
      "execution_count": 17,
      "outputs": [
        {
          "output_type": "error",
          "ename": "NameError",
          "evalue": "ignored",
          "traceback": [
            "\u001b[0;31m---------------------------------------------------------------------------\u001b[0m",
            "\u001b[0;31mNameError\u001b[0m                                 Traceback (most recent call last)",
            "\u001b[0;32m<ipython-input-17-a03541f140c6>\u001b[0m in \u001b[0;36m<module>\u001b[0;34m()\u001b[0m\n\u001b[1;32m      3\u001b[0m \u001b[0mplt\u001b[0m\u001b[0;34m.\u001b[0m\u001b[0mxlabel\u001b[0m\u001b[0;34m(\u001b[0m\u001b[0;34m\"minutes\"\u001b[0m\u001b[0;34m)\u001b[0m\u001b[0;34m\u001b[0m\u001b[0;34m\u001b[0m\u001b[0m\n\u001b[1;32m      4\u001b[0m \u001b[0mplt\u001b[0m\u001b[0;34m.\u001b[0m\u001b[0mylabel\u001b[0m\u001b[0;34m(\u001b[0m\u001b[0;34m\"volumes[m^3]\"\u001b[0m\u001b[0;34m)\u001b[0m\u001b[0;34m\u001b[0m\u001b[0;34m\u001b[0m\u001b[0m\n\u001b[0;32m----> 5\u001b[0;31m \u001b[0mplt\u001b[0m\u001b[0;34m.\u001b[0m\u001b[0mplot\u001b[0m\u001b[0;34m(\u001b[0m\u001b[0mrange\u001b[0m\u001b[0;34m(\u001b[0m\u001b[0;36m0\u001b[0m\u001b[0;34m,\u001b[0m \u001b[0;34m(\u001b[0m\u001b[0mminutes\u001b[0m \u001b[0;34m+\u001b[0m \u001b[0;36m1\u001b[0m\u001b[0;34m)\u001b[0m\u001b[0;34m,\u001b[0m \u001b[0mminutes_per_count\u001b[0m\u001b[0;34m)\u001b[0m\u001b[0;34m,\u001b[0m \u001b[0mlist_volumes\u001b[0m\u001b[0;34m,\u001b[0m \u001b[0mlabel\u001b[0m \u001b[0;34m=\u001b[0m \u001b[0;34m\"sprinkled_object\"\u001b[0m\u001b[0;34m)\u001b[0m  \u001b[0;31m# 「リスト名」のところにリストの変数名を入れる\u001b[0m\u001b[0;34m\u001b[0m\u001b[0;34m\u001b[0m\u001b[0m\n\u001b[0m\u001b[1;32m      6\u001b[0m \u001b[0mplt\u001b[0m\u001b[0;34m.\u001b[0m\u001b[0mlegend\u001b[0m\u001b[0;34m(\u001b[0m\u001b[0;34m)\u001b[0m\u001b[0;34m\u001b[0m\u001b[0;34m\u001b[0m\u001b[0m\n\u001b[1;32m      7\u001b[0m \u001b[0mplt\u001b[0m\u001b[0;34m.\u001b[0m\u001b[0mshow\u001b[0m\u001b[0;34m(\u001b[0m\u001b[0;34m)\u001b[0m\u001b[0;34m\u001b[0m\u001b[0;34m\u001b[0m\u001b[0m\n",
            "\u001b[0;31mNameError\u001b[0m: name 'minutes_per_count' is not defined"
          ]
        },
        {
          "output_type": "display_data",
          "data": {
            "image/png": "[encoded data removed]",
            "text/plain": [
              "<Figure size 432x288 with 1 Axes>"
            ]
          },
          "metadata": {
            "tags": [],
            "needs_background": "light"
          }
        }
      ]
    }
  ]
}
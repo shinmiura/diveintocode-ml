{
  "nbformat": 4,
  "nbformat_minor": 0,
  "metadata": {
    "colab": {
      "name": "Keras.ipynb",
      "provenance": [],
      "mount_file_id": "1f-pZHUUK4U-5I-Ya3tGkrMKEA4VbeZPp",
      "authorship_tag": "ABX9TyMIdtoph5YeRSZ1VFZXFy2l",
      "include_colab_link": true
    },
    "kernelspec": {
      "name": "python3",
      "display_name": "Python 3"
    },
    "language_info": {
      "name": "python"
    },
    "accelerator": "GPU"
  },
  "cells": [
    {
      "cell_type": "markdown",
      "metadata": {
        "id": "view-in-github",
        "colab_type": "text"
      },
      "source": [
        "<a href=\"https://colab.research.google.com/github/shinmiura/diveintocode-ml/blob/master/Keras.ipynb\" target=\"_parent\"><img src=\"https://colab.research.google.com/assets/colab-badge.svg\" alt=\"Open In Colab\"/></a>"
      ]
    },
    {
      "cell_type": "markdown",
      "metadata": {
        "id": "MYqNIJ2V2110"
      },
      "source": [
        "**Sprintの目的**\n",
        "\n",
        "\n",
        "・フレームワークのコードを読めるようにする\n",
        "\n",
        "・フレームワークを習得し続けられるようになる\n",
        "\n",
        "・理論を知っている範囲をフレームワークで動かす"
      ]
    },
    {
      "cell_type": "markdown",
      "metadata": {
        "id": "5hKb6EiU3D1u"
      },
      "source": [
        "**どのように学ぶか**\n",
        "\n",
        "前半はTensorFlowのExampleを動かします。後半ではKerasのコードを書いていきます。"
      ]
    },
    {
      "cell_type": "code",
      "metadata": {
        "id": "HYWdU2kvL6xl",
        "colab": {
          "base_uri": "https://localhost:8080/",
          "height": 372
        },
        "outputId": "55bed255-8691-47b1-b14f-047ff11bbeba"
      },
      "source": [
        "# 必要なライブラリのインポート\n",
        "import tensorflow as tf\n",
        "import matplotlib as mpl\n",
        "import matplotlib.pyplot as plt\n",
        "import numpy as np\n",
        "import os\n",
        "import pandas as pd\n",
        "from keras import backend as K\n",
        "from sklearn.model_selection import train_test_split\n",
        "from sklearn.preprocessing import StandardScaler\n",
        "from keras.optimizers import Adam\n",
        "from sklearn.datasets import load_iris\n",
        "from sklearn.preprocessing import OneHotEncoder\n",
        "from keras.datasets import mnist\n",
        "\n",
        "mpl.rcParams['figure.figsize'] = (8, 6)\n",
        "mpl.rcParams['axes.grid'] = False"
      ],
      "execution_count": 15,
      "outputs": [
        {
          "output_type": "error",
          "ename": "ImportError",
          "evalue": "ignored",
          "traceback": [
            "\u001b[0;31m---------------------------------------------------------------------------\u001b[0m",
            "\u001b[0;31mImportError\u001b[0m                               Traceback (most recent call last)",
            "\u001b[0;32m<ipython-input-15-79b0c50ac6af>\u001b[0m in \u001b[0;36m<module>\u001b[0;34m()\u001b[0m\n\u001b[1;32m      9\u001b[0m \u001b[0;32mfrom\u001b[0m \u001b[0msklearn\u001b[0m\u001b[0;34m.\u001b[0m\u001b[0mmodel_selection\u001b[0m \u001b[0;32mimport\u001b[0m \u001b[0mtrain_test_split\u001b[0m\u001b[0;34m\u001b[0m\u001b[0;34m\u001b[0m\u001b[0m\n\u001b[1;32m     10\u001b[0m \u001b[0;32mfrom\u001b[0m \u001b[0msklearn\u001b[0m\u001b[0;34m.\u001b[0m\u001b[0mpreprocessing\u001b[0m \u001b[0;32mimport\u001b[0m \u001b[0mStandardScaler\u001b[0m\u001b[0;34m\u001b[0m\u001b[0;34m\u001b[0m\u001b[0m\n\u001b[0;32m---> 11\u001b[0;31m \u001b[0;32mfrom\u001b[0m \u001b[0mkeras\u001b[0m\u001b[0;34m.\u001b[0m\u001b[0moptimizers\u001b[0m \u001b[0;32mimport\u001b[0m \u001b[0mAdam\u001b[0m\u001b[0;34m\u001b[0m\u001b[0;34m\u001b[0m\u001b[0m\n\u001b[0m\u001b[1;32m     12\u001b[0m \u001b[0;32mfrom\u001b[0m \u001b[0msklearn\u001b[0m\u001b[0;34m.\u001b[0m\u001b[0mdatasets\u001b[0m \u001b[0;32mimport\u001b[0m \u001b[0mload_iris\u001b[0m\u001b[0;34m\u001b[0m\u001b[0;34m\u001b[0m\u001b[0m\n\u001b[1;32m     13\u001b[0m \u001b[0;32mfrom\u001b[0m \u001b[0msklearn\u001b[0m\u001b[0;34m.\u001b[0m\u001b[0mpreprocessing\u001b[0m \u001b[0;32mimport\u001b[0m \u001b[0mOneHotEncoder\u001b[0m\u001b[0;34m\u001b[0m\u001b[0;34m\u001b[0m\u001b[0m\n",
            "\u001b[0;31mImportError\u001b[0m: cannot import name 'Adam' from 'keras.optimizers' (/usr/local/lib/python3.7/dist-packages/keras/optimizers.py)",
            "",
            "\u001b[0;31m---------------------------------------------------------------------------\u001b[0;32m\nNOTE: If your import is failing due to a missing package, you can\nmanually install dependencies using either !pip or !apt.\n\nTo view examples of installing some common dependencies, click the\n\"Open Examples\" button below.\n\u001b[0;31m---------------------------------------------------------------------------\u001b[0m\n"
          ],
          "errorDetails": {
            "actions": [
              {
                "action": "open_url",
                "actionText": "Open Examples",
                "url": "/notebooks/snippets/importing_libraries.ipynb"
              }
            ]
          }
        }
      ]
    },
    {
      "cell_type": "markdown",
      "metadata": {
        "id": "TU5S7uhQ3k6w"
      },
      "source": [
        "# 2.公式Example"
      ]
    },
    {
      "cell_type": "markdown",
      "metadata": {
        "id": "uuQUXPEx3mGm"
      },
      "source": [
        "深層学習フレームワークには公式にさまざまなモデルのExampleコードが公開されています。\n",
        "\n"
      ]
    },
    {
      "cell_type": "markdown",
      "metadata": {
        "id": "zx9C-Eam3v37"
      },
      "source": [
        "**【問題1】公式チュートリアルモデルを分担して実行**\n",
        "\n",
        "TensorFLowの公式チュートリアルモデルを分担して実行してください。\n",
        "\n",
        "\n",
        "以下の中から1人ひとつ選び実行し、その結果を簡単に発表してください。\n",
        "\n",
        "\n",
        "models/tutorials at master · tensorflow/models\n",
        "\n"
      ]
    },
    {
      "cell_type": "code",
      "metadata": {
        "colab": {
          "base_uri": "https://localhost:8080/"
        },
        "id": "UQVHFo_6od6_",
        "outputId": "fff68fb0-99be-45fc-a6a0-a57e3d514a6f"
      },
      "source": [
        "# MNIST読み込み\n",
        "mnist = tf.keras.datasets.mnist\n",
        "(x_train, y_train), (x_test, y_test) = mnist.load_data()\n",
        "\n",
        "# 正規化\n",
        "x_train, x_test = x_train / 255.0, x_test / 255.0"
      ],
      "execution_count": 2,
      "outputs": [
        {
          "output_type": "stream",
          "name": "stdout",
          "text": [
            "Downloading data from https://storage.googleapis.com/tensorflow/tf-keras-datasets/mnist.npz\n",
            "11493376/11490434 [==============================] - 0s 0us/step\n",
            "11501568/11490434 [==============================] - 0s 0us/step\n"
          ]
        }
      ]
    },
    {
      "cell_type": "code",
      "metadata": {
        "id": "hSNiZV9eojb1"
      },
      "source": [
        "# モデル構造の定義\n",
        "model = tf.keras.models.Sequential([\n",
        "  tf.keras.layers.Flatten(input_shape=(28, 28)),\n",
        "  tf.keras.layers.Dense(128, activation='relu'),\n",
        "  tf.keras.layers.Dropout(0.2),\n",
        "  tf.keras.layers.Dense(10)\n",
        "])"
      ],
      "execution_count": 3,
      "outputs": []
    },
    {
      "cell_type": "code",
      "metadata": {
        "colab": {
          "base_uri": "https://localhost:8080/"
        },
        "id": "w0QbjtbYok6m",
        "outputId": "96350af8-aa8b-4747-b069-5b523cbdb1d6"
      },
      "source": [
        "# 予測値を出してみる（1データだけ使用）\n",
        "predictions = model(x_train[:1]).numpy()\n",
        "predictions"
      ],
      "execution_count": 4,
      "outputs": [
        {
          "output_type": "execute_result",
          "data": {
            "text/plain": [
              "array([[-0.3095453 ,  0.24228613,  0.54759437,  0.6319077 , -0.02013959,\n",
              "        -0.08315508,  0.5115673 , -0.7505156 ,  0.37092865,  0.28147405]],\n",
              "      dtype=float32)"
            ]
          },
          "metadata": {},
          "execution_count": 4
        }
      ]
    },
    {
      "cell_type": "code",
      "metadata": {
        "colab": {
          "base_uri": "https://localhost:8080/"
        },
        "id": "9CSnO3kPonN2",
        "outputId": "eb5a7eca-d425-49f5-f9dc-42d12ce7968d"
      },
      "source": [
        "# softmax関数に通す\n",
        "tf.nn.softmax(predictions).numpy()"
      ],
      "execution_count": 5,
      "outputs": [
        {
          "output_type": "execute_result",
          "data": {
            "text/plain": [
              "array([[0.0590203 , 0.10248463, 0.13907607, 0.15131055, 0.07882948,\n",
              "        0.07401528, 0.13415475, 0.03797436, 0.11655407, 0.10658051]],\n",
              "      dtype=float32)"
            ]
          },
          "metadata": {},
          "execution_count": 5
        }
      ]
    },
    {
      "cell_type": "code",
      "metadata": {
        "id": "qeZH0BsGop_r"
      },
      "source": [
        "# 損失関数定義\n",
        "loss_fn = tf.keras.losses.SparseCategoricalCrossentropy(from_logits=True)"
      ],
      "execution_count": 6,
      "outputs": []
    },
    {
      "cell_type": "code",
      "metadata": {
        "colab": {
          "base_uri": "https://localhost:8080/"
        },
        "id": "q7dQromGosx6",
        "outputId": "7c8df130-8679-4300-d3c9-0d1cb8de64c0"
      },
      "source": [
        "# 損失算出\n",
        "loss_fn(y_train[:1], predictions).numpy()"
      ],
      "execution_count": 7,
      "outputs": [
        {
          "output_type": "execute_result",
          "data": {
            "text/plain": [
              "2.6034837"
            ]
          },
          "metadata": {},
          "execution_count": 7
        }
      ]
    },
    {
      "cell_type": "code",
      "metadata": {
        "id": "_2Y0-azSovlJ"
      },
      "source": [
        "# コンパイル（計算や予測を出来る状態にする）\n",
        "model.compile(\n",
        "    optimizer='adam',\n",
        "    loss=loss_fn,\n",
        "    metrics=['accuracy']\n",
        ")"
      ],
      "execution_count": 8,
      "outputs": []
    },
    {
      "cell_type": "code",
      "metadata": {
        "colab": {
          "base_uri": "https://localhost:8080/"
        },
        "id": "VA2Pz9tioyTb",
        "outputId": "e23be277-b6dd-4667-d442-2354bd618b59"
      },
      "source": [
        "# 学習実行\n",
        "model.fit(x_train, y_train, epochs=5)"
      ],
      "execution_count": 9,
      "outputs": [
        {
          "output_type": "stream",
          "name": "stdout",
          "text": [
            "Epoch 1/5\n",
            "1875/1875 [==============================] - 3s 2ms/step - loss: 0.2954 - accuracy: 0.9144\n",
            "Epoch 2/5\n",
            "1875/1875 [==============================] - 3s 2ms/step - loss: 0.1467 - accuracy: 0.9566\n",
            "Epoch 3/5\n",
            "1875/1875 [==============================] - 3s 2ms/step - loss: 0.1097 - accuracy: 0.9669\n",
            "Epoch 4/5\n",
            "1875/1875 [==============================] - 3s 2ms/step - loss: 0.0886 - accuracy: 0.9727\n",
            "Epoch 5/5\n",
            "1875/1875 [==============================] - 3s 2ms/step - loss: 0.0773 - accuracy: 0.9755\n"
          ]
        },
        {
          "output_type": "execute_result",
          "data": {
            "text/plain": [
              "<keras.callbacks.History at 0x7f7be009b790>"
            ]
          },
          "metadata": {},
          "execution_count": 9
        }
      ]
    },
    {
      "cell_type": "code",
      "metadata": {
        "colab": {
          "base_uri": "https://localhost:8080/"
        },
        "id": "JGx_Vcioo3st",
        "outputId": "ef518a7d-9c8c-4895-fd89-1e9cf74a4f93"
      },
      "source": [
        "# 評価(損失とACC)\n",
        "model.evaluate(x_test,  y_test, verbose=3)"
      ],
      "execution_count": 10,
      "outputs": [
        {
          "output_type": "execute_result",
          "data": {
            "text/plain": [
              "[0.07364367693662643, 0.9769999980926514]"
            ]
          },
          "metadata": {},
          "execution_count": 10
        }
      ]
    },
    {
      "cell_type": "code",
      "metadata": {
        "id": "auGixGB_o6N6"
      },
      "source": [
        "# モデルが直接確率を返してくれるようにする\n",
        "probability_model = tf.keras.Sequential([\n",
        "  model,\n",
        "  tf.keras.layers.Softmax()\n",
        "])"
      ],
      "execution_count": 11,
      "outputs": []
    },
    {
      "cell_type": "code",
      "metadata": {
        "colab": {
          "base_uri": "https://localhost:8080/"
        },
        "id": "U83fLs3Yo7Mg",
        "outputId": "48fc9ba2-b630-459c-f7cb-85bbde01bca4"
      },
      "source": [
        "# 試しに予測\n",
        "probability_model(x_test[:5])"
      ],
      "execution_count": 12,
      "outputs": [
        {
          "output_type": "execute_result",
          "data": {
            "text/plain": [
              "<tf.Tensor: shape=(5, 10), dtype=float32, numpy=\n",
              "array([[4.1184434e-09, 1.4409312e-08, 4.5148860e-07, 6.0682629e-05,\n",
              "        2.7483477e-11, 7.9381628e-08, 1.6549418e-14, 9.9993527e-01,\n",
              "        1.3972226e-07, 3.3340805e-06],\n",
              "       [2.0966846e-08, 3.4912582e-06, 9.9996102e-01, 2.9429148e-05,\n",
              "        5.5252144e-17, 5.9945373e-06, 2.0996407e-09, 1.9449887e-14,\n",
              "        1.1818390e-07, 1.0981550e-14],\n",
              "       [8.6785320e-08, 9.9924135e-01, 6.9798072e-05, 1.0899768e-05,\n",
              "        5.3641583e-05, 3.5467365e-05, 1.3372746e-05, 5.0384179e-04,\n",
              "        6.8875845e-05, 2.7016511e-06],\n",
              "       [9.9942744e-01, 2.0519492e-10, 2.1406176e-04, 1.5533594e-07,\n",
              "        1.7750862e-06, 3.3589859e-07, 1.7191243e-06, 8.0020955e-06,\n",
              "        1.7054231e-07, 3.4645759e-04],\n",
              "       [1.4293760e-05, 2.5113114e-09, 1.6740672e-05, 2.8387521e-07,\n",
              "        9.7781634e-01, 1.9487486e-06, 1.3723566e-05, 2.4483472e-04,\n",
              "        1.9272456e-07, 2.1891553e-02]], dtype=float32)>"
            ]
          },
          "metadata": {},
          "execution_count": 12
        }
      ]
    },
    {
      "cell_type": "markdown",
      "metadata": {
        "id": "gTKje2Kw4Jy7"
      },
      "source": [
        "**【問題2】（アドバンス課題）さまざまな手法を実行**\n",
        "\n",
        "TensorFLowやGoogle AI ResearchのGitHubリポジトリには、定番のモデルから最新のモデルまで多様なコードが公開されています。これらから興味あるものを選び実行してください。\n",
        "\n",
        "\n",
        "なお、これらのコードは初学者向けではないため、巨大なデータセットのダウンロードが必要な場合など、実行が簡単ではないこともあります。そういった場合は、コードリーディングを行ってください。\n",
        "\n",
        "\n",
        "models/research at master · tensorflow/models\n",
        "\n",
        "\n",
        "google-research/google-research: Google AI Research\n",
        "\n",
        "\n",
        "更新日が古いものはPythonやTensorFlowのバージョンが古く、扱いずらい場合があります。新しいものから見ることを推奨します。"
      ]
    },
    {
      "cell_type": "markdown",
      "metadata": {
        "id": "kAH_iGjX4T-y"
      },
      "source": [
        "# 3.異なるフレームワークへの書き換え"
      ]
    },
    {
      "cell_type": "markdown",
      "metadata": {
        "id": "XjKLPb036KGJ"
      },
      "source": [
        "「Sprint13 TensorFlow」で作成した4種類のデータセットを扱うTensorFLowのコードを異なるフレームワークに変更していきます。\n",
        "\n",
        "\n",
        "・Iris（Iris-versicolorとIris-virginicaのみの2値分類）\n",
        "\n",
        "・Iris（3種類すべての目的変数を使用して多値分類）\n",
        "\n",
        "・House Prices\n",
        "\n",
        "・MNIST"
      ]
    },
    {
      "cell_type": "markdown",
      "metadata": {
        "id": "EndNtK7W6Dbm"
      },
      "source": [
        "**Kerasへの書き換え**\n",
        "\n",
        "KerasはTensorFLowに含まれるtf.kerasモジュールを使用してください。\n",
        "\n",
        "\n",
        "KerasにはSequentialモデルかFunctional APIかなど書き方に種類がありますが、これは指定しません。\n",
        "\n"
      ]
    },
    {
      "cell_type": "markdown",
      "metadata": {
        "id": "qFIAaqRR6kDF"
      },
      "source": [
        "**【問題3】Iris（2値分類）をKerasで学習**\n",
        "\n",
        "TensorFlowによるIrisデータセットに対する2値分類をKerasに書き換えてください。"
      ]
    },
    {
      "cell_type": "code",
      "metadata": {
        "id": "-Nt4OkM6pCu4"
      },
      "source": [
        "# データ準備\n",
        "# ライブラリの読み込み\n",
        "from sklearn.datasets import load_iris\n",
        "# 読み込み\n",
        "iris_dataset = load_iris()\n",
        "\n",
        "# 整形\n",
        "iris_dataframe = pd.DataFrame(data=iris_dataset.data, columns=iris_dataset.feature_names)\n",
        "iris_datalabel = pd.DataFrame(data=iris_dataset.target,columns=['Species'])\n",
        "df = pd.concat([iris_dataframe,iris_datalabel],axis=1)"
      ],
      "execution_count": 16,
      "outputs": []
    },
    {
      "cell_type": "code",
      "metadata": {
        "id": "hEeRQT8ip9R4"
      },
      "source": [
        "# 2値分類のため絞り込み\n",
        "df2 = df[(df[\"Species\"] == 0)|(df[\"Species\"] == 1)]\n",
        "\n",
        "# 説明変数と目的変数に分割\n",
        "y = df2[\"Species\"]\n",
        "X = df2.loc[:, [\"sepal length (cm)\", \"sepal width (cm)\", \"petal length (cm)\", \"petal width (cm)\"]]\n",
        "y = np.array(y)\n",
        "X = np.array(X)\n",
        "y = y.astype(np.int)[:, np.newaxis]\n",
        "\n",
        "# 訓練データ/テストデータ/評価データに分割\n",
        "X_train, X_test, y_train, y_test = train_test_split(X, y, test_size=0.2, random_state=0)\n",
        "X_train, X_val, y_train, y_val = train_test_split(X_train, y_train, test_size=0.2, random_state=0)\n",
        "\n",
        "# 正規化\n",
        "from sklearn.preprocessing import MinMaxScaler\n",
        "mmsc = MinMaxScaler()\n",
        "X_train = mmsc.fit_transform(X_train)\n",
        "X_test = mmsc.transform(X_test)\n",
        "X_val = mmsc.transform(X_val)"
      ],
      "execution_count": 17,
      "outputs": []
    },
    {
      "cell_type": "code",
      "metadata": {
        "id": "Inzx6k1FrPQO"
      },
      "source": [
        "# モデル定義\n",
        "model = tf.keras.Sequential()\n",
        "model.add(tf.keras.layers.Dense(50, activation = tf.nn.relu, input_shape=(4,)))\n",
        "model.add(tf.keras.layers.Dense(100, activation = tf.nn.relu))\n",
        "model.add(tf.keras.layers.Dense(1, activation = tf.nn.sigmoid))"
      ],
      "execution_count": 18,
      "outputs": []
    },
    {
      "cell_type": "code",
      "metadata": {
        "colab": {
          "base_uri": "https://localhost:8080/"
        },
        "id": "Q4kDnpPsrV-_",
        "outputId": "bbdc2aee-f552-4ae3-d133-f9216811e6a6"
      },
      "source": [
        "# モデル構造の確認\n",
        "model.summary()"
      ],
      "execution_count": 19,
      "outputs": [
        {
          "output_type": "stream",
          "name": "stdout",
          "text": [
            "Model: \"sequential_2\"\n",
            "_________________________________________________________________\n",
            "Layer (type)                 Output Shape              Param #   \n",
            "=================================================================\n",
            "dense_2 (Dense)              (None, 50)                250       \n",
            "_________________________________________________________________\n",
            "dense_3 (Dense)              (None, 100)               5100      \n",
            "_________________________________________________________________\n",
            "dense_4 (Dense)              (None, 1)                 101       \n",
            "=================================================================\n",
            "Total params: 5,451\n",
            "Trainable params: 5,451\n",
            "Non-trainable params: 0\n",
            "_________________________________________________________________\n"
          ]
        }
      ]
    },
    {
      "cell_type": "code",
      "metadata": {
        "id": "CXvQAMaWrYH6"
      },
      "source": [
        "# 損失が3回改善しなかったら早期学習終了\n",
        "callback = tf.keras.callbacks.EarlyStopping(monitor='loss', patience=3)"
      ],
      "execution_count": 21,
      "outputs": []
    },
    {
      "cell_type": "code",
      "metadata": {
        "id": "R2RrjoEJraG0"
      },
      "source": [
        "# モデルのコンパイル\n",
        "model.compile(\n",
        "    loss='binary_crossentropy',\n",
        "    optimizer=tf.optimizers.Adam(learning_rate=0.01),\n",
        "    metrics=['accuracy']\n",
        ")"
      ],
      "execution_count": 22,
      "outputs": []
    },
    {
      "cell_type": "code",
      "metadata": {
        "colab": {
          "base_uri": "https://localhost:8080/"
        },
        "id": "5uI3FSWFre7h",
        "outputId": "80ddc8d3-d80d-479f-a203-b32bc6d1189f"
      },
      "source": [
        "# 学習実行\n",
        "model.fit(\n",
        "    X_train,\n",
        "    y_train,\n",
        "    batch_size=10,\n",
        "    epochs=100,\n",
        "    verbose=1,\n",
        "    callbacks=[callback],\n",
        "    validation_data=(X_val, y_val)\n",
        ")"
      ],
      "execution_count": 23,
      "outputs": [
        {
          "output_type": "stream",
          "name": "stdout",
          "text": [
            "Epoch 1/100\n",
            "7/7 [==============================] - 1s 24ms/step - loss: 0.4562 - accuracy: 0.7656 - val_loss: 0.1538 - val_accuracy: 1.0000\n",
            "Epoch 2/100\n",
            "7/7 [==============================] - 0s 5ms/step - loss: 0.0680 - accuracy: 1.0000 - val_loss: 0.0062 - val_accuracy: 1.0000\n",
            "Epoch 3/100\n",
            "7/7 [==============================] - 0s 5ms/step - loss: 0.0039 - accuracy: 1.0000 - val_loss: 3.7891e-04 - val_accuracy: 1.0000\n",
            "Epoch 4/100\n",
            "7/7 [==============================] - 0s 5ms/step - loss: 4.2691e-04 - accuracy: 1.0000 - val_loss: 9.3879e-05 - val_accuracy: 1.0000\n",
            "Epoch 5/100\n",
            "7/7 [==============================] - 0s 5ms/step - loss: 1.2577e-04 - accuracy: 1.0000 - val_loss: 2.7345e-05 - val_accuracy: 1.0000\n",
            "Epoch 6/100\n",
            "7/7 [==============================] - 0s 5ms/step - loss: 5.7253e-05 - accuracy: 1.0000 - val_loss: 1.0457e-05 - val_accuracy: 1.0000\n",
            "Epoch 7/100\n",
            "7/7 [==============================] - 0s 5ms/step - loss: 3.1787e-05 - accuracy: 1.0000 - val_loss: 5.8635e-06 - val_accuracy: 1.0000\n",
            "Epoch 8/100\n",
            "7/7 [==============================] - 0s 5ms/step - loss: 2.6054e-05 - accuracy: 1.0000 - val_loss: 3.9798e-06 - val_accuracy: 1.0000\n",
            "Epoch 9/100\n",
            "7/7 [==============================] - 0s 5ms/step - loss: 2.1750e-05 - accuracy: 1.0000 - val_loss: 3.1606e-06 - val_accuracy: 1.0000\n",
            "Epoch 10/100\n",
            "7/7 [==============================] - 0s 5ms/step - loss: 1.9804e-05 - accuracy: 1.0000 - val_loss: 2.7537e-06 - val_accuracy: 1.0000\n",
            "Epoch 11/100\n",
            "7/7 [==============================] - 0s 5ms/step - loss: 1.8570e-05 - accuracy: 1.0000 - val_loss: 2.5593e-06 - val_accuracy: 1.0000\n",
            "Epoch 12/100\n",
            "7/7 [==============================] - 0s 5ms/step - loss: 1.7973e-05 - accuracy: 1.0000 - val_loss: 2.4285e-06 - val_accuracy: 1.0000\n",
            "Epoch 13/100\n",
            "7/7 [==============================] - 0s 5ms/step - loss: 1.7539e-05 - accuracy: 1.0000 - val_loss: 2.3077e-06 - val_accuracy: 1.0000\n",
            "Epoch 14/100\n",
            "7/7 [==============================] - 0s 5ms/step - loss: 1.7209e-05 - accuracy: 1.0000 - val_loss: 2.2141e-06 - val_accuracy: 1.0000\n",
            "Epoch 15/100\n",
            "7/7 [==============================] - 0s 5ms/step - loss: 1.6979e-05 - accuracy: 1.0000 - val_loss: 2.1348e-06 - val_accuracy: 1.0000\n",
            "Epoch 16/100\n",
            "7/7 [==============================] - 0s 5ms/step - loss: 1.6658e-05 - accuracy: 1.0000 - val_loss: 2.0701e-06 - val_accuracy: 1.0000\n",
            "Epoch 17/100\n",
            "7/7 [==============================] - 0s 5ms/step - loss: 1.6432e-05 - accuracy: 1.0000 - val_loss: 2.0092e-06 - val_accuracy: 1.0000\n",
            "Epoch 18/100\n",
            "7/7 [==============================] - 0s 5ms/step - loss: 1.6258e-05 - accuracy: 1.0000 - val_loss: 1.9594e-06 - val_accuracy: 1.0000\n",
            "Epoch 19/100\n",
            "7/7 [==============================] - 0s 5ms/step - loss: 1.5917e-05 - accuracy: 1.0000 - val_loss: 1.8994e-06 - val_accuracy: 1.0000\n",
            "Epoch 20/100\n",
            "7/7 [==============================] - 0s 5ms/step - loss: 1.5724e-05 - accuracy: 1.0000 - val_loss: 1.8460e-06 - val_accuracy: 1.0000\n",
            "Epoch 21/100\n",
            "7/7 [==============================] - 0s 6ms/step - loss: 1.5464e-05 - accuracy: 1.0000 - val_loss: 1.7933e-06 - val_accuracy: 1.0000\n",
            "Epoch 22/100\n",
            "7/7 [==============================] - 0s 6ms/step - loss: 1.5197e-05 - accuracy: 1.0000 - val_loss: 1.7292e-06 - val_accuracy: 1.0000\n",
            "Epoch 23/100\n",
            "7/7 [==============================] - 0s 6ms/step - loss: 1.4991e-05 - accuracy: 1.0000 - val_loss: 1.6813e-06 - val_accuracy: 1.0000\n",
            "Epoch 24/100\n",
            "7/7 [==============================] - 0s 5ms/step - loss: 1.4722e-05 - accuracy: 1.0000 - val_loss: 1.6395e-06 - val_accuracy: 1.0000\n",
            "Epoch 25/100\n",
            "7/7 [==============================] - 0s 5ms/step - loss: 1.4475e-05 - accuracy: 1.0000 - val_loss: 1.6441e-06 - val_accuracy: 1.0000\n",
            "Epoch 26/100\n",
            "7/7 [==============================] - 0s 6ms/step - loss: 1.4223e-05 - accuracy: 1.0000 - val_loss: 1.6206e-06 - val_accuracy: 1.0000\n",
            "Epoch 27/100\n",
            "7/7 [==============================] - 0s 5ms/step - loss: 1.3894e-05 - accuracy: 1.0000 - val_loss: 1.5760e-06 - val_accuracy: 1.0000\n",
            "Epoch 28/100\n",
            "7/7 [==============================] - 0s 8ms/step - loss: 1.3681e-05 - accuracy: 1.0000 - val_loss: 1.5383e-06 - val_accuracy: 1.0000\n",
            "Epoch 29/100\n",
            "7/7 [==============================] - 0s 5ms/step - loss: 1.3442e-05 - accuracy: 1.0000 - val_loss: 1.5079e-06 - val_accuracy: 1.0000\n",
            "Epoch 30/100\n",
            "7/7 [==============================] - 0s 5ms/step - loss: 1.3229e-05 - accuracy: 1.0000 - val_loss: 1.4667e-06 - val_accuracy: 1.0000\n",
            "Epoch 31/100\n",
            "7/7 [==============================] - 0s 5ms/step - loss: 1.3052e-05 - accuracy: 1.0000 - val_loss: 1.4375e-06 - val_accuracy: 1.0000\n",
            "Epoch 32/100\n",
            "7/7 [==============================] - 0s 5ms/step - loss: 1.2825e-05 - accuracy: 1.0000 - val_loss: 1.4015e-06 - val_accuracy: 1.0000\n",
            "Epoch 33/100\n",
            "7/7 [==============================] - 0s 5ms/step - loss: 1.2618e-05 - accuracy: 1.0000 - val_loss: 1.3763e-06 - val_accuracy: 1.0000\n",
            "Epoch 34/100\n",
            "7/7 [==============================] - 0s 5ms/step - loss: 1.2410e-05 - accuracy: 1.0000 - val_loss: 1.3030e-06 - val_accuracy: 1.0000\n",
            "Epoch 35/100\n",
            "7/7 [==============================] - 0s 5ms/step - loss: 1.2180e-05 - accuracy: 1.0000 - val_loss: 1.2628e-06 - val_accuracy: 1.0000\n",
            "Epoch 36/100\n",
            "7/7 [==============================] - 0s 5ms/step - loss: 1.1970e-05 - accuracy: 1.0000 - val_loss: 1.2262e-06 - val_accuracy: 1.0000\n",
            "Epoch 37/100\n",
            "7/7 [==============================] - 0s 5ms/step - loss: 1.1755e-05 - accuracy: 1.0000 - val_loss: 1.1919e-06 - val_accuracy: 1.0000\n",
            "Epoch 38/100\n",
            "7/7 [==============================] - 0s 5ms/step - loss: 1.1569e-05 - accuracy: 1.0000 - val_loss: 1.1709e-06 - val_accuracy: 1.0000\n",
            "Epoch 39/100\n",
            "7/7 [==============================] - 0s 6ms/step - loss: 1.1404e-05 - accuracy: 1.0000 - val_loss: 1.1385e-06 - val_accuracy: 1.0000\n",
            "Epoch 40/100\n",
            "7/7 [==============================] - 0s 5ms/step - loss: 1.1231e-05 - accuracy: 1.0000 - val_loss: 1.1044e-06 - val_accuracy: 1.0000\n",
            "Epoch 41/100\n",
            "7/7 [==============================] - 0s 8ms/step - loss: 1.1061e-05 - accuracy: 1.0000 - val_loss: 1.0749e-06 - val_accuracy: 1.0000\n",
            "Epoch 42/100\n",
            "7/7 [==============================] - 0s 5ms/step - loss: 1.0897e-05 - accuracy: 1.0000 - val_loss: 1.0541e-06 - val_accuracy: 1.0000\n",
            "Epoch 43/100\n",
            "7/7 [==============================] - 0s 5ms/step - loss: 1.0688e-05 - accuracy: 1.0000 - val_loss: 1.0211e-06 - val_accuracy: 1.0000\n",
            "Epoch 44/100\n",
            "7/7 [==============================] - 0s 6ms/step - loss: 1.0518e-05 - accuracy: 1.0000 - val_loss: 9.8235e-07 - val_accuracy: 1.0000\n",
            "Epoch 45/100\n",
            "7/7 [==============================] - 0s 5ms/step - loss: 1.0337e-05 - accuracy: 1.0000 - val_loss: 9.6036e-07 - val_accuracy: 1.0000\n",
            "Epoch 46/100\n",
            "7/7 [==============================] - 0s 6ms/step - loss: 1.0194e-05 - accuracy: 1.0000 - val_loss: 9.3911e-07 - val_accuracy: 1.0000\n",
            "Epoch 47/100\n",
            "7/7 [==============================] - 0s 7ms/step - loss: 1.0001e-05 - accuracy: 1.0000 - val_loss: 9.2450e-07 - val_accuracy: 1.0000\n",
            "Epoch 48/100\n",
            "7/7 [==============================] - 0s 5ms/step - loss: 9.8691e-06 - accuracy: 1.0000 - val_loss: 9.0389e-07 - val_accuracy: 1.0000\n",
            "Epoch 49/100\n",
            "7/7 [==============================] - 0s 5ms/step - loss: 9.6321e-06 - accuracy: 1.0000 - val_loss: 8.9828e-07 - val_accuracy: 1.0000\n",
            "Epoch 50/100\n",
            "7/7 [==============================] - 0s 5ms/step - loss: 9.4138e-06 - accuracy: 1.0000 - val_loss: 8.8783e-07 - val_accuracy: 1.0000\n",
            "Epoch 51/100\n",
            "7/7 [==============================] - 0s 8ms/step - loss: 9.2663e-06 - accuracy: 1.0000 - val_loss: 8.7147e-07 - val_accuracy: 1.0000\n",
            "Epoch 52/100\n",
            "7/7 [==============================] - 0s 8ms/step - loss: 9.0766e-06 - accuracy: 1.0000 - val_loss: 8.5183e-07 - val_accuracy: 1.0000\n",
            "Epoch 53/100\n",
            "7/7 [==============================] - 0s 6ms/step - loss: 8.9672e-06 - accuracy: 1.0000 - val_loss: 8.2784e-07 - val_accuracy: 1.0000\n",
            "Epoch 54/100\n",
            "7/7 [==============================] - 0s 8ms/step - loss: 8.7792e-06 - accuracy: 1.0000 - val_loss: 7.9926e-07 - val_accuracy: 1.0000\n",
            "Epoch 55/100\n",
            "7/7 [==============================] - 0s 5ms/step - loss: 8.6719e-06 - accuracy: 1.0000 - val_loss: 7.8467e-07 - val_accuracy: 1.0000\n",
            "Epoch 56/100\n",
            "7/7 [==============================] - 0s 5ms/step - loss: 8.5118e-06 - accuracy: 1.0000 - val_loss: 7.7040e-07 - val_accuracy: 1.0000\n",
            "Epoch 57/100\n",
            "7/7 [==============================] - 0s 5ms/step - loss: 8.3802e-06 - accuracy: 1.0000 - val_loss: 7.4905e-07 - val_accuracy: 1.0000\n",
            "Epoch 58/100\n",
            "7/7 [==============================] - 0s 6ms/step - loss: 8.2753e-06 - accuracy: 1.0000 - val_loss: 7.2977e-07 - val_accuracy: 1.0000\n",
            "Epoch 59/100\n",
            "7/7 [==============================] - 0s 5ms/step - loss: 8.1141e-06 - accuracy: 1.0000 - val_loss: 7.1253e-07 - val_accuracy: 1.0000\n",
            "Epoch 60/100\n",
            "7/7 [==============================] - 0s 5ms/step - loss: 8.0381e-06 - accuracy: 1.0000 - val_loss: 6.9056e-07 - val_accuracy: 1.0000\n",
            "Epoch 61/100\n",
            "7/7 [==============================] - 0s 5ms/step - loss: 7.9049e-06 - accuracy: 1.0000 - val_loss: 6.7856e-07 - val_accuracy: 1.0000\n",
            "Epoch 62/100\n",
            "7/7 [==============================] - 0s 5ms/step - loss: 7.7866e-06 - accuracy: 1.0000 - val_loss: 6.6037e-07 - val_accuracy: 1.0000\n",
            "Epoch 63/100\n",
            "7/7 [==============================] - 0s 5ms/step - loss: 7.6239e-06 - accuracy: 1.0000 - val_loss: 6.5354e-07 - val_accuracy: 1.0000\n",
            "Epoch 64/100\n",
            "7/7 [==============================] - 0s 5ms/step - loss: 7.5556e-06 - accuracy: 1.0000 - val_loss: 6.4685e-07 - val_accuracy: 1.0000\n",
            "Epoch 65/100\n",
            "7/7 [==============================] - 0s 5ms/step - loss: 7.3637e-06 - accuracy: 1.0000 - val_loss: 6.3412e-07 - val_accuracy: 1.0000\n",
            "Epoch 66/100\n",
            "7/7 [==============================] - 0s 5ms/step - loss: 7.2914e-06 - accuracy: 1.0000 - val_loss: 6.2297e-07 - val_accuracy: 1.0000\n",
            "Epoch 67/100\n",
            "7/7 [==============================] - 0s 5ms/step - loss: 7.1588e-06 - accuracy: 1.0000 - val_loss: 6.0650e-07 - val_accuracy: 1.0000\n",
            "Epoch 68/100\n",
            "7/7 [==============================] - 0s 6ms/step - loss: 7.0538e-06 - accuracy: 1.0000 - val_loss: 5.9758e-07 - val_accuracy: 1.0000\n",
            "Epoch 69/100\n",
            "7/7 [==============================] - 0s 6ms/step - loss: 6.9684e-06 - accuracy: 1.0000 - val_loss: 5.8590e-07 - val_accuracy: 1.0000\n",
            "Epoch 70/100\n",
            "7/7 [==============================] - 0s 7ms/step - loss: 6.8524e-06 - accuracy: 1.0000 - val_loss: 5.7062e-07 - val_accuracy: 1.0000\n",
            "Epoch 71/100\n",
            "7/7 [==============================] - 0s 6ms/step - loss: 6.7537e-06 - accuracy: 1.0000 - val_loss: 5.5186e-07 - val_accuracy: 1.0000\n",
            "Epoch 72/100\n",
            "7/7 [==============================] - 0s 5ms/step - loss: 6.6440e-06 - accuracy: 1.0000 - val_loss: 5.3711e-07 - val_accuracy: 1.0000\n",
            "Epoch 73/100\n",
            "7/7 [==============================] - 0s 5ms/step - loss: 6.5752e-06 - accuracy: 1.0000 - val_loss: 5.2692e-07 - val_accuracy: 1.0000\n",
            "Epoch 74/100\n",
            "7/7 [==============================] - 0s 5ms/step - loss: 6.4686e-06 - accuracy: 1.0000 - val_loss: 5.1799e-07 - val_accuracy: 1.0000\n",
            "Epoch 75/100\n",
            "7/7 [==============================] - 0s 5ms/step - loss: 6.3783e-06 - accuracy: 1.0000 - val_loss: 5.0761e-07 - val_accuracy: 1.0000\n",
            "Epoch 76/100\n",
            "7/7 [==============================] - 0s 5ms/step - loss: 6.2921e-06 - accuracy: 1.0000 - val_loss: 4.9760e-07 - val_accuracy: 1.0000\n",
            "Epoch 77/100\n",
            "7/7 [==============================] - 0s 5ms/step - loss: 6.2148e-06 - accuracy: 1.0000 - val_loss: 4.8694e-07 - val_accuracy: 1.0000\n",
            "Epoch 78/100\n",
            "7/7 [==============================] - 0s 6ms/step - loss: 6.1270e-06 - accuracy: 1.0000 - val_loss: 4.7886e-07 - val_accuracy: 1.0000\n",
            "Epoch 79/100\n",
            "7/7 [==============================] - 0s 5ms/step - loss: 6.0388e-06 - accuracy: 1.0000 - val_loss: 4.7132e-07 - val_accuracy: 1.0000\n",
            "Epoch 80/100\n",
            "7/7 [==============================] - 0s 5ms/step - loss: 5.9887e-06 - accuracy: 1.0000 - val_loss: 4.6527e-07 - val_accuracy: 1.0000\n",
            "Epoch 81/100\n",
            "7/7 [==============================] - 0s 6ms/step - loss: 5.8807e-06 - accuracy: 1.0000 - val_loss: 4.5617e-07 - val_accuracy: 1.0000\n",
            "Epoch 82/100\n",
            "7/7 [==============================] - 0s 6ms/step - loss: 5.7971e-06 - accuracy: 1.0000 - val_loss: 4.4875e-07 - val_accuracy: 1.0000\n",
            "Epoch 83/100\n",
            "7/7 [==============================] - 0s 5ms/step - loss: 5.7435e-06 - accuracy: 1.0000 - val_loss: 4.4306e-07 - val_accuracy: 1.0000\n",
            "Epoch 84/100\n",
            "7/7 [==============================] - 0s 5ms/step - loss: 5.6469e-06 - accuracy: 1.0000 - val_loss: 4.3484e-07 - val_accuracy: 1.0000\n",
            "Epoch 85/100\n",
            "7/7 [==============================] - 0s 5ms/step - loss: 5.5659e-06 - accuracy: 1.0000 - val_loss: 4.2887e-07 - val_accuracy: 1.0000\n",
            "Epoch 86/100\n",
            "7/7 [==============================] - 0s 5ms/step - loss: 5.4753e-06 - accuracy: 1.0000 - val_loss: 4.2422e-07 - val_accuracy: 1.0000\n",
            "Epoch 87/100\n",
            "7/7 [==============================] - 0s 5ms/step - loss: 5.4310e-06 - accuracy: 1.0000 - val_loss: 4.2016e-07 - val_accuracy: 1.0000\n",
            "Epoch 88/100\n",
            "7/7 [==============================] - 0s 5ms/step - loss: 5.3140e-06 - accuracy: 1.0000 - val_loss: 4.1374e-07 - val_accuracy: 1.0000\n",
            "Epoch 89/100\n",
            "7/7 [==============================] - 0s 5ms/step - loss: 5.2371e-06 - accuracy: 1.0000 - val_loss: 4.0279e-07 - val_accuracy: 1.0000\n",
            "Epoch 90/100\n",
            "7/7 [==============================] - 0s 5ms/step - loss: 5.1614e-06 - accuracy: 1.0000 - val_loss: 3.9576e-07 - val_accuracy: 1.0000\n",
            "Epoch 91/100\n",
            "7/7 [==============================] - 0s 5ms/step - loss: 5.0913e-06 - accuracy: 1.0000 - val_loss: 3.8621e-07 - val_accuracy: 1.0000\n",
            "Epoch 92/100\n",
            "7/7 [==============================] - 0s 8ms/step - loss: 5.0286e-06 - accuracy: 1.0000 - val_loss: 3.7607e-07 - val_accuracy: 1.0000\n",
            "Epoch 93/100\n",
            "7/7 [==============================] - 0s 8ms/step - loss: 4.9539e-06 - accuracy: 1.0000 - val_loss: 3.6943e-07 - val_accuracy: 1.0000\n",
            "Epoch 94/100\n",
            "7/7 [==============================] - 0s 6ms/step - loss: 4.9148e-06 - accuracy: 1.0000 - val_loss: 3.6305e-07 - val_accuracy: 1.0000\n",
            "Epoch 95/100\n",
            "7/7 [==============================] - 0s 5ms/step - loss: 4.8336e-06 - accuracy: 1.0000 - val_loss: 3.5748e-07 - val_accuracy: 1.0000\n",
            "Epoch 96/100\n",
            "7/7 [==============================] - 0s 5ms/step - loss: 4.7566e-06 - accuracy: 1.0000 - val_loss: 3.5186e-07 - val_accuracy: 1.0000\n",
            "Epoch 97/100\n",
            "7/7 [==============================] - 0s 7ms/step - loss: 4.7150e-06 - accuracy: 1.0000 - val_loss: 3.4638e-07 - val_accuracy: 1.0000\n",
            "Epoch 98/100\n",
            "7/7 [==============================] - 0s 5ms/step - loss: 4.6491e-06 - accuracy: 1.0000 - val_loss: 3.4047e-07 - val_accuracy: 1.0000\n",
            "Epoch 99/100\n",
            "7/7 [==============================] - 0s 6ms/step - loss: 4.6016e-06 - accuracy: 1.0000 - val_loss: 3.3470e-07 - val_accuracy: 1.0000\n",
            "Epoch 100/100\n",
            "7/7 [==============================] - 0s 5ms/step - loss: 4.5278e-06 - accuracy: 1.0000 - val_loss: 3.3043e-07 - val_accuracy: 1.0000\n"
          ]
        },
        {
          "output_type": "execute_result",
          "data": {
            "text/plain": [
              "<keras.callbacks.History at 0x7f7b5a120550>"
            ]
          },
          "metadata": {},
          "execution_count": 23
        }
      ]
    },
    {
      "cell_type": "code",
      "metadata": {
        "colab": {
          "base_uri": "https://localhost:8080/"
        },
        "id": "lTgO8ks6rjQ4",
        "outputId": "05012462-a308-46e8-8d25-3ce3064de9ed"
      },
      "source": [
        "# 2値分類のうちどちらに分類されるか\n",
        "y_pred_proba = model.predict(X_test)[:, 0]\n",
        "y_pred = np.where(y_pred_proba >0.5, 1, 0)\n",
        "print(\"y_pred_proba\", y_pred_proba)\n",
        "print(\"y_pred\", y_pred)\n",
        "print('y_test', y_test.ravel())"
      ],
      "execution_count": 24,
      "outputs": [
        {
          "output_type": "stream",
          "name": "stdout",
          "text": [
            "y_pred_proba [4.1226301e-07 1.0000000e+00 6.7178132e-07 1.0000000e+00 1.0000000e+00\n",
            " 9.9999464e-01 8.9222176e-09 1.0000000e+00 1.0000000e+00 9.9999905e-01\n",
            " 1.0000000e+00 9.9999988e-01 1.0000000e+00 2.7369952e-06 1.8225766e-07\n",
            " 1.4536547e-06 8.0100556e-08 4.1939347e-07 1.2356399e-09 5.9336198e-06]\n",
            "y_pred [0 1 0 1 1 1 0 1 1 1 1 1 1 0 0 0 0 0 0 0]\n",
            "y_test [0 1 0 1 1 1 0 1 1 1 1 1 1 0 0 0 0 0 0 0]\n"
          ]
        }
      ]
    },
    {
      "cell_type": "code",
      "metadata": {
        "colab": {
          "base_uri": "https://localhost:8080/"
        },
        "id": "IXCEpm5trlPr",
        "outputId": "663fc595-2d44-458e-8022-0704f4e34a63"
      },
      "source": [
        "# 損失とACC\n",
        "score = model.evaluate(X_test, y_test, verbose=0)\n",
        "print('test loss:', score[0])\n",
        "print('test accuracy:', score[1])"
      ],
      "execution_count": 25,
      "outputs": [
        {
          "output_type": "stream",
          "name": "stdout",
          "text": [
            "test loss: 9.155772886515479e-07\n",
            "test accuracy: 1.0\n"
          ]
        }
      ]
    },
    {
      "cell_type": "markdown",
      "metadata": {
        "id": "3ChlVfT76vYE"
      },
      "source": [
        "**【問題4】Iris（多値分類）をKerasで学習**\n",
        "\n",
        "TensorFlowによるIrisデータセットに対する3値分類をKerasに書き換えてください。"
      ]
    },
    {
      "cell_type": "code",
      "metadata": {
        "id": "5UlrAV50ro7l"
      },
      "source": [
        "from sklearn.preprocessing import OneHotEncoder\n",
        "# データ準備\n",
        "# 説明変数と目的変数に分割\n",
        "y = df[\"Species\"]\n",
        "X = df.loc[:, [\"sepal length (cm)\", \"sepal width (cm)\", \"petal length (cm)\", \"petal width (cm)\"]]\n",
        "y = np.array(y)\n",
        "X = np.array(X)\n",
        "y = y.astype(np.int)[:, np.newaxis]\n",
        "\n",
        "# 訓練データ/テストデータ/評価データに分割\n",
        "X_train, X_test, y_train, y_test = train_test_split(X, y, test_size=0.2, random_state=0)\n",
        "X_train, X_val, y_train, y_val = train_test_split(X_train, y_train, test_size=0.2, random_state=0)\n",
        "\n",
        "# onehotベクトル化\n",
        "enc = OneHotEncoder(handle_unknown='ignore', sparse=False)\n",
        "y_train_one_hot = enc.fit_transform(y_train)\n",
        "y_val_one_hot = enc.transform(y_val)\n",
        "y_test_one_hot = enc.transform(y_test)\n",
        "\n",
        "# 正規化\n",
        "from sklearn.preprocessing import MinMaxScaler\n",
        "mmsc = MinMaxScaler()\n",
        "X_train = mmsc.fit_transform(X_train)\n",
        "X_test = mmsc.transform(X_test)\n",
        "X_val = mmsc.transform(X_val)"
      ],
      "execution_count": 27,
      "outputs": []
    },
    {
      "cell_type": "code",
      "metadata": {
        "id": "txr3-mxvr4d_"
      },
      "source": [
        "# モデル定義\n",
        "model = tf.keras.Sequential()\n",
        "model.add(tf.keras.layers.Dense(50, activation = tf.nn.relu, input_shape=(4,)))\n",
        "model.add(tf.keras.layers.Dense(100, activation = tf.nn.relu))\n",
        "model.add(tf.keras.layers.Dense(3, activation = tf.nn.softmax))"
      ],
      "execution_count": 28,
      "outputs": []
    },
    {
      "cell_type": "code",
      "metadata": {
        "id": "qwHJ4xrOr8k5"
      },
      "source": [
        "# モデル構造の確認\n",
        "model.summary()"
      ],
      "execution_count": null,
      "outputs": []
    },
    {
      "cell_type": "code",
      "metadata": {
        "id": "S4LSzRzVr-wK"
      },
      "source": [
        "# 損失が3回改善しなかったら早期学習終了\n",
        "callback = tf.keras.callbacks.EarlyStopping(monitor='loss', patience=3)"
      ],
      "execution_count": 30,
      "outputs": []
    },
    {
      "cell_type": "code",
      "metadata": {
        "id": "-fGBCyC6sCeT"
      },
      "source": [
        "# モデルのコンパイル\n",
        "model.compile(\n",
        "    loss='categorical_crossentropy',\n",
        "    optimizer=tf.optimizers.Adam(learning_rate=0.01),\n",
        "    metrics=['accuracy']\n",
        ")"
      ],
      "execution_count": 31,
      "outputs": []
    },
    {
      "cell_type": "code",
      "metadata": {
        "colab": {
          "base_uri": "https://localhost:8080/"
        },
        "id": "6aOqRjTztZL5",
        "outputId": "98ef114b-0579-4939-d885-4b1aac27cdbc"
      },
      "source": [
        "# 学習実行\n",
        "model.fit(\n",
        "    X_train,\n",
        "    y_train_one_hot,\n",
        "    batch_size=10,\n",
        "    epochs=100,\n",
        "    verbose=1,\n",
        "    callbacks=[callback],\n",
        "    validation_data=(X_val, y_val_one_hot)\n",
        ")"
      ],
      "execution_count": 32,
      "outputs": [
        {
          "output_type": "stream",
          "name": "stdout",
          "text": [
            "Epoch 1/100\n",
            "10/10 [==============================] - 1s 31ms/step - loss: 0.9991 - accuracy: 0.4896 - val_loss: 0.7049 - val_accuracy: 0.7083\n",
            "Epoch 2/100\n",
            "10/10 [==============================] - 0s 4ms/step - loss: 0.5489 - accuracy: 0.7083 - val_loss: 0.4443 - val_accuracy: 0.8333\n",
            "Epoch 3/100\n",
            "10/10 [==============================] - 0s 4ms/step - loss: 0.4144 - accuracy: 0.7812 - val_loss: 0.4099 - val_accuracy: 0.7083\n",
            "Epoch 4/100\n",
            "10/10 [==============================] - 0s 4ms/step - loss: 0.3465 - accuracy: 0.8229 - val_loss: 0.2439 - val_accuracy: 0.9583\n",
            "Epoch 5/100\n",
            "10/10 [==============================] - 0s 5ms/step - loss: 0.2044 - accuracy: 0.9479 - val_loss: 0.1812 - val_accuracy: 0.9583\n",
            "Epoch 6/100\n",
            "10/10 [==============================] - 0s 4ms/step - loss: 0.1798 - accuracy: 0.9375 - val_loss: 0.2742 - val_accuracy: 0.9167\n",
            "Epoch 7/100\n",
            "10/10 [==============================] - 0s 4ms/step - loss: 0.1328 - accuracy: 0.9583 - val_loss: 0.2818 - val_accuracy: 0.8750\n",
            "Epoch 8/100\n",
            "10/10 [==============================] - 0s 5ms/step - loss: 0.1549 - accuracy: 0.9375 - val_loss: 0.1782 - val_accuracy: 0.9167\n",
            "Epoch 9/100\n",
            "10/10 [==============================] - 0s 4ms/step - loss: 0.1138 - accuracy: 0.9583 - val_loss: 0.1243 - val_accuracy: 0.9583\n",
            "Epoch 10/100\n",
            "10/10 [==============================] - 0s 4ms/step - loss: 0.1025 - accuracy: 0.9583 - val_loss: 0.1309 - val_accuracy: 0.9583\n",
            "Epoch 11/100\n",
            "10/10 [==============================] - 0s 4ms/step - loss: 0.1123 - accuracy: 0.9375 - val_loss: 0.1095 - val_accuracy: 0.9167\n",
            "Epoch 12/100\n",
            "10/10 [==============================] - 0s 4ms/step - loss: 0.0696 - accuracy: 0.9583 - val_loss: 0.1820 - val_accuracy: 0.9167\n",
            "Epoch 13/100\n",
            "10/10 [==============================] - 0s 4ms/step - loss: 0.0817 - accuracy: 0.9688 - val_loss: 0.1463 - val_accuracy: 0.9583\n",
            "Epoch 14/100\n",
            "10/10 [==============================] - 0s 4ms/step - loss: 0.1077 - accuracy: 0.9479 - val_loss: 0.1186 - val_accuracy: 0.9583\n",
            "Epoch 15/100\n",
            "10/10 [==============================] - 0s 4ms/step - loss: 0.0942 - accuracy: 0.9688 - val_loss: 0.1909 - val_accuracy: 0.9167\n"
          ]
        },
        {
          "output_type": "execute_result",
          "data": {
            "text/plain": [
              "<keras.callbacks.History at 0x7f7b701a8a50>"
            ]
          },
          "metadata": {},
          "execution_count": 32
        }
      ]
    },
    {
      "cell_type": "code",
      "metadata": {
        "colab": {
          "base_uri": "https://localhost:8080/"
        },
        "id": "0uQTGgjrtbyR",
        "outputId": "d7e9a5ab-3567-47c5-fdcc-3ff9c4b48f0f"
      },
      "source": [
        "# 学習実行\n",
        "model.fit(\n",
        "    X_train,\n",
        "    y_train_one_hot,\n",
        "    batch_size=10,\n",
        "    epochs=100,\n",
        "    verbose=1,\n",
        "    callbacks=[callback],\n",
        "    validation_data=(X_val, y_val_one_hot)\n",
        ")"
      ],
      "execution_count": 33,
      "outputs": [
        {
          "output_type": "stream",
          "name": "stdout",
          "text": [
            "Epoch 1/100\n",
            "10/10 [==============================] - 0s 7ms/step - loss: 0.0490 - accuracy: 0.9792 - val_loss: 0.1049 - val_accuracy: 1.0000\n",
            "Epoch 2/100\n",
            "10/10 [==============================] - 0s 4ms/step - loss: 0.0911 - accuracy: 0.9583 - val_loss: 0.1022 - val_accuracy: 1.0000\n",
            "Epoch 3/100\n",
            "10/10 [==============================] - 0s 4ms/step - loss: 0.0862 - accuracy: 0.9583 - val_loss: 0.8272 - val_accuracy: 0.7917\n",
            "Epoch 4/100\n",
            "10/10 [==============================] - 0s 4ms/step - loss: 0.2097 - accuracy: 0.9375 - val_loss: 0.1150 - val_accuracy: 0.9583\n"
          ]
        },
        {
          "output_type": "execute_result",
          "data": {
            "text/plain": [
              "<keras.callbacks.History at 0x7f7b4791fb90>"
            ]
          },
          "metadata": {},
          "execution_count": 33
        }
      ]
    },
    {
      "cell_type": "code",
      "metadata": {
        "colab": {
          "base_uri": "https://localhost:8080/"
        },
        "id": "09-6RUZlteKD",
        "outputId": "de3b6ce3-4931-4fcc-d05b-8bfe4badd525"
      },
      "source": [
        "# 損失とACC\n",
        "score = model.evaluate(X_test, y_test_one_hot, verbose=0)\n",
        "print('Train loss:', score[0])\n",
        "print('Train accuracy:', score[1])"
      ],
      "execution_count": 34,
      "outputs": [
        {
          "output_type": "stream",
          "name": "stdout",
          "text": [
            "Train loss: 0.06182991713285446\n",
            "Train accuracy: 0.9666666388511658\n"
          ]
        }
      ]
    },
    {
      "cell_type": "markdown",
      "metadata": {
        "id": "DRqj6ghv65rD"
      },
      "source": [
        "**【問題5】House PricesをKerasで学習**\n",
        "\n",
        "TensorFlowによるHouse Pricesデータセットに対する回帰をKerasに書き換えてください。"
      ]
    },
    {
      "cell_type": "code",
      "metadata": {
        "colab": {
          "base_uri": "https://localhost:8080/",
          "height": 35
        },
        "id": "SRj8wquyttB8",
        "outputId": "cfeaf603-bc7a-447c-e9bd-4d998b8ee633"
      },
      "source": [
        "%pwd"
      ],
      "execution_count": 36,
      "outputs": [
        {
          "output_type": "execute_result",
          "data": {
            "application/vnd.google.colaboratory.intrinsic+json": {
              "type": "string"
            },
            "text/plain": [
              "'/content'"
            ]
          },
          "metadata": {},
          "execution_count": 36
        }
      ]
    },
    {
      "cell_type": "code",
      "metadata": {
        "colab": {
          "base_uri": "https://localhost:8080/"
        },
        "id": "YgZ4x5iztvFn",
        "outputId": "f8635aab-803f-4043-c01a-505b2d315050"
      },
      "source": [
        "%ls"
      ],
      "execution_count": 43,
      "outputs": [
        {
          "output_type": "stream",
          "name": "stdout",
          "text": [
            " \u001b[0m\u001b[01;34mシンプソン\u001b[0m/\n",
            " 13_クラスとインスタンス.ipynb\n",
            " 15_クラス変数とメンバ変数.ipynb\n",
            " 16_クラスの使い道.ipynb\n",
            " Chapter1.ipynb\n",
            " Chapter2.ipynb\n",
            " CIFAR10_transfer_learning.ipynb\n",
            "'CNN_intro (1).ipynb'\n",
            " CNN_intro_answer.ipynb\n",
            " CNN_intro.ipynb\n",
            " data_handling_practice_answer.ipynb\n",
            " \u001b[01;34mdeep-learning-from-scratch-2-master\u001b[0m/\n",
            " \u001b[01;34mdeep-learning-from-scratch-master\u001b[0m/\n",
            " def関数練習.ipynb\n",
            "'example_answer_week3_sinyo_joho (1).ipynb'\n",
            " example_answer_week3_sinyo_joho.ipynb\n",
            "'example_answer_week4_ayame (1).ipynb'\n",
            " example_answer_week4_ayame.ipynb\n",
            " example_answer_week4_jutaku_price.ipynb\n",
            " example_answer_week4_shinyo_joho.ipynb\n",
            " H2O_for_preparation.ipynb\n",
            " H2O_walk_through.ipynb\n",
            " homework2_transfer_learning_answer.ipynb\n",
            " homework2_transfer_learning.ipynb\n",
            " クラスタリング.ipynb\n",
            " クラスとインスタンス.ipynb\n",
            " ニューラルネットワーク.ipynb\n",
            " ディープニューラルネットワーク.ipynb\n",
            "'janome_practice_NLP (1).ipynb'\n",
            " janome_practice_NLP.ipynb\n",
            " Keras.ipynb\n",
            " Keras入門.ipynb\n",
            " Linear_regression.ipynb\n",
            "'MEF_Sprint18_make_dataset（受講生用） (1).ipynb'\n",
            " MEF_Sprint18_make_dataset（受講生用）.ipynb\n",
            " modeling_process_walk_through.ipynb\n",
            " \u001b[01;34mNLP\u001b[0m/\n",
            "'Numpy入門1 配列の作成.ipynb'\n",
            " Numpy入門2.ipynb\n",
            "'Numpy入門2 基本的な配列処理.ipynb'\n",
            "'polarity_in_sentence_answer (1).ipynb'\n",
            " polarity_in_sentence_answer.ipynb\n",
            " polarity_in_sentence_sample_code.ipynb\n",
            "'practice_NLP (1).ipynb'\n",
            " practice_NLP.ipynb\n",
            "'pytorch_practical (1).ipynb'\n",
            "'pytorch_practical (2).ipynb'\n",
            "'pytorch_practical (3).ipynb'\n",
            " pytorch_practical-checkpoint.ipynb\n",
            " pytorch_practical.ipynb\n",
            " sample_code.ipynb\n",
            "'scraping (1).ipynb'\n",
            " scraping.ipynb\n",
            " SimpleConv1d.ipynb\n",
            " SimpleConv2d.ipynb\n",
            "'Sprint10 (1).ipynb'\n",
            " Sprint10.ipynb\n",
            "'Sprint10_歯抜け (1).ipynb'\n",
            " Sprint10_歯抜け.ipynb\n",
            " Sprint11.ipynb\n",
            " Sprint12.ipynb\n",
            " Sprint13_20210911.ipynb\n",
            " Sprint13.ipynb\n",
            " Sprint14_20210912.ipynb\n",
            " Sprint14.ipynb\n",
            " Sprint17-yolo.ipynb\n",
            " \u001b[01;34msprint18_images\u001b[0m/\n",
            " Sprint18.ipynb\n",
            " Sprint19.ipynb\n",
            " Sprint1.ipynb\n",
            " Sprint20.ipynb\n",
            " Sprint21_歯抜け.ipynb\n",
            " Sprint22.ipynb\n",
            " Sprint23.ipynb\n",
            " Sprint24.ipynb\n",
            " Sprint25.ipynb\n",
            " sprint2.ipynb\n",
            " Sprint_2.ipynb\n",
            " Sprint5.ipynb\n",
            " Sprint6.ipynb\n",
            " Sprint7.ipynb\n",
            "'Sprint8 (1).ipynb'\n",
            " Sprint8.ipynb\n",
            "'Sprint_9_改 (1).ipynb'\n",
            " Sprint_9_改.ipynb\n",
            " Sprint_9_歯抜け_改.ipynb\n",
            " SVM.ipynb\n",
            " TensorFlow.ipynb\n",
            "'TensorFlow入門1  基本的な仕組み.ipynb'\n",
            "'TensorFlow入門2  ロジスティック回帰実装.ipynb'\n",
            " train.csv\n",
            " \u001b[01;34mtraining\u001b[0m/\n",
            " \u001b[01;34munet-master\u001b[0m/\n",
            " Untitled\n",
            " Untitled0.ipynb\n",
            "'Untitled (1)'\n",
            "'Untitled (10)'\n",
            " Untitled10.ipynb\n",
            "'Untitled (11)'\n",
            " Untitled11.ipynb\n",
            "'Untitled (12)'\n",
            " Untitled12.ipynb\n",
            "'Untitled (13)'\n",
            " Untitled13.ipynb\n",
            "'Untitled (14)'\n",
            " Untitled14.ipynb\n",
            "'Untitled (15)'\n",
            " Untitled15.ipynb\n",
            "'Untitled (16)'\n",
            " Untitled16.ipynb\n",
            "'Untitled (17)'\n",
            " Untitled17.ipynb\n",
            "'Untitled (18)'\n",
            " Untitled18.ipynb\n",
            "'Untitled (19)'\n",
            " Untitled19.ipynb\n",
            " Untitled1.ipynb\n",
            "'Untitled (2)'\n",
            "'Untitled (20)'\n",
            " Untitled20.ipynb\n",
            "'Untitled (21)'\n",
            " Untitled21.ipynb\n",
            "'Untitled (22)'\n",
            " Untitled22.ipynb\n",
            "'Untitled (23)'\n",
            " Untitled23.ipynb\n",
            "'Untitled (24)'\n",
            " Untitled24.ipynb\n",
            "'Untitled (25)'\n",
            " Untitled25.ipynb\n",
            "'Untitled (26)'\n",
            " Untitled26.ipynb\n",
            "'Untitled (27)'\n",
            " Untitled27.ipynb\n",
            "'Untitled (28)'\n",
            " Untitled28.ipynb\n",
            "'Untitled (29)'\n",
            " Untitled2.ipynb\n",
            "'Untitled (3)'\n",
            "'Untitled (30)'\n",
            "'Untitled (31)'\n",
            "'Untitled (32)'\n",
            "'Untitled (33)'\n",
            "'Untitled (34)'\n",
            "'Untitled (35)'\n",
            "'Untitled (36)'\n",
            "'Untitled (37)'\n",
            "'Untitled (38)'\n",
            "'Untitled (39)'\n",
            " Untitled3.ipynb\n",
            "'Untitled (4)'\n",
            "'Untitled (40)'\n",
            "'Untitled (41)'\n",
            "'Untitled (42)'\n",
            "'Untitled (43)'\n",
            "'Untitled (44)'\n",
            "'Untitled (45)'\n",
            "'Untitled (46)'\n",
            "'Untitled (47)'\n",
            "'Untitled (48)'\n",
            "'Untitled (49)'\n",
            " Untitled4.ipynb\n",
            "'Untitled (5)'\n",
            "'Untitled (50)'\n",
            "'Untitled (51)'\n",
            " Untitled5.ipynb\n",
            "'Untitled (6)'\n",
            " Untitled6.ipynb\n",
            "'Untitled (7)'\n",
            " Untitled7.ipynb\n",
            "'Untitled (8)'\n",
            " Untitled8.ipynb\n",
            "'Untitled (9)'\n",
            " Untitled9.ipynb\n",
            " アヤメの二値分類.ipynb\n",
            " 二次元配列と勾配問題.ipynb\n",
            " 住宅価格の予測.ipynb\n",
            " ダミーデータの作成.ipynb\n",
            " データセット作成.ipynb\n",
            " 信用情報の学習.ipynb\n",
            " アヤメのデータ分析.ipynb\n",
            " クラスいまにゅ動画.ipynb\n",
            " 卒業制作_中日ドラゴンズ.ipynb\n",
            " 卒業発表用.ipynb\n",
            " ロジスティック回帰.ipynb\n",
            " アンサンブル学習.ipynb\n",
            "'学習に関するテクニック(ゼロ作).ipynb'\n",
            " 富士山折紙問題.ipynb\n",
            " 小麦とチェス盤問題.ipynb\n",
            " 折紙問題20210709三浦伸太郎.ipynb\n",
            " オブジェクト指向の活用.ipynb\n",
            " 曽呂利新左衛門問題.ipynb\n",
            "'曽呂利新左衛門問題.ipynb のコピー'\n",
            " 栗まんじゅう問題.ipynb\n",
            " 機械学習フロー.ipynb\n",
            " 機械学習スクラッチ入門.ipynb\n",
            " 決定木.ipynb\n",
            " クラスとインスタンス特訓用.ipynb\n",
            " 線形回帰.ipynb\n",
            " 線形回帰とは.ipynb\n",
            " 線形回帰の基礎.ipynb\n",
            " 行列積の実装.ipynb\n",
            " 野田講師作成中の線形回帰.ipynb\n",
            " 関数いまにゅ動画.ipynb\n",
            " ヒント集.ipynb\n"
          ]
        }
      ]
    },
    {
      "cell_type": "code",
      "metadata": {
        "colab": {
          "base_uri": "https://localhost:8080/"
        },
        "id": "oI4iOKCrtw7l",
        "outputId": "457467c4-1e14-4905-d65f-217154a57d20"
      },
      "source": [
        "%cd Colab Notebooks"
      ],
      "execution_count": 42,
      "outputs": [
        {
          "output_type": "stream",
          "name": "stdout",
          "text": [
            "/content/drive/My Drive/Colab Notebooks\n"
          ]
        }
      ]
    },
    {
      "cell_type": "code",
      "metadata": {
        "id": "cN7G3qfltoWy"
      },
      "source": [
        "# データの準備\n",
        "dataset_path =\"train.csv\"\n",
        "df = pd.read_csv(dataset_path)\n",
        "\n",
        "y = df[\"SalePrice\"]\n",
        "X = df.loc[:, [\"GrLivArea\", \"YearBuilt\"]]\n",
        "y = np.array(y)\n",
        "X = np.array(X)\n",
        "y = y.astype(np.int)[:, np.newaxis]\n",
        "y = np.log(y)\n",
        "\n",
        "X_train, X_test, y_train, y_test = train_test_split(X, y, test_size=0.2, random_state=0)\n",
        "X_train, X_val, y_train, y_val = train_test_split(X_train, y_train, test_size=0.2, random_state=0)"
      ],
      "execution_count": 44,
      "outputs": []
    },
    {
      "cell_type": "code",
      "metadata": {
        "id": "xnN2i15nuEPT"
      },
      "source": [
        "# モデルの定義\n",
        "model = tf.keras.Sequential()\n",
        "model.add(tf.keras.layers.Dense(50, activation = tf.nn.relu, input_shape=(2,)))\n",
        "model.add(tf.keras.layers.Dense(100, activation = tf.nn.relu))\n",
        "model.add(tf.keras.layers.Dense(1, activation = tf.keras.activations.linear))"
      ],
      "execution_count": 45,
      "outputs": []
    },
    {
      "cell_type": "code",
      "metadata": {
        "colab": {
          "base_uri": "https://localhost:8080/"
        },
        "id": "epcp9_2fuHNV",
        "outputId": "e9141ab2-cbf1-4711-a80a-b13f408b98a3"
      },
      "source": [
        "# モデル構造の確認\n",
        "model.summary()"
      ],
      "execution_count": 46,
      "outputs": [
        {
          "output_type": "stream",
          "name": "stdout",
          "text": [
            "Model: \"sequential_4\"\n",
            "_________________________________________________________________\n",
            "Layer (type)                 Output Shape              Param #   \n",
            "=================================================================\n",
            "dense_8 (Dense)              (None, 50)                150       \n",
            "_________________________________________________________________\n",
            "dense_9 (Dense)              (None, 100)               5100      \n",
            "_________________________________________________________________\n",
            "dense_10 (Dense)             (None, 1)                 101       \n",
            "=================================================================\n",
            "Total params: 5,351\n",
            "Trainable params: 5,351\n",
            "Non-trainable params: 0\n",
            "_________________________________________________________________\n"
          ]
        }
      ]
    },
    {
      "cell_type": "code",
      "metadata": {
        "id": "NmoLA6vMuKCH"
      },
      "source": [
        "# 損失が3回改善しなかったら早期学習終了\n",
        "callback = tf.keras.callbacks.EarlyStopping(monitor='loss', patience=3)"
      ],
      "execution_count": 47,
      "outputs": []
    },
    {
      "cell_type": "code",
      "metadata": {
        "id": "rSp1u4YwuNrM"
      },
      "source": [
        "# モデルのコンパイル\n",
        "model.compile(\n",
        "    loss='mse',\n",
        "    optimizer='adam',\n",
        "    metrics=['mse']\n",
        ")"
      ],
      "execution_count": 48,
      "outputs": []
    },
    {
      "cell_type": "code",
      "metadata": {
        "colab": {
          "base_uri": "https://localhost:8080/"
        },
        "id": "DTveJ7g7uO2j",
        "outputId": "c01ace28-6d52-44e7-f603-095327e45a60"
      },
      "source": [
        "# 学習実行\n",
        "model.fit(\n",
        "    X_train,\n",
        "    y_train,\n",
        "    batch_size=10,\n",
        "    epochs=100,\n",
        "    verbose=1,\n",
        "    callbacks=[callback],\n",
        "    validation_data=(X_val, y_val)\n",
        ")"
      ],
      "execution_count": 49,
      "outputs": [
        {
          "output_type": "stream",
          "name": "stdout",
          "text": [
            "Epoch 1/100\n",
            "94/94 [==============================] - 1s 4ms/step - loss: 4122.5811 - mse: 4122.5811 - val_loss: 12.6900 - val_mse: 12.6900\n",
            "Epoch 2/100\n",
            "94/94 [==============================] - 0s 3ms/step - loss: 6.9242 - mse: 6.9242 - val_loss: 3.8037 - val_mse: 3.8037\n",
            "Epoch 3/100\n",
            "94/94 [==============================] - 0s 3ms/step - loss: 2.7022 - mse: 2.7022 - val_loss: 2.3352 - val_mse: 2.3352\n",
            "Epoch 4/100\n",
            "94/94 [==============================] - 0s 3ms/step - loss: 1.4058 - mse: 1.4058 - val_loss: 0.9299 - val_mse: 0.9299\n",
            "Epoch 5/100\n",
            "94/94 [==============================] - 0s 3ms/step - loss: 0.8406 - mse: 0.8406 - val_loss: 1.2936 - val_mse: 1.2936\n",
            "Epoch 6/100\n",
            "94/94 [==============================] - 0s 2ms/step - loss: 0.6240 - mse: 0.6240 - val_loss: 0.4142 - val_mse: 0.4142\n",
            "Epoch 7/100\n",
            "94/94 [==============================] - 0s 3ms/step - loss: 0.4960 - mse: 0.4960 - val_loss: 0.4375 - val_mse: 0.4375\n",
            "Epoch 8/100\n",
            "94/94 [==============================] - 0s 2ms/step - loss: 0.4128 - mse: 0.4128 - val_loss: 0.3175 - val_mse: 0.3175\n",
            "Epoch 9/100\n",
            "94/94 [==============================] - 0s 2ms/step - loss: 0.3795 - mse: 0.3795 - val_loss: 0.4065 - val_mse: 0.4065\n",
            "Epoch 10/100\n",
            "94/94 [==============================] - 0s 2ms/step - loss: 0.3171 - mse: 0.3171 - val_loss: 0.2668 - val_mse: 0.2668\n",
            "Epoch 11/100\n",
            "94/94 [==============================] - 0s 2ms/step - loss: 0.3531 - mse: 0.3531 - val_loss: 0.3084 - val_mse: 0.3084\n",
            "Epoch 12/100\n",
            "94/94 [==============================] - 0s 3ms/step - loss: 0.2857 - mse: 0.2857 - val_loss: 0.3521 - val_mse: 0.3521\n",
            "Epoch 13/100\n",
            "94/94 [==============================] - 0s 2ms/step - loss: 0.3729 - mse: 0.3729 - val_loss: 0.3536 - val_mse: 0.3536\n",
            "Epoch 14/100\n",
            "94/94 [==============================] - 0s 2ms/step - loss: 0.2305 - mse: 0.2305 - val_loss: 0.1996 - val_mse: 0.1996\n",
            "Epoch 15/100\n",
            "94/94 [==============================] - 0s 2ms/step - loss: 0.2245 - mse: 0.2245 - val_loss: 0.2698 - val_mse: 0.2698\n",
            "Epoch 16/100\n",
            "94/94 [==============================] - 0s 3ms/step - loss: 0.2461 - mse: 0.2461 - val_loss: 0.2124 - val_mse: 0.2124\n",
            "Epoch 17/100\n",
            "94/94 [==============================] - 0s 3ms/step - loss: 0.3654 - mse: 0.3654 - val_loss: 0.4784 - val_mse: 0.4784\n",
            "Epoch 18/100\n",
            "94/94 [==============================] - 0s 2ms/step - loss: 0.2200 - mse: 0.2200 - val_loss: 0.1924 - val_mse: 0.1924\n",
            "Epoch 19/100\n",
            "94/94 [==============================] - 0s 2ms/step - loss: 0.1765 - mse: 0.1765 - val_loss: 0.1483 - val_mse: 0.1483\n",
            "Epoch 20/100\n",
            "94/94 [==============================] - 0s 2ms/step - loss: 0.1685 - mse: 0.1685 - val_loss: 0.1159 - val_mse: 0.1159\n",
            "Epoch 21/100\n",
            "94/94 [==============================] - 0s 2ms/step - loss: 0.1591 - mse: 0.1591 - val_loss: 0.2719 - val_mse: 0.2719\n",
            "Epoch 22/100\n",
            "94/94 [==============================] - 0s 3ms/step - loss: 0.2175 - mse: 0.2175 - val_loss: 0.1652 - val_mse: 0.1652\n",
            "Epoch 23/100\n",
            "94/94 [==============================] - 0s 2ms/step - loss: 0.1803 - mse: 0.1803 - val_loss: 0.1407 - val_mse: 0.1407\n",
            "Epoch 24/100\n",
            "94/94 [==============================] - 0s 2ms/step - loss: 0.2776 - mse: 0.2776 - val_loss: 0.1759 - val_mse: 0.1759\n"
          ]
        },
        {
          "output_type": "execute_result",
          "data": {
            "text/plain": [
              "<keras.callbacks.History at 0x7f7be0140610>"
            ]
          },
          "metadata": {},
          "execution_count": 49
        }
      ]
    },
    {
      "cell_type": "code",
      "metadata": {
        "colab": {
          "base_uri": "https://localhost:8080/"
        },
        "id": "ptBXswPauU53",
        "outputId": "a54f7e60-5c26-493a-cffb-a5cab8a513e2"
      },
      "source": [
        "# 予測値出力\n",
        "y_pred_proba = model.predict(X_test)\n",
        "y_pred = y_pred_proba\n",
        "print(\"y_pred\", y_pred.ravel()[:5])\n",
        "print('y_test', y_test.ravel()[:5])"
      ],
      "execution_count": 50,
      "outputs": [
        {
          "output_type": "stream",
          "name": "stdout",
          "text": [
            "y_pred [12.23102  11.922037 11.775415 12.30884  11.850685]\n",
            "y_test [12.20918779 11.79810441 11.60823564 12.16525065 11.38509209]\n"
          ]
        }
      ]
    },
    {
      "cell_type": "code",
      "metadata": {
        "colab": {
          "base_uri": "https://localhost:8080/"
        },
        "id": "uaGMfxrNuXCE",
        "outputId": "74eadbe1-3c6b-4a08-e293-e2667807bd21"
      },
      "source": [
        "# 損失とACC\n",
        "score = model.evaluate(X_test, y_test, verbose=0)\n",
        "print('loss (test):', score[0])\n",
        "print('Mean Squared Error (test):', score[1])"
      ],
      "execution_count": 51,
      "outputs": [
        {
          "output_type": "stream",
          "name": "stdout",
          "text": [
            "loss (test): 0.6131235361099243\n",
            "Mean Squared Error (test): 0.6131235361099243\n"
          ]
        }
      ]
    },
    {
      "cell_type": "markdown",
      "metadata": {
        "id": "UXd40V6gNiW8"
      },
      "source": [
        "**【問題6】MNISTをKerasで学習**\n",
        "\n",
        "TensorFlowによるMNISTデータセットによる画像の多値分類をKerasに書き換えてください。"
      ]
    },
    {
      "cell_type": "code",
      "metadata": {
        "id": "J-QAd-mguckh"
      },
      "source": [
        "# データ準備\n",
        "# 読み込み\n",
        "(X_train, y_train), (X_test, y_test) = mnist.load_data()\n",
        "\n",
        "#　平滑化\n",
        "X_train = X_train.reshape(-1, 784)\n",
        "X_test = X_test.reshape(-1, 784)\n",
        "\n",
        "# 正規化\n",
        "X_train = X_train.astype(np.float)\n",
        "X_test = X_test.astype(np.float)\n",
        "X_train /= 255\n",
        "X_test /= 255\n",
        "\n",
        "# 変形\n",
        "y_train = y_train.astype(np.int)[:, np.newaxis]\n",
        "y_test = y_test.astype(np.int)[:, np.newaxis]\n",
        "\n",
        "# one-hotベクトル化\n",
        "enc = OneHotEncoder(handle_unknown='ignore', sparse=False)\n",
        "y_train_one_hot = enc.fit_transform(y_train[:])\n",
        "y_test_one_hot = enc.fit_transform(y_test[:])\n",
        "\n",
        "# 分割\n",
        "X_train, X_val, y_train, y_val = train_test_split(X_train, y_train_one_hot, test_size=0.2)"
      ],
      "execution_count": 52,
      "outputs": []
    },
    {
      "cell_type": "code",
      "metadata": {
        "id": "r976CxOtuh5H"
      },
      "source": [
        "# モデル定義\n",
        "model = tf.keras.Sequential()\n",
        "model.add(tf.keras.layers.Dense(50, activation = tf.nn.relu, input_shape=(784,)))\n",
        "model.add(tf.keras.layers.Dense(100, activation = tf.nn.relu))\n",
        "model.add(tf.keras.layers.Dense(10, activation = tf.nn.softmax))"
      ],
      "execution_count": 53,
      "outputs": []
    },
    {
      "cell_type": "code",
      "metadata": {
        "id": "qW6tux54vevh"
      },
      "source": [
        "# 損失が3回改善しなかったら早期学習終了\n",
        "callback = tf.keras.callbacks.EarlyStopping(monitor='loss', patience=3)"
      ],
      "execution_count": 54,
      "outputs": []
    },
    {
      "cell_type": "code",
      "metadata": {
        "id": "HDsodr8Pvfm_"
      },
      "source": [
        "# モデルのコンパイル\n",
        "model.compile(\n",
        "    loss='categorical_crossentropy',\n",
        "    optimizer=tf.optimizers.Adam(learning_rate=0.01),\n",
        "    metrics=['accuracy']\n",
        ")"
      ],
      "execution_count": 55,
      "outputs": []
    },
    {
      "cell_type": "code",
      "metadata": {
        "colab": {
          "base_uri": "https://localhost:8080/"
        },
        "id": "9RNfkqlmviTJ",
        "outputId": "1d5e2bd4-b19d-4234-b7d6-d1fe412c2dc2"
      },
      "source": [
        "# 学習実行\n",
        "model.fit(\n",
        "    X_train[:1000],\n",
        "    y_train[:1000],\n",
        "    batch_size=10,\n",
        "    epochs=100,\n",
        "    verbose=1,\n",
        "    callbacks=[callback],\n",
        "    validation_data=(X_val, y_val)\n",
        ")"
      ],
      "execution_count": 56,
      "outputs": [
        {
          "output_type": "stream",
          "name": "stdout",
          "text": [
            "Epoch 1/100\n",
            "100/100 [==============================] - 3s 29ms/step - loss: 1.0017 - accuracy: 0.6520 - val_loss: 0.6028 - val_accuracy: 0.8195\n",
            "Epoch 2/100\n",
            "100/100 [==============================] - 3s 28ms/step - loss: 0.4510 - accuracy: 0.8550 - val_loss: 0.6299 - val_accuracy: 0.8253\n",
            "Epoch 3/100\n",
            "100/100 [==============================] - 3s 28ms/step - loss: 0.2988 - accuracy: 0.9050 - val_loss: 0.5779 - val_accuracy: 0.8404\n",
            "Epoch 4/100\n",
            "100/100 [==============================] - 2s 15ms/step - loss: 0.2677 - accuracy: 0.9080 - val_loss: 0.6925 - val_accuracy: 0.8172\n",
            "Epoch 5/100\n",
            "100/100 [==============================] - 2s 15ms/step - loss: 0.1603 - accuracy: 0.9570 - val_loss: 0.5259 - val_accuracy: 0.8756\n",
            "Epoch 6/100\n",
            "100/100 [==============================] - 2s 16ms/step - loss: 0.1384 - accuracy: 0.9590 - val_loss: 0.6216 - val_accuracy: 0.8655\n",
            "Epoch 7/100\n",
            "100/100 [==============================] - 3s 28ms/step - loss: 0.1238 - accuracy: 0.9660 - val_loss: 0.8068 - val_accuracy: 0.8598\n",
            "Epoch 8/100\n",
            "100/100 [==============================] - 2s 16ms/step - loss: 0.1358 - accuracy: 0.9620 - val_loss: 0.7951 - val_accuracy: 0.8535\n",
            "Epoch 9/100\n",
            "100/100 [==============================] - 3s 28ms/step - loss: 0.3301 - accuracy: 0.9210 - val_loss: 0.7774 - val_accuracy: 0.8393\n",
            "Epoch 10/100\n",
            "100/100 [==============================] - 2s 16ms/step - loss: 0.1260 - accuracy: 0.9610 - val_loss: 0.6932 - val_accuracy: 0.8674\n"
          ]
        },
        {
          "output_type": "execute_result",
          "data": {
            "text/plain": [
              "<keras.callbacks.History at 0x7f7b34ff6090>"
            ]
          },
          "metadata": {},
          "execution_count": 56
        }
      ]
    },
    {
      "cell_type": "code",
      "metadata": {
        "colab": {
          "base_uri": "https://localhost:8080/"
        },
        "id": "hKSV3F9RvmP-",
        "outputId": "d4ea7ad3-0f49-486b-c292-1ee383a60f53"
      },
      "source": [
        "# 予測値出力\n",
        "y_pred_proba = model.predict(X_test)\n",
        "y_pred = np.argmax(y_pred_proba, axis=1)\n",
        "print(\"y_pred\", y_pred[:10])\n",
        "print('y_test', y_test.ravel()[:10])"
      ],
      "execution_count": 57,
      "outputs": [
        {
          "output_type": "stream",
          "name": "stdout",
          "text": [
            "y_pred [7 2 1 0 4 1 4 9 6 9]\n",
            "y_test [7 2 1 0 4 1 4 9 5 9]\n"
          ]
        }
      ]
    },
    {
      "cell_type": "code",
      "metadata": {
        "colab": {
          "base_uri": "https://localhost:8080/"
        },
        "id": "W2Xkd8NOvoZC",
        "outputId": "713975a9-8c00-46a9-adfa-6f4eacd8dc64"
      },
      "source": [
        "# 損失とACC\n",
        "score = model.evaluate(X_test, y_test_one_hot, verbose=0)\n",
        "print('Test loss:', score[0])\n",
        "print('Test accuracy:', score[1])"
      ],
      "execution_count": 58,
      "outputs": [
        {
          "output_type": "stream",
          "name": "stdout",
          "text": [
            "Test loss: 0.6227262020111084\n",
            "Test accuracy: 0.8758999705314636\n"
          ]
        }
      ]
    },
    {
      "cell_type": "markdown",
      "metadata": {
        "id": "iGusTmgVNrTB"
      },
      "source": [
        "**【問題7】（アドバンス課題）PyTorchへの書き換え**\n",
        "\n",
        "4種類の問題をPyTorchに書き換えてください。\n",
        "\n",
        "\n",
        "pytorch:tutorials\n",
        "\n"
      ]
    },
    {
      "cell_type": "markdown",
      "metadata": {
        "id": "6UnSF0qWN6y-"
      },
      "source": [
        "**【問題8】（アドバンス課題）フレームワークの比較**\n",
        "\n",
        "それぞれのフレームワークにはどのような違いがあるかをまとめてください。\n",
        "\n",
        "\n",
        "《視点例》\n",
        "\n",
        "\n",
        "・計算速度\n",
        "\n",
        "・コードの行数・可読性\n",
        "\n",
        "・用意されている機能"
      ]
    },
    {
      "cell_type": "markdown",
      "metadata": {
        "id": "eNOD75FNOQdU"
      },
      "source": [
        ""
      ]
    }
  ]
}
{
  "nbformat": 4,
  "nbformat_minor": 0,
  "metadata": {
    "colab": {
      "name": "アヤメの二値分類.ipynb",
      "provenance": [],
      "collapsed_sections": [],
      "mount_file_id": "1O6ivUiS0rOSjHJhuSQEMDnKBomPBn-SH",
      "authorship_tag": "ABX9TyPOIOECS8GoyUTlwGnd8lJr",
      "include_colab_link": true
    },
    "kernelspec": {
      "name": "python3",
      "display_name": "Python 3"
    },
    "language_info": {
      "name": "python"
    }
  },
  "cells": [
    {
      "cell_type": "markdown",
      "metadata": {
        "id": "view-in-github",
        "colab_type": "text"
      },
      "source": [
        "<a href=\"https://colab.research.google.com/github/shinmiura/diveintocode-ml/blob/master/%E3%82%A2%E3%83%A4%E3%83%A1%E3%81%AE%E4%BA%8C%E5%80%A4%E5%88%86%E9%A1%9E.ipynb\" target=\"_parent\"><img src=\"https://colab.research.google.com/assets/colab-badge.svg\" alt=\"Open In Colab\"/></a>"
      ]
    },
    {
      "cell_type": "markdown",
      "metadata": {
        "id": "-VyG20lQNpFx"
      },
      "source": [
        "**テキストの目的**\n",
        "\n",
        "・教師あり学習（分類問題）の概観を知る\n",
        "\n",
        "・scikit-laernを使い分類を行えるようにする\n",
        "\n",
        "・手法の簡単な比較をする"
      ]
    },
    {
      "cell_type": "markdown",
      "metadata": {
        "id": "de4dL59XN063"
      },
      "source": [
        "**どのように学ぶか**\n",
        "\n",
        "定番のデータセットを通じて、分類問題を解く流れやライブラリの使い方を学びます。"
      ]
    },
    {
      "cell_type": "markdown",
      "metadata": {
        "id": "z9H_860uOB84"
      },
      "source": [
        "# 2.アヤメの分類\n",
        "\n",
        "Week3で使用したirisデータセットを使い、分類問題を解く練習をします。\n",
        "\n",
        "\n",
        "irisデータセットはカナダのガスペ半島のある牧草地で同じ日に採取された以下の3種類のアヤメ、合計150本のデータでした。\n",
        "\n",
        "\n",
        "・Iris setosa - Wikipedia\n",
        "\n",
        "・Iris virgicolor - Wikipedia\n",
        "\n",
        "・Iris virginica - Wikipedia\n",
        "\n",
        "4種類の特徴量（説明変数）からアヤメの種類を推測する問題が設定できます。アヤメの種類を 分類 するので、こういったものを分類問題と呼びます。\n",
        "\n"
      ]
    },
    {
      "cell_type": "markdown",
      "metadata": {
        "id": "EIDcq0G1Ppnu"
      },
      "source": [
        "**今回使う手法の一覧**\n",
        "\n",
        "scikit-laernを使い以下の手法で学習と推定を行っていきます。それぞれの手法についての詳細は今の段階では扱いません。ライブラリを使えばどれも気軽に利用できることや、手法毎の結果に違いがあることを簡単に見ていきます。\n",
        "\n",
        "\n",
        "・最近傍法\n",
        "\n",
        "・ロジスティック回帰\n",
        "\n",
        "・SVM\n",
        "\n",
        "・決定木\n",
        "\n",
        "・ランダムフォレスト\n"
      ]
    },
    {
      "cell_type": "markdown",
      "metadata": {
        "id": "87AFrtqpP8Fg"
      },
      "source": [
        "# 3.分類問題の流れ\n",
        "\n",
        "まず、最近傍法を例に分類問題を解く基本的な流れを紹介します。課題の後半ではこれを参考に他の手法にも適用してもらいます。\n",
        "\n",
        "\n",
        "この流れについては後々より深く学び、実践していきます。今回の課題では大まかな流れの把握を行ってください。"
      ]
    },
    {
      "cell_type": "markdown",
      "metadata": {
        "id": "rXDEDB6rQF6I"
      },
      "source": [
        "**練習のための準備**\n",
        "\n",
        "練習する上で結果の可視化を行いたいため、特徴量は4つの中で2つだけを使うことにします。こうすることで2次元の散布図を描き確認することができます。また、問題を単純化するためアヤメの種類を2つだけ使うことにします。分類対象が2種類の場合を 2値分類 と呼び、それ以上の 多値分類 とは区別をします。それぞれで手法や評価方法が変わります。今回はまずより基本的な2値分類を行います。\n",
        "\n"
      ]
    },
    {
      "cell_type": "markdown",
      "metadata": {
        "id": "PZWh9_m1QN_W"
      },
      "source": [
        "【課題1】練習のために特徴量とカテゴリを選択\n",
        "\n",
        "選び方は合計18通りありますが、以下の組み合わせで練習することにします。irisデータセットをWeek3同様に取得した後、データフレームからこれらを抜き出してください。\n",
        "\n",
        "\n",
        "・irgicolorとvirginica\n",
        "\n",
        "・sepal_lengthとpetal_length\n",
        "\n",
        "\n",
        "\n",
        "《実際の問題では？》\n",
        "\n",
        "\n",
        "実際の問題を解く上でも結果の可視化は有効です。しかし、そのために学習や推定に使う特徴量を2つに絞るのは望ましくありません。そのため学習や推定は多次元で行い、可視化をする際にだけ主成分分析などの特徴抽出手法を適用するといったことが行われます。また、Week3で利用した散布図行列を使い可視化することも可能です。"
      ]
    },
    {
      "cell_type": "code",
      "metadata": {
        "id": "Aj9cxqYpQFEW"
      },
      "source": [
        "# 必要なライブラリの読み込み\n",
        "from sklearn.datasets import load_iris\n",
        "\n",
        "import numpy as np\n",
        "import pandas as pd\n",
        "import seaborn as sns\n",
        "import matplotlib.pyplot as plt\n",
        "%matplotlib inline"
      ],
      "execution_count": 1,
      "outputs": []
    },
    {
      "cell_type": "code",
      "metadata": {
        "colab": {
          "base_uri": "https://localhost:8080/"
        },
        "id": "O2psGyxDAE3w",
        "outputId": "e298ae49-2357-465d-9a40-fe18c4b1a8f6"
      },
      "source": [
        "# irisデータセット読み込み\n",
        "iris_dataset = load_iris()\n",
        "print(iris_dataset)\n",
        "print(len(iris_dataset))"
      ],
      "execution_count": 2,
      "outputs": [
        {
          "output_type": "stream",
          "text": [
            "{'data': array([[5.1, 3.5, 1.4, 0.2],\n",
            "       [4.9, 3. , 1.4, 0.2],\n",
            "       [4.7, 3.2, 1.3, 0.2],\n",
            "       [4.6, 3.1, 1.5, 0.2],\n",
            "       [5. , 3.6, 1.4, 0.2],\n",
            "       [5.4, 3.9, 1.7, 0.4],\n",
            "       [4.6, 3.4, 1.4, 0.3],\n",
            "       [5. , 3.4, 1.5, 0.2],\n",
            "       [4.4, 2.9, 1.4, 0.2],\n",
            "       [4.9, 3.1, 1.5, 0.1],\n",
            "       [5.4, 3.7, 1.5, 0.2],\n",
            "       [4.8, 3.4, 1.6, 0.2],\n",
            "       [4.8, 3. , 1.4, 0.1],\n",
            "       [4.3, 3. , 1.1, 0.1],\n",
            "       [5.8, 4. , 1.2, 0.2],\n",
            "       [5.7, 4.4, 1.5, 0.4],\n",
            "       [5.4, 3.9, 1.3, 0.4],\n",
            "       [5.1, 3.5, 1.4, 0.3],\n",
            "       [5.7, 3.8, 1.7, 0.3],\n",
            "       [5.1, 3.8, 1.5, 0.3],\n",
            "       [5.4, 3.4, 1.7, 0.2],\n",
            "       [5.1, 3.7, 1.5, 0.4],\n",
            "       [4.6, 3.6, 1. , 0.2],\n",
            "       [5.1, 3.3, 1.7, 0.5],\n",
            "       [4.8, 3.4, 1.9, 0.2],\n",
            "       [5. , 3. , 1.6, 0.2],\n",
            "       [5. , 3.4, 1.6, 0.4],\n",
            "       [5.2, 3.5, 1.5, 0.2],\n",
            "       [5.2, 3.4, 1.4, 0.2],\n",
            "       [4.7, 3.2, 1.6, 0.2],\n",
            "       [4.8, 3.1, 1.6, 0.2],\n",
            "       [5.4, 3.4, 1.5, 0.4],\n",
            "       [5.2, 4.1, 1.5, 0.1],\n",
            "       [5.5, 4.2, 1.4, 0.2],\n",
            "       [4.9, 3.1, 1.5, 0.2],\n",
            "       [5. , 3.2, 1.2, 0.2],\n",
            "       [5.5, 3.5, 1.3, 0.2],\n",
            "       [4.9, 3.6, 1.4, 0.1],\n",
            "       [4.4, 3. , 1.3, 0.2],\n",
            "       [5.1, 3.4, 1.5, 0.2],\n",
            "       [5. , 3.5, 1.3, 0.3],\n",
            "       [4.5, 2.3, 1.3, 0.3],\n",
            "       [4.4, 3.2, 1.3, 0.2],\n",
            "       [5. , 3.5, 1.6, 0.6],\n",
            "       [5.1, 3.8, 1.9, 0.4],\n",
            "       [4.8, 3. , 1.4, 0.3],\n",
            "       [5.1, 3.8, 1.6, 0.2],\n",
            "       [4.6, 3.2, 1.4, 0.2],\n",
            "       [5.3, 3.7, 1.5, 0.2],\n",
            "       [5. , 3.3, 1.4, 0.2],\n",
            "       [7. , 3.2, 4.7, 1.4],\n",
            "       [6.4, 3.2, 4.5, 1.5],\n",
            "       [6.9, 3.1, 4.9, 1.5],\n",
            "       [5.5, 2.3, 4. , 1.3],\n",
            "       [6.5, 2.8, 4.6, 1.5],\n",
            "       [5.7, 2.8, 4.5, 1.3],\n",
            "       [6.3, 3.3, 4.7, 1.6],\n",
            "       [4.9, 2.4, 3.3, 1. ],\n",
            "       [6.6, 2.9, 4.6, 1.3],\n",
            "       [5.2, 2.7, 3.9, 1.4],\n",
            "       [5. , 2. , 3.5, 1. ],\n",
            "       [5.9, 3. , 4.2, 1.5],\n",
            "       [6. , 2.2, 4. , 1. ],\n",
            "       [6.1, 2.9, 4.7, 1.4],\n",
            "       [5.6, 2.9, 3.6, 1.3],\n",
            "       [6.7, 3.1, 4.4, 1.4],\n",
            "       [5.6, 3. , 4.5, 1.5],\n",
            "       [5.8, 2.7, 4.1, 1. ],\n",
            "       [6.2, 2.2, 4.5, 1.5],\n",
            "       [5.6, 2.5, 3.9, 1.1],\n",
            "       [5.9, 3.2, 4.8, 1.8],\n",
            "       [6.1, 2.8, 4. , 1.3],\n",
            "       [6.3, 2.5, 4.9, 1.5],\n",
            "       [6.1, 2.8, 4.7, 1.2],\n",
            "       [6.4, 2.9, 4.3, 1.3],\n",
            "       [6.6, 3. , 4.4, 1.4],\n",
            "       [6.8, 2.8, 4.8, 1.4],\n",
            "       [6.7, 3. , 5. , 1.7],\n",
            "       [6. , 2.9, 4.5, 1.5],\n",
            "       [5.7, 2.6, 3.5, 1. ],\n",
            "       [5.5, 2.4, 3.8, 1.1],\n",
            "       [5.5, 2.4, 3.7, 1. ],\n",
            "       [5.8, 2.7, 3.9, 1.2],\n",
            "       [6. , 2.7, 5.1, 1.6],\n",
            "       [5.4, 3. , 4.5, 1.5],\n",
            "       [6. , 3.4, 4.5, 1.6],\n",
            "       [6.7, 3.1, 4.7, 1.5],\n",
            "       [6.3, 2.3, 4.4, 1.3],\n",
            "       [5.6, 3. , 4.1, 1.3],\n",
            "       [5.5, 2.5, 4. , 1.3],\n",
            "       [5.5, 2.6, 4.4, 1.2],\n",
            "       [6.1, 3. , 4.6, 1.4],\n",
            "       [5.8, 2.6, 4. , 1.2],\n",
            "       [5. , 2.3, 3.3, 1. ],\n",
            "       [5.6, 2.7, 4.2, 1.3],\n",
            "       [5.7, 3. , 4.2, 1.2],\n",
            "       [5.7, 2.9, 4.2, 1.3],\n",
            "       [6.2, 2.9, 4.3, 1.3],\n",
            "       [5.1, 2.5, 3. , 1.1],\n",
            "       [5.7, 2.8, 4.1, 1.3],\n",
            "       [6.3, 3.3, 6. , 2.5],\n",
            "       [5.8, 2.7, 5.1, 1.9],\n",
            "       [7.1, 3. , 5.9, 2.1],\n",
            "       [6.3, 2.9, 5.6, 1.8],\n",
            "       [6.5, 3. , 5.8, 2.2],\n",
            "       [7.6, 3. , 6.6, 2.1],\n",
            "       [4.9, 2.5, 4.5, 1.7],\n",
            "       [7.3, 2.9, 6.3, 1.8],\n",
            "       [6.7, 2.5, 5.8, 1.8],\n",
            "       [7.2, 3.6, 6.1, 2.5],\n",
            "       [6.5, 3.2, 5.1, 2. ],\n",
            "       [6.4, 2.7, 5.3, 1.9],\n",
            "       [6.8, 3. , 5.5, 2.1],\n",
            "       [5.7, 2.5, 5. , 2. ],\n",
            "       [5.8, 2.8, 5.1, 2.4],\n",
            "       [6.4, 3.2, 5.3, 2.3],\n",
            "       [6.5, 3. , 5.5, 1.8],\n",
            "       [7.7, 3.8, 6.7, 2.2],\n",
            "       [7.7, 2.6, 6.9, 2.3],\n",
            "       [6. , 2.2, 5. , 1.5],\n",
            "       [6.9, 3.2, 5.7, 2.3],\n",
            "       [5.6, 2.8, 4.9, 2. ],\n",
            "       [7.7, 2.8, 6.7, 2. ],\n",
            "       [6.3, 2.7, 4.9, 1.8],\n",
            "       [6.7, 3.3, 5.7, 2.1],\n",
            "       [7.2, 3.2, 6. , 1.8],\n",
            "       [6.2, 2.8, 4.8, 1.8],\n",
            "       [6.1, 3. , 4.9, 1.8],\n",
            "       [6.4, 2.8, 5.6, 2.1],\n",
            "       [7.2, 3. , 5.8, 1.6],\n",
            "       [7.4, 2.8, 6.1, 1.9],\n",
            "       [7.9, 3.8, 6.4, 2. ],\n",
            "       [6.4, 2.8, 5.6, 2.2],\n",
            "       [6.3, 2.8, 5.1, 1.5],\n",
            "       [6.1, 2.6, 5.6, 1.4],\n",
            "       [7.7, 3. , 6.1, 2.3],\n",
            "       [6.3, 3.4, 5.6, 2.4],\n",
            "       [6.4, 3.1, 5.5, 1.8],\n",
            "       [6. , 3. , 4.8, 1.8],\n",
            "       [6.9, 3.1, 5.4, 2.1],\n",
            "       [6.7, 3.1, 5.6, 2.4],\n",
            "       [6.9, 3.1, 5.1, 2.3],\n",
            "       [5.8, 2.7, 5.1, 1.9],\n",
            "       [6.8, 3.2, 5.9, 2.3],\n",
            "       [6.7, 3.3, 5.7, 2.5],\n",
            "       [6.7, 3. , 5.2, 2.3],\n",
            "       [6.3, 2.5, 5. , 1.9],\n",
            "       [6.5, 3. , 5.2, 2. ],\n",
            "       [6.2, 3.4, 5.4, 2.3],\n",
            "       [5.9, 3. , 5.1, 1.8]]), 'target': array([0, 0, 0, 0, 0, 0, 0, 0, 0, 0, 0, 0, 0, 0, 0, 0, 0, 0, 0, 0, 0, 0,\n",
            "       0, 0, 0, 0, 0, 0, 0, 0, 0, 0, 0, 0, 0, 0, 0, 0, 0, 0, 0, 0, 0, 0,\n",
            "       0, 0, 0, 0, 0, 0, 1, 1, 1, 1, 1, 1, 1, 1, 1, 1, 1, 1, 1, 1, 1, 1,\n",
            "       1, 1, 1, 1, 1, 1, 1, 1, 1, 1, 1, 1, 1, 1, 1, 1, 1, 1, 1, 1, 1, 1,\n",
            "       1, 1, 1, 1, 1, 1, 1, 1, 1, 1, 1, 1, 2, 2, 2, 2, 2, 2, 2, 2, 2, 2,\n",
            "       2, 2, 2, 2, 2, 2, 2, 2, 2, 2, 2, 2, 2, 2, 2, 2, 2, 2, 2, 2, 2, 2,\n",
            "       2, 2, 2, 2, 2, 2, 2, 2, 2, 2, 2, 2, 2, 2, 2, 2, 2, 2]), 'target_names': array(['setosa', 'versicolor', 'virginica'], dtype='<U10'), 'DESCR': '.. _iris_dataset:\\n\\nIris plants dataset\\n--------------------\\n\\n**Data Set Characteristics:**\\n\\n    :Number of Instances: 150 (50 in each of three classes)\\n    :Number of Attributes: 4 numeric, predictive attributes and the class\\n    :Attribute Information:\\n        - sepal length in cm\\n        - sepal width in cm\\n        - petal length in cm\\n        - petal width in cm\\n        - class:\\n                - Iris-Setosa\\n                - Iris-Versicolour\\n                - Iris-Virginica\\n                \\n    :Summary Statistics:\\n\\n    ============== ==== ==== ======= ===== ====================\\n                    Min  Max   Mean    SD   Class Correlation\\n    ============== ==== ==== ======= ===== ====================\\n    sepal length:   4.3  7.9   5.84   0.83    0.7826\\n    sepal width:    2.0  4.4   3.05   0.43   -0.4194\\n    petal length:   1.0  6.9   3.76   1.76    0.9490  (high!)\\n    petal width:    0.1  2.5   1.20   0.76    0.9565  (high!)\\n    ============== ==== ==== ======= ===== ====================\\n\\n    :Missing Attribute Values: None\\n    :Class Distribution: 33.3% for each of 3 classes.\\n    :Creator: R.A. Fisher\\n    :Donor: Michael Marshall (MARSHALL%PLU@io.arc.nasa.gov)\\n    :Date: July, 1988\\n\\nThe famous Iris database, first used by Sir R.A. Fisher. The dataset is taken\\nfrom Fisher\\'s paper. Note that it\\'s the same as in R, but not as in the UCI\\nMachine Learning Repository, which has two wrong data points.\\n\\nThis is perhaps the best known database to be found in the\\npattern recognition literature.  Fisher\\'s paper is a classic in the field and\\nis referenced frequently to this day.  (See Duda & Hart, for example.)  The\\ndata set contains 3 classes of 50 instances each, where each class refers to a\\ntype of iris plant.  One class is linearly separable from the other 2; the\\nlatter are NOT linearly separable from each other.\\n\\n.. topic:: References\\n\\n   - Fisher, R.A. \"The use of multiple measurements in taxonomic problems\"\\n     Annual Eugenics, 7, Part II, 179-188 (1936); also in \"Contributions to\\n     Mathematical Statistics\" (John Wiley, NY, 1950).\\n   - Duda, R.O., & Hart, P.E. (1973) Pattern Classification and Scene Analysis.\\n     (Q327.D83) John Wiley & Sons.  ISBN 0-471-22361-1.  See page 218.\\n   - Dasarathy, B.V. (1980) \"Nosing Around the Neighborhood: A New System\\n     Structure and Classification Rule for Recognition in Partially Exposed\\n     Environments\".  IEEE Transactions on Pattern Analysis and Machine\\n     Intelligence, Vol. PAMI-2, No. 1, 67-71.\\n   - Gates, G.W. (1972) \"The Reduced Nearest Neighbor Rule\".  IEEE Transactions\\n     on Information Theory, May 1972, 431-433.\\n   - See also: 1988 MLC Proceedings, 54-64.  Cheeseman et al\"s AUTOCLASS II\\n     conceptual clustering system finds 3 classes in the data.\\n   - Many, many more ...', 'feature_names': ['sepal length (cm)', 'sepal width (cm)', 'petal length (cm)', 'petal width (cm)'], 'filename': '/usr/local/lib/python3.7/dist-packages/sklearn/datasets/data/iris.csv'}\n",
            "6\n"
          ],
          "name": "stdout"
        }
      ]
    },
    {
      "cell_type": "code",
      "metadata": {
        "id": "bih7W0AEASnx"
      },
      "source": [
        "# pandasデータに格納\n",
        "X = pd.DataFrame(iris_dataset.data, columns = ['sepal_length', 'sepal_width', 'petal_length', 'petal_width']) \n",
        "# ターゲット変数の抽出およびカラム名の指定\n",
        "y = pd.DataFrame(iris_dataset.target, columns = [\"Species\"])"
      ],
      "execution_count": 3,
      "outputs": []
    },
    {
      "cell_type": "code",
      "metadata": {
        "id": "JKQBt7zlBUsF"
      },
      "source": [
        "# 確認のため特徴量を打ち出し\n",
        "display(X)"
      ],
      "execution_count": null,
      "outputs": []
    },
    {
      "cell_type": "code",
      "metadata": {
        "id": "QqX5k47UBYnh"
      },
      "source": [
        "# 確認のためターゲット変数の打ち出し\n",
        "display(y)"
      ],
      "execution_count": null,
      "outputs": []
    },
    {
      "cell_type": "code",
      "metadata": {
        "colab": {
          "base_uri": "https://localhost:8080/",
          "height": 419
        },
        "id": "17lgR-B-BcHP",
        "outputId": "d8b824d0-0725-499b-dc15-858172cf0639"
      },
      "source": [
        "# 列方向にXとyを結合\n",
        "df = pd.concat([X, y], axis = 1)\n",
        "df"
      ],
      "execution_count": 6,
      "outputs": [
        {
          "output_type": "execute_result",
          "data": {
            "text/html": [
              "<div>\n",
              "<style scoped>\n",
              "    .dataframe tbody tr th:only-of-type {\n",
              "        vertical-align: middle;\n",
              "    }\n",
              "\n",
              "    .dataframe tbody tr th {\n",
              "        vertical-align: top;\n",
              "    }\n",
              "\n",
              "    .dataframe thead th {\n",
              "        text-align: right;\n",
              "    }\n",
              "</style>\n",
              "<table border=\"1\" class=\"dataframe\">\n",
              "  <thead>\n",
              "    <tr style=\"text-align: right;\">\n",
              "      <th></th>\n",
              "      <th>sepal_length</th>\n",
              "      <th>sepal_width</th>\n",
              "      <th>petal_length</th>\n",
              "      <th>petal_width</th>\n",
              "      <th>Species</th>\n",
              "    </tr>\n",
              "  </thead>\n",
              "  <tbody>\n",
              "    <tr>\n",
              "      <th>0</th>\n",
              "      <td>5.1</td>\n",
              "      <td>3.5</td>\n",
              "      <td>1.4</td>\n",
              "      <td>0.2</td>\n",
              "      <td>0</td>\n",
              "    </tr>\n",
              "    <tr>\n",
              "      <th>1</th>\n",
              "      <td>4.9</td>\n",
              "      <td>3.0</td>\n",
              "      <td>1.4</td>\n",
              "      <td>0.2</td>\n",
              "      <td>0</td>\n",
              "    </tr>\n",
              "    <tr>\n",
              "      <th>2</th>\n",
              "      <td>4.7</td>\n",
              "      <td>3.2</td>\n",
              "      <td>1.3</td>\n",
              "      <td>0.2</td>\n",
              "      <td>0</td>\n",
              "    </tr>\n",
              "    <tr>\n",
              "      <th>3</th>\n",
              "      <td>4.6</td>\n",
              "      <td>3.1</td>\n",
              "      <td>1.5</td>\n",
              "      <td>0.2</td>\n",
              "      <td>0</td>\n",
              "    </tr>\n",
              "    <tr>\n",
              "      <th>4</th>\n",
              "      <td>5.0</td>\n",
              "      <td>3.6</td>\n",
              "      <td>1.4</td>\n",
              "      <td>0.2</td>\n",
              "      <td>0</td>\n",
              "    </tr>\n",
              "    <tr>\n",
              "      <th>...</th>\n",
              "      <td>...</td>\n",
              "      <td>...</td>\n",
              "      <td>...</td>\n",
              "      <td>...</td>\n",
              "      <td>...</td>\n",
              "    </tr>\n",
              "    <tr>\n",
              "      <th>145</th>\n",
              "      <td>6.7</td>\n",
              "      <td>3.0</td>\n",
              "      <td>5.2</td>\n",
              "      <td>2.3</td>\n",
              "      <td>2</td>\n",
              "    </tr>\n",
              "    <tr>\n",
              "      <th>146</th>\n",
              "      <td>6.3</td>\n",
              "      <td>2.5</td>\n",
              "      <td>5.0</td>\n",
              "      <td>1.9</td>\n",
              "      <td>2</td>\n",
              "    </tr>\n",
              "    <tr>\n",
              "      <th>147</th>\n",
              "      <td>6.5</td>\n",
              "      <td>3.0</td>\n",
              "      <td>5.2</td>\n",
              "      <td>2.0</td>\n",
              "      <td>2</td>\n",
              "    </tr>\n",
              "    <tr>\n",
              "      <th>148</th>\n",
              "      <td>6.2</td>\n",
              "      <td>3.4</td>\n",
              "      <td>5.4</td>\n",
              "      <td>2.3</td>\n",
              "      <td>2</td>\n",
              "    </tr>\n",
              "    <tr>\n",
              "      <th>149</th>\n",
              "      <td>5.9</td>\n",
              "      <td>3.0</td>\n",
              "      <td>5.1</td>\n",
              "      <td>1.8</td>\n",
              "      <td>2</td>\n",
              "    </tr>\n",
              "  </tbody>\n",
              "</table>\n",
              "<p>150 rows × 5 columns</p>\n",
              "</div>"
            ],
            "text/plain": [
              "     sepal_length  sepal_width  petal_length  petal_width  Species\n",
              "0             5.1          3.5           1.4          0.2        0\n",
              "1             4.9          3.0           1.4          0.2        0\n",
              "2             4.7          3.2           1.3          0.2        0\n",
              "3             4.6          3.1           1.5          0.2        0\n",
              "4             5.0          3.6           1.4          0.2        0\n",
              "..            ...          ...           ...          ...      ...\n",
              "145           6.7          3.0           5.2          2.3        2\n",
              "146           6.3          2.5           5.0          1.9        2\n",
              "147           6.5          3.0           5.2          2.0        2\n",
              "148           6.2          3.4           5.4          2.3        2\n",
              "149           5.9          3.0           5.1          1.8        2\n",
              "\n",
              "[150 rows x 5 columns]"
            ]
          },
          "metadata": {
            "tags": []
          },
          "execution_count": 6
        }
      ]
    },
    {
      "cell_type": "code",
      "metadata": {
        "colab": {
          "base_uri": "https://localhost:8080/",
          "height": 419
        },
        "id": "zzEqEDK5B8n1",
        "outputId": "531de62b-444b-4fc5-b785-5859e9bc1efe"
      },
      "source": [
        "# まず、sepal_lengthとpetal_lengthを抽出\n",
        "problem1 = df.loc[:, ('sepal_length', 'petal_length', 'Species')]\n",
        "problem1"
      ],
      "execution_count": 7,
      "outputs": [
        {
          "output_type": "execute_result",
          "data": {
            "text/html": [
              "<div>\n",
              "<style scoped>\n",
              "    .dataframe tbody tr th:only-of-type {\n",
              "        vertical-align: middle;\n",
              "    }\n",
              "\n",
              "    .dataframe tbody tr th {\n",
              "        vertical-align: top;\n",
              "    }\n",
              "\n",
              "    .dataframe thead th {\n",
              "        text-align: right;\n",
              "    }\n",
              "</style>\n",
              "<table border=\"1\" class=\"dataframe\">\n",
              "  <thead>\n",
              "    <tr style=\"text-align: right;\">\n",
              "      <th></th>\n",
              "      <th>sepal_length</th>\n",
              "      <th>petal_length</th>\n",
              "      <th>Species</th>\n",
              "    </tr>\n",
              "  </thead>\n",
              "  <tbody>\n",
              "    <tr>\n",
              "      <th>0</th>\n",
              "      <td>5.1</td>\n",
              "      <td>1.4</td>\n",
              "      <td>0</td>\n",
              "    </tr>\n",
              "    <tr>\n",
              "      <th>1</th>\n",
              "      <td>4.9</td>\n",
              "      <td>1.4</td>\n",
              "      <td>0</td>\n",
              "    </tr>\n",
              "    <tr>\n",
              "      <th>2</th>\n",
              "      <td>4.7</td>\n",
              "      <td>1.3</td>\n",
              "      <td>0</td>\n",
              "    </tr>\n",
              "    <tr>\n",
              "      <th>3</th>\n",
              "      <td>4.6</td>\n",
              "      <td>1.5</td>\n",
              "      <td>0</td>\n",
              "    </tr>\n",
              "    <tr>\n",
              "      <th>4</th>\n",
              "      <td>5.0</td>\n",
              "      <td>1.4</td>\n",
              "      <td>0</td>\n",
              "    </tr>\n",
              "    <tr>\n",
              "      <th>...</th>\n",
              "      <td>...</td>\n",
              "      <td>...</td>\n",
              "      <td>...</td>\n",
              "    </tr>\n",
              "    <tr>\n",
              "      <th>145</th>\n",
              "      <td>6.7</td>\n",
              "      <td>5.2</td>\n",
              "      <td>2</td>\n",
              "    </tr>\n",
              "    <tr>\n",
              "      <th>146</th>\n",
              "      <td>6.3</td>\n",
              "      <td>5.0</td>\n",
              "      <td>2</td>\n",
              "    </tr>\n",
              "    <tr>\n",
              "      <th>147</th>\n",
              "      <td>6.5</td>\n",
              "      <td>5.2</td>\n",
              "      <td>2</td>\n",
              "    </tr>\n",
              "    <tr>\n",
              "      <th>148</th>\n",
              "      <td>6.2</td>\n",
              "      <td>5.4</td>\n",
              "      <td>2</td>\n",
              "    </tr>\n",
              "    <tr>\n",
              "      <th>149</th>\n",
              "      <td>5.9</td>\n",
              "      <td>5.1</td>\n",
              "      <td>2</td>\n",
              "    </tr>\n",
              "  </tbody>\n",
              "</table>\n",
              "<p>150 rows × 3 columns</p>\n",
              "</div>"
            ],
            "text/plain": [
              "     sepal_length  petal_length  Species\n",
              "0             5.1           1.4        0\n",
              "1             4.9           1.4        0\n",
              "2             4.7           1.3        0\n",
              "3             4.6           1.5        0\n",
              "4             5.0           1.4        0\n",
              "..            ...           ...      ...\n",
              "145           6.7           5.2        2\n",
              "146           6.3           5.0        2\n",
              "147           6.5           5.2        2\n",
              "148           6.2           5.4        2\n",
              "149           5.9           5.1        2\n",
              "\n",
              "[150 rows x 3 columns]"
            ]
          },
          "metadata": {
            "tags": []
          },
          "execution_count": 7
        }
      ]
    },
    {
      "cell_type": "code",
      "metadata": {
        "colab": {
          "base_uri": "https://localhost:8080/",
          "height": 419
        },
        "id": "UId4Z_BkF2CT",
        "outputId": "5ea60f5c-e8ee-4f63-ddb2-66986183f3a8"
      },
      "source": [
        "# 上記から50番目〜149番目までのデータ(つまりvirgicolorとvirginica)を抽出\n",
        "answer1 = problem1[50:150]\n",
        "display(answer1)"
      ],
      "execution_count": 8,
      "outputs": [
        {
          "output_type": "display_data",
          "data": {
            "text/html": [
              "<div>\n",
              "<style scoped>\n",
              "    .dataframe tbody tr th:only-of-type {\n",
              "        vertical-align: middle;\n",
              "    }\n",
              "\n",
              "    .dataframe tbody tr th {\n",
              "        vertical-align: top;\n",
              "    }\n",
              "\n",
              "    .dataframe thead th {\n",
              "        text-align: right;\n",
              "    }\n",
              "</style>\n",
              "<table border=\"1\" class=\"dataframe\">\n",
              "  <thead>\n",
              "    <tr style=\"text-align: right;\">\n",
              "      <th></th>\n",
              "      <th>sepal_length</th>\n",
              "      <th>petal_length</th>\n",
              "      <th>Species</th>\n",
              "    </tr>\n",
              "  </thead>\n",
              "  <tbody>\n",
              "    <tr>\n",
              "      <th>50</th>\n",
              "      <td>7.0</td>\n",
              "      <td>4.7</td>\n",
              "      <td>1</td>\n",
              "    </tr>\n",
              "    <tr>\n",
              "      <th>51</th>\n",
              "      <td>6.4</td>\n",
              "      <td>4.5</td>\n",
              "      <td>1</td>\n",
              "    </tr>\n",
              "    <tr>\n",
              "      <th>52</th>\n",
              "      <td>6.9</td>\n",
              "      <td>4.9</td>\n",
              "      <td>1</td>\n",
              "    </tr>\n",
              "    <tr>\n",
              "      <th>53</th>\n",
              "      <td>5.5</td>\n",
              "      <td>4.0</td>\n",
              "      <td>1</td>\n",
              "    </tr>\n",
              "    <tr>\n",
              "      <th>54</th>\n",
              "      <td>6.5</td>\n",
              "      <td>4.6</td>\n",
              "      <td>1</td>\n",
              "    </tr>\n",
              "    <tr>\n",
              "      <th>...</th>\n",
              "      <td>...</td>\n",
              "      <td>...</td>\n",
              "      <td>...</td>\n",
              "    </tr>\n",
              "    <tr>\n",
              "      <th>145</th>\n",
              "      <td>6.7</td>\n",
              "      <td>5.2</td>\n",
              "      <td>2</td>\n",
              "    </tr>\n",
              "    <tr>\n",
              "      <th>146</th>\n",
              "      <td>6.3</td>\n",
              "      <td>5.0</td>\n",
              "      <td>2</td>\n",
              "    </tr>\n",
              "    <tr>\n",
              "      <th>147</th>\n",
              "      <td>6.5</td>\n",
              "      <td>5.2</td>\n",
              "      <td>2</td>\n",
              "    </tr>\n",
              "    <tr>\n",
              "      <th>148</th>\n",
              "      <td>6.2</td>\n",
              "      <td>5.4</td>\n",
              "      <td>2</td>\n",
              "    </tr>\n",
              "    <tr>\n",
              "      <th>149</th>\n",
              "      <td>5.9</td>\n",
              "      <td>5.1</td>\n",
              "      <td>2</td>\n",
              "    </tr>\n",
              "  </tbody>\n",
              "</table>\n",
              "<p>100 rows × 3 columns</p>\n",
              "</div>"
            ],
            "text/plain": [
              "     sepal_length  petal_length  Species\n",
              "50            7.0           4.7        1\n",
              "51            6.4           4.5        1\n",
              "52            6.9           4.9        1\n",
              "53            5.5           4.0        1\n",
              "54            6.5           4.6        1\n",
              "..            ...           ...      ...\n",
              "145           6.7           5.2        2\n",
              "146           6.3           5.0        2\n",
              "147           6.5           5.2        2\n",
              "148           6.2           5.4        2\n",
              "149           5.9           5.1        2\n",
              "\n",
              "[100 rows x 3 columns]"
            ]
          },
          "metadata": {
            "tags": []
          }
        }
      ]
    },
    {
      "cell_type": "markdown",
      "metadata": {
        "id": "dubOX6VYQkKU"
      },
      "source": [
        "【問題2】データの分析\n",
        "\n",
        "まずはデータの分析を行いますが、これはWeek3の課題1で行いました。その際出力した散布図行列を見ることで、先ほどの18通りそれぞれの散布図も確認できます。sepal_lengthとpetal_lengthを使い、virgicolorとvirginicaを分類するのは少し難しそうな状況であることが分かるはずです。\n",
        "\n",
        "\n",
        "ここでは復習を兼ねて、抜き出したデータの散布図と箱ひげ図（boxplot）、バイオリン図（violinplot）を表示してください。\n",
        "\n",
        "\n",
        "《実際の問題では？》\n",
        "\n",
        "\n",
        "このデータ分析の結果を元に前処理として特徴量エンジニアリングを行っていきます。\n",
        "\n",
        "\n",
        "今回はsepal_lengthとpetal_lengthを抜き出しましたが、分析した上で、問題を少々難しくするための前処理をしたと言えます。"
      ]
    },
    {
      "cell_type": "code",
      "metadata": {
        "colab": {
          "base_uri": "https://localhost:8080/",
          "height": 313
        },
        "id": "3327VF9bHqLr",
        "outputId": "fadeb782-afa9-4ae9-8550-d3bba86ef7a0"
      },
      "source": [
        "x_1 = answer1[answer1.Species == 1].iloc[:, 0]\n",
        "x_2 = answer1[answer1.Species == 2].iloc[:, 0]\n",
        "\n",
        "y_1 = answer1[answer1.Species == 1].iloc[:, 1]\n",
        "y_2 = answer1[answer1.Species == 2].iloc[:, 1]\n",
        "\n",
        "# 散布図\n",
        "plt.title(\"scatter problem2\")\n",
        "plt.xlabel(\"sepal_length\")\n",
        "plt.ylabel(\"petal_length\")\n",
        "# plt.scatter(x_0, y_0, c =\"purple\")\n",
        "plt.scatter(x_1, y_1, c =\"green\")\n",
        "plt.scatter(x_2, y_2, c =\"yellow\")"
      ],
      "execution_count": 16,
      "outputs": [
        {
          "output_type": "execute_result",
          "data": {
            "text/plain": [
              "<matplotlib.collections.PathCollection at 0x7fe7aa7cadd0>"
            ]
          },
          "metadata": {
            "tags": []
          },
          "execution_count": 16
        },
        {
          "output_type": "display_data",
          "data": {
            "image/png": "[encoded data removed]",
            "text/plain": [
              "<Figure size 432x288 with 1 Axes>"
            ]
          },
          "metadata": {
            "tags": [],
            "needs_background": "light"
          }
        }
      ]
    },
    {
      "cell_type": "code",
      "metadata": {
        "colab": {
          "base_uri": "https://localhost:8080/",
          "height": 297
        },
        "id": "6eukzabcINnj",
        "outputId": "feca4e15-3bda-464e-a149-5f1e23647f9b"
      },
      "source": [
        "# 箱ひげ図\n",
        "# 特徴量を一つずつ選び、箱ひげ図を使ってラベルごとのデータの分布を可視化する\n",
        "sns.boxplot(x = \"Species\", y = \"sepal_length\", data = answer1)"
      ],
      "execution_count": 10,
      "outputs": [
        {
          "output_type": "execute_result",
          "data": {
            "text/plain": [
              "<matplotlib.axes._subplots.AxesSubplot at 0x7fe7ad3bfd50>"
            ]
          },
          "metadata": {
            "tags": []
          },
          "execution_count": 10
        },
        {
          "output_type": "display_data",
          "data": {
            "image/png": "[encoded data removed]",
            "text/plain": [
              "<Figure size 432x288 with 1 Axes>"
            ]
          },
          "metadata": {
            "tags": [],
            "needs_background": "light"
          }
        }
      ]
    },
    {
      "cell_type": "code",
      "metadata": {
        "colab": {
          "base_uri": "https://localhost:8080/",
          "height": 296
        },
        "id": "5KTQoxF5I3gM",
        "outputId": "30ffa7ea-9fa3-4825-dd3d-187f7da2ee52"
      },
      "source": [
        "# 特徴量を一つずつ選び、箱ひげ図を使ってラベルごとのデータの分布を可視化する\n",
        "sns.boxplot(x = \"Species\", y = \"petal_length\", data = answer1)"
      ],
      "execution_count": 11,
      "outputs": [
        {
          "output_type": "execute_result",
          "data": {
            "text/plain": [
              "<matplotlib.axes._subplots.AxesSubplot at 0x7fe7ad3b3990>"
            ]
          },
          "metadata": {
            "tags": []
          },
          "execution_count": 11
        },
        {
          "output_type": "display_data",
          "data": {
            "image/png": "[encoded data removed]",
            "text/plain": [
              "<Figure size 432x288 with 1 Axes>"
            ]
          },
          "metadata": {
            "tags": [],
            "needs_background": "light"
          }
        }
      ]
    },
    {
      "cell_type": "code",
      "metadata": {
        "colab": {
          "base_uri": "https://localhost:8080/",
          "height": 296
        },
        "id": "jxwD9rqnJGWd",
        "outputId": "6f81c99f-1905-495c-fb8b-d5180ab75185"
      },
      "source": [
        "# 特徴量を一つずつ選び、バイオリン図を使ってラベルごとのデータの分布を可視化する\n",
        "sns.violinplot(x = \"Species\", y = \"sepal_length\", data = answer1)"
      ],
      "execution_count": 12,
      "outputs": [
        {
          "output_type": "execute_result",
          "data": {
            "text/plain": [
              "<matplotlib.axes._subplots.AxesSubplot at 0x7fe7acefda10>"
            ]
          },
          "metadata": {
            "tags": []
          },
          "execution_count": 12
        },
        {
          "output_type": "display_data",
          "data": {
            "image/png": "[encoded data removed]",
            "text/plain": [
              "<Figure size 432x288 with 1 Axes>"
            ]
          },
          "metadata": {
            "tags": [],
            "needs_background": "light"
          }
        }
      ]
    },
    {
      "cell_type": "code",
      "metadata": {
        "colab": {
          "base_uri": "https://localhost:8080/",
          "height": 296
        },
        "id": "emqmGIZvJMhp",
        "outputId": "be7653b7-0ca1-41ec-ab13-6397ed064781"
      },
      "source": [
        "# 特徴量を一つずつ選び、バイオリン図を使ってラベルごとのデータの分布を可視化する\n",
        "sns.violinplot(x = \"Species\", y = \"petal_length\", data = answer1)"
      ],
      "execution_count": 13,
      "outputs": [
        {
          "output_type": "execute_result",
          "data": {
            "text/plain": [
              "<matplotlib.axes._subplots.AxesSubplot at 0x7fe7aadf84d0>"
            ]
          },
          "metadata": {
            "tags": []
          },
          "execution_count": 13
        },
        {
          "output_type": "display_data",
          "data": {
            "image/png": "[encoded data removed]",
            "text/plain": [
              "<Figure size 432x288 with 1 Axes>"
            ]
          },
          "metadata": {
            "tags": [],
            "needs_background": "light"
          }
        }
      ]
    },
    {
      "cell_type": "markdown",
      "metadata": {
        "id": "tEusmpsHRp4A"
      },
      "source": [
        "【問題3】前処理・訓練データと検証データの分割\n",
        "\n",
        "前処理の一貫として、訓練データと検証データの分割を行います。今回は訓練データ75%、検証データ25%として分割してください。\n",
        "\n",
        "\n",
        "scikit-learnのtrain_test_splitが利用できます。公式ドキュメントのExamplesを参考に動かしてください。\n",
        "\n",
        "\n",
        "sklearn.model_selection.train_test_split — scikit-learn 0.21.3 documentation\n",
        "\n",
        "\n",
        "《注意点》\n",
        "\n",
        "\n",
        "データの分析まではPandasのDataFrameを使用してきました。しかし、scikit-learnはNumPyのndarrayを想定して作られています。そのため、この段階でndarrayへの変換を行いましょう。特徴量（説明変数）をX、正解（目的変数）をyというndarrayに格納します。\n",
        "\n",
        "\n",
        "《分割する理由》\n",
        "\n",
        "\n",
        "分類問題の目的は未知のデータを正しく分類することです。その目的が達成できているかを確認するため、実際には答えの分かっているデータの一部を学習には使わず残しておきます。この学習に使用していないデータで推定を行い、そこから求めた指標値によって検証します。学習に使うデータを訓練データ、検証に使うデータが検証データで、一般的に7対3から8対2程度の割合にします。\n",
        "\n"
      ]
    },
    {
      "cell_type": "code",
      "metadata": {
        "id": "bcQWgGuNJpjB"
      },
      "source": [
        "# データ分割用のライブラリ\n",
        "from sklearn.model_selection import train_test_split"
      ],
      "execution_count": 14,
      "outputs": []
    },
    {
      "cell_type": "code",
      "metadata": {
        "id": "uCh0edr9LCj7"
      },
      "source": [
        "X2 = answer1.loc[:, ('sepal_length', 'petal_length')]\n",
        "y2 = answer1.loc[:, 'Species']"
      ],
      "execution_count": 17,
      "outputs": []
    },
    {
      "cell_type": "code",
      "metadata": {
        "colab": {
          "base_uri": "https://localhost:8080/",
          "height": 1000
        },
        "id": "qbmhHiUNVIdP",
        "outputId": "695e36d1-d276-4636-86f7-c168975a3ca6"
      },
      "source": [
        "# ndarrayへの変換(∵scikit-learnはNumPyを想定して作られているが、これまでのデータ分析はPandasのDataFrameを使用してきたため)\n",
        "npX2 = X2.to_numpy()\n",
        "display(npX2)"
      ],
      "execution_count": 18,
      "outputs": [
        {
          "output_type": "display_data",
          "data": {
            "text/plain": [
              "array([[7. , 4.7],\n",
              "       [6.4, 4.5],\n",
              "       [6.9, 4.9],\n",
              "       [5.5, 4. ],\n",
              "       [6.5, 4.6],\n",
              "       [5.7, 4.5],\n",
              "       [6.3, 4.7],\n",
              "       [4.9, 3.3],\n",
              "       [6.6, 4.6],\n",
              "       [5.2, 3.9],\n",
              "       [5. , 3.5],\n",
              "       [5.9, 4.2],\n",
              "       [6. , 4. ],\n",
              "       [6.1, 4.7],\n",
              "       [5.6, 3.6],\n",
              "       [6.7, 4.4],\n",
              "       [5.6, 4.5],\n",
              "       [5.8, 4.1],\n",
              "       [6.2, 4.5],\n",
              "       [5.6, 3.9],\n",
              "       [5.9, 4.8],\n",
              "       [6.1, 4. ],\n",
              "       [6.3, 4.9],\n",
              "       [6.1, 4.7],\n",
              "       [6.4, 4.3],\n",
              "       [6.6, 4.4],\n",
              "       [6.8, 4.8],\n",
              "       [6.7, 5. ],\n",
              "       [6. , 4.5],\n",
              "       [5.7, 3.5],\n",
              "       [5.5, 3.8],\n",
              "       [5.5, 3.7],\n",
              "       [5.8, 3.9],\n",
              "       [6. , 5.1],\n",
              "       [5.4, 4.5],\n",
              "       [6. , 4.5],\n",
              "       [6.7, 4.7],\n",
              "       [6.3, 4.4],\n",
              "       [5.6, 4.1],\n",
              "       [5.5, 4. ],\n",
              "       [5.5, 4.4],\n",
              "       [6.1, 4.6],\n",
              "       [5.8, 4. ],\n",
              "       [5. , 3.3],\n",
              "       [5.6, 4.2],\n",
              "       [5.7, 4.2],\n",
              "       [5.7, 4.2],\n",
              "       [6.2, 4.3],\n",
              "       [5.1, 3. ],\n",
              "       [5.7, 4.1],\n",
              "       [6.3, 6. ],\n",
              "       [5.8, 5.1],\n",
              "       [7.1, 5.9],\n",
              "       [6.3, 5.6],\n",
              "       [6.5, 5.8],\n",
              "       [7.6, 6.6],\n",
              "       [4.9, 4.5],\n",
              "       [7.3, 6.3],\n",
              "       [6.7, 5.8],\n",
              "       [7.2, 6.1],\n",
              "       [6.5, 5.1],\n",
              "       [6.4, 5.3],\n",
              "       [6.8, 5.5],\n",
              "       [5.7, 5. ],\n",
              "       [5.8, 5.1],\n",
              "       [6.4, 5.3],\n",
              "       [6.5, 5.5],\n",
              "       [7.7, 6.7],\n",
              "       [7.7, 6.9],\n",
              "       [6. , 5. ],\n",
              "       [6.9, 5.7],\n",
              "       [5.6, 4.9],\n",
              "       [7.7, 6.7],\n",
              "       [6.3, 4.9],\n",
              "       [6.7, 5.7],\n",
              "       [7.2, 6. ],\n",
              "       [6.2, 4.8],\n",
              "       [6.1, 4.9],\n",
              "       [6.4, 5.6],\n",
              "       [7.2, 5.8],\n",
              "       [7.4, 6.1],\n",
              "       [7.9, 6.4],\n",
              "       [6.4, 5.6],\n",
              "       [6.3, 5.1],\n",
              "       [6.1, 5.6],\n",
              "       [7.7, 6.1],\n",
              "       [6.3, 5.6],\n",
              "       [6.4, 5.5],\n",
              "       [6. , 4.8],\n",
              "       [6.9, 5.4],\n",
              "       [6.7, 5.6],\n",
              "       [6.9, 5.1],\n",
              "       [5.8, 5.1],\n",
              "       [6.8, 5.9],\n",
              "       [6.7, 5.7],\n",
              "       [6.7, 5.2],\n",
              "       [6.3, 5. ],\n",
              "       [6.5, 5.2],\n",
              "       [6.2, 5.4],\n",
              "       [5.9, 5.1]])"
            ]
          },
          "metadata": {
            "tags": []
          }
        }
      ]
    },
    {
      "cell_type": "code",
      "metadata": {
        "colab": {
          "base_uri": "https://localhost:8080/",
          "height": 102
        },
        "id": "udqpr-InVrBN",
        "outputId": "5c73697a-867c-42fb-e76d-33c9f8bf21f2"
      },
      "source": [
        "npy2 = y2.to_numpy()\n",
        "display(npy2)"
      ],
      "execution_count": 19,
      "outputs": [
        {
          "output_type": "display_data",
          "data": {
            "text/plain": [
              "array([1, 1, 1, 1, 1, 1, 1, 1, 1, 1, 1, 1, 1, 1, 1, 1, 1, 1, 1, 1, 1, 1,\n",
              "       1, 1, 1, 1, 1, 1, 1, 1, 1, 1, 1, 1, 1, 1, 1, 1, 1, 1, 1, 1, 1, 1,\n",
              "       1, 1, 1, 1, 1, 1, 2, 2, 2, 2, 2, 2, 2, 2, 2, 2, 2, 2, 2, 2, 2, 2,\n",
              "       2, 2, 2, 2, 2, 2, 2, 2, 2, 2, 2, 2, 2, 2, 2, 2, 2, 2, 2, 2, 2, 2,\n",
              "       2, 2, 2, 2, 2, 2, 2, 2, 2, 2, 2, 2])"
            ]
          },
          "metadata": {
            "tags": []
          }
        }
      ]
    },
    {
      "cell_type": "code",
      "metadata": {
        "colab": {
          "base_uri": "https://localhost:8080/"
        },
        "id": "jhv9Ej9jJ370",
        "outputId": "5d8b7b40-a3b2-4479-cba6-9c588e5c973c"
      },
      "source": [
        "# 分割\n",
        "X2_train, X2_test, y2_train, y2_test = train_test_split(npX2, npy2, test_size=0.25, random_state=1234)\n",
        "print(X2_train.shape)\n",
        "print(X2_test.shape)\n",
        "print(y2_train.shape)\n",
        "print(y2_test.shape)"
      ],
      "execution_count": 20,
      "outputs": [
        {
          "output_type": "stream",
          "text": [
            "(75, 2)\n",
            "(25, 2)\n",
            "(75,)\n",
            "(25,)\n"
          ],
          "name": "stdout"
        }
      ]
    },
    {
      "cell_type": "code",
      "metadata": {
        "colab": {
          "base_uri": "https://localhost:8080/"
        },
        "id": "_e4rpQW5Txjn",
        "outputId": "29a78dbe-dc97-4c00-8031-9b28a50a1775"
      },
      "source": [
        "type(answer1)"
      ],
      "execution_count": 21,
      "outputs": [
        {
          "output_type": "execute_result",
          "data": {
            "text/plain": [
              "pandas.core.frame.DataFrame"
            ]
          },
          "metadata": {
            "tags": []
          },
          "execution_count": 21
        }
      ]
    },
    {
      "cell_type": "code",
      "metadata": {
        "colab": {
          "base_uri": "https://localhost:8080/"
        },
        "id": "TH70_wyVMQ0S",
        "outputId": "0bd81232-8538-49b0-bb65-ef493b8fdd2b"
      },
      "source": [
        "# ちゃんとndarray型になっていることを確認した\n",
        "type(X2_train)"
      ],
      "execution_count": 22,
      "outputs": [
        {
          "output_type": "execute_result",
          "data": {
            "text/plain": [
              "numpy.ndarray"
            ]
          },
          "metadata": {
            "tags": []
          },
          "execution_count": 22
        }
      ]
    },
    {
      "cell_type": "markdown",
      "metadata": {
        "id": "5onXSlrhR8i9"
      },
      "source": [
        "【問題4】前処理・標準化\n",
        "\n",
        "分類精度をあげるための加工を行います。手法ごとに適切な方法は異なりますが、ここでは一例として 標準化 を行うことにします。\n",
        "\n",
        "\n",
        "標準化を行うライブラリもscikit-learnに用意されています。これを使って標準化してください。\n",
        "\n",
        "\n",
        "sklearn.model_selection.train_test_split — scikit-learn 0.21.3 documentation\n",
        "\n",
        "\n",
        "《注意点》\n",
        "\n",
        "\n",
        "標準化は訓練用のデータでfitを行い、訓練用、検証用双方のデータにtransformを行います。検証データは学習の段階には存在しない未知のデータの代わりなので、標準化のための平均や標準偏差の計算に使ってはいけません。また、今回は分類問題なので、ラベルについては標準化させる必要はありません。\n",
        "\n",
        "\n",
        "《実際の問題での前処理は？》\n",
        "\n",
        "\n",
        "アヤメのデータセットのように綺麗で扱いやすい状況で提供されることはまずありません。分析を行いながら、さまざまな加工が必要になってきます。例えばWeek3の課題2で行った欠損値の確認の後、場合により欠損値の補間も行います。外れ値の確認や、複数のデータセットの整理などもあります。\n",
        "\n"
      ]
    },
    {
      "cell_type": "code",
      "metadata": {
        "id": "FrEtyZ9YWsAl"
      },
      "source": [
        "# 標準化をするライブラリの読み込み\n",
        "from sklearn.preprocessing import StandardScaler"
      ],
      "execution_count": 23,
      "outputs": []
    },
    {
      "cell_type": "code",
      "metadata": {
        "id": "tG8tW6WoW8aE"
      },
      "source": [
        "# インポートしたモデルのインスタンス化\n",
        "scaler = StandardScaler()"
      ],
      "execution_count": 24,
      "outputs": []
    },
    {
      "cell_type": "code",
      "metadata": {
        "colab": {
          "base_uri": "https://localhost:8080/"
        },
        "id": "0z_4wNkdWtVe",
        "outputId": "b1218afd-9331-4d26-d333-b84dd30b03c4"
      },
      "source": [
        "# 訓練用データの標準化\n",
        "X2_train_std = scaler.fit_transform(X2_train)\n",
        "X2_train_std"
      ],
      "execution_count": 25,
      "outputs": [
        {
          "output_type": "execute_result",
          "data": {
            "text/plain": [
              "array([[ 0.7168002 ,  1.05111067],\n",
              "       [ 0.87872795,  0.80514093],\n",
              "       [ 0.39294469,  0.80514093],\n",
              "       [ 1.52643897,  1.17409554],\n",
              "       [-1.87404389, -2.26948075],\n",
              "       [ 0.39294469, -0.30172287],\n",
              "       [-0.7405496 ,  0.31320146],\n",
              "       [-2.03597164, -1.65455642],\n",
              "       [ 0.87872795,  1.2970804 ],\n",
              "       [ 1.68836673,  1.78901987],\n",
              "       [ 2.33607775,  2.28095934],\n",
              "       [ 0.7168002 , -0.17873801],\n",
              "       [-2.1978994 , -1.90052615],\n",
              "       [ 0.39294469,  1.17409554],\n",
              "       [-0.25476634,  0.06723173],\n",
              "       [-0.25476634, -1.03963208],\n",
              "       [-0.09283858, -0.42470774],\n",
              "       [ 1.04065571,  1.05111067],\n",
              "       [ 0.06908918,  0.9281258 ],\n",
              "       [ 0.06908918,  0.06723173],\n",
              "       [ 0.06908918, -0.17873801],\n",
              "       [-1.06440511, -0.79366234],\n",
              "       [ 0.55487244, -0.30172287],\n",
              "       [-0.25476634, -0.30172287],\n",
              "       [-1.06440511, -0.42470774],\n",
              "       [-0.90247736, -0.79366234],\n",
              "       [-0.57862185, -0.05575314],\n",
              "       [ 0.55487244, -0.54769261],\n",
              "       [ 2.17415   ,  2.15797447],\n",
              "       [ 0.23101693,  0.9281258 ],\n",
              "       [-1.22633287, -1.40858668],\n",
              "       [-0.7405496 ,  0.31320146],\n",
              "       [-0.90247736, -0.42470774],\n",
              "       [-0.25476634,  0.9281258 ],\n",
              "       [-0.7405496 , -1.16261695],\n",
              "       [ 1.36451122,  1.2970804 ],\n",
              "       [-0.25476634, -0.17873801],\n",
              "       [ 1.04065571,  0.31320146],\n",
              "       [-0.7405496 , -0.91664721],\n",
              "       [-0.41669409, -0.42470774],\n",
              "       [-0.90247736, -0.79366234],\n",
              "       [ 0.39294469,  0.31320146],\n",
              "       [-1.06440511, -1.53157155],\n",
              "       [ 0.23101693,  0.5591712 ],\n",
              "       [-0.41669409, -1.03963208],\n",
              "       [-1.06440511, -1.16261695],\n",
              "       [ 1.04065571,  0.06723173],\n",
              "       [-1.22633287, -1.03963208],\n",
              "       [ 1.20258346, -0.17873801],\n",
              "       [-0.57862185, -0.79366234],\n",
              "       [ 2.33607775,  2.28095934],\n",
              "       [ 0.39294469,  0.43618633],\n",
              "       [-1.38826062, -0.42470774],\n",
              "       [ 0.06908918, -0.54769261],\n",
              "       [ 0.7168002 ,  0.43618633],\n",
              "       [ 0.06908918,  1.42006527],\n",
              "       [-0.57862185,  0.31320146],\n",
              "       [ 0.06908918,  0.06723173],\n",
              "       [ 1.85029449,  1.54305014],\n",
              "       [-0.41669409,  0.1902166 ],\n",
              "       [ 0.7168002 ,  1.17409554],\n",
              "       [ 0.7168002 ,  0.9281258 ],\n",
              "       [ 1.04065571,  0.68215607],\n",
              "       [-2.03597164, -1.90052615],\n",
              "       [-1.22633287, -1.28560181],\n",
              "       [ 0.87872795, -0.05575314],\n",
              "       [-0.25476634, -0.17873801],\n",
              "       [-0.90247736, -0.91664721],\n",
              "       [ 0.7168002 , -0.54769261],\n",
              "       [ 0.23101693, -0.67067748],\n",
              "       [-0.09283858, -0.05575314],\n",
              "       [ 0.06908918,  0.9281258 ],\n",
              "       [-1.06440511, -0.91664721],\n",
              "       [ 0.06908918,  0.31320146],\n",
              "       [-0.09283858, -0.67067748]])"
            ]
          },
          "metadata": {
            "tags": []
          },
          "execution_count": 25
        }
      ]
    },
    {
      "cell_type": "code",
      "metadata": {
        "colab": {
          "base_uri": "https://localhost:8080/"
        },
        "id": "Tv8RA36Cbp07",
        "outputId": "35ce80c0-7483-4978-e139-3c61f1c33dfb"
      },
      "source": [
        "# 検証用データの標準化\n",
        "X2_test_std = scaler.fit_transform(X2_test)\n",
        "X2_test_std"
      ],
      "execution_count": 26,
      "outputs": [
        {
          "output_type": "execute_result",
          "data": {
            "text/plain": [
              "array([[-1.00565393, -0.83961398],\n",
              "       [-0.35768104, -0.71757706],\n",
              "       [ 2.10461595,  1.60112432],\n",
              "       [ 0.16069728,  0.25871826],\n",
              "       [-0.09849188,  0.38075517],\n",
              "       [ 1.84542679,  2.2113089 ],\n",
              "       [ 1.84542679,  1.23501358],\n",
              "       [ 0.54948101, -0.10739249],\n",
              "       [-1.00565393, -1.32776164],\n",
              "       [-0.61687019, -1.32776164],\n",
              "       [-0.35768104,  0.01464443],\n",
              "       [ 1.1974539 ,  1.23501358],\n",
              "       [-0.74646477, -0.10739249],\n",
              "       [ 0.54948101,  0.74686592],\n",
              "       [-1.78322139, -0.71757706],\n",
              "       [ 0.16069728,  0.50279209],\n",
              "       [ 0.0311027 , -0.10739249],\n",
              "       [ 0.16069728, -0.71757706],\n",
              "       [-0.87605935, -0.2294294 ],\n",
              "       [ 0.16069728,  0.624829  ],\n",
              "       [-1.39443766, -1.44979855],\n",
              "       [-0.61687019,  0.01464443],\n",
              "       [-0.74646477, -1.93794621],\n",
              "       [-0.35768104, -0.35146632],\n",
              "       [ 1.1974539 ,  1.11297666]])"
            ]
          },
          "metadata": {
            "tags": []
          },
          "execution_count": 26
        }
      ]
    },
    {
      "cell_type": "markdown",
      "metadata": {
        "id": "-wUJ06mDTlz3"
      },
      "source": [
        "【問題5】学習と推定\n",
        "\n",
        "最近傍法（k-nearest neighbors, k-nn）で学習を行います。scikit-learnの公式ドキュメントのExamplesを参考に、k-nnの学習を行ってください。ここで入力するのは訓練データです。\n",
        "\n",
        "\n",
        "sklearn.neighbors.KNeighborsClassifier — scikit-learn 0.21.3 documentation\n",
        "\n",
        "\n",
        "学習が終わった後、検証データをpredictメソッドに入力し、推定を行ってください。\n",
        "\n",
        "\n",
        "パラメータが複数ありますが、今はそれらの理解を重視しません。最も基本的な要素として、n_neighborsの数があるため、これは複数試してみましょう。デフォルトの5、および1と3を最低限行ってください。5の場合を5-nn、3の場合を3-nnのように呼びます。"
      ]
    },
    {
      "cell_type": "code",
      "metadata": {
        "id": "aT3VAyrJcMQC"
      },
      "source": [
        "# 最近傍法のライブラリの読み込み\n",
        "from sklearn.neighbors import KNeighborsClassifier"
      ],
      "execution_count": 27,
      "outputs": []
    },
    {
      "cell_type": "code",
      "metadata": {
        "colab": {
          "base_uri": "https://localhost:8080/"
        },
        "id": "UuQdxZh9c80g",
        "outputId": "31418c3f-e903-45b7-c5e7-a8449b9c7f0a"
      },
      "source": [
        "# 3-nnの場合のインスタンス化と学習\n",
        "neigh = KNeighborsClassifier(n_neighbors=3)\n",
        "neigh.fit(X2_train_std, y2_train)"
      ],
      "execution_count": 28,
      "outputs": [
        {
          "output_type": "execute_result",
          "data": {
            "text/plain": [
              "KNeighborsClassifier(algorithm='auto', leaf_size=30, metric='minkowski',\n",
              "                     metric_params=None, n_jobs=None, n_neighbors=3, p=2,\n",
              "                     weights='uniform')"
            ]
          },
          "metadata": {
            "tags": []
          },
          "execution_count": 28
        }
      ]
    },
    {
      "cell_type": "code",
      "metadata": {
        "colab": {
          "base_uri": "https://localhost:8080/"
        },
        "id": "PCTgWSk-fG0S",
        "outputId": "39e7e37f-a105-42c1-c553-1be73b7d3a57"
      },
      "source": [
        "# 予測\n",
        "y_pred = neigh.predict(X2_test_std)\n",
        "y_pred"
      ],
      "execution_count": 29,
      "outputs": [
        {
          "output_type": "execute_result",
          "data": {
            "text/plain": [
              "array([1, 1, 2, 2, 2, 2, 2, 1, 1, 1, 2, 2, 1, 2, 1, 2, 1, 1, 1, 2, 1, 2,\n",
              "       1, 1, 2])"
            ]
          },
          "metadata": {
            "tags": []
          },
          "execution_count": 29
        }
      ]
    },
    {
      "cell_type": "code",
      "metadata": {
        "colab": {
          "base_uri": "https://localhost:8080/"
        },
        "id": "4qq3M6HAgHlr",
        "outputId": "f3383cc1-ce69-49ba-d325-bce6ea7d24c3"
      },
      "source": [
        "# 1-nnの場合のインスタンス化と学習\n",
        "neigh1 = KNeighborsClassifier(n_neighbors=1)\n",
        "neigh1.fit(X2_train_std, y2_train)"
      ],
      "execution_count": 30,
      "outputs": [
        {
          "output_type": "execute_result",
          "data": {
            "text/plain": [
              "KNeighborsClassifier(algorithm='auto', leaf_size=30, metric='minkowski',\n",
              "                     metric_params=None, n_jobs=None, n_neighbors=1, p=2,\n",
              "                     weights='uniform')"
            ]
          },
          "metadata": {
            "tags": []
          },
          "execution_count": 30
        }
      ]
    },
    {
      "cell_type": "code",
      "metadata": {
        "colab": {
          "base_uri": "https://localhost:8080/"
        },
        "id": "bdERKn0PgQM-",
        "outputId": "199d8665-e8b9-404e-c6c6-46b0ed242d59"
      },
      "source": [
        "# 1-nnの場合の予測\n",
        "y_pred = neigh1.predict(X2_test_std)\n",
        "y_pred"
      ],
      "execution_count": 31,
      "outputs": [
        {
          "output_type": "execute_result",
          "data": {
            "text/plain": [
              "array([1, 1, 2, 2, 2, 2, 2, 1, 1, 1, 2, 2, 1, 2, 1, 2, 1, 1, 1, 2, 1, 1,\n",
              "       1, 1, 2])"
            ]
          },
          "metadata": {
            "tags": []
          },
          "execution_count": 31
        }
      ]
    },
    {
      "cell_type": "code",
      "metadata": {
        "colab": {
          "base_uri": "https://localhost:8080/"
        },
        "id": "XuKQf2XXgcij",
        "outputId": "bf340974-a210-4285-9cab-9cbc4be917f8"
      },
      "source": [
        "# 5-nnの場合のインスタンス化と学習\n",
        "neigh5 = KNeighborsClassifier(n_neighbors=5)\n",
        "neigh5.fit(X2_train_std, y2_train)"
      ],
      "execution_count": 32,
      "outputs": [
        {
          "output_type": "execute_result",
          "data": {
            "text/plain": [
              "KNeighborsClassifier(algorithm='auto', leaf_size=30, metric='minkowski',\n",
              "                     metric_params=None, n_jobs=None, n_neighbors=5, p=2,\n",
              "                     weights='uniform')"
            ]
          },
          "metadata": {
            "tags": []
          },
          "execution_count": 32
        }
      ]
    },
    {
      "cell_type": "code",
      "metadata": {
        "colab": {
          "base_uri": "https://localhost:8080/"
        },
        "id": "e_foSyvcggJw",
        "outputId": "96ccc99b-0106-428b-fc05-e2a70fec03f9"
      },
      "source": [
        "# 5-nnの場合の予測\n",
        "y_pred = neigh5.predict(X2_test_std)\n",
        "y_pred"
      ],
      "execution_count": 33,
      "outputs": [
        {
          "output_type": "execute_result",
          "data": {
            "text/plain": [
              "array([1, 1, 2, 2, 2, 2, 2, 1, 1, 1, 1, 2, 2, 2, 1, 2, 1, 1, 1, 2, 1, 2,\n",
              "       1, 1, 2])"
            ]
          },
          "metadata": {
            "tags": []
          },
          "execution_count": 33
        }
      ]
    },
    {
      "cell_type": "markdown",
      "metadata": {
        "id": "jT8lJViST7cn"
      },
      "source": [
        "【問題6】評価\n",
        "\n",
        "検証データの特徴量を入力して得られた推定値と、検証データの正解値の近さを計算し、学習したモデルを評価します。\n",
        "\n",
        "\n",
        "2値分類を評価するための指標値には Accuracy（正解率）、Precision（適合率）、Recall（再現率）、F値 があります。それぞれの意味を理解するには、 混同行列（confusion matrix） を見ることになります。\n",
        "\n",
        "\n",
        "・scikit-learnを使い4種類の指標を計算する\n",
        "\n",
        "・混同行列をscikit-learnを使い表示する\n",
        "\n",
        "・4種類の指標値の意味について簡単に調査して文章でまとめる\n",
        "\n",
        "\n",
        "sklearn.metrics.accuracy_score — scikit-learn 0.21.3 documentation\n",
        "\n",
        "\n",
        "sklearn.metrics.precision_score — scikit-learn 0.21.3 documentation\n",
        "\n",
        "\n",
        "sklearn.metrics.recall_score — scikit-learn 0.21.3 documentation\n",
        "\n",
        "\n",
        "sklearn.metrics.f1_score — scikit-learn 0.21.3 documentation\n",
        "\n",
        "\n",
        "sklearn.metrics.confusion_matrix — scikit-learn 0.21.3 documentation\n",
        "\n",
        "\n"
      ]
    },
    {
      "cell_type": "code",
      "metadata": {
        "colab": {
          "base_uri": "https://localhost:8080/"
        },
        "id": "CDBEy5ZdmlRW",
        "outputId": "619018d5-7ba4-4747-ad78-24dded5886d1"
      },
      "source": [
        "# scikit-learnを使い4種類の指標を計算する(正解率)\n",
        "# ライブラリの読み込み\n",
        "from sklearn.metrics import accuracy_score\n",
        "\n",
        "# 正解率の算定\n",
        "accuracy_score(y2_test, y_pred)"
      ],
      "execution_count": 34,
      "outputs": [
        {
          "output_type": "execute_result",
          "data": {
            "text/plain": [
              "0.84"
            ]
          },
          "metadata": {
            "tags": []
          },
          "execution_count": 34
        }
      ]
    },
    {
      "cell_type": "code",
      "metadata": {
        "colab": {
          "base_uri": "https://localhost:8080/"
        },
        "id": "0vMWV3ONwnCE",
        "outputId": "03a59169-c3f9-4c6d-fe17-9686816182f9"
      },
      "source": [
        "# scikit-learnを使い4種類の指標を計算する(適合率)\n",
        "# ライブラリの読み込み\n",
        "from sklearn.metrics import precision_score\n",
        "\n",
        "# 適合率の算定\n",
        "precision_score(y2_test, y_pred)"
      ],
      "execution_count": 35,
      "outputs": [
        {
          "output_type": "execute_result",
          "data": {
            "text/plain": [
              "0.6923076923076923"
            ]
          },
          "metadata": {
            "tags": []
          },
          "execution_count": 35
        }
      ]
    },
    {
      "cell_type": "code",
      "metadata": {
        "colab": {
          "base_uri": "https://localhost:8080/"
        },
        "id": "jfHdoHk_xk_u",
        "outputId": "21d56010-b112-4317-ba8a-ccea88614a9f"
      },
      "source": [
        "# scikit-learnを使い4種類の指標を計算する(再現率)\n",
        "# ライブラリの読み込み\n",
        "from sklearn.metrics import recall_score\n",
        "\n",
        "# 再現率の算定\n",
        "recall_score(y2_test, y_pred)"
      ],
      "execution_count": 36,
      "outputs": [
        {
          "output_type": "execute_result",
          "data": {
            "text/plain": [
              "1.0"
            ]
          },
          "metadata": {
            "tags": []
          },
          "execution_count": 36
        }
      ]
    },
    {
      "cell_type": "code",
      "metadata": {
        "colab": {
          "base_uri": "https://localhost:8080/"
        },
        "id": "h6GkQWn1x9vW",
        "outputId": "9cf3d850-19ed-495f-8ef3-41ca6924e50f"
      },
      "source": [
        "# scikit-learnを使い4種類の指標を計算する(F値)\n",
        "# ライブラリの読み込み\n",
        "from sklearn.metrics import f1_score\n",
        "\n",
        "# F値の算定\n",
        "f1_score(y2_test, y_pred)"
      ],
      "execution_count": 37,
      "outputs": [
        {
          "output_type": "execute_result",
          "data": {
            "text/plain": [
              "0.8181818181818181"
            ]
          },
          "metadata": {
            "tags": []
          },
          "execution_count": 37
        }
      ]
    },
    {
      "cell_type": "code",
      "metadata": {
        "colab": {
          "base_uri": "https://localhost:8080/"
        },
        "id": "1t4DFDvVm5Iw",
        "outputId": "8906ed2b-78d4-4c52-8aca-15feb9d6cdad"
      },
      "source": [
        "# 混同行列をscikit-learnを使い表示する\n",
        "# ライブラリの読み込み\n",
        "from sklearn.metrics import confusion_matrix\n",
        "\n",
        "# 混同行列の取得\n",
        "m = confusion_matrix(y2_test, y_pred)\n",
        "print('Confusion Matrix : \\n{}'.format(m))\n"
      ],
      "execution_count": 38,
      "outputs": [
        {
          "output_type": "stream",
          "text": [
            "Confusion Matrix : \n",
            "[[ 9  0]\n",
            " [ 4 12]]\n"
          ],
          "name": "stdout"
        }
      ]
    },
    {
      "cell_type": "code",
      "metadata": {
        "id": "WemuCaAnm98B"
      },
      "source": [
        "# 4種類の指標値の意味について簡単に調査して文章でまとめる"
      ],
      "execution_count": 55,
      "outputs": []
    },
    {
      "cell_type": "markdown",
      "metadata": {
        "id": "_KqQY8btpX-2"
      },
      "source": [
        "Accuracy（正解率）とは、正しく分類できた割合のことである。\n",
        "\n",
        "正解率 = (True Positive + True Negative) ÷ 全データ数\n",
        "\n",
        "Precision（適合率）とは、Positiveと予測したもののうち本当にPositiveだった割合のことである。\n",
        "\n",
        "適合率 = True Positive ÷ (True Positive + False Positive)\n",
        "\n",
        "Recall（再現率）とは、実際のPositiveのうちPositivedだと予測できていたいた割合のことである。\n",
        "\n",
        "再現率 = True Positive ÷ (True Positive + False Negative) \n",
        "\n",
        "F値とは、Precision（適合率）とRecall（再現率）の両者のトレードオフ関係に対して両者のバランスを考慮した上で用いられる精度評価指標である。\n",
        "\n",
        "F値 = (2 × 再現率 × 適合率) ÷ (再現率 + 適合率)"
      ]
    },
    {
      "cell_type": "markdown",
      "metadata": {
        "id": "18Z_VCHRnAaM"
      },
      "source": [
        "【問題7】可視化\n",
        "\n",
        "評価の一貫として可視化を行います。今回の場合2次元の特徴量で分類を行いましたから、散布図で可視化が可能です。以下にどう分割するかという 決定領域 を描く関数を用意しました。これを利用して可視化を行ってください。Xとyには訓練データまたは検証データを与えます。"
      ]
    },
    {
      "cell_type": "code",
      "metadata": {
        "id": "suIzv7jVnmju"
      },
      "source": [
        "import matplotlib.pyplot as plt\n",
        "from matplotlib.colors import ListedColormap\n",
        "import matplotlib.patches as mpatches\n",
        "def decision_region(X, y, model, step=0.01, title='decision region', xlabel='xlabel', ylabel='ylabel', target_names=['versicolor', 'virginica']):\n",
        "    \"\"\"\n",
        "    2値分類を2次元の特徴量で学習したモデルの決定領域を描く。\n",
        "    背景の色が学習したモデルによる推定値から描画される。\n",
        "    散布図の点は訓練データまたは検証データである。\n",
        "    Parameters\n",
        "    ----------------\n",
        "    X : ndarray, shape(n_samples, 2)\n",
        "        特徴量\n",
        "    y : ndarray, shape(n_samples,)\n",
        "        ラベル\n",
        "    model : object\n",
        "        学習したモデルのインスンタスを入れる\n",
        "    step : float, (default : 0.1)\n",
        "        推定値を計算する間隔を設定する\n",
        "    title : str\n",
        "        グラフのタイトルの文章を与える\n",
        "    xlabel, ylabel : str\n",
        "        軸ラベルの文章を与える\n",
        "    target_names= : list of str\n",
        "        凡例の一覧を与える\n",
        "    \"\"\"\n",
        "    # setting\n",
        "    scatter_color = ['red', 'blue']\n",
        "    contourf_color = ['pink', 'skyblue']\n",
        "    n_class = 2\n",
        "    # pred\n",
        "    mesh_f0, mesh_f1  = np.meshgrid(np.arange(np.min(X[:,0])-0.5, np.max(X[:,0])+0.5, step), np.arange(np.min(X[:,1])-0.5, np.max(X[:,1])+0.5, step))\n",
        "    mesh = np.c_[np.ravel(mesh_f0),np.ravel(mesh_f1)]\n",
        "    y_pred = model.predict(mesh).reshape(mesh_f0.shape)\n",
        "    # plot\n",
        "    plt.title(title)\n",
        "    plt.xlabel(xlabel)\n",
        "    plt.ylabel(ylabel)\n",
        "    plt.contourf(mesh_f0, mesh_f1, y_pred, n_class-1, cmap=ListedColormap(contourf_color))\n",
        "    plt.contour(mesh_f0, mesh_f1, y_pred, n_class-1, colors='y', linewidths=3, alpha=0.5)\n",
        "    for i, target in enumerate(set(y)):\n",
        "        plt.scatter(X[y==target][:, 0], X[y==target][:, 1], s=80, color=scatter_color[i], label=target_names[i], marker='o')\n",
        "    patches = [mpatches.Patch(color=scatter_color[i], label=target_names[i]) for i in range(n_class)]\n",
        "    plt.legend(handles=patches)\n",
        "    plt.legend()\n",
        "    plt.show()"
      ],
      "execution_count": 40,
      "outputs": []
    },
    {
      "cell_type": "code",
      "metadata": {
        "colab": {
          "base_uri": "https://localhost:8080/"
        },
        "id": "6ViLkpZjZeOq",
        "outputId": "d08cadef-1d05-4dd7-bf2a-afd3d53a5940"
      },
      "source": [
        "# 5-nnの場合\n",
        "neigh5"
      ],
      "execution_count": 41,
      "outputs": [
        {
          "output_type": "execute_result",
          "data": {
            "text/plain": [
              "KNeighborsClassifier(algorithm='auto', leaf_size=30, metric='minkowski',\n",
              "                     metric_params=None, n_jobs=None, n_neighbors=5, p=2,\n",
              "                     weights='uniform')"
            ]
          },
          "metadata": {
            "tags": []
          },
          "execution_count": 41
        }
      ]
    },
    {
      "cell_type": "code",
      "metadata": {
        "colab": {
          "base_uri": "https://localhost:8080/",
          "height": 295
        },
        "id": "nRm1kh16C4XD",
        "outputId": "a5a1267b-26df-4cad-c2a8-59442f79d859"
      },
      "source": [
        "decision_region(X2_train_std, y2_train, neigh5, step=0.01, title='decision region', xlabel='xlabel', ylabel='ylabel', target_names=['versicolor', 'virginica'])"
      ],
      "execution_count": 42,
      "outputs": [
        {
          "output_type": "display_data",
          "data": {
            "image/png": "[encoded data removed]",
            "text/plain": [
              "<Figure size 432x288 with 1 Axes>"
            ]
          },
          "metadata": {
            "tags": [],
            "needs_background": "light"
          }
        }
      ]
    },
    {
      "cell_type": "code",
      "metadata": {
        "colab": {
          "base_uri": "https://localhost:8080/",
          "height": 295
        },
        "id": "tmVUwtKddii0",
        "outputId": "6e56223d-5abe-43f6-e514-8835232cf8e3"
      },
      "source": [
        "# 3-nnの場合\n",
        "neigh\n",
        "decision_region(X2_train_std, y2_train, neigh, step=0.01, title='decision region', xlabel='xlabel', ylabel='ylabel', target_names=['versicolor', 'virginica'])"
      ],
      "execution_count": 43,
      "outputs": [
        {
          "output_type": "display_data",
          "data": {
            "image/png": "[encoded data removed]",
            "text/plain": [
              "<Figure size 432x288 with 1 Axes>"
            ]
          },
          "metadata": {
            "tags": [],
            "needs_background": "light"
          }
        }
      ]
    },
    {
      "cell_type": "code",
      "metadata": {
        "colab": {
          "base_uri": "https://localhost:8080/",
          "height": 295
        },
        "id": "UfS2LVHjd485",
        "outputId": "5ae160c7-efa4-4ca2-e873-eaf75e79d41b"
      },
      "source": [
        "# 1-nnの場合\n",
        "neigh1\n",
        "decision_region(X2_train_std, y2_train, neigh1, step=0.01, title='decision region', xlabel='xlabel', ylabel='ylabel', target_names=['versicolor', 'virginica'])"
      ],
      "execution_count": 44,
      "outputs": [
        {
          "output_type": "display_data",
          "data": {
            "image/png": "[encoded data removed]",
            "text/plain": [
              "<Figure size 432x288 with 1 Axes>"
            ]
          },
          "metadata": {
            "tags": [],
            "needs_background": "light"
          }
        }
      ]
    },
    {
      "cell_type": "markdown",
      "metadata": {
        "id": "qfSvbcYCnz4N"
      },
      "source": [
        "# 4.各手法の比較\n",
        "\n",
        "他の手法も基本的な流れは同様です。他の手法でも学習から可視化までを行っていきます。"
      ]
    },
    {
      "cell_type": "markdown",
      "metadata": {
        "id": "QfjZKA_BqkuP"
      },
      "source": [
        "【問題8】他の手法の学習\n",
        "\n",
        "以下のすべての手法について学習・推定・評価・可視化を行ってください。そして、指標値を１つの表にまとめてください。その表と決定領域を利用して結果を簡単に考察してください。どの手法がどの指標値で良かったかや、どういった決定領域になっていたかを述べてください。\n",
        "\n",
        "\n",
        "・最近傍法\n",
        "・ロジスティック回帰\n",
        "・SVM\n",
        "・決定木\n",
        "・ランダムフォレスト"
      ]
    },
    {
      "cell_type": "code",
      "metadata": {
        "colab": {
          "base_uri": "https://localhost:8080/"
        },
        "id": "IkOHn6d04Qg-",
        "outputId": "e7cf7cf1-79f7-4162-af8d-c10b8c2cd0e1"
      },
      "source": [
        "# ロジスティック回帰\n",
        "# ロジスティック回帰のライブラリの読み込み\n",
        "from sklearn.linear_model import LogisticRegression\n",
        "# ロジスティック回帰で学習\n",
        "clf = LogisticRegression(random_state=0).fit(X2_train_std, y2_train)\n",
        "# ロジスティック回帰で予測\n",
        "ls_y_pred = clf.predict(X2_test_std)\n",
        "ls_y_pred"
      ],
      "execution_count": 45,
      "outputs": [
        {
          "output_type": "execute_result",
          "data": {
            "text/plain": [
              "array([1, 1, 2, 2, 2, 2, 2, 1, 1, 1, 1, 2, 1, 2, 1, 2, 1, 1, 1, 2, 1, 1,\n",
              "       1, 1, 2])"
            ]
          },
          "metadata": {
            "tags": []
          },
          "execution_count": 45
        }
      ]
    },
    {
      "cell_type": "code",
      "metadata": {
        "colab": {
          "base_uri": "https://localhost:8080/"
        },
        "id": "1PQv-l0E7k2y",
        "outputId": "a56af804-344b-4cbb-cfd7-f826ccc16070"
      },
      "source": [
        "# ロジスティック回帰の評価\n",
        "# 混同行列の取得\n",
        "ls_m = confusion_matrix(y2_test, ls_y_pred)\n",
        "print('Confusion Matrix : \\n{}'.format(ls_m))\n",
        "# 正解率の算定\n",
        "print('正解率 : {}'.format(accuracy_score(y2_test, ls_y_pred)))\n",
        "# 適合率の算定\n",
        "print('適合率 : {}'.format(precision_score(y2_test, ls_y_pred)))\n",
        "# 再現率の算定\n",
        "print('再現率 : {}'.format(recall_score(y2_test, ls_y_pred)))\n",
        "# F値の算定\n",
        "print('F値 : {}'.format(f1_score(y2_test, ls_y_pred)))"
      ],
      "execution_count": 46,
      "outputs": [
        {
          "output_type": "stream",
          "text": [
            "Confusion Matrix : \n",
            "[[ 9  0]\n",
            " [ 6 10]]\n",
            "正解率 : 0.76\n",
            "適合率 : 0.6\n",
            "再現率 : 1.0\n",
            "F値 : 0.7499999999999999\n"
          ],
          "name": "stdout"
        }
      ]
    },
    {
      "cell_type": "code",
      "metadata": {
        "colab": {
          "base_uri": "https://localhost:8080/",
          "height": 295
        },
        "id": "3hacmBlL9XgA",
        "outputId": "60d72844-ffd5-407a-ded0-8487159029fb"
      },
      "source": [
        "# ロジスティック回帰の可視化\n",
        "clf\n",
        "decision_region(X2_train_std, y2_train, clf)"
      ],
      "execution_count": 47,
      "outputs": [
        {
          "output_type": "display_data",
          "data": {
            "image/png": "[encoded data removed]",
            "text/plain": [
              "<Figure size 432x288 with 1 Axes>"
            ]
          },
          "metadata": {
            "tags": [],
            "needs_background": "light"
          }
        }
      ]
    },
    {
      "cell_type": "code",
      "metadata": {
        "colab": {
          "base_uri": "https://localhost:8080/"
        },
        "id": "ftNHqtPZ9xes",
        "outputId": "1e2a5ac6-1999-4e6b-d6d5-a91e7eb79cac"
      },
      "source": [
        "# SVM\n",
        "# SVMのライブラリの読み込み\n",
        "from sklearn.svm import LinearSVC\n",
        "# SVMで学習\n",
        "sv = LinearSVC().fit(X2_train_std, y2_train)\n",
        "# SVMで予測\n",
        "sv_y_pred = sv.predict(X2_test_std)\n",
        "sv_y_pred"
      ],
      "execution_count": 48,
      "outputs": [
        {
          "output_type": "execute_result",
          "data": {
            "text/plain": [
              "array([1, 1, 2, 2, 2, 2, 2, 1, 1, 1, 2, 2, 1, 2, 1, 2, 1, 1, 1, 2, 1, 2,\n",
              "       1, 1, 2])"
            ]
          },
          "metadata": {
            "tags": []
          },
          "execution_count": 48
        }
      ]
    },
    {
      "cell_type": "code",
      "metadata": {
        "colab": {
          "base_uri": "https://localhost:8080/"
        },
        "id": "lb3snCjs98-W",
        "outputId": "e73fc8e5-0ce8-495a-a8f6-fd384f2d2020"
      },
      "source": [
        "# SVMの評価\n",
        "# 混同行列の取得\n",
        "sv_m = confusion_matrix(y2_test, sv_y_pred)\n",
        "print('Confusion Matrix : \\n{}'.format(sv_m))\n",
        "# 正解率の算定\n",
        "print('正解率 : {}'.format(accuracy_score(y2_test, sv_y_pred)))\n",
        "# 適合率の算定\n",
        "print('適合率 : {}'.format(precision_score(y2_test, sv_y_pred)))\n",
        "# 再現率の算定\n",
        "print('再現率 : {}'.format(recall_score(y2_test, sv_y_pred)))\n",
        "# F値の算定\n",
        "print('F値 : {}'.format(f1_score(y2_test, sv_y_pred)))"
      ],
      "execution_count": 49,
      "outputs": [
        {
          "output_type": "stream",
          "text": [
            "Confusion Matrix : \n",
            "[[ 8  1]\n",
            " [ 5 11]]\n",
            "正解率 : 0.76\n",
            "適合率 : 0.6153846153846154\n",
            "再現率 : 0.8888888888888888\n",
            "F値 : 0.7272727272727274\n"
          ],
          "name": "stdout"
        }
      ]
    },
    {
      "cell_type": "code",
      "metadata": {
        "colab": {
          "base_uri": "https://localhost:8080/",
          "height": 295
        },
        "id": "JWqqdtLR_Aub",
        "outputId": "51b93297-bee7-4485-f538-b96b783c6035"
      },
      "source": [
        "# SVMの可視化\n",
        "sv\n",
        "decision_region(X2_train_std, y2_train, sv)"
      ],
      "execution_count": 50,
      "outputs": [
        {
          "output_type": "display_data",
          "data": {
            "image/png": "[encoded data removed]",
            "text/plain": [
              "<Figure size 432x288 with 1 Axes>"
            ]
          },
          "metadata": {
            "tags": [],
            "needs_background": "light"
          }
        }
      ]
    },
    {
      "cell_type": "code",
      "metadata": {
        "colab": {
          "base_uri": "https://localhost:8080/"
        },
        "id": "YT3H99QV_FSx",
        "outputId": "b10a574c-56db-4be2-c9a3-4feab0c88963"
      },
      "source": [
        "# 決定木\n",
        "# 決定木のライブラリの読み込み(分類木であるためCrassifierを使う。（注意）当初はRegressorにしてしまっていたため下のセルがエラーになってしまった😭)\n",
        "from sklearn.tree import DecisionTreeClassifier\n",
        "# 決定木で学習\n",
        "dt = DecisionTreeClassifier(random_state = 1234).fit(X2_train_std, y2_train)\n",
        "# 決定木で予測\n",
        "dt_y_pred = dt.predict(X2_test_std)\n",
        "dt_y_pred"
      ],
      "execution_count": 51,
      "outputs": [
        {
          "output_type": "execute_result",
          "data": {
            "text/plain": [
              "array([1, 1, 2, 2, 2, 2, 2, 1, 1, 1, 2, 2, 1, 2, 1, 2, 1, 1, 1, 2, 1, 1,\n",
              "       1, 1, 2])"
            ]
          },
          "metadata": {
            "tags": []
          },
          "execution_count": 51
        }
      ]
    },
    {
      "cell_type": "code",
      "metadata": {
        "colab": {
          "base_uri": "https://localhost:8080/"
        },
        "id": "l_vW6leU_RU0",
        "outputId": "266a8ceb-082d-479f-f862-80f47c80d632"
      },
      "source": [
        "# 決定木の評価\n",
        "# 混同行列の取得\n",
        "dt_m = confusion_matrix(y2_test, dt_y_pred)\n",
        "print('Confusion Matrix : \\n{}'.format(dt_m))\n",
        "# 正解率の算定\n",
        "print('正解率 : {}'.format(accuracy_score(y2_test, dt_y_pred)))\n",
        "# 適合率の算定\n",
        "print('適合率 : {}'.format(precision_score(y2_test, dt_y_pred)))\n",
        "# 再現率の算定\n",
        "print('再現率 : {}'.format(recall_score(y2_test, dt_y_pred)))\n",
        "# F値の算定\n",
        "print('F値 : {}'.format(f1_score(y2_test, dt_y_pred)))"
      ],
      "execution_count": 52,
      "outputs": [
        {
          "output_type": "stream",
          "text": [
            "Confusion Matrix : \n",
            "[[ 8  1]\n",
            " [ 6 10]]\n",
            "正解率 : 0.72\n",
            "適合率 : 0.5714285714285714\n",
            "再現率 : 0.8888888888888888\n",
            "F値 : 0.6956521739130435\n"
          ],
          "name": "stdout"
        }
      ]
    },
    {
      "cell_type": "code",
      "metadata": {
        "colab": {
          "base_uri": "https://localhost:8080/",
          "height": 295
        },
        "id": "C975ddb9_Vo1",
        "outputId": "66c7ebfe-c681-47fc-9355-3e9a1fd4503f"
      },
      "source": [
        "# 決定木の可視化\n",
        "dt\n",
        "decision_region(X2_train_std, y2_train, dt)"
      ],
      "execution_count": 53,
      "outputs": [
        {
          "output_type": "display_data",
          "data": {
            "image/png": "[encoded data removed]",
            "text/plain": [
              "<Figure size 432x288 with 1 Axes>"
            ]
          },
          "metadata": {
            "tags": [],
            "needs_background": "light"
          }
        }
      ]
    },
    {
      "cell_type": "code",
      "metadata": {
        "colab": {
          "base_uri": "https://localhost:8080/"
        },
        "id": "hYDRr53v_YZ5",
        "outputId": "728a0da0-b5d3-4d3d-fe71-3b8e018ec32b"
      },
      "source": [
        "# ランダムフォレスト\n",
        "# ランダムフォレストのライブラリの読み込み\n",
        "from sklearn.ensemble import RandomForestClassifier\n",
        "# ランダムフォレストで学習\n",
        "rf = RandomForestClassifier(random_state = 1234).fit(X2_train_std, y2_train)\n",
        "# ランダムフォレストで予測\n",
        "rf_y_pred = rf.predict(X2_test_std)\n",
        "rf_y_pred"
      ],
      "execution_count": 54,
      "outputs": [
        {
          "output_type": "execute_result",
          "data": {
            "text/plain": [
              "array([1, 1, 2, 2, 2, 2, 2, 1, 1, 1, 2, 2, 1, 2, 1, 2, 1, 1, 1, 2, 1, 2,\n",
              "       1, 1, 2])"
            ]
          },
          "metadata": {
            "tags": []
          },
          "execution_count": 54
        }
      ]
    },
    {
      "cell_type": "code",
      "metadata": {
        "colab": {
          "base_uri": "https://localhost:8080/"
        },
        "id": "DhMzXMPQ_ijA",
        "outputId": "9145399c-d5c1-49de-e839-3b5461f59d73"
      },
      "source": [
        "# ランダムフォレストの評価\n",
        "# 混同行列の取得\n",
        "rf_m = confusion_matrix(y2_test, rf_y_pred)\n",
        "print('Confusion Matrix : \\n{}'.format(rf_m))\n",
        "# 正解率の算定\n",
        "print('正解率 : {}'.format(accuracy_score(y2_test, rf_y_pred)))\n",
        "# 適合率の算定\n",
        "print('適合率 : {}'.format(precision_score(y2_test, rf_y_pred)))\n",
        "# 再現率の算定\n",
        "print('再現率 : {}'.format(recall_score(y2_test, rf_y_pred)))\n",
        "# F値の算定\n",
        "print('F値 : {}'.format(f1_score(y2_test, rf_y_pred)))"
      ],
      "execution_count": 55,
      "outputs": [
        {
          "output_type": "stream",
          "text": [
            "Confusion Matrix : \n",
            "[[ 8  1]\n",
            " [ 5 11]]\n",
            "正解率 : 0.76\n",
            "適合率 : 0.6153846153846154\n",
            "再現率 : 0.8888888888888888\n",
            "F値 : 0.7272727272727274\n"
          ],
          "name": "stdout"
        }
      ]
    },
    {
      "cell_type": "code",
      "metadata": {
        "colab": {
          "base_uri": "https://localhost:8080/",
          "height": 295
        },
        "id": "2xaHXqR7_niK",
        "outputId": "05df34b9-dd08-4863-c689-e0a0bbf55701"
      },
      "source": [
        "# ランダムフォレストの可視化\n",
        "rf\n",
        "decision_region(X2_train_std, y2_train, rf)"
      ],
      "execution_count": 56,
      "outputs": [
        {
          "output_type": "display_data",
          "data": {
            "image/png": "[encoded data removed]",
            "text/plain": [
              "<Figure size 432x288 with 1 Axes>"
            ]
          },
          "metadata": {
            "tags": [],
            "needs_background": "light"
          }
        }
      ]
    },
    {
      "cell_type": "code",
      "metadata": {
        "colab": {
          "base_uri": "https://localhost:8080/",
          "height": 204
        },
        "id": "4mwWz-yR3-Fe",
        "outputId": "8396dac6-9412-480c-9a92-c7e4ea99b740"
      },
      "source": [
        "# 指標値を１つの表にまとめてください。その表と決定領域を利用して結果を簡単に考察\n",
        "indicator_value_data = {'正解率': [accuracy_score(y2_test, y_pred), accuracy_score(y2_test, ls_y_pred), accuracy_score(y2_test, sv_y_pred), accuracy_score(y2_test, dt_y_pred), accuracy_score(y2_test, rf_y_pred)],\n",
        "                         '適合率': [precision_score(y2_test, y_pred), precision_score(y2_test, ls_y_pred), precision_score(y2_test, sv_y_pred), precision_score(y2_test, dt_y_pred), precision_score(y2_test, rf_y_pred)],\n",
        "                        '再現率': [recall_score(y2_test, y_pred), recall_score(y2_test, ls_y_pred), recall_score(y2_test, sv_y_pred), recall_score(y2_test, dt_y_pred), recall_score(y2_test, rf_y_pred)],\n",
        "                        'F値': [f1_score(y2_test, y_pred), f1_score(y2_test, ls_y_pred), f1_score(y2_test, sv_y_pred), f1_score(y2_test, dt_y_pred), f1_score(y2_test, rf_y_pred)]}\n",
        "method = ['最近傍法', 'ロジスティック回帰', 'SVM', '決定木', 'ランダムフォレスト']\n",
        "indicator_value_data_frame = pd.DataFrame(indicator_value_data, index = method)\n",
        "indicator_value_data_frame"
      ],
      "execution_count": 57,
      "outputs": [
        {
          "output_type": "execute_result",
          "data": {
            "text/html": [
              "<div>\n",
              "<style scoped>\n",
              "    .dataframe tbody tr th:only-of-type {\n",
              "        vertical-align: middle;\n",
              "    }\n",
              "\n",
              "    .dataframe tbody tr th {\n",
              "        vertical-align: top;\n",
              "    }\n",
              "\n",
              "    .dataframe thead th {\n",
              "        text-align: right;\n",
              "    }\n",
              "</style>\n",
              "<table border=\"1\" class=\"dataframe\">\n",
              "  <thead>\n",
              "    <tr style=\"text-align: right;\">\n",
              "      <th></th>\n",
              "      <th>正解率</th>\n",
              "      <th>適合率</th>\n",
              "      <th>再現率</th>\n",
              "      <th>F値</th>\n",
              "    </tr>\n",
              "  </thead>\n",
              "  <tbody>\n",
              "    <tr>\n",
              "      <th>最近傍法</th>\n",
              "      <td>0.84</td>\n",
              "      <td>0.692308</td>\n",
              "      <td>1.000000</td>\n",
              "      <td>0.818182</td>\n",
              "    </tr>\n",
              "    <tr>\n",
              "      <th>ロジスティック回帰</th>\n",
              "      <td>0.76</td>\n",
              "      <td>0.600000</td>\n",
              "      <td>1.000000</td>\n",
              "      <td>0.750000</td>\n",
              "    </tr>\n",
              "    <tr>\n",
              "      <th>SVM</th>\n",
              "      <td>0.76</td>\n",
              "      <td>0.615385</td>\n",
              "      <td>0.888889</td>\n",
              "      <td>0.727273</td>\n",
              "    </tr>\n",
              "    <tr>\n",
              "      <th>決定木</th>\n",
              "      <td>0.72</td>\n",
              "      <td>0.571429</td>\n",
              "      <td>0.888889</td>\n",
              "      <td>0.695652</td>\n",
              "    </tr>\n",
              "    <tr>\n",
              "      <th>ランダムフォレスト</th>\n",
              "      <td>0.76</td>\n",
              "      <td>0.615385</td>\n",
              "      <td>0.888889</td>\n",
              "      <td>0.727273</td>\n",
              "    </tr>\n",
              "  </tbody>\n",
              "</table>\n",
              "</div>"
            ],
            "text/plain": [
              "            正解率       適合率       再現率        F値\n",
              "最近傍法       0.84  0.692308  1.000000  0.818182\n",
              "ロジスティック回帰  0.76  0.600000  1.000000  0.750000\n",
              "SVM        0.76  0.615385  0.888889  0.727273\n",
              "決定木        0.72  0.571429  0.888889  0.695652\n",
              "ランダムフォレスト  0.76  0.615385  0.888889  0.727273"
            ]
          },
          "metadata": {
            "tags": []
          },
          "execution_count": 57
        }
      ]
    },
    {
      "cell_type": "markdown",
      "metadata": {
        "id": "VHQStZpDCub5"
      },
      "source": [
        "上記のとおり、ロジスティック回帰のF値が最も高く他の指標も高いためロジスティック回帰が優れていると考察した。\n",
        "\n",
        "但し、適合率に関してはSVMやランダムフォレストの方が高い。"
      ]
    },
    {
      "cell_type": "markdown",
      "metadata": {
        "id": "c3jbCnlzq2lx"
      },
      "source": [
        "公式ドキュメントへのリンクは以下です。それぞれ調整すべき引数（ハイパーパラメータ）がありますが、この課題では扱いません。まずはデフォルトの値で実行してください。\n",
        "\n",
        "\n",
        "・sklearn.neighbors.KNeighborsClassifier — \n",
        "scikit-learn 0.21.3 documentation\n",
        "\n",
        "・sklearn.linear_model.LogisticRegression — scikit-learn 0.21.3 documentation\n",
        "\n",
        "・sklearn.svm.SVC — scikit-learn 0.21.3 documentation\n",
        "\n",
        "・sklearn.tree.DecisionTreeClassifier — scikit-learn 0.21.3 documentation\n",
        "\n",
        "・sklearn.ensemble.RandomForestClassifier — scikit-learn 0.21.3 documentation\n",
        "\n",
        "《実際の問題では？》\n",
        "\n",
        "\n",
        "ハイパーパラメータの調整は パラメータチューニング と呼ばれる工程で、その手法としてグリッドサーチなどが存在します。\n",
        "\n"
      ]
    },
    {
      "cell_type": "markdown",
      "metadata": {
        "id": "k75iUYTvrBvb"
      },
      "source": [
        "【問題9】（アドバンス課題）標準化の有無の比較\n",
        "\n",
        "前処理として標準化を行いましたが、これを行わなかった場合どのような結果が得られるでしょうか。各手法に対しての指標値の表と決定領域の図を作成し比較および考察を行ってください。考察には標準化が機械学習の前処理としてどのような意味があるかを絡めてください。\n",
        "\n"
      ]
    },
    {
      "cell_type": "markdown",
      "metadata": {
        "id": "2QVXDJkarG57"
      },
      "source": [
        "【問題10】（アドバンス課題）すべての目的変数を使用して精度が高い手法\n",
        "\n",
        "\n",
        "ここまではアヤメの種類を減らし2値分類を行ってきましたが、3種類すべてを使った多値分類を行います。学習と推定、評価を行って、最も精度の高い手法を探してください。\n",
        "\n",
        "\n",
        "《多値になることでの変更点》\n",
        "\n",
        "\n",
        "指標値Precision（適合率）、Recall（再現率）、F値はライブラリのパラメータをデフォルトから変更する必要があります。マイクロ平均やマクロ平均という考え方を使います。\n",
        "\n",
        "\n",
        "決定領域を可視化する前述の関数は適切に書き換える必要があります。以下が出力例です。\n",
        "\n",
        "\n",
        "Image from Gyazo\n",
        "\n",
        "\n",
        "ロジスティック回帰やSVMは2値分類を基本とした手法で、多値分類には工夫が必要ですが、scikit-learnでは自動的に判断して処理が行われるため変更は必要ありません。\n",
        "\n"
      ]
    }
  ]
}
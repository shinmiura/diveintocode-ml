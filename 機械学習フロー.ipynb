{
  "nbformat": 4,
  "nbformat_minor": 0,
  "metadata": {
    "colab": {
      "name": "機械学習フロー.ipynb",
      "provenance": [],
      "collapsed_sections": [],
      "mount_file_id": "1hzRzBltnYaoTvHLcyEiLQ6LiTndYHRDe",
      "authorship_tag": "ABX9TyMj3N5mAM0kDj8+Vaxgvcdv",
      "include_colab_link": true
    },
    "kernelspec": {
      "name": "python3",
      "display_name": "Python 3"
    },
    "language_info": {
      "name": "python"
    }
  },
  "cells": [
    {
      "cell_type": "markdown",
      "metadata": {
        "id": "view-in-github",
        "colab_type": "text"
      },
      "source": [
        "<a href=\"https://colab.research.google.com/github/shinmiura/diveintocode-ml/blob/master/%E6%A9%9F%E6%A2%B0%E5%AD%A6%E7%BF%92%E3%83%95%E3%83%AD%E3%83%BC.ipynb\" target=\"_parent\"><img src=\"https://colab.research.google.com/assets/colab-badge.svg\" alt=\"Open In Colab\"/></a>"
      ]
    },
    {
      "cell_type": "markdown",
      "metadata": {
        "id": "MlWfmfcoJ-Er"
      },
      "source": [
        "**1.この課題の目的**\n",
        "\n",
        "・機械学習の実践的な流れを知る\n",
        "\n",
        "・高い汎化性能を持つモデルを完成させる"
      ]
    },
    {
      "cell_type": "markdown",
      "metadata": {
        "id": "XAJtmEMSYfAQ"
      },
      "source": [
        "**どのように学ぶか**\n",
        "\n",
        "丁寧な検証が行える状態にした上で、他者の解法を参考に汎化性能の高いモデル作りを進めます。"
      ]
    },
    {
      "cell_type": "markdown",
      "metadata": {
        "id": "VVUSqqcXKKbj"
      },
      "source": [
        "**2.機械学習フロー**\n",
        "\n",
        "Kaggleの Home Credit Default Risk コンペティションを題材に、機械学習の実践的な流れを学びます。特に適切な 検証 を行い、高い 汎化性能 のあるモデルを完成させることを目指します。"
      ]
    },
    {
      "cell_type": "markdown",
      "metadata": {
        "id": "Kwmn6u8kKS1N"
      },
      "source": [
        "【問題1】クロスバリデーション\n",
        "\n",
        "事前学習期間は検証データを分割しておき、それに対して指標値を計算することで検証を行っていました。しかし、分割の仕方により精度は変化します。実践的には クロスバリデーション を行います。\n",
        "\n",
        "\n",
        "具体的には分割を複数回行い、それぞれに対して学習と検証を行う方法です。複数回の分割を行う関数はscikit-learnにKFoldとして用意されています。\n",
        "\n",
        "事前学習期間の課題で作成したベースラインモデルに対してKFoldクラスによるクロスバリデーションを行うコードを作成し実行してください。\n",
        "\n",
        "sklearn.model_selection.KFold — scikit-learn 0.20.2 documentation"
      ]
    },
    {
      "cell_type": "code",
      "metadata": {
        "id": "BgaCd78-sd3D"
      },
      "source": [
        "#必要なライブラリの読み込み\n",
        "import numpy as np\n",
        "import pandas as pd\n",
        "import matplotlib.pyplot as plt\n",
        "import seaborn as sns\n",
        "import matplotlib.cm as cm\n",
        "%matplotlib inline"
      ],
      "execution_count": 1,
      "outputs": []
    },
    {
      "cell_type": "code",
      "metadata": {
        "id": "FVEng1zXsdpa"
      },
      "source": [
        "# データの読み込み\n",
        "dataset = pd.read_csv(\"/content/drive/MyDrive/DIC/application_train.csv\")"
      ],
      "execution_count": 2,
      "outputs": []
    },
    {
      "cell_type": "code",
      "metadata": {
        "id": "5ff325_NsnLS",
        "colab": {
          "base_uri": "https://localhost:8080/"
        },
        "outputId": "af0e0ff1-6775-482e-ce63-830eae59d0bc"
      },
      "source": [
        "# ダミー変数の作成\n",
        "dataset = pd.get_dummies(dataset)\n",
        "print(dataset.shape)"
      ],
      "execution_count": 3,
      "outputs": [
        {
          "output_type": "stream",
          "text": [
            "(307511, 246)\n"
          ],
          "name": "stdout"
        }
      ]
    },
    {
      "cell_type": "code",
      "metadata": {
        "id": "Y1wuYrKeztrD"
      },
      "source": [
        "# 欠損値のある行と列を0で埋める\n",
        "dataset = dataset.replace(np.nan,0)"
      ],
      "execution_count": 4,
      "outputs": []
    },
    {
      "cell_type": "code",
      "metadata": {
        "id": "gi8QPSlk6ScT"
      },
      "source": [
        "# ターゲット変数と特徴量を定義する\n",
        "target_col = 'TARGET'\n",
        "exclude_cols = ['TARGET', 'SK_ID_CURR']\n",
        "feature_cols = []\n",
        "for col in dataset.columns:\n",
        "  if col not in exclude_cols:\n",
        "    feature_cols.append(col)"
      ],
      "execution_count": 5,
      "outputs": []
    },
    {
      "cell_type": "code",
      "metadata": {
        "id": "TaCz0MUu6Y87"
      },
      "source": [
        "y = dataset[target_col]\n",
        "X = dataset[feature_cols]"
      ],
      "execution_count": 6,
      "outputs": []
    },
    {
      "cell_type": "code",
      "metadata": {
        "id": "dtQ2NTfUOMhH"
      },
      "source": [
        "from sklearn.model_selection import train_test_split"
      ],
      "execution_count": 7,
      "outputs": []
    },
    {
      "cell_type": "code",
      "metadata": {
        "id": "izSMM4B66Zsl"
      },
      "source": [
        "#  モデルのライブラリを読み込み\n",
        "from sklearn.ensemble import RandomForestClassifier"
      ],
      "execution_count": 8,
      "outputs": []
    },
    {
      "cell_type": "code",
      "metadata": {
        "id": "_0pPkGPi7DAQ"
      },
      "source": [
        "# モデルを使って学習　(RandomForest)\n",
        "rf = RandomForestClassifier()"
      ],
      "execution_count": 9,
      "outputs": []
    },
    {
      "cell_type": "code",
      "metadata": {
        "id": "0-UJI5PwI5mw"
      },
      "source": [
        "# クロスバリデーションとグリッドサーチのライブラリをインポート\n",
        "from sklearn.model_selection import GridSearchCV\n",
        "from sklearn.model_selection import cross_val_score"
      ],
      "execution_count": 10,
      "outputs": []
    },
    {
      "cell_type": "code",
      "metadata": {
        "id": "kBYfHVp-yHEF"
      },
      "source": [
        "# クロスバリデーションの実行\n",
        "scores = cross_val_score(rf, X=X, y=y, scoring='roc_auc', cv=5)  # データを何分割にして検証するか指定"
      ],
      "execution_count": 11,
      "outputs": []
    },
    {
      "cell_type": "code",
      "metadata": {
        "colab": {
          "base_uri": "https://localhost:8080/"
        },
        "id": "qoNkciOKywnt",
        "outputId": "913f66d1-163e-42e0-ef04-be79ef1b2924"
      },
      "source": [
        "# 結果の表示\n",
        "print('Cross validation scores : {}'.format(scores))\n",
        "print('Cross validation scores : {:.3f}+-{:.3f}'.format(scores.mean(), scores.std()))"
      ],
      "execution_count": 12,
      "outputs": [
        {
          "output_type": "stream",
          "text": [
            "Cross validation scores : [0.70981941 0.70637157 0.70152476 0.70536473 0.70027052]\n",
            "Cross validation scores : 0.705+-0.003\n"
          ],
          "name": "stdout"
        }
      ]
    },
    {
      "cell_type": "code",
      "metadata": {
        "id": "SFQqk0BeBtvK"
      },
      "source": [
        "# Kfoldライブラリの読み込み\n",
        "from sklearn.model_selection import KFold"
      ],
      "execution_count": 13,
      "outputs": []
    },
    {
      "cell_type": "code",
      "metadata": {
        "id": "ssCVq7qcbcZv"
      },
      "source": [
        "from sklearn.metrics import roc_curve\n",
        "from sklearn.metrics import roc_auc_score"
      ],
      "execution_count": 14,
      "outputs": []
    },
    {
      "cell_type": "code",
      "metadata": {
        "colab": {
          "base_uri": "https://localhost:8080/"
        },
        "id": "Z1WV_QQmCKJ1",
        "outputId": "739cb698-f484-4087-e898-b953117e2698"
      },
      "source": [
        "# 各foldのスコアを保存するリスト\n",
        "scores_auc = []\n",
        "# クロスバリデーションを行う\n",
        "# 学習データを５つに分割し、うち１つをバリデーションデータとすることを、データを変えて繰り返す\n",
        "kf = KFold(n_splits = 5, random_state = None, shuffle = False)\n",
        "count = 0\n",
        "rf = RandomForestClassifier(random_state = 1234)\n",
        "\n",
        "for tr_idx, va_idx in kf.split(X):\n",
        "  count += 1\n",
        "  print('KFold', count, '回目', kf.get_n_splits())\n",
        "  tr_x, va_x = X.iloc[tr_idx], X.iloc[va_idx]\n",
        "  tr_y, va_y = y.iloc[tr_idx], y.iloc[va_idx]\n",
        "\n",
        "  # 　モデルの学習の実行\n",
        "  rf.fit(tr_x, tr_y)\n",
        "  \n",
        "  # バリデーションデータの予測値を確率で出力\n",
        "  y_pred = rf.predict_proba(va_x)[:, 1]\n",
        "  \n",
        "  # バリデーションデータでのスコアの計算\n",
        "  auc = roc_auc_score(va_y, y_pred)\n",
        "  \n",
        "  # そのfoldスコアを保存\n",
        "  scores_auc.append(auc)\n",
        "\n",
        "# 各foldのスコアの平均を出力する\n",
        "auc = np.mean(scores_auc)\n",
        "print('Mean:{:.4f}'.format(auc))"
      ],
      "execution_count": 15,
      "outputs": [
        {
          "output_type": "stream",
          "text": [
            "KFold 1 回目 5\n",
            "KFold 2 回目 5\n",
            "KFold 3 回目 5\n",
            "KFold 4 回目 5\n",
            "KFold 5 回目 5\n",
            "Mean:0.7054\n"
          ],
          "name": "stdout"
        }
      ]
    },
    {
      "cell_type": "code",
      "metadata": {
        "colab": {
          "base_uri": "https://localhost:8080/",
          "height": 204
        },
        "id": "pRwNOEY-okDh",
        "outputId": "81701d69-850d-44f7-f6fb-0b2cf727debe"
      },
      "source": [
        "top_features = rf.feature_importances_.reshape(len(rf.feature_importances_),1)\n",
        "column = np.array(X.columns).reshape(len(rf.feature_importances_),1)\n",
        "feature = pd.DataFrame(np.hstack([column,top_features]), columns=[\"Columns\", \"Top Features\"])\n",
        "feature_sorted = feature.sort_values('Top Features', ascending=False).reset_index()\n",
        "feature_sorted = feature_sorted.drop(\"index\", axis=1)\n",
        "feature_sorted.head()"
      ],
      "execution_count": 16,
      "outputs": [
        {
          "output_type": "execute_result",
          "data": {
            "text/html": [
              "<div>\n",
              "<style scoped>\n",
              "    .dataframe tbody tr th:only-of-type {\n",
              "        vertical-align: middle;\n",
              "    }\n",
              "\n",
              "    .dataframe tbody tr th {\n",
              "        vertical-align: top;\n",
              "    }\n",
              "\n",
              "    .dataframe thead th {\n",
              "        text-align: right;\n",
              "    }\n",
              "</style>\n",
              "<table border=\"1\" class=\"dataframe\">\n",
              "  <thead>\n",
              "    <tr style=\"text-align: right;\">\n",
              "      <th></th>\n",
              "      <th>Columns</th>\n",
              "      <th>Top Features</th>\n",
              "    </tr>\n",
              "  </thead>\n",
              "  <tbody>\n",
              "    <tr>\n",
              "      <th>0</th>\n",
              "      <td>EXT_SOURCE_2</td>\n",
              "      <td>0.0508682</td>\n",
              "    </tr>\n",
              "    <tr>\n",
              "      <th>1</th>\n",
              "      <td>EXT_SOURCE_3</td>\n",
              "      <td>0.0385427</td>\n",
              "    </tr>\n",
              "    <tr>\n",
              "      <th>2</th>\n",
              "      <td>DAYS_BIRTH</td>\n",
              "      <td>0.0344499</td>\n",
              "    </tr>\n",
              "    <tr>\n",
              "      <th>3</th>\n",
              "      <td>DAYS_ID_PUBLISH</td>\n",
              "      <td>0.034082</td>\n",
              "    </tr>\n",
              "    <tr>\n",
              "      <th>4</th>\n",
              "      <td>DAYS_REGISTRATION</td>\n",
              "      <td>0.0332206</td>\n",
              "    </tr>\n",
              "  </tbody>\n",
              "</table>\n",
              "</div>"
            ],
            "text/plain": [
              "             Columns Top Features\n",
              "0       EXT_SOURCE_2    0.0508682\n",
              "1       EXT_SOURCE_3    0.0385427\n",
              "2         DAYS_BIRTH    0.0344499\n",
              "3    DAYS_ID_PUBLISH     0.034082\n",
              "4  DAYS_REGISTRATION    0.0332206"
            ]
          },
          "metadata": {
            "tags": []
          },
          "execution_count": 16
        }
      ]
    },
    {
      "cell_type": "code",
      "metadata": {
        "id": "69s3qdgIxDNe"
      },
      "source": [
        "feature_sorted[\"Top Features\"] = feature_sorted[\"Top Features\"].astype('float64')\n",
        "list_col = []\n",
        "for i in range(len(feature_sorted)):\n",
        "    a = feature_sorted.iloc[i,0]\n",
        "    b = feature_sorted.iloc[i,1]\n",
        "    if b >= 0.010:\n",
        "        list_col.append(a)\n",
        "\n",
        "list_col\n",
        "X = X[list_col]"
      ],
      "execution_count": 30,
      "outputs": []
    },
    {
      "cell_type": "code",
      "metadata": {
        "colab": {
          "base_uri": "https://localhost:8080/",
          "height": 291
        },
        "id": "cmH_HCgLiYNE",
        "outputId": "0a9e3e74-5acb-44ac-aea1-c46f7f83a5fc"
      },
      "source": [
        "feature_sorted.plot(kind = 'bar')"
      ],
      "execution_count": 17,
      "outputs": [
        {
          "output_type": "execute_result",
          "data": {
            "text/plain": [
              "<matplotlib.axes._subplots.AxesSubplot at 0x7fad37ca2690>"
            ]
          },
          "metadata": {
            "tags": []
          },
          "execution_count": 17
        },
        {
          "output_type": "display_data",
          "data": {
            "image/png": "[encoded data removed]",
            "text/plain": [
              "<Figure size 432x288 with 1 Axes>"
            ]
          },
          "metadata": {
            "tags": [],
            "needs_background": "light"
          }
        }
      ]
    },
    {
      "cell_type": "markdown",
      "metadata": {
        "id": "N1N_DhmvKlzq"
      },
      "source": [
        "【問題2】グリッドサーチ\n",
        "\n",
        "これまで分類器のパラメータは基本的にデフォルトの設定を使用していました。パラメータの詳細は今後のSprintで学んでいくことになりますが、パラメータは状況に応じて最適なものを選ぶ必要があります。パラメータを探索するために グリッドサーチ と呼ばれる総当たり的手法が一般的に利用されます。\n",
        "\n",
        "\n",
        "グリッドサーチをパイプラインの中に組み込みましょう。"
      ]
    },
    {
      "cell_type": "code",
      "metadata": {
        "id": "HsP6bzwwdsDT"
      },
      "source": [
        "rf2 = RandomForestClassifier()"
      ],
      "execution_count": 18,
      "outputs": []
    },
    {
      "cell_type": "code",
      "metadata": {
        "id": "PT5uWd20K3Ht",
        "colab": {
          "base_uri": "https://localhost:8080/"
        },
        "outputId": "d1151707-63e2-4281-b609-808b277a7eda"
      },
      "source": [
        "params = {'n_estimators':[15, 30], 'max_depth':[10, 30]}\n",
        "rf = GridSearchCV(rf2, param_grid = params, verbose = 1, cv = 5, scoring='roc_auc')\n",
        "rf.fit(X, y)"
      ],
      "execution_count": 19,
      "outputs": [
        {
          "output_type": "stream",
          "text": [
            "Fitting 5 folds for each of 4 candidates, totalling 20 fits\n"
          ],
          "name": "stdout"
        },
        {
          "output_type": "stream",
          "text": [
            "[Parallel(n_jobs=1)]: Using backend SequentialBackend with 1 concurrent workers.\n",
            "[Parallel(n_jobs=1)]: Done  20 out of  20 | elapsed:  6.3min finished\n"
          ],
          "name": "stderr"
        },
        {
          "output_type": "execute_result",
          "data": {
            "text/plain": [
              "GridSearchCV(cv=5, error_score=nan,\n",
              "             estimator=RandomForestClassifier(bootstrap=True, ccp_alpha=0.0,\n",
              "                                              class_weight=None,\n",
              "                                              criterion='gini', max_depth=None,\n",
              "                                              max_features='auto',\n",
              "                                              max_leaf_nodes=None,\n",
              "                                              max_samples=None,\n",
              "                                              min_impurity_decrease=0.0,\n",
              "                                              min_impurity_split=None,\n",
              "                                              min_samples_leaf=1,\n",
              "                                              min_samples_split=2,\n",
              "                                              min_weight_fraction_leaf=0.0,\n",
              "                                              n_estimators=100, n_jobs=None,\n",
              "                                              oob_score=False,\n",
              "                                              random_state=None, verbose=0,\n",
              "                                              warm_start=False),\n",
              "             iid='deprecated', n_jobs=None,\n",
              "             param_grid={'max_depth': [10, 30], 'n_estimators': [15, 30]},\n",
              "             pre_dispatch='2*n_jobs', refit=True, return_train_score=False,\n",
              "             scoring='roc_auc', verbose=1)"
            ]
          },
          "metadata": {
            "tags": []
          },
          "execution_count": 19
        }
      ]
    },
    {
      "cell_type": "code",
      "metadata": {
        "colab": {
          "base_uri": "https://localhost:8080/"
        },
        "id": "-YDYmlyNBCl1",
        "outputId": "db31705c-7b51-492a-c145-2d971a207b5e"
      },
      "source": [
        "# 最も平均精度が良いハイパーパラメータの組み合わせを確認\n",
        "rf.best_params_"
      ],
      "execution_count": 20,
      "outputs": [
        {
          "output_type": "execute_result",
          "data": {
            "text/plain": [
              "{'max_depth': 10, 'n_estimators': 30}"
            ]
          },
          "metadata": {
            "tags": []
          },
          "execution_count": 20
        }
      ]
    },
    {
      "cell_type": "markdown",
      "metadata": {
        "id": "TqtsJ_UVK8-v"
      },
      "source": [
        "【問題3】Kaggle Notebooksからの調査\n",
        "\n",
        "KaggleのNotebooksから自身にはなかったアイデアを見つけ出して、列挙してください。\n"
      ]
    },
    {
      "cell_type": "markdown",
      "metadata": {
        "id": "2zhawFwqkKRM"
      },
      "source": [
        "〈自身にはなかったアイデア〉\n",
        "\n",
        "●カテゴリデータの各列におけるユニークなエントリーの数を数を確認していた。\n",
        "その結果、ほとんどのカテゴリー変数は、ユニークなエントリの数が比較的少なかったため、それらのカテゴリー変数を処理する方法を探すというアプローチをとっていた。\n",
        "\n",
        "●one-hot encodingの唯一の欠点が、多くのカテゴリーを持つカテゴリー変数では、特徴（データの次元）の数が爆発的に増加する可能性があることであるため、当該問題に対処すべくone-hot encodingを行った後に、PCAなどの次元削減手法を用いて、次元数を減らすことができる（ただし、情報の保持には注意が必要です）旨を紹介していた。\n",
        "\n",
        "●異常値の重要性の有無を確認していた。その上で、重要性があったため実際にこれらの値を埋めたかどうかを機械学習モデルに伝えるという明確な意志を持って処理していた。具体的な解決策として、異常値をnot a number (np.nan)で埋め、その値が異常値かどうかを示すブール値の列を新たに作成していた。trainデータにそのような処理をしたらtestデータにも同様にnp.nanで埋めていた。\n",
        "\n",
        "●.corrデータフレーム法を使って、すべての変数とターゲットの間のピアソン相関係数を計算していた。\n",
        "\n",
        "●年齢がターゲットに与える影響を可視化するために、ターゲットの値ごとに色分けしたカーネル密度推定図（KDE）を作成していた。\n",
        "\n",
        "●年齢層ごとのFailure to Repay(%)を算出していた。\n",
        "\n",
        "●新しい変数を用意し、そのいくつかは元の特徴よりもターゲットとの相関が大きくなっていたため、機械学習モデルを構築する際には、これらの特徴を使用した場合と使用しない場合を試し、実際にモデルの学習に役立つかどうかを判断する方法を採っていた。\n",
        "\n",
        "●例えば、CREDIT_INCOME_PERCENT：顧客の収入に対する与信額の割合、ANNUITY_INCOME_PERCENT: 顧客の収入に対するローンの年金額の割合、などの新たな特徴量を作っていた。\n",
        "\n",
        "●ランダムフォレストに100本の木を使用すると強力なモデルになるということで木の数=100本に設定していた。自分の場合は、処理時間が長くなりそうなので、最初から木の数が多くなりすぎないことを前提としてしまっていた。\n",
        "\n",
        "●feature_importanceというものを用いて各変数の重要性を確かめていた。その結果、最も重要な特徴はEXT_SOURCEとDAYS_BIRTHであると予想していた。\n"
      ]
    },
    {
      "cell_type": "markdown",
      "metadata": {
        "id": "5TJTSspvLApo"
      },
      "source": [
        "【問題4】高い汎化性能のモデル\n",
        "\n",
        "問題３で見つけたアイデアと、独自のアイデアを組み合わせ高い汎化性能のモデル作りを進めてください。\n",
        "\n",
        "その過程として、何を行うことで、クロスバリデーションの結果がどの程度変化したかを表にまとめてください。\n"
      ]
    },
    {
      "cell_type": "markdown",
      "metadata": {
        "id": "4jWkwlUE-seF"
      },
      "source": [
        "上記問題３で見つけたランダムフォレストに100本の木を使用数するアイディアを採用する。\n",
        "それに独自のアイディアとして、木の深さを10or30としたものを少ない方の10でモデル作成を以下に実施する。"
      ]
    },
    {
      "cell_type": "code",
      "metadata": {
        "id": "iloOjoy9Fwh5"
      },
      "source": [
        "dataset['age'] = abs(dataset['DAYS_BIRTH']/365).round().astype(int)"
      ],
      "execution_count": 21,
      "outputs": []
    },
    {
      "cell_type": "code",
      "metadata": {
        "id": "XKENyUJlEk0i"
      },
      "source": [
        "target_col4 = 'TARGET'\n",
        "feature_cols4 = ['age','REG_CITY_NOT_WORK_CITY']"
      ],
      "execution_count": 22,
      "outputs": []
    },
    {
      "cell_type": "code",
      "metadata": {
        "id": "DpxOpQsnEzE9"
      },
      "source": [
        "y4 = dataset[target_col4]\n",
        "X4 = dataset[feature_cols4]"
      ],
      "execution_count": 23,
      "outputs": []
    },
    {
      "cell_type": "code",
      "metadata": {
        "colab": {
          "base_uri": "https://localhost:8080/"
        },
        "id": "S4JwnB_s3TrY",
        "outputId": "46821d65-a7c2-4daf-bc76-5d9c89cf37cd"
      },
      "source": [
        "# 各foldのスコアを保存するリスト\n",
        "scores_auc4 = []\n",
        "# クロスバリデーションを行う\n",
        "# 学習データを５つに分割し、うち１つをバリデーションデータとすることを、データを変えて繰り返す\n",
        "kf = KFold(n_splits = 5, random_state = None, shuffle = False)\n",
        "count = 0\n",
        "rf4 = RandomForestClassifier(n_estimators=100, max_depth= 10, random_state = 1234)\n",
        "\n",
        "for tr_idx, va_idx in kf.split(X4):\n",
        "  count += 1\n",
        "  print('KFold', count, '回目', kf.get_n_splits())\n",
        "  tr_x4, va_x4 = X4.iloc[tr_idx], X4.iloc[va_idx]\n",
        "  tr_y4, va_y4 = y4.iloc[tr_idx], y4.iloc[va_idx]\n",
        "\n",
        "  # 　モデルの学習の実行\n",
        "  rf4.fit(tr_x4, tr_y4)\n",
        "  \n",
        "  # バリデーションデータの予測値を確率で出力\n",
        "  y_pred4 = rf4.predict_proba(va_x4)[:, 1]\n",
        "  \n",
        "  # バリデーションデータでのスコアの計算\n",
        "  auc = roc_auc_score(va_y4, y_pred4)\n",
        "  \n",
        "  # そのfoldスコアを保存\n",
        "  scores_auc4.append(auc)\n",
        "\n",
        "# 各foldのスコアの平均を出力する\n",
        "auc4 = np.mean(scores_auc4)\n",
        "print('Mean:{:.4f}'.format(auc4))"
      ],
      "execution_count": 24,
      "outputs": [
        {
          "output_type": "stream",
          "text": [
            "KFold 1 回目 5\n",
            "KFold 2 回目 5\n",
            "KFold 3 回目 5\n",
            "KFold 4 回目 5\n",
            "KFold 5 回目 5\n",
            "Mean:0.5879\n"
          ],
          "name": "stdout"
        }
      ]
    },
    {
      "cell_type": "markdown",
      "metadata": {
        "id": "Npcu1ln4iA1s"
      },
      "source": [
        "feature importanceを用いて改善を試みる。"
      ]
    },
    {
      "cell_type": "code",
      "metadata": {
        "id": "jaXKyiZTXVhY"
      },
      "source": [
        "# テストデータの読み込み\n",
        "dataset_test = pd.read_csv(\"/content/drive/MyDrive/DIC/application_test.csv\")"
      ],
      "execution_count": 31,
      "outputs": []
    },
    {
      "cell_type": "code",
      "metadata": {
        "id": "Uheq_hhPxK9L"
      },
      "source": [
        "dataset_test = dataset_test[list_col]"
      ],
      "execution_count": 32,
      "outputs": []
    },
    {
      "cell_type": "code",
      "metadata": {
        "colab": {
          "base_uri": "https://localhost:8080/"
        },
        "id": "pikJZZssaLpQ",
        "outputId": "e5c56d1a-b2ae-4116-a374-5882cb71a07d"
      },
      "source": [
        "# ダミー変数の作成\n",
        "dataset_test = pd.get_dummies(dataset_test)\n",
        "print(dataset_test.shape)"
      ],
      "execution_count": 33,
      "outputs": [
        {
          "output_type": "stream",
          "text": [
            "(48744, 19)\n"
          ],
          "name": "stdout"
        }
      ]
    },
    {
      "cell_type": "code",
      "metadata": {
        "id": "KOqJko3IaPfS"
      },
      "source": [
        "# 欠損値のある行と列を0で埋める\n",
        "dataset_test = dataset_test.replace(np.nan,0)"
      ],
      "execution_count": 34,
      "outputs": []
    },
    {
      "cell_type": "code",
      "metadata": {
        "colab": {
          "base_uri": "https://localhost:8080/",
          "height": 238
        },
        "id": "yfsW-ox4aX3f",
        "outputId": "eb67ebab-cbf8-4a2e-c3d5-32eed7a62016"
      },
      "source": [
        "# ndarrayへの変換(∵scikit-learnはNumPyを想定して作られているが、これまでのデータ分析はPandasのDataFrameを使用してきたため)\n",
        "X_dataset_test = np.array(dataset_test)\n",
        "display(X_dataset_test)"
      ],
      "execution_count": 35,
      "outputs": [
        {
          "output_type": "display_data",
          "data": {
            "text/plain": [
              "array([[ 7.89654351e-01,  1.59519540e-01, -1.92410000e+04, ...,\n",
              "         0.00000000e+00,  0.00000000e+00,  2.00000000e+00],\n",
              "       [ 2.91655532e-01,  4.32961667e-01, -1.80640000e+04, ...,\n",
              "         0.00000000e+00,  0.00000000e+00,  2.00000000e+00],\n",
              "       [ 6.99786830e-01,  6.10991328e-01, -2.00380000e+04, ...,\n",
              "         0.00000000e+00,  5.00000000e+00,  2.00000000e+00],\n",
              "       ...,\n",
              "       [ 6.32769551e-01,  2.83711883e-01, -1.59220000e+04, ...,\n",
              "         0.00000000e+00,  4.00000000e+00,  3.00000000e+00],\n",
              "       [ 4.45700983e-01,  5.95456203e-01, -1.39680000e+04, ...,\n",
              "         0.00000000e+00,  0.00000000e+00,  2.00000000e+00],\n",
              "       [ 4.56540667e-01,  2.72133684e-01, -1.39620000e+04, ...,\n",
              "         0.00000000e+00,  2.20000000e+01,  2.00000000e+00]])"
            ]
          },
          "metadata": {
            "tags": []
          }
        }
      ]
    },
    {
      "cell_type": "code",
      "metadata": {
        "colab": {
          "base_uri": "https://localhost:8080/",
          "height": 396
        },
        "id": "F9DBsnbXamKb",
        "outputId": "027c9e9d-0535-4263-f5ed-37ae7d5d579b"
      },
      "source": [
        "# テストデータに対してRandomForestで推定\n",
        "rf_pred_submission = rf.predict(X_dataset_test)\n",
        "print(rf_pred_submission.shape)\n",
        "print('ランダムフォレストの推定値：{}'.format(rf_pred_submission))"
      ],
      "execution_count": 37,
      "outputs": [
        {
          "output_type": "error",
          "ename": "ValueError",
          "evalue": "ignored",
          "traceback": [
            "\u001b[0;31m---------------------------------------------------------------------------\u001b[0m",
            "\u001b[0;31mValueError\u001b[0m                                Traceback (most recent call last)",
            "\u001b[0;32m<ipython-input-37-dc8d3e2fe025>\u001b[0m in \u001b[0;36m<module>\u001b[0;34m()\u001b[0m\n\u001b[1;32m      1\u001b[0m \u001b[0;31m# テストデータに対してRandomForestで推定\u001b[0m\u001b[0;34m\u001b[0m\u001b[0;34m\u001b[0m\u001b[0;34m\u001b[0m\u001b[0m\n\u001b[0;32m----> 2\u001b[0;31m \u001b[0mrf_pred_submission\u001b[0m \u001b[0;34m=\u001b[0m \u001b[0mrf\u001b[0m\u001b[0;34m.\u001b[0m\u001b[0mpredict\u001b[0m\u001b[0;34m(\u001b[0m\u001b[0mX_dataset_test\u001b[0m\u001b[0;34m)\u001b[0m\u001b[0;34m\u001b[0m\u001b[0;34m\u001b[0m\u001b[0m\n\u001b[0m\u001b[1;32m      3\u001b[0m \u001b[0mprint\u001b[0m\u001b[0;34m(\u001b[0m\u001b[0mrf_pred_submission\u001b[0m\u001b[0;34m.\u001b[0m\u001b[0mshape\u001b[0m\u001b[0;34m)\u001b[0m\u001b[0;34m\u001b[0m\u001b[0;34m\u001b[0m\u001b[0m\n\u001b[1;32m      4\u001b[0m \u001b[0mprint\u001b[0m\u001b[0;34m(\u001b[0m\u001b[0;34m'ランダムフォレストの推定値：{}'\u001b[0m\u001b[0;34m.\u001b[0m\u001b[0mformat\u001b[0m\u001b[0;34m(\u001b[0m\u001b[0mrf_pred_submission\u001b[0m\u001b[0;34m)\u001b[0m\u001b[0;34m)\u001b[0m\u001b[0;34m\u001b[0m\u001b[0;34m\u001b[0m\u001b[0m\n",
            "\u001b[0;32m/usr/local/lib/python3.7/dist-packages/sklearn/utils/metaestimators.py\u001b[0m in \u001b[0;36m<lambda>\u001b[0;34m(*args, **kwargs)\u001b[0m\n\u001b[1;32m    114\u001b[0m \u001b[0;34m\u001b[0m\u001b[0m\n\u001b[1;32m    115\u001b[0m         \u001b[0;31m# lambda, but not partial, allows help() to work with update_wrapper\u001b[0m\u001b[0;34m\u001b[0m\u001b[0;34m\u001b[0m\u001b[0;34m\u001b[0m\u001b[0m\n\u001b[0;32m--> 116\u001b[0;31m         \u001b[0mout\u001b[0m \u001b[0;34m=\u001b[0m \u001b[0;32mlambda\u001b[0m \u001b[0;34m*\u001b[0m\u001b[0margs\u001b[0m\u001b[0;34m,\u001b[0m \u001b[0;34m**\u001b[0m\u001b[0mkwargs\u001b[0m\u001b[0;34m:\u001b[0m \u001b[0mself\u001b[0m\u001b[0;34m.\u001b[0m\u001b[0mfn\u001b[0m\u001b[0;34m(\u001b[0m\u001b[0mobj\u001b[0m\u001b[0;34m,\u001b[0m \u001b[0;34m*\u001b[0m\u001b[0margs\u001b[0m\u001b[0;34m,\u001b[0m \u001b[0;34m**\u001b[0m\u001b[0mkwargs\u001b[0m\u001b[0;34m)\u001b[0m\u001b[0;34m\u001b[0m\u001b[0;34m\u001b[0m\u001b[0m\n\u001b[0m\u001b[1;32m    117\u001b[0m         \u001b[0;31m# update the docstring of the returned function\u001b[0m\u001b[0;34m\u001b[0m\u001b[0;34m\u001b[0m\u001b[0;34m\u001b[0m\u001b[0m\n\u001b[1;32m    118\u001b[0m         \u001b[0mupdate_wrapper\u001b[0m\u001b[0;34m(\u001b[0m\u001b[0mout\u001b[0m\u001b[0;34m,\u001b[0m \u001b[0mself\u001b[0m\u001b[0;34m.\u001b[0m\u001b[0mfn\u001b[0m\u001b[0;34m)\u001b[0m\u001b[0;34m\u001b[0m\u001b[0;34m\u001b[0m\u001b[0m\n",
            "\u001b[0;32m/usr/local/lib/python3.7/dist-packages/sklearn/model_selection/_search.py\u001b[0m in \u001b[0;36mpredict\u001b[0;34m(self, X)\u001b[0m\n\u001b[1;32m    475\u001b[0m         \"\"\"\n\u001b[1;32m    476\u001b[0m         \u001b[0mself\u001b[0m\u001b[0;34m.\u001b[0m\u001b[0m_check_is_fitted\u001b[0m\u001b[0;34m(\u001b[0m\u001b[0;34m'predict'\u001b[0m\u001b[0;34m)\u001b[0m\u001b[0;34m\u001b[0m\u001b[0;34m\u001b[0m\u001b[0m\n\u001b[0;32m--> 477\u001b[0;31m         \u001b[0;32mreturn\u001b[0m \u001b[0mself\u001b[0m\u001b[0;34m.\u001b[0m\u001b[0mbest_estimator_\u001b[0m\u001b[0;34m.\u001b[0m\u001b[0mpredict\u001b[0m\u001b[0;34m(\u001b[0m\u001b[0mX\u001b[0m\u001b[0;34m)\u001b[0m\u001b[0;34m\u001b[0m\u001b[0;34m\u001b[0m\u001b[0m\n\u001b[0m\u001b[1;32m    478\u001b[0m \u001b[0;34m\u001b[0m\u001b[0m\n\u001b[1;32m    479\u001b[0m     \u001b[0;34m@\u001b[0m\u001b[0mif_delegate_has_method\u001b[0m\u001b[0;34m(\u001b[0m\u001b[0mdelegate\u001b[0m\u001b[0;34m=\u001b[0m\u001b[0;34m(\u001b[0m\u001b[0;34m'best_estimator_'\u001b[0m\u001b[0;34m,\u001b[0m \u001b[0;34m'estimator'\u001b[0m\u001b[0;34m)\u001b[0m\u001b[0;34m)\u001b[0m\u001b[0;34m\u001b[0m\u001b[0;34m\u001b[0m\u001b[0m\n",
            "\u001b[0;32m/usr/local/lib/python3.7/dist-packages/sklearn/ensemble/_forest.py\u001b[0m in \u001b[0;36mpredict\u001b[0;34m(self, X)\u001b[0m\n\u001b[1;32m    610\u001b[0m             \u001b[0mThe\u001b[0m \u001b[0mpredicted\u001b[0m \u001b[0mclasses\u001b[0m\u001b[0;34m.\u001b[0m\u001b[0;34m\u001b[0m\u001b[0;34m\u001b[0m\u001b[0m\n\u001b[1;32m    611\u001b[0m         \"\"\"\n\u001b[0;32m--> 612\u001b[0;31m         \u001b[0mproba\u001b[0m \u001b[0;34m=\u001b[0m \u001b[0mself\u001b[0m\u001b[0;34m.\u001b[0m\u001b[0mpredict_proba\u001b[0m\u001b[0;34m(\u001b[0m\u001b[0mX\u001b[0m\u001b[0;34m)\u001b[0m\u001b[0;34m\u001b[0m\u001b[0;34m\u001b[0m\u001b[0m\n\u001b[0m\u001b[1;32m    613\u001b[0m \u001b[0;34m\u001b[0m\u001b[0m\n\u001b[1;32m    614\u001b[0m         \u001b[0;32mif\u001b[0m \u001b[0mself\u001b[0m\u001b[0;34m.\u001b[0m\u001b[0mn_outputs_\u001b[0m \u001b[0;34m==\u001b[0m \u001b[0;36m1\u001b[0m\u001b[0;34m:\u001b[0m\u001b[0;34m\u001b[0m\u001b[0;34m\u001b[0m\u001b[0m\n",
            "\u001b[0;32m/usr/local/lib/python3.7/dist-packages/sklearn/ensemble/_forest.py\u001b[0m in \u001b[0;36mpredict_proba\u001b[0;34m(self, X)\u001b[0m\n\u001b[1;32m    654\u001b[0m         \u001b[0mcheck_is_fitted\u001b[0m\u001b[0;34m(\u001b[0m\u001b[0mself\u001b[0m\u001b[0;34m)\u001b[0m\u001b[0;34m\u001b[0m\u001b[0;34m\u001b[0m\u001b[0m\n\u001b[1;32m    655\u001b[0m         \u001b[0;31m# Check data\u001b[0m\u001b[0;34m\u001b[0m\u001b[0;34m\u001b[0m\u001b[0;34m\u001b[0m\u001b[0m\n\u001b[0;32m--> 656\u001b[0;31m         \u001b[0mX\u001b[0m \u001b[0;34m=\u001b[0m \u001b[0mself\u001b[0m\u001b[0;34m.\u001b[0m\u001b[0m_validate_X_predict\u001b[0m\u001b[0;34m(\u001b[0m\u001b[0mX\u001b[0m\u001b[0;34m)\u001b[0m\u001b[0;34m\u001b[0m\u001b[0;34m\u001b[0m\u001b[0m\n\u001b[0m\u001b[1;32m    657\u001b[0m \u001b[0;34m\u001b[0m\u001b[0m\n\u001b[1;32m    658\u001b[0m         \u001b[0;31m# Assign chunk of trees to jobs\u001b[0m\u001b[0;34m\u001b[0m\u001b[0;34m\u001b[0m\u001b[0;34m\u001b[0m\u001b[0m\n",
            "\u001b[0;32m/usr/local/lib/python3.7/dist-packages/sklearn/ensemble/_forest.py\u001b[0m in \u001b[0;36m_validate_X_predict\u001b[0;34m(self, X)\u001b[0m\n\u001b[1;32m    410\u001b[0m         \u001b[0mcheck_is_fitted\u001b[0m\u001b[0;34m(\u001b[0m\u001b[0mself\u001b[0m\u001b[0;34m)\u001b[0m\u001b[0;34m\u001b[0m\u001b[0;34m\u001b[0m\u001b[0m\n\u001b[1;32m    411\u001b[0m \u001b[0;34m\u001b[0m\u001b[0m\n\u001b[0;32m--> 412\u001b[0;31m         \u001b[0;32mreturn\u001b[0m \u001b[0mself\u001b[0m\u001b[0;34m.\u001b[0m\u001b[0mestimators_\u001b[0m\u001b[0;34m[\u001b[0m\u001b[0;36m0\u001b[0m\u001b[0;34m]\u001b[0m\u001b[0;34m.\u001b[0m\u001b[0m_validate_X_predict\u001b[0m\u001b[0;34m(\u001b[0m\u001b[0mX\u001b[0m\u001b[0;34m,\u001b[0m \u001b[0mcheck_input\u001b[0m\u001b[0;34m=\u001b[0m\u001b[0;32mTrue\u001b[0m\u001b[0;34m)\u001b[0m\u001b[0;34m\u001b[0m\u001b[0;34m\u001b[0m\u001b[0m\n\u001b[0m\u001b[1;32m    413\u001b[0m \u001b[0;34m\u001b[0m\u001b[0m\n\u001b[1;32m    414\u001b[0m     \u001b[0;34m@\u001b[0m\u001b[0mproperty\u001b[0m\u001b[0;34m\u001b[0m\u001b[0;34m\u001b[0m\u001b[0m\n",
            "\u001b[0;32m/usr/local/lib/python3.7/dist-packages/sklearn/tree/_classes.py\u001b[0m in \u001b[0;36m_validate_X_predict\u001b[0;34m(self, X, check_input)\u001b[0m\n\u001b[1;32m    389\u001b[0m                              \u001b[0;34m\"match the input. Model n_features is %s and \"\u001b[0m\u001b[0;34m\u001b[0m\u001b[0;34m\u001b[0m\u001b[0m\n\u001b[1;32m    390\u001b[0m                              \u001b[0;34m\"input n_features is %s \"\u001b[0m\u001b[0;34m\u001b[0m\u001b[0;34m\u001b[0m\u001b[0m\n\u001b[0;32m--> 391\u001b[0;31m                              % (self.n_features_, n_features))\n\u001b[0m\u001b[1;32m    392\u001b[0m \u001b[0;34m\u001b[0m\u001b[0m\n\u001b[1;32m    393\u001b[0m         \u001b[0;32mreturn\u001b[0m \u001b[0mX\u001b[0m\u001b[0;34m\u001b[0m\u001b[0;34m\u001b[0m\u001b[0m\n",
            "\u001b[0;31mValueError\u001b[0m: Number of features of the model must match the input. Model n_features is 244 and input n_features is 19 "
          ]
        }
      ]
    },
    {
      "cell_type": "markdown",
      "metadata": {
        "id": "dua5ugCzC57m"
      },
      "source": [
        "【問題5】最終的なモデルの選定\n",
        "\n",
        "最終的にこれは良いというモデルを選び、推定した結果をKaggleに提出してスコアを確認してください。どういったアイデアを取り入れ、どの程度のスコアになったかを記載してください。\n",
        "\n"
      ]
    }
  ]
}
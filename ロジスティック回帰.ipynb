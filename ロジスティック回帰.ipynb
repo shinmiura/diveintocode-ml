{
  "nbformat": 4,
  "nbformat_minor": 0,
  "metadata": {
    "colab": {
      "name": "ロジスティック回帰.ipynb",
      "provenance": [],
      "collapsed_sections": [],
      "mount_file_id": "1ZUj1hnoMZ36CHGNf_w6r7wzUByu-yh6w",
      "authorship_tag": "ABX9TyPJ8rgdjxnJshPVbmKY6Wfx",
      "include_colab_link": true
    },
    "kernelspec": {
      "name": "python3",
      "display_name": "Python 3"
    },
    "language_info": {
      "name": "python"
    }
  },
  "cells": [
    {
      "cell_type": "markdown",
      "metadata": {
        "id": "view-in-github",
        "colab_type": "text"
      },
      "source": [
        "<a href=\"https://colab.research.google.com/github/shinmiura/diveintocode-ml/blob/master/%E3%83%AD%E3%82%B8%E3%82%B9%E3%83%86%E3%82%A3%E3%83%83%E3%82%AF%E5%9B%9E%E5%B8%B0.ipynb\" target=\"_parent\"><img src=\"https://colab.research.google.com/assets/colab-badge.svg\" alt=\"Open In Colab\"/></a>"
      ]
    },
    {
      "cell_type": "markdown",
      "metadata": {
        "id": "hBomJ0T0ZB0D"
      },
      "source": [
        "**Sprintの目的**\n",
        "\n",
        "・スクラッチを通してロジスティック回帰を理解する\n",
        "\n",
        "・分類問題についての基礎を学ぶ"
      ]
    },
    {
      "cell_type": "markdown",
      "metadata": {
        "id": "1EedTMq-ZQBF"
      },
      "source": [
        "**どのように学ぶか**\n",
        "\n",
        "スクラッチでロジスティック回帰を実装した後、学習と検証を行なっていきます。"
      ]
    },
    {
      "cell_type": "markdown",
      "metadata": {
        "id": "mobaTix4O4iq"
      },
      "source": [
        "【ロジスティック回帰の前提】\n",
        "\n",
        "1. 説明変数(x)は連続値 or 離散値で、目的変数(y)は離散値である。\n",
        "2. 予測値()は、ベルヌーイ分布 / 二項分布(平均np、分散np(1-p))に従う。"
      ]
    },
    {
      "cell_type": "markdown",
      "metadata": {
        "id": "LTCL__10ZbJH"
      },
      "source": [
        "# 2.ロジスティック回帰スクラッチ\n",
        "\n",
        "ロジスティック回帰のクラスをスクラッチで作成していきます。NumPyなど最低限のライブラリのみを使いアルゴリズムを実装していきます。\n",
        "\n",
        "\n",
        "以下に雛形を用意してあります。このScratchLogisticRegressionクラスにコードを書き加えていってください。推定関係のメソッドは線形回帰と異なり、ラベルを出力するpredictメソッドと、確率を出力するpredict_probaメソッドの2種類を作成します。"
      ]
    },
    {
      "cell_type": "code",
      "metadata": {
        "id": "NHYFYyjqPb4a"
      },
      "source": [
        "# 必要なライブラリの読み込み\n",
        "import numpy as np\n",
        "import matplotlib.pyplot as plt\n",
        "import pandas as pd\n",
        "from sklearn.preprocessing import StandardScaler\n",
        "from sklearn.model_selection import train_test_split"
      ],
      "execution_count": 1,
      "outputs": []
    },
    {
      "cell_type": "code",
      "metadata": {
        "id": "zZ1A06SVZPvJ"
      },
      "source": [
        "# 雛形\n",
        "\n",
        "class ScratchLogisticRegression():\n",
        "    \"\"\"\n",
        "    ロジスティック回帰のスクラッチ実装\n",
        "    Parameters\n",
        "    ----------\n",
        "    num_iter : int\n",
        "      イテレーション数\n",
        "    lr : float\n",
        "      学習率\n",
        "    no_bias : bool\n",
        "      バイアス項を入れない場合はTrue\n",
        "    verbose : bool\n",
        "      学習過程を出力する場合はTrue\n",
        "    Attributes\n",
        "    ----------\n",
        "    self.coef_ : 次の形のndarray, shape (n_features,)\n",
        "      パラメータ\n",
        "    self.loss : 次の形のndarray, shape (self.iter,)\n",
        "      訓練データに対する損失の記録\n",
        "    self.val_loss : 次の形のndarray, shape (self.iter,)\n",
        "      検証データに対する損失の記録\n",
        "    \"\"\"\n",
        "    def __init__(self, num_iter, lr, bias, verbose, lamb = 0.1):\n",
        "        # ハイパーパラメータを属性として記録\n",
        "        self.iter = num_iter\n",
        "        self.lr = lr\n",
        "        self.bias = bias\n",
        "        self.verbose = verbose\n",
        "        self.lamb = lamb\n",
        "        # 損失を記録する配列を用意\n",
        "        self.loss = np.zeros(self.iter + 1)\n",
        "        self.val_loss = np.zeros(self.iter + 1)\n",
        "        # θの初期化\n",
        "        self.theta = np.random.rand(X.shape[1]+1)\n",
        "\n",
        "    def fit(self, X, y, X_val=None, y_val=None):\n",
        "        \"\"\"\n",
        "        ロジスティック回帰を学習する。検証データが入力された場合はそれに対する損失と精度もイテレーションごとに計算する。\n",
        "        Parameters\n",
        "        ----------\n",
        "        X : 次の形のndarray, shape (n_samples, n_features)\n",
        "            訓練データの特徴量\n",
        "        y : 次の形のndarray, shape (n_samples, )\n",
        "            訓練データの正解値\n",
        "        X_val : 次の形のndarray, shape (n_samples, n_features)\n",
        "            検証データの特徴量\n",
        "        y_val : 次の形のndarray, shape (n_samples, )\n",
        "            検証データの正解値\n",
        "        \"\"\"\n",
        "        # 損失の初期化\n",
        "        self.loss[0] = self.mean_crossentropy_error(X, y)\n",
        "        if X_val is not None:\n",
        "          self.val_loss[0] = self.mean_crossentropy_error(X_val, y_val)\n",
        "        \n",
        "        #　反復して損失を取得\n",
        "        for i in range(self.iter):\n",
        "          self.loss[i + 1] = self.gradient_descent(X, y)\n",
        "          if X_val is not None:\n",
        "            self.val_loss[i + 1] = self.mean_crossentropy_error(X_val, y_val)\n",
        "        print(self.predict_proba(X))\n",
        "\n",
        "        if self.verbose:\n",
        "            #verboseをTrueにした際は学習過程を出力\n",
        "            print()\n",
        "        pass\n",
        "    \n",
        "    # 問題2\n",
        "    def gradient_descent(self, X, y):\n",
        "        \"\"\"\n",
        "        最急降下法によるパラメータの更新値計算\n",
        "        \"\"\"\n",
        "        error = (self.predict_proba(X) - y.flatten()) # n次元のNumpy配列yを1次元のNumpy配列に変換\n",
        "        grad = np.dot(X.T, error) / X.shape[0]\n",
        "        bias_grad = np.sum(error) / X.shape[0]\n",
        "        l2 = self.lamb * self.theta[:-1] / X.shape[0]\n",
        "        self.theta[:-1] = self.theta[:-1] -self.lr * (grad + l2)\n",
        "        self.theta[-1] = self.theta[-1] -self.lr * bias_grad\n",
        "        loss = self.mean_crossentropy_error(X, y)\n",
        "        return loss\n",
        "\n",
        "    # 問題3\n",
        "    # 推定する仕組みを実装する\n",
        "    def predict(self, X):\n",
        "        \"\"\"\n",
        "        ロジスティック回帰を使いラベルを推定する。\n",
        "        Parameters\n",
        "        ----------\n",
        "        X : 次の形のndarray, shape (n_samples, n_features)\n",
        "            サンプル\n",
        "        Returns\n",
        "        -------\n",
        "            次の形のndarray, shape (n_samples, 1)\n",
        "            ロジスティック回帰による推定結果\n",
        "        \"\"\"\n",
        "        # クラスを決定するために、予測確率の値を確認し、比較する。0.5以上なら1を、未満なら0を返す。\n",
        "        return np.where(self.predict_proba(X) >= 0.5, 1, 0)\n",
        "\n",
        "    def predict_proba(self, X):\n",
        "        \"\"\"\n",
        "        ロジスティック回帰を使い確率を推定する。\n",
        "        Parameters\n",
        "        ----------\n",
        "        X : 次の形のndarray, shape (n_samples, n_features)\n",
        "            サンプル\n",
        "        Returns\n",
        "        -------\n",
        "            次の形のndarray, shape (n_samples, 1)\n",
        "            ロジスティック回帰による推定結果\n",
        "        \"\"\"\n",
        "        # 線形回帰の仮定関数の実装\n",
        "        a = np.dot(self.theta[:-1], X.T) + self.theta[-1]\n",
        "        # シグモイド関数を通す \n",
        "        y = self.sigmoid(a)\n",
        "        return y\n",
        "    \n",
        "    # シグモイド関数を通す\n",
        "    def sigmoid(self, a):\n",
        "      return 1 / (1 + np.exp(-a))\n",
        "    \n",
        "    # 問題4\n",
        "    # ロジスティック回帰の目的関数(損失関数)を実装\n",
        "    def mean_crossentropy_error(self, X, t):\n",
        "        \"\"\"\n",
        "        損失関数\n",
        "        \"\"\"\n",
        "        # クロスエントロピー誤差の定義、Weight decay(過学習抑制のためにの手法)、L2正則化\n",
        "        y = self.predict_proba(X)\n",
        "        crossentropy = -np.sum(t * np.log(y) + (1 - t) * np.log(1 - y)) / X.shape[0]\n",
        "        l2_decay = np.sum(self.theta[:-1] ** 2) / (2 * X.shape[0])\n",
        "        return crossentropy + l2_decay"
      ],
      "execution_count": 41,
      "outputs": []
    },
    {
      "cell_type": "markdown",
      "metadata": {
        "id": "q7SvCoR2eKM_"
      },
      "source": [
        "【問題1】仮定関数\n",
        "\n",
        "ロジスティック回帰の仮定関数のメソッドをScratchLogisticRegressionクラスに実装してください。\n",
        "\n",
        "\n",
        "ロジスティック回帰の仮定関数は、線形回帰の仮定関数を シグモイド関数 に通したものです。シグモイド関数は以下の式で表されます。\n",
        "\n",
        "$$\n",
        "g(z) = \\frac{1}{1+e^{−z}}\n",
        "$$\n",
        "\n",
        "線形回帰の仮定関数は次の式でした。\n",
        "$$\n",
        "h_\\theta(x) = \\theta^T \\cdot x.\n",
        "$$\n",
        "\n",
        "まとめて書くと、ロジスティック回帰の仮定関数は次のようになります。\n",
        "$$\n",
        "h_\\theta(x) = \\frac{1}{1+e^{−\\theta^T \\cdot x}}\n",
        "$$\n",
        "\n",
        "$x$ : 特徴量ベクトル\n",
        "\n",
        "$\\theta$ : パラメータ（重み）ベクトル"
      ]
    },
    {
      "cell_type": "markdown",
      "metadata": {
        "id": "WVi83q1Rntqb"
      },
      "source": [
        "【問題2】最急降下法\n",
        "\n",
        "最急降下法により学習させる実装を行なってください。以下の式で表されるパラメータの更新式のメソッド_gradient_descentを追加し、fitメソッドから呼び出すようにしてください。\n",
        "\n",
        "$$\n",
        "\\theta_j := \\theta_j - \\alpha \\frac{\\partial J(\\theta)}{\\partial \\theta_j}\\\\ \\frac{\\partial J(\\theta)}{\\partial \\theta_0} = \\frac{1}{m}  \\sum_{i=1}^{m}(h_θ(x^{(i)}) − y^{(i)})x_j^{(i)}  ,j = 0\\\\ \\frac{\\partial J(\\theta)}{\\partial \\theta_j} = \\biggl(\\frac{1}{m}  \\sum_{i=1}^{m}(h_θ(x^{(i)}) − y^{(i)})x_j^{(i)} \\biggr) + \\frac{λ}{m}\\theta_j　 ,j\\geq 1\n",
        "$$\n",
        "\n",
        "$\\alpha$ : 学習率\n",
        "\n",
        "\n",
        "$i$ : サンプルのインデックス\n",
        "\n",
        "\n",
        "$j$ : 特徴量のインデックス\n",
        "\n",
        "\n",
        "$m$ : 入力されるデータの数\n",
        "\n",
        "\n",
        "$h_\\theta()$ : 仮定関数\n",
        "\n",
        "\n",
        "$x$ : 特徴量ベクトル\n",
        "\n",
        "\n",
        "$\\theta$ : パラメータ（重み）ベクトル\n",
        "\n",
        "\n",
        "$x^{(i)}$ : i番目のサンプルの特徴量ベクトル\n",
        "\n",
        "\n",
        "$y^{(i)}$ : i番目のサンプルの正解ラベル\n",
        "\n",
        "\n",
        "$\\theta_j$ : j番目のパラメータ（重み）\n",
        "\n",
        "\n",
        "$λ$ : 正則化パラメータ\n",
        "\n",
        "以上の式には正則化項が含まれます。正則化項は過学習を防ぐ目的で用いられます。切片である$\\theta_0$が正則化項に含まれていないのは、切片を除いた、特徴量に対する係数を同じ視点で議論することができるようにするためです。"
      ]
    },
    {
      "cell_type": "markdown",
      "metadata": {
        "id": "noPnB5xRoqGG"
      },
      "source": [
        "【問題3】推定\n",
        "\n",
        "推定する仕組みを実装してください。ScratchLogisticRegressionクラスの雛形に含まれるpredictメソッドとpredict_probaメソッドに書き加えてください。\n",
        "\n",
        "\n",
        "仮定関数 $h_\\theta(x)$ の出力がpredict_probaの戻り値、さらにその値に閾値を設けて1と0のラベルとしたものがpredictの戻り値となります。"
      ]
    },
    {
      "cell_type": "markdown",
      "metadata": {
        "id": "WmVQVZ_PpWQa"
      },
      "source": [
        "【問題4】目的関数\n",
        "\n",
        "以下の数式で表されるロジスティック回帰の 目的関数（損失関数） を実装してください。そして、これをself.loss, self.val_lossに記録するようにしてください。\n",
        "\n",
        "\n",
        "なお、この数式には正則化項が含まれています。\n",
        "\n",
        "\n",
        "＊数式が見切れる場合、DIVERを全画面にして御覧ください。\n",
        "\n",
        "$$\n",
        "J(\\theta)=  \\frac{1}{m}  \\sum_{i=1}^{m}[−y^{(i)} log(h_θ(x^{(i)})) − (1−y^{(i)}) log(1−h_θ(x^{(i)}))] +\n",
        "\\frac{λ}{2m}\\sum_{j=1}^n\n",
        "θ^2_j\\\\\n",
        "$$\n",
        "\n",
        "$m$ : 入力されるデータの数\n",
        "\n",
        "\n",
        "$h_\\theta()$ : 仮定関数\n",
        "\n",
        "\n",
        "$x$ : 特徴量ベクトル\n",
        "\n",
        "\n",
        "$\\theta$ : パラメータ（重み）ベクトル\n",
        "\n",
        "\n",
        "$x^{(i)}$ : i番目のサンプルの特徴量ベクトル\n",
        "\n",
        "\n",
        "$y^{(i)}$ : i番目のサンプルの正解ラベル\n",
        "\n",
        "\n",
        "$\\theta_j$ : j番目のパラメータ（重み）\n",
        "\n",
        "\n",
        "$n$ : 特徴量の数\n",
        "\n",
        "\n",
        "$λ$ : 正則化パラメータ"
      ]
    },
    {
      "cell_type": "markdown",
      "metadata": {
        "id": "6bKIhgQDyoWL"
      },
      "source": [
        "# 3.検証"
      ]
    },
    {
      "cell_type": "markdown",
      "metadata": {
        "id": "osaMfeM5ysbe"
      },
      "source": [
        "【問題5】学習と推定\n",
        "\n",
        "機械学習スクラッチ入門のSprintで用意したirisデータセットのvirgicolorとvirginicaの2値分類に対してスクラッチ実装の学習と推定を行なってください。\n",
        "\n",
        "\n",
        "scikit-learnによる実装と比べ、正しく動いているかを確認してください。\n",
        "\n",
        "\n",
        "AccuracyやPrecision、Recallなどの指標値はscikit-learnを使用してください。"
      ]
    },
    {
      "cell_type": "code",
      "metadata": {
        "id": "Sj2avOKrg9FX"
      },
      "source": [
        "# ヒント集に書いてあった実装の手順\n",
        "# 最急降下法の流れに則ると、下記の流れで実装していくとよいでしょう。\n",
        "# 1. 学習率や学習回数の初期化＆シータの初期化（`no_bias`や`verbose`については、アドバンス課題のため考慮しなくてもよい）\n",
        "# 2. 推定値算出\n",
        "# 3. 値更新\n",
        "# 4. 2,3を学習回数文繰り返す"
      ],
      "execution_count": null,
      "outputs": []
    },
    {
      "cell_type": "code",
      "metadata": {
        "id": "peD-FeqRP8Zg"
      },
      "source": [
        "# irisデータセット読み込み\n",
        "from sklearn.datasets import load_iris\n",
        "iris_dataset = load_iris()"
      ],
      "execution_count": 85,
      "outputs": []
    },
    {
      "cell_type": "code",
      "metadata": {
        "colab": {
          "base_uri": "https://localhost:8080/"
        },
        "id": "4WIjp-9cQst6",
        "outputId": "f44cb15f-ed47-4677-d8e4-997f792087bb"
      },
      "source": [
        "print(iris_dataset)\n",
        "print(len(iris_dataset))"
      ],
      "execution_count": 86,
      "outputs": [
        {
          "output_type": "stream",
          "name": "stdout",
          "text": [
            "{'data': array([[5.1, 3.5, 1.4, 0.2],\n",
            "       [4.9, 3. , 1.4, 0.2],\n",
            "       [4.7, 3.2, 1.3, 0.2],\n",
            "       [4.6, 3.1, 1.5, 0.2],\n",
            "       [5. , 3.6, 1.4, 0.2],\n",
            "       [5.4, 3.9, 1.7, 0.4],\n",
            "       [4.6, 3.4, 1.4, 0.3],\n",
            "       [5. , 3.4, 1.5, 0.2],\n",
            "       [4.4, 2.9, 1.4, 0.2],\n",
            "       [4.9, 3.1, 1.5, 0.1],\n",
            "       [5.4, 3.7, 1.5, 0.2],\n",
            "       [4.8, 3.4, 1.6, 0.2],\n",
            "       [4.8, 3. , 1.4, 0.1],\n",
            "       [4.3, 3. , 1.1, 0.1],\n",
            "       [5.8, 4. , 1.2, 0.2],\n",
            "       [5.7, 4.4, 1.5, 0.4],\n",
            "       [5.4, 3.9, 1.3, 0.4],\n",
            "       [5.1, 3.5, 1.4, 0.3],\n",
            "       [5.7, 3.8, 1.7, 0.3],\n",
            "       [5.1, 3.8, 1.5, 0.3],\n",
            "       [5.4, 3.4, 1.7, 0.2],\n",
            "       [5.1, 3.7, 1.5, 0.4],\n",
            "       [4.6, 3.6, 1. , 0.2],\n",
            "       [5.1, 3.3, 1.7, 0.5],\n",
            "       [4.8, 3.4, 1.9, 0.2],\n",
            "       [5. , 3. , 1.6, 0.2],\n",
            "       [5. , 3.4, 1.6, 0.4],\n",
            "       [5.2, 3.5, 1.5, 0.2],\n",
            "       [5.2, 3.4, 1.4, 0.2],\n",
            "       [4.7, 3.2, 1.6, 0.2],\n",
            "       [4.8, 3.1, 1.6, 0.2],\n",
            "       [5.4, 3.4, 1.5, 0.4],\n",
            "       [5.2, 4.1, 1.5, 0.1],\n",
            "       [5.5, 4.2, 1.4, 0.2],\n",
            "       [4.9, 3.1, 1.5, 0.2],\n",
            "       [5. , 3.2, 1.2, 0.2],\n",
            "       [5.5, 3.5, 1.3, 0.2],\n",
            "       [4.9, 3.6, 1.4, 0.1],\n",
            "       [4.4, 3. , 1.3, 0.2],\n",
            "       [5.1, 3.4, 1.5, 0.2],\n",
            "       [5. , 3.5, 1.3, 0.3],\n",
            "       [4.5, 2.3, 1.3, 0.3],\n",
            "       [4.4, 3.2, 1.3, 0.2],\n",
            "       [5. , 3.5, 1.6, 0.6],\n",
            "       [5.1, 3.8, 1.9, 0.4],\n",
            "       [4.8, 3. , 1.4, 0.3],\n",
            "       [5.1, 3.8, 1.6, 0.2],\n",
            "       [4.6, 3.2, 1.4, 0.2],\n",
            "       [5.3, 3.7, 1.5, 0.2],\n",
            "       [5. , 3.3, 1.4, 0.2],\n",
            "       [7. , 3.2, 4.7, 1.4],\n",
            "       [6.4, 3.2, 4.5, 1.5],\n",
            "       [6.9, 3.1, 4.9, 1.5],\n",
            "       [5.5, 2.3, 4. , 1.3],\n",
            "       [6.5, 2.8, 4.6, 1.5],\n",
            "       [5.7, 2.8, 4.5, 1.3],\n",
            "       [6.3, 3.3, 4.7, 1.6],\n",
            "       [4.9, 2.4, 3.3, 1. ],\n",
            "       [6.6, 2.9, 4.6, 1.3],\n",
            "       [5.2, 2.7, 3.9, 1.4],\n",
            "       [5. , 2. , 3.5, 1. ],\n",
            "       [5.9, 3. , 4.2, 1.5],\n",
            "       [6. , 2.2, 4. , 1. ],\n",
            "       [6.1, 2.9, 4.7, 1.4],\n",
            "       [5.6, 2.9, 3.6, 1.3],\n",
            "       [6.7, 3.1, 4.4, 1.4],\n",
            "       [5.6, 3. , 4.5, 1.5],\n",
            "       [5.8, 2.7, 4.1, 1. ],\n",
            "       [6.2, 2.2, 4.5, 1.5],\n",
            "       [5.6, 2.5, 3.9, 1.1],\n",
            "       [5.9, 3.2, 4.8, 1.8],\n",
            "       [6.1, 2.8, 4. , 1.3],\n",
            "       [6.3, 2.5, 4.9, 1.5],\n",
            "       [6.1, 2.8, 4.7, 1.2],\n",
            "       [6.4, 2.9, 4.3, 1.3],\n",
            "       [6.6, 3. , 4.4, 1.4],\n",
            "       [6.8, 2.8, 4.8, 1.4],\n",
            "       [6.7, 3. , 5. , 1.7],\n",
            "       [6. , 2.9, 4.5, 1.5],\n",
            "       [5.7, 2.6, 3.5, 1. ],\n",
            "       [5.5, 2.4, 3.8, 1.1],\n",
            "       [5.5, 2.4, 3.7, 1. ],\n",
            "       [5.8, 2.7, 3.9, 1.2],\n",
            "       [6. , 2.7, 5.1, 1.6],\n",
            "       [5.4, 3. , 4.5, 1.5],\n",
            "       [6. , 3.4, 4.5, 1.6],\n",
            "       [6.7, 3.1, 4.7, 1.5],\n",
            "       [6.3, 2.3, 4.4, 1.3],\n",
            "       [5.6, 3. , 4.1, 1.3],\n",
            "       [5.5, 2.5, 4. , 1.3],\n",
            "       [5.5, 2.6, 4.4, 1.2],\n",
            "       [6.1, 3. , 4.6, 1.4],\n",
            "       [5.8, 2.6, 4. , 1.2],\n",
            "       [5. , 2.3, 3.3, 1. ],\n",
            "       [5.6, 2.7, 4.2, 1.3],\n",
            "       [5.7, 3. , 4.2, 1.2],\n",
            "       [5.7, 2.9, 4.2, 1.3],\n",
            "       [6.2, 2.9, 4.3, 1.3],\n",
            "       [5.1, 2.5, 3. , 1.1],\n",
            "       [5.7, 2.8, 4.1, 1.3],\n",
            "       [6.3, 3.3, 6. , 2.5],\n",
            "       [5.8, 2.7, 5.1, 1.9],\n",
            "       [7.1, 3. , 5.9, 2.1],\n",
            "       [6.3, 2.9, 5.6, 1.8],\n",
            "       [6.5, 3. , 5.8, 2.2],\n",
            "       [7.6, 3. , 6.6, 2.1],\n",
            "       [4.9, 2.5, 4.5, 1.7],\n",
            "       [7.3, 2.9, 6.3, 1.8],\n",
            "       [6.7, 2.5, 5.8, 1.8],\n",
            "       [7.2, 3.6, 6.1, 2.5],\n",
            "       [6.5, 3.2, 5.1, 2. ],\n",
            "       [6.4, 2.7, 5.3, 1.9],\n",
            "       [6.8, 3. , 5.5, 2.1],\n",
            "       [5.7, 2.5, 5. , 2. ],\n",
            "       [5.8, 2.8, 5.1, 2.4],\n",
            "       [6.4, 3.2, 5.3, 2.3],\n",
            "       [6.5, 3. , 5.5, 1.8],\n",
            "       [7.7, 3.8, 6.7, 2.2],\n",
            "       [7.7, 2.6, 6.9, 2.3],\n",
            "       [6. , 2.2, 5. , 1.5],\n",
            "       [6.9, 3.2, 5.7, 2.3],\n",
            "       [5.6, 2.8, 4.9, 2. ],\n",
            "       [7.7, 2.8, 6.7, 2. ],\n",
            "       [6.3, 2.7, 4.9, 1.8],\n",
            "       [6.7, 3.3, 5.7, 2.1],\n",
            "       [7.2, 3.2, 6. , 1.8],\n",
            "       [6.2, 2.8, 4.8, 1.8],\n",
            "       [6.1, 3. , 4.9, 1.8],\n",
            "       [6.4, 2.8, 5.6, 2.1],\n",
            "       [7.2, 3. , 5.8, 1.6],\n",
            "       [7.4, 2.8, 6.1, 1.9],\n",
            "       [7.9, 3.8, 6.4, 2. ],\n",
            "       [6.4, 2.8, 5.6, 2.2],\n",
            "       [6.3, 2.8, 5.1, 1.5],\n",
            "       [6.1, 2.6, 5.6, 1.4],\n",
            "       [7.7, 3. , 6.1, 2.3],\n",
            "       [6.3, 3.4, 5.6, 2.4],\n",
            "       [6.4, 3.1, 5.5, 1.8],\n",
            "       [6. , 3. , 4.8, 1.8],\n",
            "       [6.9, 3.1, 5.4, 2.1],\n",
            "       [6.7, 3.1, 5.6, 2.4],\n",
            "       [6.9, 3.1, 5.1, 2.3],\n",
            "       [5.8, 2.7, 5.1, 1.9],\n",
            "       [6.8, 3.2, 5.9, 2.3],\n",
            "       [6.7, 3.3, 5.7, 2.5],\n",
            "       [6.7, 3. , 5.2, 2.3],\n",
            "       [6.3, 2.5, 5. , 1.9],\n",
            "       [6.5, 3. , 5.2, 2. ],\n",
            "       [6.2, 3.4, 5.4, 2.3],\n",
            "       [5.9, 3. , 5.1, 1.8]]), 'target': array([0, 0, 0, 0, 0, 0, 0, 0, 0, 0, 0, 0, 0, 0, 0, 0, 0, 0, 0, 0, 0, 0,\n",
            "       0, 0, 0, 0, 0, 0, 0, 0, 0, 0, 0, 0, 0, 0, 0, 0, 0, 0, 0, 0, 0, 0,\n",
            "       0, 0, 0, 0, 0, 0, 1, 1, 1, 1, 1, 1, 1, 1, 1, 1, 1, 1, 1, 1, 1, 1,\n",
            "       1, 1, 1, 1, 1, 1, 1, 1, 1, 1, 1, 1, 1, 1, 1, 1, 1, 1, 1, 1, 1, 1,\n",
            "       1, 1, 1, 1, 1, 1, 1, 1, 1, 1, 1, 1, 2, 2, 2, 2, 2, 2, 2, 2, 2, 2,\n",
            "       2, 2, 2, 2, 2, 2, 2, 2, 2, 2, 2, 2, 2, 2, 2, 2, 2, 2, 2, 2, 2, 2,\n",
            "       2, 2, 2, 2, 2, 2, 2, 2, 2, 2, 2, 2, 2, 2, 2, 2, 2, 2]), 'target_names': array(['setosa', 'versicolor', 'virginica'], dtype='<U10'), 'DESCR': '.. _iris_dataset:\\n\\nIris plants dataset\\n--------------------\\n\\n**Data Set Characteristics:**\\n\\n    :Number of Instances: 150 (50 in each of three classes)\\n    :Number of Attributes: 4 numeric, predictive attributes and the class\\n    :Attribute Information:\\n        - sepal length in cm\\n        - sepal width in cm\\n        - petal length in cm\\n        - petal width in cm\\n        - class:\\n                - Iris-Setosa\\n                - Iris-Versicolour\\n                - Iris-Virginica\\n                \\n    :Summary Statistics:\\n\\n    ============== ==== ==== ======= ===== ====================\\n                    Min  Max   Mean    SD   Class Correlation\\n    ============== ==== ==== ======= ===== ====================\\n    sepal length:   4.3  7.9   5.84   0.83    0.7826\\n    sepal width:    2.0  4.4   3.05   0.43   -0.4194\\n    petal length:   1.0  6.9   3.76   1.76    0.9490  (high!)\\n    petal width:    0.1  2.5   1.20   0.76    0.9565  (high!)\\n    ============== ==== ==== ======= ===== ====================\\n\\n    :Missing Attribute Values: None\\n    :Class Distribution: 33.3% for each of 3 classes.\\n    :Creator: R.A. Fisher\\n    :Donor: Michael Marshall (MARSHALL%PLU@io.arc.nasa.gov)\\n    :Date: July, 1988\\n\\nThe famous Iris database, first used by Sir R.A. Fisher. The dataset is taken\\nfrom Fisher\\'s paper. Note that it\\'s the same as in R, but not as in the UCI\\nMachine Learning Repository, which has two wrong data points.\\n\\nThis is perhaps the best known database to be found in the\\npattern recognition literature.  Fisher\\'s paper is a classic in the field and\\nis referenced frequently to this day.  (See Duda & Hart, for example.)  The\\ndata set contains 3 classes of 50 instances each, where each class refers to a\\ntype of iris plant.  One class is linearly separable from the other 2; the\\nlatter are NOT linearly separable from each other.\\n\\n.. topic:: References\\n\\n   - Fisher, R.A. \"The use of multiple measurements in taxonomic problems\"\\n     Annual Eugenics, 7, Part II, 179-188 (1936); also in \"Contributions to\\n     Mathematical Statistics\" (John Wiley, NY, 1950).\\n   - Duda, R.O., & Hart, P.E. (1973) Pattern Classification and Scene Analysis.\\n     (Q327.D83) John Wiley & Sons.  ISBN 0-471-22361-1.  See page 218.\\n   - Dasarathy, B.V. (1980) \"Nosing Around the Neighborhood: A New System\\n     Structure and Classification Rule for Recognition in Partially Exposed\\n     Environments\".  IEEE Transactions on Pattern Analysis and Machine\\n     Intelligence, Vol. PAMI-2, No. 1, 67-71.\\n   - Gates, G.W. (1972) \"The Reduced Nearest Neighbor Rule\".  IEEE Transactions\\n     on Information Theory, May 1972, 431-433.\\n   - See also: 1988 MLC Proceedings, 54-64.  Cheeseman et al\"s AUTOCLASS II\\n     conceptual clustering system finds 3 classes in the data.\\n   - Many, many more ...', 'feature_names': ['sepal length (cm)', 'sepal width (cm)', 'petal length (cm)', 'petal width (cm)'], 'filename': '/usr/local/lib/python3.7/dist-packages/sklearn/datasets/data/iris.csv'}\n",
            "6\n"
          ]
        }
      ]
    },
    {
      "cell_type": "code",
      "metadata": {
        "id": "62w32SAy4ZH7"
      },
      "source": [
        "import pandas as pd\n",
        "from sklearn.neighbors import KNeighborsClassifier\n",
        "from sklearn.metrics import accuracy_score\n",
        "from sklearn.metrics import confusion_matrix\n",
        "from sklearn.metrics import precision_score\n",
        "from sklearn.metrics import recall_score\n",
        "from sklearn.metrics import f1_score\n",
        "from sklearn.model_selection import train_test_split\n",
        "\n",
        "X = iris_dataset.data[50:, :]\n",
        "y = iris_dataset.target[50:]\n",
        "y = np.where(y == 1, 0, 1)\n",
        "X = np.array(X)\n",
        "y = np.array(y)\n",
        "y = y.reshape([100, 1])"
      ],
      "execution_count": 87,
      "outputs": []
    },
    {
      "cell_type": "code",
      "metadata": {
        "id": "uYIPS4CMRL00",
        "colab": {
          "base_uri": "https://localhost:8080/",
          "height": 204
        },
        "outputId": "1049d1e3-938a-4bfa-c09b-661539ec9ab6"
      },
      "source": [
        "# pandasデータに格納\n",
        "iris_df = pd.DataFrame(X, columns = ['sepal_length', 'sepal_width', 'petal_length', 'petal_width']) \n",
        "# ターゲット変数の抽出およびカラム名の指定\n",
        "iris_label = pd.DataFrame(y, columns = [\"Species\"])\n",
        "iris_df.head()"
      ],
      "execution_count": 88,
      "outputs": [
        {
          "output_type": "execute_result",
          "data": {
            "text/html": [
              "<div>\n",
              "<style scoped>\n",
              "    .dataframe tbody tr th:only-of-type {\n",
              "        vertical-align: middle;\n",
              "    }\n",
              "\n",
              "    .dataframe tbody tr th {\n",
              "        vertical-align: top;\n",
              "    }\n",
              "\n",
              "    .dataframe thead th {\n",
              "        text-align: right;\n",
              "    }\n",
              "</style>\n",
              "<table border=\"1\" class=\"dataframe\">\n",
              "  <thead>\n",
              "    <tr style=\"text-align: right;\">\n",
              "      <th></th>\n",
              "      <th>sepal_length</th>\n",
              "      <th>sepal_width</th>\n",
              "      <th>petal_length</th>\n",
              "      <th>petal_width</th>\n",
              "    </tr>\n",
              "  </thead>\n",
              "  <tbody>\n",
              "    <tr>\n",
              "      <th>0</th>\n",
              "      <td>7.0</td>\n",
              "      <td>3.2</td>\n",
              "      <td>4.7</td>\n",
              "      <td>1.4</td>\n",
              "    </tr>\n",
              "    <tr>\n",
              "      <th>1</th>\n",
              "      <td>6.4</td>\n",
              "      <td>3.2</td>\n",
              "      <td>4.5</td>\n",
              "      <td>1.5</td>\n",
              "    </tr>\n",
              "    <tr>\n",
              "      <th>2</th>\n",
              "      <td>6.9</td>\n",
              "      <td>3.1</td>\n",
              "      <td>4.9</td>\n",
              "      <td>1.5</td>\n",
              "    </tr>\n",
              "    <tr>\n",
              "      <th>3</th>\n",
              "      <td>5.5</td>\n",
              "      <td>2.3</td>\n",
              "      <td>4.0</td>\n",
              "      <td>1.3</td>\n",
              "    </tr>\n",
              "    <tr>\n",
              "      <th>4</th>\n",
              "      <td>6.5</td>\n",
              "      <td>2.8</td>\n",
              "      <td>4.6</td>\n",
              "      <td>1.5</td>\n",
              "    </tr>\n",
              "  </tbody>\n",
              "</table>\n",
              "</div>"
            ],
            "text/plain": [
              "   sepal_length  sepal_width  petal_length  petal_width\n",
              "0           7.0          3.2           4.7          1.4\n",
              "1           6.4          3.2           4.5          1.5\n",
              "2           6.9          3.1           4.9          1.5\n",
              "3           5.5          2.3           4.0          1.3\n",
              "4           6.5          2.8           4.6          1.5"
            ]
          },
          "metadata": {},
          "execution_count": 88
        }
      ]
    },
    {
      "cell_type": "code",
      "metadata": {
        "id": "jYgBktyrmGDj"
      },
      "source": [
        "# trainデータとtestデータへの分割\n",
        "X_train, X_test, y_train, y_test = train_test_split(X, y, test_size=0.3, random_state=1234)"
      ],
      "execution_count": 89,
      "outputs": []
    },
    {
      "cell_type": "code",
      "metadata": {
        "colab": {
          "base_uri": "https://localhost:8080/"
        },
        "id": "tGvxQq0xQw-y",
        "outputId": "1c7c0026-36ad-4410-d9bf-2fda35592538"
      },
      "source": [
        "# ロジスティック回帰のスクラッチ実装をここで呼び出す\n",
        "slr = ScratchLogisticRegression(num_iter=10000, lr=0.0001, bias=True, verbose=True)\n",
        "slr.fit(X_train,y_train.reshape(-1,1),X_test,y_test.reshape(-1,1))"
      ],
      "execution_count": 90,
      "outputs": [
        {
          "output_type": "stream",
          "name": "stdout",
          "text": [
            "[0.4401868  0.54846854 0.42917444 0.50779725 0.40517258 0.38368202\n",
            " 0.45494755 0.4749527  0.50030383 0.50344439 0.45555856 0.40396023\n",
            " 0.50420951 0.56827839 0.42070604 0.50596883 0.47386334 0.42766962\n",
            " 0.47495628 0.51451671 0.48800862 0.53559137 0.44730653 0.41650405\n",
            " 0.48193469 0.43402148 0.49892511 0.47352527 0.42543423 0.45747655\n",
            " 0.454783   0.46433386 0.5021958  0.43909873 0.4808666  0.48663675\n",
            " 0.51169555 0.50010565 0.53936599 0.38298784 0.44283587 0.44051863\n",
            " 0.4448879  0.43833564 0.50004955 0.49188777 0.4916097  0.52661407\n",
            " 0.39293051 0.50365207 0.56207111 0.51308895 0.46311319 0.40039913\n",
            " 0.40969492 0.4098335  0.51618512 0.48238889 0.45953454 0.44073283\n",
            " 0.4121186  0.43904346 0.47845574 0.45063887 0.44322938 0.47977844\n",
            " 0.47327651 0.50335487 0.4460509  0.45522226]\n",
            "\n"
          ]
        }
      ]
    },
    {
      "cell_type": "code",
      "metadata": {
        "colab": {
          "base_uri": "https://localhost:8080/"
        },
        "id": "VivPfQPvp0M7",
        "outputId": "3966ec5e-0df1-4bdb-b556-92e522bd8a6c"
      },
      "source": [
        "slr.predict(X)"
      ],
      "execution_count": 91,
      "outputs": [
        {
          "output_type": "execute_result",
          "data": {
            "text/plain": [
              "array([0, 0, 0, 0, 0, 0, 1, 0, 0, 1, 0, 1, 0, 0, 1, 0, 1, 0, 0, 0, 1, 0,\n",
              "       0, 0, 0, 0, 0, 0, 0, 0, 0, 0, 0, 0, 1, 1, 0, 0, 1, 0, 0, 0, 0, 0,\n",
              "       0, 0, 0, 0, 0, 0, 1, 0, 0, 0, 1, 0, 1, 0, 0, 1, 1, 0, 0, 0, 1, 1,\n",
              "       0, 0, 0, 0, 1, 1, 0, 0, 1, 0, 0, 1, 0, 0, 0, 0, 0, 0, 0, 0, 1, 0,\n",
              "       1, 0, 1, 1, 0, 1, 1, 1, 0, 0, 1, 1])"
            ]
          },
          "metadata": {},
          "execution_count": 91
        }
      ]
    },
    {
      "cell_type": "code",
      "metadata": {
        "colab": {
          "base_uri": "https://localhost:8080/"
        },
        "id": "hEGGOTuDp4iG",
        "outputId": "34580167-876c-4b23-d7b5-13b7241d9eef"
      },
      "source": [
        "slr.predict_proba(X)"
      ],
      "execution_count": 92,
      "outputs": [
        {
          "output_type": "execute_result",
          "data": {
            "text/plain": [
              "array([0.43833564, 0.48490489, 0.44051863, 0.4448879 , 0.4401868 ,\n",
              "       0.47352527, 0.50596883, 0.4749527 , 0.42766962, 0.50983544,\n",
              "       0.42917444, 0.50004955, 0.38298784, 0.46433386, 0.50010565,\n",
              "       0.45063887, 0.51451671, 0.43909873, 0.40396023, 0.44283587,\n",
              "       0.53559137, 0.45555856, 0.42070604, 0.43904346, 0.44322938,\n",
              "       0.44730653, 0.4121186 , 0.45789966, 0.4808666 , 0.44308799,\n",
              "       0.44073283, 0.43402148, 0.45747655, 0.46271433, 0.52661407,\n",
              "       0.53598208, 0.45494755, 0.39293051, 0.50335487, 0.46358098,\n",
              "       0.46003267, 0.47495628, 0.4469123 , 0.45953454, 0.47386334,\n",
              "       0.48800862, 0.48663675, 0.45522226, 0.4840057 , 0.47845574,\n",
              "       0.56207111, 0.49892511, 0.454783  , 0.47327651, 0.50030383,\n",
              "       0.41650405, 0.52588673, 0.40517258, 0.4098335 , 0.53484782,\n",
              "       0.51169555, 0.4601833 , 0.47779332, 0.49542053, 0.54846854,\n",
              "       0.53936599, 0.47182457, 0.49188777, 0.3863694 , 0.40969492,\n",
              "       0.50420951, 0.53095541, 0.38368202, 0.46311319, 0.50964572,\n",
              "       0.44231405, 0.47977844, 0.50344439, 0.48193469, 0.41053931,\n",
              "       0.40039913, 0.46741351, 0.48998205, 0.4460509 , 0.42543423,\n",
              "       0.43235786, 0.56827839, 0.48728331, 0.5107375 , 0.48238889,\n",
              "       0.51618512, 0.5021958 , 0.49892511, 0.50779725, 0.54176495,\n",
              "       0.50365207, 0.45116733, 0.4916097 , 0.56874573, 0.51308895])"
            ]
          },
          "metadata": {},
          "execution_count": 92
        }
      ]
    },
    {
      "cell_type": "code",
      "metadata": {
        "colab": {
          "base_uri": "https://localhost:8080/"
        },
        "id": "gZJc0SV1p-jj",
        "outputId": "02e911ba-c59e-453d-ad31-acb065250284"
      },
      "source": [
        "slr.predict_proba(X_test)"
      ],
      "execution_count": 93,
      "outputs": [
        {
          "output_type": "execute_result",
          "data": {
            "text/plain": [
              "array([0.46003267, 0.53598208, 0.46741351, 0.4601833 , 0.56874573,\n",
              "       0.3863694 , 0.43235786, 0.45789966, 0.46358098, 0.4469123 ,\n",
              "       0.46271433, 0.53484782, 0.49542053, 0.54176495, 0.52588673,\n",
              "       0.48728331, 0.45116733, 0.48490489, 0.53095541, 0.48998205,\n",
              "       0.50983544, 0.49892511, 0.44308799, 0.5107375 , 0.44231405,\n",
              "       0.50964572, 0.47779332, 0.47182457, 0.41053931, 0.4840057 ])"
            ]
          },
          "metadata": {},
          "execution_count": 93
        }
      ]
    },
    {
      "cell_type": "code",
      "metadata": {
        "id": "IfLb8Hj_qEZM"
      },
      "source": [
        "y_pred = slr.predict(X_test)\n",
        "y_pred = y_pred.reshape(y_test.shape)"
      ],
      "execution_count": 94,
      "outputs": []
    },
    {
      "cell_type": "code",
      "metadata": {
        "colab": {
          "base_uri": "https://localhost:8080/"
        },
        "id": "E78Nay9aq7ka",
        "outputId": "9f02f903-293b-4eef-9dfb-666caaf15544"
      },
      "source": [
        "print('正解率:{}'.format(accuracy_score(y_test, y_pred)))\n",
        "print('適合率:{}'.format(precision_score(y_test, y_pred)))\n",
        "print('再現率:{}'.format(recall_score(y_test, y_pred)))\n",
        "print('F値:{}'.format(f1_score(y_test, y_pred)))\n",
        "print(confusion_matrix(y_test, y_pred))"
      ],
      "execution_count": 95,
      "outputs": [
        {
          "output_type": "stream",
          "name": "stdout",
          "text": [
            "正解率:0.5\n",
            "適合率:0.7777777777777778\n",
            "再現率:0.35\n",
            "F値:0.48275862068965514\n",
            "[[ 8  2]\n",
            " [13  7]]\n"
          ]
        }
      ]
    },
    {
      "cell_type": "code",
      "metadata": {
        "colab": {
          "base_uri": "https://localhost:8080/"
        },
        "id": "miyImExKz4Qh",
        "outputId": "f354a6eb-8448-4e04-ee98-e3bfdfcb5b1d"
      },
      "source": [
        "# scikit-learnによる実装と比べ、正しく動いているかを確認\n",
        "# 必要なライブラリの読み込み\n",
        "from sklearn.linear_model import LogisticRegression\n",
        "# ロジスティック回帰モデルのインスタンスを作成\n",
        "lr = LogisticRegression()\n",
        "# ロジスティック回帰モデルの重みを学習\n",
        "lr.fit(X_train, y_train)\n",
        "y_pred2 = lr.predict(X_test)\n",
        "y_pred2 = y_pred2.reshape(y_test.shape)\n",
        "\n",
        "print('scikit-learnの場合の正解率:{}'.format(accuracy_score(y_test, y_pred2)))\n",
        "print('scikit-learnの場合の適合率:{}'.format(precision_score(y_test, y_pred2)))\n",
        "print('scikit-learnの場合の再現率:{}'.format(recall_score(y_test, y_pred2)))\n",
        "print('scikit-learnの場合のF値:{}'.format(f1_score(y_test, y_pred2)))\n",
        "print(confusion_matrix(y_test, y_pred2))"
      ],
      "execution_count": 96,
      "outputs": [
        {
          "output_type": "stream",
          "name": "stdout",
          "text": [
            "scikit-learnの場合の正解率:0.8666666666666667\n",
            "scikit-learnの場合の適合率:0.9\n",
            "scikit-learnの場合の再現率:0.9\n",
            "scikit-learnの場合のF値:0.9\n",
            "[[ 8  2]\n",
            " [ 2 18]]\n"
          ]
        },
        {
          "output_type": "stream",
          "name": "stderr",
          "text": [
            "/usr/local/lib/python3.7/dist-packages/sklearn/utils/validation.py:760: DataConversionWarning: A column-vector y was passed when a 1d array was expected. Please change the shape of y to (n_samples, ), for example using ravel().\n",
            "  y = column_or_1d(y, warn=True)\n"
          ]
        }
      ]
    },
    {
      "cell_type": "markdown",
      "metadata": {
        "id": "V42TDvMO2JyY"
      },
      "source": [
        "〈問題５解答〉\n",
        "以上のとおり、スクラッチ実装した結果は、scikit-learnによる実装と比べ、正しく動いていることを確認できた。"
      ]
    },
    {
      "cell_type": "markdown",
      "metadata": {
        "id": "NZcssryGy26w"
      },
      "source": [
        "【問題6】学習曲線のプロット\n",
        "\n",
        "学習曲線を見て損失が適切に下がっているかどうか確認してください。"
      ]
    },
    {
      "cell_type": "code",
      "metadata": {
        "id": "3EkqFiLIh2Bf"
      },
      "source": [
        "# 問題6のヒント\n",
        "# クラス内に描画関数を追加してもよいですし、インスタンス変数として損失値を保持しているので、クラス外部で描画してもよいです。"
      ],
      "execution_count": 97,
      "outputs": []
    },
    {
      "cell_type": "code",
      "metadata": {
        "id": "I-Elvekf3MJr"
      },
      "source": [
        "# 必要なライブラリのインポート\n",
        "import matplotlib.pyplot as plt\n",
        "%matplotlib inline"
      ],
      "execution_count": 98,
      "outputs": []
    },
    {
      "cell_type": "code",
      "metadata": {
        "colab": {
          "base_uri": "https://localhost:8080/",
          "height": 282
        },
        "id": "Awj5Helq673r",
        "outputId": "ea0ebf75-a647-4aff-d00e-d2bc1deee824"
      },
      "source": [
        "plt.plot(np.arange(1, len(slr.loss) + 1), slr.loss, label = 'train_loss', linewidth = 10)\n",
        "plt.plot(np.arange(1, len(slr.val_loss) + 1), slr.val_loss, label = 'val_loss', linewidth = 10)\n",
        "plt.legend()"
      ],
      "execution_count": 99,
      "outputs": [
        {
          "output_type": "execute_result",
          "data": {
            "text/plain": [
              "<matplotlib.legend.Legend at 0x7f1a967ff850>"
            ]
          },
          "metadata": {},
          "execution_count": 99
        },
        {
          "output_type": "display_data",
          "data": {
            "image/png": "[encoded data removed]",
            "text/plain": [
              "<Figure size 432x288 with 1 Axes>"
            ]
          },
          "metadata": {
            "needs_background": "light"
          }
        }
      ]
    },
    {
      "cell_type": "markdown",
      "metadata": {
        "id": "BlrUIIwTA4lu"
      },
      "source": [
        "〈問題6解答〉\n",
        "以上のとおり、学習曲線を見ると損失が適切に下がっていることを確認できた。"
      ]
    },
    {
      "cell_type": "markdown",
      "metadata": {
        "id": "w00lZRKpzDzQ"
      },
      "source": [
        "【問題7】決定領域の可視化\n",
        "\n",
        "決定領域を可視化してください。"
      ]
    },
    {
      "cell_type": "code",
      "metadata": {
        "id": "C8upsBgCiCCc"
      },
      "source": [
        "# 問題7のヒント\n",
        "# 「決定領域を可視化する」とは、分類結果を分かりやすく色分けすることを言います。\n",
        "# 点の描画は問題ないかと思いますが、背景色の決定境界線の描画に関しては、使用している説明変数の範囲にある全ての値の候補に対する推定結果を描画します。\n",
        "# ヒントとしては、numpyのmeshgridという関数を使用し、**説明変数の範囲にある全ての値の候補** を求め、predictするイメージです。\n",
        "# クラス内に描画関数を追加してもよいですし、インスタンス変数として損失値を保持しているので、クラス外部で描画してもよいです。"
      ],
      "execution_count": null,
      "outputs": []
    },
    {
      "cell_type": "code",
      "metadata": {
        "id": "S8LCMtum3OBi"
      },
      "source": [
        "from matplotlib.colors import ListedColormap\n",
        "import matplotlib.patches as mpatches\n",
        "\n",
        "def decision_region(X, y, model, step = 0.01, title = 'decision region', xlabel = 'xlabel', ylabel = 'ylabel', target_names = ['setosa', 'versicolor']):\n",
        "  scatter_color = ['red', 'blue']\n",
        "  contourf_color = ['pink', 'skyblue']\n",
        "  n_class = 2\n",
        "  marker = ['o', '^']\n",
        "\n",
        "  # numpyのmeshgridという関数を使用し、**説明変数の範囲にある全ての値の候補** を求め、predictする\n",
        "  mesh_f0, mesh_f1 = np.meshgrid(np.arange(np.min(X[:, 0])-0.5, np.max(X[:, 0])+0.5, step), np.arange(np.min(X[:, 1])-0.5, np.max(X[:, 1]) + 0.5, step))\n",
        "  mesh = np.c_[np.ravel(mesh_f0), np.ravel(mesh_f1)]\n",
        "  y_pred = model.predict(mesh).reshape(mesh_f0.shape)\n",
        "\n",
        "  # 描画\n",
        "  plt.title(title)\n",
        "  plt.xlabel(xlabel)\n",
        "  plt.ylabel(ylabel)\n",
        "  plt.contourf(mesh_f0, mesh_f1, y_pred, n_class-1, cmap = ListedColormap(contourf_color))\n",
        "  plt.contour(mesh_f0, mesh_f1, y_pred, n_class-1, colors = 'y', linewidths = 3, alpha = 0.5)\n",
        "  for i, j in enumerate(set(y)):\n",
        "    plt.scatter(X[y == j][:, 0], X[y == j][:, 1], s = 80, color = scatter_color[i], label = target_names[i], marker = marker[i])\n",
        "  patches = [mpatches.Patch(color = scatter_color[i], label = target_names[i]) for i in range(n_class)]\n",
        "  plt.legend(handles = patches)\n",
        "  plt.legend()\n",
        "  plt.show()"
      ],
      "execution_count": 121,
      "outputs": []
    },
    {
      "cell_type": "code",
      "metadata": {
        "id": "1Q0niIBjVRQX"
      },
      "source": [
        "X = iris.data[:100, :]\n",
        "y = iris.target[:100]\n",
        "X = X[:, [0, 2]]\n",
        "X_train, X_test, y_train, y_test = train_test_split(X, y, test_size = 0.5, random_state = 0)"
      ],
      "execution_count": 122,
      "outputs": []
    },
    {
      "cell_type": "code",
      "metadata": {
        "colab": {
          "base_uri": "https://localhost:8080/"
        },
        "id": "HzBfeLZ2V3NP",
        "outputId": "c8cf7c1c-4462-4c67-f533-3a90efe1d77f"
      },
      "source": [
        "slr = ScratchLogisticRegression(num_iter = 10000, lr = 1, bias = True, verbose = True)\n",
        "slr.fit(X = X_train, y = y_train, X_val = X_test, y_val = y_test)"
      ],
      "execution_count": 123,
      "outputs": [
        {
          "output_type": "stream",
          "name": "stdout",
          "text": [
            "[0.99964738 0.99595982 0.00657047 0.01121292 0.00620311 0.99961117\n",
            " 0.01801889 0.00299628 0.02301086 0.99984261 0.00841795 0.00841795\n",
            " 0.9995969  0.95855246 0.97137607 0.9994919  0.00944176 0.99964097\n",
            " 0.00188748 0.99684957 0.009999   0.01907258 0.00695944 0.99867073\n",
            " 0.85259723 0.99491215 0.01941272 0.99856602 0.9998888  0.9999082\n",
            " 0.01608012 0.00737126 0.9888708  0.01518919 0.009999   0.99883705\n",
            " 0.99952903 0.00780726 0.99781186 0.9998653  0.99907727 0.00342388\n",
            " 0.009999   0.99995991 0.01121292 0.99848067 0.99754385 0.98211474\n",
            " 0.00875745 0.05206479]\n",
            "\n"
          ]
        }
      ]
    },
    {
      "cell_type": "code",
      "metadata": {
        "colab": {
          "base_uri": "https://localhost:8080/",
          "height": 295
        },
        "id": "p6qqC7uvWY-6",
        "outputId": "e32a0fd2-c3de-4457-d72a-4b8422709d62"
      },
      "source": [
        "decision_region(X, y, slr, step = 0.01, title = 'Scratch Logistic Regression', xlabel = 'xlabel', ylabel = 'ylabel', target_names = ['setosa', 'versicolor'])"
      ],
      "execution_count": 124,
      "outputs": [
        {
          "output_type": "display_data",
          "data": {
            "image/png": "[encoded data removed]",
            "text/plain": [
              "<Figure size 432x288 with 1 Axes>"
            ]
          },
          "metadata": {
            "needs_background": "light"
          }
        }
      ]
    },
    {
      "cell_type": "markdown",
      "metadata": {
        "id": "g1yPjieszMRj"
      },
      "source": [
        "【問題8】（アドバンス課題）重みの保存\n",
        "\n",
        "検証が容易になるように、学習した重みを保存および読み込みができるようにしましょう。pickleモジュールやNumPyのnp.savezを利用します。"
      ]
    }
  ]
}
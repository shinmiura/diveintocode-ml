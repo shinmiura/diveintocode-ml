{
  "nbformat": 4,
  "nbformat_minor": 0,
  "metadata": {
    "colab": {
      "name": "リカレントニューラルネットワーク.ipynb",
      "provenance": [],
      "machine_shape": "hm",
      "authorship_tag": "ABX9TyPPnV0lCWRHbBLS43XjN2Xw",
      "include_colab_link": true
    },
    "kernelspec": {
      "name": "python3",
      "display_name": "Python 3"
    },
    "language_info": {
      "name": "python"
    },
    "accelerator": "GPU"
  },
  "cells": [
    {
      "cell_type": "markdown",
      "metadata": {
        "id": "view-in-github",
        "colab_type": "text"
      },
      "source": [
        "<a href=\"https://colab.research.google.com/github/shinmiura/diveintocode-ml/blob/master/%E3%83%AA%E3%82%AB%E3%83%AC%E3%83%B3%E3%83%88%E3%83%8B%E3%83%A5%E3%83%BC%E3%83%A9%E3%83%AB%E3%83%8D%E3%83%83%E3%83%88%E3%83%AF%E3%83%BC%E3%82%AF.ipynb\" target=\"_parent\"><img src=\"https://colab.research.google.com/assets/colab-badge.svg\" alt=\"Open In Colab\"/></a>"
      ]
    },
    {
      "cell_type": "markdown",
      "metadata": {
        "id": "GdhML_-pq5fn"
      },
      "source": [
        "**Sprintの目的**\n",
        "\n",
        "スクラッチを通してリカレントニューラルネットワークの基礎を理解する"
      ]
    },
    {
      "cell_type": "markdown",
      "metadata": {
        "id": "2BOj_3i7rC5z"
      },
      "source": [
        "**どのように学ぶか**\n",
        "\n",
        "スクラッチでリカレントニューラルネットワークの実装を行います。"
      ]
    },
    {
      "cell_type": "markdown",
      "metadata": {
        "id": "HUEBEmd3rKag"
      },
      "source": [
        "# 2.リカレントニューラルネットワークスクラッチ\n"
      ]
    },
    {
      "cell_type": "markdown",
      "metadata": {
        "id": "xU3CsrWHrQPZ"
      },
      "source": [
        "リカレントニューラルネットワーク（RNN） のクラスをスクラッチで作成していきます。NumPyなど最低限のライブラリのみを使いアルゴリズムを実装していきます。\n",
        "\n",
        "\n",
        "フォワードプロパゲーションの実装を必須課題とし、バックプロパゲーションの実装はアドバンス課題とします。\n",
        "\n",
        "\n",
        "クラスの名前はScratchSimpleRNNClassifierとしてください。クラスの構造などは以前のSprintで作成したScratchDeepNeuralNetrowkClassifierを参考にしてください。\n",
        "\n"
      ]
    },
    {
      "cell_type": "code",
      "metadata": {
        "id": "oE5GRX2SubLx"
      },
      "source": [
        "# Numpyライブラリのインポート\n",
        "import numpy as np"
      ],
      "execution_count": 1,
      "outputs": []
    },
    {
      "cell_type": "markdown",
      "metadata": {
        "id": "TXm_-HPFrVQ6"
      },
      "source": [
        "【問題1】SimpleRNNのフォワードプロパゲーション実装\n",
        "\n",
        "SimpleRNNのクラスSimpleRNNを作成してください。基本構造はFCクラスと同じになります。\n",
        "\n",
        "\n",
        "フォワードプロパゲーションの数式は以下のようになります。ndarrayのshapeがどうなるかを併記しています。\n",
        "\n",
        "\n",
        "バッチサイズをbatch_size、入力の特徴量数をn_features、RNNのノード数をn_nodesとして表記します。活性化関数はtanhとして進めますが、これまでのニューラルネットワーク同様にReLUなどに置き換えられます。\n",
        "\n",
        "$$\n",
        "a_t = x_{t}\\cdot W_{x} + h_{t-1}\\cdot W_{h} + B\\\\\n",
        "h_t = tanh(a_t)\n",
        "$$\n",
        "\n",
        "$a_t$ : 時刻tの活性化関数を通す前の状態 (batch_size, n_nodes)\n",
        "\n",
        "\n",
        "$h_t$ : 時刻tの状態・出力 (batch_size, n_nodes)\n",
        "\n",
        "\n",
        "$x_{t}$ : 時刻tの入力 (batch_size, n_features)\n",
        "\n",
        "\n",
        "$W_{x}$ : 入力に対する重み (n_features, n_nodes)\n",
        "\n",
        "\n",
        "$h_{t-1}$ : 時刻t-1の状態（前の時刻から伝わる順伝播） (batch_size, n_nodes)\n",
        "\n",
        "\n",
        "$W_{h}$ : 状態に対する重み。 (n_nodes, n_nodes)\n",
        "\n",
        "\n",
        "$B$ : バイアス項 (n_nodes,)\n",
        "\n",
        "\n",
        "初期状態 $h_{0}$ はすべて0とすることが多いですが、任意の値を与えることも可能です。\n",
        "\n",
        "\n",
        "上記の処理を系列数n_sequences回繰り返すことになります。RNN全体への入力 $x$ は(batch_size, n_sequences, n_features)のような配列で渡されることになり、そこから各時刻の配列を取り出していきます。\n",
        "\n",
        "\n",
        "分類問題であれば、それぞれの時刻のhに対して全結合層とソフトマックス関数（またはシグモイド関数）を使用します。タスクによっては最後の時刻のhだけを使用することもあります。\n",
        "\n"
      ]
    },
    {
      "cell_type": "code",
      "metadata": {
        "id": "-BXqrOELqut0"
      },
      "source": [
        "def forward(x,h):\n",
        "    \"\"\"RNNの順伝播\n",
        "    Parameters\n",
        "    -----------\n",
        "    x : 時刻tの入力\n",
        "    h : 時刻t-1の状態\n",
        "    \"\"\"\n",
        "    for n in range(n_sequences):\n",
        "        h = np.tanh(x[:, n, :] @ w_x + h @ w_h + b)\n",
        "    return h"
      ],
      "execution_count": 2,
      "outputs": []
    },
    {
      "cell_type": "markdown",
      "metadata": {
        "id": "vYd6rFw5tCRB"
      },
      "source": [
        "**【問題2】小さな配列でのフォワードプロパゲーションの実験**\n",
        "\n",
        "小さな配列でフォワードプロパゲーションを考えてみます。\n",
        "\n",
        "\n",
        "入力x、初期状態h、重みw_xとw_h、バイアスbを次のようにします。\n",
        "\n",
        "\n",
        "ここで配列xの軸はバッチサイズ、系列数、特徴量数の順番です。"
      ]
    },
    {
      "cell_type": "code",
      "metadata": {
        "id": "6W7xpAa-tOto"
      },
      "source": [
        "x = np.array([[[1, 2], [2, 3], [3, 4]]])/100 # (batch_size, n_sequences, n_features)\n",
        "w_x = np.array([[1, 3, 5, 7], [3, 5, 7, 8]])/100 # (n_features, n_nodes)\n",
        "w_h = np.array([[1, 3, 5, 7], [2, 4, 6, 8], [3, 5, 7, 8], [4, 6, 8, 10]])/100 # (n_nodes, n_nodes)\n",
        "batch_size = x.shape[0] # 1\n",
        "n_sequences = x.shape[1] # 3\n",
        "n_features = x.shape[2] # 2\n",
        "n_nodes = w_x.shape[1] # 4\n",
        "h = np.zeros((batch_size, n_nodes)) # (batch_size, n_nodes)\n",
        "b = np.array([1, 1, 1, 1]) # (n_nodes,)"
      ],
      "execution_count": 3,
      "outputs": []
    },
    {
      "cell_type": "markdown",
      "metadata": {
        "id": "o4mdbTf0tOK4"
      },
      "source": [
        "フォワードプロパゲーションの出力が次のようになることを作成したコードで確認してください。\n",
        "\n",
        "h = np.array([[0.79494228, 0.81839002, 0.83939649, 0.85584174]]) # (batch_size, n_nodes)"
      ]
    },
    {
      "cell_type": "code",
      "metadata": {
        "colab": {
          "base_uri": "https://localhost:8080/"
        },
        "id": "raXv1VbgtZcn",
        "outputId": "9badbfc2-176d-4151-b219-b768440e466a"
      },
      "source": [
        "forward(x,h)"
      ],
      "execution_count": 4,
      "outputs": [
        {
          "output_type": "execute_result",
          "data": {
            "text/plain": [
              "array([[0.79494228, 0.81839002, 0.83939649, 0.85584174]])"
            ]
          },
          "metadata": {},
          "execution_count": 4
        }
      ]
    },
    {
      "cell_type": "markdown",
      "metadata": {
        "id": "_94dnA9HtbV1"
      },
      "source": [
        "【問題3】（アドバンス課題）バックプロパゲーションの実装"
      ]
    },
    {
      "cell_type": "markdown",
      "metadata": {
        "id": "FEc4dNX4uCwE"
      },
      "source": [
        "バックプロパゲーションを実装してください。\n",
        "\n",
        "\n",
        "RNNの内部は全結合層を組み合わせた形になっているので、更新式は全結合層などと同様です。\n",
        "\n",
        "$$\n",
        "W_x^{\\prime} = W_x - \\alpha \\frac{\\partial L}{\\partial W_x} \\\\\n",
        "W_h^{\\prime} = W_h - \\alpha \\frac{\\partial L}{\\partial W_h} \\\\\n",
        "B^{\\prime} = B - \\alpha \\frac{\\partial L}{\\partial B}\n",
        "$$\n",
        "\n",
        "$\\alpha$ : 学習率\n",
        "\n",
        "\n",
        "$\\frac{\\partial L}{\\partial W_x}$ : $W_x$ に関する損失 $L$ の勾配\n",
        "\n",
        "\n",
        "$\\frac{\\partial L}{\\partial W_h}$ : $W_h$ に関する損失 $L$ の勾配\n",
        "\n",
        "\n",
        "$\\frac{\\partial L}{\\partial B}$ : $B$ に関する損失 $L$ の勾配\n",
        "\n",
        "\n",
        "勾配を求めるためのバックプロパゲーションの数式が以下です。\n",
        "\n",
        "\n",
        "$\\frac{\\partial h_t}{\\partial a_t} = \\frac{\\partial L}{\\partial h_t} ×(1-tanh^2(a_t))$\n",
        "\n",
        "\n",
        "$\\frac{\\partial L}{\\partial B} = \\frac{\\partial h_t}{\\partial a_t}$\n",
        "\n",
        "\n",
        "$\\frac{\\partial L}{\\partial W_x} = x_{t}^{T}\\cdot \\frac{\\partial h_t}{\\partial a_t}$\n",
        "\n",
        "\n",
        "$\\frac{\\partial L}{\\partial W_h} = h_{t-1}^{T}\\cdot \\frac{\\partial h_t}{\\partial a_t}$\n",
        "\n",
        "\n",
        "＊$\\frac{\\partial L}{\\partial h_t}$ は前の時刻からの状態の誤差と出力の誤差の合計です。hは順伝播時に出力と次の層に伝わる状態双方に使われているからです。\n",
        "\n",
        "\n",
        "前の時刻や層に流す誤差の数式は以下です。\n",
        "\n",
        "\n",
        "$\\frac{\\partial L}{\\partial h_{t-1}} = \\frac{\\partial h_t}{\\partial a_t}\\cdot W_{h}^{T}$\n",
        "\n",
        "\n",
        "$\\frac{\\partial L}{\\partial x_{t}} = \\frac{\\partial h_t}{\\partial a_t}\\cdot W_{x}^{T}$"
      ]
    }
  ]
}
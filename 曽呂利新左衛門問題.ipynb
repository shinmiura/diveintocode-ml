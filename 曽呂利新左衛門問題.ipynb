{
  "nbformat": 4,
  "nbformat_minor": 0,
  "metadata": {
    "colab": {
      "name": "曽呂利新左衛門問題.ipynb",
      "provenance": [],
      "collapsed_sections": [],
      "authorship_tag": "ABX9TyPhyaxGXGpCGB5B8hsmyRJp",
      "include_colab_link": true
    },
    "kernelspec": {
      "name": "python3",
      "display_name": "Python 3"
    },
    "language_info": {
      "name": "python"
    }
  },
  "cells": [
    {
      "cell_type": "markdown",
      "metadata": {
        "id": "view-in-github",
        "colab_type": "text"
      },
      "source": [
        "<a href=\"https://colab.research.google.com/github/shinmiura/diveintocode-ml/blob/master/%E6%9B%BD%E5%91%82%E5%88%A9%E6%96%B0%E5%B7%A6%E8%A1%9B%E9%96%80%E5%95%8F%E9%A1%8C.ipynb\" target=\"_parent\"><img src=\"https://colab.research.google.com/assets/colab-badge.svg\" alt=\"Open In Colab\"/></a>"
      ]
    },
    {
      "cell_type": "markdown",
      "metadata": {
        "id": "kQc2GbjYka8S"
      },
      "source": [
        "テキストの目的\n",
        "\n",
        "・基礎的なプログラミング力を確認する\n",
        "\n",
        "・読みやすいコードを書くよう心がけるようになる\n"
      ]
    },
    {
      "cell_type": "markdown",
      "metadata": {
        "id": "5F5Fiq00Hzy_"
      },
      "source": [
        "どのように学ぶか\n",
        "\n",
        "Python入門課題の発展です。実装やコメントなどを工夫し、読みやすいコードを書くよう心がけてください。"
      ]
    },
    {
      "cell_type": "markdown",
      "metadata": {
        "id": "JeTm9ABekqt9"
      },
      "source": [
        "「Pythonを使ってみよう」の問題で扱った紙を折ると月に届く話に似たものとして、曽呂利新左衛門の逸話があります。これを題材にプログラミングを進めます。\n",
        "\n",
        "\n",
        "秀吉から褒美を下される際、何を希望するか尋ねられた新左衛門は、今日は米1粒、翌日には倍の2粒、その翌日には更に倍の4粒と、日ごとに倍の量の米を100日間もらう事を希望した。米粒なら大した事はないと思った秀吉は簡単に承諾したが、日ごとに倍ずつ増やして行くと100日後には膨大な量になる事に途中で気づき、他の褒美に変えてもらった。"
      ]
    },
    {
      "cell_type": "markdown",
      "metadata": {
        "id": "FeE-hDOorCyz"
      },
      "source": [
        "【問題１】100日目の米粒の数"
      ]
    },
    {
      "cell_type": "markdown",
      "metadata": {
        "id": "TXY0ovlw0N6t"
      },
      "source": [
        "100日目には合計で米粒をいくつもらっているのかを計算するコードを作成し、答えを出力してください。また、1日目から100日目までの「その日にもらう米の数」と「その日までに累計で貰う米の数」の推移を折れ線グラフで表現してください。（縦軸が米の数、横軸が日数）"
      ]
    },
    {
      "cell_type": "code",
      "metadata": {
        "id": "Pbah504XoPSW"
      },
      "source": [
        "import matplotlib.pyplot as plt\n",
        "%matplotlib inline"
      ],
      "execution_count": 1,
      "outputs": []
    },
    {
      "cell_type": "code",
      "metadata": {
        "colab": {
          "base_uri": "https://localhost:8080/"
        },
        "id": "Eli9VxukcArs",
        "outputId": "7a6e335e-ddae-4cd7-f066-95623696a7e5"
      },
      "source": [
        "first_day_rices = 1\n",
        "\n",
        "days = 100\n",
        "list_time_point = [first_day_rices]\n",
        "list_total = [list_time_point[0]]\n",
        "for i in range(days - 1):\n",
        "  list_time_point.append(list_time_point[-1] * 2)\n",
        "  list_total.append(list_total[-1] + list_time_point[-1])\n",
        "print(\"{}日後にもらう米の数：{}粒\".format(days, list_time_point[-1]))\n",
        "print(\"{}日後までに累計で貰う米の数：{}粒\".format(days, list_total[-1]))"
      ],
      "execution_count": 2,
      "outputs": [
        {
          "output_type": "stream",
          "text": [
            "100日後にもらう米の数：633825300114114700748351602688粒\n",
            "100日後までに累計で貰う米の数：1267650600228229401496703205375粒\n"
          ],
          "name": "stdout"
        }
      ]
    },
    {
      "cell_type": "code",
      "metadata": {
        "colab": {
          "base_uri": "https://localhost:8080/",
          "height": 295
        },
        "id": "Mml-WU7jn_U1",
        "outputId": "a1dac117-895a-4d84-b2ff-4abc228feefb"
      },
      "source": [
        "plt.title(\"Sorori Shinzaemon's Rice\")\n",
        "plt.xlabel(\"days\")\n",
        "plt.ylabel(\"number of rice recieved\")\n",
        "plt.plot(range(1, days + 1), list_time_point, label = \"one day\")\n",
        "plt.plot(range(1, days + 1), list_total, label = \"total\")\n",
        "plt.legend() #グラフが２つになるので凡例を表示しておく。\n",
        "plt.show()"
      ],
      "execution_count": 3,
      "outputs": [
        {
          "output_type": "display_data",
          "data": {
            "image/png": "[encoded data removed]",
            "text/plain": [
              "<Figure size 432x288 with 1 Axes>"
            ]
          },
          "metadata": {
            "tags": [],
            "needs_background": "light"
          }
        }
      ]
    },
    {
      "cell_type": "markdown",
      "metadata": {
        "id": "Imi-W9smrKXO"
      },
      "source": [
        "【問題２】100日目以外の米粒の数"
      ]
    },
    {
      "cell_type": "markdown",
      "metadata": {
        "id": "Eyd5px6MhgoE"
      },
      "source": [
        "この逸話は30日だったり81日だったりと日数が曖昧です。どの話にも対応できるように日数を引数とした 関数 を作成しましょう。関数を作成した上で、コース受講日数でいくつ米粒をもらえるかを答えてください。問題1と同様に折れ線グラフも出力してください。\n",
        "\n",
        "\n",
        "以下の雛形には関数としての枠組みだけではなく、引数や戻り値についてのコメントも記載してあります。参考にして、自分なりにも分かりやすくコメントを書き換えてください。"
      ]
    },
    {
      "cell_type": "code",
      "metadata": {
        "colab": {
          "base_uri": "https://localhost:8080/"
        },
        "id": "mOCcADhUrWV1",
        "outputId": "4e160cb3-9081-4423-fb01-cd001720904d"
      },
      "source": [
        "def compute_sorori_shinzaemon(n_days = 100):\n",
        "    \"\"\"曽呂利新左衛門の米の逸話における、日にちごとの米の粒の数を計算する関数。\n",
        "    Parameteres\n",
        "    -----------\n",
        "    n_days: int\n",
        "        米を貰える日数 (default : 100)\n",
        "    first_day_rices: int\n",
        "        初日に貰う米  (default : 1)\n",
        "    Returns\n",
        "    -------\n",
        "    list_time_point : list\n",
        "        ある日に貰う米の数のリスト (リストの長さはn_daysに等しい)\n",
        "    list_total : list\n",
        "        ある日までに累計で貰う米の数のリスト (リストの長さはn_daysに等しい)\n",
        "    \"\"\"\n",
        "    # ここにコードを書く。\n",
        "    list_time_point = [first_day_rices]\n",
        "    list_total = [list_time_point[0]]\n",
        "    for i in range(n_days - 1):\n",
        "      list_time_point.append(list_time_point[-1] * 2)\n",
        "      list_total.append(list_total[-1] + list_time_point[-1])\n",
        "    return list_time_point, list_total\n",
        "list_time_point, list_total = compute_sorori_shinzaemon(n_days=123) #7/1〜10/31は123日\n",
        "print(\"コース受講日数は{}日であり、その間でもらえる米粒は{}粒\".format(123, list_total[-1]))"
      ],
      "execution_count": 19,
      "outputs": [
        {
          "output_type": "stream",
          "text": [
            "コース受講日数は123日であり、その間でもらえる米粒は10633823966279326983230456482242756607粒\n"
          ],
          "name": "stdout"
        }
      ]
    },
    {
      "cell_type": "code",
      "metadata": {
        "colab": {
          "base_uri": "https://localhost:8080/",
          "height": 295
        },
        "id": "uQlZ4enSrVW1",
        "outputId": "befc9faa-e1ed-45d3-c525-101e9a92d514"
      },
      "source": [
        "# グラフを表示する。タイトルと軸ラベル名付き。\n",
        "days = 123\n",
        "plt.title(\"Sorori Shinzaemon's Rice\")\n",
        "plt.xlabel(\"days\")\n",
        "plt.ylabel(\"recived_rice\")\n",
        "plt.plot(range(1, days + 1), list_time_point, label = \"one day\")  # 「リスト名」のところにリストの変数名を入れる\n",
        "plt.plot(range(1, days + 1), list_total, label = \"total\")  # 「リスト名」のところにリストの変数名を入れる\n",
        "plt.legend()\n",
        "plt.show()"
      ],
      "execution_count": 18,
      "outputs": [
        {
          "output_type": "display_data",
          "data": {
            "image/png": "[encoded data removed]",
            "text/plain": [
              "<Figure size 432x288 with 1 Axes>"
            ]
          },
          "metadata": {
            "tags": [],
            "needs_background": "light"
          }
        }
      ]
    },
    {
      "cell_type": "markdown",
      "metadata": {
        "id": "Crm428kBrXTB"
      },
      "source": [
        "【問題３】貰える米で何人が何日生活できるか\n"
      ]
    },
    {
      "cell_type": "markdown",
      "metadata": {
        "id": "MLbsgFtcw3zh"
      },
      "source": [
        "この米があれば何人が何日生活できるか計算する関数を作成してください。コースを受講する期間に貰える米粒で、このクラスにいる人数であれば、何日間生活できるかを出力してみましょう。\n",
        "\n",
        "\n",
        "関数の最低限の入力は 米粒の数(int) と 人数(int) 、出力は 生活できる日数(int) です。関数名やコメントなどは分かりやすく考えて作成してください。\n",
        "\n",
        "\n",
        "ここでは1日に必要な米粒の数は提示しません。自分なりに調べて、計算式に落とし込んでください。どう調べ、何を根拠にしたかもコメントを残しておいてください。"
      ]
    },
    {
      "cell_type": "code",
      "metadata": {
        "colab": {
          "base_uri": "https://localhost:8080/",
          "height": 134
        },
        "id": "VpqBc3Htw3dc",
        "outputId": "1c68f995-fd5b-477d-a108-7c90e2dad460"
      },
      "source": [
        "required_calories = 1800 * 1000\n",
        "calories_per_crash = 75\n",
        "def compute_howmany_days(n_crash, n_person = 14):\n",
        "    \"\"\"この米があれば、何人の人間が何日生活できるかを計算する関数。\n",
        "    Parameteres\n",
        "    -----------\n",
        "    n_crash: int\n",
        "        米の粒数 \n",
        "    n_person: int\n",
        "        人数 (default : 14)\n",
        "    Returns\n",
        "    -----------\n",
        "    survival_days : int\n",
        "    　　　　　　　何人の人間が何日生活できるか\n",
        "    \"\"\"\n",
        "    # ここにコードを書く。\n",
        "    needs = required_calories / calories_per_crash \n",
        "    round_of_needs = needs * n_person\n",
        "    survival_days = list_total[-1] / round_of_needs\n",
        "    return survival_days\n",
        "l_, list_total = compute_sorori_shinzaemon(n_days = n_days) #7/1〜10/31は123日\n",
        "survival_days = compute_howmany_days(list_total[-1], n_person)\n",
        "print(\"{}人が{}日生活できます。\".format(n_person, survival_days)）\n",
        "print(\"その時、米粒の数は{}粒です。\".format(list_total[-1]粒です。))"
      ],
      "execution_count": 21,
      "outputs": [
        {
          "output_type": "error",
          "ename": "SyntaxError",
          "evalue": "ignored",
          "traceback": [
            "\u001b[0;36m  File \u001b[0;32m\"<ipython-input-21-3bac7b946e8b>\"\u001b[0;36m, line \u001b[0;32m23\u001b[0m\n\u001b[0;31m    print(\"{}人が{}日生活できます。\".format(n_person, survival_days)）\u001b[0m\n\u001b[0m                                                          ^\u001b[0m\n\u001b[0;31mSyntaxError\u001b[0m\u001b[0;31m:\u001b[0m invalid character in identifier\n"
          ]
        }
      ]
    },
    {
      "cell_type": "code",
      "metadata": {
        "id": "t_0ZYEmZzgel"
      },
      "source": [
        ""
      ],
      "execution_count": null,
      "outputs": []
    }
  ]
}
{
  "nbformat": 4,
  "nbformat_minor": 0,
  "metadata": {
    "colab": {
      "name": "オブジェクト指向の活用.ipynb",
      "provenance": [],
      "collapsed_sections": [],
      "authorship_tag": "ABX9TyPb107xO+sb96D/cTi2zD8p",
      "include_colab_link": true
    },
    "kernelspec": {
      "name": "python3",
      "display_name": "Python 3"
    },
    "language_info": {
      "name": "python"
    }
  },
  "cells": [
    {
      "cell_type": "markdown",
      "metadata": {
        "id": "view-in-github",
        "colab_type": "text"
      },
      "source": [
        "<a href=\"https://colab.research.google.com/github/shinmiura/diveintocode-ml/blob/master/%E3%82%AA%E3%83%96%E3%82%B8%E3%82%A7%E3%82%AF%E3%83%88%E6%8C%87%E5%90%91%E3%81%AE%E6%B4%BB%E7%94%A8.ipynb\" target=\"_parent\"><img src=\"https://colab.research.google.com/assets/colab-badge.svg\" alt=\"Open In Colab\"/></a>"
      ]
    },
    {
      "cell_type": "markdown",
      "metadata": {
        "id": "zn1DTrNV9DIO"
      },
      "source": [
        "テキストの目的\n",
        "\n",
        "クラスを利用したコードを読み書きできるようにする"
      ]
    },
    {
      "cell_type": "markdown",
      "metadata": {
        "id": "XQeFNVOi9OnY"
      },
      "source": [
        "どのように学ぶか\n",
        "\n",
        "これまで使用してきたクラスを元にしてオブジェクト指向を理解していきます。"
      ]
    },
    {
      "cell_type": "markdown",
      "metadata": {
        "id": "GMJEe0of9WSV"
      },
      "source": [
        "**2.オブジェクト指向**\n",
        "\n",
        "これまでの課題では触れてきませんでしたが、StandardScalerやLinearRegressionのような クラス と呼ばれるものがPythonなどのプログラム言語では利用できます。\n",
        "\n",
        "\n",
        "クラスの構文は、オブジェクト指向と呼ばれる考え方を利用したプログラミングの基本的な道具になります。\n",
        "\n",
        "\n",
        "この課題ではこれまでに既に登場していたクラスを例に、クラスを活用することでどのようなことができるのかを見て学んでいきます。そして課題の後半ではStandardScalerのクラスをスクラッチで自作します。"
      ]
    },
    {
      "cell_type": "markdown",
      "metadata": {
        "id": "wm4JSJck-Mqe"
      },
      "source": [
        "**3.scikit-learnの標準化クラス**\n",
        "\n",
        "scikit-learnに用意されている標準化を行うためのクラスStandardScalerを例に見ていきます。サンプルコードを用意しましたので、これを利用しながら理解していきます。\n",
        "\n",
        "\n",
        "sklearn.preprocessing.StandardScaler — scikit-learn 0.21.3 documentation\n",
        "\n"
      ]
    },
    {
      "cell_type": "code",
      "metadata": {
        "id": "3e1YUsNa-XfQ",
        "colab": {
          "base_uri": "https://localhost:8080/"
        },
        "outputId": "db473688-97ca-4bb0-9791-3c5099ae8c98"
      },
      "source": [
        "# サンプルコード\n",
        "import numpy as np\n",
        "from sklearn.preprocessing import StandardScaler\n",
        "from sklearn.datasets import load_iris\n",
        "data = load_iris()\n",
        "X = data.data[:10]\n",
        "scaler = StandardScaler()\n",
        "scaler.fit(X)\n",
        "print(\"平均 :\", scaler.mean_)\n",
        "print(\"分散 :\", scaler.var_)\n",
        "X_std = scaler.transform(X)"
      ],
      "execution_count": null,
      "outputs": [
        {
          "output_type": "stream",
          "text": [
            "平均 : [4.86 3.31 1.45 0.22]\n",
            "分散 : [0.0764 0.0849 0.0105 0.0056]\n"
          ],
          "name": "stdout"
        }
      ]
    },
    {
      "cell_type": "markdown",
      "metadata": {
        "id": "rvbXFqkTuFe8"
      },
      "source": [
        "インスタンス化\n",
        "\n",
        "クラスを使う際はまず以下のようなコードを書きますが、これを インスタンス化 と呼びます。\n",
        "\n",
        "\n",
        "scaler = StandardScaler()\n",
        "\n",
        "\n",
        "StandardScalerというクラスオブジェクトから、scalerと名前をつけたインスタンスオブジェクトが作られました。"
      ]
    },
    {
      "cell_type": "markdown",
      "metadata": {
        "id": "KYpsHBYMuTG9"
      },
      "source": [
        "Pythonではクラス名は頭文字が大文字、他は小文字という命名法がPEP8により定められています。単語間にアンダースコアは入れません。これを CapWords 方式と呼びます。\n",
        "\n",
        "\n",
        "はじめに — pep8-ja 1.0 ドキュメント クラスの名前\n",
        "\n",
        "\n",
        "こういった形式のものはクラスだと判断することができます。\n",
        "\n",
        "\n",
        "《インスタンスは複数作れる》\n",
        "\n",
        "\n",
        "あるクラスオブジェクトからは複数のインスタンスオブジェクトを作成することが可能です。\n",
        "\n"
      ]
    },
    {
      "cell_type": "code",
      "metadata": {
        "id": "INh9LgYLuMYH"
      },
      "source": [
        "scaler0 = StandardScaler()\n",
        "scaler1 = StandardScaler()\n",
        "scaler2 = StandardScaler()"
      ],
      "execution_count": null,
      "outputs": []
    },
    {
      "cell_type": "markdown",
      "metadata": {
        "id": "XUXP6KS0uYkn"
      },
      "source": [
        "【問題1】これまで利用してきたクラスの列挙\n",
        "\n",
        "クラスを使う際はインスタンス化を行うことと、クラスの命名法がわかりました。この情報を元に、これまでの課題で利用してきたコードの中でどのようなクラスがあったかを答えてください。\n",
        "\n",
        "\n",
        "Pandas、matplotlib、scikit-learnからそれぞれ1つ以上見つけてください。"
      ]
    },
    {
      "cell_type": "markdown",
      "metadata": {
        "id": "H8G3GrthuntX"
      },
      "source": [
        "**問題１の解答**\n",
        "\n",
        "\n",
        "Pandas\n",
        "⇨DataFframe\n",
        "\n",
        "matplotlib\n",
        "⇨pyplot、ListedColormap\n",
        "\n",
        "sckit-learn\n",
        "⇨LinearRegression、DecisionTreeRegression、RandomForestRegression\n"
      ]
    },
    {
      "cell_type": "code",
      "metadata": {
        "colab": {
          "base_uri": "https://localhost:8080/"
        },
        "id": "WDxZWc3AvHm7",
        "outputId": "43e6554d-831e-4d4f-92b3-d69486969ff9"
      },
      "source": [
        "from sklearn.tree import DecisionTreeRegressor\n",
        "print(type(DecisionTreeRegressor)) # クラス\n",
        "print(type(DecisionTreeRegressor())) # インスタンス"
      ],
      "execution_count": null,
      "outputs": [
        {
          "output_type": "stream",
          "text": [
            "<class 'abc.ABCMeta'>\n",
            "<class 'sklearn.tree._classes.DecisionTreeRegressor'>\n"
          ],
          "name": "stdout"
        }
      ]
    },
    {
      "cell_type": "markdown",
      "metadata": {
        "id": "4jcQISZQu7Mi"
      },
      "source": [
        "メソッド\n",
        "\n",
        "インスタンス化を行った後には、scaler.fit(X)のような メソッド の実行ができます。StandardScalerのfitメソッドは後でスケーリングに使われる平均と標準偏差を計算する機能があります。\n",
        "\n"
      ]
    },
    {
      "cell_type": "markdown",
      "metadata": {
        "id": "Jkh9ZsXrvbXu"
      },
      "source": [
        "インスタンス変数（アトリビュート）\n",
        "\n",
        "fitメソッドにより平均と標準偏差が計算されましたが、見た目には変化があるわけではありません。しかし、scalerインスタンスの内部では計算結果が保存されています。こういったインスタンスの中で値を保存するものを インスタンス変数 や アトリビュート（属性） と呼びます。ここで平均がscaler.mean_、標準偏差の2乗した値である分散がscaler.var_に保存されています。\n",
        "\n",
        "\n",
        "以下のようにprint文で出力させることができます。"
      ]
    },
    {
      "cell_type": "code",
      "metadata": {
        "colab": {
          "base_uri": "https://localhost:8080/"
        },
        "id": "hOEAcVdYvlFu",
        "outputId": "35573187-87b1-4c1c-97f3-412c6863e489"
      },
      "source": [
        "print(\"平均 : {}\".format(scaler.mean_)) # 平均 : [4.86 3.31 1.45 0.22]\n",
        "print(\"分散 : {}\".format(scaler.var_)) # 分散 : [0.0764 0.0849 0.0105 0.0056]"
      ],
      "execution_count": null,
      "outputs": [
        {
          "output_type": "stream",
          "text": [
            "平均 : [4.86 3.31 1.45 0.22]\n",
            "分散 : [0.0764 0.0849 0.0105 0.0056]\n"
          ],
          "name": "stdout"
        }
      ]
    },
    {
      "cell_type": "markdown",
      "metadata": {
        "id": "8CchELfdvn9M"
      },
      "source": [
        "《メソッドとインスタンス変数の命名法》\n",
        "\n",
        "\n",
        "メソッドやインスタンス変数の命名は関数と同様に、すべて小文字で行います。単語をつなぐときにはアンダースコアを入れます。\n",
        "\n",
        "\n",
        "はじめに — pep8-ja 1.0 ドキュメント メソッド名とインスタンス変数"
      ]
    },
    {
      "cell_type": "markdown",
      "metadata": {
        "id": "a8gVr30avyv4"
      },
      "source": [
        "【問題2】これまで利用してきたメソッドやインスタンス変数の列挙\n",
        "\n",
        "これまでの課題で利用してきたコードの中でどのようなメソッドやインスタンス変数があったかを答えてください。\n",
        "\n",
        "最低でもそれぞれ5つ以上答えてください。"
      ]
    },
    {
      "cell_type": "markdown",
      "metadata": {
        "id": "26wao3gwv7q9"
      },
      "source": [
        "**問題２の解答**\n",
        "\n",
        "〈関数〉\n",
        "def関数\n",
        "\n",
        "〈インスタンス変数〉\n",
        "neigh1\n",
        "neigh3\n",
        "neigh5\n",
        "logistic_reg\n",
        "svc\n",
        "linear_reg\n",
        "svr\n",
        "tree\n",
        "random_forest\n"
      ]
    },
    {
      "cell_type": "markdown",
      "metadata": {
        "id": "XgmhdwQrwAeI"
      },
      "source": [
        "《ndarrayやstrもインスタンス》\n",
        "\n",
        "\n",
        "ドットをつけるというと、NumPyのndarrayに対してndarray.shapeやndarray.sum()のような使い方は何度も利用してきたかと思います。これは、ndarrayもインスタンスオブジェクトであり、shapeはインスタンス変数、sumはメソッドだったということです。\n",
        "\n",
        "\n",
        "Pythonのコードに登場するデータはどれもインスタンスオブジェクトであり、listやstrもメソッドを持ちます。\n",
        "\n",
        "\n",
        "（例）\n",
        "\n",
        "\n",
        "5. データ構造 — Python 3.7.4 ドキュメント 5.1. リスト型についてもう少し\n",
        "\n"
      ]
    },
    {
      "cell_type": "code",
      "metadata": {
        "id": "ZPIg1Ig6wFBz"
      },
      "source": [
        "l = ['a']\n",
        "l.append('b') # listのappendメソッド"
      ],
      "execution_count": null,
      "outputs": []
    },
    {
      "cell_type": "markdown",
      "metadata": {
        "id": "WuwmqUkKwIE6"
      },
      "source": [
        "4. 組み込み型 — Python 3.7.4 ドキュメント 文字列メソッド"
      ]
    },
    {
      "cell_type": "code",
      "metadata": {
        "colab": {
          "base_uri": "https://localhost:8080/"
        },
        "id": "Jp54DjxrwL1H",
        "outputId": "7e17657f-2806-49bd-f53f-886500c55c4e"
      },
      "source": [
        "s = 'Hello, World!'\n",
        "s.find('W') # strのfindメソッド"
      ],
      "execution_count": null,
      "outputs": [
        {
          "output_type": "execute_result",
          "data": {
            "text/plain": [
              "7"
            ]
          },
          "metadata": {
            "tags": []
          },
          "execution_count": 8
        }
      ]
    },
    {
      "cell_type": "markdown",
      "metadata": {
        "id": "e4fDlrZqwPnM"
      },
      "source": [
        "**インスタンス変数をメソッドが利用**\n",
        "\n",
        "最終的に以下のようにして標準化を行います。\n",
        "\n",
        "\n",
        "X_std = scaler.transform(X)\n",
        "\n",
        "\n",
        "これはfitメソッドで計算したことでインスタンス変数mean_やvar_に保存されていた値を使い、Xを変換したということです。\n",
        "\n",
        "\n",
        "このようにクラスには複数のメソッドやインスタンス変数が存在し、これらを組み合わせていろいろな機能を実現します。"
      ]
    },
    {
      "cell_type": "markdown",
      "metadata": {
        "id": "3XZqblC2wccU"
      },
      "source": [
        "【問題3】標準化クラスをスクラッチで作成\n",
        "\n",
        "理解をより深めるため、StandardScalerをスクラッチで作成しましょう。scikit-learnは使わず、NumPyなどを活用して標準化の計算を記述します。具体的にはfitメソッドとtransformメソッドを作ります。\n",
        "\n",
        "\n",
        "今回は雛形を用意しました。クラスの作成方法は関数に近いです。メソッドはクラスの中にさらにインデントを一段下げて記述します。\n",
        "\n",
        "\n",
        "インスタンス変数を作成する際はself.mean_のようにselfを付けます。クラスの外からscaler.mean_と書いていたscalerの部分が自分自身を表すselfになっています。\n",
        "\n"
      ]
    },
    {
      "cell_type": "markdown",
      "metadata": {
        "id": "OZ-h9lSCwtz5"
      },
      "source": [
        "《雛形》をベースにして問題３の解答を以下のとおり作成した。"
      ]
    },
    {
      "cell_type": "markdown",
      "metadata": {
        "id": "2vAt5KdywrOQ"
      },
      "source": [
        "以下のコードが実行できるようにしましょう。\n",
        "\n"
      ]
    },
    {
      "cell_type": "code",
      "metadata": {
        "id": "b9i3yVlNy3a9"
      },
      "source": [
        "class ScratchStandardScaler():\n",
        "    \"\"\"\n",
        "    標準化のためのクラス\n",
        "    Attributes\n",
        "    ----------\n",
        "    mean_ : 次の形のndarray, shape(n_features,)\n",
        "        平均\n",
        "    var_ : 次の形のndarray, shape(n_features,)\n",
        "        分散\n",
        "    \"\"\"\n",
        "    def fit(self, X):\n",
        "        \"\"\"\n",
        "        標準化のために平均と標準偏差を計算する。\n",
        "        Parameters\n",
        "        ----------\n",
        "        X : 次の形のndarray, shape (n_samples, n_features)\n",
        "            訓練データ\n",
        "        \"\"\"\n",
        "        self.mean_ = np.mean(X, axis=0)\n",
        "        self.var_ = np.var(X, axis=0)\n",
        "        pass\n",
        "    def transform(self, X):\n",
        "        \"\"\"\n",
        "        fitで求めた値を使い標準化を行う。\n",
        "        Parameters\n",
        "        ----------\n",
        "        X : 次の形のndarray, shape (n_samples, n_features)\n",
        "            特徴量\n",
        "        Returns\n",
        "        ----------\n",
        "        X_scaled : 次の形のndarray, shape (n_samples, n_features)\n",
        "            標準化された特徴量\n",
        "        \"\"\"\n",
        "        X_scaled = (self.var_) ** (1/2)\n",
        "        return X_scaled\n"
      ],
      "execution_count": null,
      "outputs": []
    },
    {
      "cell_type": "code",
      "metadata": {
        "colab": {
          "base_uri": "https://localhost:8080/"
        },
        "id": "6k4wmdgN0JNL",
        "outputId": "c8e7f619-eb4d-49cd-c208-4197baa150b3"
      },
      "source": [
        "import numpy as np\n",
        "from sklearn.datasets import load_iris\n",
        "data = load_iris()\n",
        "X = data.data[:10]\n",
        "scratch_scaler = ScratchStandardScaler()\n",
        "scratch_scaler.fit(X)\n",
        "print(\"平均 : {}\".format(scratch_scaler.mean_))\n",
        "print(\"分散 : {}\".format(scratch_scaler.var_))\n",
        "X_std = scratch_scaler.transform(X)\n",
        "print(X_std)"
      ],
      "execution_count": null,
      "outputs": [
        {
          "output_type": "stream",
          "text": [
            "平均 : [4.86 3.31 1.45 0.22]\n",
            "分散 : [0.0764 0.0849 0.0105 0.0056]\n",
            "[0.2764055  0.29137605 0.10246951 0.07483315]\n"
          ],
          "name": "stdout"
        }
      ]
    },
    {
      "cell_type": "markdown",
      "metadata": {
        "id": "8EntGk4sw5S0"
      },
      "source": [
        "ライブラリのソースコードを確認\n",
        "\n",
        "scikit-learnの場合は公式ドキュメントの右上にソースコードへのリンクがあります。"
      ]
    },
    {
      "cell_type": "markdown",
      "metadata": {
        "id": "6VI_zOYqxPRR"
      },
      "source": [
        "《サンプルコード》"
      ]
    },
    {
      "cell_type": "code",
      "metadata": {
        "colab": {
          "base_uri": "https://localhost:8080/"
        },
        "id": "lV9Csys-xRIp",
        "outputId": "56618e99-a40f-4917-e216-13623ee3353e"
      },
      "source": [
        "class ExampleClass():\n",
        "    \"\"\"\n",
        "    説明用の簡単なクラス\n",
        "    Parameters\n",
        "    ----------\n",
        "    value : float or int\n",
        "        初期値\n",
        "    Attributes\n",
        "    ----------\n",
        "    value : float or int\n",
        "        計算結果\n",
        "    \"\"\"\n",
        "    def __init__(self, value):\n",
        "        self.value = value\n",
        "        print(\"初期値{}が設定されました\".format(self.value))\n",
        "    def add(self, value2):\n",
        "        \"\"\"\n",
        "        受け取った引数をself.valueに加える\n",
        "        \"\"\"\n",
        "        self.value += value2\n",
        "example = ExampleClass(5)\n",
        "print(\"value : {}\".format(example.value))\n",
        "example.add(3)\n",
        "print(\"value : {}\".format(example.value))\n"
      ],
      "execution_count": null,
      "outputs": [
        {
          "output_type": "stream",
          "text": [
            "初期値5が設定されました\n",
            "value : 5\n",
            "value : 8\n"
          ],
          "name": "stdout"
        }
      ]
    },
    {
      "cell_type": "markdown",
      "metadata": {
        "id": "hnnWySHkxVNE"
      },
      "source": [
        "【問題4】 四則演算を行うクラスの作成\n",
        "\n",
        "上記ExampleClassは足し算のメソッドを持っていますが、これに引き算、掛け算、割り算のメソッドを加えてください。\n",
        "\n",
        "\n",
        "コンストラクタに入力されたvalueが文字列や配列など数値以外だった場合にはエラーを出すようにしてください。\n",
        "\n",
        "\n",
        "クラス名や説明文も適切に書き換えてください。"
      ]
    },
    {
      "cell_type": "code",
      "metadata": {
        "colab": {
          "base_uri": "https://localhost:8080/"
        },
        "id": "o3sDVyG-5sR5",
        "outputId": "e1cf7a26-90b2-4e7a-cde3-93cfd0adce3b"
      },
      "source": [
        "class FourAirthmeticOperationsClass():\n",
        "    \"\"\"\n",
        "    四則演算をするためのクラス\n",
        "    Parameters\n",
        "    ----------\n",
        "    value : float or int\n",
        "        初期値\n",
        "    Attributes\n",
        "    ----------\n",
        "    value : float or int\n",
        "        計算結果\n",
        "    \"\"\"\n",
        "    # メソッドの定義(関数とは異なり、必ず１つ引数が必要⇨selfを与える。渡したい引数は、value)\n",
        "    #初期化メソッドの記述\n",
        "    def __init__(self, value):             \n",
        "        self.value = value  #アトリビュート\n",
        "        print(\"初期値{}が設定されました\".format(self.value))\n",
        "        if type(value)  not in [int, float]:\n",
        "          print('コンストラクタに入力されたvalueが文字列や配列など数値以外のためエラーです！')\n",
        "    def add(self, value2):  #足し算のメソッド\n",
        "        \"\"\"\n",
        "        受け取った引数をself.valueに加える\n",
        "        \"\"\"\n",
        "        self.value += value2 \n",
        "    def sub(self, value2):  #引き算のメソッド\n",
        "        \"\"\"\n",
        "        受け取った引数をself.valueに加える\n",
        "        \"\"\"\n",
        "        self.value -= value2\n",
        "    \n",
        "    def mul(self, value2):  #掛け算のメソッド\n",
        "        \"\"\"\n",
        "        受け取った引数をself.valueに加える\n",
        "        \"\"\"\n",
        "        self.value *= value2\n",
        "    \n",
        "    def div(self, value2):  #割り算のメソッド\n",
        "        \"\"\"\n",
        "        受け取った引数をself.valueに加える\n",
        "        \"\"\"\n",
        "        self.value /= value2\n",
        "\n",
        "# 破壊的\n",
        "calculation = FourAirthmeticOperationsClass(5) #インスタンス化(これでインスタンスとして使えるようになった)\n",
        "print(\"value : {}\".format(calculation.value))\n",
        "calculation.add(3) # \n",
        "print(\"value : {}\".format(calculation.value))\n",
        "calculation.sub(3) # \n",
        "print(\"value : {}\".format(calculation.value))\n",
        "calculation.mul(3) # \n",
        "print(\"value : {}\".format(calculation.value))\n",
        "calculation.div(3) # \n",
        "print(\"value : {}\".format(calculation.value))\n"
      ],
      "execution_count": null,
      "outputs": [
        {
          "output_type": "stream",
          "text": [
            "初期値5が設定されました\n",
            "value : 5\n",
            "value : 8\n",
            "value : 5\n",
            "value : 15\n",
            "value : 5.0\n"
          ],
          "name": "stdout"
        }
      ]
    },
    {
      "cell_type": "code",
      "metadata": {
        "colab": {
          "base_uri": "https://localhost:8080/"
        },
        "id": "ZrmxRvye6teG",
        "outputId": "6e8a86de-9945-48ec-bb4d-2304b3891f3d"
      },
      "source": [
        "# 敢えて文字列を入力してみることでエラー表示が出るか確認する\n",
        "calculation = FourAirthmeticOperationsClass(\"5\")"
      ],
      "execution_count": null,
      "outputs": [
        {
          "output_type": "stream",
          "text": [
            "初期値5が設定されました\n",
            "コンストラクタに入力されたvalueが文字列や配列など数値以外のためエラーです！\n"
          ],
          "name": "stdout"
        }
      ]
    },
    {
      "cell_type": "code",
      "metadata": {
        "colab": {
          "base_uri": "https://localhost:8080/"
        },
        "id": "jTWEfqalCnsg",
        "outputId": "d8c016be-7992-4d96-f1b2-7ab753b2128d"
      },
      "source": [
        "# 前の計算結果を引き摺らないように変更する。\n",
        "class FourAirthmeticOperationsClass():\n",
        "    \"\"\"\n",
        "    四則演算をするためのクラス\n",
        "    Parameters\n",
        "    ----------\n",
        "    value : float or int\n",
        "        初期値\n",
        "    Attributes\n",
        "    ----------\n",
        "    value : float or int\n",
        "        計算結果\n",
        "    \"\"\"\n",
        "    # メソッドの定義(関数とは異なり、必ず１つ引数が必要⇨selfを与える。渡したい引数は、value)\n",
        "    #初期化メソッドの記述\n",
        "    def __init__(self, value):          \n",
        "        self.value2 = value  #アトリビュート\n",
        "        self.value3 = value\n",
        "        self.value4 = value\n",
        "        self.value5 = value\n",
        "        print(\"初期値{}が設定されました\".format(self.value2))\n",
        "    def add(self, value2):  #足し算のメソッド\n",
        "        \"\"\"\n",
        "        受け取った引数をself.valueに加える\n",
        "        \"\"\"\n",
        "        self.value2 += value2 \n",
        "    def sub(self, value3):  #引き算のメソッド\n",
        "        \"\"\"\n",
        "        受け取った引数をself.valueに加える\n",
        "        \"\"\"\n",
        "        self.value3 -= value3\n",
        "    \n",
        "    def mul(self, value4):  #掛け算のメソッド\n",
        "        \"\"\"\n",
        "        受け取った引数をself.valueに加える\n",
        "        \"\"\"\n",
        "        self.value4 *= value4\n",
        "    \n",
        "    def div(self, value5):  #割り算のメソッド\n",
        "        \"\"\"\n",
        "        受け取った引数をself.valueに加える\n",
        "        \"\"\"\n",
        "        self.value5 /= value5\n",
        "\n",
        "calculation = FourAirthmeticOperationsClass(5) #インスタンス化(これでインスタンスとして使えるようになった)\n",
        "print(\"value : {}\".format(calculation.value2))\n",
        "calculation.add(3) # \n",
        "print(\"value : {}\".format(calculation.value2))\n",
        "calculation.sub(3) # \n",
        "print(\"value : {}\".format(calculation.value3))\n",
        "calculation.mul(3) # \n",
        "print(\"value : {}\".format(calculation.value4))\n",
        "calculation.div(3) # \n",
        "print(\"value : {}\".format(calculation.value5))\n"
      ],
      "execution_count": 6,
      "outputs": [
        {
          "output_type": "stream",
          "text": [
            "初期値5が設定されました\n",
            "value : 5\n",
            "value : 8\n",
            "value : 2\n",
            "value : 15\n",
            "value : 1.6666666666666667\n"
          ],
          "name": "stdout"
        }
      ]
    }
  ]
}
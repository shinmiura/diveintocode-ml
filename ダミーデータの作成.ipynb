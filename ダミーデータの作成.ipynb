{
  "nbformat": 4,
  "nbformat_minor": 0,
  "metadata": {
    "colab": {
      "name": "ダミーデータの作成.ipynb",
      "provenance": [],
      "collapsed_sections": [],
      "authorship_tag": "ABX9TyN86ybyIuH/9A38e5aTRkPs",
      "include_colab_link": true
    },
    "kernelspec": {
      "name": "python3",
      "display_name": "Python 3"
    },
    "language_info": {
      "name": "python"
    }
  },
  "cells": [
    {
      "cell_type": "markdown",
      "metadata": {
        "id": "view-in-github",
        "colab_type": "text"
      },
      "source": [
        "<a href=\"https://colab.research.google.com/github/shinmiura/diveintocode-ml/blob/master/%E3%83%80%E3%83%9F%E3%83%BC%E3%83%87%E3%83%BC%E3%82%BF%E3%81%AE%E4%BD%9C%E6%88%90.ipynb\" target=\"_parent\"><img src=\"https://colab.research.google.com/assets/colab-badge.svg\" alt=\"Open In Colab\"/></a>"
      ]
    },
    {
      "cell_type": "markdown",
      "metadata": {
        "id": "cn4ZzialFGq3"
      },
      "source": [
        "テキストの目的\n",
        "\n",
        "・数式演算ライブラリのNumPyに慣れる\n",
        "\n",
        "・グラフの表示に慣れる"
      ]
    },
    {
      "cell_type": "markdown",
      "metadata": {
        "id": "EdKjBqASFUVK"
      },
      "source": [
        "どのように学ぶか\n",
        "\n",
        "ヒントを示すので、それに従いデータの作成と作図を行っていきます。"
      ]
    },
    {
      "cell_type": "code",
      "metadata": {
        "id": "JfkbJeSPVBHT"
      },
      "source": [
        "ダミーデータの作成\n",
        "\n",
        "機械学習に関するプログラムの実験を行う上で、実データではないランダムなデータ（ダミーデータ）が欲しいということがあります。正規分布に従う乱数によるダミーデータの作成を通じてNumPyの使い方になれていきましょう。\n",
        "\n",
        "散布図で描くと次のようになるデータを作っていきます。\n"
      ],
      "execution_count": null,
      "outputs": []
    },
    {
      "cell_type": "markdown",
      "metadata": {
        "id": "6_lbyn5wVPG4"
      },
      "source": [
        ""
      ]
    },
    {
      "cell_type": "markdown",
      "metadata": {
        "id": "D3xAEloCVqVS"
      },
      "source": [
        "【問題１】乱数の作成"
      ]
    },
    {
      "cell_type": "markdown",
      "metadata": {
        "id": "-YYABAihV17O"
      },
      "source": [
        "平均が(-3, 0)、共分散行列が以下で表される2次元正規分布による乱数を500個作成してください。\n",
        "\n",
        "\n",
        "[[1.0 0.8]\n",
        "\n",
        " [0.8 1.0]]\n",
        "\n",
        "多次元の正規分布による乱数はnp.random.multivariate_normal()を使うことで作成できます。\n",
        "\n",
        "\n",
        "numpy.random.multivariate_normal — NumPy v1.19 Manual\n",
        "\n",
        "\n",
        "作成したndarrayのshapeは(500, 2)になります。\n",
        "\n",
        "\n",
        "《シード値について》\n",
        "\n",
        "\n",
        "実行ごとに値が変わらないように、np.random.seed()により乱数のシード値を固定しておきましょう。今回シード値は0を使うことにします。"
      ]
    },
    {
      "cell_type": "code",
      "metadata": {
        "id": "IeRbaOkMWLRl"
      },
      "source": [
        "import numpy as np"
      ],
      "execution_count": 1,
      "outputs": []
    },
    {
      "cell_type": "code",
      "metadata": {
        "id": "TORoTVMMWByL"
      },
      "source": [
        "import random"
      ],
      "execution_count": 2,
      "outputs": []
    },
    {
      "cell_type": "code",
      "metadata": {
        "id": "YKjdiMfiWRoc"
      },
      "source": [
        "np.random.seed(0) # 実行ごとに値が変わってしまわないようにするためのもの"
      ],
      "execution_count": 3,
      "outputs": []
    },
    {
      "cell_type": "code",
      "metadata": {
        "id": "kPtblNuUlYJ3"
      },
      "source": [
        "n_samples = 500 # サンプル数(default)\n",
        "mean = [-3, 0] # 平均\n",
        "cov = [[1.0, 0.8], [0.8, 1.0]] # 共分散"
      ],
      "execution_count": 11,
      "outputs": []
    },
    {
      "cell_type": "code",
      "metadata": {
        "colab": {
          "base_uri": "https://localhost:8080/"
        },
        "id": "lH-44MULmznv",
        "outputId": "4bfa361f-eb22-4437-e9e0-d3aff0f34a7b"
      },
      "source": [
        "dummy_data = np.random.multivariate_normal(mean, cov, n_samples) # 乱数の生成\n",
        "print(dummy_data.shape)"
      ],
      "execution_count": 12,
      "outputs": [
        {
          "output_type": "stream",
          "text": [
            "(500, 2)\n"
          ],
          "name": "stdout"
        }
      ]
    },
    {
      "cell_type": "markdown",
      "metadata": {
        "id": "5MAuKXTkYtJ1"
      },
      "source": [
        "【問題2】散布図による可視化"
      ]
    },
    {
      "cell_type": "code",
      "metadata": {
        "id": "znVK4hi_YwTQ"
      },
      "source": [
        "import matplotlib.pyplot as plt\n",
        "%matplotlib inline"
      ],
      "execution_count": 8,
      "outputs": []
    },
    {
      "cell_type": "code",
      "metadata": {
        "id": "wGLxHXAmZmM4"
      },
      "source": [
        "x = dummy_data[:, 0]\n",
        "y = dummy_data[:, 1]"
      ],
      "execution_count": 9,
      "outputs": []
    },
    {
      "cell_type": "code",
      "metadata": {
        "colab": {
          "base_uri": "https://localhost:8080/",
          "height": 295
        },
        "id": "HEZbLJ5MZEv1",
        "outputId": "bb20e65d-8799-4213-9e3d-32a71f780aa4"
      },
      "source": [
        "plt.title(\"Dummy Data Scatter\")\n",
        "plt.xlabel(\"rows\")\n",
        "plt.ylabel(\"columns\")\n",
        "plt.scatter(x, y)  \n",
        "plt.show()"
      ],
      "execution_count": 10,
      "outputs": [
        {
          "output_type": "display_data",
          "data": {
            "image/png": "[encoded data removed]",
            "text/plain": [
              "<Figure size 432x288 with 1 Axes>"
            ]
          },
          "metadata": {
            "tags": [],
            "needs_background": "light"
          }
        }
      ]
    },
    {
      "cell_type": "markdown",
      "metadata": {
        "id": "urRqUniCoK3u"
      },
      "source": [
        "【問題３】　ヒストグラムによる可視化\n",
        "\n",
        "問題1で作成したデータをヒストグラムにより可視化してください。\n",
        "\n",
        "ヒストグラムはplt.hist()を使うことで描けます。\n",
        "\n",
        "\n",
        "matplotlib.pyplot.hist — Matplotlib 3.1.1 documentation\n",
        "\n",
        "\n",
        "各次元ごとに作成し、2つのヒストグラムとしてください。\n",
        "\n",
        "\n",
        "それぞれのヒストグラムの横軸の範囲はplt.xlim()を用いて揃えるようにしてください。\n",
        "\n",
        "\n",
        "matplotlib.pyplot.xlim — Matplotlib 3.1.1 documentation"
      ]
    },
    {
      "cell_type": "code",
      "metadata": {
        "colab": {
          "base_uri": "https://localhost:8080/",
          "height": 295
        },
        "id": "PUor_xv-w64W",
        "outputId": "ce3dd1a8-5b27-47ee-d346-812e0265fa05"
      },
      "source": [
        "plt.title(\"Dummy Data Hist\")\n",
        "plt.xlabel(\"rows\")\n",
        "plt.ylabel(\"columns\")\n",
        "plt.hist(dummy_data[:, 0], bins = 50)  # 「リスト名」のところにリストの変数名を入れる\n",
        "plt.xlim(-6, 3)\n",
        "plt.show()"
      ],
      "execution_count": 31,
      "outputs": [
        {
          "output_type": "display_data",
          "data": {
            "image/png": "[encoded data removed]",
            "text/plain": [
              "<Figure size 432x288 with 1 Axes>"
            ]
          },
          "metadata": {
            "tags": [],
            "needs_background": "light"
          }
        }
      ]
    },
    {
      "cell_type": "code",
      "metadata": {
        "colab": {
          "base_uri": "https://localhost:8080/",
          "height": 295
        },
        "id": "IOE5pxe9xA8o",
        "outputId": "691290c0-2f3d-44e8-e675-e9168b113f9c"
      },
      "source": [
        "plt.title(\"Dummy Data Hist\")\n",
        "plt.xlabel(\"rows\")\n",
        "plt.ylabel(\"columns\")\n",
        "plt.hist(dummy_data[:, 1], bins = 50)  # 「リスト名」のところにリストの変数名を入れる\n",
        "plt.xlim(-6, 3)\n",
        "plt.show()"
      ],
      "execution_count": 32,
      "outputs": [
        {
          "output_type": "display_data",
          "data": {
            "image/png": "[encoded data removed]",
            "text/plain": [
              "<Figure size 432x288 with 1 Axes>"
            ]
          },
          "metadata": {
            "tags": [],
            "needs_background": "light"
          }
        }
      ]
    },
    {
      "cell_type": "code",
      "metadata": {
        "colab": {
          "base_uri": "https://localhost:8080/",
          "height": 295
        },
        "id": "MtxL9y_rv_Ki",
        "outputId": "d56f7b4f-1d84-44bc-bcfd-2c29b381f3d9"
      },
      "source": [
        "plt.title(\"Dummy Data Hist\")\n",
        "plt.xlabel(\"rows\")\n",
        "plt.ylabel(\"columns\")\n",
        "plt.hist(dummy_data, bins = 50)  # 「リスト名」のところにリストの変数名を入れる\n",
        "plt.xlim(-6, 3)\n",
        "plt.show()"
      ],
      "execution_count": 30,
      "outputs": [
        {
          "output_type": "display_data",
          "data": {
            "image/png": "[encoded data removed]",
            "text/plain": [
              "<Figure size 432x288 with 1 Axes>"
            ]
          },
          "metadata": {
            "tags": [],
            "needs_background": "light"
          }
        }
      ]
    },
    {
      "cell_type": "markdown",
      "metadata": {
        "id": "vsDwxsppxIlm"
      },
      "source": [
        "【問題4】データの追加"
      ]
    },
    {
      "cell_type": "markdown",
      "metadata": {
        "id": "cle5lctHyNyx"
      },
      "source": [
        "新たに平均が(0, -3)、共分散行列が以下で表される2次元正規分布による乱数を500個作成してください。\n",
        "\n",
        "\n",
        "[[1.0, 0.8]\n",
        " [0.8, 1.0]]\n",
        "\n",
        "そして、問題1、4それぞれのデータをひとつの散布図として可視化してください。凡例として問題1のものは0、問題4のものは1を表示してください。"
      ]
    },
    {
      "cell_type": "code",
      "metadata": {
        "id": "oQn4EU45qBtx"
      },
      "source": [
        "n_samples2 = 500 # サンプル数(default)\n",
        "mean2 = [0, -3] # 平均\n",
        "cov2 = [[1.0, 0.8], [0.8, 1.0]] # 共分散"
      ],
      "execution_count": 13,
      "outputs": []
    },
    {
      "cell_type": "code",
      "metadata": {
        "colab": {
          "base_uri": "https://localhost:8080/"
        },
        "id": "keh1HBzvqW4L",
        "outputId": "40a1f6b9-2da1-45ec-b38f-f2b163e16366"
      },
      "source": [
        "dummy_data2 = np.random.multivariate_normal(mean2, cov2, n_samples2) # 乱数の生成\n",
        "print(dummy_data2.shape)"
      ],
      "execution_count": 14,
      "outputs": [
        {
          "output_type": "stream",
          "text": [
            "(500, 2)\n"
          ],
          "name": "stdout"
        }
      ]
    },
    {
      "cell_type": "code",
      "metadata": {
        "id": "l5p-Uz_8wzfe"
      },
      "source": [
        "x2 = dummy_data2[:, 0]\n",
        "y2 = dummy_data2[:, 1]"
      ],
      "execution_count": 16,
      "outputs": []
    },
    {
      "cell_type": "code",
      "metadata": {
        "colab": {
          "base_uri": "https://localhost:8080/",
          "height": 295
        },
        "id": "S9v4AhT7yxmO",
        "outputId": "07de5a3c-5c23-4bef-adf6-85f4caebe3d1"
      },
      "source": [
        "plt.title(\"Dummy Data Scatter\")\n",
        "plt.xlabel(\"rows\")\n",
        "plt.ylabel(\"columns\")\n",
        "plt.scatter(x, y, label = \"0\")  # 問題１のデータはデータは0の凡例をつける\n",
        "plt.scatter(x2, y2, label = \"1\")  # 問題4のデータはデータは1の凡例をつける\n",
        "plt.legend()\n",
        "plt.show()"
      ],
      "execution_count": 17,
      "outputs": [
        {
          "output_type": "display_data",
          "data": {
            "image/png": "[encoded data removed]",
            "text/plain": [
              "<Figure size 432x288 with 1 Axes>"
            ]
          },
          "metadata": {
            "tags": [],
            "needs_background": "light"
          }
        }
      ]
    },
    {
      "cell_type": "markdown",
      "metadata": {
        "id": "Mb9c8r2o0Wc1"
      },
      "source": [
        "【問題5】データの結合"
      ]
    },
    {
      "cell_type": "markdown",
      "metadata": {
        "id": "k79wu0-E0cHy"
      },
      "source": [
        "データはまとめておいた方が後々扱いやすいです。問題1、4で作成したndarrayを 結合 し、(1000, 2)のndarrayとしてください。結合はnp.concatenate()やnp.vstack()を使うことで行えます。\n",
        "\n"
      ]
    },
    {
      "cell_type": "code",
      "metadata": {
        "id": "RzcgQ3eo0mJq"
      },
      "source": [
        "marged_data = np.concatenate([dummy_data, dummy_data2], axis = 0)"
      ],
      "execution_count": 18,
      "outputs": []
    },
    {
      "cell_type": "code",
      "metadata": {
        "colab": {
          "base_uri": "https://localhost:8080/"
        },
        "id": "fJQjSP3g1Efe",
        "outputId": "f85446e6-b137-4179-fa39-1ef820e9c9f3"
      },
      "source": [
        "print(marged_data.shape)"
      ],
      "execution_count": 19,
      "outputs": [
        {
          "output_type": "stream",
          "text": [
            "(1000, 2)\n"
          ],
          "name": "stdout"
        }
      ]
    },
    {
      "cell_type": "markdown",
      "metadata": {
        "id": "NW-HFVKeyVYr"
      },
      "source": [
        "【問題６】　ラベル付け\n",
        "\n",
        "ひとまとめになった1000個のデータそれぞれに対して、問題1、4どちらで作成したものなのかを示すラベル付けを行ってください。問題1のものには0、問題4のものには1を対応させます。\n",
        "\n",
        "\n",
        "0と1を含むラベルの列を新たに追加し、(1000, 3)のndarrayを作成してください。\n",
        "\n",
        "\n",
        "機械学習に使用するデータセットはこのような形になっていることが多いです。\n",
        "\n",
        "\n",
        "《作成例》\n",
        "\n",
        "\n",
        "データが3個+3個の場合は以下のような(6, 3)のndarrayになります。"
      ]
    },
    {
      "cell_type": "code",
      "metadata": {
        "id": "rVsR5DtN6BAx"
      },
      "source": [
        "data1_labeled = np.insert(dummy_data, 2, 0, axis=1)"
      ],
      "execution_count": 24,
      "outputs": []
    },
    {
      "cell_type": "code",
      "metadata": {
        "colab": {
          "base_uri": "https://localhost:8080/"
        },
        "id": "sMtpPvH_6fJ2",
        "outputId": "f65340a8-01be-4297-ba90-1f2eccc6185d"
      },
      "source": [
        "print(data1_labeled)"
      ],
      "execution_count": 25,
      "outputs": [
        {
          "output_type": "stream",
          "text": [
            "[[-3.80965753 -0.24520748  0.        ]\n",
            " [-2.63247046  0.4337565   0.        ]\n",
            " [-3.28006393 -0.15263683  0.        ]\n",
            " ...\n",
            " [-3.2185878  -0.15676476  0.        ]\n",
            " [-4.37970304 -1.27950068  0.        ]\n",
            " [-1.50213196  0.66873757  0.        ]]\n"
          ],
          "name": "stdout"
        }
      ]
    },
    {
      "cell_type": "code",
      "metadata": {
        "id": "OrZKUkPY6obl"
      },
      "source": [
        "data2_labeled = np.insert(dummy_data2, 2, 1, axis=1)"
      ],
      "execution_count": 26,
      "outputs": []
    },
    {
      "cell_type": "code",
      "metadata": {
        "colab": {
          "base_uri": "https://localhost:8080/"
        },
        "id": "Ql5zf2_k6oRt",
        "outputId": "95a4870e-2dc0-4c2e-aefa-340271c7ba02"
      },
      "source": [
        "print(data2_labeled)"
      ],
      "execution_count": 27,
      "outputs": [
        {
          "output_type": "stream",
          "text": [
            "[[ 1.9956291  -2.0871159   1.        ]\n",
            " [ 0.25929706 -3.34683218  1.        ]\n",
            " [ 0.2992444  -3.14591514  1.        ]\n",
            " ...\n",
            " [-0.96110234 -2.64611556  1.        ]\n",
            " [ 0.92174137 -2.19994573  1.        ]\n",
            " [ 1.17578092 -1.87519405  1.        ]]\n"
          ],
          "name": "stdout"
        }
      ]
    },
    {
      "cell_type": "code",
      "metadata": {
        "id": "teUlkUzj40GL"
      },
      "source": [
        "final_data = np.concatenate([data1_labeled, data2_labeled], axis = 0)"
      ],
      "execution_count": 28,
      "outputs": []
    },
    {
      "cell_type": "code",
      "metadata": {
        "colab": {
          "base_uri": "https://localhost:8080/"
        },
        "id": "Jh_aAxVb7leA",
        "outputId": "3e344781-87c3-4578-d347-f551ae47f84f"
      },
      "source": [
        "print(final_data.shape)\n",
        "print(final_data)"
      ],
      "execution_count": 31,
      "outputs": [
        {
          "output_type": "stream",
          "text": [
            "(1000, 3)\n",
            "[[-3.80965753 -0.24520748  0.        ]\n",
            " [-2.63247046  0.4337565   0.        ]\n",
            " [-3.28006393 -0.15263683  0.        ]\n",
            " ...\n",
            " [-0.96110234 -2.64611556  1.        ]\n",
            " [ 0.92174137 -2.19994573  1.        ]\n",
            " [ 1.17578092 -1.87519405  1.        ]]\n"
          ],
          "name": "stdout"
        }
      ]
    }
  ]
}
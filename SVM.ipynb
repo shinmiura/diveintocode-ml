{
  "nbformat": 4,
  "nbformat_minor": 0,
  "metadata": {
    "colab": {
      "name": "SVM.ipynb",
      "provenance": [],
      "collapsed_sections": [],
      "authorship_tag": "ABX9TyMr55HjGTm1nBvgQfB4xL/q",
      "include_colab_link": true
    },
    "kernelspec": {
      "name": "python3",
      "display_name": "Python 3"
    },
    "language_info": {
      "name": "python"
    }
  },
  "cells": [
    {
      "cell_type": "markdown",
      "metadata": {
        "id": "view-in-github",
        "colab_type": "text"
      },
      "source": [
        "<a href=\"https://colab.research.google.com/github/shinmiura/diveintocode-ml/blob/master/SVM.ipynb\" target=\"_parent\"><img src=\"https://colab.research.google.com/assets/colab-badge.svg\" alt=\"Open In Colab\"/></a>"
      ]
    },
    {
      "cell_type": "markdown",
      "metadata": {
        "id": "dFw9qOKKrgJ8"
      },
      "source": [
        "**Sprintの目的**\n",
        "\n",
        "・スクラッチを通してSVMを理解する\n",
        "\n",
        "・線形モデルと異なる手法に触れる"
      ]
    },
    {
      "cell_type": "markdown",
      "metadata": {
        "id": "HhT-M481rsI6"
      },
      "source": [
        "**どのように学ぶか**\n",
        "\n",
        "スクラッチでSVMを実装した後、学習と検証を行なっていきます。"
      ]
    },
    {
      "cell_type": "markdown",
      "metadata": {
        "id": "DSQyIPq1tGsI"
      },
      "source": [
        "# 2.SVMスクラッチ"
      ]
    },
    {
      "cell_type": "markdown",
      "metadata": {
        "id": "CJr_7Rg2tIrt"
      },
      "source": [
        "分類のためのサポートベクターマシン（SVM、サポートベクトルマシン）のクラスをスクラッチで作成していきます。NumPyなど最低限のライブラリのみを使いアルゴリズムを実装していきます。\n",
        "\n",
        "\n",
        "SVMには学習時に分類の間違いを認めるソフトマージンSVMと、認めないハードマージンSVMがありますが、ここでは実装が単純なハードマージンSVMを扱います。\n",
        "\n",
        "\n",
        "以下に雛形を用意してあります。このScratchSVMClassifierクラスにコードを書き加えていってください。"
      ]
    },
    {
      "cell_type": "code",
      "metadata": {
        "id": "YJegsOMmrYFu"
      },
      "source": [
        "# 雛形\n",
        "\n",
        "class ScratchSVMClassifier():\n",
        "    \"\"\"\n",
        "    SVM分類器のスクラッチ実装\n",
        "    Parameters\n",
        "    ----------\n",
        "    num_iter : int\n",
        "      イテレーション数\n",
        "    lr : float\n",
        "      学習率\n",
        "    kernel : str\n",
        "      カーネルの種類。線形カーネル（linear）か多項式カーネル（polly）\n",
        "    threshold : float\n",
        "      サポートベクターを選ぶための閾値\n",
        "    verbose : bool\n",
        "      学習過程を出力する場合はTrue\n",
        "    Attributes\n",
        "    ----------\n",
        "    self.n_support_vectors : int\n",
        "      サポートベクターの数\n",
        "    self.index_support_vectors : 次の形のndarray, shape (n_support_vectors,)\n",
        "      サポートベクターのインデックス\n",
        "    self.X_sv :  次の形のndarray, shape(n_support_vectors, n_features)\n",
        "      サポートベクターの特徴量\n",
        "    self.lam_sv :  次の形のndarray, shape(n_support_vectors, 1)\n",
        "      サポートベクターの未定乗数\n",
        "    self.y_sv :  次の形のndarray, shape(n_support_vectors, 1)\n",
        "      サポートベクターのラベル\n",
        "    \"\"\"\n",
        "    # 閾値を1e-5としている根拠はVectorの指示による\n",
        "    def __init__(self, num_iter = 100, lr = 0.01, kernel='linear', gamma = 1, d =1, theta =0, threshold=1e-5, verbose=False):\n",
        "        # ハイパーパラメータを属性として記録\n",
        "        self.iter = num_iter\n",
        "        self.lr = lr\n",
        "        self.kernel = kernel\n",
        "        self.gamma = gamma\n",
        "        self.d = d\n",
        "        self.theta = theta\n",
        "        self.threshold = threshold\n",
        "        self.verbose = verbose\n",
        "\n",
        "    def _kernel(self, X1, X2):\n",
        "        \"\"\"\n",
        "        カーネル関数を作成する。\n",
        "        Parameters\n",
        "        ----------\n",
        "        X : 次の形のndarray, shape (n_samples, n_features)\n",
        "            訓練データの特徴量\n",
        "        \"\"\"\n",
        "        if self.kernel == 'poly':\n",
        "          self.gamma = 1\n",
        "          self.theta = 1\n",
        "          self.d = 2\n",
        "        \n",
        "        return (self.gamma * np.dot(X1, X2.T) + self.theta)**self.d\n",
        "    \n",
        "    def _lambda_update(self, X, y):\n",
        "      for i in range(len(X)):\n",
        "        total = 0\n",
        "        for j in range(len(X)):\n",
        "          total += self.lam[j] * y[i] * y[j] * self._kernel(X[i], X[j])\n",
        "        \n",
        "        self.lam[i] += self.lr * (1 - total)\n",
        "\n",
        "        if self.lam[i] < 0:\n",
        "          self.lam[i] = 0\n",
        "\n",
        "    def fit(self, X, y, X_val=None, y_val=None):\n",
        "        \"\"\"\n",
        "        SVM分類器を学習する。検証データが入力された場合はそれに対する精度もイテレーションごとに計算する。\n",
        "        Parameters\n",
        "        ----------\n",
        "        X : 次の形のndarray, shape (n_samples, n_features)\n",
        "            訓練データの特徴量\n",
        "        y : 次の形のndarray, shape (n_samples, )\n",
        "            訓練データの正解値\n",
        "        X_val : 次の形のndarray, shape (n_samples, n_features)\n",
        "            検証データの特徴量\n",
        "        y_val : 次の形のndarray, shape (n_samples, )\n",
        "            検証データの正解値\n",
        "        \"\"\"\n",
        "        \n",
        "        # λの初期値を設定\n",
        "        self.lam = np.random.rand(len(X))\n",
        "\n",
        "        # yのユニーク値\n",
        "        self.ylabel = np.unique(y)\n",
        "        # yのラベルを-1, 1に置き換える\n",
        "        y = np.where(y == self.ylabel[0], -1, 1)\n",
        "\n",
        "        for i in range(self.iter):\n",
        "          self._lambda_update(X, y)\n",
        "\n",
        "          # 学習プロセスの出力 (verboseをTrueにした際は学習過程を出力)\n",
        "          if self.verbose:\n",
        "            print('iter_n:', i, 'lambda:', self.lam)\n",
        "\n",
        "          # サポートベクターの抽出・仕様\n",
        "          self.index_support_vectors = np.where(self.lam > self.threshold)\n",
        "          self.X_sv = X[self.lam > self.threshold]\n",
        "          self.n_support_vectors = len(self.X_sv)\n",
        "          self.lam_sv = self.lam[self.lam > self.threshold]\n",
        "          self.y_sv = y[self.lam > self.threshold]\n",
        "\n",
        "    def predict(self, X):\n",
        "        \"\"\"\n",
        "        SVM分類器を使いラベルを推定する。\n",
        "        Parameters\n",
        "        ----------\n",
        "        X : 次の形のndarray, shape (n_samples, n_features)\n",
        "            サンプル\n",
        "        Returns\n",
        "        -------\n",
        "            次の形のndarray, shape (n_samples, 1)\n",
        "            SVM分類器による推定結果\n",
        "        \"\"\"\n",
        "        y_pred = np.zeros(len(X))\n",
        "\n",
        "        for i in range(len(X)):\n",
        "          total = 0\n",
        "          for j in range(self.n_support_vectors):\n",
        "            total += self.lam_sv[j] * self.y_sv[j] * self._kernel(X[i], self.X_sv[j])\n",
        "          \n",
        "          if total >= 0:\n",
        "            y_pred[i] = self.ylabel[1]\n",
        "          else:\n",
        "            y_pred[i] = self.ylabel[0]\n",
        "        \n",
        "        return y_pred\n"
      ],
      "execution_count": 21,
      "outputs": []
    },
    {
      "cell_type": "markdown",
      "metadata": {
        "id": "oIziFV-ztdly"
      },
      "source": [
        "**【問題1】ラグランジュの未定乗数法による最急降下**\n",
        "\n",
        "SVMの学習は、ラグランジュの未定乗数法を用います。サンプル数分のラグランジュ乗数 $\\lambda$ を用意して、以下の式により更新していきます。この計算を行うメソッドをScratchSVMClassifierクラスに実装してください。\n",
        "\n",
        "$$\n",
        "\\lambda_i^{new} = \\lambda_i + \\alpha(1 - \\sum_{j=1}^{n}{\\lambda_j y_i y_j k(x_i, x_j)})\n",
        "$$\n",
        "ここで $k(x_i, x_j)$ はカーネル関数です。線形カーネルの場合は次のようになります。他のカーネル関数にも対応できるように、この部分は独立したメソッドとしておきましょう。\n",
        "\n",
        "\n",
        "\\[k(x_i, x_j) = x_{i}^{T} x_j\\]\n",
        "条件として、更新毎に $\\lambda_i >= 0$を満たす必要があります。満たさない場合は $\\lambda_i = 0$とします。\n",
        "\n",
        "\n",
        "$i, j$ : サンプルのインデックス\n",
        "\n",
        "\n",
        "$\\lambda_i^{new}$ : 更新後のi番目のサンプルのラグランジュ乗数\n",
        "\n",
        "\n",
        "$\\lambda_i$ : 更新前のi番目のサンプルのラグランジュ乗数\n",
        "\n",
        "\n",
        "$\\alpha$ : 学習率\n",
        "\n",
        "\n",
        "$\\lambda_j$ : j番目のサンプルのラグランジュ乗数\n",
        "\n",
        "\n",
        "$y_i$ : i番目のサンプルのラベル\n",
        "\n",
        "\n",
        "$y_j$ : j番目のサンプルのラベル\n",
        "\n",
        "\n",
        "$x_i$ : i番目のサンプルの特徴量ベクトル\n",
        "\n",
        "\n",
        "$x_j$ : j番目のサンプルの特徴量ベクトル\n",
        "\n",
        "\n",
        "あるサンプルに対してのすべてのサンプルとの関係を計算していくことになります。\n",
        "\n"
      ]
    },
    {
      "cell_type": "code",
      "metadata": {
        "id": "kIWQIeTRvII7"
      },
      "source": [
        "# 必要なライブラリの読み込み\n",
        "import numpy as np\n",
        "import matplotlib.pyplot as plt"
      ],
      "execution_count": 2,
      "outputs": []
    },
    {
      "cell_type": "code",
      "metadata": {
        "id": "ZVVJv7C9vYeI"
      },
      "source": [
        "np.random.seed(seed = 1234)\n",
        "\n",
        "n_samples = 100\n",
        "f0 = [-1, 2]\n",
        "f1 = [2, -1]\n",
        "cov = [[1.0, 0.8], [0.8, 1.0]]\n",
        "f0 = np.random.multivariate_normal(f0, cov, int(n_samples / 2))\n",
        "f1 = np.random.multivariate_normal(f1, cov, int(n_samples / 2))\n",
        "X = np.concatenate((f0, f1))\n",
        "y = np.concatenate((np.ones((int(n_samples / 2))),\n",
        "                    np.ones((int(n_samples / 2))) * (-1))).astype(np.int)\n",
        "random_index = np.random.permutation(np.arange(n_samples))\n",
        "sample1_X = X[random_index]\n",
        "sample1_y = y[random_index]"
      ],
      "execution_count": 3,
      "outputs": []
    },
    {
      "cell_type": "code",
      "metadata": {
        "colab": {
          "base_uri": "https://localhost:8080/"
        },
        "id": "yhJ490n40Q59",
        "outputId": "de1b6156-6393-4a93-c25d-8b8648ed18f2"
      },
      "source": [
        "# 少量のサンプルによるテスト\n",
        "X = sample1_X = X[20 : 40]\n",
        "y = sample1_y = y[20 : 40]\n",
        "print(X)\n",
        "print(y)"
      ],
      "execution_count": 4,
      "outputs": [
        {
          "output_type": "stream",
          "name": "stdout",
          "text": [
            "[[-0.89316335  1.74858479]\n",
            " [-0.37812172  1.30954722]\n",
            " [-0.95137044  1.48121779]\n",
            " [-0.87600858  2.13555852]\n",
            " [-1.78472253  1.35142527]\n",
            " [-1.34064571  0.74494371]\n",
            " [ 0.36194177  3.2981155 ]\n",
            " [-0.43415884  2.47437575]\n",
            " [-1.32462297  1.65291662]\n",
            " [-2.02548671  1.95207375]\n",
            " [-0.05351326  2.90199673]\n",
            " [-1.22623181  1.64190199]\n",
            " [-1.2216594   0.26016042]\n",
            " [-2.565068   -0.28773148]\n",
            " [-1.42386246  2.021842  ]\n",
            " [-0.40098685  2.89124539]\n",
            " [-1.83363731  1.4974582 ]\n",
            " [-0.75621369  3.51365769]\n",
            " [-0.85081276  1.42018161]\n",
            " [-1.61204335  1.41294666]]\n",
            "[1 1 1 1 1 1 1 1 1 1 1 1 1 1 1 1 1 1 1 1]\n"
          ]
        }
      ]
    },
    {
      "cell_type": "code",
      "metadata": {
        "colab": {
          "base_uri": "https://localhost:8080/"
        },
        "id": "RQ2ICfjd1Fgx",
        "outputId": "35214cf5-8a59-4d8a-a90f-67591b398eac"
      },
      "source": [
        "# 0〜1までの乱数を生成させる\n",
        "lam = np.random.rand(len(X))\n",
        "lam.reshape(-1, 1)"
      ],
      "execution_count": 5,
      "outputs": [
        {
          "output_type": "execute_result",
          "data": {
            "text/plain": [
              "array([[0.76445129],\n",
              "       [0.22728855],\n",
              "       [0.38749154],\n",
              "       [0.49016629],\n",
              "       [0.52521129],\n",
              "       [0.51334927],\n",
              "       [0.75777343],\n",
              "       [0.35511886],\n",
              "       [0.51460648],\n",
              "       [0.33840972],\n",
              "       [0.85725545],\n",
              "       [0.57467626],\n",
              "       [0.4114045 ],\n",
              "       [0.32613068],\n",
              "       [0.60433544],\n",
              "       [0.47201608],\n",
              "       [0.98286988],\n",
              "       [0.92706395],\n",
              "       [0.34516176],\n",
              "       [0.37327842]])"
            ]
          },
          "metadata": {},
          "execution_count": 5
        }
      ]
    },
    {
      "cell_type": "code",
      "metadata": {
        "colab": {
          "base_uri": "https://localhost:8080/"
        },
        "id": "nnFf0UoT9QZO",
        "outputId": "27bea2e5-5beb-4d85-c310-65957237386c"
      },
      "source": [
        "# イテレーション\n",
        "num_iter = 100\n",
        "\n",
        "for _ in range(num_iter):\n",
        "  for i in range(len(X)):\n",
        "    total = 0\n",
        "    for j in range(len(X)):\n",
        "      total += lam[j] * y[i] * y[j] * np.dot(X[i], X[j])\n",
        "    \n",
        "    lam += 0.01 * (1 - total)\n",
        "\n",
        "    if lam[i] < 0:\n",
        "      lam[i] = 0\n",
        "\n",
        "print('lambda:\\n', lam.reshape(-1, 1))"
      ],
      "execution_count": 6,
      "outputs": [
        {
          "output_type": "stream",
          "name": "stdout",
          "text": [
            "lambda:\n",
            " [[-0.00030623]\n",
            " [-0.00357603]\n",
            " [-0.002287  ]\n",
            " [ 0.00119998]\n",
            " [ 0.0002773 ]\n",
            " [-0.00344594]\n",
            " [ 0.00369116]\n",
            " [ 0.00183936]\n",
            " [ 0.00055059]\n",
            " [ 0.00321487]\n",
            " [ 0.00253773]\n",
            " [ 0.00042083]\n",
            " [-0.00567808]\n",
            " [-0.00820956]\n",
            " [ 0.00233951]\n",
            " [ 0.00319179]\n",
            " [ 0.11757643]\n",
            " [ 0.0617705 ]\n",
            " [ 0.0002232 ]\n",
            " [ 0.        ]]\n"
          ]
        }
      ]
    },
    {
      "cell_type": "code",
      "metadata": {
        "colab": {
          "base_uri": "https://localhost:8080/"
        },
        "id": "tG4vT_qVDj7P",
        "outputId": "be516b8c-e761-4e28-d376-f4f6014aa0d5"
      },
      "source": [
        "# numpyを用いる\n",
        "xx = np.array([[1, 2],\n",
        "               [1, 2],\n",
        "               [2, 4],\n",
        "               [2, 4]])\n",
        "\n",
        "np.dot(xx[1],xx.T)"
      ],
      "execution_count": null,
      "outputs": [
        {
          "output_type": "execute_result",
          "data": {
            "text/plain": [
              "array([ 5,  5, 10, 10])"
            ]
          },
          "metadata": {},
          "execution_count": 7
        }
      ]
    },
    {
      "cell_type": "code",
      "metadata": {
        "colab": {
          "base_uri": "https://localhost:8080/"
        },
        "id": "mTNlVHE6D8Bw",
        "outputId": "e7594d08-ab49-4ece-cc43-d611df892f2d"
      },
      "source": [
        "a = np.dot(X[0], X.T)\n",
        "print(a)"
      ],
      "execution_count": null,
      "outputs": [
        {
          "output_type": "stream",
          "name": "stdout",
          "text": [
            "[3.85528954 2.62757881 3.43976411 4.51662391 3.95713043 2.50001285\n",
            " 5.44376148 4.71443057 4.07336955 5.22245696 5.12218344 3.96623016\n",
            " 1.54605395 1.78790183 4.80710393 5.41373447 4.25617027 6.81935075\n",
            " 3.24322274 3.91047508]\n"
          ]
        }
      ]
    },
    {
      "cell_type": "code",
      "metadata": {
        "colab": {
          "base_uri": "https://localhost:8080/"
        },
        "id": "VLi019_pEMZ2",
        "outputId": "5a8ee0ab-7449-4699-c4b1-9a79067e09ed"
      },
      "source": [
        "b = lam * y[0] * y\n",
        "print(b)"
      ],
      "execution_count": null,
      "outputs": [
        {
          "output_type": "stream",
          "name": "stdout",
          "text": [
            "[-0.00030623 -0.00357603 -0.002287    0.00119998  0.0002773  -0.00344594\n",
            "  0.00369116  0.00183936  0.00055059  0.00321487  0.00253773  0.00042083\n",
            " -0.00567808 -0.00820956  0.00233951  0.00319179  0.11757643  0.0617705\n",
            "  0.0002232   0.        ]\n"
          ]
        }
      ]
    },
    {
      "cell_type": "code",
      "metadata": {
        "colab": {
          "base_uri": "https://localhost:8080/"
        },
        "id": "yJUSwiDBE1ew",
        "outputId": "30b168c4-7e5e-4b7f-e91d-99f78951a91e"
      },
      "source": [
        "a * b"
      ],
      "execution_count": null,
      "outputs": [
        {
          "output_type": "execute_result",
          "data": {
            "text/plain": [
              "array([-0.00118059, -0.00939629, -0.00786674,  0.00541984,  0.00109732,\n",
              "       -0.00861489,  0.0200938 ,  0.00867153,  0.00224277,  0.01678954,\n",
              "        0.01299874,  0.00166911, -0.00877862, -0.01467789,  0.01124627,\n",
              "        0.01727949,  0.50042532,  0.42123471,  0.00072389,  0.        ])"
            ]
          },
          "metadata": {},
          "execution_count": 10
        }
      ]
    },
    {
      "cell_type": "code",
      "metadata": {
        "colab": {
          "base_uri": "https://localhost:8080/"
        },
        "id": "10DWufkkE5s1",
        "outputId": "b5b67020-21c0-49cd-dbe6-1f8b2d909a92"
      },
      "source": [
        "np.sum(a * b)"
      ],
      "execution_count": null,
      "outputs": [
        {
          "output_type": "execute_result",
          "data": {
            "text/plain": [
              "0.9693773124060548"
            ]
          },
          "metadata": {},
          "execution_count": 11
        }
      ]
    },
    {
      "cell_type": "code",
      "metadata": {
        "colab": {
          "base_uri": "https://localhost:8080/"
        },
        "id": "1Jae1joeE_ix",
        "outputId": "f72afb2b-19c4-4f22-8ee8-3ce530cb23b7"
      },
      "source": [
        "np.dot(a, b)"
      ],
      "execution_count": null,
      "outputs": [
        {
          "output_type": "execute_result",
          "data": {
            "text/plain": [
              "0.969377312406055"
            ]
          },
          "metadata": {},
          "execution_count": 12
        }
      ]
    },
    {
      "cell_type": "code",
      "metadata": {
        "colab": {
          "base_uri": "https://localhost:8080/"
        },
        "id": "dNtHtLSkFRHD",
        "outputId": "49590edd-852c-4769-a016-63fa47bc4d90"
      },
      "source": [
        "c = np.dot(X, X.T)\n",
        "print(c.shape)"
      ],
      "execution_count": null,
      "outputs": [
        {
          "output_type": "stream",
          "name": "stdout",
          "text": [
            "(20, 20)\n"
          ]
        }
      ]
    },
    {
      "cell_type": "code",
      "metadata": {
        "colab": {
          "base_uri": "https://localhost:8080/"
        },
        "id": "LpGw0jXjFcXh",
        "outputId": "93c63f8b-bbd4-467b-e2a6-742751b2f9f9"
      },
      "source": [
        "d = lam * y * y.T\n",
        "print(d.shape)"
      ],
      "execution_count": null,
      "outputs": [
        {
          "output_type": "stream",
          "name": "stdout",
          "text": [
            "(20,)\n"
          ]
        }
      ]
    },
    {
      "cell_type": "code",
      "metadata": {
        "colab": {
          "base_uri": "https://localhost:8080/"
        },
        "id": "lE0m3hpHG1Wn",
        "outputId": "affcf26b-e608-4e28-d3d5-9343426f64ad"
      },
      "source": [
        "np.dot(c, d)"
      ],
      "execution_count": null,
      "outputs": [
        {
          "output_type": "execute_result",
          "data": {
            "text/plain": [
              "array([0.96937731, 0.65631515, 0.8678214 , 1.13243875, 1.01141478,\n",
              "       0.64301978, 1.33805875, 1.17294377, 1.03142263, 1.32857808,\n",
              "       1.26647571, 1.00309074, 0.40508676, 0.49026716, 1.21457421,\n",
              "       1.34508258, 1.08622011, 1.69907198, 0.81736126, 0.99661952])"
            ]
          },
          "metadata": {},
          "execution_count": 15
        }
      ]
    },
    {
      "cell_type": "markdown",
      "metadata": {
        "id": "kCfYXSOZv1Np"
      },
      "source": [
        "**【問題2】サポートベクターの決定**\n",
        "\n",
        "計算したラグランジュ乗数 $\\lambda$ が設定した閾値より大きいサンプルをサポートベクターとして扱います。推定時にサポートベクターが必要になります。サポートベクターを決定し、インスタンス変数として保持しておくコードを書いてください。\n",
        "\n",
        "\n",
        "閾値はハイパーパラメータですが、1e-5程度からはじめると良いでしょう。サポートベクターの数を出力させられるようにしておくと学習がうまく行えているかを確認できます。"
      ]
    },
    {
      "cell_type": "code",
      "metadata": {
        "colab": {
          "base_uri": "https://localhost:8080/"
        },
        "id": "PISkJNZ3Hz8S",
        "outputId": "9eae8686-8c5f-4adf-ad24-5f98739d2dfc"
      },
      "source": [
        "# λが閾値よりも大きいサンプルの抽出\n",
        "threshold = 1e-5 # Diverの指定に従って閾値を設定\n",
        "sup_vec = X[lam > threshold]\n",
        "print(sup_vec)"
      ],
      "execution_count": 7,
      "outputs": [
        {
          "output_type": "stream",
          "name": "stdout",
          "text": [
            "[[-0.87600858  2.13555852]\n",
            " [-1.78472253  1.35142527]\n",
            " [ 0.36194177  3.2981155 ]\n",
            " [-0.43415884  2.47437575]\n",
            " [-1.32462297  1.65291662]\n",
            " [-2.02548671  1.95207375]\n",
            " [-0.05351326  2.90199673]\n",
            " [-1.22623181  1.64190199]\n",
            " [-1.42386246  2.021842  ]\n",
            " [-0.40098685  2.89124539]\n",
            " [-1.83363731  1.4974582 ]\n",
            " [-0.75621369  3.51365769]\n",
            " [-0.85081276  1.42018161]]\n"
          ]
        }
      ]
    },
    {
      "cell_type": "code",
      "metadata": {
        "colab": {
          "base_uri": "https://localhost:8080/"
        },
        "id": "E6P3vlkhIWci",
        "outputId": "bdbfb169-a0c5-4599-9af7-11c345357099"
      },
      "source": [
        "# インデックスの取得\n",
        "sup_index = np.where(lam > threshold)\n",
        "print(sup_index)"
      ],
      "execution_count": 8,
      "outputs": [
        {
          "output_type": "stream",
          "name": "stdout",
          "text": [
            "(array([ 3,  4,  6,  7,  8,  9, 10, 11, 14, 15, 16, 17, 18]),)\n"
          ]
        }
      ]
    },
    {
      "cell_type": "code",
      "metadata": {
        "colab": {
          "base_uri": "https://localhost:8080/"
        },
        "id": "natre19mLgHI",
        "outputId": "73a0dbb5-5a1a-43aa-dc84-d631357b7915"
      },
      "source": [
        "# サポートベクターのλ値とラベル値を取得する\n",
        "sup_lam = lam[lam > 0]\n",
        "sup_y = y[lam > 0]\n",
        "print(sup_lam)\n",
        "print(sup_y)"
      ],
      "execution_count": 9,
      "outputs": [
        {
          "output_type": "stream",
          "name": "stdout",
          "text": [
            "[0.00119998 0.0002773  0.00369116 0.00183936 0.00055059 0.00321487\n",
            " 0.00253773 0.00042083 0.00233951 0.00319179 0.11757643 0.0617705\n",
            " 0.0002232 ]\n",
            "[1 1 1 1 1 1 1 1 1 1 1 1 1]\n"
          ]
        }
      ]
    },
    {
      "cell_type": "markdown",
      "metadata": {
        "id": "SWFYmmwdv9hN"
      },
      "source": [
        "**【問題3】推定**\n",
        "\n",
        "推定時には、推定したいデータの特徴量とサポートベクターの特徴量をカーネル関数によって計算します。求めた $f(x)$ の符号が分類結果です。\n",
        "\n",
        "$$\n",
        "f(x) = \\sum_{n=1}^{N}\\lambda_n y_{sv_n} k(x, s_n)\n",
        "$$\n",
        "\n",
        "$x$ : 推定したいデータの特徴量ベクトル\n",
        "\n",
        "\n",
        "$N$ : サポートベクターの数\n",
        "\n",
        "\n",
        "$n$ : サポートベクターのインデックス\n",
        "\n",
        "\n",
        "$\\lambda_n$ : $n$番目のサポートベクターのラグランジュ乗数\n",
        "\n",
        "\n",
        "$y_{sv_n}$ : $n$番目のサポートベクターのラベル\n",
        "\n",
        "\n",
        "$k()$ : カーネル関数\n",
        "\n",
        "\n",
        "$s_n$ : $n$番目のサポートベクターの特徴量"
      ]
    },
    {
      "cell_type": "code",
      "metadata": {
        "colab": {
          "base_uri": "https://localhost:8080/"
        },
        "id": "uzXP039-wZt6",
        "outputId": "95b8ac47-68ff-4b45-9ba3-abac34c1031c"
      },
      "source": [
        "X_test = X[0 : 5]\n",
        "X_test"
      ],
      "execution_count": 10,
      "outputs": [
        {
          "output_type": "execute_result",
          "data": {
            "text/plain": [
              "array([[-0.89316335,  1.74858479],\n",
              "       [-0.37812172,  1.30954722],\n",
              "       [-0.95137044,  1.48121779],\n",
              "       [-0.87600858,  2.13555852],\n",
              "       [-1.78472253,  1.35142527]])"
            ]
          },
          "metadata": {},
          "execution_count": 10
        }
      ]
    },
    {
      "cell_type": "code",
      "metadata": {
        "colab": {
          "base_uri": "https://localhost:8080/"
        },
        "id": "TJvyjIudTLRb",
        "outputId": "a63283aa-1960-4566-97e8-a4d632e8056b"
      },
      "source": [
        "for i in range(len(X_test)):\n",
        "  total = 0\n",
        "  for j in range(len(sup_vec)):\n",
        "    total += sup_lam[j] * sup_y[j] * np.dot(X_test[i], sup_vec[j])\n",
        "  \n",
        "  if total > 0:\n",
        "    print('f(X):{:.1f}, class:{}'.format(total, 1))\n",
        "  else:\n",
        "    print('f(X):{:.1f}, class{}'.format(total, -1))"
      ],
      "execution_count": 11,
      "outputs": [
        {
          "output_type": "stream",
          "name": "stdout",
          "text": [
            "f(X):1.0, class:1\n",
            "f(X):0.7, class:1\n",
            "f(X):0.9, class:1\n",
            "f(X):1.2, class:1\n",
            "f(X):1.1, class:1\n"
          ]
        }
      ]
    },
    {
      "cell_type": "markdown",
      "metadata": {
        "id": "XC4Mli6_wfEI"
      },
      "source": [
        "# 3.検証"
      ]
    },
    {
      "cell_type": "markdown",
      "metadata": {
        "id": "1ov15Pxfwg51"
      },
      "source": [
        "**【問題4】学習と推定**\n",
        "\n",
        "機械学習スクラッチ入門のSprintで用意したシンプルデータセット1の2値分類に対してスクラッチ実装の学習と推定を行なってください。\n",
        "\n",
        "\n",
        "scikit-learnによる実装と比べ、正しく動いているかを確認してください。\n",
        "\n",
        "\n",
        "AccuracyやPrecision、Recallなどの指標値はscikit-learnを使用してください。\n",
        "\n",
        "\n"
      ]
    },
    {
      "cell_type": "code",
      "metadata": {
        "id": "38_y7eT8UuMo"
      },
      "source": [
        "# 機械学習スクラッチ入門のSprintで用意したシンプルデータセット1を用いて学習と推定を行う\n",
        "np.random.seed(seed = 0)\n",
        "\n",
        "n_samples = 500\n",
        "f0 = [-1, 2]\n",
        "f1 = [2, -1]\n",
        "cov = [[1.0, 0.8], [0.8, 1.0]]\n",
        "f0 = np.random.multivariate_normal(f0, cov, int(n_samples / 2))\n",
        "f1 = np.random.multivariate_normal(f1, cov, int(n_samples / 2))\n",
        "X = np.concatenate((f0, f1))\n",
        "y = np.concatenate((np.ones((int(n_samples/2))),\n",
        "                    np.ones((int(n_samples/2))) *(-1))).astype(np.int)\n",
        "random_index = np.random.permutation(np.arange(n_samples))\n",
        "sample1_X = X[random_index]\n",
        "sample1_y =y[random_index]"
      ],
      "execution_count": 12,
      "outputs": []
    },
    {
      "cell_type": "code",
      "metadata": {
        "colab": {
          "base_uri": "https://localhost:8080/",
          "height": 500
        },
        "id": "BNE222qQU9jY",
        "outputId": "474992cf-2b58-4775-876f-be8845e817c4"
      },
      "source": [
        "# シンプルデータセット可視化\n",
        "flg = plt.subplots(figsize = (12, 8))\n",
        "plt.rcParams['font.size'] = 10\n",
        "plt.scatter(sample1_X[:, 0], sample1_X[:, 1], s = 80)"
      ],
      "execution_count": 13,
      "outputs": [
        {
          "output_type": "execute_result",
          "data": {
            "text/plain": [
              "<matplotlib.collections.PathCollection at 0x7f492decb850>"
            ]
          },
          "metadata": {},
          "execution_count": 13
        },
        {
          "output_type": "display_data",
          "data": {
            "image/png": "[encoded data removed]",
            "text/plain": [
              "<Figure size 864x576 with 1 Axes>"
            ]
          },
          "metadata": {
            "needs_background": "light"
          }
        }
      ]
    },
    {
      "cell_type": "code",
      "metadata": {
        "colab": {
          "base_uri": "https://localhost:8080/"
        },
        "id": "O2QgsgrVXtqr",
        "outputId": "ac4fb2bd-dfbc-45d2-d68b-45637f5825be"
      },
      "source": [
        "# 訓練データとテストデータを分けるライブラリ\n",
        "from sklearn.model_selection import train_test_split\n",
        "X = sample1_X\n",
        "y = sample1_y\n",
        "# 訓練データとテストデータに分ける\n",
        "X_train1, X_valid1, y_train1, y_valid1 = \\\n",
        "train_test_split(X, y, train_size=0.7, random_state=0)\n",
        "\n",
        "print('X_train.shape : ',X_train1.shape)\n",
        "print('y_train.shape : ',y_train1.shape)\n",
        "print('X_valid.shape : ',X_valid1.shape)\n",
        "print('y_valid.shape : ',y_valid1.shape)"
      ],
      "execution_count": 14,
      "outputs": [
        {
          "output_type": "stream",
          "name": "stdout",
          "text": [
            "X_train.shape :  (350, 2)\n",
            "y_train.shape :  (350,)\n",
            "X_valid.shape :  (150, 2)\n",
            "y_valid.shape :  (150,)\n"
          ]
        }
      ]
    },
    {
      "cell_type": "code",
      "metadata": {
        "colab": {
          "base_uri": "https://localhost:8080/"
        },
        "id": "8rZ61wKb0-20",
        "outputId": "7ad6c44c-85c2-4ac0-e6c7-e49df1150ff1"
      },
      "source": [
        "# Xを確認する\n",
        "print(X)"
      ],
      "execution_count": 15,
      "outputs": [
        {
          "output_type": "stream",
          "name": "stdout",
          "text": [
            "[[ 7.72382751e-01 -2.29167329e+00]\n",
            " [-5.93349449e-01  1.66788336e+00]\n",
            " [-2.07648560e+00  4.87468451e-01]\n",
            " [ 1.19226877e-01  3.62537974e+00]\n",
            " [-3.13000578e+00 -1.56731551e-01]\n",
            " [-1.78109832e+00  1.22224904e+00]\n",
            " [ 3.99770982e+00  1.25164011e+00]\n",
            " [ 2.15604470e+00 -3.85824429e-01]\n",
            " [ 1.94741552e+00 -1.29638961e+00]\n",
            " [ 1.58757396e+00 -1.85989193e+00]\n",
            " [ 2.05369045e+00 -9.47185530e-01]\n",
            " [-1.97439392e+00  1.22718715e+00]\n",
            " [-3.47487306e+00  3.70421433e-01]\n",
            " [ 1.68094977e+00 -6.36507554e-01]\n",
            " [-9.51997101e-01  1.41989638e+00]\n",
            " [-1.23054341e+00  2.48848983e+00]\n",
            " [-6.96789478e-01  1.88359001e+00]\n",
            " [ 1.03842491e+00 -8.88815671e-01]\n",
            " [ 3.68706491e+00  4.30242556e-01]\n",
            " [-1.03002856e+00  1.27865865e+00]\n",
            " [-1.26658152e+00  1.97258945e+00]\n",
            " [-1.97638843e-02  2.54412654e+00]\n",
            " [ 8.60592217e-01 -2.46186096e+00]\n",
            " [ 1.18894987e+00 -8.80504418e-01]\n",
            " [-1.87575023e+00  1.56364771e+00]\n",
            " [ 2.46165485e+00 -2.00601784e+00]\n",
            " [-1.59848154e+00  1.10652913e+00]\n",
            " [ 3.98744618e+00 -1.36849117e-01]\n",
            " [-9.99508672e-01  2.50800932e+00]\n",
            " [ 2.17823407e+00 -1.06919332e+00]\n",
            " [ 4.37387107e-01  2.46038808e+00]\n",
            " [-1.46418280e+00  1.92088385e+00]\n",
            " [-1.50642737e+00  2.11125339e+00]\n",
            " [ 2.15843150e+00 -7.81996060e-01]\n",
            " [ 5.65369677e-01  3.79019610e+00]\n",
            " [-3.69047331e-03  2.72794750e+00]\n",
            " [-1.22189723e+00  1.92494695e+00]\n",
            " [-5.36952994e-01  2.27185396e+00]\n",
            " [ 2.13597636e+00 -1.03095228e+00]\n",
            " [ 2.91278930e+00 -1.22014572e+00]\n",
            " [-1.76664555e+00  1.49105594e+00]\n",
            " [ 2.15599603e+00 -1.04483586e+00]\n",
            " [ 1.53977368e+00 -1.39831137e+00]\n",
            " [-1.03192065e+00  2.22776465e+00]\n",
            " [ 2.57976714e+00 -9.22805001e-01]\n",
            " [ 1.45602953e+00 -1.01904114e+00]\n",
            " [-1.60698852e+00  9.81266740e-01]\n",
            " [ 7.77219278e-01  3.89661335e+00]\n",
            " [-1.97239779e+00  4.69511546e-01]\n",
            " [ 2.75279055e+00  2.67120713e-02]\n",
            " [ 3.56988241e+00  5.27423038e-01]\n",
            " [ 2.75783315e-01  3.55367903e+00]\n",
            " [ 5.98352316e-01  3.46380355e+00]\n",
            " [ 1.08352182e+00  3.74234076e+00]\n",
            " [-1.35893493e+00  2.04269421e+00]\n",
            " [ 1.00671761e+00 -8.95416111e-01]\n",
            " [-9.06280325e-01  2.15314091e+00]\n",
            " [-3.89297162e-01  1.89728583e+00]\n",
            " [-1.96062277e+00  2.31759741e+00]\n",
            " [ 2.20548127e+00 -8.33735998e-02]\n",
            " [ 2.50666130e+00 -1.04875504e+00]\n",
            " [ 4.88495790e-01  3.73343347e+00]\n",
            " [-3.77970230e-01  2.34496725e+00]\n",
            " [-3.71240616e-01  2.15602745e+00]\n",
            " [ 2.43630970e+00  2.66388843e-01]\n",
            " [-1.52762184e+00  1.64889382e+00]\n",
            " [ 2.57058557e+00 -3.18216758e-01]\n",
            " [ 3.80018635e+00  2.39083859e-01]\n",
            " [ 2.80157344e+00 -1.83905534e-01]\n",
            " [ 2.49976803e+00 -4.84164303e-01]\n",
            " [ 2.40204230e+00  9.43523973e-02]\n",
            " [-5.12748844e-01  1.43945252e+00]\n",
            " [ 2.82156680e+00 -2.38335869e-02]\n",
            " [ 2.88120325e-01  2.96758152e+00]\n",
            " [ 2.35349177e-01  2.30790100e+00]\n",
            " [-2.06609890e+00  1.75726095e+00]\n",
            " [ 3.75359794e+00 -1.20166732e-02]\n",
            " [ 2.98163968e+00 -3.92257345e-01]\n",
            " [ 3.08688312e-01  3.69472613e+00]\n",
            " [ 3.00061418e-01  2.83794023e+00]\n",
            " [-3.17641786e-01  3.34925204e+00]\n",
            " [-6.16562961e-01  2.64657019e+00]\n",
            " [-1.99259968e+00  1.52823007e+00]\n",
            " [ 1.78281415e-01 -3.63073110e+00]\n",
            " [-1.46776276e+00  1.39140514e+00]\n",
            " [ 1.20537304e+00 -2.14408437e+00]\n",
            " [ 2.56918586e+00  2.12406411e-01]\n",
            " [-1.60770945e+00  1.29136745e+00]\n",
            " [-1.27705618e+00  2.09163610e+00]\n",
            " [ 1.79240083e+00 -2.25848620e+00]\n",
            " [ 3.63463384e+00  8.26649805e-01]\n",
            " [-2.22624630e-01  2.70755905e+00]\n",
            " [ 1.21528645e+00  4.62867115e+00]\n",
            " [ 1.09307168e+00 -1.40306864e+00]\n",
            " [-1.99153536e+00  1.22347738e+00]\n",
            " [-2.69336749e+00 -6.13189111e-01]\n",
            " [-6.94267835e-01  2.05600741e+00]\n",
            " [ 1.53578871e+00 -1.48077671e+00]\n",
            " [-2.98577562e+00  1.10178815e+00]\n",
            " [ 1.76601743e+00 -5.17359929e-01]\n",
            " [ 4.02583151e-01 -1.24784007e+00]\n",
            " [ 2.66532883e+00 -8.59586868e-01]\n",
            " [-3.53448569e+00 -5.81239759e-01]\n",
            " [ 2.30117990e+00 -2.90851319e-01]\n",
            " [-5.69041796e-01  1.92015645e+00]\n",
            " [-6.02323788e-02  2.42558571e+00]\n",
            " [ 1.99714260e+00 -7.46863553e-01]\n",
            " [ 3.28429301e+00 -5.14541559e-01]\n",
            " [-1.02691331e+00  1.43290911e+00]\n",
            " [ 2.41142257e+00 -1.21344472e+00]\n",
            " [ 1.99620094e+00 -1.51071019e+00]\n",
            " [ 1.36445671e+00 -1.36824948e+00]\n",
            " [-1.55687772e-01  2.87716538e+00]\n",
            " [ 3.00374604e+00 -5.57735421e-01]\n",
            " [-2.85048086e+00 -5.20893727e-01]\n",
            " [ 1.45521972e+00 -1.34780386e+00]\n",
            " [ 2.48267455e+00 -1.06055410e+00]\n",
            " [-3.29244287e+00  6.43916901e-01]\n",
            " [-7.41133059e-01  2.65121598e+00]\n",
            " [-1.78423050e+00  1.26526558e+00]\n",
            " [-7.43536346e-01  1.78969192e+00]\n",
            " [-1.02829008e+00  2.38985937e-01]\n",
            " [ 2.56168968e+00 -9.69756632e-01]\n",
            " [-9.78549936e-01  3.41889078e-01]\n",
            " [ 5.23186072e-01  3.80838207e+00]\n",
            " [ 1.17377524e+00 -2.22554200e+00]\n",
            " [ 2.65868801e+00 -8.87782023e-01]\n",
            " [ 3.97475019e+00  1.52122485e+00]\n",
            " [ 1.86302626e-01 -3.00771309e+00]\n",
            " [-8.29308952e-01  3.14238122e+00]\n",
            " [ 3.94345251e-01  3.10241351e+00]\n",
            " [-7.22196357e-01  2.31332572e+00]\n",
            " [-1.66380709e+00  1.33857783e+00]\n",
            " [ 2.73740093e+00 -7.78550942e-01]\n",
            " [ 2.70084367e+00 -2.78406254e-01]\n",
            " [-5.73371318e-01  2.43768347e+00]\n",
            " [ 1.59515499e+00 -1.14372258e+00]\n",
            " [-1.87419420e+00  1.70906051e+00]\n",
            " [ 2.52838664e+00 -7.94350822e-01]\n",
            " [ 1.19051713e+00 -1.97872465e+00]\n",
            " [ 1.38620926e+00 -1.01343456e+00]\n",
            " [-2.12626741e-01  2.46214314e+00]\n",
            " [-2.36031478e+00 -2.12712451e-01]\n",
            " [-1.09595569e+00  8.81391515e-01]\n",
            " [-1.03601260e+00  2.06576731e+00]\n",
            " [-2.57440562e-01  2.49529881e+00]\n",
            " [ 1.87114563e+00 -1.94127658e+00]\n",
            " [-2.06592156e+00  1.30230961e+00]\n",
            " [ 3.12139823e-02  3.06420608e+00]\n",
            " [ 1.14273301e+00 -1.29086765e+00]\n",
            " [ 1.47005378e+00 -8.45670304e-01]\n",
            " [ 3.09916323e+00 -4.69377712e-01]\n",
            " [ 7.81673591e-01 -2.41002258e+00]\n",
            " [ 1.96719085e-01  2.99920812e+00]\n",
            " [-1.53531181e-01  1.82412078e+00]\n",
            " [-1.10871442e+00  2.16218644e+00]\n",
            " [ 1.81402421e+00 -1.12505681e+00]\n",
            " [-1.08653152e+00  9.00238252e-01]\n",
            " [ 2.85774215e+00  4.69608816e-01]\n",
            " [ 2.01038460e+00 -1.12402677e+00]\n",
            " [-6.29747850e-01  2.96682261e+00]\n",
            " [-1.87030384e+00  8.42949799e-01]\n",
            " [-5.01797790e-01  7.44660583e-01]\n",
            " [ 1.42062857e-01  3.31096066e+00]\n",
            " [ 2.22723283e+00 -8.42263142e-01]\n",
            " [ 2.53006043e+00 -2.63150265e-01]\n",
            " [-1.02637206e+00  2.11308923e+00]\n",
            " [ 2.37832028e+00 -1.74843901e+00]\n",
            " [ 1.65327168e+00 -4.81783879e-01]\n",
            " [ 1.43527880e+00 -2.07369216e+00]\n",
            " [ 1.03397960e+00 -2.11415148e+00]\n",
            " [ 3.11366621e+00 -1.07825054e+00]\n",
            " [ 3.52040615e+00  1.47220925e-01]\n",
            " [-1.96378474e+00  1.23684168e+00]\n",
            " [ 1.09164925e+00  4.25070196e+00]\n",
            " [-9.84217610e-01  1.89739693e+00]\n",
            " [ 3.20196495e+00 -2.45262780e-02]\n",
            " [ 3.40980745e-01 -4.07908535e+00]\n",
            " [ 2.56494873e-02  2.76631129e+00]\n",
            " [ 5.01240191e-01 -3.51756877e+00]\n",
            " [ 2.51343386e+00 -8.54192601e-01]\n",
            " [-2.63714503e+00  1.78012027e+00]\n",
            " [ 1.28107479e+00 -2.13209644e-01]\n",
            " [ 2.75242509e+00 -4.31238160e-01]\n",
            " [-3.21207263e-02  2.44519365e+00]\n",
            " [ 1.72206123e+00 -7.92274647e-01]\n",
            " [ 2.73481741e+00 -2.96858554e-01]\n",
            " [-1.56406257e+00  2.86321469e+00]\n",
            " [-1.21773886e+00  2.42747501e+00]\n",
            " [ 1.24251698e+00 -9.36666250e-01]\n",
            " [-1.11362696e+00  8.93023580e-01]\n",
            " [ 2.90777324e+00 -2.98198217e-01]\n",
            " [ 2.09038183e+00 -8.97424817e-01]\n",
            " [ 2.81410717e+00 -8.51160223e-01]\n",
            " [-4.40119046e-01  2.90093209e+00]\n",
            " [ 2.00693738e+00 -9.85790073e-01]\n",
            " [ 2.34412574e+00 -4.87838432e-01]\n",
            " [ 3.88638073e+00 -3.58686842e-01]\n",
            " [ 2.49429941e+00 -5.53011414e-01]\n",
            " [ 2.30584953e+00 -8.09412196e-01]\n",
            " [-1.01262257e-01  3.51183805e+00]\n",
            " [ 2.46665690e+00 -5.19839400e-01]\n",
            " [-1.39671937e+00  1.69312840e+00]\n",
            " [ 6.78049440e-01 -2.19208684e+00]\n",
            " [ 1.19550297e+00 -1.14170124e+00]\n",
            " [ 2.05014131e+00 -3.56556878e-01]\n",
            " [-5.01704405e-01  3.72754957e+00]\n",
            " [-2.69645762e-01  2.47909748e+00]\n",
            " [-2.91877408e+00  1.01053000e+00]\n",
            " [ 4.06506577e+00  2.40822679e-01]\n",
            " [ 3.30008676e+00 -6.74898717e-01]\n",
            " [-1.43168929e+00  1.49488013e+00]\n",
            " [-9.07603154e-01  2.02453103e+00]\n",
            " [ 3.02667361e+00  5.74160591e-01]\n",
            " [ 7.91720923e-01 -1.34817210e+00]\n",
            " [-1.08205095e+00  2.47462307e+00]\n",
            " [ 1.71360029e+00 -1.38302274e+00]\n",
            " [ 2.10579726e+00 -1.53724472e+00]\n",
            " [-3.70337574e-01  2.64979384e+00]\n",
            " [ 4.00372673e-01  2.46950248e+00]\n",
            " [ 1.42036126e+00 -1.42396121e+00]\n",
            " [-2.35253112e+00  5.17715398e-01]\n",
            " [-1.24751958e+00  2.00672082e+00]\n",
            " [ 1.74948383e+00 -2.90283491e-01]\n",
            " [-1.65940413e+00  1.56173677e+00]\n",
            " [-2.05735708e+00  1.59371720e+00]\n",
            " [-3.05823847e+00  5.14794484e-01]\n",
            " [ 2.86944472e+00 -8.79816865e-01]\n",
            " [ 2.31777590e+00 -6.94489123e-02]\n",
            " [ 2.26984975e+00 -1.41136751e+00]\n",
            " [ 2.74365309e+00 -1.03186148e+00]\n",
            " [ 1.67681476e+00 -7.74671336e-01]\n",
            " [ 3.25187589e+00  5.89999541e-02]\n",
            " [ 6.64710835e-01 -1.44205469e+00]\n",
            " [ 1.34573151e+00 -1.37659334e+00]\n",
            " [-1.50185568e-01  3.34388749e+00]\n",
            " [ 8.77442098e-02  2.86642059e+00]\n",
            " [ 1.34670812e+00 -7.74719237e-01]\n",
            " [-1.57470303e+00  2.55478064e+00]\n",
            " [ 1.28473978e+00 -8.07655295e-01]\n",
            " [-2.58411905e-01  2.00830617e+00]\n",
            " [ 3.13049119e-01 -2.82240177e+00]\n",
            " [-1.73246402e+00  1.34911194e+00]\n",
            " [ 2.68225498e+00 -1.65457625e-01]\n",
            " [ 3.33552790e+00 -1.59102212e+00]\n",
            " [-2.66091933e+00  8.78281862e-01]\n",
            " [ 2.91973767e+00 -4.16479425e-01]\n",
            " [ 2.42340322e+00  4.86925716e-01]\n",
            " [-1.12890544e+00  1.26102035e+00]\n",
            " [ 2.46463255e+00 -2.36692124e-01]\n",
            " [-4.87252366e-01  3.21921076e+00]\n",
            " [-1.42059019e-01  2.11124362e+00]\n",
            " [ 2.83308619e+00  3.29536916e-01]\n",
            " [-1.23452191e+00  1.70340233e+00]\n",
            " [ 9.47990645e-01  4.02623925e+00]\n",
            " [-7.12452053e-01  2.59206357e+00]\n",
            " [ 2.51904564e+00 -1.61572459e+00]\n",
            " [ 1.46316117e+00  3.81647106e+00]\n",
            " [ 2.25701854e+00 -9.84595570e-01]\n",
            " [-2.16365424e-01  2.45400551e+00]\n",
            " [ 2.68917783e+00 -3.85119596e-01]\n",
            " [ 2.63050568e+00 -7.80171688e-01]\n",
            " [ 1.07907137e+00 -2.32057966e+00]\n",
            " [-2.43460308e+00  1.24820767e+00]\n",
            " [-2.84866758e-01  3.76382716e+00]\n",
            " [-2.17474619e+00  1.54695000e+00]\n",
            " [-1.79508154e-01  3.39022454e+00]\n",
            " [ 8.99637951e-01  3.59734065e+00]\n",
            " [ 1.82516149e+00 -8.41531780e-01]\n",
            " [-2.45429196e+00  1.36664921e+00]\n",
            " [ 2.79104935e+00 -4.92577630e-02]\n",
            " [ 8.00341682e-01 -2.45920655e+00]\n",
            " [-6.32919648e-01  2.21942307e+00]\n",
            " [-1.44217612e+00  1.44932846e+00]\n",
            " [-1.47706687e+00  2.60654621e+00]\n",
            " [-3.55952028e+00  3.78209935e-02]\n",
            " [-1.03368808e+00  1.76435089e+00]\n",
            " [ 1.99299116e+00 -1.05105404e+00]\n",
            " [-6.40692482e-01  2.47399601e+00]\n",
            " [ 1.98902294e+00 -8.47350414e-01]\n",
            " [ 2.45780120e+00 -1.53325327e+00]\n",
            " [-1.00408384e+00  2.76905831e+00]\n",
            " [-1.31224540e+00  1.32359431e+00]\n",
            " [ 3.64650383e-02  2.26861507e+00]\n",
            " [-1.04126693e+00  1.70462449e+00]\n",
            " [ 8.50494201e-01 -2.04040443e+00]\n",
            " [-1.71955579e+00  1.12267275e+00]\n",
            " [-1.52496818e+00  1.53095485e+00]\n",
            " [ 3.60284402e+00  1.70598757e-01]\n",
            " [ 1.67552825e+00 -1.44664743e+00]\n",
            " [ 2.67469298e+00 -6.22964411e-01]\n",
            " [-2.29374113e-01  1.90103034e+00]\n",
            " [ 2.27035200e-01  2.95013349e+00]\n",
            " [-1.79135526e+00  1.24591256e+00]\n",
            " [-7.86985150e-01  3.42104600e+00]\n",
            " [ 1.21732779e+00 -3.02963561e-01]\n",
            " [ 2.01065812e+00 -1.22913585e+00]\n",
            " [ 9.79230393e-01 -1.76449604e+00]\n",
            " [ 1.53466373e+00 -1.13643371e+00]\n",
            " [-1.58538300e+00  9.45230629e-01]\n",
            " [ 4.41723194e-01  3.48173359e+00]\n",
            " [-1.85346966e+00  1.05080363e+00]\n",
            " [ 2.65071067e+00 -9.47349274e-01]\n",
            " [ 1.04664333e+00 -2.56342734e+00]\n",
            " [-6.64707546e-01  2.39496564e+00]\n",
            " [-5.74065014e-01  2.27453830e+00]\n",
            " [ 2.23162545e+00  3.84417076e-01]\n",
            " [ 2.34433267e+00 -8.19838226e-01]\n",
            " [-4.82333787e-01  2.03605625e+00]\n",
            " [-2.46267867e+00 -8.07634741e-02]\n",
            " [-2.54738211e+00  1.21306967e+00]\n",
            " [-1.17307052e+00  1.79492499e+00]\n",
            " [-7.91893978e-02  2.21505538e+00]\n",
            " [-7.35868118e-01  2.32573316e+00]\n",
            " [ 4.12751644e-01 -2.09026238e+00]\n",
            " [ 2.49992329e+00 -1.07755871e+00]\n",
            " [-1.56151690e+00  1.88535921e+00]\n",
            " [ 2.55107739e+00 -1.13452757e+00]\n",
            " [ 6.68319643e-01 -1.49110721e+00]\n",
            " [-2.61549146e+00  4.88375293e-01]\n",
            " [ 1.79600164e-01  2.27026099e+00]\n",
            " [-3.58098765e-01  2.49142632e+00]\n",
            " [ 1.00907041e+00 -1.44233297e+00]\n",
            " [-7.19383440e-01  2.37950033e+00]\n",
            " [ 1.55554594e+00 -1.51796418e+00]\n",
            " [-5.45254415e-01  2.62544809e+00]\n",
            " [ 6.70989412e-01 -5.83841181e-01]\n",
            " [-2.86026191e+00  5.72654606e-01]\n",
            " [ 9.15904777e-03  2.64306238e+00]\n",
            " [-2.52029691e-01  2.44374205e+00]\n",
            " [-2.25044128e+00  1.16398389e+00]\n",
            " [-1.79448774e+00  1.13271191e+00]\n",
            " [-1.17196563e+00  2.99761144e+00]\n",
            " [ 2.00639182e+00 -3.20305422e-01]\n",
            " [ 1.27787649e+00 -2.05456781e+00]\n",
            " [ 1.40960484e-01  1.74864676e+00]\n",
            " [ 3.13691841e-01  1.90748822e+00]\n",
            " [ 1.84369341e+00 -2.00474362e+00]\n",
            " [ 5.70732833e-01 -2.59280286e+00]\n",
            " [ 2.14327955e+00 -1.72829696e+00]\n",
            " [ 5.06984244e-01  3.19498136e+00]\n",
            " [-5.14040279e-01  2.03708834e+00]\n",
            " [-4.93047871e-01  2.32963975e+00]\n",
            " [ 3.33889863e+00  6.02834223e-01]\n",
            " [ 1.25820207e-01  2.25090402e+00]\n",
            " [ 1.17922837e+00 -7.18611120e-01]\n",
            " [-2.48347312e-01  2.52425130e+00]\n",
            " [-1.10375132e+00  2.13604529e+00]\n",
            " [ 1.62980998e-02  2.79748001e+00]\n",
            " [ 3.21868697e+00 -6.67602876e-01]\n",
            " [-1.92838580e+00  1.12698647e+00]\n",
            " [ 3.78218715e+00  1.02054480e+00]\n",
            " [-1.72731635e+00  5.89674989e-01]\n",
            " [ 1.88965323e+00 -1.34422956e+00]\n",
            " [ 4.81516717e+00  1.08534488e+00]\n",
            " [-1.59653339e+00  2.32322993e+00]\n",
            " [ 2.10157755e+00  1.65318260e-01]\n",
            " [ 1.37648523e+00 -9.92881987e-01]\n",
            " [ 4.13450350e+00  5.57208533e-01]\n",
            " [ 3.30309335e+00  2.76909177e-01]\n",
            " [ 2.06497072e+00 -6.53337854e-01]\n",
            " [ 1.25656319e+00 -2.69654629e+00]\n",
            " [ 1.46837064e+00 -1.14147604e+00]\n",
            " [ 2.71714245e+00  9.80760821e-01]\n",
            " [ 1.94856855e+00 -9.88530927e-01]\n",
            " [ 1.50063060e+00 -1.40548164e+00]\n",
            " [ 1.66986100e+00 -2.62498015e+00]\n",
            " [-7.38071324e-01  2.49597257e+00]\n",
            " [-1.48649411e+00  1.22212111e+00]\n",
            " [-1.15875379e+00  2.03254623e+00]\n",
            " [-2.22752761e+00  1.08617093e+00]\n",
            " [ 2.82851195e+00  6.35572859e-01]\n",
            " [-7.79768671e-01  2.03189184e+00]\n",
            " [-1.20311996e+00  2.10920984e+00]\n",
            " [-1.70237362e+00  2.13650647e+00]\n",
            " [-1.91192573e+00  1.26318344e+00]\n",
            " [-1.00944756e+00  1.29523033e+00]\n",
            " [ 7.15879717e-01 -1.41451665e+00]\n",
            " [ 3.47775866e+00 -2.43364801e-01]\n",
            " [ 2.81099346e+00 -6.70983068e-02]\n",
            " [-1.76046080e+00  1.31649324e+00]\n",
            " [ 3.11776321e+00 -1.58460687e-01]\n",
            " [ 2.07897140e+00  6.06961859e-02]\n",
            " [-2.34370202e-01  3.19670802e+00]\n",
            " [-1.83999024e+00  1.38534913e+00]\n",
            " [ 2.01124972e+00 -7.93478851e-01]\n",
            " [ 1.12270765e+00 -1.89948849e+00]\n",
            " [ 4.00197345e-01  3.69288654e+00]\n",
            " [ 1.33097722e+00  4.71444736e+00]\n",
            " [ 1.67209737e+00 -1.99907854e+00]\n",
            " [ 2.50525998e+00 -7.75446608e-01]\n",
            " [ 7.32960556e-01 -2.13327699e+00]\n",
            " [-2.22729008e+00  9.73162033e-01]\n",
            " [-1.33286769e+00  9.15177500e-01]\n",
            " [-1.52660272e+00  1.68443145e+00]\n",
            " [-1.78283255e-01  3.02082463e+00]\n",
            " [ 1.04332199e+00 -1.58526257e+00]\n",
            " [-9.78696997e-01  1.45783883e+00]\n",
            " [-1.16513883e+00  1.40174924e+00]\n",
            " [-9.58084065e-03  2.94117949e+00]\n",
            " [ 1.52506018e+00 -1.36186128e+00]\n",
            " [ 2.55065361e+00 -9.78358468e-02]\n",
            " [-4.17663593e-01  2.54908993e+00]\n",
            " [ 1.75434389e+00 -7.26153381e-01]\n",
            " [-7.03575436e-01  2.39553278e+00]\n",
            " [-2.72835142e-01  2.97186348e+00]\n",
            " [ 5.24785748e-01 -2.22470710e+00]\n",
            " [-1.76320579e+00 -7.23792667e-02]\n",
            " [ 1.47905484e+00 -1.76254884e+00]\n",
            " [ 6.91658195e-01  2.83991926e+00]\n",
            " [ 9.82995796e-01 -6.09193398e-01]\n",
            " [-3.01141280e+00  1.18765280e+00]\n",
            " [-1.84962363e+00  1.05233938e+00]\n",
            " [ 1.64375738e+00 -1.07181971e+00]\n",
            " [-8.69270953e-01  1.94928566e+00]\n",
            " [ 2.73626473e-01  4.57932640e+00]\n",
            " [-2.83520396e-01  2.48706195e+00]\n",
            " [-2.93756476e-01  2.61160633e+00]\n",
            " [ 8.17476452e-01 -2.14150494e+00]\n",
            " [-1.04460808e-01  3.42956123e+00]\n",
            " [ 1.49215226e+00 -5.15360816e-01]\n",
            " [ 2.75808474e+00 -1.09787353e+00]\n",
            " [ 1.70466022e+00 -1.38677186e+00]\n",
            " [ 3.87606107e+00  3.13826215e-01]\n",
            " [-2.97889968e+00  2.67817001e-01]\n",
            " [ 1.78641748e+00 -2.83215302e+00]\n",
            " [ 3.51914096e+00 -1.27358871e+00]\n",
            " [ 1.06056690e-01 -2.92214793e+00]\n",
            " [ 1.45353052e+00 -1.88744690e+00]\n",
            " [ 2.82061179e+00 -2.87985590e-02]\n",
            " [-1.48113223e+00  1.38712807e+00]\n",
            " [ 2.23281686e+00  5.36466096e-02]\n",
            " [ 4.23642198e+00  1.24928245e+00]\n",
            " [ 1.33370272e+00 -2.29635748e+00]\n",
            " [ 3.11792569e+00 -5.89356869e-01]\n",
            " [ 4.06032004e+00  6.42967865e-01]\n",
            " [-5.73580044e-02  3.43437007e+00]\n",
            " [ 3.63716050e+00  5.66030764e-01]\n",
            " [-1.09046373e-01  1.99482352e+00]\n",
            " [ 2.90876329e+00 -3.84909651e-01]\n",
            " [-1.21397208e+00  2.46765295e+00]\n",
            " [-2.06139126e+00  8.24814280e-01]\n",
            " [-1.99505148e-01  2.18142849e+00]\n",
            " [ 1.76248711e+00 -7.82123555e-01]\n",
            " [-1.13769654e+00  3.08264668e+00]\n",
            " [ 1.17277691e+00 -1.93810291e+00]\n",
            " [ 2.17965959e+00 -1.58470950e+00]\n",
            " [-1.61844165e+00  1.80967258e+00]\n",
            " [ 4.43793785e-01  2.54569559e+00]\n",
            " [ 1.04672524e+00 -1.99899308e+00]\n",
            " [ 2.93889877e+00 -1.74050891e-01]\n",
            " [ 1.30622360e+00 -1.67821032e+00]\n",
            " [ 2.30833046e+00 -8.82829052e-01]\n",
            " [ 1.66745754e+00 -1.08394764e+00]\n",
            " [ 3.39914935e+00  2.88901434e-02]\n",
            " [ 1.62020196e-01  2.66040873e+00]\n",
            " [ 2.05134476e+00 -1.51073129e+00]\n",
            " [ 2.62947558e+00 -2.46210601e-01]\n",
            " [ 1.59113450e+00 -1.28850191e+00]\n",
            " [ 4.68610353e-01  2.21584467e+00]\n",
            " [ 2.14811940e+00 -2.00911004e+00]\n",
            " [ 1.55545312e+00 -1.67467139e+00]\n",
            " [-6.10690435e-01  2.81712354e+00]\n",
            " [-9.79919738e-01  2.14296191e+00]\n",
            " [ 4.22222154e-01 -2.24807641e+00]\n",
            " [-2.80006782e+00  4.53013823e-01]\n",
            " [ 2.70709974e+00  5.30195126e-01]\n",
            " [ 2.51444885e+00 -6.22624163e-01]\n",
            " [-7.86332996e-01  3.18955512e+00]\n",
            " [-3.33521045e-01 -3.58905350e+00]\n",
            " [-1.69044419e+00  5.28583390e-01]\n",
            " [-3.91383359e-01  3.37461218e+00]\n",
            " [ 2.62997884e+00 -1.42033994e+00]\n",
            " [ 1.67483664e+00 -1.55932524e+00]\n",
            " [-2.96409458e+00  6.64815650e-01]\n",
            " [-9.55963270e-01  1.07243091e+00]\n",
            " [ 2.48073663e+00 -1.35309013e+00]\n",
            " [-1.76845618e-01  1.76315650e+00]\n",
            " [ 3.51958499e+00  3.79236842e-02]\n",
            " [ 1.68340741e+00 -1.10812071e+00]\n",
            " [-1.28587103e+00  3.23989864e+00]\n",
            " [ 4.04462479e+00  5.30814218e-02]\n",
            " [-6.72808510e-01  1.89700902e+00]\n",
            " [ 1.64773650e+00 -1.37392022e+00]\n",
            " [-8.75886327e-01  3.17370576e+00]\n",
            " [ 2.45372019e+00 -1.16225960e-01]\n",
            " [ 2.49174927e+00  2.78093496e-01]\n",
            " [ 3.77128579e-01 -2.70698068e+00]\n",
            " [ 1.54634728e+00 -1.21380311e+00]\n",
            " [ 2.30299287e+00 -4.41960241e-01]\n",
            " [-2.58876732e-01  3.25989355e+00]\n",
            " [ 1.82068657e-03  4.23559938e+00]\n",
            " [ 1.29767058e+00 -6.45532254e-01]\n",
            " [ 2.16044089e+00 -1.49708407e-01]\n",
            " [ 1.66573303e+00 -2.03180611e+00]\n",
            " [ 1.24814437e+00 -2.16798041e+00]\n",
            " [-2.61058479e+00  7.39246641e-01]\n",
            " [ 3.17316787e-01  2.22551981e+00]\n",
            " [-1.35919625e+00  8.92051885e-01]\n",
            " [ 1.10298263e+00 -5.48525150e-01]]\n"
          ]
        }
      ]
    },
    {
      "cell_type": "code",
      "metadata": {
        "colab": {
          "base_uri": "https://localhost:8080/"
        },
        "id": "F6q5XR8D1ESb",
        "outputId": "78c8e951-0bbb-49a6-fb0c-976e0bd388be"
      },
      "source": [
        "# yを確認する\n",
        "y"
      ],
      "execution_count": 16,
      "outputs": [
        {
          "output_type": "execute_result",
          "data": {
            "text/plain": [
              "array([-1,  1,  1,  1,  1,  1, -1, -1, -1, -1, -1,  1,  1, -1,  1,  1,  1,\n",
              "       -1, -1,  1,  1,  1, -1, -1,  1, -1,  1, -1,  1, -1,  1,  1,  1, -1,\n",
              "        1,  1,  1,  1, -1, -1,  1, -1, -1,  1, -1, -1,  1,  1,  1, -1, -1,\n",
              "        1,  1,  1,  1, -1,  1,  1,  1, -1, -1,  1,  1,  1, -1,  1, -1, -1,\n",
              "       -1, -1, -1,  1, -1,  1,  1,  1, -1, -1,  1,  1,  1,  1,  1, -1,  1,\n",
              "       -1, -1,  1,  1, -1, -1,  1,  1, -1,  1,  1,  1, -1,  1, -1, -1, -1,\n",
              "        1, -1,  1,  1, -1, -1,  1, -1, -1, -1,  1, -1,  1, -1, -1,  1,  1,\n",
              "        1,  1,  1, -1,  1,  1, -1, -1, -1, -1,  1,  1,  1,  1, -1, -1,  1,\n",
              "       -1,  1, -1, -1, -1,  1,  1,  1,  1,  1, -1,  1,  1, -1, -1, -1, -1,\n",
              "        1,  1,  1, -1,  1, -1, -1,  1,  1,  1,  1, -1, -1,  1, -1, -1, -1,\n",
              "       -1, -1, -1,  1,  1,  1, -1, -1,  1, -1, -1,  1, -1, -1,  1, -1, -1,\n",
              "        1,  1, -1,  1, -1, -1, -1,  1, -1, -1, -1, -1, -1,  1, -1,  1, -1,\n",
              "       -1, -1,  1,  1,  1, -1, -1,  1,  1, -1, -1,  1, -1, -1,  1,  1, -1,\n",
              "        1,  1, -1,  1,  1,  1, -1, -1, -1, -1, -1, -1, -1, -1,  1,  1, -1,\n",
              "        1, -1,  1, -1,  1, -1, -1,  1, -1, -1,  1, -1,  1,  1, -1,  1,  1,\n",
              "        1, -1,  1, -1,  1, -1, -1, -1,  1,  1,  1,  1,  1, -1,  1, -1, -1,\n",
              "        1,  1,  1,  1,  1, -1,  1, -1, -1,  1,  1,  1,  1, -1,  1,  1, -1,\n",
              "       -1, -1,  1,  1,  1,  1, -1, -1, -1, -1,  1,  1,  1, -1, -1,  1,  1,\n",
              "       -1, -1,  1,  1,  1,  1,  1,  1, -1, -1,  1, -1, -1,  1,  1,  1, -1,\n",
              "        1, -1,  1, -1,  1,  1,  1,  1,  1,  1, -1, -1,  1,  1, -1, -1, -1,\n",
              "        1,  1,  1, -1,  1, -1,  1,  1,  1, -1,  1, -1,  1, -1, -1,  1, -1,\n",
              "       -1, -1, -1, -1, -1, -1, -1, -1, -1, -1,  1,  1,  1,  1, -1,  1,  1,\n",
              "        1,  1,  1, -1, -1, -1,  1, -1, -1,  1,  1, -1, -1,  1,  1, -1, -1,\n",
              "       -1,  1,  1,  1,  1, -1,  1,  1,  1, -1, -1,  1, -1,  1,  1, -1,  1,\n",
              "       -1,  1, -1,  1,  1, -1,  1,  1,  1,  1, -1,  1, -1, -1, -1, -1,  1,\n",
              "       -1, -1, -1, -1, -1,  1, -1, -1, -1, -1, -1,  1, -1,  1, -1,  1,  1,\n",
              "        1, -1,  1, -1, -1,  1,  1, -1, -1, -1, -1, -1, -1,  1, -1, -1, -1,\n",
              "        1, -1, -1,  1,  1, -1,  1, -1, -1,  1, -1,  1,  1, -1, -1,  1,  1,\n",
              "       -1,  1, -1, -1,  1, -1,  1, -1,  1, -1, -1, -1, -1, -1,  1,  1, -1,\n",
              "       -1, -1, -1,  1,  1,  1, -1])"
            ]
          },
          "metadata": {},
          "execution_count": 16
        }
      ]
    },
    {
      "cell_type": "code",
      "metadata": {
        "id": "gbaRfecm4ZoA"
      },
      "source": [
        "# スクラッチ実装による学習と推定\n",
        "SSC = ScratchSVMClassifier(num_iter = 100, lr = 0.01)\n",
        "\n",
        "SSC.fit(X_train1, y_train1)\n",
        "y_pred1 = SSC.predict(X_valid1)"
      ],
      "execution_count": 22,
      "outputs": []
    },
    {
      "cell_type": "code",
      "metadata": {
        "id": "rJL_tcy8D4Yh"
      },
      "source": [
        "Show = False\n",
        "\n",
        "if Show:\n",
        "  print('予測 : ', y_pred1)\n",
        "  print('検証 : ', y_valid1)"
      ],
      "execution_count": 23,
      "outputs": []
    },
    {
      "cell_type": "code",
      "metadata": {
        "colab": {
          "base_uri": "https://localhost:8080/"
        },
        "id": "gv5lfKpTESG0",
        "outputId": "318e167b-9bd2-4f69-a7e0-80280d05b1fa"
      },
      "source": [
        "# スコア算出\n",
        "from sklearn.metrics import confusion_matrix\n",
        "from sklearn.metrics import accuracy_score\n",
        "from sklearn.metrics import precision_score\n",
        "from sklearn.metrics import recall_score\n",
        "from sklearn.metrics import f1_score\n",
        "\n",
        "print('正解率:{}'.format(accuracy_score(y_valid1, y_pred1)))\n",
        "print('適合率:{}'.format(precision_score(y_valid1, y_pred1)))\n",
        "print('再現率:{}'.format(recall_score(y_valid1, y_pred1)))\n",
        "print('F値:{}'.format(f1_score(y_valid1, y_pred1)))\n",
        "print(confusion_matrix(y_valid1, y_pred1))"
      ],
      "execution_count": 25,
      "outputs": [
        {
          "output_type": "stream",
          "name": "stdout",
          "text": [
            "正解率:1.0\n",
            "適合率:1.0\n",
            "再現率:1.0\n",
            "F値:1.0\n",
            "[[65  0]\n",
            " [ 0 85]]\n"
          ]
        }
      ]
    },
    {
      "cell_type": "code",
      "metadata": {
        "id": "F54LpW14MAUF"
      },
      "source": [
        "# scikit-learnによる実装と比べ、正しく動いているかを確認\n",
        "# 必要なライブラリの読み込み\n",
        "from sklearn.svm import SVC\n",
        "# クラスの初期化\n",
        "model = SVC()\n",
        "# 学習\n",
        "model.fit(X_train1, y_train1)\n",
        "\n",
        "y_pred2 = model.predict(X_valid1)"
      ],
      "execution_count": 26,
      "outputs": []
    },
    {
      "cell_type": "code",
      "metadata": {
        "colab": {
          "base_uri": "https://localhost:8080/"
        },
        "id": "8y_MmIIlbUH9",
        "outputId": "0268c4dc-5759-4231-b55c-41350a2a4593"
      },
      "source": [
        "print('正解率:{}'.format(accuracy_score(y_valid1, y_pred2)))\n",
        "print('適合率:{}'.format(precision_score(y_valid1, y_pred2)))\n",
        "print('再現率:{}'.format(recall_score(y_valid1, y_pred2)))\n",
        "print('F値:{}'.format(f1_score(y_valid1, y_pred2)))\n",
        "print(confusion_matrix(y_valid1, y_pred2))"
      ],
      "execution_count": 27,
      "outputs": [
        {
          "output_type": "stream",
          "name": "stdout",
          "text": [
            "正解率:1.0\n",
            "適合率:1.0\n",
            "再現率:1.0\n",
            "F値:1.0\n",
            "[[65  0]\n",
            " [ 0 85]]\n"
          ]
        }
      ]
    },
    {
      "cell_type": "markdown",
      "metadata": {
        "id": "M-kGrz9lbhX2"
      },
      "source": [
        "〈問題4解答〉\n",
        "以上のとおり、スクラッチ実装した結果は、scikit-learnによる実装と比べ、正しく動いていることを確認できた。"
      ]
    },
    {
      "cell_type": "markdown",
      "metadata": {
        "id": "ENyseA_Lwz86"
      },
      "source": [
        "**【問題5】決定領域の可視化**\n",
        "\n",
        "決定領域を可視化してください。\n",
        "\n",
        "\n",
        "以下の例のようにサポートベクターは異なる色で示してください。"
      ]
    },
    {
      "cell_type": "markdown",
      "metadata": {
        "id": "71GTzdDFxCzw"
      },
      "source": [
        "# 4.SVMとはどのような仕組みか"
      ]
    },
    {
      "cell_type": "markdown",
      "metadata": {
        "id": "IL5YRW-mxF64"
      },
      "source": [
        "スクラッチ実装に必要な情報は以上ですが、大まかな仕組みの解説を行います。\n",
        "\n",
        "\n",
        "SVMは決定境界と近くの点の距離（マージン）を最大化する方法です。特徴量が2つであれば以下の図のように線を引くことを考えます。\n",
        "\n",
        "決定境界は線形であれば、線形回帰やロジスティック回帰と同様に次の式です。\n",
        "\n",
        "$$\n",
        "y(x) = w^{T}x\n",
        "$$\n",
        "\n",
        "$x$ : 特徴量ベクトル\n",
        "\n",
        "\n",
        "$w$ : 重みベクトル\n",
        "\n",
        "\n",
        "決定境界とある点 $x$ との距離 $r$ は以下の式で求められます。高校数学で学ぶ「点と直線の距離の公式」や「点と平面の距離の公式」を一般化したものです。\n",
        "\n",
        "$$\n",
        "r = \\frac{y_{i}y(x)}{||w||} = \\frac{y_{i}w^{T}x}{||w||}\n",
        "$$\n",
        "\n",
        "$||w||$ はベクトル $w$ の大きさで、特徴量が2つならば $||w|| = \\sqrt{w_{1}^2+w_{2}^2}$ です。また、学習するi番目のデータのラベルを $y_{i}=-1$または$y_{i}=1$ としています。\n",
        "\n",
        "\n",
        "訓練データの中で「最も距離 $r$ が短くなる点x（サポートベクター）の距離 $r$ を最大化する $w$ を求める」ことがSVMによる分類だと言い換えられます。\n",
        "\n",
        "\n",
        "これは非常に複雑な問題です。 $w$ を変化させると、最も距離 $r$ が短くなる点x（サポートベクター）も変化していくからです。計算するためには、問題を扱いやすい形に変形させる必要があります。\n",
        "\n"
      ]
    },
    {
      "cell_type": "markdown",
      "metadata": {
        "id": "rDhE0mokxWL2"
      },
      "source": [
        "**扱いやすい形にする**\n",
        "\n",
        "まず定数 $M(>0)$ を置くと、先ほどの問題は、\n",
        "\n",
        "\n",
        "「$\\frac{M}{||w||}$ を $y_{i}(w^{T}x_{i})\\geq M$ という条件の元で最大化する $w$ や $M$ を求める問題」\n",
        "\n",
        "\n",
        "と表現できます。条件式は $x_{i}$ に訓練データのすべての点を入れて成り立つ必要があります。まだまだややこしいですが、これをMで割ってしまいます。そうすると、\n",
        "\n",
        "\n",
        "「$\\frac{1}{||w||}$ を $y_{i}(\\frac{w^{T}}{M}x_{i})\\geq 1$ という条件の元で最大化する $w$ や $M$ を求める問題」\n",
        "\n",
        "\n",
        "になり、さらに $w^{T} \\gets \\frac{w^{T}}{M}$ と置き換えてしまいます。\n",
        "\n",
        "\n",
        "そうすれば、\n",
        "\n",
        "\n",
        "「 $\\frac{1}{||w||}$ を $y_{i}(w^{T}X_{i})\\geq 1$ という条件の元で最大化する $w$を求める問題」\n",
        "\n",
        "\n",
        "まで簡単化できます。 $\\frac{1}{||w||}$ を最大化するというのは $||w||$ を最小化することと同じです。これを後々さらに扱いやすくするために $\\frac{1}{2}||w||^2$ を最小化すると考えます。よって、\n",
        "\n",
        "\n",
        "「 $\\frac{1}{2}||w||^2$ を $y_{i}(w^{T}x_{i})\\geq 1$ という条件の元で最小化する $w$ を求める問題」\n",
        "\n",
        "\n",
        "とすることができます。"
      ]
    },
    {
      "cell_type": "markdown",
      "metadata": {
        "id": "mDhWDXPpx34j"
      },
      "source": [
        "**解きやすい問題にする（双対化）**\n",
        "\n",
        "こういった不等式制約を持つ最適化問題は次のように ラグランジュの未定乗数法 で置き換えられることが知られています。\n",
        "\n",
        "\n",
        "なお、このように難しい問題を別の簡単な問題に言い換えることを 双対化する といいます。\n",
        "\n",
        "\n",
        "ラグランジュの未定乗数法を用いると以下のラグランジュ関数が得られます。\n",
        "\n",
        "$$\n",
        "L(w,\\lambda) = \\frac{1}{2}||w||^2 - \\sum_{i=1}^{N}\\lambda_{i}\\{y_{i}(w^{T}x_{i})-1\\}\n",
        "$$\n",
        "\n",
        "$\\lambda$ はラグランジュ乗数と呼ばれる数で、0以上の値です。これを $w$について微分し、0に等しいと置くと、次の式が得られます。\n",
        "\n",
        "$$\n",
        "w = \\sum_{i=1}^{N}\\lambda_{i}y_{i}x_{i}\n",
        "$$\n",
        "（この微分のために $||w||$ ではなく $\\frac{1}{2}||w||^2$ としています）\n",
        "\n",
        "\n",
        "これをラグランジュ関数に代入して整理すると\n",
        "\n",
        "$$\n",
        "\\sum_{i=1}^{N}\\lambda_{i}-\\frac{1}{2}\\sum_{i=1}^{N}\\sum_{j=1}^{N}\\lambda_{i}\\lambda_{j}ｙ_{i}ｙ_{j}x_{i}^Tx_{j}\n",
        "$$\n",
        "を $\\lambda_{i} \\geq 0$ かつ $\\sum_{n=1}^{N}\\lambda_{i}y_{i} = 0$ の条件の元で最大化するときの $\\lambda_{i}$ を探す問題に双対化できます。\n",
        "\n",
        "\n",
        "この形になれば、$\\lambda$ を勾配降下法により求めることができます。$w$は出てきませんが、得られる結果は同じです。"
      ]
    },
    {
      "cell_type": "markdown",
      "metadata": {
        "id": "N4yf_-VJyF1u"
      },
      "source": [
        "**カーネル**\n",
        "\n",
        "最後の式の $x_{i}^{T} x_j$ の部分を $k(x_i, x_j)$ という関数に置き換えます。この関数を カーネル関数 と呼びます。\n",
        "\n",
        "$$\n",
        "\\sum_{i=1}^{N}\\lambda_{i}-\\frac{1}{2}\\sum_{i=1}^{N}\\sum_{j=1}^{N}\\lambda_{i}\\lambda_{j}ｙ_{i}ｙ_{j}k(x_i, x_j)\n",
        "$$\n",
        "この式が問題1の最急降下法の式の元になります。\n",
        "\n",
        "\n",
        "カーネル関数は $x_{i}^{T} x_j$ ではないさまざまな計算に置き換えることができます。この部分を置き換えるだけで、元の特徴量を **高次元空間** に移動させたことと同じ結果が得られ、高い分類性能を得ることができます。これを **カーネルトリック** と呼びます。\n",
        "\n"
      ]
    },
    {
      "cell_type": "markdown",
      "metadata": {
        "id": "q0ggHD01yceM"
      },
      "source": [
        "**高次元へ移す簡単な例**\n",
        "\n",
        "次の図のように1次元上に2色の点があるとします。これらを直線一本を引くことで分けることは不可能です。\n",
        "https://t.gyazo.com/teams/diveintocode/e75b3c8d2692afa9fba4f76485a883eb.png\n",
        "\n",
        "しかし、例えば以下のように変換してみると直線でも分けられそうです。\n",
        "$x^2=2.5$ あたりに線を引くことになります。\n",
        "https://t.gyazo.com/teams/diveintocode/5f5bacd8aac5831f1936759362b8a184.png\n",
        "\n",
        "これは$x^2$を計算し、それを縦軸にプロットしたグラフです。1次元だったデータを $\\phi(x)=x^2$ の関数により高次元（2次元）へと移動しました。\n",
        "\n",
        "こういったことをSVMはカーネルトリックにより行います。"
      ]
    },
    {
      "cell_type": "code",
      "metadata": {
        "id": "izCjhxU_bhF4"
      },
      "source": [
        "from matplotlib.colors import ListedColormap\n",
        "import matplotlib.patches as mpatches\n",
        "\n",
        "def decision_region(X, y, model, step = 0.01, title = 'decision region', xlabel = 'xlabel', ylabel = 'ylabel', target_names = ['versicolor', 'virginica']):\n",
        "  scatter_color = ['red', 'blue']\n",
        "  countourf_color = ['pink', 'skyblue']\n",
        "  n_class = 2\n",
        "\n",
        "  # 予測\n",
        "  mesh_f0, mesh_f1 = np.meshgrid(np.arange(np.min(X[:, 0]) - 0.5,\n",
        "                                           np.max(X[:, 0]) + 0.5, step),\n",
        "                                 np.arange(np.min(X[:, 1]) - 0.5,\n",
        "                                           np.max(X[:, 1]) + 0.5, step))\n",
        "  \n",
        "  mesh = np.c_[np.ravel(mesh_f0), np.ravel(mesh_f1)]\n",
        "  y_pred = model.predict(mesh).reshape(mesh_f0.shape)\n",
        "\n",
        "  # 描画\n",
        "  plt.title(title)\n",
        "  plt.xlabel(xlabel)\n",
        "  plt.ylabel(ylabel)\n",
        "  plt.contourf(mesh_f0, mesh_f1, y_pred, n_class -1, cmap = ListedColormap(countourf_color))\n",
        "  plt.contour(mesh_f0, mesh_f1, y_pred, n_class -1, colors = 'y', linewidths = 5, alpha = 0.5)\n",
        "\n",
        "  for i, target in enumerate(set(y)):\n",
        "    plt.scatter(X[y == target][:, 0],\n",
        "                X[y == target][:, 1],\n",
        "                s = 80,\n",
        "                color = scatter_color[i],\n",
        "                label = target_names[i], marker = 'o')\n",
        "\n",
        "    patches = [mpatches.Patch(color = scatter_color[i], label = target_names[i]) for i in range(n_class)]\n",
        "    plt.scatter(model.X_sv[:,0],model.X_sv[:,1], color = 'yellow', s = 80, label = 'Support Vector')\n",
        "    plt.legend(handles=patches)\n",
        "    plt.legend()"
      ],
      "execution_count": 36,
      "outputs": []
    },
    {
      "cell_type": "code",
      "metadata": {
        "colab": {
          "base_uri": "https://localhost:8080/",
          "height": 791
        },
        "id": "QTSsgYWwmkP9",
        "outputId": "13261be3-a142-4aad-c4cb-357b02f07f40"
      },
      "source": [
        "fit, ax = plt.subplots(figsize = (12, 12))\n",
        "plt.rcParams['font.size'] = 20\n",
        "print('Number of Support_Vector', SSC.n_support_vectors)\n",
        "decision_region(X_train1, y_train1, SSC, title = 'TRAIN', target_names = ['-1', '1'])\n",
        "plt.scatter(X_valid1[:, 0], X_valid1[:, 1], s = 80, label = 'valid')\n",
        "plt.legend()"
      ],
      "execution_count": 38,
      "outputs": [
        {
          "output_type": "stream",
          "name": "stdout",
          "text": [
            "Number of Support_Vector 8\n"
          ]
        },
        {
          "output_type": "execute_result",
          "data": {
            "text/plain": [
              "<matplotlib.legend.Legend at 0x7f491818d4d0>"
            ]
          },
          "metadata": {},
          "execution_count": 38
        },
        {
          "output_type": "display_data",
          "data": {
            "image/png": "[encoded data removed]",
            "text/plain": [
              "<Figure size 864x864 with 1 Axes>"
            ]
          },
          "metadata": {
            "needs_background": "light"
          }
        }
      ]
    },
    {
      "cell_type": "markdown",
      "metadata": {
        "id": "TY8zBSPXzOCP"
      },
      "source": [
        "# 5.他のカーネル関数の実装"
      ]
    },
    {
      "cell_type": "markdown",
      "metadata": {
        "id": "JOJhrS0rzTNC"
      },
      "source": [
        "**【問題6】（アドバンス課題）多項式カーネル関数の作成**\n",
        "\n",
        "最初に作成した実装では線形カーネルを使用していました。多項式カーネルにも切り替えられるようにしましょう。\n",
        "\n",
        "\n",
        "「線形カーネルの式」\n",
        "\n",
        "$$\n",
        "k(x_i, x_j) = x_{i}^{T} x_j\n",
        "$$\n",
        "\n",
        "「多項式カーネルの式」\n",
        "\n",
        "$$\n",
        "k(x_i, x_j) = ({\\gamma}x_{i}^{T} x_j + \\theta_0)^{d}\n",
        "$$\n",
        "\n",
        "$\\gamma$, $\\theta_0$, $d$ はハイパーパラメータです。\n",
        "\n",
        "\n",
        "線形カーネルは $\\gamma = 1$, $\\theta_0 = 0$, $d = 1$の場合の多項式カーネルと等しいと言えます。"
      ]
    },
    {
      "cell_type": "code",
      "metadata": {
        "id": "TDmJr-2vyU-y"
      },
      "source": [
        ""
      ],
      "execution_count": null,
      "outputs": []
    }
  ]
}
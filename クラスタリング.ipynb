{
  "nbformat": 4,
  "nbformat_minor": 0,
  "metadata": {
    "colab": {
      "name": "クラスタリング.ipynb",
      "provenance": [],
      "collapsed_sections": [],
      "mount_file_id": "1Eg9uBj6OowyCeyCC2AbRxNoS22Tc97en",
      "authorship_tag": "ABX9TyOF96Uug94Gwdtgx47EJd/r",
      "include_colab_link": true
    },
    "kernelspec": {
      "name": "python3",
      "display_name": "Python 3"
    },
    "language_info": {
      "name": "python"
    }
  },
  "cells": [
    {
      "cell_type": "markdown",
      "metadata": {
        "id": "view-in-github",
        "colab_type": "text"
      },
      "source": [
        "<a href=\"https://colab.research.google.com/github/shinmiura/diveintocode-ml/blob/master/%E3%82%AF%E3%83%A9%E3%82%B9%E3%82%BF%E3%83%AA%E3%83%B3%E3%82%B0.ipynb\" target=\"_parent\"><img src=\"https://colab.research.google.com/assets/colab-badge.svg\" alt=\"Open In Colab\"/></a>"
      ]
    },
    {
      "cell_type": "markdown",
      "metadata": {
        "id": "MYcyBQoKB-Ma"
      },
      "source": [
        "**Sprintの目的**\n",
        "\n",
        "・スクラッチを通してK-meansを理解する\n",
        "\n",
        "・クラスタ分析を行う"
      ]
    },
    {
      "cell_type": "markdown",
      "metadata": {
        "id": "du3G9KJcB9z-"
      },
      "source": [
        "**どのように学ぶか**\n",
        "\n",
        "スクラッチでK-meansを実装した後、それを使用しクラスタ分析を行います。"
      ]
    },
    {
      "cell_type": "markdown",
      "metadata": {
        "id": "0Rni2VOkCqIJ"
      },
      "source": [
        "# 2.K-meansスクラッチ\n",
        "\n",
        "K-meansのクラスをスクラッチで作成していきます。NumPyなど最低限のライブラリのみを使いアルゴリズムを実装していきます。\n",
        "\n",
        "以下に雛形を用意してあります。このScratchKMeansクラスにコードを書き加えていってください。"
      ]
    },
    {
      "cell_type": "markdown",
      "metadata": {
        "id": "FYzdD41uiTNS"
      },
      "source": [
        "実装の手順(授業スライドP12の内容を転載)\n",
        "\n",
        "①サンプル数のインデックスに対し、kクラス分のランダムな初期ラベルを割り当てる\n",
        "\n",
        "②各ラベル毎にデータ点をグルーピングし、クラスタを作成する\n",
        "\n",
        "③クラスタ毎にデータ点の平均値を求め、そのクラスタの重心とする\n",
        "\n",
        "④その重心から、全てのサンプルのデータ点との距離を計算する\n",
        "\n",
        "⑤各データ点から見て、距離が最小となる重心のクラスタにそのデータ点を割り当てる\n",
        "\n",
        "⑥上記③〜⑤を繰り返す\n",
        "\n",
        "⑦収束条件(値が変化しない・定義した反復回数に達した等)を満たしたら、終了\n",
        "\n",
        "⑧初期値を更新し、①〜⑦をn回繰り返し、SSEが最小のものを選ぶ"
      ]
    },
    {
      "cell_type": "code",
      "metadata": {
        "id": "KH4qj9ANAQ1T"
      },
      "source": [
        "class ScratchKMeans():\n",
        "    \"\"\"\n",
        "    K-meansのスクラッチ実装\n",
        "    Parameters\n",
        "    ----------\n",
        "    n_clusters : int\n",
        "      クラスタ数\n",
        "    n_init : int\n",
        "      中心点の初期値を何回変えて計算するか\n",
        "    max_iter : int\n",
        "      1回の計算で最大何イテレーションするか\n",
        "    tol : float\n",
        "      イテレーションを終了する基準となる中心点と重心の許容誤差\n",
        "    verbose : bool\n",
        "      学習過程を出力する場合はTrue\n",
        "    \"\"\"\n",
        "    def __init__(self, n_clusters = 2, n_init = 20, n_iter = 100, verbose=False):\n",
        "        # ハイパーパラメータを属性として記録\n",
        "        self.n_clusters = n_clusters\n",
        "        self.n_init = n_init\n",
        "        self.n_iter = n_iter\n",
        "        self.verbose = verbose\n",
        "        # 初期値(あり得ないくらい大きい値をいったん置く)\n",
        "        self.best_sse = 20 ** 20\n",
        "    \n",
        "    # 問題4（中心点の移動）の解答をここに記載\n",
        "    def _update_myu(self, X):\n",
        "      \"\"\"\n",
        "      出発点(2回目以降は重心)を更新するメソッド\n",
        "      Parameters\n",
        "      ----------\n",
        "      X : 次の形のndarray, shape (n_samples, n_features)\n",
        "          特徴量\n",
        "      \"\"\"\n",
        "      self.pre_myu = self.myu\n",
        "      # クラスタ数分だけ処理が必要なためクラスタ数でfor文を回す\n",
        "      for j in range(self.n_clusters):\n",
        "        # ちょうどループ中のクラスタの特徴量だけの平均を出す→これが次の出発点\n",
        "        self.myu[j] = np.mean(X[X[:, -1] == j, : -1], axis = 0)\n",
        "    \n",
        "    # 問題3（クラスタへの割り当て）の解答をここに記載\n",
        "    def _update_cluster(self, X):\n",
        "      \"\"\"\n",
        "      クラスタを更新するメソッド\n",
        "      Parameters\n",
        "      ----------\n",
        "      X : 次の形のndarray, shape (n_samples, n_features)\n",
        "          特徴量\n",
        "      \"\"\"\n",
        "      # 各データ点について重心との距離を測って一番近い重心のクラスタに割り当てるためデータ数でfor文を回す\n",
        "      for i in range(len(X)):\n",
        "        # 距離が小さい場合に置き換えるため従来と最新で比較する必要あり。そのための初期値をここで用意\n",
        "        dist_m = 20 ** 20\n",
        "        # クラスタ数分だけ処理が必要なためクラスタ数でfor文を回す\n",
        "        for j in range(self.n_clusters):\n",
        "          # 該当クラスタの中心点との距離を計算\n",
        "          dist = np.sqrt(np.sum((X[i, :-1]-self.myu[j])**2))\n",
        "          # 前回保存した(あるいは初期値)より距離が小さければ、そちらのクラスタを採用\n",
        "          if dist < dist_m:\n",
        "            dist_m = dist\n",
        "            X[i, -1] = j\n",
        "\n",
        "    # 問題2（SSEを求める関数の作成）の解答をここに記載\n",
        "    def calc_sse(self, X):\n",
        "      \"\"\"\n",
        "      SSEを計算するメソッド\n",
        "      Parameters\n",
        "      ----------\n",
        "      X : 次の形のndarray, shape (n_samples, n_features)\n",
        "          特徴量\n",
        "      \"\"\"\n",
        "      # SSEの初期値を設定\n",
        "      sse = 0\n",
        "      # 各データ点について重心との距離を測って一番近い重心のクラスタに割り当てるためデータ数でfor文を回す\n",
        "      for i in range(len(X)):\n",
        "        # クラスタ数分だけ処理が必要なためクラスタ数でfor文を回す\n",
        "        for j in range(self.n_clusters):\n",
        "          # Xの末尾の列のクラスタを判定→該当クラスタであればSSEへ\n",
        "          if j == X[i, -1]:\n",
        "            # SSEの数式をコード化\n",
        "            sse += np.sum((X[i, :-1] - self.myu[j]) ** 2)\n",
        "      # sseが改善していれば更新し、していなければ終了\n",
        "      if self.best_sse > sse:\n",
        "        self.best_sse = sse\n",
        "        self.record_myu = self.myu\n",
        "        self.record_cluster = self.n_clusters\n",
        "\n",
        "    def fit(self, X):\n",
        "        \"\"\"\n",
        "        K-meansによるクラスタリングを計算\n",
        "        Parameters\n",
        "        ----------\n",
        "        X : 次の形のndarray, shape (n_samples, n_features)\n",
        "            訓練データの特徴量\n",
        "        \"\"\"\n",
        "        # 問題5（繰り返し）の解答をここに記載\n",
        "        # 初期値を更新する回数だけfor文を回す\n",
        "        for i in range(self.n_init):\n",
        "          # Xにクラスターラベルを付与(ひとまず0で初期化しておいたが自信がありません！！)\n",
        "          # クラスターラベルの列を作成しひとまず0で初期化\n",
        "          cluster = np.zeros(len(X)).reshape(-1, 1)\n",
        "          # クラスターラベルの列をXに付与する\n",
        "          X_labeled = np.concatenate([X, cluster] , axis = 1)\n",
        "          # 問題1（中心点の初期値を決める）の解答をここに記載\n",
        "          # 入力されたデータ(X)からK個(クラスター数の分だけ)の初期値をランダムに設定\n",
        "          self.myu = X[np.random.choice(len(X), size = self.n_clusters, replace = False)]\n",
        "          \n",
        "          # Xベクトルにクラスタ数分の初期値をランダムにとってくる(各クラスタの初期の中心点)\n",
        "          cluster = np.zeros(len(X))\n",
        "          X_cluster = np.concatenate([X, cluster.reshape(-1, 1)], axis = 1)\n",
        "\n",
        "          for j in range(self.n_iter):\n",
        "            # ①各重心に対しすべてのデータ点とのユークリッド距離を計算する\n",
        "            self.calc_sse(X_cluster)\n",
        "            # ②各重心との距離が最小となるデータ点群を、(当該重心に帰属する)同じクラスターとして分類する\n",
        "            self._update_cluster(X_cluster)\n",
        "            # ③K個のクラスターそれぞれでデータの平均となる点を求めて、その点を新たな重心として更新\n",
        "            self._update_myu(X_cluster)\n",
        "            # 重心の位置が変化しなくなるまで上記①〜③を繰り返す            \n",
        "            \n",
        "            # 学習状況の出力          \n",
        "            if self.verbose:\n",
        "              #verboseをTrueにした際は学習過程を出力\n",
        "              print('初期化:%s 学習回数:%s 最善のSSE:%s'%(i, j, self.best_sse))\n",
        "\n",
        "    def predict(self, X):\n",
        "        \"\"\"\n",
        "        入力されたデータがどのクラスタに属するかを計算\n",
        "        Parameters\n",
        "        ----------\n",
        "        X : 説明変数\n",
        "        \"\"\"\n",
        "        # 予測値の初期化\n",
        "        y_pred = np.zeros(len(X))\n",
        "        # 処理の流れ自体は、_reclustering関数と同様\n",
        "        # データ数でループ\n",
        "        for i in range(len(X)):\n",
        "          #　比較のための初期値\n",
        "          dist_m = 10 ** 20\n",
        "          # クラスタ数でループ\n",
        "          for j in range(self.record_cluster):\n",
        "            # 前回保存した(あるいは初期値)より距離が小さければ、そちらのクラスタを採用\n",
        "            if dist < dist_m:\n",
        "              dist_m = dist\n",
        "              y_pred[i] = j\n",
        "\n",
        "        return y_pred\n"
      ],
      "execution_count": 11,
      "outputs": []
    },
    {
      "cell_type": "markdown",
      "metadata": {
        "id": "4sduHniaweW7"
      },
      "source": [
        "**クラスタリングのための人工データセット**\n",
        "\n",
        "クラスタリングを実験するための人工データセットを作成するコードを用意しています。\n",
        "\n",
        "\n",
        "このmake_blobs関数は正解ラベルも出力してますが、今回は使用しません。使用しないことを明示するために、 _（アンダースコア） で受け取っています。\n",
        "\n",
        "\n",
        "《シンプルデータセット3》\n",
        "\n"
      ]
    },
    {
      "cell_type": "code",
      "metadata": {
        "id": "5E8A06XEqvsB"
      },
      "source": [
        "# ライブラリのインポート\n",
        "import numpy as np\n",
        "from numpy.random import *\n",
        "import random\n",
        "# k-means法を使うためのインポート\n",
        "from sklearn.cluster import KMeans\n",
        "import matplotlib.pyplot as plt\n",
        "import seaborn as sns\n",
        "import pandas as pd\n",
        "from sklearn.preprocessing import StandardScaler\n",
        "from sklearn.model_selection import train_test_split\n",
        "import matplotlib.pyplot as plt\n",
        "from sklearn.decomposition import PCA"
      ],
      "execution_count": 2,
      "outputs": []
    },
    {
      "cell_type": "code",
      "metadata": {
        "id": "-FC5lLxNwtnZ"
      },
      "source": [
        "# シンプルデータセット3取得のためのインポート\n",
        "from sklearn.datasets import make_blobs\n",
        "# 注意事項 : make_blodsは２つの値を返すため、片方は使用しない「_」で受け取るようにする！\n",
        "X, _ = make_blobs(n_samples=100, n_features=2, centers=4, cluster_std=0.5, shuffle=True, random_state=0)"
      ],
      "execution_count": 3,
      "outputs": []
    },
    {
      "cell_type": "code",
      "metadata": {
        "colab": {
          "base_uri": "https://localhost:8080/"
        },
        "id": "h9ltbsTsQFCr",
        "outputId": "0ae1f8e6-bca2-4e05-dde0-f1d790270f5d"
      },
      "source": [
        "X.shape"
      ],
      "execution_count": 4,
      "outputs": [
        {
          "output_type": "execute_result",
          "data": {
            "text/plain": [
              "(100, 2)"
            ]
          },
          "metadata": {},
          "execution_count": 4
        }
      ]
    },
    {
      "cell_type": "code",
      "metadata": {
        "colab": {
          "base_uri": "https://localhost:8080/",
          "height": 500
        },
        "id": "-6YCgcoWbm5A",
        "outputId": "42a56816-fa99-4f41-b501-cdbe678657e2"
      },
      "source": [
        "# データの可視化\n",
        "fig = plt.subplots(figsize = (12, 8))\n",
        "plt.rcParams['font.size'] = 20\n",
        "plt.scatter(X[:, 0], X[:, 1], s = 100, color = 'orange')"
      ],
      "execution_count": 5,
      "outputs": [
        {
          "output_type": "execute_result",
          "data": {
            "text/plain": [
              "<matplotlib.collections.PathCollection at 0x7fc13da0be10>"
            ]
          },
          "metadata": {},
          "execution_count": 5
        },
        {
          "output_type": "display_data",
          "data": {
            "image/png": "[encoded data removed]",
            "text/plain": [
              "<Figure size 864x576 with 1 Axes>"
            ]
          },
          "metadata": {
            "needs_background": "light"
          }
        }
      ]
    },
    {
      "cell_type": "code",
      "metadata": {
        "colab": {
          "base_uri": "https://localhost:8080/"
        },
        "id": "klGnkkHDjO1A",
        "outputId": "2e7ef8c8-7d7c-4283-de4a-ee4654dac475"
      },
      "source": [
        "# データの分割\n",
        "from sklearn.model_selection import train_test_split\n",
        "X_train, X_valid = train_test_split(X, test_size = 0.3, random_state = None)\n",
        "\n",
        "print(X_train.shape)\n",
        "print(X_valid.shape)"
      ],
      "execution_count": 6,
      "outputs": [
        {
          "output_type": "stream",
          "name": "stdout",
          "text": [
            "(70, 2)\n",
            "(30, 2)\n"
          ]
        }
      ]
    },
    {
      "cell_type": "markdown",
      "metadata": {
        "id": "0oWucDQJDEap"
      },
      "source": [
        "**学習**\n",
        "\n",
        "K-meansの学習に必要な要素を順番に作成していきます。"
      ]
    },
    {
      "cell_type": "markdown",
      "metadata": {
        "id": "BOqy14xzDblc"
      },
      "source": [
        "【問題1】中心点の初期値を決める\n",
        "\n",
        "入力されたデータから$K$個の中心点$\\mu_1$から$\\mu_k$の初期値を決めるコードを作成してください。$K$は指定したクラスタ数です。\n",
        "\n",
        "最もシンプルな初期値の決定方法は、データ点$X_n$の中からランダムに$K$個選ぶことです。今回はこれを実装してください。\n",
        "\n",
        "K-meansの学習結果は中心点μの初期値に影響を受けます。そのため、学習時には複数個の初期値で計算を行います。"
      ]
    },
    {
      "cell_type": "code",
      "metadata": {
        "id": "LTprJghs0TXJ"
      },
      "source": [
        "n_clusters = 3"
      ],
      "execution_count": null,
      "outputs": []
    },
    {
      "cell_type": "code",
      "metadata": {
        "colab": {
          "base_uri": "https://localhost:8080/"
        },
        "id": "KH_hjoj6B9aR",
        "outputId": "aa0e6641-b65a-4fa5-cf37-5a41637e5eb3"
      },
      "source": [
        "myu = X[np.random.choice(len(X), size = n_clusters, replace = False)]\n",
        "myu"
      ],
      "execution_count": null,
      "outputs": [
        {
          "output_type": "execute_result",
          "data": {
            "text/plain": [
              "array([[-1.7653772 ,  8.17625727],\n",
              "       [ 0.802314  ,  4.38196181],\n",
              "       [-1.26789718,  7.25141327]])"
            ]
          },
          "metadata": {},
          "execution_count": 6
        }
      ]
    },
    {
      "cell_type": "code",
      "metadata": {
        "id": "nms876NlTlJ7"
      },
      "source": [
        "cluster = np.zeros(len(X)).reshape(-1, 1)\n",
        "X_labeled = np.concatenate([X, cluster], axis = 1)"
      ],
      "execution_count": null,
      "outputs": []
    },
    {
      "cell_type": "code",
      "metadata": {
        "colab": {
          "base_uri": "https://localhost:8080/"
        },
        "id": "GNLx2Bg_T7P-",
        "outputId": "84b3a51e-e080-4679-a710-e13877bfc3b9"
      },
      "source": [
        "X_labeled"
      ],
      "execution_count": null,
      "outputs": [
        {
          "output_type": "execute_result",
          "data": {
            "text/plain": [
              "array([[ 0.72086751,  3.71347124,  0.        ],\n",
              "       [-1.89468423,  7.96898545,  0.        ],\n",
              "       [ 1.35678894,  4.36462484,  0.        ],\n",
              "       [ 1.05374379,  4.49286859,  0.        ],\n",
              "       [ 1.59141542,  4.90497725,  0.        ],\n",
              "       [ 0.78260667,  4.15263595,  0.        ],\n",
              "       [-1.95751686,  3.87291474,  0.        ],\n",
              "       [-0.77354537,  7.87923564,  0.        ],\n",
              "       [ 0.12313498,  5.27917503,  0.        ],\n",
              "       [-1.43284669,  7.71577043,  0.        ],\n",
              "       [-0.92819001,  7.02698199,  0.        ],\n",
              "       [-1.74836345,  7.06307447,  0.        ],\n",
              "       [-1.26789718,  7.25141327,  0.        ],\n",
              "       [-0.98661744,  7.74968685,  0.        ],\n",
              "       [-0.81984047,  7.50994722,  0.        ],\n",
              "       [ 2.99684287,  0.22378413,  0.        ],\n",
              "       [ 1.46870582,  1.86947425,  0.        ],\n",
              "       [-0.33533163,  3.390122  ,  0.        ],\n",
              "       [-1.86407034,  2.93379754,  0.        ],\n",
              "       [ 2.62496786,  0.28025075,  0.        ],\n",
              "       [ 2.11114739,  3.57660449,  0.        ],\n",
              "       [-1.8219901 ,  7.61654999,  0.        ],\n",
              "       [-1.91186205,  3.18750686,  0.        ],\n",
              "       [ 2.28809874,  0.12954182,  0.        ],\n",
              "       [ 0.5285368 ,  4.49723858,  0.        ],\n",
              "       [-1.57613028,  2.58614312,  0.        ],\n",
              "       [-0.565433  ,  3.65813966,  0.        ],\n",
              "       [ 0.802314  ,  4.38196181,  0.        ],\n",
              "       [ 2.79939362,  1.84560825,  0.        ],\n",
              "       [ 2.64465731,  0.80770124,  0.        ],\n",
              "       [ 1.7190373 ,  0.71788708,  0.        ],\n",
              "       [-0.93564005,  7.03443119,  0.        ],\n",
              "       [ 2.14398059,  0.69677319,  0.        ],\n",
              "       [ 2.06051753,  1.79059891,  0.        ],\n",
              "       [-1.21986433,  3.3789856 ,  0.        ],\n",
              "       [ 1.13280393,  3.87673946,  0.        ],\n",
              "       [-1.497272  ,  8.80022604,  0.        ],\n",
              "       [ 1.85367905,  1.5088862 ,  0.        ],\n",
              "       [-0.1666378 ,  8.50372399,  0.        ],\n",
              "       [-1.89928142,  2.50466299,  0.        ],\n",
              "       [ 1.04829186,  5.03092408,  0.        ],\n",
              "       [-1.44356727,  3.23539798,  0.        ],\n",
              "       [-1.57006498,  6.72375844,  0.        ],\n",
              "       [-1.98331513,  3.47639041,  0.        ],\n",
              "       [-1.87418794,  2.84306499,  0.        ],\n",
              "       [-1.86097353,  8.2576415 ,  0.        ],\n",
              "       [ 1.61986895,  0.60823883,  0.        ],\n",
              "       [-1.84482705,  3.25609891,  0.        ],\n",
              "       [ 0.72144399,  4.08475018,  0.        ],\n",
              "       [ 0.5323772 ,  3.31338909,  0.        ],\n",
              "       [ 0.3498724 ,  4.69253251,  0.        ],\n",
              "       [ 1.89949126,  0.92574633,  0.        ],\n",
              "       [-1.2386086 ,  2.81373288,  0.        ],\n",
              "       [-1.74448079,  3.84251413,  0.        ],\n",
              "       [-0.96358605,  2.37791651,  0.        ],\n",
              "       [-1.26041884,  7.46644456,  0.        ],\n",
              "       [-0.8623605 ,  8.24721209,  0.        ],\n",
              "       [ 2.4198128 ,  0.96215512,  0.        ],\n",
              "       [ 2.23345072,  1.25095024,  0.        ],\n",
              "       [-0.65424088,  7.99393132,  0.        ],\n",
              "       [-1.42525273,  7.14798437,  0.        ],\n",
              "       [ 1.51989121,  1.42488952,  0.        ],\n",
              "       [ 2.11872357,  1.09865834,  0.        ],\n",
              "       [ 1.74265969,  5.03846671,  0.        ],\n",
              "       [ 1.42002502,  1.38236201,  0.        ],\n",
              "       [-0.69842598,  8.16309188,  0.        ],\n",
              "       [-2.18485772,  2.68708996,  0.        ],\n",
              "       [-1.32890066,  2.37135151,  0.        ],\n",
              "       [ 2.15940501,  1.38598318,  0.        ],\n",
              "       [ 1.19820169,  4.47062449,  0.        ],\n",
              "       [-1.7653772 ,  8.17625727,  0.        ],\n",
              "       [ 1.4726926 ,  1.3480769 ,  0.        ],\n",
              "       [ 0.92466065,  4.50908658,  0.        ],\n",
              "       [-1.47602203,  7.8441996 ,  0.        ],\n",
              "       [ 0.99914934,  4.2101954 ,  0.        ],\n",
              "       [ 1.40848818,  3.93270482,  0.        ],\n",
              "       [-0.59312453,  3.37090459,  0.        ],\n",
              "       [-1.6609057 ,  3.31911046,  0.        ],\n",
              "       [ 2.25643834,  0.55525861,  0.        ],\n",
              "       [ 1.24016835,  1.12905479,  0.        ],\n",
              "       [ 1.64869438,  0.03452236,  0.        ],\n",
              "       [-1.61803727,  8.60696731,  0.        ],\n",
              "       [-1.37778493,  3.58107521,  0.        ],\n",
              "       [ 0.16932115,  4.19741719,  0.        ],\n",
              "       [ 1.73810647,  0.71629308,  0.        ],\n",
              "       [-1.05327803,  2.84037721,  0.        ],\n",
              "       [ 1.60161834,  0.92363636,  0.        ],\n",
              "       [ 1.84845803,  0.52393625,  0.        ],\n",
              "       [ 1.72330962,  4.2012082 ,  0.        ],\n",
              "       [ 1.00952869,  4.45502328,  0.        ],\n",
              "       [ 0.96217896,  4.51795326,  0.        ],\n",
              "       [-1.33869125,  2.36818187,  0.        ],\n",
              "       [ 0.4519936 ,  3.59377836,  0.        ],\n",
              "       [-1.19075663,  3.12161318,  0.        ],\n",
              "       [-2.27253281,  3.13757811,  0.        ],\n",
              "       [-1.80044744,  7.86154256,  0.        ],\n",
              "       [-1.64996061,  7.49068513,  0.        ],\n",
              "       [-1.56102482,  3.77455362,  0.        ],\n",
              "       [-0.78782636,  7.99482384,  0.        ],\n",
              "       [-0.30022483,  4.63059663,  0.        ]])"
            ]
          },
          "metadata": {},
          "execution_count": 13
        }
      ]
    },
    {
      "cell_type": "markdown",
      "metadata": {
        "id": "53LKtaX4G7yR"
      },
      "source": [
        "【問題2】SSEを求める関数の作成\n",
        "\n",
        "クラスタ内誤差平方和（SSE, Sum of Squared Errors）を計算する関数を作成してください。\n",
        "\n",
        "\n",
        "K-meansはこのSSEを最小化する \n",
        "$r_n$$_k$と$\\mu_k$を求めることが目的となります。複数個の初期値で計算したクラスタリング結果から、どれを最終的に採用するかを決める際にこのSSEを求める関数を使用します。\n",
        "\n",
        "$$\n",
        "SSE = \\sum_{n=1}^N \\sum_{k=1}^K r_{nk} \\|X_n - \\mu_k\\|^2\n",
        "$$\n",
        "\n",
        "$n$ : データ点のインデックス\n",
        "\n",
        "\n",
        "$k$ : クラスタのインデックス\n",
        "\n",
        "\n",
        "$X_n$ : n番目のデータ点\n",
        "\n",
        "\n",
        "$\\mu_k$ : k番目の中心点\n",
        "\n",
        "\n",
        "$r_n$$_k$ : データ点$X_n$がクラスタkに所属していたら1、そうでなければ0"
      ]
    },
    {
      "cell_type": "markdown",
      "metadata": {
        "id": "sca9zVgkLKMp"
      },
      "source": [
        "**クラスタの割り当てと中心点の移動を繰り返す**\n",
        "\n",
        "K-meansの学習の基本は以下の2つのフェーズを繰り返すことです。\n",
        "\n",
        "中心点$\\mu_k$を固定した上で$SSE$を最小化するクラスタの割り当て$r_n$$_k$を選ぶ。\n",
        "クラスタの割り当て$r_n$$_k$を固定した上で$SSE$を最小化する中心点$\\mu_k$を選ぶ。\n",
        "\n",
        "最初の中心点$\\mu_k$は問題1で作成した初期値です。\n",
        "順番に見ていきます。"
      ]
    },
    {
      "cell_type": "code",
      "metadata": {
        "colab": {
          "base_uri": "https://localhost:8080/"
        },
        "id": "ZFBelzp39gUl",
        "outputId": "1c17c8d5-a0b8-4f63-eb29-f71e77c46d0d"
      },
      "source": [
        "for j in range(3):\n",
        "  a = np.mean(X[X[:, -1] == j, : -1], axis = 0)\n",
        "\n",
        "a"
      ],
      "execution_count": null,
      "outputs": [
        {
          "output_type": "stream",
          "text": [
            "/usr/local/lib/python3.7/dist-packages/numpy/core/fromnumeric.py:3373: RuntimeWarning: Mean of empty slice.\n",
            "  out=out, **kwargs)\n",
            "/usr/local/lib/python3.7/dist-packages/numpy/core/_methods.py:163: RuntimeWarning: invalid value encountered in true_divide\n",
            "  ret, rcount, out=ret, casting='unsafe', subok=False)\n"
          ],
          "name": "stderr"
        },
        {
          "output_type": "execute_result",
          "data": {
            "text/plain": [
              "array([nan])"
            ]
          },
          "metadata": {},
          "execution_count": 18
        }
      ]
    },
    {
      "cell_type": "code",
      "metadata": {
        "id": "pxsPkLLZOeip"
      },
      "source": [
        "def calc_sse(self, X)"
      ],
      "execution_count": null,
      "outputs": []
    },
    {
      "cell_type": "markdown",
      "metadata": {
        "id": "Lyo8WZI9MCjZ"
      },
      "source": [
        "【問題3】クラスタへの割り当て\n",
        "\n",
        "すべてのデータ点$X_n$を最も近い中心点$μ_k$に割り当てるコードを作成してください。\n",
        "\n",
        "K-menasにおける**近い**とは点と点のユークリッド距離が小さくなることです。ユークリッド距離とはピタゴラスの定理（三平方の定理）で求められるものですが、ベクトル$p$,$q$に対しては以下の数式で表現できます。\n",
        "\n",
        "$$\n",
        "\\|q-p\\| = \\sqrt{(q-p)\\cdot(q-p)}\n",
        "$$\n",
        "\n",
        "NumPyにはこの関数がnp.linalg.normとして用意されているため使用してください。\n",
        "\n",
        "\n",
        "numpy.linalg.norm — NumPy v1.17 Manual\n",
        "\n",
        "\n",
        "中心点$\\mu_k$を固定した上でSSEを最小化していることになりますが、SSE自体を求める必要はありません。\n",
        "\n"
      ]
    },
    {
      "cell_type": "code",
      "metadata": {
        "id": "FTOATJg9KW3M"
      },
      "source": [
        "def _update_claster(self, X)"
      ],
      "execution_count": null,
      "outputs": []
    },
    {
      "cell_type": "markdown",
      "metadata": {
        "id": "qhRInjWbO8PH"
      },
      "source": [
        "【問題4】中心点の移動\n",
        "\n",
        "中心点$μ_k$を$k$番目のクラスタに割り当てられるすべてのデータ点$X_n$の平均値（重心）に移動するコードを作成してください。\n",
        "\n",
        "\n",
        "クラスタの割り当て$r_n$$_k$を固定した上でSSEを最小化していることになりますが、SSE自体を求める必要はありません。"
      ]
    },
    {
      "cell_type": "code",
      "metadata": {
        "id": "bIi3tWofPbNH"
      },
      "source": [
        "def _update_cluter(self, X)"
      ],
      "execution_count": null,
      "outputs": []
    },
    {
      "cell_type": "markdown",
      "metadata": {
        "id": "Osy6hnfoPukO"
      },
      "source": [
        "【問題5】繰り返し\n",
        "\n",
        "クラスタへの割り当てと中心点の移動を繰り返すことで学習を行うコードを作成してください。\n",
        "\n",
        "\n",
        "次のどれかの条件を満たしたらこれを止めます。\n",
        "\n",
        "・繰り返しが指定した回数に到達する。（雛形では引数max_iter）\n",
        "\n",
        "・中心点$\\mu_k$と重心の差の合計が指定した許容値以下になる。（雛形では引数tol）"
      ]
    },
    {
      "cell_type": "code",
      "metadata": {
        "id": "osllwVRoQD3j"
      },
      "source": [
        "for i in range(self.n_int):\n",
        "  for j in range(self.n_iter):"
      ],
      "execution_count": null,
      "outputs": []
    },
    {
      "cell_type": "markdown",
      "metadata": {
        "id": "sfrTuXhBQESW"
      },
      "source": [
        "【問題6】異なる初期値で計算\n",
        "\n",
        "問題5の繰り返しを、指定した回数初期値を変更して計算するコードを作成してください。回数は雛形では引数n_initで指定します。\n",
        "\n",
        "複数計算した中でSSEが最小になったものが最終的な学習結果となるため、その時の中心点$\\mu_k$を保持しておきます。\n",
        "\n"
      ]
    },
    {
      "cell_type": "code",
      "metadata": {
        "id": "TrHHoY5zQxV9",
        "colab": {
          "base_uri": "https://localhost:8080/"
        },
        "outputId": "7a4d02f0-9cf9-4545-9443-548a2934ebc2"
      },
      "source": [
        "# # 問題6（異なる初期値で計算）の解答\n",
        "km = ScratchKMeans(n_clusters = 3, n_init = 5, n_iter = 100, verbose = True)\n",
        "km.fit(X_train)"
      ],
      "execution_count": 7,
      "outputs": [
        {
          "output_type": "stream",
          "name": "stdout",
          "text": [
            "初期化:0 学習回数:0 最善のSSE:1852.2155007472084\n",
            "初期化:0 学習回数:1 最善のSSE:137.94050259007764\n",
            "初期化:0 学習回数:2 最善のSSE:88.53712144301642\n",
            "初期化:0 学習回数:3 最善のSSE:88.53712144301642\n",
            "初期化:0 学習回数:4 最善のSSE:88.53712144301642\n",
            "初期化:0 学習回数:5 最善のSSE:88.53712144301642\n",
            "初期化:0 学習回数:6 最善のSSE:88.53712144301642\n",
            "初期化:0 学習回数:7 最善のSSE:88.53712144301642\n",
            "初期化:0 学習回数:8 最善のSSE:88.53712144301642\n",
            "初期化:0 学習回数:9 最善のSSE:88.53712144301642\n",
            "初期化:0 学習回数:10 最善のSSE:88.53712144301642\n",
            "初期化:0 学習回数:11 最善のSSE:88.53712144301642\n",
            "初期化:0 学習回数:12 最善のSSE:88.53712144301642\n",
            "初期化:0 学習回数:13 最善のSSE:88.53712144301642\n",
            "初期化:0 学習回数:14 最善のSSE:88.53712144301642\n",
            "初期化:0 学習回数:15 最善のSSE:88.53712144301642\n",
            "初期化:0 学習回数:16 最善のSSE:88.53712144301642\n",
            "初期化:0 学習回数:17 最善のSSE:88.53712144301642\n",
            "初期化:0 学習回数:18 最善のSSE:88.53712144301642\n",
            "初期化:0 学習回数:19 最善のSSE:88.53712144301642\n",
            "初期化:0 学習回数:20 最善のSSE:88.53712144301642\n",
            "初期化:0 学習回数:21 最善のSSE:88.53712144301642\n",
            "初期化:0 学習回数:22 最善のSSE:88.53712144301642\n",
            "初期化:0 学習回数:23 最善のSSE:88.53712144301642\n",
            "初期化:0 学習回数:24 最善のSSE:88.53712144301642\n",
            "初期化:0 学習回数:25 最善のSSE:88.53712144301642\n",
            "初期化:0 学習回数:26 最善のSSE:88.53712144301642\n",
            "初期化:0 学習回数:27 最善のSSE:88.53712144301642\n",
            "初期化:0 学習回数:28 最善のSSE:88.53712144301642\n",
            "初期化:0 学習回数:29 最善のSSE:88.53712144301642\n",
            "初期化:0 学習回数:30 最善のSSE:88.53712144301642\n",
            "初期化:0 学習回数:31 最善のSSE:88.53712144301642\n",
            "初期化:0 学習回数:32 最善のSSE:88.53712144301642\n",
            "初期化:0 学習回数:33 最善のSSE:88.53712144301642\n",
            "初期化:0 学習回数:34 最善のSSE:88.53712144301642\n",
            "初期化:0 学習回数:35 最善のSSE:88.53712144301642\n",
            "初期化:0 学習回数:36 最善のSSE:88.53712144301642\n",
            "初期化:0 学習回数:37 最善のSSE:88.53712144301642\n",
            "初期化:0 学習回数:38 最善のSSE:88.53712144301642\n",
            "初期化:0 学習回数:39 最善のSSE:88.53712144301642\n",
            "初期化:0 学習回数:40 最善のSSE:88.53712144301642\n",
            "初期化:0 学習回数:41 最善のSSE:88.53712144301642\n",
            "初期化:0 学習回数:42 最善のSSE:88.53712144301642\n",
            "初期化:0 学習回数:43 最善のSSE:88.53712144301642\n",
            "初期化:0 学習回数:44 最善のSSE:88.53712144301642\n",
            "初期化:0 学習回数:45 最善のSSE:88.53712144301642\n",
            "初期化:0 学習回数:46 最善のSSE:88.53712144301642\n",
            "初期化:0 学習回数:47 最善のSSE:88.53712144301642\n",
            "初期化:0 学習回数:48 最善のSSE:88.53712144301642\n",
            "初期化:0 学習回数:49 最善のSSE:88.53712144301642\n",
            "初期化:0 学習回数:50 最善のSSE:88.53712144301642\n",
            "初期化:0 学習回数:51 最善のSSE:88.53712144301642\n",
            "初期化:0 学習回数:52 最善のSSE:88.53712144301642\n",
            "初期化:0 学習回数:53 最善のSSE:88.53712144301642\n",
            "初期化:0 学習回数:54 最善のSSE:88.53712144301642\n",
            "初期化:0 学習回数:55 最善のSSE:88.53712144301642\n",
            "初期化:0 学習回数:56 最善のSSE:88.53712144301642\n",
            "初期化:0 学習回数:57 最善のSSE:88.53712144301642\n",
            "初期化:0 学習回数:58 最善のSSE:88.53712144301642\n",
            "初期化:0 学習回数:59 最善のSSE:88.53712144301642\n",
            "初期化:0 学習回数:60 最善のSSE:88.53712144301642\n",
            "初期化:0 学習回数:61 最善のSSE:88.53712144301642\n",
            "初期化:0 学習回数:62 最善のSSE:88.53712144301642\n",
            "初期化:0 学習回数:63 最善のSSE:88.53712144301642\n",
            "初期化:0 学習回数:64 最善のSSE:88.53712144301642\n",
            "初期化:0 学習回数:65 最善のSSE:88.53712144301642\n",
            "初期化:0 学習回数:66 最善のSSE:88.53712144301642\n",
            "初期化:0 学習回数:67 最善のSSE:88.53712144301642\n",
            "初期化:0 学習回数:68 最善のSSE:88.53712144301642\n",
            "初期化:0 学習回数:69 最善のSSE:88.53712144301642\n",
            "初期化:0 学習回数:70 最善のSSE:88.53712144301642\n",
            "初期化:0 学習回数:71 最善のSSE:88.53712144301642\n",
            "初期化:0 学習回数:72 最善のSSE:88.53712144301642\n",
            "初期化:0 学習回数:73 最善のSSE:88.53712144301642\n",
            "初期化:0 学習回数:74 最善のSSE:88.53712144301642\n",
            "初期化:0 学習回数:75 最善のSSE:88.53712144301642\n",
            "初期化:0 学習回数:76 最善のSSE:88.53712144301642\n",
            "初期化:0 学習回数:77 最善のSSE:88.53712144301642\n",
            "初期化:0 学習回数:78 最善のSSE:88.53712144301642\n",
            "初期化:0 学習回数:79 最善のSSE:88.53712144301642\n",
            "初期化:0 学習回数:80 最善のSSE:88.53712144301642\n",
            "初期化:0 学習回数:81 最善のSSE:88.53712144301642\n",
            "初期化:0 学習回数:82 最善のSSE:88.53712144301642\n",
            "初期化:0 学習回数:83 最善のSSE:88.53712144301642\n",
            "初期化:0 学習回数:84 最善のSSE:88.53712144301642\n",
            "初期化:0 学習回数:85 最善のSSE:88.53712144301642\n",
            "初期化:0 学習回数:86 最善のSSE:88.53712144301642\n",
            "初期化:0 学習回数:87 最善のSSE:88.53712144301642\n",
            "初期化:0 学習回数:88 最善のSSE:88.53712144301642\n",
            "初期化:0 学習回数:89 最善のSSE:88.53712144301642\n",
            "初期化:0 学習回数:90 最善のSSE:88.53712144301642\n",
            "初期化:0 学習回数:91 最善のSSE:88.53712144301642\n",
            "初期化:0 学習回数:92 最善のSSE:88.53712144301642\n",
            "初期化:0 学習回数:93 最善のSSE:88.53712144301642\n",
            "初期化:0 学習回数:94 最善のSSE:88.53712144301642\n",
            "初期化:0 学習回数:95 最善のSSE:88.53712144301642\n",
            "初期化:0 学習回数:96 最善のSSE:88.53712144301642\n",
            "初期化:0 学習回数:97 最善のSSE:88.53712144301642\n",
            "初期化:0 学習回数:98 最善のSSE:88.53712144301642\n",
            "初期化:0 学習回数:99 最善のSSE:88.53712144301642\n",
            "初期化:1 学習回数:0 最善のSSE:88.53712144301642\n",
            "初期化:1 学習回数:1 最善のSSE:88.53712144301642\n",
            "初期化:1 学習回数:2 最善のSSE:88.53712144301642\n",
            "初期化:1 学習回数:3 最善のSSE:88.53712144301642\n",
            "初期化:1 学習回数:4 最善のSSE:88.53712144301642\n",
            "初期化:1 学習回数:5 最善のSSE:88.53712144301642\n",
            "初期化:1 学習回数:6 最善のSSE:88.53712144301642\n",
            "初期化:1 学習回数:7 最善のSSE:88.53712144301642\n",
            "初期化:1 学習回数:8 最善のSSE:88.53712144301642\n",
            "初期化:1 学習回数:9 最善のSSE:88.53712144301642\n",
            "初期化:1 学習回数:10 最善のSSE:88.53712144301642\n",
            "初期化:1 学習回数:11 最善のSSE:88.53712144301642\n",
            "初期化:1 学習回数:12 最善のSSE:88.53712144301642\n",
            "初期化:1 学習回数:13 最善のSSE:88.53712144301642\n",
            "初期化:1 学習回数:14 最善のSSE:88.53712144301642\n",
            "初期化:1 学習回数:15 最善のSSE:88.53712144301642\n",
            "初期化:1 学習回数:16 最善のSSE:88.53712144301642\n",
            "初期化:1 学習回数:17 最善のSSE:88.53712144301642\n",
            "初期化:1 学習回数:18 最善のSSE:88.53712144301642\n",
            "初期化:1 学習回数:19 最善のSSE:88.53712144301642\n",
            "初期化:1 学習回数:20 最善のSSE:88.53712144301642\n",
            "初期化:1 学習回数:21 最善のSSE:88.53712144301642\n",
            "初期化:1 学習回数:22 最善のSSE:88.53712144301642\n",
            "初期化:1 学習回数:23 最善のSSE:88.53712144301642\n",
            "初期化:1 学習回数:24 最善のSSE:88.53712144301642\n",
            "初期化:1 学習回数:25 最善のSSE:88.53712144301642\n",
            "初期化:1 学習回数:26 最善のSSE:88.53712144301642\n",
            "初期化:1 学習回数:27 最善のSSE:88.53712144301642\n",
            "初期化:1 学習回数:28 最善のSSE:88.53712144301642\n",
            "初期化:1 学習回数:29 最善のSSE:88.53712144301642\n",
            "初期化:1 学習回数:30 最善のSSE:88.53712144301642\n",
            "初期化:1 学習回数:31 最善のSSE:88.53712144301642\n",
            "初期化:1 学習回数:32 最善のSSE:88.53712144301642\n",
            "初期化:1 学習回数:33 最善のSSE:88.53712144301642\n",
            "初期化:1 学習回数:34 最善のSSE:88.53712144301642\n",
            "初期化:1 学習回数:35 最善のSSE:88.53712144301642\n",
            "初期化:1 学習回数:36 最善のSSE:88.53712144301642\n",
            "初期化:1 学習回数:37 最善のSSE:88.53712144301642\n",
            "初期化:1 学習回数:38 最善のSSE:88.53712144301642\n",
            "初期化:1 学習回数:39 最善のSSE:88.53712144301642\n",
            "初期化:1 学習回数:40 最善のSSE:88.53712144301642\n",
            "初期化:1 学習回数:41 最善のSSE:88.53712144301642\n",
            "初期化:1 学習回数:42 最善のSSE:88.53712144301642\n",
            "初期化:1 学習回数:43 最善のSSE:88.53712144301642\n",
            "初期化:1 学習回数:44 最善のSSE:88.53712144301642\n",
            "初期化:1 学習回数:45 最善のSSE:88.53712144301642\n",
            "初期化:1 学習回数:46 最善のSSE:88.53712144301642\n",
            "初期化:1 学習回数:47 最善のSSE:88.53712144301642\n",
            "初期化:1 学習回数:48 最善のSSE:88.53712144301642\n",
            "初期化:1 学習回数:49 最善のSSE:88.53712144301642\n",
            "初期化:1 学習回数:50 最善のSSE:88.53712144301642\n",
            "初期化:1 学習回数:51 最善のSSE:88.53712144301642\n",
            "初期化:1 学習回数:52 最善のSSE:88.53712144301642\n",
            "初期化:1 学習回数:53 最善のSSE:88.53712144301642\n",
            "初期化:1 学習回数:54 最善のSSE:88.53712144301642\n",
            "初期化:1 学習回数:55 最善のSSE:88.53712144301642\n",
            "初期化:1 学習回数:56 最善のSSE:88.53712144301642\n",
            "初期化:1 学習回数:57 最善のSSE:88.53712144301642\n",
            "初期化:1 学習回数:58 最善のSSE:88.53712144301642\n",
            "初期化:1 学習回数:59 最善のSSE:88.53712144301642\n",
            "初期化:1 学習回数:60 最善のSSE:88.53712144301642\n",
            "初期化:1 学習回数:61 最善のSSE:88.53712144301642\n",
            "初期化:1 学習回数:62 最善のSSE:88.53712144301642\n",
            "初期化:1 学習回数:63 最善のSSE:88.53712144301642\n",
            "初期化:1 学習回数:64 最善のSSE:88.53712144301642\n",
            "初期化:1 学習回数:65 最善のSSE:88.53712144301642\n",
            "初期化:1 学習回数:66 最善のSSE:88.53712144301642\n",
            "初期化:1 学習回数:67 最善のSSE:88.53712144301642\n",
            "初期化:1 学習回数:68 最善のSSE:88.53712144301642\n",
            "初期化:1 学習回数:69 最善のSSE:88.53712144301642\n",
            "初期化:1 学習回数:70 最善のSSE:88.53712144301642\n",
            "初期化:1 学習回数:71 最善のSSE:88.53712144301642\n",
            "初期化:1 学習回数:72 最善のSSE:88.53712144301642\n",
            "初期化:1 学習回数:73 最善のSSE:88.53712144301642\n",
            "初期化:1 学習回数:74 最善のSSE:88.53712144301642\n",
            "初期化:1 学習回数:75 最善のSSE:88.53712144301642\n",
            "初期化:1 学習回数:76 最善のSSE:88.53712144301642\n",
            "初期化:1 学習回数:77 最善のSSE:88.53712144301642\n",
            "初期化:1 学習回数:78 最善のSSE:88.53712144301642\n",
            "初期化:1 学習回数:79 最善のSSE:88.53712144301642\n",
            "初期化:1 学習回数:80 最善のSSE:88.53712144301642\n",
            "初期化:1 学習回数:81 最善のSSE:88.53712144301642\n",
            "初期化:1 学習回数:82 最善のSSE:88.53712144301642\n",
            "初期化:1 学習回数:83 最善のSSE:88.53712144301642\n",
            "初期化:1 学習回数:84 最善のSSE:88.53712144301642\n",
            "初期化:1 学習回数:85 最善のSSE:88.53712144301642\n",
            "初期化:1 学習回数:86 最善のSSE:88.53712144301642\n",
            "初期化:1 学習回数:87 最善のSSE:88.53712144301642\n",
            "初期化:1 学習回数:88 最善のSSE:88.53712144301642\n",
            "初期化:1 学習回数:89 最善のSSE:88.53712144301642\n",
            "初期化:1 学習回数:90 最善のSSE:88.53712144301642\n",
            "初期化:1 学習回数:91 最善のSSE:88.53712144301642\n",
            "初期化:1 学習回数:92 最善のSSE:88.53712144301642\n",
            "初期化:1 学習回数:93 最善のSSE:88.53712144301642\n",
            "初期化:1 学習回数:94 最善のSSE:88.53712144301642\n",
            "初期化:1 学習回数:95 最善のSSE:88.53712144301642\n",
            "初期化:1 学習回数:96 最善のSSE:88.53712144301642\n",
            "初期化:1 学習回数:97 最善のSSE:88.53712144301642\n",
            "初期化:1 学習回数:98 最善のSSE:88.53712144301642\n",
            "初期化:1 学習回数:99 最善のSSE:88.53712144301642\n",
            "初期化:2 学習回数:0 最善のSSE:88.53712144301642\n",
            "初期化:2 学習回数:1 最善のSSE:88.53712144301642\n",
            "初期化:2 学習回数:2 最善のSSE:88.53712144301642\n",
            "初期化:2 学習回数:3 最善のSSE:88.53712144301642\n",
            "初期化:2 学習回数:4 最善のSSE:88.53712144301642\n",
            "初期化:2 学習回数:5 最善のSSE:88.53712144301642\n",
            "初期化:2 学習回数:6 最善のSSE:88.53712144301642\n",
            "初期化:2 学習回数:7 最善のSSE:88.53712144301642\n",
            "初期化:2 学習回数:8 最善のSSE:88.53712144301642\n",
            "初期化:2 学習回数:9 最善のSSE:88.53712144301642\n",
            "初期化:2 学習回数:10 最善のSSE:88.53712144301642\n",
            "初期化:2 学習回数:11 最善のSSE:88.53712144301642\n",
            "初期化:2 学習回数:12 最善のSSE:88.53712144301642\n",
            "初期化:2 学習回数:13 最善のSSE:88.53712144301642\n",
            "初期化:2 学習回数:14 最善のSSE:88.53712144301642\n",
            "初期化:2 学習回数:15 最善のSSE:88.53712144301642\n",
            "初期化:2 学習回数:16 最善のSSE:88.53712144301642\n",
            "初期化:2 学習回数:17 最善のSSE:88.53712144301642\n",
            "初期化:2 学習回数:18 最善のSSE:88.53712144301642\n",
            "初期化:2 学習回数:19 最善のSSE:88.53712144301642\n",
            "初期化:2 学習回数:20 最善のSSE:88.53712144301642\n",
            "初期化:2 学習回数:21 最善のSSE:88.53712144301642\n",
            "初期化:2 学習回数:22 最善のSSE:88.53712144301642\n",
            "初期化:2 学習回数:23 最善のSSE:88.53712144301642\n",
            "初期化:2 学習回数:24 最善のSSE:88.53712144301642\n",
            "初期化:2 学習回数:25 最善のSSE:88.53712144301642\n",
            "初期化:2 学習回数:26 最善のSSE:88.53712144301642\n",
            "初期化:2 学習回数:27 最善のSSE:88.53712144301642\n",
            "初期化:2 学習回数:28 最善のSSE:88.53712144301642\n",
            "初期化:2 学習回数:29 最善のSSE:88.53712144301642\n",
            "初期化:2 学習回数:30 最善のSSE:88.53712144301642\n",
            "初期化:2 学習回数:31 最善のSSE:88.53712144301642\n",
            "初期化:2 学習回数:32 最善のSSE:88.53712144301642\n",
            "初期化:2 学習回数:33 最善のSSE:88.53712144301642\n",
            "初期化:2 学習回数:34 最善のSSE:88.53712144301642\n",
            "初期化:2 学習回数:35 最善のSSE:88.53712144301642\n",
            "初期化:2 学習回数:36 最善のSSE:88.53712144301642\n",
            "初期化:2 学習回数:37 最善のSSE:88.53712144301642\n",
            "初期化:2 学習回数:38 最善のSSE:88.53712144301642\n",
            "初期化:2 学習回数:39 最善のSSE:88.53712144301642\n",
            "初期化:2 学習回数:40 最善のSSE:88.53712144301642\n",
            "初期化:2 学習回数:41 最善のSSE:88.53712144301642\n",
            "初期化:2 学習回数:42 最善のSSE:88.53712144301642\n",
            "初期化:2 学習回数:43 最善のSSE:88.53712144301642\n",
            "初期化:2 学習回数:44 最善のSSE:88.53712144301642\n",
            "初期化:2 学習回数:45 最善のSSE:88.53712144301642\n",
            "初期化:2 学習回数:46 最善のSSE:88.53712144301642\n",
            "初期化:2 学習回数:47 最善のSSE:88.53712144301642\n",
            "初期化:2 学習回数:48 最善のSSE:88.53712144301642\n",
            "初期化:2 学習回数:49 最善のSSE:88.53712144301642\n",
            "初期化:2 学習回数:50 最善のSSE:88.53712144301642\n",
            "初期化:2 学習回数:51 最善のSSE:88.53712144301642\n",
            "初期化:2 学習回数:52 最善のSSE:88.53712144301642\n",
            "初期化:2 学習回数:53 最善のSSE:88.53712144301642\n",
            "初期化:2 学習回数:54 最善のSSE:88.53712144301642\n",
            "初期化:2 学習回数:55 最善のSSE:88.53712144301642\n",
            "初期化:2 学習回数:56 最善のSSE:88.53712144301642\n",
            "初期化:2 学習回数:57 最善のSSE:88.53712144301642\n",
            "初期化:2 学習回数:58 最善のSSE:88.53712144301642\n",
            "初期化:2 学習回数:59 最善のSSE:88.53712144301642\n",
            "初期化:2 学習回数:60 最善のSSE:88.53712144301642\n",
            "初期化:2 学習回数:61 最善のSSE:88.53712144301642\n",
            "初期化:2 学習回数:62 最善のSSE:88.53712144301642\n",
            "初期化:2 学習回数:63 最善のSSE:88.53712144301642\n",
            "初期化:2 学習回数:64 最善のSSE:88.53712144301642\n",
            "初期化:2 学習回数:65 最善のSSE:88.53712144301642\n",
            "初期化:2 学習回数:66 最善のSSE:88.53712144301642\n",
            "初期化:2 学習回数:67 最善のSSE:88.53712144301642\n",
            "初期化:2 学習回数:68 最善のSSE:88.53712144301642\n",
            "初期化:2 学習回数:69 最善のSSE:88.53712144301642\n",
            "初期化:2 学習回数:70 最善のSSE:88.53712144301642\n",
            "初期化:2 学習回数:71 最善のSSE:88.53712144301642\n",
            "初期化:2 学習回数:72 最善のSSE:88.53712144301642\n",
            "初期化:2 学習回数:73 最善のSSE:88.53712144301642\n",
            "初期化:2 学習回数:74 最善のSSE:88.53712144301642\n",
            "初期化:2 学習回数:75 最善のSSE:88.53712144301642\n",
            "初期化:2 学習回数:76 最善のSSE:88.53712144301642\n",
            "初期化:2 学習回数:77 最善のSSE:88.53712144301642\n",
            "初期化:2 学習回数:78 最善のSSE:88.53712144301642\n",
            "初期化:2 学習回数:79 最善のSSE:88.53712144301642\n",
            "初期化:2 学習回数:80 最善のSSE:88.53712144301642\n",
            "初期化:2 学習回数:81 最善のSSE:88.53712144301642\n",
            "初期化:2 学習回数:82 最善のSSE:88.53712144301642\n",
            "初期化:2 学習回数:83 最善のSSE:88.53712144301642\n",
            "初期化:2 学習回数:84 最善のSSE:88.53712144301642\n",
            "初期化:2 学習回数:85 最善のSSE:88.53712144301642\n",
            "初期化:2 学習回数:86 最善のSSE:88.53712144301642\n",
            "初期化:2 学習回数:87 最善のSSE:88.53712144301642\n",
            "初期化:2 学習回数:88 最善のSSE:88.53712144301642\n",
            "初期化:2 学習回数:89 最善のSSE:88.53712144301642\n",
            "初期化:2 学習回数:90 最善のSSE:88.53712144301642\n",
            "初期化:2 学習回数:91 最善のSSE:88.53712144301642\n",
            "初期化:2 学習回数:92 最善のSSE:88.53712144301642\n",
            "初期化:2 学習回数:93 最善のSSE:88.53712144301642\n",
            "初期化:2 学習回数:94 最善のSSE:88.53712144301642\n",
            "初期化:2 学習回数:95 最善のSSE:88.53712144301642\n",
            "初期化:2 学習回数:96 最善のSSE:88.53712144301642\n",
            "初期化:2 学習回数:97 最善のSSE:88.53712144301642\n",
            "初期化:2 学習回数:98 最善のSSE:88.53712144301642\n",
            "初期化:2 学習回数:99 最善のSSE:88.53712144301642\n",
            "初期化:3 学習回数:0 最善のSSE:88.53712144301642\n",
            "初期化:3 学習回数:1 最善のSSE:88.53712144301642\n",
            "初期化:3 学習回数:2 最善のSSE:88.53712144301642\n",
            "初期化:3 学習回数:3 最善のSSE:88.53712144301642\n",
            "初期化:3 学習回数:4 最善のSSE:88.53712144301642\n",
            "初期化:3 学習回数:5 最善のSSE:88.53712144301642\n",
            "初期化:3 学習回数:6 最善のSSE:88.53712144301642\n",
            "初期化:3 学習回数:7 最善のSSE:88.53712144301642\n",
            "初期化:3 学習回数:8 最善のSSE:88.53712144301642\n",
            "初期化:3 学習回数:9 最善のSSE:88.53712144301642\n",
            "初期化:3 学習回数:10 最善のSSE:88.53712144301642\n",
            "初期化:3 学習回数:11 最善のSSE:88.53712144301642\n",
            "初期化:3 学習回数:12 最善のSSE:88.53712144301642\n",
            "初期化:3 学習回数:13 最善のSSE:88.53712144301642\n",
            "初期化:3 学習回数:14 最善のSSE:88.53712144301642\n",
            "初期化:3 学習回数:15 最善のSSE:88.53712144301642\n",
            "初期化:3 学習回数:16 最善のSSE:88.53712144301642\n",
            "初期化:3 学習回数:17 最善のSSE:88.53712144301642\n",
            "初期化:3 学習回数:18 最善のSSE:88.53712144301642\n",
            "初期化:3 学習回数:19 最善のSSE:88.53712144301642\n",
            "初期化:3 学習回数:20 最善のSSE:88.53712144301642\n",
            "初期化:3 学習回数:21 最善のSSE:88.53712144301642\n",
            "初期化:3 学習回数:22 最善のSSE:88.53712144301642\n",
            "初期化:3 学習回数:23 最善のSSE:88.53712144301642\n",
            "初期化:3 学習回数:24 最善のSSE:88.53712144301642\n",
            "初期化:3 学習回数:25 最善のSSE:88.53712144301642\n",
            "初期化:3 学習回数:26 最善のSSE:88.53712144301642\n",
            "初期化:3 学習回数:27 最善のSSE:88.53712144301642\n",
            "初期化:3 学習回数:28 最善のSSE:88.53712144301642\n",
            "初期化:3 学習回数:29 最善のSSE:88.53712144301642\n",
            "初期化:3 学習回数:30 最善のSSE:88.53712144301642\n",
            "初期化:3 学習回数:31 最善のSSE:88.53712144301642\n",
            "初期化:3 学習回数:32 最善のSSE:88.53712144301642\n",
            "初期化:3 学習回数:33 最善のSSE:88.53712144301642\n",
            "初期化:3 学習回数:34 最善のSSE:88.53712144301642\n",
            "初期化:3 学習回数:35 最善のSSE:88.53712144301642\n",
            "初期化:3 学習回数:36 最善のSSE:88.53712144301642\n",
            "初期化:3 学習回数:37 最善のSSE:88.53712144301642\n",
            "初期化:3 学習回数:38 最善のSSE:88.53712144301642\n",
            "初期化:3 学習回数:39 最善のSSE:88.53712144301642\n",
            "初期化:3 学習回数:40 最善のSSE:88.53712144301642\n",
            "初期化:3 学習回数:41 最善のSSE:88.53712144301642\n",
            "初期化:3 学習回数:42 最善のSSE:88.53712144301642\n",
            "初期化:3 学習回数:43 最善のSSE:88.53712144301642\n",
            "初期化:3 学習回数:44 最善のSSE:88.53712144301642\n",
            "初期化:3 学習回数:45 最善のSSE:88.53712144301642\n",
            "初期化:3 学習回数:46 最善のSSE:88.53712144301642\n",
            "初期化:3 学習回数:47 最善のSSE:88.53712144301642\n",
            "初期化:3 学習回数:48 最善のSSE:88.53712144301642\n",
            "初期化:3 学習回数:49 最善のSSE:88.53712144301642\n",
            "初期化:3 学習回数:50 最善のSSE:88.53712144301642\n",
            "初期化:3 学習回数:51 最善のSSE:88.53712144301642\n",
            "初期化:3 学習回数:52 最善のSSE:88.53712144301642\n",
            "初期化:3 学習回数:53 最善のSSE:88.53712144301642\n",
            "初期化:3 学習回数:54 最善のSSE:88.53712144301642\n",
            "初期化:3 学習回数:55 最善のSSE:88.53712144301642\n",
            "初期化:3 学習回数:56 最善のSSE:88.53712144301642\n",
            "初期化:3 学習回数:57 最善のSSE:88.53712144301642\n",
            "初期化:3 学習回数:58 最善のSSE:88.53712144301642\n",
            "初期化:3 学習回数:59 最善のSSE:88.53712144301642\n",
            "初期化:3 学習回数:60 最善のSSE:88.53712144301642\n",
            "初期化:3 学習回数:61 最善のSSE:88.53712144301642\n",
            "初期化:3 学習回数:62 最善のSSE:88.53712144301642\n",
            "初期化:3 学習回数:63 最善のSSE:88.53712144301642\n",
            "初期化:3 学習回数:64 最善のSSE:88.53712144301642\n",
            "初期化:3 学習回数:65 最善のSSE:88.53712144301642\n",
            "初期化:3 学習回数:66 最善のSSE:88.53712144301642\n",
            "初期化:3 学習回数:67 最善のSSE:88.53712144301642\n",
            "初期化:3 学習回数:68 最善のSSE:88.53712144301642\n",
            "初期化:3 学習回数:69 最善のSSE:88.53712144301642\n",
            "初期化:3 学習回数:70 最善のSSE:88.53712144301642\n",
            "初期化:3 学習回数:71 最善のSSE:88.53712144301642\n",
            "初期化:3 学習回数:72 最善のSSE:88.53712144301642\n",
            "初期化:3 学習回数:73 最善のSSE:88.53712144301642\n",
            "初期化:3 学習回数:74 最善のSSE:88.53712144301642\n",
            "初期化:3 学習回数:75 最善のSSE:88.53712144301642\n",
            "初期化:3 学習回数:76 最善のSSE:88.53712144301642\n",
            "初期化:3 学習回数:77 最善のSSE:88.53712144301642\n",
            "初期化:3 学習回数:78 最善のSSE:88.53712144301642\n",
            "初期化:3 学習回数:79 最善のSSE:88.53712144301642\n",
            "初期化:3 学習回数:80 最善のSSE:88.53712144301642\n",
            "初期化:3 学習回数:81 最善のSSE:88.53712144301642\n",
            "初期化:3 学習回数:82 最善のSSE:88.53712144301642\n",
            "初期化:3 学習回数:83 最善のSSE:88.53712144301642\n",
            "初期化:3 学習回数:84 最善のSSE:88.53712144301642\n",
            "初期化:3 学習回数:85 最善のSSE:88.53712144301642\n",
            "初期化:3 学習回数:86 最善のSSE:88.53712144301642\n",
            "初期化:3 学習回数:87 最善のSSE:88.53712144301642\n",
            "初期化:3 学習回数:88 最善のSSE:88.53712144301642\n",
            "初期化:3 学習回数:89 最善のSSE:88.53712144301642\n",
            "初期化:3 学習回数:90 最善のSSE:88.53712144301642\n",
            "初期化:3 学習回数:91 最善のSSE:88.53712144301642\n",
            "初期化:3 学習回数:92 最善のSSE:88.53712144301642\n",
            "初期化:3 学習回数:93 最善のSSE:88.53712144301642\n",
            "初期化:3 学習回数:94 最善のSSE:88.53712144301642\n",
            "初期化:3 学習回数:95 最善のSSE:88.53712144301642\n",
            "初期化:3 学習回数:96 最善のSSE:88.53712144301642\n",
            "初期化:3 学習回数:97 最善のSSE:88.53712144301642\n",
            "初期化:3 学習回数:98 最善のSSE:88.53712144301642\n",
            "初期化:3 学習回数:99 最善のSSE:88.53712144301642\n",
            "初期化:4 学習回数:0 最善のSSE:88.53712144301642\n",
            "初期化:4 学習回数:1 最善のSSE:88.53712144301642\n",
            "初期化:4 学習回数:2 最善のSSE:88.53712144301642\n",
            "初期化:4 学習回数:3 最善のSSE:88.53712144301642\n",
            "初期化:4 学習回数:4 最善のSSE:88.53712144301642\n",
            "初期化:4 学習回数:5 最善のSSE:88.53712144301642\n",
            "初期化:4 学習回数:6 最善のSSE:88.53712144301642\n",
            "初期化:4 学習回数:7 最善のSSE:88.53712144301642\n",
            "初期化:4 学習回数:8 最善のSSE:88.53712144301642\n",
            "初期化:4 学習回数:9 最善のSSE:88.53712144301642\n",
            "初期化:4 学習回数:10 最善のSSE:88.53712144301642\n",
            "初期化:4 学習回数:11 最善のSSE:88.53712144301642\n",
            "初期化:4 学習回数:12 最善のSSE:88.53712144301642\n",
            "初期化:4 学習回数:13 最善のSSE:88.53712144301642\n",
            "初期化:4 学習回数:14 最善のSSE:88.53712144301642\n",
            "初期化:4 学習回数:15 最善のSSE:88.53712144301642\n",
            "初期化:4 学習回数:16 最善のSSE:88.53712144301642\n",
            "初期化:4 学習回数:17 最善のSSE:88.53712144301642\n",
            "初期化:4 学習回数:18 最善のSSE:88.53712144301642\n",
            "初期化:4 学習回数:19 最善のSSE:88.53712144301642\n",
            "初期化:4 学習回数:20 最善のSSE:88.53712144301642\n",
            "初期化:4 学習回数:21 最善のSSE:88.53712144301642\n",
            "初期化:4 学習回数:22 最善のSSE:88.53712144301642\n",
            "初期化:4 学習回数:23 最善のSSE:88.53712144301642\n",
            "初期化:4 学習回数:24 最善のSSE:88.53712144301642\n",
            "初期化:4 学習回数:25 最善のSSE:88.53712144301642\n",
            "初期化:4 学習回数:26 最善のSSE:88.53712144301642\n",
            "初期化:4 学習回数:27 最善のSSE:88.53712144301642\n",
            "初期化:4 学習回数:28 最善のSSE:88.53712144301642\n",
            "初期化:4 学習回数:29 最善のSSE:88.53712144301642\n",
            "初期化:4 学習回数:30 最善のSSE:88.53712144301642\n",
            "初期化:4 学習回数:31 最善のSSE:88.53712144301642\n",
            "初期化:4 学習回数:32 最善のSSE:88.53712144301642\n",
            "初期化:4 学習回数:33 最善のSSE:88.53712144301642\n",
            "初期化:4 学習回数:34 最善のSSE:88.53712144301642\n",
            "初期化:4 学習回数:35 最善のSSE:88.53712144301642\n",
            "初期化:4 学習回数:36 最善のSSE:88.53712144301642\n",
            "初期化:4 学習回数:37 最善のSSE:88.53712144301642\n",
            "初期化:4 学習回数:38 最善のSSE:88.53712144301642\n",
            "初期化:4 学習回数:39 最善のSSE:88.53712144301642\n",
            "初期化:4 学習回数:40 最善のSSE:88.53712144301642\n",
            "初期化:4 学習回数:41 最善のSSE:88.53712144301642\n",
            "初期化:4 学習回数:42 最善のSSE:88.53712144301642\n",
            "初期化:4 学習回数:43 最善のSSE:88.53712144301642\n",
            "初期化:4 学習回数:44 最善のSSE:88.53712144301642\n",
            "初期化:4 学習回数:45 最善のSSE:88.53712144301642\n",
            "初期化:4 学習回数:46 最善のSSE:88.53712144301642\n",
            "初期化:4 学習回数:47 最善のSSE:88.53712144301642\n",
            "初期化:4 学習回数:48 最善のSSE:88.53712144301642\n",
            "初期化:4 学習回数:49 最善のSSE:88.53712144301642\n",
            "初期化:4 学習回数:50 最善のSSE:88.53712144301642\n",
            "初期化:4 学習回数:51 最善のSSE:88.53712144301642\n",
            "初期化:4 学習回数:52 最善のSSE:88.53712144301642\n",
            "初期化:4 学習回数:53 最善のSSE:88.53712144301642\n",
            "初期化:4 学習回数:54 最善のSSE:88.53712144301642\n",
            "初期化:4 学習回数:55 最善のSSE:88.53712144301642\n",
            "初期化:4 学習回数:56 最善のSSE:88.53712144301642\n",
            "初期化:4 学習回数:57 最善のSSE:88.53712144301642\n",
            "初期化:4 学習回数:58 最善のSSE:88.53712144301642\n",
            "初期化:4 学習回数:59 最善のSSE:88.53712144301642\n",
            "初期化:4 学習回数:60 最善のSSE:88.53712144301642\n",
            "初期化:4 学習回数:61 最善のSSE:88.53712144301642\n",
            "初期化:4 学習回数:62 最善のSSE:88.53712144301642\n",
            "初期化:4 学習回数:63 最善のSSE:88.53712144301642\n",
            "初期化:4 学習回数:64 最善のSSE:88.53712144301642\n",
            "初期化:4 学習回数:65 最善のSSE:88.53712144301642\n",
            "初期化:4 学習回数:66 最善のSSE:88.53712144301642\n",
            "初期化:4 学習回数:67 最善のSSE:88.53712144301642\n",
            "初期化:4 学習回数:68 最善のSSE:88.53712144301642\n",
            "初期化:4 学習回数:69 最善のSSE:88.53712144301642\n",
            "初期化:4 学習回数:70 最善のSSE:88.53712144301642\n",
            "初期化:4 学習回数:71 最善のSSE:88.53712144301642\n",
            "初期化:4 学習回数:72 最善のSSE:88.53712144301642\n",
            "初期化:4 学習回数:73 最善のSSE:88.53712144301642\n",
            "初期化:4 学習回数:74 最善のSSE:88.53712144301642\n",
            "初期化:4 学習回数:75 最善のSSE:88.53712144301642\n",
            "初期化:4 学習回数:76 最善のSSE:88.53712144301642\n",
            "初期化:4 学習回数:77 最善のSSE:88.53712144301642\n",
            "初期化:4 学習回数:78 最善のSSE:88.53712144301642\n",
            "初期化:4 学習回数:79 最善のSSE:88.53712144301642\n",
            "初期化:4 学習回数:80 最善のSSE:88.53712144301642\n",
            "初期化:4 学習回数:81 最善のSSE:88.53712144301642\n",
            "初期化:4 学習回数:82 最善のSSE:88.53712144301642\n",
            "初期化:4 学習回数:83 最善のSSE:88.53712144301642\n",
            "初期化:4 学習回数:84 最善のSSE:88.53712144301642\n",
            "初期化:4 学習回数:85 最善のSSE:88.53712144301642\n",
            "初期化:4 学習回数:86 最善のSSE:88.53712144301642\n",
            "初期化:4 学習回数:87 最善のSSE:88.53712144301642\n",
            "初期化:4 学習回数:88 最善のSSE:88.53712144301642\n",
            "初期化:4 学習回数:89 最善のSSE:88.53712144301642\n",
            "初期化:4 学習回数:90 最善のSSE:88.53712144301642\n",
            "初期化:4 学習回数:91 最善のSSE:88.53712144301642\n",
            "初期化:4 学習回数:92 最善のSSE:88.53712144301642\n",
            "初期化:4 学習回数:93 最善のSSE:88.53712144301642\n",
            "初期化:4 学習回数:94 最善のSSE:88.53712144301642\n",
            "初期化:4 学習回数:95 最善のSSE:88.53712144301642\n",
            "初期化:4 学習回数:96 最善のSSE:88.53712144301642\n",
            "初期化:4 学習回数:97 最善のSSE:88.53712144301642\n",
            "初期化:4 学習回数:98 最善のSSE:88.53712144301642\n",
            "初期化:4 学習回数:99 最善のSSE:88.53712144301642\n"
          ]
        }
      ]
    },
    {
      "cell_type": "markdown",
      "metadata": {
        "id": "gnD8BGYZ7_r0"
      },
      "source": [
        "【問題7】推定\n",
        "\n",
        "新たなデータに対してどのクラスタに所属するかの推定の際は、学習時の1つ目のフェーズと同じことを行います。\n",
        "\n",
        "\n",
        "データ点 $X_n$ と学習で決まった中心点 $\\mu_k$ に対し、 $SSE$ を最小化する $r_{nk}$ を選ぶ。\n",
        "\n",
        "具体的には次のことです。\n",
        "\n",
        "\n",
        "データ点 $X_n$ を最も近い $\\mu_k$ に割り当てる。"
      ]
    },
    {
      "cell_type": "code",
      "metadata": {
        "id": "GtYc-E6_8HEd",
        "colab": {
          "base_uri": "https://localhost:8080/",
          "height": 304
        },
        "outputId": "7d4df00d-aede-439a-dcf2-f600510be65c"
      },
      "source": [
        "pred = km.predict(X_valid)\n",
        "pred"
      ],
      "execution_count": 12,
      "outputs": [
        {
          "output_type": "error",
          "ename": "NameError",
          "evalue": "ignored",
          "traceback": [
            "\u001b[0;31m---------------------------------------------------------------------------\u001b[0m",
            "\u001b[0;31mNameError\u001b[0m                                 Traceback (most recent call last)",
            "\u001b[0;32m<ipython-input-12-7de07740fe82>\u001b[0m in \u001b[0;36m<module>\u001b[0;34m()\u001b[0m\n\u001b[0;32m----> 1\u001b[0;31m \u001b[0mpred\u001b[0m \u001b[0;34m=\u001b[0m \u001b[0mkm\u001b[0m\u001b[0;34m.\u001b[0m\u001b[0mpredict\u001b[0m\u001b[0;34m(\u001b[0m\u001b[0mX_valid\u001b[0m\u001b[0;34m)\u001b[0m\u001b[0;34m\u001b[0m\u001b[0;34m\u001b[0m\u001b[0m\n\u001b[0m\u001b[1;32m      2\u001b[0m \u001b[0mpred\u001b[0m\u001b[0;34m\u001b[0m\u001b[0;34m\u001b[0m\u001b[0m\n",
            "\u001b[0;32m<ipython-input-1-2a7709996169>\u001b[0m in \u001b[0;36mpredict\u001b[0;34m(self, X)\u001b[0m\n\u001b[1;32m    141\u001b[0m           \u001b[0;32mfor\u001b[0m \u001b[0mj\u001b[0m \u001b[0;32min\u001b[0m \u001b[0mrange\u001b[0m\u001b[0;34m(\u001b[0m\u001b[0mself\u001b[0m\u001b[0;34m.\u001b[0m\u001b[0mrecord_cluster\u001b[0m\u001b[0;34m)\u001b[0m\u001b[0;34m:\u001b[0m\u001b[0;34m\u001b[0m\u001b[0;34m\u001b[0m\u001b[0m\n\u001b[1;32m    142\u001b[0m             \u001b[0;31m# 前回保存した(あるいは初期値)より距離が小さければ、そちらのクラスタを採用\u001b[0m\u001b[0;34m\u001b[0m\u001b[0;34m\u001b[0m\u001b[0;34m\u001b[0m\u001b[0m\n\u001b[0;32m--> 143\u001b[0;31m             \u001b[0;32mif\u001b[0m \u001b[0mdist\u001b[0m \u001b[0;34m<\u001b[0m \u001b[0mdist_m\u001b[0m\u001b[0;34m:\u001b[0m\u001b[0;34m\u001b[0m\u001b[0;34m\u001b[0m\u001b[0m\n\u001b[0m\u001b[1;32m    144\u001b[0m               \u001b[0mdist_m\u001b[0m \u001b[0;34m=\u001b[0m \u001b[0mdist\u001b[0m\u001b[0;34m\u001b[0m\u001b[0;34m\u001b[0m\u001b[0m\n\u001b[1;32m    145\u001b[0m               \u001b[0my_pred\u001b[0m\u001b[0;34m[\u001b[0m\u001b[0mi\u001b[0m\u001b[0;34m]\u001b[0m \u001b[0;34m=\u001b[0m \u001b[0mj\u001b[0m\u001b[0;34m\u001b[0m\u001b[0;34m\u001b[0m\u001b[0m\n",
            "\u001b[0;31mNameError\u001b[0m: name 'dist' is not defined"
          ]
        }
      ]
    },
    {
      "cell_type": "markdown",
      "metadata": {
        "id": "eGD2SviC8Hc9"
      },
      "source": [
        "【問題8】エルボー法の実装\n",
        "\n",
        "K-meansにおいて中心点の個数 $k$ は人為的に決める必要がありますが、その判断方法としてエルボー法があります。エルボー法により中心点の個数 $k$ を検討するためのコードを作成してください。\n",
        "\n",
        "\n",
        "SSEを縦軸、クラスタ数 $k$ を横軸にした折れ線グラフを表示します。このためにK-meansのインスタンスからはSSEを取得できるようにしてください。"
      ]
    },
    {
      "cell_type": "code",
      "metadata": {
        "id": "Z5eK8xS1L7OL"
      },
      "source": [
        "distortions = {}\n",
        "\n",
        "for k in range(1, n_clusters + 1):\n",
        "  km = ScratchKMeans(n_clusters = , n_init = , max_iter = , tol, verbose=False)\n",
        "  km.fit(X)\n",
        "  distortions[k] = model.best_sse\n",
        "\n",
        "plt.plot(list(distortions.keys()), list(distortions.values()), marker=\"o\")\n",
        "plt.title('Optimal number of clusters')\n",
        "plt.xlabel('Number of clusters')\n",
        "plt.ylabel('Distortion')"
      ],
      "execution_count": null,
      "outputs": []
    },
    {
      "cell_type": "code",
      "metadata": {
        "id": "De_MsMYooMvb"
      },
      "source": [
        "# データセットの読み込み\n",
        "dataset = pd.read_csv(\"/content/drive/MyDrive/DIC/Wholesale customers data.csv\")"
      ],
      "execution_count": null,
      "outputs": []
    },
    {
      "cell_type": "code",
      "metadata": {
        "colab": {
          "base_uri": "https://localhost:8080/",
          "height": 204
        },
        "id": "t8CSKqjKri6P",
        "outputId": "64c060d4-2fe0-438d-cce9-4ad1f129f695"
      },
      "source": [
        "dataset.head()"
      ],
      "execution_count": null,
      "outputs": [
        {
          "output_type": "execute_result",
          "data": {
            "text/html": [
              "<div>\n",
              "<style scoped>\n",
              "    .dataframe tbody tr th:only-of-type {\n",
              "        vertical-align: middle;\n",
              "    }\n",
              "\n",
              "    .dataframe tbody tr th {\n",
              "        vertical-align: top;\n",
              "    }\n",
              "\n",
              "    .dataframe thead th {\n",
              "        text-align: right;\n",
              "    }\n",
              "</style>\n",
              "<table border=\"1\" class=\"dataframe\">\n",
              "  <thead>\n",
              "    <tr style=\"text-align: right;\">\n",
              "      <th></th>\n",
              "      <th>Channel</th>\n",
              "      <th>Region</th>\n",
              "      <th>Fresh</th>\n",
              "      <th>Milk</th>\n",
              "      <th>Grocery</th>\n",
              "      <th>Frozen</th>\n",
              "      <th>Detergents_Paper</th>\n",
              "      <th>Delicassen</th>\n",
              "    </tr>\n",
              "  </thead>\n",
              "  <tbody>\n",
              "    <tr>\n",
              "      <th>0</th>\n",
              "      <td>2</td>\n",
              "      <td>3</td>\n",
              "      <td>12669</td>\n",
              "      <td>9656</td>\n",
              "      <td>7561</td>\n",
              "      <td>214</td>\n",
              "      <td>2674</td>\n",
              "      <td>1338</td>\n",
              "    </tr>\n",
              "    <tr>\n",
              "      <th>1</th>\n",
              "      <td>2</td>\n",
              "      <td>3</td>\n",
              "      <td>7057</td>\n",
              "      <td>9810</td>\n",
              "      <td>9568</td>\n",
              "      <td>1762</td>\n",
              "      <td>3293</td>\n",
              "      <td>1776</td>\n",
              "    </tr>\n",
              "    <tr>\n",
              "      <th>2</th>\n",
              "      <td>2</td>\n",
              "      <td>3</td>\n",
              "      <td>6353</td>\n",
              "      <td>8808</td>\n",
              "      <td>7684</td>\n",
              "      <td>2405</td>\n",
              "      <td>3516</td>\n",
              "      <td>7844</td>\n",
              "    </tr>\n",
              "    <tr>\n",
              "      <th>3</th>\n",
              "      <td>1</td>\n",
              "      <td>3</td>\n",
              "      <td>13265</td>\n",
              "      <td>1196</td>\n",
              "      <td>4221</td>\n",
              "      <td>6404</td>\n",
              "      <td>507</td>\n",
              "      <td>1788</td>\n",
              "    </tr>\n",
              "    <tr>\n",
              "      <th>4</th>\n",
              "      <td>2</td>\n",
              "      <td>3</td>\n",
              "      <td>22615</td>\n",
              "      <td>5410</td>\n",
              "      <td>7198</td>\n",
              "      <td>3915</td>\n",
              "      <td>1777</td>\n",
              "      <td>5185</td>\n",
              "    </tr>\n",
              "  </tbody>\n",
              "</table>\n",
              "</div>"
            ],
            "text/plain": [
              "   Channel  Region  Fresh  Milk  Grocery  Frozen  Detergents_Paper  Delicassen\n",
              "0        2       3  12669  9656     7561     214              2674        1338\n",
              "1        2       3   7057  9810     9568    1762              3293        1776\n",
              "2        2       3   6353  8808     7684    2405              3516        7844\n",
              "3        1       3  13265  1196     4221    6404               507        1788\n",
              "4        2       3  22615  5410     7198    3915              1777        5185"
            ]
          },
          "metadata": {},
          "execution_count": 15
        }
      ]
    },
    {
      "cell_type": "markdown",
      "metadata": {
        "id": "XS0cNDRVL-cM"
      },
      "source": [
        "【問題9】（アドバンス課題）シルエット図\n",
        "\n",
        "$k$ を決める助けになるものとしてシルエット図もあります。シルエット図を表示するコードを作成してください。\n",
        "\n",
        "\n",
        "Matplotlibを使い図を表示するコードは用意しました。以下を与えてください。\n",
        "\n",
        "\n",
        "silhouette_vals : shape(n_samples,)のndarray、各データ点のシルエット係数\n",
        "\n",
        "\n",
        "silhouette_avg : float、シルエット係数の平均値\n",
        "\n",
        "\n",
        "y_km : shape(n_samples,)のndarray、各データ点のクラスタラベル名\n",
        "\n",
        "\n",
        "cluster_labels : list、クラスタのラベル名のリスト\n",
        "\n",
        "\n",
        "n_clusters : int、クラスタ数\n",
        "\n",
        "\n",
        "$n$ 番目のデータ点に対するシルエット係数 $s_n$ は以下の数式でを求められます。この数式を実装し、シルエット図を確認してください。\n",
        "\n",
        "$$\n",
        "s_n = \\frac{b_n-a_n}{max(b_n,a_n)}\n",
        "$$\n",
        "\n",
        "\n",
        "$a_n$ : 凝集度。同じクラスタ内の他のデータ点との距離の平均値。\n",
        "\n",
        "\n",
        "$b_n$ : 乖離度。最も近い他のクラスタ内のすべてのデータ点との距離の平均値。\n",
        "\n",
        "\n",
        "乖離度 $b$ が大きく、凝集度 $a$ が小さい時が理想的であり、シルエット係数 $s$ は1に近くなります。\n",
        "\n"
      ]
    },
    {
      "cell_type": "markdown",
      "metadata": {
        "id": "QlGYlnnHMXZd"
      },
      "source": [
        "《シルエット図を表示するためのコード》\n",
        "\n"
      ]
    },
    {
      "cell_type": "code",
      "metadata": {
        "id": "nvDd1Vp5MN6j"
      },
      "source": [
        "from matplotlib import cm\n",
        "y_ax_lower, y_ax_upper = 0, 0\n",
        "yticks = []\n",
        "for i, c in enumerate(cluster_labels):\n",
        "    c_silhouette_vals = silhouette_vals[y_km == c]\n",
        "    c_silhouette_vals.sort()\n",
        "    y_ax_upper += len(c_silhouette_vals)\n",
        "    color = cm.jet(i / n_clusters)\n",
        "    plt.barh(range(y_ax_lower, y_ax_upper), c_silhouette_vals, height=1.0, edgecolor='none', color=color)\n",
        "    yticks.append((y_ax_lower + y_ax_upper) / 2)\n",
        "    y_ax_lower += len(c_silhouette_vals)\n",
        "plt.axvline(silhouette_avg, color=\"red\", linestyle=\"--\")\n",
        "plt.yticks(yticks, cluster_labels + 1)\n",
        "plt.ylabel('Cluster')\n",
        "plt.xlabel('Silhouette coefficient')\n",
        "plt.show()"
      ],
      "execution_count": null,
      "outputs": []
    },
    {
      "cell_type": "markdown",
      "metadata": {
        "id": "hPjQT4v-MdVl"
      },
      "source": [
        "# 3.クラスタ分析"
      ]
    },
    {
      "cell_type": "markdown",
      "metadata": {
        "id": "91lZHoAnMhqQ"
      },
      "source": [
        "**卸売業者のデータ分析**\n",
        "\n",
        "クラスタリングの利用法を学ぶために、Wholesale customers Data Setを使用します。\n",
        "\n",
        "\n",
        "UCI Machine Learning Repository: Wholesale customers Data Set\n",
        "\n",
        "\n",
        "Data Folderの中からWholesale customers data.csvをダウンロードしてください。これはポルトガルのリスボンにある卸売業者（wholesale）が顧客から集めたデータです。中身は各顧客が年間でミルクや食料品を何ユーロ購入しているかというデータになっています。顧客は小売店やレストランです。RegionとChannelは取り覗き、金額のデータでK-meansを利用します。"
      ]
    },
    {
      "cell_type": "code",
      "metadata": {
        "id": "VvOy8EOna4ML"
      },
      "source": [
        ""
      ],
      "execution_count": null,
      "outputs": []
    },
    {
      "cell_type": "markdown",
      "metadata": {
        "id": "-csKDUhFM0mj"
      },
      "source": [
        "**次元削減**\n",
        "\n",
        "金額に関する特徴量は6個ありますが、可視化するために次元削減を行います。これに関してはscikit-learnによるPCAのサンプルコードを用意したので利用してください。"
      ]
    },
    {
      "cell_type": "code",
      "metadata": {
        "id": "wcJEsDj9M848"
      },
      "source": [
        "# 《PCAのサンプルコード》\n",
        "from sklearn.decomposition import PCA\n",
        "pca = PCA(n_components = 2)\n",
        "pca = pca.fit(data)\n",
        "data_pca = pca.transform(data)"
      ],
      "execution_count": null,
      "outputs": []
    },
    {
      "cell_type": "code",
      "metadata": {
        "id": "mE9U_D3cNLJT"
      },
      "source": [
        "# 《PCAの分散説明率を表示するコードサンプル》\n",
        "from sklearn.decomposition import PCA\n",
        "import matplotlib.pyplot as plt\n",
        "pca = PCA(n_components=None)\n",
        "pca = pca.fit(data)\n",
        "var_exp = pca.explained_variance_ratio_\n",
        "cum_var_exp = np.cumsum(var_exp)\n",
        "print(cum_var_exp)\n",
        "plt.bar(range(1,7), var_exp, alpha=0.5, align='center', label='individual explained variance')\n",
        "plt.step(range(1,7), cum_var_exp, where='mid', label='cumulative expalined variance')\n",
        "plt.ylabel('Explained variance ratio')\n",
        "plt.xlabel('Principal components')\n",
        "plt.hlines(0.7, 0, 6,  \"blue\", linestyles='dashed')\n",
        "plt.legend(loc='best')\n",
        "plt.grid()\n",
        "plt.show()"
      ],
      "execution_count": null,
      "outputs": []
    },
    {
      "cell_type": "markdown",
      "metadata": {
        "id": "JFh8_eR3N7Zf"
      },
      "source": [
        "【問題10】クラスタ数kの選択\n",
        "\n",
        "最適だと思われるクラスタ数 $k$ を選択してください。エルボー法やシルエット図を活用する他、人間が後々どう利用したいのかも選択に関わってきます。選択した上で、なぜそれを選んだか説明してください。"
      ]
    },
    {
      "cell_type": "markdown",
      "metadata": {
        "id": "v0A6Lk6kOGeT"
      },
      "source": [
        "【問題11】既知のグループとの比較\n",
        "\n",
        "RegionとChannelはK-meansに使用しなかったが、これれらは既知のグループです。クラスタとこれら既知のグループがどう違うかを確認し、説明してください。まずはそれぞれを可視化してください。"
      ]
    },
    {
      "cell_type": "markdown",
      "metadata": {
        "id": "TtVECGd9ONXK"
      },
      "source": [
        "【問題12】卸売業者にとって有益な情報\n",
        "\n",
        "卸売業者にとって有益な情報を探し出し文章にまとめてください。"
      ]
    },
    {
      "cell_type": "markdown",
      "metadata": {
        "id": "T4pUmZD9OUJ4"
      },
      "source": [
        "《ヒント》\n",
        "\n",
        "\n",
        "前処理を行う前のデータを使い、各クラスタの要約統計量を見るなどしてみましょう。また、PCAで次元削減したデータに対してK-meansを使用しましたが、6個の特徴量をそのまま使ったり、一部の特徴量のみを使ったりということも試してみてください。既知のグループとの比較結果も参考にしてください。\n",
        "\n",
        "\n",
        "条件ごとにデータを見る際にはPandasのgroupbyが便利です。\n",
        "\n",
        "\n",
        "pandas.DataFrame.groupby — pandas 0.23.4 documentation"
      ]
    },
    {
      "cell_type": "markdown",
      "metadata": {
        "id": "4HYsPvf3Ohrf"
      },
      "source": [
        "# 4.他の非階層クラスタリング手法\n"
      ]
    },
    {
      "cell_type": "markdown",
      "metadata": {
        "id": "iBvMqwqqOnJZ"
      },
      "source": [
        "【問題13】（アドバンス課題）他の手法の調査\n",
        "\n",
        "今回扱ったK-means以外に非階層クラスタリングで有名な手法としては DBSCAN 、\n",
        "PCA以外に次元削減手法で有名な手法としては t-SNE や LLE があります。\n",
        "\n",
        "\n",
        "・DBSCANのメリット・デメリット\n",
        "\n",
        "・t-SNE、LLEのメリット・デメリット\n",
        "\n",
        "について記述してください。"
      ]
    },
    {
      "cell_type": "markdown",
      "metadata": {
        "id": "qxomNRAWOvGO"
      },
      "source": [
        "【問題14】（アドバンス課題）t-SNEとDBSCANの利用\n",
        "\n",
        "Wholesale customersのデータに対して、PCAではなく、 t-SNE を用いて次元削減をしてください。さらにK-meansではなく、 DBSCAN を用いてクラスタリングしてください。\n",
        "\n",
        "\n",
        "そのクラスタリング結果をPCA+kmeansの場合の結果と比較してみましょう。実装にはscikit-learnを用いてください。\n",
        "\n",
        "\n",
        "sklearn.manifold.TSNE — scikit-learn 0.20.2 documentation\n",
        "\n",
        "\n",
        "sklearn.cluster.DBSCAN — scikit-learn 0.20.2 documentation\n",
        "\n",
        "\n",
        "《パラメーターチューニング》\n",
        "\n",
        "\n",
        "これらはK-meansやPCAに比べパラメーターチューニングが難しい手法です。scikit-learnのドキュメントと共に論文も参考にしながらパラメータの意味を確認することも大切になります。\n",
        "\n",
        "\n",
        "t-SNEの論文\n",
        "\n",
        "\n",
        "DBSCANの論文"
      ]
    }
  ]
}
{
  "nbformat": 4,
  "nbformat_minor": 0,
  "metadata": {
    "colab": {
      "name": "機械学習スクラッチ入門.ipynb",
      "provenance": [],
      "mount_file_id": "1rz28ZH4urc3yQpgcPDTcKDgMnzxNwImq",
      "authorship_tag": "ABX9TyO0TLl9A4VAO6F0rHFwoGM9",
      "include_colab_link": true
    },
    "kernelspec": {
      "name": "python3",
      "display_name": "Python 3"
    },
    "language_info": {
      "name": "python"
    }
  },
  "cells": [
    {
      "cell_type": "markdown",
      "metadata": {
        "id": "view-in-github",
        "colab_type": "text"
      },
      "source": [
        "<a href=\"https://colab.research.google.com/github/shinmiura/diveintocode-ml/blob/master/%E6%A9%9F%E6%A2%B0%E5%AD%A6%E7%BF%92%E3%82%B9%E3%82%AF%E3%83%A9%E3%83%83%E3%83%81%E5%85%A5%E9%96%80.ipynb\" target=\"_parent\"><img src=\"https://colab.research.google.com/assets/colab-badge.svg\" alt=\"Open In Colab\"/></a>"
      ]
    },
    {
      "cell_type": "markdown",
      "metadata": {
        "id": "VWFEpIYMbNut"
      },
      "source": [
        "# 1.このSprintについて"
      ]
    },
    {
      "cell_type": "markdown",
      "metadata": {
        "id": "lCqHG-RI1JqV"
      },
      "source": [
        "**Sprintの目的**\n",
        "\n",
        "・機械学習スクラッチの準備をする\n"
      ]
    },
    {
      "cell_type": "markdown",
      "metadata": {
        "id": "Hc16KnBW1P21"
      },
      "source": [
        "**どのように学ぶか**\n",
        "\n",
        "今後の学習でスクラッチで実装する機械学習プログラムを、まずは scikit-learn を用いて実装します。"
      ]
    },
    {
      "cell_type": "markdown",
      "metadata": {
        "id": "K9_atMzQ1bNY"
      },
      "source": [
        "# 2.スクラッチとは\n",
        "\n",
        "NumPy などに備わっている基本的なライブラリを組み合わせることで、scikit-learn などの応用的なライブラリに実装されている機能と等価なクラス・関数を自作することができます。これをスクラッチと呼びます。\n",
        "\n",
        "\n",
        "スクラッチを通して、scikit-learnなどのライブラリを動かすだけでは掴みづらい、アルゴリズムの深い理解を目指します。コーディングのスキル向上も兼ねていますが、それは主な目的ではありません。\n",
        "\n",
        "\n",
        "以下のような効果を狙っています。\n",
        "\n",
        "\n",
        "\n",
        "・新たな手法に出会った時に理論・数式を理解しやすくする\n",
        "\n",
        "\n",
        "・ライブラリを使う上での曖昧さを減らす\n",
        "\n",
        "\n",
        "・既存の実装を読みやすくする\n",
        "\n",
        "今回はまず、機械学習のプログラムを完全にはスクラッチせず、scikit-learn を用いて実装します。そして、次回から段階的に scikit-learn を用いた実装をスクラッチに移行していきます。\n",
        "\n",
        "\n"
      ]
    },
    {
      "cell_type": "markdown",
      "metadata": {
        "id": "UGrDkWou2dKc"
      },
      "source": [
        "【問題1】train_test_split のスクラッチ\n",
        "\n",
        "まずは、scikit-learnの train_test_split をスクラッチしてみます。以下の雛形をベースに関数を実装してください。\n",
        "\n",
        "\n",
        "sklearn.model_selection.train_test_split - scikit-learn stable version documentation\n",
        "\n",
        "\n",
        "なお、作成した関数がscikit-learnの train_test_split と同じ動作をするか必ず確認をしましょう。\n",
        "\n",
        "\n"
      ]
    },
    {
      "cell_type": "code",
      "metadata": {
        "id": "PSvyn5Gsbml2"
      },
      "source": [
        "# ライブラリのインポート\n",
        "import numpy as np\n",
        "import matplotlib.pyplot as plt\n",
        "import seaborn as sns"
      ],
      "execution_count": 1,
      "outputs": []
    },
    {
      "cell_type": "code",
      "metadata": {
        "id": "0JnNu8N72l7F"
      },
      "source": [
        "# 雛形\n",
        "def scratch_train_test_split(X, y, train_size=0.8):\n",
        "    \"\"\"検証データを分割する。\n",
        "    Parameters\n",
        "    ----------\n",
        "    X : ndarray\n",
        "      訓練データ (n_samples, n_features)\n",
        "    y : ndarray\n",
        "      正解値 (n_samples,)\n",
        "    train_size : float\n",
        "      何割をtrainとするか指定 (0 < train_size < 1)\n",
        "    Returns\n",
        "    -------\n",
        "    X_train : ndarray\n",
        "      訓練データ (n_samples, n_features)\n",
        "    X_test : ndarray\n",
        "      検証データ (n_samples, n_features)\n",
        "    y_train : ndarray\n",
        "      訓練データの正解値 (n_samples,)\n",
        "    y_test : ndarray\n",
        "      検証データの正解値 (n_samples,)\n",
        "    \"\"\"\n",
        "    # ここにコードを書く\n",
        "    pass\n",
        "    return X_train, X_test, y_train, y_test"
      ],
      "execution_count": null,
      "outputs": []
    },
    {
      "cell_type": "code",
      "metadata": {
        "id": "_N0URpMCk11k"
      },
      "source": [
        "def scratch_train_test_split(X, y, train_size=0.8):\n",
        "    \"\"\"検証データを分割する。\n",
        "    Parameters\n",
        "    ----------\n",
        "    X : ndarray\n",
        "      訓練データ (n_samples, n_features)\n",
        "    y : ndarray\n",
        "      正解値 (n_samples,)\n",
        "    train_size : float\n",
        "      何割をtrainとするか指定 (0 < train_size < 1)\n",
        "    Returns\n",
        "    -------\n",
        "    X_train : ndarray\n",
        "      訓練データ (n_samples, n_features)\n",
        "    X_test : ndarray\n",
        "      検証データ (n_samples, n_features)\n",
        "    y_train : ndarray\n",
        "      訓練データの正解値 (n_samples,)\n",
        "    y_test : ndarray\n",
        "      検証データの正解値 (n_samples,)\n",
        "    \"\"\"\n",
        "    # trainのサンプル数を算出\n",
        "    n_train = np.floor(X.shape[0] * train_size).astype(int)   #切り捨て\n",
        "   \n",
        "    # インデックスの並び順をランダムに生成し、Trainの割合でインデックスを決定する\n",
        "    rng = np.random.default_rng()\n",
        "    idx_random = rng.permutation(X.shape[0])\n",
        "    idx_train = idx_random[:n_train]\n",
        "    idx_test = idx_random[n_train:]\n",
        "    \n",
        "    X_train = X[idx_train]\n",
        "    X_test = X[idx_test]\n",
        "    y_train = y[idx_train]\n",
        "    y_test = y[idx_test]\n",
        "    \n",
        "    return X_train, X_test, y_train, y_test"
      ],
      "execution_count": 2,
      "outputs": []
    },
    {
      "cell_type": "code",
      "metadata": {
        "colab": {
          "base_uri": "https://localhost:8080/"
        },
        "id": "wQvjheGQpw-g",
        "outputId": "4f604b61-bac1-48e4-c89e-297961b1a446"
      },
      "source": [
        "# スクラッチの場合\n",
        "import pandas as pd\n",
        "from sklearn.datasets import load_iris\n",
        "iris = load_iris()\n",
        "\n",
        "df_X = pd.DataFrame(data=iris.data, columns=iris.feature_names)\n",
        "df_y = pd.DataFrame(data=iris.target, columns=['Species'])\n",
        "\n",
        "X_train, X_test, y_train, y_test = scratch_train_test_split(df_X.values, df_y.values)\n",
        "\n",
        "print(X_train.shape, X_test.shape, y_train.shape, y_test.shape)\n",
        "print(y_test)"
      ],
      "execution_count": 3,
      "outputs": [
        {
          "output_type": "stream",
          "name": "stdout",
          "text": [
            "(120, 4) (30, 4) (120, 1) (30, 1)\n",
            "[[0]\n",
            " [0]\n",
            " [2]\n",
            " [1]\n",
            " [2]\n",
            " [2]\n",
            " [2]\n",
            " [1]\n",
            " [0]\n",
            " [2]\n",
            " [1]\n",
            " [2]\n",
            " [1]\n",
            " [0]\n",
            " [0]\n",
            " [0]\n",
            " [2]\n",
            " [2]\n",
            " [1]\n",
            " [1]\n",
            " [1]\n",
            " [0]\n",
            " [0]\n",
            " [2]\n",
            " [2]\n",
            " [0]\n",
            " [0]\n",
            " [0]\n",
            " [2]\n",
            " [1]]\n"
          ]
        }
      ]
    },
    {
      "cell_type": "code",
      "metadata": {
        "colab": {
          "base_uri": "https://localhost:8080/"
        },
        "id": "C95s1xWgqJL_",
        "outputId": "86920670-9482-4342-a389-3d8da1d2fdde"
      },
      "source": [
        "# scikit-learnの場合\n",
        "from sklearn.model_selection import train_test_split\n",
        "\n",
        "X_train, X_test, y_train, y_test = train_test_split(df_X.values, df_y.values, test_size=0.2)\n",
        "\n",
        "print(X_train.shape, X_test.shape, y_train.shape, y_test.shape)\n",
        "print(y_test)"
      ],
      "execution_count": 4,
      "outputs": [
        {
          "output_type": "stream",
          "name": "stdout",
          "text": [
            "(120, 4) (30, 4) (120, 1) (30, 1)\n",
            "[[2]\n",
            " [2]\n",
            " [0]\n",
            " [2]\n",
            " [2]\n",
            " [2]\n",
            " [0]\n",
            " [1]\n",
            " [2]\n",
            " [2]\n",
            " [0]\n",
            " [2]\n",
            " [1]\n",
            " [1]\n",
            " [2]\n",
            " [2]\n",
            " [1]\n",
            " [0]\n",
            " [2]\n",
            " [0]\n",
            " [0]\n",
            " [2]\n",
            " [0]\n",
            " [0]\n",
            " [0]\n",
            " [0]\n",
            " [1]\n",
            " [0]\n",
            " [1]\n",
            " [1]]\n"
          ]
        }
      ]
    },
    {
      "cell_type": "markdown",
      "metadata": {
        "id": "t1NNcCs7sFTJ"
      },
      "source": [
        "∴上記のとおり、スクラッチで作成した関数がscikit-learnの train_test_split と同じ動作をする旨を確認できた。"
      ]
    },
    {
      "cell_type": "markdown",
      "metadata": {
        "id": "14rl3qvA2kW1"
      },
      "source": [
        "# 3.scikit-learnを用いて機械学習を行うコードの実装\n",
        "\n",
        "scikit-learnを使ったコードを実装しベースラインモデルを作成していきます。\n",
        "\n",
        "\n",
        "検証データの分割には問題1で作成した自作の関数を用いてください。クロスバリデーションではなくホールドアウト法で構いません。"
      ]
    },
    {
      "cell_type": "markdown",
      "metadata": {
        "id": "vGsRzDJM3ClO"
      },
      "source": [
        "**分類問題**\n",
        "\n",
        "分類は3種類の手法をscikit-learnを使って実装します。\n",
        "\n",
        "\n",
        "・ロジスティック回帰\n",
        "\n",
        "・SVM\n",
        "\n",
        "・決定木"
      ]
    },
    {
      "cell_type": "markdown",
      "metadata": {
        "id": "MNX739T13bnw"
      },
      "source": [
        "scikit-learnにおいてLogisticRegressionクラスとSGDClassifierクラスの2種類から使用できます。ここでは勾配降下法を用いて計算するSGDClassifierクラスを利用してください。引数でloss=”log”とすることでロジスティック回帰の計算になります。\n",
        "\n",
        "\n",
        "scikit-learn にはロジスティック回帰に使える分類器として LogisticRegression クラスと SGDClassifier クラスが用意されています。ここでは勾配降下法を用いて計算する SGDClassifier クラスを用います。引数で loss=\"log\" を指定することでロジスティック回帰の計算ができます。\n",
        "\n",
        "\n",
        "sklearn.linear_model.SGDClassifier — scikit-learn 0.21.3 documentation\n",
        "sklearn.svm.SVC — scikit-learn 0.21.3 documentation\n",
        "sklearn.tree.DecisionTreeClassifier — scikit-learn 0.21.3 documentation\n",
        "\n",
        "3種類のデータセットを用いて動作を確認します。\n",
        "\n",
        "\n",
        "1つ目は事前学習期間同様のirisデータセットです。\n",
        "\n",
        "\n",
        "sklearn.datasets.load_iris - scikit-learn stable version documentation\n",
        "\n",
        "\n",
        "2値分類としたいため、以下の2つの目的変数のみ利用します。特徴量は4種類すべて使います。\n",
        "\n",
        "\n",
        "virgicolorとvirginica\n",
        "\n",
        "残り2つは特徴量が2つのデータセットを人工的に用意します。以下のコードで説明変数X,目的変数yが作成可能です。「シンプルデータセット1」「シンプルデータセット2」とします。特徴量が2つであるため可視化が容易です。\n",
        "\n"
      ]
    },
    {
      "cell_type": "code",
      "metadata": {
        "id": "kDAZpnqCfGHZ"
      },
      "source": [
        "import numpy as np\n",
        "from sklearn.linear_model import SGDClassifier\n",
        "from sklearn.preprocessing import StandardScaler\n",
        "from sklearn.pipeline import make_pipeline\n",
        "from sklearn.svm import SVC\n",
        "from sklearn.tree import DecisionTreeClassifier\n",
        "from sklearn.preprocessing import StandardScaler\n",
        "from sklearn.metrics import classification_report"
      ],
      "execution_count": 10,
      "outputs": []
    },
    {
      "cell_type": "code",
      "metadata": {
        "colab": {
          "base_uri": "https://localhost:8080/"
        },
        "id": "bCM6tWN3sktr",
        "outputId": "5e034067-fc1e-4b9d-eb21-ba0e4376bfb9"
      },
      "source": [
        "# irisデータセット\n",
        "df_X = pd.DataFrame(data=iris.data, columns=iris.feature_names)\n",
        "# Species列の値を分かりやすいようにアヤメの種類に置き換える\n",
        "# series1 = pd.Series(data=[iris.target_names[i] for i in iris.target], name=\"Species\")\n",
        "df_y = pd.DataFrame(iris.target, columns=['Species'])\n",
        "df = pd.concat([df_X,df_y], axis=1)\n",
        "\n",
        "df_iris = df[df.Species != 0]\n",
        "X_iris = df_iris.iloc[:, :-1]\n",
        "y_iris = df_iris.iloc[:, -1]\n",
        "\n",
        "print(X_iris.shape, y_iris.shape)"
      ],
      "execution_count": 8,
      "outputs": [
        {
          "output_type": "stream",
          "name": "stdout",
          "text": [
            "(100, 4) (100,)\n"
          ]
        }
      ]
    },
    {
      "cell_type": "code",
      "metadata": {
        "id": "vj-_PWp41CCs"
      },
      "source": [
        "# シンプルデータセット1作成コード\n",
        "import numpy as np\n",
        "np.random.seed(seed=0)\n",
        "n_samples = 500\n",
        "f0 = [-1, 2]\n",
        "f1 = [2, -1]\n",
        "cov = [[1.0,0.8], [0.8, 1.0]]\n",
        "f0 = np.random.multivariate_normal(f0, cov, n_samples // 2)\n",
        "f1 = np.random.multivariate_normal(f1, cov, n_samples // 2)\n",
        "X1 = np.concatenate([f0, f1])\n",
        "y1 = np.concatenate([\n",
        "    np.full(n_samples // 2, 1),\n",
        "    np.full(n_samples // 2, -1)\n",
        "])"
      ],
      "execution_count": 22,
      "outputs": []
    },
    {
      "cell_type": "code",
      "metadata": {
        "id": "28ZAnu-O4Ajd"
      },
      "source": [
        "# シンプルデータセット2作成コード\n",
        "X2 = np.array([\n",
        "    [-0.44699 , -2.8073  ],[-1.4621  , -2.4586  ],\n",
        "    [ 0.10645 ,  1.9242  ],[-3.5944  , -4.0112  ],\n",
        "    [-0.9888  ,  4.5718  ],[-3.1625  , -3.9606  ],\n",
        "    [ 0.56421 ,  0.72888 ],[-0.60216 ,  8.4636  ],\n",
        "    [-0.61251 , -0.75345 ],[-0.73535 , -2.2718  ],\n",
        "    [-0.80647 , -2.2135  ],[ 0.86291 ,  2.3946  ],\n",
        "    [-3.1108  ,  0.15394 ],[-2.9362  ,  2.5462  ],\n",
        "    [-0.57242 , -2.9915  ],[ 1.4771  ,  3.4896  ],\n",
        "    [ 0.58619 ,  0.37158 ],[ 0.6017  ,  4.3439  ],\n",
        "    [-2.1086  ,  8.3428  ],[-4.1013  , -4.353   ],\n",
        "    [-1.9948  , -1.3927  ],[ 0.35084 , -0.031994],\n",
        "    [ 0.96765 ,  7.8929  ],[-1.281   , 15.6824  ],\n",
        "    [ 0.96765 , 10.083   ],[ 1.3763  ,  1.3347  ],\n",
        "    [-2.234   , -2.5323  ],[-2.9452  , -1.8219  ],\n",
        "    [ 0.14654 , -0.28733 ],[ 0.5461  ,  5.8245  ],\n",
        "    [-0.65259 ,  9.3444  ],[ 0.59912 ,  5.3524  ],\n",
        "    [ 0.50214 , -0.31818 ],[-3.0603  , -3.6461  ],\n",
        "    [-6.6797  ,  0.67661 ],[-2.353   , -0.72261 ],\n",
        "    [ 1.1319  ,  2.4023  ],[-0.12243 ,  9.0162  ],\n",
        "    [-2.5677  , 13.1779  ],[ 0.057313,  5.4681  ],\n",
        "])\n",
        "y2 = np.array([0, 0, 0, 0, 0, 0, 0, 0, 0, 0, 0, 0, 0, 0, 0, 0, 0, 0, 0, 0, 1, 1,\n",
        "       1, 1, 1, 1, 1, 1, 1, 1, 1, 1, 1, 1, 1, 1, 1, 1, 1, 1])\n"
      ],
      "execution_count": 23,
      "outputs": []
    },
    {
      "cell_type": "markdown",
      "metadata": {
        "id": "tDqblXQCqXiI"
      },
      "source": [
        "**【問題2】 分類問題を解くコードの作成**\n",
        "\n",
        "上記3種類の手法で3種類のデータセットを学習・推定するコードを作成してください。"
      ]
    },
    {
      "cell_type": "markdown",
      "metadata": {
        "id": "eDY1qvzx4M5-"
      },
      "source": [
        "**回帰問題**\n",
        "\n",
        "次に回帰は1種類をscikit-learnを使って実装します。\n",
        "\n",
        "\n",
        "・線形回帰\n",
        "\n",
        "\n",
        "線形回帰は勾配降下法を用いて計算する SGDRegressor クラスを利用してください。\n",
        "\n",
        "\n",
        "sklearn.linear_model.SGDRegressor - scikit-lear stable version documentation\n",
        "\n",
        "\n",
        "データセットは事前学習期間同様にHouse Pricesコンペティションのものを使います。\n",
        "\n",
        "\n",
        "House Prices: Advanced Regression Techniques\n",
        "\n",
        "\n",
        "train.csvをダウンロードし、目的変数としてSalePrice、説明変数として、GrLivAreaとYearBuiltを使います。\n",
        "\n"
      ]
    },
    {
      "cell_type": "code",
      "metadata": {
        "id": "L9V0Q6rQw2qC"
      },
      "source": [
        "def evaluate_classifiers(X, y, train_size=0.7):\n",
        "    '''\n",
        "    ロジスティック回帰、SVM、決定木モデルで学習、推定、評価を実行する関数\n",
        "    Parameters\n",
        "    ----------\n",
        "    X : ndarray\n",
        "      訓練データ (n_samples, n_features)\n",
        "    y : ndarray\n",
        "      正解値 (n_samples,)\n",
        "    train_size : float\n",
        "      何割をtrainとするか指定 (0 < train_size < 1)\n",
        "    Returns\n",
        "    -------\n",
        "    なし\n",
        "    '''\n",
        "    from sklearn.linear_model import SGDClassifier\n",
        "    from sklearn.svm import SVC\n",
        "    from sklearn.tree import DecisionTreeClassifier\n",
        "    from sklearn.pipeline import Pipeline\n",
        "    from sklearn.preprocessing import StandardScaler\n",
        "    from sklearn.metrics import classification_report\n",
        "\n",
        "    # 訓練データと検証データの分割\n",
        "    X_train, X_test, y_train, y_test = scratch_train_test_split(X, y, train_size=train_size)\n",
        "\n",
        "    #####################################################\n",
        "    # ロジスティック回帰\n",
        "    #####################################################\n",
        "    pipe1 = Pipeline([(\"scaler\", StandardScaler()),\n",
        "                      (\"SGD\", SGDClassifier(loss=\"log\"))])\n",
        "\n",
        "    pipe1.fit(X_train, y_train)  # 学習\n",
        "    y_pred1 = pipe1.predict(X_test)  # 推論\n",
        "\n",
        "    print(\"----------Logistic Regression-------------\")\n",
        "    print(classification_report(y_test, y_pred1))\n",
        "\n",
        "    #####################################################\n",
        "    # SVM\n",
        "    #####################################################\n",
        "    pipe2 = Pipeline([(\"scaler\", StandardScaler()),\n",
        "                      (\"svc\", SVC())])\n",
        "\n",
        "    pipe2.fit(X_train, y_train)  # 学習\n",
        "    y_pred2 = pipe2.predict(X_test)  # 推論\n",
        "\n",
        "    print(\"----------SVM-------------\")\n",
        "    print(classification_report(y_test, y_pred2))\n",
        "\n",
        "    #####################################################\n",
        "    # 決定木\n",
        "    #####################################################\n",
        "    pipe3 = Pipeline([(\"scaler\", StandardScaler()),\n",
        "                      (\"tree\", DecisionTreeClassifier())])\n",
        "\n",
        "    pipe3.fit(X_train, y_train)  # 学習\n",
        "    y_pred3 = pipe3.predict(X_test)  # 推論\n",
        "\n",
        "    print(\"----------Decision Tree-------------\")\n",
        "    print(classification_report(y_test, y_pred3))\n"
      ],
      "execution_count": 19,
      "outputs": []
    },
    {
      "cell_type": "code",
      "metadata": {
        "colab": {
          "base_uri": "https://localhost:8080/"
        },
        "id": "gaKFeggE0csE",
        "outputId": "80fb20e6-04a3-4a48-d5d1-8067b68456b2"
      },
      "source": [
        "# irisデータセットの場合\n",
        "evaluate_classifiers(X_iris.values, y_iris.values)"
      ],
      "execution_count": 20,
      "outputs": [
        {
          "output_type": "stream",
          "name": "stdout",
          "text": [
            "----------Logistic Regression-------------\n",
            "              precision    recall  f1-score   support\n",
            "\n",
            "           1       0.83      0.83      0.83        12\n",
            "           2       0.89      0.89      0.89        18\n",
            "\n",
            "    accuracy                           0.87        30\n",
            "   macro avg       0.86      0.86      0.86        30\n",
            "weighted avg       0.87      0.87      0.87        30\n",
            "\n",
            "----------SVM-------------\n",
            "              precision    recall  f1-score   support\n",
            "\n",
            "           1       0.91      0.83      0.87        12\n",
            "           2       0.89      0.94      0.92        18\n",
            "\n",
            "    accuracy                           0.90        30\n",
            "   macro avg       0.90      0.89      0.89        30\n",
            "weighted avg       0.90      0.90      0.90        30\n",
            "\n",
            "----------Decision Tree-------------\n",
            "              precision    recall  f1-score   support\n",
            "\n",
            "           1       0.91      0.83      0.87        12\n",
            "           2       0.89      0.94      0.92        18\n",
            "\n",
            "    accuracy                           0.90        30\n",
            "   macro avg       0.90      0.89      0.89        30\n",
            "weighted avg       0.90      0.90      0.90        30\n",
            "\n"
          ]
        }
      ]
    },
    {
      "cell_type": "code",
      "metadata": {
        "colab": {
          "base_uri": "https://localhost:8080/"
        },
        "id": "ed91Lu7N1W-q",
        "outputId": "93738273-b703-4c63-d4fc-f1e864a21d54"
      },
      "source": [
        "# シンプルデータセット1\n",
        "evaluate_classifiers(X1, y1)"
      ],
      "execution_count": 24,
      "outputs": [
        {
          "output_type": "stream",
          "name": "stdout",
          "text": [
            "----------Logistic Regression-------------\n",
            "              precision    recall  f1-score   support\n",
            "\n",
            "          -1       1.00      1.00      1.00        75\n",
            "           1       1.00      1.00      1.00        75\n",
            "\n",
            "    accuracy                           1.00       150\n",
            "   macro avg       1.00      1.00      1.00       150\n",
            "weighted avg       1.00      1.00      1.00       150\n",
            "\n",
            "----------SVM-------------\n",
            "              precision    recall  f1-score   support\n",
            "\n",
            "          -1       1.00      1.00      1.00        75\n",
            "           1       1.00      1.00      1.00        75\n",
            "\n",
            "    accuracy                           1.00       150\n",
            "   macro avg       1.00      1.00      1.00       150\n",
            "weighted avg       1.00      1.00      1.00       150\n",
            "\n",
            "----------Decision Tree-------------\n",
            "              precision    recall  f1-score   support\n",
            "\n",
            "          -1       1.00      0.99      0.99        75\n",
            "           1       0.99      1.00      0.99        75\n",
            "\n",
            "    accuracy                           0.99       150\n",
            "   macro avg       0.99      0.99      0.99       150\n",
            "weighted avg       0.99      0.99      0.99       150\n",
            "\n"
          ]
        }
      ]
    },
    {
      "cell_type": "code",
      "metadata": {
        "colab": {
          "base_uri": "https://localhost:8080/"
        },
        "id": "_tu_kgFG1rif",
        "outputId": "e7a9a486-bb19-43d0-d8ee-56fa0bf657c3"
      },
      "source": [
        "# シンプルデータセット2\n",
        "evaluate_classifiers(X2, y2)"
      ],
      "execution_count": 25,
      "outputs": [
        {
          "output_type": "stream",
          "name": "stdout",
          "text": [
            "----------Logistic Regression-------------\n",
            "              precision    recall  f1-score   support\n",
            "\n",
            "           0       0.50      0.67      0.57         6\n",
            "           1       0.50      0.33      0.40         6\n",
            "\n",
            "    accuracy                           0.50        12\n",
            "   macro avg       0.50      0.50      0.49        12\n",
            "weighted avg       0.50      0.50      0.49        12\n",
            "\n",
            "----------SVM-------------\n",
            "              precision    recall  f1-score   support\n",
            "\n",
            "           0       0.50      0.67      0.57         6\n",
            "           1       0.50      0.33      0.40         6\n",
            "\n",
            "    accuracy                           0.50        12\n",
            "   macro avg       0.50      0.50      0.49        12\n",
            "weighted avg       0.50      0.50      0.49        12\n",
            "\n",
            "----------Decision Tree-------------\n",
            "              precision    recall  f1-score   support\n",
            "\n",
            "           0       0.60      0.50      0.55         6\n",
            "           1       0.57      0.67      0.62         6\n",
            "\n",
            "    accuracy                           0.58        12\n",
            "   macro avg       0.59      0.58      0.58        12\n",
            "weighted avg       0.59      0.58      0.58        12\n",
            "\n"
          ]
        }
      ]
    },
    {
      "cell_type": "markdown",
      "metadata": {
        "id": "eDJy8AOR4fb3"
      },
      "source": [
        "【問題3】 回帰問題を解くコードの作成\n",
        "\n",
        "線形回帰でHouse Pricesデータセットを学習・推定するコードを作成してください。\n"
      ]
    },
    {
      "cell_type": "code",
      "metadata": {
        "id": "7rAOlC8Vf9Qt"
      },
      "source": [
        "# 必要なライブラリのインポート\n",
        "import pandas as pd"
      ],
      "execution_count": 26,
      "outputs": []
    },
    {
      "cell_type": "code",
      "metadata": {
        "colab": {
          "base_uri": "https://localhost:8080/",
          "height": 35
        },
        "id": "0_SLua4sgiZT",
        "outputId": "dc62c159-ec37-4c0b-a5a8-881f6d391b86"
      },
      "source": [
        "%pwd"
      ],
      "execution_count": 44,
      "outputs": [
        {
          "output_type": "execute_result",
          "data": {
            "application/vnd.google.colaboratory.intrinsic+json": {
              "type": "string"
            },
            "text/plain": [
              "'/content/sample_data'"
            ]
          },
          "metadata": {},
          "execution_count": 44
        }
      ]
    },
    {
      "cell_type": "code",
      "metadata": {
        "colab": {
          "base_uri": "https://localhost:8080/"
        },
        "id": "OhjRPK7xgmv2",
        "outputId": "772b8316-c477-43c3-c25d-81064bfd6993"
      },
      "source": [
        "%cd 'Colab Notebooks'"
      ],
      "execution_count": 51,
      "outputs": [
        {
          "output_type": "stream",
          "name": "stdout",
          "text": [
            "/content/drive/My Drive/Colab Notebooks\n"
          ]
        }
      ]
    },
    {
      "cell_type": "code",
      "metadata": {
        "id": "DdxOJC-qgzHG"
      },
      "source": [
        "%ls"
      ],
      "execution_count": null,
      "outputs": []
    },
    {
      "cell_type": "code",
      "metadata": {
        "colab": {
          "base_uri": "https://localhost:8080/"
        },
        "id": "LAns2qCMgHaO",
        "outputId": "26cade23-0c0c-47a7-d694-8c9bf343ab65"
      },
      "source": [
        "df = pd.read_csv(\"/content/drive/MyDrive/Colab Notebooks/train.csv\")\n",
        "X = df[['GrLivArea', 'YearBuilt']].values\n",
        "y = df['SalePrice'].values\n",
        "\n",
        "X"
      ],
      "execution_count": 53,
      "outputs": [
        {
          "output_type": "execute_result",
          "data": {
            "text/plain": [
              "array([[1710, 2003],\n",
              "       [1262, 1976],\n",
              "       [1786, 2001],\n",
              "       ...,\n",
              "       [2340, 1941],\n",
              "       [1078, 1950],\n",
              "       [1256, 1965]])"
            ]
          },
          "metadata": {},
          "execution_count": 53
        }
      ]
    },
    {
      "cell_type": "code",
      "metadata": {
        "id": "OH-Qy-W2jZJF"
      },
      "source": [
        "# 必要なライブラリのインポート\n",
        "from sklearn.linear_model import SGDRegressor"
      ],
      "execution_count": 54,
      "outputs": []
    },
    {
      "cell_type": "code",
      "metadata": {
        "colab": {
          "base_uri": "https://localhost:8080/"
        },
        "id": "J6TlnPk8jG2G",
        "outputId": "8bb2510c-bff6-4308-f55d-032fc539c666"
      },
      "source": [
        "# 訓練データと検証データの分割\n",
        "X_train, X_test, y_train, y_test = scratch_train_test_split(X, y, train_size=0.7)\n",
        "\n",
        "# 標準化\n",
        "scaler = StandardScaler()\n",
        "scaler.fit(X_train) #trainデータのみFitを実行する\n",
        "X_train_std = scaler.transform(X_train)\n",
        "X_test_std = scaler.transform(X_test)\n",
        "\n",
        "regr = SGDRegressor(loss='squared_loss',penalty='l2',alpha=0.01,max_iter=1000)\n",
        "regr.fit(X_train_std, y_train)\n",
        "y_pred = regr.predict(X_test_std)\n",
        "\n",
        "print(\"Intercept:\", regr.intercept_)\n",
        "print(\"Coefficients: \", regr.coef_)\n",
        "\n",
        "print(X_test_std.shape)"
      ],
      "execution_count": 55,
      "outputs": [
        {
          "output_type": "stream",
          "name": "stdout",
          "text": [
            "Intercept: [180487.78098939]\n",
            "Coefficients:  [47108.29759197 31223.8503895 ]\n",
            "(439, 2)\n"
          ]
        }
      ]
    },
    {
      "cell_type": "code",
      "metadata": {
        "colab": {
          "base_uri": "https://localhost:8080/",
          "height": 862
        },
        "id": "NMB3JSaLjei4",
        "outputId": "d25ad6c6-c393-4c4f-a37c-2040f0d632cb"
      },
      "source": [
        "# 散布図\n",
        "import matplotlib.pyplot as plt\n",
        "%matplotlib inline\n",
        "\n",
        "plt.rcParams['font.size'] = 15\n",
        "fig = plt.figure(figsize=(20,12))\n",
        "\n",
        "ax1 = fig.add_subplot(2, 2, 1)   #1行２列の１番目\n",
        "ax1.set_xlabel('GrLivArea')\n",
        "ax1.set_ylabel('SalePrice')\n",
        "ax1.scatter(X_train[:, 0], y_train, color = 'blue', alpha=0.5, label = 'GrLivArea') \n",
        "\n",
        "ax2 = fig.add_subplot(2, 2, 2)   #１行２列の２番目\n",
        "ax2.set_xlabel('YearBuilt')\n",
        "ax2.set_ylabel('SalePrice')\n",
        "ax2.scatter(X_train[:, 1], y_train, color = 'orange', alpha=0.5, label = 'YearBuilt') \n",
        "\n",
        "ax3 = fig.add_subplot(2, 2, 3)   #２行２列の１番目\n",
        "ax3.set_xlabel('GrLivArea')\n",
        "ax3.set_ylabel('SalePrice')\n",
        "ax3.scatter(X_train[:, 0], y_train, color = 'blue', alpha=0.5, label = 'GrLivArea') \n",
        "ax3.plot(np.sort(X_test[:, 0]), regr.intercept_+regr.coef_[0]*np.sort(X_test[:, 0]), color = 'red')\n",
        "\n",
        "ax4 = fig.add_subplot(2, 2, 4)   #２行２列の２番目\n",
        "ax4.set_xlabel('YearBuilt')\n",
        "ax4.set_ylabel('SalePrice')\n",
        "ax4.scatter(X_train[:, 1], y_train, color = 'green', alpha=0.5, label = 'YearBuilt') \n",
        "ax4.plot(np.sort(X_test[:, 1]), regr.intercept_+regr.coef_[1]*np.sort(X_test[:, 1]), color = 'red')\n",
        "\n",
        "plt.tight_layout()\n",
        "plt.show()"
      ],
      "execution_count": 57,
      "outputs": [
        {
          "output_type": "display_data",
          "data": {
            "image/png": "[encoded data removed]",
            "text/plain": [
              "<Figure size 1440x864 with 4 Axes>"
            ]
          },
          "metadata": {
            "needs_background": "light"
          }
        }
      ]
    }
  ]
}
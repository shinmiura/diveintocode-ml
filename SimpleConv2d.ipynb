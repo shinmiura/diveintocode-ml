{
  "nbformat": 4,
  "nbformat_minor": 0,
  "metadata": {
    "colab": {
      "name": "SimpleConv2d.ipynb",
      "provenance": [],
      "mount_file_id": "1obASdg5QUcXByK_hgQzCZIsA-Lu5tUcH",
      "authorship_tag": "ABX9TyOy8wy6pP1yQ0mY5uBnWX7s",
      "include_colab_link": true
    },
    "kernelspec": {
      "name": "python3",
      "display_name": "Python 3"
    },
    "language_info": {
      "name": "python"
    },
    "accelerator": "GPU"
  },
  "cells": [
    {
      "cell_type": "markdown",
      "metadata": {
        "id": "view-in-github",
        "colab_type": "text"
      },
      "source": [
        "<a href=\"https://colab.research.google.com/github/shinmiura/diveintocode-ml/blob/master/SimpleConv2d.ipynb\" target=\"_parent\"><img src=\"https://colab.research.google.com/assets/colab-badge.svg\" alt=\"Open In Colab\"/></a>"
      ]
    },
    {
      "cell_type": "markdown",
      "metadata": {
        "id": "a2TI-4sx06Tn"
      },
      "source": [
        "**Sprintの目的**\n",
        "\n",
        "スクラッチを通してCNNの基礎を理解する"
      ]
    },
    {
      "cell_type": "markdown",
      "metadata": {
        "id": "HAvdtDZB2Gbv"
      },
      "source": [
        "**どのように学ぶか**\n",
        "\n",
        "スクラッチで2次元用畳み込みニューラルネットワークを実装した後、学習と検証を行なっていきます。"
      ]
    },
    {
      "cell_type": "code",
      "metadata": {
        "id": "-hAlERUa7iP2"
      },
      "source": [
        "# 必要なライブラリのインポート\n",
        "import numpy as np\n",
        "import matplotlib.pyplot as plt\n",
        "from sklearn.metrics import accuracy_score\n",
        "from keras.datasets import mnist\n",
        "from sklearn.preprocessing import OneHotEncoder\n",
        "from sklearn.model_selection import train_test_split"
      ],
      "execution_count": 1,
      "outputs": []
    },
    {
      "cell_type": "markdown",
      "metadata": {
        "id": "WNpF3k-a2Lm3"
      },
      "source": [
        "# 2.2次元の畳み込みニューラルネットワークスクラッチ"
      ]
    },
    {
      "cell_type": "markdown",
      "metadata": {
        "id": "2Lw8YnTI2RfJ"
      },
      "source": [
        "2次元に対応した畳み込みニューラルネットワーク（CNN）のクラスをスクラッチで作成していきます。NumPyなど最低限のライブラリのみを使いアルゴリズムを実装していきます。\n",
        "\n",
        "\n",
        "プーリング層なども作成することで、CNNの基本形を完成させます。クラスの名前はScratch2dCNNClassifierとしてください。"
      ]
    },
    {
      "cell_type": "markdown",
      "metadata": {
        "id": "UkmlXYiY2Uyy"
      },
      "source": [
        "**データセットの用意**\n",
        "\n",
        "引き続きMNISTデータセットを使用します。2次元畳み込み層へは、28×28の状態で入力します。\n",
        "\n",
        "\n",
        "今回は白黒画像ですからチャンネルは1つしかありませんが、チャンネル方向の軸は用意しておく必要があります。\n",
        "\n",
        "\n",
        "(n_samples, n_channels, height, width)のNCHWまたは(n_samples, height, width, n_channels)のNHWCどちらかの形にしてください。\n",
        "\n"
      ]
    },
    {
      "cell_type": "code",
      "metadata": {
        "colab": {
          "base_uri": "https://localhost:8080/"
        },
        "id": "n61Q9sFI7qaH",
        "outputId": "424631c1-d2db-4ba0-93d4-ff8503940657"
      },
      "source": [
        "# MNISTデータセットの用意\n",
        "# データ読み込み\n",
        "(X_train, y_train), (X_test, y_test) = mnist.load_data()\n",
        "\n",
        "# 正規化\n",
        "X_train = X_train.astype(np.float)\n",
        "X_test = X_test.astype(np.float)\n",
        "X_train /= 255\n",
        "X_test /= 255\n",
        "\n",
        "# onehotベクトル化\n",
        "enc = OneHotEncoder(handle_unknown='ignore', sparse=False)\n",
        "y_train_one_hot = enc.fit_transform(y_train[:, np.newaxis])\n",
        "y_test_one_hot = enc.transform(y_test[:, np.newaxis])\n",
        "\n",
        "# 訓練データと評価データに\n",
        "X_train_, X_val, y_train_, y_val = train_test_split(X_train, y_train_one_hot, test_size=0.2)\n",
        "\n",
        "print(X_train.shape)\n",
        "print(X_val.shape)\n",
        "print(y_train.shape)\n",
        "print(y_val.shape)"
      ],
      "execution_count": 2,
      "outputs": [
        {
          "output_type": "stream",
          "name": "stdout",
          "text": [
            "Downloading data from https://storage.googleapis.com/tensorflow/tf-keras-datasets/mnist.npz\n",
            "11493376/11490434 [==============================] - 0s 0us/step\n",
            "11501568/11490434 [==============================] - 0s 0us/step\n",
            "(60000, 28, 28)\n",
            "(12000, 28, 28)\n",
            "(60000,)\n",
            "(12000, 10)\n"
          ]
        }
      ]
    },
    {
      "cell_type": "code",
      "metadata": {
        "id": "oumfK4T_76dL"
      },
      "source": [
        "class FC:\n",
        "    \"\"\"\n",
        "    Fully connected layers from number of nodes n_nodes1 to n_nodes2\n",
        "    Parameters\n",
        "    ----------\n",
        "    n_nodes1 : int\n",
        "      Number of nodes in the previous layer\n",
        "    n_nodes2 : int\n",
        "      Number of nodes in subsequent layers\n",
        "    initializer : Instances of initialization methods\n",
        "    optimizer : Instances of optimization methods\n",
        "    \"\"\"\n",
        "    def __init__(self, n_nodes1, n_nodes2, initializer, optimizer, activation):\n",
        "        \n",
        "        self.n_nodes1 = n_nodes1\n",
        "        self.n_nodes2 = n_nodes2\n",
        "        self.initializer = initializer\n",
        "        self.optimizer = optimizer\n",
        "        self.activation = activation\n",
        "        # Initialize.\n",
        "        # Use the initializer method to initialize self.W and self.B\n",
        "        self.W = self.initializer.W(self.n_nodes1,self.n_nodes2)\n",
        "        self.B = self.initializer.B(self.n_nodes2)\n",
        "        \n",
        "    def forward(self, X):\n",
        "        \"\"\"\n",
        "        Forward\n",
        "        Parameters\n",
        "        ----------\n",
        "        X : ndarray of the following form, shape (batch_size, n_nodes1)\n",
        "            Input\n",
        "        Returns\n",
        "        ----------\n",
        "        A : ndarray of the following form, shape (batch_size, n_nodes2)\n",
        "            Output\n",
        "        \"\"\"\n",
        "        self.X = X\n",
        "        self.A = np.dot(self.X,self.W) + self.B\n",
        "        \n",
        "        return self.activation.forward(self.A)\n",
        "    \n",
        "    def backward(self, dZ):\n",
        "        \"\"\"\n",
        "        Backward\n",
        "        Parameters\n",
        "        ----------\n",
        "        dA : ndarray of the following form, shape (batch_size, n_nodes2)\n",
        "            The gradient flowed in from behind.\n",
        "        Returns\n",
        "        ----------\n",
        "        dZ : ndarray of the following form, shape (batch_size, n_nodes1)\n",
        "            forward slope\n",
        "        \"\"\"\n",
        "        dA = self.activation.backward(dZ)\n",
        "        self.dB = np.mean(dA,axis=0)\n",
        "        self.dW = np.dot(self.X.T,dA)/len(self.X)\n",
        "        dZ = np.dot(dA,self.W.T)\n",
        "        \n",
        "        # Update\n",
        "        self = self.optimizer.update(self)\n",
        "        \n",
        "        return dZ\n",
        "    \n",
        "class SimpleInitializer:\n",
        "    \"\"\"\n",
        "    Simple initialization with Gaussian distribution\n",
        "    Parameters\n",
        "    ----------\n",
        "    sigma : float\n",
        "      Standard deviation of Gaussian distribution\n",
        "    \"\"\"\n",
        "    def __init__(self, sigma):\n",
        "        self.sigma = sigma\n",
        "        \n",
        "    def W(self, n_nodes1, n_nodes2):\n",
        "        \"\"\"\n",
        "        Initializing weights\n",
        "        Parameters\n",
        "        ----------\n",
        "        n_nodes1 : int\n",
        "          Number of nodes in the previous layer\n",
        "        n_nodes2 : int\n",
        "          Number of nodes in subsequent layers\n",
        "\n",
        "        Returns\n",
        "        ----------\n",
        "        W : weight\n",
        "        \"\"\"\n",
        "        return self.sigma * np.random.randn(n_nodes1, n_nodes2)\n",
        "    \n",
        "    def B(self, n_nodes2):\n",
        "        \"\"\"\n",
        "        Bias initialization\n",
        "        Parameters\n",
        "        ----------\n",
        "        n_nodes2 : int\n",
        "          Number of nodes in subsequent layers\n",
        "\n",
        "        Returns\n",
        "        ----------\n",
        "        B : bias\n",
        "        \"\"\"\n",
        "        return np.zeros(n_nodes2)\n",
        "    \n",
        "class HeInitializer():\n",
        "    \"\"\"\n",
        "    Initialization of weights by He\n",
        "    \"\"\"\n",
        "    def __init__(self):\n",
        "        pass\n",
        "        \n",
        "    def W(self, n_nodes1, n_nodes2):\n",
        "        \"\"\"\n",
        "        Initializing weights\n",
        "        Parameters\n",
        "        ----------\n",
        "        n_nodes1 : int\n",
        "          Number of nodes in the previous layer\n",
        "        n_nodes2 : int\n",
        "          Number of nodes in subsequent layers\n",
        "\n",
        "        Returns\n",
        "        ----------\n",
        "        W : weight\n",
        "        \"\"\"\n",
        "        return np.random.randn(n_nodes1, n_nodes2)*np.sqrt(2/n_nodes1)\n",
        "    \n",
        "    def B(self, n_nodes2):\n",
        "        \"\"\"\n",
        "        Bias initialization\n",
        "        Parameters\n",
        "        ----------\n",
        "        n_nodes2 : int\n",
        "          Number of nodes in subsequent layers\n",
        "\n",
        "        Returns\n",
        "        ----------\n",
        "        B : bias\n",
        "        \"\"\"\n",
        "        return np.zeros(n_nodes2)\n",
        "    \n",
        "class SGD:\n",
        "    \"\"\"\n",
        "    stochastic gradient descent method\n",
        "    Parameters\n",
        "    ----------\n",
        "    lr : learning rate\n",
        "    \"\"\"\n",
        "    def __init__(self, lr=0.01):\n",
        "        self.lr = lr\n",
        "        \n",
        "    def update(self, layer):\n",
        "        \"\"\"\n",
        "        Updating the weights and biases of a layer\n",
        "        Parameters\n",
        "        ----------\n",
        "        layer : An instance of the layer before the update\n",
        "        \"\"\"\n",
        "        layer.W -= self.lr*layer.dW\n",
        "        layer.B -= self.lr*layer.dB\n",
        "        \n",
        "        return layer\n",
        "    \n",
        "class AdaGrad:\n",
        "    \"\"\"\n",
        "    stochastic gradient descent method\n",
        "    Parameters\n",
        "    ----------\n",
        "    lr : learning rate\n",
        "    \"\"\"\n",
        "    def __init__(self, lr):\n",
        "        self.lr = lr\n",
        "        self.hW = 0\n",
        "        self.hB = 0\n",
        "        \n",
        "    def update(self, layer):\n",
        "        \"\"\"\n",
        "        Updating the weights and biases of a layer\n",
        "        Parameters\n",
        "        ----------\n",
        "        layer : An instance of the layer before the update\n",
        "        \"\"\"\n",
        "        self.hW += layer.dW*layer.dW\n",
        "        self.hB = layer.dB*layer.dB\n",
        "    \n",
        "        layer.W -= self.lr*layer.dW/(np.sqrt(self.hW) +1e-7)\n",
        "        layer.B -= self.lr*layer.dB/(np.sqrt(self.hB) +1e-7)\n",
        "        \n",
        "        return layer\n",
        "    \n",
        "class ReLU():\n",
        "    \"\"\"\n",
        "    Activation function : ReLU function\n",
        "    \"\"\"\n",
        "    def __init__(self):\n",
        "        pass\n",
        "        \n",
        "    def forward(self,A):\n",
        "        self.A = A\n",
        "        return np.maximum(self.A,0)\n",
        "    \n",
        "    def backward(self,dZ):\n",
        "        \n",
        "        return np.where(self.A>0,dZ,0)\n",
        "    \n",
        "class Softmax():\n",
        "    \"\"\"\n",
        "    Activation Function : Softmax Function\n",
        "    \"\"\"\n",
        "    def __init__(self):\n",
        "        pass\n",
        "        \n",
        "    def forward(self,A):\n",
        "        \n",
        "        return np.exp(A-np.max(A))/np.sum(np.exp(A-np.max(A)),axis=1,keepdims=True)\n",
        "    \n",
        "    def backward(self,dZ):\n",
        "        return dZ\n",
        "    \n",
        "# Mini-batch processing class\n",
        "class GetMiniBatch:\n",
        "    \"\"\"\n",
        "    Iterator to get the mini-batch\n",
        "\n",
        "    Parameters\n",
        "    ----------\n",
        "    X : ndarray of the following form, shape (n_samples, n_features)\n",
        "      Training data\n",
        "    y : ndarray of the following form, shape (n_samples, 1)\n",
        "      correct value\n",
        "    batch_size : int\n",
        "      Batch size\n",
        "    seed : int\n",
        "      Seeding random numbers in NumPy\n",
        "    \"\"\"\n",
        "    def __init__(self, X, y, batch_size = 20, seed=None):\n",
        "        self.batch_size = batch_size\n",
        "        np.random.seed(seed)\n",
        "        shuffle_index = np.random.permutation(np.arange(X.shape[0]))\n",
        "        self._X = X[shuffle_index]\n",
        "        self._y = y[shuffle_index]\n",
        "        self._stop = np.ceil(X.shape[0]/self.batch_size).astype(np.int)\n",
        "        \n",
        "    def __len__(self):\n",
        "        return self._stop\n",
        "    \n",
        "    def __getitem__(self,item):\n",
        "        p0 = item*self.batch_size\n",
        "        p1 = item*self.batch_size + self.batch_size\n",
        "        return self._X[p0:p1], self._y[p0:p1] \n",
        "    \n",
        "    def __iter__(self):\n",
        "        self._counter = 0\n",
        "        return self\n",
        "    \n",
        "    def __next__(self):\n",
        "        if self._counter >= self._stop:\n",
        "            raise StopIteration()\n",
        "        p0 = self._counter*self.batch_size\n",
        "        p1 = self._counter*self.batch_size + self.batch_size\n",
        "        self._counter += 1\n",
        "        return self._X[p0:p1], self._y[p0:p1]"
      ],
      "execution_count": 3,
      "outputs": []
    },
    {
      "cell_type": "code",
      "metadata": {
        "id": "i-Bu5Z0F8ta2"
      },
      "source": [
        "# 畳み込み層の重みとバイアスの初期化のためのクラス\n",
        "class SimpleInitializerConv2d:\n",
        "    \"\"\"重みとバイアスの初期化（畳込み用）\"\"\"\n",
        "    def __init__(self, sigma=0.01):\n",
        "        \"\"\"コンストラクタ\n",
        "        Parameters\n",
        "        --------------\n",
        "        sigma : ガウス分布の標準偏差\n",
        "        \"\"\"\n",
        "        self.sigma = sigma\n",
        "        \n",
        "    def W(self, F, C, FH, FW):\n",
        "        \"\"\"重み初期化\n",
        "        Parameters\n",
        "        ----------\n",
        "        F : フィルタ数\n",
        "        C : チャンネル数\n",
        "        FH : フィルターの高さ\n",
        "        FW : フィルターの横幅\n",
        "        \"\"\"\n",
        "        return self.sigma * np.random.randn(F,C,FH,FW)\n",
        "    \n",
        "    def B(self, F):\n",
        "        \"\"\"バイアス初期化\n",
        "        Parameters\n",
        "        ----------\n",
        "        F : フィルタ数\n",
        "        \"\"\"\n",
        "        return np.zeros(F)"
      ],
      "execution_count": 4,
      "outputs": []
    },
    {
      "cell_type": "markdown",
      "metadata": {
        "id": "okdKI2QC2baT"
      },
      "source": [
        "【問題1】2次元畳み込み層の作成\n",
        "\n",
        "1次元畳み込み層のクラスConv1dを発展させ、2次元畳み込み層のクラスConv2dを作成してください。\n",
        "\n",
        "\n",
        "フォワードプロパゲーションの数式は以下のようになります。\n",
        "\n",
        "$$\n",
        "a_{i,j,m} = \\sum_{k=0}^{K-1}\\sum_{s=0}^{F_{h}-1}\\sum_{t=0}^{F_{w}-1}x_{(i+s),(j+t),k}w_{s,t,k,m}+b_{m}\n",
        "$$\n",
        "\n",
        "$a_{i,j,m}$ : 出力される配列のi行j列、mチャンネルの値\n",
        "\n",
        "\n",
        "$i$ : 配列の行方向のインデックス\n",
        "\n",
        "\n",
        "$j$ : 配列の列方向のインデックス\n",
        "\n",
        "\n",
        "$m$ : 出力チャンネルのインデックス\n",
        "\n",
        "\n",
        "$K$ : 入力チャンネル数\n",
        "\n",
        "\n",
        "$F_{h}, F_{w}$ : 高さ方向（h）と幅方向（w）のフィルタのサイズ\n",
        "\n",
        "\n",
        "$x_{(i+s),(j+t),k}$ : 入力の配列の(i+s)行(j+t)列、kチャンネルの値\n",
        "\n",
        "\n",
        "$w_{s,t,k,m}$ : 重みの配列のs行t列目。kチャンネルの入力に対して、mチャンネルへ出力する重み\n",
        "\n",
        "\n",
        "$b_m$ : mチャンネルへの出力のバイアス項\n",
        "\n",
        "\n",
        "すべてスカラーです。\n",
        "\n",
        "\n",
        "次に更新式です。1次元畳み込み層や全結合層と同じ形です。\n",
        "\n",
        "$$\n",
        "w_{s,t,k,m}^{\\prime} = w_{s,t,k,m} - \\alpha \\frac{\\partial L}{\\partial w_{s,t,k,m}} \\\\\n",
        "b_{m}^{\\prime} = b_{m} - \\alpha \\frac{\\partial L}{\\partial b_{m}}\n",
        "$$\n",
        "\n",
        "$\\alpha$ : 学習率\n",
        "\n",
        "\n",
        "$\\frac{\\partial L}{\\partial w_{s,t,k,m}}$ : $w_{s,t,k,m}$ に関する損失 $L$ の勾配\n",
        "\n",
        "\n",
        "$\\frac{\\partial L}{\\partial b_{m}}$ : $b_{m}$ に関する損失 $L$ の勾配\n",
        "\n",
        "\n",
        "勾配 $\\frac{\\partial L}{\\partial w_{s,t,k,m}}$ や $\\frac{\\partial L}{\\partial b_{m}}$ を求めるためのバックプロパゲーションの数式が以下である。\n",
        "\n",
        "$$\n",
        "\\frac{\\partial L}{\\partial w_{s,t,k,m}} = \\sum_{i=0}^{N_{out,h}-1}\\sum_{j=0}^{N_{out,w}-1} \\frac{\\partial L}{\\partial a_{i,j,m}}x_{(i+s)(j+t),k}\\\\\n",
        "\\frac{\\partial L}{\\partial b_{m}} = \\sum_{i=0}^{N_{out,h}-1}\\sum_{j=0}^{N_{out,w}-1}\\frac{\\partial L}{\\partial a_{i,j,m}}\n",
        "$$\n",
        "\n",
        "$\\frac{\\partial L}{\\partial a_i}$ : 勾配の配列のi行j列、mチャンネルの値\n",
        "\n",
        "\n",
        "$N_{out,h},N_{out,w}$ : 高さ方向（h）と幅方向（w）の出力のサイズ\n",
        "\n",
        "\n",
        "前の層に流す誤差の数式は以下です。\n",
        "\n",
        "$$\n",
        "\\frac{\\partial L}{\\partial x_{i,j,k}} = \\sum_{m=0}^{M-1}\\sum_{s=0}^{F_{h}-1}\\sum_{t=0}^{F_{w}-1} \\frac{\\partial L}{\\partial a_{(i-s),(j-t),m}}w_{s,t,k,m}\n",
        "$$\n",
        "\n",
        "$\\frac{\\partial L}{\\partial x_{i,j,k}}$ : 前の層に流す誤差の配列のi列j行、kチャンネルの値\n",
        "\n",
        "\n",
        "$M$ : 出力チャンネル数\n",
        "\n",
        "\n",
        "ただし、 $i-s<0$ または $i-s>N_{out,h}-1$ または $j-t<0$ または $j-t>N_{out,w}-1$ のとき $\\frac{\\partial L}{\\partial a_{(i-s),(j-t),m}} =0$ です。"
      ]
    },
    {
      "cell_type": "code",
      "metadata": {
        "id": "yJ3Xbp0g0unl"
      },
      "source": [
        "class SimpleConv2d():\n",
        "    \"\"\"2次元畳み込みレイヤ\"\"\"\n",
        "    def __init__(self, F, C, FH, FW, P, S,\n",
        "                 initializer=None,optimizer=None,activation=None):\n",
        "        \"\"\"コンストラクタ\n",
        "        Parameters\n",
        "        -------------\n",
        "        F : フィルタ数\n",
        "        C : チャンネル数\n",
        "        FH : フィルターの高さ\n",
        "        FW : フィルターの横幅\n",
        "        P : パディング数\n",
        "        S : ストライド数\n",
        "        initializer : 初期化\n",
        "        optimizer : 最適化手法\n",
        "        activation : 活性化関数\n",
        "        \"\"\"\n",
        "        self.P = P\n",
        "        self.S = S\n",
        "        self.initializer = initializer\n",
        "        self.optimizer = optimizer\n",
        "        self.activation = activation\n",
        "        # 重みとバイアスの初期化\n",
        "        self.W = self.initializer.W(F,C,FH,FW)\n",
        "        self.B = self.initializer.B(F)\n",
        "        \n",
        "    def output_shape2d(self,H,W,PH,PW,FH,FW,SH,SW):\n",
        "        \"\"\"出力サイズ計算\n",
        "        H : 入力配列の高さ\n",
        "        W : 入力配列の横幅\n",
        "        FH : フィルターの高さ\n",
        "        FW : フィルターの横幅\n",
        "        PH : パディング数（縦）\n",
        "        PW : パディング数（横）\n",
        "        SH : ストライド数（縦）\n",
        "        SW : ストライド数（横）\n",
        "        \"\"\"\n",
        "        # 高さ計算\n",
        "        OH = (H +2*PH -FH)/SH +1\n",
        "        # 横幅計算\n",
        "        OW = (W +2*PW -FW)/SW +1\n",
        "        \n",
        "        return int(OH),int(OW)\n",
        "    \n",
        "    def forward(self, X,debug=False):\n",
        "        \"\"\"順伝播\n",
        "        Parameters\n",
        "        ------------\n",
        "        X : 入力配列\n",
        "        \"\"\"\n",
        "        # Xをメンバ変数化\n",
        "        self.X = X\n",
        "        # 入力配列と重みの大きさ取得\n",
        "        N,C,H,W = self.X.shape\n",
        "        F,C,FH,FW = self.W.shape\n",
        "        # 出力サイズ計算\n",
        "        OH,OW = self.output_shape2d(H,W,self.P,self.P,FH,FW,self.S,self.S)\n",
        "        # 各種サイズをメンバ変数化\n",
        "        self.params = N,C,H,W,F,FH,FW,OH,OW\n",
        "        # 返り値の初期化（これを上書きしていく）\n",
        "        A = np.zeros([N,F,OH,OW])\n",
        "        # 計算のためパディング処理\n",
        "        self.X_pad = np.pad(self.X,((0,0),(0,0),(self.P,self.P),(self.P,self.P)))\n",
        "\n",
        "        # バッチ数でループ\n",
        "        for n in range(N):\n",
        "            # フィルター数でループ\n",
        "            for ch in range(F):\n",
        "                # 高さでループ（ストライドを考慮）\n",
        "                for row in range(0,H,self.S):\n",
        "                    # 横幅でループ（ストライドを考慮）\n",
        "                    for col in range(0,W,self.S):\n",
        "                        if self.P == 0 and (W-2 <= col or H-2<=row):\n",
        "                            continue\n",
        "                        # 各要素計算\n",
        "                        A[n,ch,row,col] = \\\n",
        "                        np.sum(self.X_pad[n,:,row:row+FH,col:col+FW]\n",
        "                               *self.W[ch,:,:,:]) \\\n",
        "                        +self.B[ch]\n",
        "        # 活性化関数に通して返す\n",
        "        if debug==True:\n",
        "            return A\n",
        "        else:\n",
        "            return  self.activation.forward(A)\n",
        "    \n",
        "    def backward(self, dZ,debug=False):\n",
        "        \"\"\"逆伝播\n",
        "        Parameters\n",
        "        -----------\n",
        "        dZ : 逆伝播してきた値\n",
        "        \"\"\"\n",
        "        # 活性化関数の逆伝播処理\n",
        "        if debug==True:\n",
        "            dA = dZ\n",
        "        else:\n",
        "            dA = self.activation.backward(dZ)\n",
        "        # 順伝播の際にメンバ変数化しておいた各種サイズを取得\n",
        "        N,C,H,W,F,FH,FW,OH,OW = self.params\n",
        "        # 返り値と重みとバイアスの初期化（これを上書きしていく）\n",
        "        dZ = np.zeros(self.X_pad.shape) # X_padのサイズで初期化していることに注意\n",
        "        self.dW = np.zeros(self.W.shape)\n",
        "        self.dB = np.zeros(self.B.shape)\n",
        "        \n",
        "        # dZ（逆伝播）\n",
        "        # バッチ数でループ\n",
        "        for n in range(N):\n",
        "            # フィルター数でループ\n",
        "            for ch in range(F):\n",
        "                # 高さでループ（ストライドを考慮）\n",
        "                for row in range(0,H,self.S):\n",
        "                    # 横幅でループ（ストライドを考慮）\n",
        "                    for col in range(0,W,self.S):\n",
        "                        if self.P == 0 and (W-2 <= col or H-2<=row):\n",
        "                            continue\n",
        "                        # 各要素計算\n",
        "                        dZ[n,:,row:row+FH,col:col+FW] += dA[n,ch,row,col]*self.W[ch,:,:,:]\n",
        "        \n",
        "        # X_padのサイズになっているので、不要な部分を削除\n",
        "        if self.P == 0:\n",
        "            dZ = np.delete(dZ,[0,H-1],axis=2)\n",
        "            dZ = np.delete(dZ,[0,W-1],axis=3)\n",
        "        else:\n",
        "            dl_rows = range(self.P),range(H+self.P,H+2*self.P,1)\n",
        "            dl_cols = range(self.P),range(W+self.P,W+2*self.P,1)\n",
        "            dZ = np.delete(dZ,dl_rows,axis=2)\n",
        "            dZ = np.delete(dZ,dl_cols,axis=3)\n",
        " \n",
        "        # dW（重み）\n",
        "        # バッチ数でループ\n",
        "        for n in range(N):\n",
        "            # フィルター数でループ\n",
        "            for ch in range(F):\n",
        "                # 高さでループ\n",
        "                for row in range(OH):\n",
        "                    # 横幅でループ\n",
        "                    for col in range(OW):\n",
        "                        # 各要素計算\n",
        "                        self.dW[ch,:,:,:] += dA[n,ch,row,col]*self.X_pad[n,:,row:row+FH,col:col+FW]\n",
        "        \n",
        "        # dB（バイアス）\n",
        "        # フィルター数でループ\n",
        "        for ch in range(F):\n",
        "            self.dB[ch] = np.sum(dA[:,ch,:,:])\n",
        "        \n",
        "        # 重み更新\n",
        "        self = self.optimizer.update(self)\n",
        "        \n",
        "        return dZ"
      ],
      "execution_count": 5,
      "outputs": []
    },
    {
      "cell_type": "markdown",
      "metadata": {
        "id": "V2U_6nIh3RTs"
      },
      "source": [
        "**【問題2】小さな配列での2次元畳み込み層の実験**\n",
        "\n",
        "次に示す小さな配列でフォワードプロパゲーションとバックプロパゲーションが正しく行えているか確認してください。\n",
        "\n",
        "\n",
        "入力 x、重み w を次のようにします。"
      ]
    },
    {
      "cell_type": "code",
      "metadata": {
        "id": "60HZn7JT3af8"
      },
      "source": [
        "# CNN2 のフォワードを流す時の入力データ\n",
        "# (1,1,4,4)\n",
        "x = np.array([[[[ 1,  2,  3,  4],\n",
        "                [ 5,  6,  7,  8],\n",
        "                [ 9, 10, 11, 12],\n",
        "                [13, 14, 15, 16]]]])\n",
        "# (2,3,3)\n",
        "w = np.array([[[ 0.,  0.,  0.],\n",
        "               [ 0.,  1.,  0.],\n",
        "               [ 0., -1.,  0.]],\n",
        "              [[ 0.,  0.,  0.],\n",
        "               [ 0., -1.,  1.],\n",
        "               [ 0.,  0.,  0.]]])"
      ],
      "execution_count": 6,
      "outputs": []
    },
    {
      "cell_type": "markdown",
      "metadata": {
        "id": "JlkZDpPU3dao"
      },
      "source": [
        "フォワードプロパゲーションをすると出力は次のようになります。"
      ]
    },
    {
      "cell_type": "code",
      "metadata": {
        "id": "sj5L5mLO3aec",
        "colab": {
          "base_uri": "https://localhost:8080/"
        },
        "outputId": "65ac425d-6120-435d-8508-d241577521e9"
      },
      "source": [
        "array([[[-4, -4],\n",
        "        [-4, -4]],\n",
        "       [[ 1,  1],\n",
        "        [ 1,  1]]])"
      ],
      "execution_count": 8,
      "outputs": [
        {
          "output_type": "execute_result",
          "data": {
            "text/plain": [
              "array([[[-4, -4],\n",
              "        [-4, -4]],\n",
              "\n",
              "       [[ 1,  1],\n",
              "        [ 1,  1]]])"
            ]
          },
          "metadata": {},
          "execution_count": 8
        }
      ]
    },
    {
      "cell_type": "markdown",
      "metadata": {
        "id": "5eSh9T5r3iS4"
      },
      "source": [
        "次にバックプロパゲーションを考えます。誤差は次のようであったとします。"
      ]
    },
    {
      "cell_type": "code",
      "metadata": {
        "id": "ULjcbPus3Y2s"
      },
      "source": [
        "# (?,1,2,2,)\n",
        "delta = np.array([[[ -4,  -4],\n",
        "                   [ 10,  11]],\n",
        "                  [[  1,  -7],\n",
        "                   [  1, -11]]])"
      ],
      "execution_count": 9,
      "outputs": []
    },
    {
      "cell_type": "markdown",
      "metadata": {
        "id": "Vm1K-BuH4Ypt"
      },
      "source": [
        "バックプロパゲーションをすると次のような値になります。パディングがある場合は出力は次のようになります。"
      ]
    },
    {
      "cell_type": "code",
      "metadata": {
        "id": "V64_Jsod4aZM"
      },
      "source": [
        "array([[-5,  4],\n",
        "       [13, 27]])"
      ],
      "execution_count": null,
      "outputs": []
    },
    {
      "cell_type": "code",
      "metadata": {
        "colab": {
          "base_uri": "https://localhost:8080/"
        },
        "id": "5nA9M9rU9fhq",
        "outputId": "3fc29762-fff9-4539-8804-fa3a2453cae1"
      },
      "source": [
        "# データの定義\n",
        "x = np.array([[[[ 1,  2,  3,  4],[ 5,  6,  7,  8],[ 9, 10, 11, 12],[13, 14, 15, 16]]]])\n",
        "w = np.array([[[[ 0.,  0.,  0.],[ 0.,  1.,  0.],[ 0., -1.,  0.]]],[[[ 0.,  0.,  0.],[ 0., -1.,  1.],[ 0.,  0.,  0.]]]])\n",
        "da = np.array([[[[ -4,  -4], [ 10,  11]],[[  1,  -7],[  1, -11]]]])\n",
        "\n",
        "# インスタンス定義と重み上書き\n",
        "simple_conv_2d = SimpleConv2d(F=2, C=1, FH=3, FW=3, P=0, S=1,initializer=SimpleInitializerConv2d(),optimizer=SGD(),activation=ReLU())\n",
        "simple_conv_2d.W = w\n",
        "\n",
        "# 順伝播\n",
        "A = simple_conv_2d.forward(x,True)\n",
        "print(A)\n",
        "\n",
        "# 逆伝播\n",
        "dZ = simple_conv_2d.backward(da,True)\n",
        "print(dZ)"
      ],
      "execution_count": 10,
      "outputs": [
        {
          "output_type": "stream",
          "name": "stdout",
          "text": [
            "[[[[-4. -4.]\n",
            "   [-4. -4.]]\n",
            "\n",
            "  [[ 1.  1.]\n",
            "   [ 1.  1.]]]]\n",
            "[[[[-5.  4.]\n",
            "   [13. 27.]]]]\n"
          ]
        }
      ]
    },
    {
      "cell_type": "code",
      "metadata": {
        "colab": {
          "base_uri": "https://localhost:8080/"
        },
        "id": "0uiRF8pE9i-Z",
        "outputId": "093c2e1b-25e8-4c30-c881-cf69568211dc"
      },
      "source": [
        "# mnistを使ったテスト\n",
        "# ストライド/パディング/バッチ数の定義\n",
        "S = 1\n",
        "P = 0\n",
        "N = 5 \n",
        "\n",
        "# 入力配列と重みのサイズ定義\n",
        "N,C,H,W = (5,1,28,28)\n",
        "F,C,FH,FW = (4,1,3,3)\n",
        "\n",
        "# X（入力配列生成）\n",
        "X_sample = X_train[0:N].reshape(N,C,H,W)\n",
        "\n",
        "# インスタンス生成\n",
        "simple_conv_2d = SimpleConv2d(F=4, C=1, FH=3, FW=3, P=1, S=1,initializer=SimpleInitializerConv2d(),optimizer=SGD(),activation=ReLU())\n",
        "\n",
        "# 順伝播\n",
        "A = simple_conv_2d.forward(X_sample)\n",
        "print(A.shape)\n",
        "\n",
        "# 逆伝播\n",
        "dA = np.ones(A.shape)\n",
        "dZ = simple_conv_2d.backward(X_sample)\n",
        "print(dZ.shape)"
      ],
      "execution_count": 11,
      "outputs": [
        {
          "output_type": "stream",
          "name": "stdout",
          "text": [
            "(5, 4, 28, 28)\n",
            "(5, 1, 28, 28)\n"
          ]
        }
      ]
    },
    {
      "cell_type": "markdown",
      "metadata": {
        "id": "BbO-hto84ecl"
      },
      "source": [
        "**【問題3】2次元畳み込み後の出力サイズ**\n",
        "\n",
        "畳み込みを行うと特徴マップのサイズが変化します。どのように変化するかは以下の数式から求められます。この計算を行う関数を作成してください。\n",
        "\n",
        "$$\n",
        "N_{h,out} =  \\frac{N_{h,in}+2P_{h}-F_{h}}{S_{h}} + 1\\\\\n",
        "N_{w,out} =  \\frac{N_{w,in}+2P_{w}-F_{w}}{S_{w}} + 1\n",
        "$$\n",
        "\n",
        "$N_{out}$ : 出力のサイズ（特徴量の数）\n",
        "\n",
        "\n",
        "$N_{in}$ : 入力のサイズ（特徴量の数）\n",
        "\n",
        "\n",
        "$P$ : ある方向へのパディングの数\n",
        "\n",
        "\n",
        "$F$ : フィルタのサイズ\n",
        "\n",
        "\n",
        "$S$ : ストライドのサイズ\n",
        "\n",
        "\n",
        "$h$ が高さ方向、 $w$ が幅方向である"
      ]
    },
    {
      "cell_type": "code",
      "metadata": {
        "colab": {
          "base_uri": "https://localhost:8080/"
        },
        "id": "F4LCiJyF904r",
        "outputId": "b6759d76-464d-4786-80a5-1be7d5db4ee5"
      },
      "source": [
        "simple_conv_2d.output_shape2d(H=6,W=6,PH=0,PW=0,FH=3,FW=3,SH=1,SW=1)"
      ],
      "execution_count": 12,
      "outputs": [
        {
          "output_type": "execute_result",
          "data": {
            "text/plain": [
              "(4, 4)"
            ]
          },
          "metadata": {},
          "execution_count": 12
        }
      ]
    },
    {
      "cell_type": "markdown",
      "metadata": {
        "id": "s0087gPQ4sdz"
      },
      "source": [
        "**【問題4】最大プーリング層の作成**\n",
        "\n",
        "最大プーリング層のクラスMaxPool2Dを作成してください。プーリング層は数式で表さない方が分かりやすい部分もありますが、数式で表すとフォワードプロパゲーションは以下のようになります。\n",
        "\n",
        "$$\n",
        "a_{i,j,k} = \\max_{(p,q)\\in P_{i,j}}x_{p,q,k}\n",
        "$$\n",
        "\n",
        "$P_{i,j}$ : i行j列への出力する場合の入力配列のインデックスの集合。 $S_{h}×S_{w}$ の範囲内の行（p）と列（q）\n",
        "\n",
        "\n",
        "$S_{h}, S_{w}$ : 高さ方向（h）と幅方向（w）のストライドのサイズ\n",
        "\n",
        "\n",
        "$(p,q)\\in P_{i,j}$ : $P_{i,j}$ に含まれる行（p）と列（q）のインデックス\n",
        "\n",
        "\n",
        "$a_{i,j,m}$ : 出力される配列のi行j列、kチャンネルの値\n",
        "\n",
        "\n",
        "$x_{p,q,k}$ : 入力の配列のp行q列、kチャンネルの値\n",
        "\n",
        "\n",
        "ある範囲の中でチャンネル方向の軸は残したまま最大値を計算することになります。\n",
        "\n",
        "\n",
        "バックプロパゲーションのためには、フォワードプロパゲーションのときの最大値のインデックス $(p,q)$ を保持しておく必要があります。フォワード時に最大値を持っていた箇所にそのままの誤差を流し、そこ以外には0を入れるためです。"
      ]
    },
    {
      "cell_type": "code",
      "metadata": {
        "id": "XdWD7Ljq94bu"
      },
      "source": [
        "class MaxPool2D():\n",
        "    \"\"\"最大プーリング層\n",
        "    \"\"\"\n",
        "    def __init__(self,P):\n",
        "        \"\"\"コンストラクタ\n",
        "        Parameters\n",
        "        -----------\n",
        "        P : プーリング幅\n",
        "        \"\"\"\n",
        "        self.P = P\n",
        "        # 順伝播の返り値\n",
        "        self.PA = None\n",
        "        # 最大値のインデックス記録\n",
        "        self.Pindex = None\n",
        "        \n",
        "    def forward(self,A):\n",
        "        \"\"\"順伝播\n",
        "        Parameters\n",
        "        -----------\n",
        "        A : 入力配列\n",
        "        \"\"\"\n",
        "        # 入力配列のサイズ\n",
        "        N,F,OH,OW = A.shape\n",
        "        # \n",
        "        PS = self.P\n",
        "        # 縦軸と横軸のスライド回数\n",
        "        PH,PW = int(OH/PS),int(OW/PS)\n",
        "        \n",
        "        # 各種パラメータの保存\n",
        "        self.params = N,F,OH,OW,PS,PH,PW\n",
        "        \n",
        "        # プーリング処理のための初期化\n",
        "        self.PA = np.zeros([N,F,PH,PW])\n",
        "        self.Pindex = np.zeros([N,F,PH,PW])\n",
        "        \n",
        "        # バッチ数でループ\n",
        "        for n in range(N):\n",
        "            # フィルター数でループ\n",
        "            for ch in range(F):\n",
        "                # 縦方向スライド回数\n",
        "                for row in range(PH):\n",
        "                    # 横方向スライド回数\n",
        "                    for col in range(PW):\n",
        "                        # 順伝播の値計算\n",
        "                        self.PA[n,ch,row,col] = \\\n",
        "                        np.max(A[n,ch,row*PS:row*PS+PS,col*PS:col*PS+PS])\n",
        "                        # 最大値のインデックス記録\n",
        "                        self.Pindex[n,ch,row,col] = \\\n",
        "                        np.argmax(A[n,ch,row*PS:row*PS+PS,col*PS:col*PS+PS])\n",
        "                        \n",
        "        return self.PA\n",
        "    \n",
        "    def backward(self,dA):\n",
        "        \"\"\"逆伝播の値\n",
        "        Parameters\n",
        "        -----------\n",
        "        dA : 逆伝播してきた値\n",
        "        \"\"\"\n",
        "        # 保存しておいた各種パラメータ取得\n",
        "        N,F,OH,OW,PS,PH,PW = self.params\n",
        "        # 逆伝播の値\n",
        "        dP = np.zeros([N,F,OH,OW])\n",
        "        # バッチ数でループ\n",
        "        for n in range(N):\n",
        "            # フィルター数でループ\n",
        "            for ch in range(F):\n",
        "                # 縦方向スライド回数\n",
        "                for row in range(PH):\n",
        "                    # 横方向スライド回数\n",
        "                    for col in range(PW):\n",
        "                        # 最大値を取得してきたインデックスの取得\n",
        "                        idx = self.Pindex[n,ch,row,col]\n",
        "                        # 逆伝播の一時保存変数\n",
        "                        tmp = np.zeros((PS*PS))\n",
        "                        for i in range(PS*PS):\n",
        "                            # 該当インデックスはその値\n",
        "                            if i == idx:\n",
        "                                tmp[i] = dA[n,ch,row,col]\n",
        "                            # それ以外は0\n",
        "                            else:\n",
        "                                tmp[i] = 0\n",
        "                        # 返り値の該当場所に格納\n",
        "                        dP[n,ch,row*PS:row*PS+PS,col*PS:col*PS+PS] = tmp.reshape(PS,PS)\n",
        "        \n",
        "        return dP"
      ],
      "execution_count": 13,
      "outputs": []
    },
    {
      "cell_type": "code",
      "metadata": {
        "colab": {
          "base_uri": "https://localhost:8080/"
        },
        "id": "Ifxk6IKW99kZ",
        "outputId": "66372895-37e5-45e8-dc70-f6889fecf11b"
      },
      "source": [
        "# テスト\n",
        "# データ準備\n",
        "X = np.random.randint(0,9,36).reshape(1,1,6,6)\n",
        "print(\"---------------X\")\n",
        "print(X)\n",
        "\n",
        "# インスタンス生成と順伝播\n",
        "Pooling = MaxPool2D(P=2)\n",
        "A = Pooling.forward(X)\n",
        "print(\"---------------A\")\n",
        "print(A)\n",
        "\n",
        "# 逆伝播してきた配列定義\n",
        "dA = np.random.randint(0,9,9).reshape(A.shape)\n",
        "print(\"---------------dA\")\n",
        "print(dA)\n",
        "\n",
        "# 逆伝播\n",
        "dZ = Pooling.backward(dA)\n",
        "print(\"---------------dZ\")\n",
        "print(dZ)"
      ],
      "execution_count": 14,
      "outputs": [
        {
          "output_type": "stream",
          "name": "stdout",
          "text": [
            "---------------X\n",
            "[[[[5 3 3 3 2 1]\n",
            "   [8 2 6 6 7 5]\n",
            "   [2 6 1 8 4 1]\n",
            "   [4 0 3 7 0 7]\n",
            "   [4 8 6 3 3 0]\n",
            "   [5 7 3 8 8 2]]]]\n",
            "---------------A\n",
            "[[[[8. 6. 7.]\n",
            "   [6. 8. 7.]\n",
            "   [8. 8. 8.]]]]\n",
            "---------------dA\n",
            "[[[[0 4 1]\n",
            "   [5 2 3]\n",
            "   [0 8 8]]]]\n",
            "---------------dZ\n",
            "[[[[0. 0. 0. 0. 0. 0.]\n",
            "   [0. 0. 4. 0. 1. 0.]\n",
            "   [0. 5. 0. 2. 0. 0.]\n",
            "   [0. 0. 0. 0. 0. 3.]\n",
            "   [0. 0. 0. 0. 0. 0.]\n",
            "   [0. 0. 0. 8. 8. 0.]]]]\n"
          ]
        }
      ]
    },
    {
      "cell_type": "markdown",
      "metadata": {
        "id": "9H3nlQSC5CSe"
      },
      "source": [
        "**【問題5】（アドバンス課題）平均プーリングの作成**\n",
        "\n",
        "平均プーリング層のクラスAveragePool2Dを作成してください。\n",
        "\n",
        "\n",
        "範囲内の最大値ではなく、平均値を出力とするプーリング層です。\n",
        "\n",
        "\n",
        "画像認識関係では最大プーリング層が一般的で、平均プーリングはあまり使われません。"
      ]
    },
    {
      "cell_type": "markdown",
      "metadata": {
        "id": "JV-LYX_o5L6P"
      },
      "source": [
        "**【問題6】平滑化**\n",
        "\n",
        "平滑化するためのFlattenクラスを作成してください。\n",
        "\n",
        "\n",
        "フォワードのときはチャンネル、高さ、幅の3次元を1次元にreshapeします。その値は記録しておき、バックワードのときに再びreshapeによって形を戻します。\n",
        "\n",
        "\n",
        "この平滑化のクラスを挟むことで出力前の全結合層に適した配列を作ることができます。"
      ]
    },
    {
      "cell_type": "code",
      "metadata": {
        "id": "R8_MrN0U-KvO"
      },
      "source": [
        "class Flatten:\n",
        "    \"\"\"平滑化レイヤー\"\"\"\n",
        "    def __ini__(self):\n",
        "        \"\"\"コンストラクタ\"\"\"\n",
        "        pass\n",
        "    def forward(self,X):\n",
        "        \"\"\"順伝播\n",
        "        Parameters\n",
        "        -----------\n",
        "        X : 入力配列\n",
        "        \"\"\"\n",
        "        self.shape = X.shape\n",
        "        return X.reshape(len(X),-1)\n",
        "\n",
        "    def backward(self,X):\n",
        "        \"\"\"逆伝播の値\n",
        "        Parameters\n",
        "        -----------\n",
        "        X : 逆伝播してきた値\n",
        "        \"\"\"\n",
        "        return X.reshape(self.shape)        "
      ],
      "execution_count": 15,
      "outputs": []
    },
    {
      "cell_type": "code",
      "metadata": {
        "colab": {
          "base_uri": "https://localhost:8080/"
        },
        "id": "R63bbg1X-PJV",
        "outputId": "2a1ae85e-1b33-4a65-d531-e79ff171b143"
      },
      "source": [
        "# テスト\n",
        "# データ準備\n",
        "TEST = np.zeros([20,2,5,5])\n",
        "\n",
        "# インスタンス生成\n",
        "flt = Flatten()\n",
        "\n",
        "# 順伝播\n",
        "flat_forward = flt.forward(TEST)\n",
        "\n",
        "# 逆伝播\n",
        "flat_back = flt.backward(flat_forward)\n",
        "\n",
        "print('Forward_shape:',flat_forward.shape)\n",
        "print('Backward_shape:',flat_back.shape)"
      ],
      "execution_count": 16,
      "outputs": [
        {
          "output_type": "stream",
          "name": "stdout",
          "text": [
            "Forward_shape: (20, 50)\n",
            "Backward_shape: (20, 2, 5, 5)\n"
          ]
        }
      ]
    },
    {
      "cell_type": "markdown",
      "metadata": {
        "id": "x2lD_8F-53yT"
      },
      "source": [
        "# 3.検証"
      ]
    },
    {
      "cell_type": "markdown",
      "metadata": {
        "id": "VXXQCjXc58C8"
      },
      "source": [
        "**【問題7】学習と推定**\n",
        "\n",
        "作成したConv2dを使用してMNISTを学習・推定し、Accuracyを計算してください。\n",
        "\n",
        "\n",
        "精度は低くともまずは動くことを目指してください。\n",
        "\n"
      ]
    },
    {
      "cell_type": "code",
      "metadata": {
        "id": "EnQTcZli-bQ-"
      },
      "source": [
        "# Scratch CNN\n",
        "class Scratch2dCNNClassifier():\n",
        "    \"\"\"CNNスクラッチ\n",
        "    \"\"\"\n",
        "    def __init__(self, NN, CNN, n_epoch=5, n_batch=1, verbose = False):\n",
        "        \"\"\"コンストラクタ\n",
        "        Parameters\n",
        "        -----------\n",
        "        NN : 辞書型でレイヤーのインスタンスを格納\n",
        "        CNN : 辞書型でレイヤーのインスタンスを格納\n",
        "        n_epoch : 学習回数\n",
        "        n_batch : バッチ数\n",
        "        verbose : ログ出力するか否か\n",
        "        \"\"\"\n",
        "        self.NN = NN\n",
        "        self.CNN = CNN\n",
        "        self.n_epoch = n_epoch\n",
        "        self.n_batch = n_batch\n",
        "        self.verbose = verbose\n",
        "        # ログ記録用\n",
        "        self.log_loss = np.zeros(self.n_epoch)\n",
        "        self.log_acc = np.zeros(self.n_epoch)\n",
        "        \n",
        "        \n",
        "    def loss_function(self,y,yt):\n",
        "        \"\"\"クロスエントロピー誤差\n",
        "        Parameters\n",
        "        ----------\n",
        "        y : 予測値\n",
        "        yt : 正解データ\n",
        "        \"\"\"\n",
        "        delta = 1e-7\n",
        "        return -np.mean(yt*np.log(y+delta))\n",
        "    \n",
        "    def accuracy(self,Z,Y):\n",
        "        \"\"\"クロスエントロピー誤差\n",
        "        Parameters\n",
        "        ----------\n",
        "        Z : 予測値\n",
        "        Y : 正解データ\n",
        "        \"\"\"\n",
        "        return accuracy_score(Y,Z)\n",
        "                \n",
        "    def fit(self, X, y, X_val=False, y_val=False):\n",
        "        \"\"\"学習\n",
        "        Parameters\n",
        "        ----------\n",
        "        X : 訓練データの説明変数\n",
        "        y : 訓練データの目的変数\n",
        "        X_val : 評価データの説明変数\n",
        "        y_val : 評価データの目的変数\n",
        "        \"\"\"\n",
        "        # 学習回数分ループ\n",
        "        for epoch in range(self.n_epoch):\n",
        "            # ミニバッチイテレータ生成\n",
        "            get_mini_batch = GetMiniBatch(X, y, batch_size=self.n_batch)\n",
        "            # バッチの合計損失格納\n",
        "            self.loss = 0\n",
        "            # ミニバッチイテレータでループ\n",
        "            for mini_X_train, mini_y_train in get_mini_batch:              \n",
        "                ############### 順伝播\n",
        "                # データ準備\n",
        "                forward_data = mini_X_train[:,np.newaxis,:,:]\n",
        "                # 畳込み\n",
        "                for layer in range(len(self.CNN)):\n",
        "                    forward_data = self.CNN[layer].forward(forward_data)\n",
        "                # 平滑化\n",
        "                flt = Flatten()\n",
        "                forward_data = flt.forward(forward_data)\n",
        "                # 通常のNN\n",
        "                for layer in range(len(self.NN)):\n",
        "                    forward_data = self.NN[layer].forward(forward_data)\n",
        "                    \n",
        "                ############### 逆伝播\n",
        "                # データ準備\n",
        "                Z = forward_data\n",
        "                backward_data = (Z - mini_y_train)/self.n_batch\n",
        "                # 通常のNN\n",
        "                for layer in range(len(self.NN)-1,-1,-1):\n",
        "                    backward_data = self.NN[layer].backward(backward_data)\n",
        "                # 平滑化\n",
        "                backward_data = flt.backward(backward_data)\n",
        "                # 畳み込み\n",
        "                for layer in range(len(self.CNN)-1,-1,-1):\n",
        "                    backward_data = self.CNN[layer].backward(backward_data)\n",
        "                \n",
        "                # 損失計算\n",
        "                self.loss += self.loss_function(Z,mini_y_train)\n",
        "            \n",
        "            if self.verbose:\n",
        "                print(self.loss/len(get_mini_batch),self.accuracy(self.predict(X),np.argmax(y,axis=1)))\n",
        "            # 損失記録用\n",
        "            self.log_loss[epoch] = self.loss/len(get_mini_batch)\n",
        "            self.log_acc[epoch] = self.accuracy(self.predict(X),np.argmax(y,axis=1))\n",
        "            \n",
        "    def predict(self, X):\n",
        "        \"\"\"予測\n",
        "        Parameters\n",
        "        ----------\n",
        "        X : 説明変数\n",
        "        \"\"\"\n",
        "        # データ準備\n",
        "        pred_data = X[:,np.newaxis,:,:]\n",
        "        \n",
        "        # 畳込み\n",
        "        for layer in range(len(self.CNN)):\n",
        "            pred_data = self.CNN[layer].forward(pred_data)\n",
        "        # 平滑化\n",
        "        pred_data = flt.forward(pred_data)\n",
        "        # 通常のNN\n",
        "        for layer in range(len(self.NN)):\n",
        "            pred_data = self.NN[layer].forward(pred_data)\n",
        "        # 最も大きい値のインデックスを採用\n",
        "        return np.argmax(pred_data,axis=1)"
      ],
      "execution_count": 17,
      "outputs": []
    },
    {
      "cell_type": "code",
      "metadata": {
        "id": "gab_Lqlq-jPR"
      },
      "source": [
        "# レイヤー群定義\n",
        "NN = {\n",
        "    0:FC(6760, 400, HeInitializer(), AdaGrad(0.01), ReLU()),\n",
        "    1:FC(400, 200, HeInitializer(), AdaGrad(0.01), ReLU()),\n",
        "    2:FC(200, 10, SimpleInitializer(0.01), AdaGrad(0.01), Softmax()),\n",
        "}\n",
        "\n",
        "CNN = {\n",
        "    0:SimpleConv2d(\n",
        "        F=10, C=1, FH=3, FW=3, P=0, S=1,\n",
        "        initializer=SimpleInitializerConv2d(),\n",
        "        optimizer=SGD(),\n",
        "        activation=ReLU())\n",
        "}"
      ],
      "execution_count": 18,
      "outputs": []
    },
    {
      "cell_type": "code",
      "metadata": {
        "id": "8Ju1znv4-k1_"
      },
      "source": [
        "# CNNクラスのインスタンス化\n",
        "cnn1 = Scratch2dCNNClassifier(NN=NN,CNN=CNN,n_epoch=10,n_batch=200,verbose=True)"
      ],
      "execution_count": 19,
      "outputs": []
    },
    {
      "cell_type": "code",
      "metadata": {
        "colab": {
          "base_uri": "https://localhost:8080/"
        },
        "id": "e4TlFWD0-otz",
        "outputId": "d297a02a-e325-4313-9643-8c5f102fd6f0"
      },
      "source": [
        "# 学習\n",
        "cnn1.fit(X_train[0:1000],y_train_one_hot[0:1000])"
      ],
      "execution_count": 20,
      "outputs": [
        {
          "output_type": "stream",
          "name": "stdout",
          "text": [
            "0.2224866576647786 0.376\n",
            "0.20661197200553003 0.522\n",
            "0.1246871251693937 0.701\n",
            "0.10885644185291668 0.825\n",
            "0.05885154569117719 0.844\n",
            "0.055255393003529316 0.862\n",
            "0.047520040030028056 0.866\n",
            "0.03547058292280432 0.908\n",
            "0.02936935542709242 0.919\n",
            "0.02713309788050062 0.931\n"
          ]
        }
      ]
    },
    {
      "cell_type": "code",
      "metadata": {
        "id": "lSAFykRr-pe_",
        "colab": {
          "base_uri": "https://localhost:8080/"
        },
        "outputId": "6b9c2b6e-ee4a-41d8-8649-527863f52fed"
      },
      "source": [
        "# 予測\n",
        "y_pred = cnn1.predict(X_val[0:100])\n",
        "\n",
        "# ACC算出\n",
        "accuracy = accuracy_score(np.argmax(y_val[0:100],axis=1), y_pred)\n",
        "print('accuracy:{:.3f}'.format(accuracy))"
      ],
      "execution_count": 21,
      "outputs": [
        {
          "output_type": "stream",
          "name": "stdout",
          "text": [
            "accuracy:0.790\n"
          ]
        }
      ]
    },
    {
      "cell_type": "code",
      "metadata": {
        "id": "ruobPjC6-xQX",
        "colab": {
          "base_uri": "https://localhost:8080/",
          "height": 408
        },
        "outputId": "a74e814f-8d67-48c1-d4e2-1a366bf1ca9f"
      },
      "source": [
        "# 学習曲線の可視化\n",
        "plt.rcParams[\"font.size\"] = 20\n",
        "fig=plt.subplots(figsize=(16,6))\n",
        "plt.subplot(1,2,1)\n",
        "plt.title('LOSS')\n",
        "plt.plot(cnn1.log_loss,'bo--')\n",
        "\n",
        "plt.subplot(1,2,2)\n",
        "plt.title('ACC')\n",
        "plt.plot(cnn1.log_acc,'rs--');"
      ],
      "execution_count": 22,
      "outputs": [
        {
          "output_type": "display_data",
          "data": {
            "image/png": "[encoded data removed]",
            "text/plain": [
              "<Figure size 1152x432 with 2 Axes>"
            ]
          },
          "metadata": {
            "needs_background": "light"
          }
        }
      ]
    },
    {
      "cell_type": "markdown",
      "metadata": {
        "id": "0TiWGCo76B4C"
      },
      "source": [
        "**【問題8】（アドバンス課題）LeNet**\n",
        "\n",
        "CNNで画像認識を行う際は、フィルタサイズや層の数などを１から考えるのではなく、有名な構造を利用することが一般的です。現在では実用的に使われることはありませんが、歴史的に重要なのは1998年の LeNet です。この構造を再現してMNISTに対して動かし、Accuracyを計算してください。\n",
        "\n",
        "\n",
        "Y. LeCun, L. Bottou, Y. Bengio, and P. Haffner. Gradient-based learning applied to document recognition. Proceedings of the IEEE, 86(11):2278–2324, 1998.\n",
        "\n",
        "![image.png](data:image/png;base64,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)\n",
        "\n",
        "※上記論文から引用\n",
        "\n",
        "\n",
        "サブサンプリングとは現在のプーリングに相当するものです。現代風に以下のように作ってみることにします。活性化関数も当時はシグモイド関数ですが、ReLUとします。\n",
        "\n",
        "\n",
        "畳み込み層　出力チャンネル数6、フィルタサイズ5×5、ストライド1\n",
        "ReLU\n",
        "最大プーリング\n",
        "畳み込み層　出力チャンネル数16、フィルタサイズ5×5、ストライド1\n",
        "ReLU\n",
        "最大プーリング\n",
        "平滑化\n",
        "全結合層　出力ノード数120\n",
        "ReLU\n",
        "全結合層　出力ノード数84\n",
        "ReLU\n",
        "全結合層　出力ノード数10\n",
        "ソフトマックス関数"
      ]
    },
    {
      "cell_type": "markdown",
      "metadata": {
        "id": "zfQUOrKs65y-"
      },
      "source": [
        "**【問題9】（アドバンス課題）有名な画像認識モデルの調査**\n",
        "\n",
        "CNNの代表的な構造としてははAlexNet(2012)、VGG16(2014)などがあります。こういったものはフレームワークで既に用意されていることも多いです。\n",
        "\n",
        "\n",
        "どういったものがあるか簡単に調べてまとめてください。名前だけでも見ておくと良いでしょう。\n",
        "\n",
        "《参考》\n",
        "\n",
        "\n",
        "Applications - Keras Documentation"
      ]
    },
    {
      "cell_type": "markdown",
      "metadata": {
        "id": "IJY26ff_7FTj"
      },
      "source": [
        "**【問題10】出力サイズとパラメータ数の計算**\n",
        "\n",
        "CNNモデルを構築する際には、全結合層に入力する段階で特徴量がいくつになっているかを事前に計算する必要があります。\n",
        "\n",
        "\n",
        "また、巨大なモデルを扱うようになると、メモリや計算速度の関係でパラメータ数の計算は必須になってきます。フレームワークでは各層のパラメータ数を表示させることが可能ですが、意味を理解していなくては適切な調整が行えません。\n",
        "\n",
        "\n",
        "以下の3つの畳み込み層の出力サイズとパラメータ数を計算してください。パラメータ数についてはバイアス項も考えてください。\n",
        "\n",
        "\n",
        "1.\n",
        "\n",
        "\n",
        "入力サイズ : 144×144, 3チャンネル\n",
        "フィルタサイズ : 3×3, 6チャンネル\n",
        "ストライド : 1\n",
        "パディング : なし\n",
        "\n",
        "2.\n",
        "\n",
        "\n",
        "入力サイズ : 60×60, 24チャンネル\n",
        "フィルタサイズ : 3×3, 48チャンネル\n",
        "ストライド　: 1\n",
        "パディング : なし\n",
        "\n",
        "3.\n",
        "\n",
        "\n",
        "入力サイズ : 20×20, 10チャンネル\n",
        "フィルタサイズ: 3×3, 20チャンネル\n",
        "ストライド : 2\n",
        "パディング : なし\n",
        "\n",
        "＊最後の例は丁度良く畳み込みをすることができない場合です。フレームワークでは余ったピクセルを見ないという処理が行われることがあるので、その場合を考えて計算してください。端が欠けてしまうので、こういった設定は好ましくないという例です。"
      ]
    },
    {
      "cell_type": "markdown",
      "metadata": {
        "id": "9X9QdyAbGG4g"
      },
      "source": [
        "上記１\n",
        "→ 出力サイズ：6×142×142\n",
        "\n",
        "→ パラメータ数（重み）（F×C×FH×FW）：162\n",
        "\n",
        "→ パラメータ数（バイアス）（F）：6\n",
        "\n",
        "上記２\n",
        "→ 出力サイズ：48×58×58\n",
        "\n",
        "→ パラメータ数（重み）（F×C×FH×FW）：10368\n",
        "\n",
        "→ パラメータ数（バイアス）（F）：48\n",
        "\n",
        "上記３\n",
        "→ 出力サイズ：20x9x9\n",
        "\n",
        "→ パラメータ数（重み）（F×C×FH×FW）：1800\n",
        "\n",
        "→ パラメータ数（バイアス）（F）：20"
      ]
    },
    {
      "cell_type": "markdown",
      "metadata": {
        "id": "4kzE0Snf7LmK"
      },
      "source": [
        "【問題11】（アドバンス課題）フィルタサイズに関する調査\n",
        "\n",
        "畳み込み層にはフィルタサイズというハイパーパラメータがありますが、2次元畳み込み層において現在では3×3と1×1の使用が大半です。以下のそれぞれを調べたり、自分なりに考えて説明してください。\n",
        "\n",
        "\n",
        "7×7などの大きめのものではなく、3×3のフィルタが一般的に使われる理由\n",
        "高さや幅方向を持たない1×1のフィルタの効果"
      ]
    }
  ]
}
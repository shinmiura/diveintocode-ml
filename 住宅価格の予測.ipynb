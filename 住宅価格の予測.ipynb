{
  "nbformat": 4,
  "nbformat_minor": 0,
  "metadata": {
    "colab": {
      "name": "住宅価格の予測.ipynb",
      "provenance": [],
      "collapsed_sections": [],
      "mount_file_id": "1PqOYFPkDLwXjlUV7y3Uiq8qVY5IHEzqr",
      "authorship_tag": "ABX9TyNklFUcwDRFih9t8aQ/dC4G",
      "include_colab_link": true
    },
    "kernelspec": {
      "name": "python3",
      "display_name": "Python 3"
    },
    "language_info": {
      "name": "python"
    }
  },
  "cells": [
    {
      "cell_type": "markdown",
      "metadata": {
        "id": "view-in-github",
        "colab_type": "text"
      },
      "source": [
        "<a href=\"https://colab.research.google.com/github/shinmiura/diveintocode-ml/blob/master/%E4%BD%8F%E5%AE%85%E4%BE%A1%E6%A0%BC%E3%81%AE%E4%BA%88%E6%B8%AC.ipynb\" target=\"_parent\"><img src=\"https://colab.research.google.com/assets/colab-badge.svg\" alt=\"Open In Colab\"/></a>"
      ]
    },
    {
      "cell_type": "markdown",
      "metadata": {
        "id": "CiUgeGJVrhwn"
      },
      "source": [
        "テキストの目的\n",
        "\n",
        "・教師あり学習（回帰問題）の概観を知る\n",
        "\n",
        "・scikit-laernを使い回帰を行えるようにする\n",
        "\n",
        "・手法の簡単な比較をする\n"
      ]
    },
    {
      "cell_type": "markdown",
      "metadata": {
        "id": "4M9XC8nlrphV"
      },
      "source": [
        "どのように学ぶか\n",
        "\n",
        "定番のデータセットを通じて、回帰問題を解く流れやライブラリの使い方を学びます。"
      ]
    },
    {
      "cell_type": "markdown",
      "metadata": {
        "id": "PXeXejT9M4jt"
      },
      "source": [
        "**2.住宅価格の回帰**\n",
        "\n",
        "Week3で使用したアイオワ州エイムズ市の住宅価格データセットを使い、回帰問題を解く練習をします。\n",
        "\n",
        "\n",
        "79種類の特徴量（説明変数）を活用し、住宅価格の数値を推測する問題が設定できます。こういった連続値のものを推測する問題を回帰問題と呼びます。"
      ]
    },
    {
      "cell_type": "markdown",
      "metadata": {
        "id": "KwsJLX1gNC79"
      },
      "source": [
        "今回使う手法の一覧\n",
        "\n",
        "scikit-laernを使い以下の手法で学習と推定を行っていきます。それぞれの手法についての詳細は今の段階では扱いません。ライブラリを使えばどれも気軽に利用できることや、手法毎の結果に違いがあることを簡単に見ていきます。\n",
        "\n",
        "\n",
        "\n",
        "・線形回帰\n",
        "\n",
        "・SVM\n",
        "\n",
        "・決定木\n",
        "\n",
        "・ランダムフォレスト\n",
        "\n",
        "分類問題と回帰問題の両方で使える手法と、そうではない手法が存在します。"
      ]
    },
    {
      "cell_type": "markdown",
      "metadata": {
        "id": "LuisdbDONaDa"
      },
      "source": [
        "**3.データセットの準備**\n",
        "\n",
        "Week3同様にKaggleからデータセットをダウンロードしてください。train.csvのみを使用します。\n",
        "\n",
        "\n",
        "House Prices: Advanced Regression Techniques | Kaggle\n",
        "\n"
      ]
    },
    {
      "cell_type": "code",
      "metadata": {
        "id": "Pb7piKyFFoVK"
      },
      "source": [
        "%matplotlib inline\n",
        "import matplotlib\n",
        "import matplotlib.pyplot as plt\n",
        "import numpy as np\n",
        "import pandas as pd\n",
        "\n",
        "matplotlib.style.use('ggplot')"
      ],
      "execution_count": 1,
      "outputs": []
    },
    {
      "cell_type": "markdown",
      "metadata": {
        "id": "EPP3NT5CNlsL"
      },
      "source": [
        "**4.回帰問題の流れ**\n",
        "\n",
        "回帰問題の流れは分類問題と基本的には同じですから、課題1のように細かい説明は行いません。"
      ]
    },
    {
      "cell_type": "markdown",
      "metadata": {
        "id": "bh5JJhc9NuCC"
      },
      "source": [
        "練習のための準備\n",
        "\n",
        "このデータセットには79種類の特徴量（目的変数）がありますが、Week3で探索して分かったようにさまざまなタイプのデータが含まれています。これをどう前処理するかということは機械学習において重要な箇所ですが、今回は回帰問題の学習や評価の練習を優先するため、説明変数(特徴量)GrLivAreaとYearBuiltの2つだけを利用することにします。"
      ]
    },
    {
      "cell_type": "markdown",
      "metadata": {
        "id": "BqYJXwTKOQCd"
      },
      "source": [
        "【問題1】練習のために特徴量の選択\n",
        "\n",
        "データセットを読み込んだ後、説明変数GrLivAreaとYearBuilt、目的変数SalePriceをそれぞれ抜き出してください。"
      ]
    },
    {
      "cell_type": "code",
      "metadata": {
        "id": "am3UTHreFsuz"
      },
      "source": [
        "# データセットの読み込み\n",
        "dataset = pd.read_csv(\"/content/drive/MyDrive/DIC/train.csv\")"
      ],
      "execution_count": 2,
      "outputs": []
    },
    {
      "cell_type": "code",
      "metadata": {
        "colab": {
          "base_uri": "https://localhost:8080/",
          "height": 253
        },
        "id": "4TZOB6tEGwnB",
        "outputId": "d06402af-3e17-4f46-faf6-c439510b1f19"
      },
      "source": [
        "dataset.head()"
      ],
      "execution_count": 3,
      "outputs": [
        {
          "output_type": "execute_result",
          "data": {
            "text/html": [
              "<div>\n",
              "<style scoped>\n",
              "    .dataframe tbody tr th:only-of-type {\n",
              "        vertical-align: middle;\n",
              "    }\n",
              "\n",
              "    .dataframe tbody tr th {\n",
              "        vertical-align: top;\n",
              "    }\n",
              "\n",
              "    .dataframe thead th {\n",
              "        text-align: right;\n",
              "    }\n",
              "</style>\n",
              "<table border=\"1\" class=\"dataframe\">\n",
              "  <thead>\n",
              "    <tr style=\"text-align: right;\">\n",
              "      <th></th>\n",
              "      <th>Id</th>\n",
              "      <th>MSSubClass</th>\n",
              "      <th>MSZoning</th>\n",
              "      <th>LotFrontage</th>\n",
              "      <th>LotArea</th>\n",
              "      <th>Street</th>\n",
              "      <th>Alley</th>\n",
              "      <th>LotShape</th>\n",
              "      <th>LandContour</th>\n",
              "      <th>Utilities</th>\n",
              "      <th>LotConfig</th>\n",
              "      <th>LandSlope</th>\n",
              "      <th>Neighborhood</th>\n",
              "      <th>Condition1</th>\n",
              "      <th>Condition2</th>\n",
              "      <th>BldgType</th>\n",
              "      <th>HouseStyle</th>\n",
              "      <th>OverallQual</th>\n",
              "      <th>OverallCond</th>\n",
              "      <th>YearBuilt</th>\n",
              "      <th>YearRemodAdd</th>\n",
              "      <th>RoofStyle</th>\n",
              "      <th>RoofMatl</th>\n",
              "      <th>Exterior1st</th>\n",
              "      <th>Exterior2nd</th>\n",
              "      <th>MasVnrType</th>\n",
              "      <th>MasVnrArea</th>\n",
              "      <th>ExterQual</th>\n",
              "      <th>ExterCond</th>\n",
              "      <th>Foundation</th>\n",
              "      <th>BsmtQual</th>\n",
              "      <th>BsmtCond</th>\n",
              "      <th>BsmtExposure</th>\n",
              "      <th>BsmtFinType1</th>\n",
              "      <th>BsmtFinSF1</th>\n",
              "      <th>BsmtFinType2</th>\n",
              "      <th>BsmtFinSF2</th>\n",
              "      <th>BsmtUnfSF</th>\n",
              "      <th>TotalBsmtSF</th>\n",
              "      <th>Heating</th>\n",
              "      <th>...</th>\n",
              "      <th>CentralAir</th>\n",
              "      <th>Electrical</th>\n",
              "      <th>1stFlrSF</th>\n",
              "      <th>2ndFlrSF</th>\n",
              "      <th>LowQualFinSF</th>\n",
              "      <th>GrLivArea</th>\n",
              "      <th>BsmtFullBath</th>\n",
              "      <th>BsmtHalfBath</th>\n",
              "      <th>FullBath</th>\n",
              "      <th>HalfBath</th>\n",
              "      <th>BedroomAbvGr</th>\n",
              "      <th>KitchenAbvGr</th>\n",
              "      <th>KitchenQual</th>\n",
              "      <th>TotRmsAbvGrd</th>\n",
              "      <th>Functional</th>\n",
              "      <th>Fireplaces</th>\n",
              "      <th>FireplaceQu</th>\n",
              "      <th>GarageType</th>\n",
              "      <th>GarageYrBlt</th>\n",
              "      <th>GarageFinish</th>\n",
              "      <th>GarageCars</th>\n",
              "      <th>GarageArea</th>\n",
              "      <th>GarageQual</th>\n",
              "      <th>GarageCond</th>\n",
              "      <th>PavedDrive</th>\n",
              "      <th>WoodDeckSF</th>\n",
              "      <th>OpenPorchSF</th>\n",
              "      <th>EnclosedPorch</th>\n",
              "      <th>3SsnPorch</th>\n",
              "      <th>ScreenPorch</th>\n",
              "      <th>PoolArea</th>\n",
              "      <th>PoolQC</th>\n",
              "      <th>Fence</th>\n",
              "      <th>MiscFeature</th>\n",
              "      <th>MiscVal</th>\n",
              "      <th>MoSold</th>\n",
              "      <th>YrSold</th>\n",
              "      <th>SaleType</th>\n",
              "      <th>SaleCondition</th>\n",
              "      <th>SalePrice</th>\n",
              "    </tr>\n",
              "  </thead>\n",
              "  <tbody>\n",
              "    <tr>\n",
              "      <th>0</th>\n",
              "      <td>1</td>\n",
              "      <td>60</td>\n",
              "      <td>RL</td>\n",
              "      <td>65.0</td>\n",
              "      <td>8450</td>\n",
              "      <td>Pave</td>\n",
              "      <td>NaN</td>\n",
              "      <td>Reg</td>\n",
              "      <td>Lvl</td>\n",
              "      <td>AllPub</td>\n",
              "      <td>Inside</td>\n",
              "      <td>Gtl</td>\n",
              "      <td>CollgCr</td>\n",
              "      <td>Norm</td>\n",
              "      <td>Norm</td>\n",
              "      <td>1Fam</td>\n",
              "      <td>2Story</td>\n",
              "      <td>7</td>\n",
              "      <td>5</td>\n",
              "      <td>2003</td>\n",
              "      <td>2003</td>\n",
              "      <td>Gable</td>\n",
              "      <td>CompShg</td>\n",
              "      <td>VinylSd</td>\n",
              "      <td>VinylSd</td>\n",
              "      <td>BrkFace</td>\n",
              "      <td>196.0</td>\n",
              "      <td>Gd</td>\n",
              "      <td>TA</td>\n",
              "      <td>PConc</td>\n",
              "      <td>Gd</td>\n",
              "      <td>TA</td>\n",
              "      <td>No</td>\n",
              "      <td>GLQ</td>\n",
              "      <td>706</td>\n",
              "      <td>Unf</td>\n",
              "      <td>0</td>\n",
              "      <td>150</td>\n",
              "      <td>856</td>\n",
              "      <td>GasA</td>\n",
              "      <td>...</td>\n",
              "      <td>Y</td>\n",
              "      <td>SBrkr</td>\n",
              "      <td>856</td>\n",
              "      <td>854</td>\n",
              "      <td>0</td>\n",
              "      <td>1710</td>\n",
              "      <td>1</td>\n",
              "      <td>0</td>\n",
              "      <td>2</td>\n",
              "      <td>1</td>\n",
              "      <td>3</td>\n",
              "      <td>1</td>\n",
              "      <td>Gd</td>\n",
              "      <td>8</td>\n",
              "      <td>Typ</td>\n",
              "      <td>0</td>\n",
              "      <td>NaN</td>\n",
              "      <td>Attchd</td>\n",
              "      <td>2003.0</td>\n",
              "      <td>RFn</td>\n",
              "      <td>2</td>\n",
              "      <td>548</td>\n",
              "      <td>TA</td>\n",
              "      <td>TA</td>\n",
              "      <td>Y</td>\n",
              "      <td>0</td>\n",
              "      <td>61</td>\n",
              "      <td>0</td>\n",
              "      <td>0</td>\n",
              "      <td>0</td>\n",
              "      <td>0</td>\n",
              "      <td>NaN</td>\n",
              "      <td>NaN</td>\n",
              "      <td>NaN</td>\n",
              "      <td>0</td>\n",
              "      <td>2</td>\n",
              "      <td>2008</td>\n",
              "      <td>WD</td>\n",
              "      <td>Normal</td>\n",
              "      <td>208500</td>\n",
              "    </tr>\n",
              "    <tr>\n",
              "      <th>1</th>\n",
              "      <td>2</td>\n",
              "      <td>20</td>\n",
              "      <td>RL</td>\n",
              "      <td>80.0</td>\n",
              "      <td>9600</td>\n",
              "      <td>Pave</td>\n",
              "      <td>NaN</td>\n",
              "      <td>Reg</td>\n",
              "      <td>Lvl</td>\n",
              "      <td>AllPub</td>\n",
              "      <td>FR2</td>\n",
              "      <td>Gtl</td>\n",
              "      <td>Veenker</td>\n",
              "      <td>Feedr</td>\n",
              "      <td>Norm</td>\n",
              "      <td>1Fam</td>\n",
              "      <td>1Story</td>\n",
              "      <td>6</td>\n",
              "      <td>8</td>\n",
              "      <td>1976</td>\n",
              "      <td>1976</td>\n",
              "      <td>Gable</td>\n",
              "      <td>CompShg</td>\n",
              "      <td>MetalSd</td>\n",
              "      <td>MetalSd</td>\n",
              "      <td>None</td>\n",
              "      <td>0.0</td>\n",
              "      <td>TA</td>\n",
              "      <td>TA</td>\n",
              "      <td>CBlock</td>\n",
              "      <td>Gd</td>\n",
              "      <td>TA</td>\n",
              "      <td>Gd</td>\n",
              "      <td>ALQ</td>\n",
              "      <td>978</td>\n",
              "      <td>Unf</td>\n",
              "      <td>0</td>\n",
              "      <td>284</td>\n",
              "      <td>1262</td>\n",
              "      <td>GasA</td>\n",
              "      <td>...</td>\n",
              "      <td>Y</td>\n",
              "      <td>SBrkr</td>\n",
              "      <td>1262</td>\n",
              "      <td>0</td>\n",
              "      <td>0</td>\n",
              "      <td>1262</td>\n",
              "      <td>0</td>\n",
              "      <td>1</td>\n",
              "      <td>2</td>\n",
              "      <td>0</td>\n",
              "      <td>3</td>\n",
              "      <td>1</td>\n",
              "      <td>TA</td>\n",
              "      <td>6</td>\n",
              "      <td>Typ</td>\n",
              "      <td>1</td>\n",
              "      <td>TA</td>\n",
              "      <td>Attchd</td>\n",
              "      <td>1976.0</td>\n",
              "      <td>RFn</td>\n",
              "      <td>2</td>\n",
              "      <td>460</td>\n",
              "      <td>TA</td>\n",
              "      <td>TA</td>\n",
              "      <td>Y</td>\n",
              "      <td>298</td>\n",
              "      <td>0</td>\n",
              "      <td>0</td>\n",
              "      <td>0</td>\n",
              "      <td>0</td>\n",
              "      <td>0</td>\n",
              "      <td>NaN</td>\n",
              "      <td>NaN</td>\n",
              "      <td>NaN</td>\n",
              "      <td>0</td>\n",
              "      <td>5</td>\n",
              "      <td>2007</td>\n",
              "      <td>WD</td>\n",
              "      <td>Normal</td>\n",
              "      <td>181500</td>\n",
              "    </tr>\n",
              "    <tr>\n",
              "      <th>2</th>\n",
              "      <td>3</td>\n",
              "      <td>60</td>\n",
              "      <td>RL</td>\n",
              "      <td>68.0</td>\n",
              "      <td>11250</td>\n",
              "      <td>Pave</td>\n",
              "      <td>NaN</td>\n",
              "      <td>IR1</td>\n",
              "      <td>Lvl</td>\n",
              "      <td>AllPub</td>\n",
              "      <td>Inside</td>\n",
              "      <td>Gtl</td>\n",
              "      <td>CollgCr</td>\n",
              "      <td>Norm</td>\n",
              "      <td>Norm</td>\n",
              "      <td>1Fam</td>\n",
              "      <td>2Story</td>\n",
              "      <td>7</td>\n",
              "      <td>5</td>\n",
              "      <td>2001</td>\n",
              "      <td>2002</td>\n",
              "      <td>Gable</td>\n",
              "      <td>CompShg</td>\n",
              "      <td>VinylSd</td>\n",
              "      <td>VinylSd</td>\n",
              "      <td>BrkFace</td>\n",
              "      <td>162.0</td>\n",
              "      <td>Gd</td>\n",
              "      <td>TA</td>\n",
              "      <td>PConc</td>\n",
              "      <td>Gd</td>\n",
              "      <td>TA</td>\n",
              "      <td>Mn</td>\n",
              "      <td>GLQ</td>\n",
              "      <td>486</td>\n",
              "      <td>Unf</td>\n",
              "      <td>0</td>\n",
              "      <td>434</td>\n",
              "      <td>920</td>\n",
              "      <td>GasA</td>\n",
              "      <td>...</td>\n",
              "      <td>Y</td>\n",
              "      <td>SBrkr</td>\n",
              "      <td>920</td>\n",
              "      <td>866</td>\n",
              "      <td>0</td>\n",
              "      <td>1786</td>\n",
              "      <td>1</td>\n",
              "      <td>0</td>\n",
              "      <td>2</td>\n",
              "      <td>1</td>\n",
              "      <td>3</td>\n",
              "      <td>1</td>\n",
              "      <td>Gd</td>\n",
              "      <td>6</td>\n",
              "      <td>Typ</td>\n",
              "      <td>1</td>\n",
              "      <td>TA</td>\n",
              "      <td>Attchd</td>\n",
              "      <td>2001.0</td>\n",
              "      <td>RFn</td>\n",
              "      <td>2</td>\n",
              "      <td>608</td>\n",
              "      <td>TA</td>\n",
              "      <td>TA</td>\n",
              "      <td>Y</td>\n",
              "      <td>0</td>\n",
              "      <td>42</td>\n",
              "      <td>0</td>\n",
              "      <td>0</td>\n",
              "      <td>0</td>\n",
              "      <td>0</td>\n",
              "      <td>NaN</td>\n",
              "      <td>NaN</td>\n",
              "      <td>NaN</td>\n",
              "      <td>0</td>\n",
              "      <td>9</td>\n",
              "      <td>2008</td>\n",
              "      <td>WD</td>\n",
              "      <td>Normal</td>\n",
              "      <td>223500</td>\n",
              "    </tr>\n",
              "    <tr>\n",
              "      <th>3</th>\n",
              "      <td>4</td>\n",
              "      <td>70</td>\n",
              "      <td>RL</td>\n",
              "      <td>60.0</td>\n",
              "      <td>9550</td>\n",
              "      <td>Pave</td>\n",
              "      <td>NaN</td>\n",
              "      <td>IR1</td>\n",
              "      <td>Lvl</td>\n",
              "      <td>AllPub</td>\n",
              "      <td>Corner</td>\n",
              "      <td>Gtl</td>\n",
              "      <td>Crawfor</td>\n",
              "      <td>Norm</td>\n",
              "      <td>Norm</td>\n",
              "      <td>1Fam</td>\n",
              "      <td>2Story</td>\n",
              "      <td>7</td>\n",
              "      <td>5</td>\n",
              "      <td>1915</td>\n",
              "      <td>1970</td>\n",
              "      <td>Gable</td>\n",
              "      <td>CompShg</td>\n",
              "      <td>Wd Sdng</td>\n",
              "      <td>Wd Shng</td>\n",
              "      <td>None</td>\n",
              "      <td>0.0</td>\n",
              "      <td>TA</td>\n",
              "      <td>TA</td>\n",
              "      <td>BrkTil</td>\n",
              "      <td>TA</td>\n",
              "      <td>Gd</td>\n",
              "      <td>No</td>\n",
              "      <td>ALQ</td>\n",
              "      <td>216</td>\n",
              "      <td>Unf</td>\n",
              "      <td>0</td>\n",
              "      <td>540</td>\n",
              "      <td>756</td>\n",
              "      <td>GasA</td>\n",
              "      <td>...</td>\n",
              "      <td>Y</td>\n",
              "      <td>SBrkr</td>\n",
              "      <td>961</td>\n",
              "      <td>756</td>\n",
              "      <td>0</td>\n",
              "      <td>1717</td>\n",
              "      <td>1</td>\n",
              "      <td>0</td>\n",
              "      <td>1</td>\n",
              "      <td>0</td>\n",
              "      <td>3</td>\n",
              "      <td>1</td>\n",
              "      <td>Gd</td>\n",
              "      <td>7</td>\n",
              "      <td>Typ</td>\n",
              "      <td>1</td>\n",
              "      <td>Gd</td>\n",
              "      <td>Detchd</td>\n",
              "      <td>1998.0</td>\n",
              "      <td>Unf</td>\n",
              "      <td>3</td>\n",
              "      <td>642</td>\n",
              "      <td>TA</td>\n",
              "      <td>TA</td>\n",
              "      <td>Y</td>\n",
              "      <td>0</td>\n",
              "      <td>35</td>\n",
              "      <td>272</td>\n",
              "      <td>0</td>\n",
              "      <td>0</td>\n",
              "      <td>0</td>\n",
              "      <td>NaN</td>\n",
              "      <td>NaN</td>\n",
              "      <td>NaN</td>\n",
              "      <td>0</td>\n",
              "      <td>2</td>\n",
              "      <td>2006</td>\n",
              "      <td>WD</td>\n",
              "      <td>Abnorml</td>\n",
              "      <td>140000</td>\n",
              "    </tr>\n",
              "    <tr>\n",
              "      <th>4</th>\n",
              "      <td>5</td>\n",
              "      <td>60</td>\n",
              "      <td>RL</td>\n",
              "      <td>84.0</td>\n",
              "      <td>14260</td>\n",
              "      <td>Pave</td>\n",
              "      <td>NaN</td>\n",
              "      <td>IR1</td>\n",
              "      <td>Lvl</td>\n",
              "      <td>AllPub</td>\n",
              "      <td>FR2</td>\n",
              "      <td>Gtl</td>\n",
              "      <td>NoRidge</td>\n",
              "      <td>Norm</td>\n",
              "      <td>Norm</td>\n",
              "      <td>1Fam</td>\n",
              "      <td>2Story</td>\n",
              "      <td>8</td>\n",
              "      <td>5</td>\n",
              "      <td>2000</td>\n",
              "      <td>2000</td>\n",
              "      <td>Gable</td>\n",
              "      <td>CompShg</td>\n",
              "      <td>VinylSd</td>\n",
              "      <td>VinylSd</td>\n",
              "      <td>BrkFace</td>\n",
              "      <td>350.0</td>\n",
              "      <td>Gd</td>\n",
              "      <td>TA</td>\n",
              "      <td>PConc</td>\n",
              "      <td>Gd</td>\n",
              "      <td>TA</td>\n",
              "      <td>Av</td>\n",
              "      <td>GLQ</td>\n",
              "      <td>655</td>\n",
              "      <td>Unf</td>\n",
              "      <td>0</td>\n",
              "      <td>490</td>\n",
              "      <td>1145</td>\n",
              "      <td>GasA</td>\n",
              "      <td>...</td>\n",
              "      <td>Y</td>\n",
              "      <td>SBrkr</td>\n",
              "      <td>1145</td>\n",
              "      <td>1053</td>\n",
              "      <td>0</td>\n",
              "      <td>2198</td>\n",
              "      <td>1</td>\n",
              "      <td>0</td>\n",
              "      <td>2</td>\n",
              "      <td>1</td>\n",
              "      <td>4</td>\n",
              "      <td>1</td>\n",
              "      <td>Gd</td>\n",
              "      <td>9</td>\n",
              "      <td>Typ</td>\n",
              "      <td>1</td>\n",
              "      <td>TA</td>\n",
              "      <td>Attchd</td>\n",
              "      <td>2000.0</td>\n",
              "      <td>RFn</td>\n",
              "      <td>3</td>\n",
              "      <td>836</td>\n",
              "      <td>TA</td>\n",
              "      <td>TA</td>\n",
              "      <td>Y</td>\n",
              "      <td>192</td>\n",
              "      <td>84</td>\n",
              "      <td>0</td>\n",
              "      <td>0</td>\n",
              "      <td>0</td>\n",
              "      <td>0</td>\n",
              "      <td>NaN</td>\n",
              "      <td>NaN</td>\n",
              "      <td>NaN</td>\n",
              "      <td>0</td>\n",
              "      <td>12</td>\n",
              "      <td>2008</td>\n",
              "      <td>WD</td>\n",
              "      <td>Normal</td>\n",
              "      <td>250000</td>\n",
              "    </tr>\n",
              "  </tbody>\n",
              "</table>\n",
              "<p>5 rows × 81 columns</p>\n",
              "</div>"
            ],
            "text/plain": [
              "   Id  MSSubClass MSZoning  ...  SaleType  SaleCondition SalePrice\n",
              "0   1          60       RL  ...        WD         Normal    208500\n",
              "1   2          20       RL  ...        WD         Normal    181500\n",
              "2   3          60       RL  ...        WD         Normal    223500\n",
              "3   4          70       RL  ...        WD        Abnorml    140000\n",
              "4   5          60       RL  ...        WD         Normal    250000\n",
              "\n",
              "[5 rows x 81 columns]"
            ]
          },
          "metadata": {
            "tags": []
          },
          "execution_count": 3
        }
      ]
    },
    {
      "cell_type": "code",
      "metadata": {
        "id": "nxKwajeZOZdY",
        "colab": {
          "base_uri": "https://localhost:8080/",
          "height": 419
        },
        "outputId": "9e470edb-990d-445e-fbcc-af1851fdafe8"
      },
      "source": [
        "# 説明変数GrLivAreaとYearBuilt、目的変数SalePriceをそれぞれ抜き出し\n",
        "df = dataset.loc[:, ['GrLivArea', 'YearBuilt', 'SalePrice']]\n",
        "df"
      ],
      "execution_count": 4,
      "outputs": [
        {
          "output_type": "execute_result",
          "data": {
            "text/html": [
              "<div>\n",
              "<style scoped>\n",
              "    .dataframe tbody tr th:only-of-type {\n",
              "        vertical-align: middle;\n",
              "    }\n",
              "\n",
              "    .dataframe tbody tr th {\n",
              "        vertical-align: top;\n",
              "    }\n",
              "\n",
              "    .dataframe thead th {\n",
              "        text-align: right;\n",
              "    }\n",
              "</style>\n",
              "<table border=\"1\" class=\"dataframe\">\n",
              "  <thead>\n",
              "    <tr style=\"text-align: right;\">\n",
              "      <th></th>\n",
              "      <th>GrLivArea</th>\n",
              "      <th>YearBuilt</th>\n",
              "      <th>SalePrice</th>\n",
              "    </tr>\n",
              "  </thead>\n",
              "  <tbody>\n",
              "    <tr>\n",
              "      <th>0</th>\n",
              "      <td>1710</td>\n",
              "      <td>2003</td>\n",
              "      <td>208500</td>\n",
              "    </tr>\n",
              "    <tr>\n",
              "      <th>1</th>\n",
              "      <td>1262</td>\n",
              "      <td>1976</td>\n",
              "      <td>181500</td>\n",
              "    </tr>\n",
              "    <tr>\n",
              "      <th>2</th>\n",
              "      <td>1786</td>\n",
              "      <td>2001</td>\n",
              "      <td>223500</td>\n",
              "    </tr>\n",
              "    <tr>\n",
              "      <th>3</th>\n",
              "      <td>1717</td>\n",
              "      <td>1915</td>\n",
              "      <td>140000</td>\n",
              "    </tr>\n",
              "    <tr>\n",
              "      <th>4</th>\n",
              "      <td>2198</td>\n",
              "      <td>2000</td>\n",
              "      <td>250000</td>\n",
              "    </tr>\n",
              "    <tr>\n",
              "      <th>...</th>\n",
              "      <td>...</td>\n",
              "      <td>...</td>\n",
              "      <td>...</td>\n",
              "    </tr>\n",
              "    <tr>\n",
              "      <th>1455</th>\n",
              "      <td>1647</td>\n",
              "      <td>1999</td>\n",
              "      <td>175000</td>\n",
              "    </tr>\n",
              "    <tr>\n",
              "      <th>1456</th>\n",
              "      <td>2073</td>\n",
              "      <td>1978</td>\n",
              "      <td>210000</td>\n",
              "    </tr>\n",
              "    <tr>\n",
              "      <th>1457</th>\n",
              "      <td>2340</td>\n",
              "      <td>1941</td>\n",
              "      <td>266500</td>\n",
              "    </tr>\n",
              "    <tr>\n",
              "      <th>1458</th>\n",
              "      <td>1078</td>\n",
              "      <td>1950</td>\n",
              "      <td>142125</td>\n",
              "    </tr>\n",
              "    <tr>\n",
              "      <th>1459</th>\n",
              "      <td>1256</td>\n",
              "      <td>1965</td>\n",
              "      <td>147500</td>\n",
              "    </tr>\n",
              "  </tbody>\n",
              "</table>\n",
              "<p>1460 rows × 3 columns</p>\n",
              "</div>"
            ],
            "text/plain": [
              "      GrLivArea  YearBuilt  SalePrice\n",
              "0          1710       2003     208500\n",
              "1          1262       1976     181500\n",
              "2          1786       2001     223500\n",
              "3          1717       1915     140000\n",
              "4          2198       2000     250000\n",
              "...         ...        ...        ...\n",
              "1455       1647       1999     175000\n",
              "1456       2073       1978     210000\n",
              "1457       2340       1941     266500\n",
              "1458       1078       1950     142125\n",
              "1459       1256       1965     147500\n",
              "\n",
              "[1460 rows x 3 columns]"
            ]
          },
          "metadata": {
            "tags": []
          },
          "execution_count": 4
        }
      ]
    },
    {
      "cell_type": "markdown",
      "metadata": {
        "id": "36dRrxonOVnq"
      },
      "source": [
        "【問題2】線形回帰による推定と評価\n",
        "\n",
        "データを簡単に分析、前処理し、 線形回帰 による学習、推定、評価、可視化までの一連の流れを作成・実行してください。\n",
        "\n",
        "\n",
        "sklearn.linear_model.LinearRegression — scikit-learn 0.21.3 documentation\n",
        "\n",
        "\n",
        "評価のための指標値は回帰問題では 平均二乗誤差（Mean Squared Error, MSE） を使うことが一般的です。\n",
        "\n",
        "\n",
        "sklearn.metrics.mean_squared_error — scikit-learn 0.21.3 documentation\n",
        "\n",
        "\n",
        "可視化は横軸にある特徴量、縦軸に推測した住宅価格といった方法で行えます。\n",
        "scatterを用いて、実際のデータと予測結果を比較できるグラフを作りましょう。\n",
        "\n"
      ]
    },
    {
      "cell_type": "code",
      "metadata": {
        "colab": {
          "base_uri": "https://localhost:8080/"
        },
        "id": "6S5tPIOHKGm9",
        "outputId": "293b4b93-a4b6-4fda-b8bc-4eef3219ccc8"
      },
      "source": [
        "# 各特徴量がどういったものかを見る。（数値データか文字データなど）\n",
        "df.info()"
      ],
      "execution_count": 5,
      "outputs": [
        {
          "output_type": "stream",
          "text": [
            "<class 'pandas.core.frame.DataFrame'>\n",
            "RangeIndex: 1460 entries, 0 to 1459\n",
            "Data columns (total 3 columns):\n",
            " #   Column     Non-Null Count  Dtype\n",
            "---  ------     --------------  -----\n",
            " 0   GrLivArea  1460 non-null   int64\n",
            " 1   YearBuilt  1460 non-null   int64\n",
            " 2   SalePrice  1460 non-null   int64\n",
            "dtypes: int64(3)\n",
            "memory usage: 34.3 KB\n"
          ],
          "name": "stdout"
        }
      ]
    },
    {
      "cell_type": "code",
      "metadata": {
        "colab": {
          "base_uri": "https://localhost:8080/",
          "height": 282
        },
        "id": "zRjNJPUOKQ4b",
        "outputId": "782c3a6f-0829-4505-d26b-2873d8c814a7"
      },
      "source": [
        "# 分布の確認\n",
        "df['SalePrice'].hist(bins = 100)"
      ],
      "execution_count": 6,
      "outputs": [
        {
          "output_type": "execute_result",
          "data": {
            "text/plain": [
              "<matplotlib.axes._subplots.AxesSubplot at 0x7f705d453810>"
            ]
          },
          "metadata": {
            "tags": []
          },
          "execution_count": 6
        },
        {
          "output_type": "display_data",
          "data": {
            "image/png": "[encoded data removed]",
            "text/plain": [
              "<Figure size 432x288 with 1 Axes>"
            ]
          },
          "metadata": {
            "tags": [],
            "needs_background": "light"
          }
        }
      ]
    },
    {
      "cell_type": "code",
      "metadata": {
        "colab": {
          "base_uri": "https://localhost:8080/",
          "height": 297
        },
        "id": "xB3btGzxKfT0",
        "outputId": "9556399d-c739-4452-958b-8f55b0110895"
      },
      "source": [
        "# 要約統計量を出力する(特徴量の平均値と標準偏差、四分位数を一度に表示させる。)\n",
        "df.describe()"
      ],
      "execution_count": 7,
      "outputs": [
        {
          "output_type": "execute_result",
          "data": {
            "text/html": [
              "<div>\n",
              "<style scoped>\n",
              "    .dataframe tbody tr th:only-of-type {\n",
              "        vertical-align: middle;\n",
              "    }\n",
              "\n",
              "    .dataframe tbody tr th {\n",
              "        vertical-align: top;\n",
              "    }\n",
              "\n",
              "    .dataframe thead th {\n",
              "        text-align: right;\n",
              "    }\n",
              "</style>\n",
              "<table border=\"1\" class=\"dataframe\">\n",
              "  <thead>\n",
              "    <tr style=\"text-align: right;\">\n",
              "      <th></th>\n",
              "      <th>GrLivArea</th>\n",
              "      <th>YearBuilt</th>\n",
              "      <th>SalePrice</th>\n",
              "    </tr>\n",
              "  </thead>\n",
              "  <tbody>\n",
              "    <tr>\n",
              "      <th>count</th>\n",
              "      <td>1460.000000</td>\n",
              "      <td>1460.000000</td>\n",
              "      <td>1460.000000</td>\n",
              "    </tr>\n",
              "    <tr>\n",
              "      <th>mean</th>\n",
              "      <td>1515.463699</td>\n",
              "      <td>1971.267808</td>\n",
              "      <td>180921.195890</td>\n",
              "    </tr>\n",
              "    <tr>\n",
              "      <th>std</th>\n",
              "      <td>525.480383</td>\n",
              "      <td>30.202904</td>\n",
              "      <td>79442.502883</td>\n",
              "    </tr>\n",
              "    <tr>\n",
              "      <th>min</th>\n",
              "      <td>334.000000</td>\n",
              "      <td>1872.000000</td>\n",
              "      <td>34900.000000</td>\n",
              "    </tr>\n",
              "    <tr>\n",
              "      <th>25%</th>\n",
              "      <td>1129.500000</td>\n",
              "      <td>1954.000000</td>\n",
              "      <td>129975.000000</td>\n",
              "    </tr>\n",
              "    <tr>\n",
              "      <th>50%</th>\n",
              "      <td>1464.000000</td>\n",
              "      <td>1973.000000</td>\n",
              "      <td>163000.000000</td>\n",
              "    </tr>\n",
              "    <tr>\n",
              "      <th>75%</th>\n",
              "      <td>1776.750000</td>\n",
              "      <td>2000.000000</td>\n",
              "      <td>214000.000000</td>\n",
              "    </tr>\n",
              "    <tr>\n",
              "      <th>max</th>\n",
              "      <td>5642.000000</td>\n",
              "      <td>2010.000000</td>\n",
              "      <td>755000.000000</td>\n",
              "    </tr>\n",
              "  </tbody>\n",
              "</table>\n",
              "</div>"
            ],
            "text/plain": [
              "         GrLivArea    YearBuilt      SalePrice\n",
              "count  1460.000000  1460.000000    1460.000000\n",
              "mean   1515.463699  1971.267808  180921.195890\n",
              "std     525.480383    30.202904   79442.502883\n",
              "min     334.000000  1872.000000   34900.000000\n",
              "25%    1129.500000  1954.000000  129975.000000\n",
              "50%    1464.000000  1973.000000  163000.000000\n",
              "75%    1776.750000  2000.000000  214000.000000\n",
              "max    5642.000000  2010.000000  755000.000000"
            ]
          },
          "metadata": {
            "tags": []
          },
          "execution_count": 7
        }
      ]
    },
    {
      "cell_type": "code",
      "metadata": {
        "id": "nsRv9K66Iy_S"
      },
      "source": [
        "# データ分割用のライブラリ\n",
        "from sklearn.model_selection import train_test_split"
      ],
      "execution_count": 8,
      "outputs": []
    },
    {
      "cell_type": "code",
      "metadata": {
        "id": "cKoXF4lbLAkZ"
      },
      "source": [
        "X = df.loc[:, ('GrLivArea', 'YearBuilt')]\n",
        "y = df.loc[:, 'SalePrice']"
      ],
      "execution_count": 9,
      "outputs": []
    },
    {
      "cell_type": "code",
      "metadata": {
        "colab": {
          "base_uri": "https://localhost:8080/",
          "height": 136
        },
        "id": "zTFm56juMCBL",
        "outputId": "1104f0cb-a174-4297-d01d-6ba679723e50"
      },
      "source": [
        "npX = X.to_numpy()\n",
        "display(npX)"
      ],
      "execution_count": 10,
      "outputs": [
        {
          "output_type": "display_data",
          "data": {
            "text/plain": [
              "array([[1710, 2003],\n",
              "       [1262, 1976],\n",
              "       [1786, 2001],\n",
              "       ...,\n",
              "       [2340, 1941],\n",
              "       [1078, 1950],\n",
              "       [1256, 1965]])"
            ]
          },
          "metadata": {
            "tags": []
          }
        }
      ]
    },
    {
      "cell_type": "code",
      "metadata": {
        "colab": {
          "base_uri": "https://localhost:8080/",
          "height": 34
        },
        "id": "Afa6tCx3MH3n",
        "outputId": "45daf7e1-0e42-4320-a7c2-fc1adebbea60"
      },
      "source": [
        "npy = y.to_numpy()\n",
        "display(npy)"
      ],
      "execution_count": 11,
      "outputs": [
        {
          "output_type": "display_data",
          "data": {
            "text/plain": [
              "array([208500, 181500, 223500, ..., 266500, 142125, 147500])"
            ]
          },
          "metadata": {
            "tags": []
          }
        }
      ]
    },
    {
      "cell_type": "code",
      "metadata": {
        "id": "MeiL2gnYKsNm"
      },
      "source": [
        "# 分割\n",
        "X_train, X_test, y_train, y_test = train_test_split(npX, npy, test_size=0.30, random_state=1234)"
      ],
      "execution_count": 12,
      "outputs": []
    },
    {
      "cell_type": "code",
      "metadata": {
        "colab": {
          "base_uri": "https://localhost:8080/"
        },
        "id": "mNXthPNBQG5Y",
        "outputId": "0806e4bc-b9b7-4a50-f9e0-d169d43ef03d"
      },
      "source": [
        "print(X_train.shape)\n",
        "print(X_test.shape)\n",
        "print(y_train.shape)\n",
        "print(y_test.shape)"
      ],
      "execution_count": 13,
      "outputs": [
        {
          "output_type": "stream",
          "text": [
            "(1022, 2)\n",
            "(438, 2)\n",
            "(1022,)\n",
            "(438,)\n"
          ],
          "name": "stdout"
        }
      ]
    },
    {
      "cell_type": "code",
      "metadata": {
        "id": "CxzvaRtnIdEF"
      },
      "source": [
        "# 標準化\n",
        "# ライブラリの読み込み\n",
        "from sklearn.preprocessing import StandardScaler"
      ],
      "execution_count": 14,
      "outputs": []
    },
    {
      "cell_type": "code",
      "metadata": {
        "id": "F_O4swktIijA"
      },
      "source": [
        "# StandardScalerをscalerという呼び名で読み込み\n",
        "scaler = StandardScaler()"
      ],
      "execution_count": 15,
      "outputs": []
    },
    {
      "cell_type": "code",
      "metadata": {
        "colab": {
          "base_uri": "https://localhost:8080/"
        },
        "id": "n-Chkf8gInDf",
        "outputId": "6505dab5-2fc7-471b-9c9c-e00e8a8a5e0b"
      },
      "source": [
        "X_train_std = scaler.fit_transform(X_train)\n",
        "X_train_std"
      ],
      "execution_count": 16,
      "outputs": [
        {
          "output_type": "execute_result",
          "data": {
            "text/plain": [
              "array([[-0.30748725,  0.42834389],\n",
              "       [ 0.17163404,  0.165795  ],\n",
              "       [ 0.30799934,  1.08471612],\n",
              "       ...,\n",
              "       [ 0.47937734,  0.98626029],\n",
              "       [-0.10478209, -0.55621445],\n",
              "       [ 0.24718779,  0.88780445]])"
            ]
          },
          "metadata": {
            "tags": []
          },
          "execution_count": 16
        }
      ]
    },
    {
      "cell_type": "code",
      "metadata": {
        "colab": {
          "base_uri": "https://localhost:8080/"
        },
        "id": "XsyaCvhFQaFf",
        "outputId": "79bc177a-8917-4a74-8feb-58b64d264ef9"
      },
      "source": [
        "X_test_std = scaler.fit_transform(X_test)\n",
        "X_test_std"
      ],
      "execution_count": 17,
      "outputs": [
        {
          "output_type": "execute_result",
          "data": {
            "text/plain": [
              "array([[ 1.03284188e+00, -2.37588491e-01],\n",
              "       [ 2.52456491e+00, -4.64040021e-04],\n",
              "       [ 2.31240691e-02,  1.11740837e+00],\n",
              "       [-9.32575919e-01, -7.45712313e-01],\n",
              "       [-1.01176696e-02,  1.15128329e+00],\n",
              "       [ 3.57619065e-01,  8.12534076e-01],\n",
              "       [ 7.27433408e-01,  8.80283919e-01],\n",
              "       [-1.04476679e+00, -1.55871043e+00],\n",
              "       [ 1.62288275e+00,  9.14158841e-01],\n",
              "       [-8.66092442e-01,  1.11740837e+00],\n",
              "       [-8.99334181e-01, -5.76337706e-01],\n",
              "       [-1.30618973e-01,  1.68910568e-01],\n",
              "       [ 1.43625372e-01, -9.15086921e-01],\n",
              "       [ 1.81022328e-01, -1.49096059e+00],\n",
              "       [ 1.32578471e+00,  6.43159469e-01],\n",
              "       [ 1.49858198e-01,  1.11740837e+00],\n",
              "       [-9.94548425e-02,  9.14158841e-01],\n",
              "       [-2.51120275e-01,  1.11740837e+00],\n",
              "       [-1.23590679e+00, -1.69838648e-01],\n",
              "       [-8.37005921e-01, -2.03713569e-01],\n",
              "       [-6.93650922e-01, -3.73088177e-01],\n",
              "       [-4.52648316e-01, -8.13462156e-01],\n",
              "       [-9.69972875e-01, -2.10070917e+00],\n",
              "       [-1.04061157e+00, -6.10212627e-01],\n",
              "       [ 1.89332763e-01,  1.18515821e+00],\n",
              "       [ 2.31240691e-02,  1.15128329e+00],\n",
              "       [ 2.30641600e+00,  9.14158841e-01],\n",
              "       [-6.82907124e-02,  1.15128329e+00],\n",
              "       [ 7.89761669e-01,  1.18515821e+00],\n",
              "       [-8.99334181e-01,  2.70535332e-01],\n",
              "       [ 1.46913970e+00,  6.09284547e-01],\n",
              "       [-7.80910486e-01, -7.45712313e-01],\n",
              "       [ 1.88881666e+00,  8.12534076e-01],\n",
              "       [-1.30654548e+00,  3.38285175e-01],\n",
              "       [-9.90748962e-01, -1.76195996e+00],\n",
              "       [ 2.57234991e+00, -1.35546090e+00],\n",
              "       [-2.73973971e-01, -4.40838020e-01],\n",
              "       [ 1.74789502e-01,  9.48033762e-01],\n",
              "       [-1.42289157e+00, -1.08446153e+00],\n",
              "       [ 5.79923193e-01, -1.35963726e-01],\n",
              "       [-1.38929407e-01, -4.06963098e-01],\n",
              "       [-6.68719618e-01, -1.76195996e+00],\n",
              "       [-9.32575919e-01, -3.05338334e-01],\n",
              "       [-2.25833216e-02,  1.25290806e+00],\n",
              "       [-4.40182664e-01, -6.82138830e-02],\n",
              "       [-6.12624184e-01, -4.40838020e-01],\n",
              "       [-1.61783103e-01,  1.68910568e-01],\n",
              "       [-8.53626790e-01, -3.43389615e-02],\n",
              "       [-1.64311808e+00, -8.47337078e-01],\n",
              "       [ 1.53770079e+00, -2.03295933e+00],\n",
              "       [ 1.60002905e+00, -6.44087549e-01],\n",
              "       [ 4.96818846e-01,  1.08353345e+00],\n",
              "       [-2.94750057e-01, -2.10070917e+00],\n",
              "       [-1.27745896e+00, -1.35963726e-01],\n",
              "       [ 1.75169448e+00,  1.18515821e+00],\n",
              "       [-5.50295924e-01,  2.36660411e-01],\n",
              "       [-1.15072483e+00, -1.42321074e+00],\n",
              "       [-1.02399070e+00,  6.77034390e-01],\n",
              "       [-6.68719618e-01,  6.77034390e-01],\n",
              "       [ 1.67482296e+00,  6.77034390e-01],\n",
              "       [ 1.66651253e+00,  9.14158841e-01],\n",
              "       [-6.95728531e-01, -2.03713569e-01],\n",
              "       [ 2.84902762e-01,  1.04965853e+00],\n",
              "       [-1.11748309e+00, -1.21996121e+00],\n",
              "       [ 8.29236233e-01, -2.03713569e-01],\n",
              "       [-6.04313749e-01, -1.76195996e+00],\n",
              "       [ 2.66204284e-01,  7.10909312e-01],\n",
              "       [ 1.01622101e+00, -1.35963726e-01],\n",
              "       [-7.70522443e-01,  1.68910568e-01],\n",
              "       [-1.65766135e+00, -1.76195996e+00],\n",
              "       [ 7.60675147e-01, -6.10212627e-01],\n",
              "       [-1.33147678e+00,  1.08353345e+00],\n",
              "       [ 2.72792864e-02,  4.39909940e-01],\n",
              "       [ 2.01798415e-01,  2.36660411e-01],\n",
              "       [ 3.86705586e-01,  9.14158841e-01],\n",
              "       [-1.59705494e-01,  1.15128329e+00],\n",
              "       [-1.04268918e+00, -6.82138830e-02],\n",
              "       [ 5.75767975e-01,  1.25290806e+00],\n",
              "       [ 4.71887542e-01, -3.39213255e-01],\n",
              "       [-1.07593092e+00, -1.02088805e-01],\n",
              "       [-1.29823505e+00, -6.82138830e-02],\n",
              "       [ 2.10904317e+00,  1.11740837e+00],\n",
              "       [ 4.80553732e-02,  9.48033762e-01],\n",
              "       [-7.08194183e-01, -6.77962470e-01],\n",
              "       [ 1.49199340e+00, -6.82138830e-02],\n",
              "       [ 2.72437110e-01,  1.18515821e+00],\n",
              "       [ 1.38811297e+00, -2.03713569e-01],\n",
              "       [ 1.76867111e-01,  1.15128329e+00],\n",
              "       [-1.15695766e+00, -7.45712313e-01],\n",
              "       [-3.50489737e-02,  2.70535332e-01],\n",
              "       [-6.33400271e-01, -2.10070917e+00],\n",
              "       [-7.33125487e-01, -2.37588491e-01],\n",
              "       [ 9.74668840e-01, -8.81211999e-01],\n",
              "       [ 1.47329492e+00,  9.48033762e-01],\n",
              "       [ 1.48136344e-02,  1.15128329e+00],\n",
              "       [ 9.66358406e-01, -1.11833645e+00],\n",
              "       [ 1.10555819e+00,  1.15128329e+00],\n",
              "       [-8.64014833e-01, -2.37588491e-01],\n",
              "       [ 6.50561888e-01, -1.76195996e+00],\n",
              "       [ 2.15475057e+00, -1.89745964e+00],\n",
              "       [-7.16504618e-01, -5.42462784e-01],\n",
              "       [ 5.09284498e-01, -3.39213255e-01],\n",
              "       [ 1.40888905e+00,  6.72858030e-02],\n",
              "       [-7.66367226e-01, -3.73088177e-01],\n",
              "       [ 7.50642859e-02,  9.48033762e-01],\n",
              "       [ 3.30990099e+00, -1.76195996e+00],\n",
              "       [-4.56803534e-01,  1.08353345e+00],\n",
              "       [ 6.88314599e-02, -1.55871043e+00],\n",
              "       [-9.32575919e-01, -7.79587235e-01],\n",
              "       [-6.45865923e-01,  3.34108815e-02],\n",
              "       [ 2.87360317e+00,  1.68910568e-01],\n",
              "       [-8.12074616e-01, -5.76337706e-01],\n",
              "       [-9.84516136e-01, -1.59258535e+00],\n",
              "       [ 1.06608362e+00, -7.79587235e-01],\n",
              "       [ 9.04030145e-01,  8.80283919e-01],\n",
              "       [-3.59155926e-01, -1.45708567e+00],\n",
              "       [ 3.68007108e-01, -1.59258535e+00],\n",
              "       [ 7.50287104e-01,  7.44784233e-01],\n",
              "       [ 2.39195371e-01,  1.15128329e+00],\n",
              "       [-6.25089836e-01, -3.39213255e-01],\n",
              "       [-2.46609303e-02, -1.49096059e+00],\n",
              "       [ 5.09284498e-01,  1.11740837e+00],\n",
              "       [ 1.47952775e+00, -2.03713569e-01],\n",
              "       [-1.43120200e+00, -1.21996121e+00],\n",
              "       [ 1.22849285e-01, -1.59258535e+00],\n",
              "       [-1.08216374e+00, -2.10070917e+00],\n",
              "       [ 4.57344281e-01,  9.14158841e-01],\n",
              "       [-1.12371592e+00, -6.10212627e-01],\n",
              "       [-3.34224622e-01, -3.05338334e-01],\n",
              "       [-1.21513070e+00, -1.69421012e+00],\n",
              "       [ 4.59421890e-01,  1.04965853e+00],\n",
              "       [ 1.92829122e+00,  6.43159469e-01],\n",
              "       [-3.34224622e-01, -1.59258535e+00],\n",
              "       [-3.63311144e-01,  1.25290806e+00],\n",
              "       [-8.49471573e-01,  1.08353345e+00],\n",
              "       [-1.43951244e+00, -2.10070917e+00],\n",
              "       [ 4.71887542e-01,  8.12534076e-01],\n",
              "       [-6.41710705e-01, -1.69421012e+00],\n",
              "       [ 1.23229232e+00,  1.04965853e+00],\n",
              "       [ 3.26454935e-01,  1.15128329e+00],\n",
              "       [ 2.93213196e-01,  9.48033762e-01],\n",
              "       [ 3.38920587e-01,  1.21903313e+00],\n",
              "       [-1.65142852e+00, -1.99908441e+00],\n",
              "       [-6.82907124e-02,  2.02785489e-01],\n",
              "       [-9.32575919e-01, -7.45712313e-01],\n",
              "       [-6.70797227e-01,  1.11740837e+00],\n",
              "       [-6.99883748e-01, -7.45712313e-01],\n",
              "       [-1.04268918e+00, -3.43389615e-02],\n",
              "       [ 1.65820209e+00, -6.44087549e-01],\n",
              "       [-5.62761576e-01,  1.25290806e+00],\n",
              "       [-5.41985489e-01, -2.03713569e-01],\n",
              "       [ 2.37913230e+00, -1.02088805e-01],\n",
              "       [ 1.73507361e+00,  1.11740837e+00],\n",
              "       [-3.29713650e-02, -1.35963726e-01],\n",
              "       [-1.59741069e+00, -1.76195996e+00],\n",
              "       [-1.29823505e+00, -3.43389615e-02],\n",
              "       [ 2.32926969e+00,  1.18515821e+00],\n",
              "       [-7.91298530e-01, -1.42321074e+00],\n",
              "       [ 1.26345645e+00,  7.10909312e-01],\n",
              "       [-1.17565613e+00,  2.70535332e-01],\n",
              "       [-4.23561795e-01,  1.68910568e-01],\n",
              "       [-1.18153320e-01, -2.10070917e+00],\n",
              "       [-4.71346795e-01,  1.15128329e+00],\n",
              "       [-5.39907881e-01,  2.70535332e-01],\n",
              "       [ 2.97368414e-01, -2.03713569e-01],\n",
              "       [ 1.70634285e-01,  1.18515821e+00],\n",
              "       [-2.90594840e-01,  9.48033762e-01],\n",
              "       [-1.00321461e+00, -4.40838020e-01],\n",
              "       [ 8.99874928e-01,  1.04965853e+00],\n",
              "       [ 1.55224405e+00,  8.46408998e-01],\n",
              "       [-7.04038966e-01, -4.40838020e-01],\n",
              "       [-7.24815052e-01, -2.10070917e+00],\n",
              "       [-1.95024841e-01, -4.64040021e-04],\n",
              "       [-1.28161418e+00, -3.43389615e-02],\n",
              "       [-3.00982884e-01, -1.89745964e+00],\n",
              "       [-7.24815052e-01,  1.15128329e+00],\n",
              "       [ 4.01248847e-01,  8.80283919e-01],\n",
              "       [-2.09603677e+00, -7.79587235e-01],\n",
              "       [-7.16504618e-01, -3.73088177e-01],\n",
              "       [ 1.22398188e+00,  1.18515821e+00],\n",
              "       [-5.83537663e-01,  1.18515821e+00],\n",
              "       [ 1.13672232e+00, -2.37588491e-01],\n",
              "       [ 2.74514718e-01,  4.06035018e-01],\n",
              "       [ 1.19074014e+00,  5.41534704e-01],\n",
              "       [ 2.37705469e+00,  9.81908684e-01],\n",
              "       [ 1.24891318e+00,  4.06035018e-01],\n",
              "       [-2.67741145e-01, -1.15221137e+00],\n",
              "       [-7.58056791e-01, -6.10212627e-01],\n",
              "       [-3.36302231e-01, -4.40838020e-01],\n",
              "       [ 1.34032797e+00, -1.89745964e+00],\n",
              "       [ 4.59777645e-02,  8.46408998e-01],\n",
              "       [ 6.38096236e-01, -3.05338334e-01],\n",
              "       [-9.32575919e-01, -7.45712313e-01],\n",
              "       [ 2.53738632e-01, -2.71463412e-01],\n",
              "       [-7.53901574e-01,  1.68910568e-01],\n",
              "       [ 1.78944719e-01,  6.77034390e-01],\n",
              "       [-5.62761576e-01, -4.64040021e-04],\n",
              "       [ 7.25355800e-01,  1.11740837e+00],\n",
              "       [-1.35225287e+00, -1.82970980e+00],\n",
              "       [ 3.49308630e-01, -6.82138830e-02],\n",
              "       [ 7.06657322e-01,  1.04965853e+00],\n",
              "       [ 2.00100752e+00,  1.08353345e+00],\n",
              "       [ 4.40723412e-01,  1.01160725e-01],\n",
              "       [ 1.13464471e+00,  9.81908684e-01],\n",
              "       [-6.87418096e-01,  1.08353345e+00],\n",
              "       [-5.39907881e-01, -5.42462784e-01],\n",
              "       [-8.32850703e-01,  4.73784861e-01],\n",
              "       [-1.16111287e+00, -8.81211999e-01],\n",
              "       [ 5.30060585e-01,  7.10909312e-01],\n",
              "       [ 3.97093630e-01,  1.35035646e-01],\n",
              "       [ 6.87958844e-01, -1.59258535e+00],\n",
              "       [-3.52923100e-01, -6.44087549e-01],\n",
              "       [-1.59741069e+00, -1.49096059e+00],\n",
              "       [-3.59155926e-01,  1.18515821e+00],\n",
              "       [-1.49768548e+00, -4.64040021e-04],\n",
              "       [ 4.38645803e-01, -4.40838020e-01],\n",
              "       [-4.96278099e-01, -2.10070917e+00],\n",
              "       [-1.39796026e+00, -5.08587863e-01],\n",
              "       [ 2.42068448e+00, -1.35963726e-01],\n",
              "       [ 1.31159720e-01,  1.01160725e-01],\n",
              "       [ 6.25630584e-01, -4.64040021e-04],\n",
              "       [-1.33147678e+00,  1.04965853e+00],\n",
              "       [ 5.17594933e-01, -1.76195996e+00],\n",
              "       [-2.49042667e-01, -1.59258535e+00],\n",
              "       [-5.83537663e-01,  1.68910568e-01],\n",
              "       [ 1.92205839e+00, -2.43945839e+00],\n",
              "       [ 1.21982666e+00,  1.15128329e+00],\n",
              "       [-5.56528750e-01,  1.08353345e+00],\n",
              "       [ 1.39019057e+00, -7.45712313e-01],\n",
              "       [ 7.37821452e-01,  1.11740837e+00],\n",
              "       [ 1.03491949e+00,  7.44784233e-01],\n",
              "       [-1.04268918e+00, -4.64040021e-04],\n",
              "       [-7.70522443e-01, -1.11833645e+00],\n",
              "       [-4.79657229e-01,  1.15128329e+00],\n",
              "       [-6.12624184e-01, -4.40838020e-01],\n",
              "       [-5.17054185e-01,  1.15128329e+00],\n",
              "       [ 5.09284498e-01,  1.68910568e-01],\n",
              "       [-1.38929407e-01,  1.08353345e+00],\n",
              "       [-1.13202635e+00, -6.77962470e-01],\n",
              "       [ 4.88508411e-01,  8.80283919e-01],\n",
              "       [-8.49471573e-01,  3.72160097e-01],\n",
              "       [-1.69713591e+00, -1.05058661e+00],\n",
              "       [-1.42728870e-02,  6.77034390e-01],\n",
              "       [-1.19850983e+00, -1.69838648e-01],\n",
              "       [-2.25833216e-02, -4.06963098e-01],\n",
              "       [-4.00708100e-01,  9.81908684e-01],\n",
              "       [-1.25252765e+00, -1.15221137e+00],\n",
              "       [-9.94548425e-02,  2.02785489e-01],\n",
              "       [-2.78129188e-01, -1.96520949e+00],\n",
              "       [ 1.59379622e+00,  9.48033762e-01],\n",
              "       [-1.21513070e+00, -2.03713569e-01],\n",
              "       [-1.45162233e-01,  1.18515821e+00],\n",
              "       [ 9.76746449e-01,  1.08353345e+00],\n",
              "       [ 4.96818846e-01,  1.35035646e-01],\n",
              "       [ 4.76042759e-01,  8.80283919e-01],\n",
              "       [-4.94200490e-01, -2.71463412e-01],\n",
              "       [-1.29823505e+00, -4.64040021e-04],\n",
              "       [ 9.55970362e-01,  7.10909312e-01],\n",
              "       [-1.37926178e+00, -5.76337706e-01],\n",
              "       [ 7.29866772e-02,  2.36660411e-01],\n",
              "       [ 6.96269278e-01, -1.79583488e+00],\n",
              "       [ 6.02776888e-01,  8.80283919e-01],\n",
              "       [ 3.43040229e+00,  1.21903313e+00],\n",
              "       [-7.12349400e-01,  1.04965853e+00],\n",
              "       [ 3.63851891e-01,  9.48033762e-01],\n",
              "       [ 8.41701885e-01,  1.01578361e+00],\n",
              "       [ 4.73965151e-01,  1.15128329e+00],\n",
              "       [ 4.15792108e-01,  1.18515821e+00],\n",
              "       [-1.18153320e-01,  1.08353345e+00],\n",
              "       [ 3.55541456e-01, -1.28771106e+00],\n",
              "       [-8.84790920e-01, -6.10212627e-01],\n",
              "       [ 1.41304427e+00,  1.01578361e+00],\n",
              "       [-6.20578864e-02,  1.01578361e+00],\n",
              "       [ 4.46956238e-01,  1.18515821e+00],\n",
              "       [-5.50295924e-01, -1.55871043e+00],\n",
              "       [ 9.78824058e-01,  1.01578361e+00],\n",
              "       [-6.16779401e-01, -1.76195996e+00],\n",
              "       [ 1.06192840e+00,  1.08353345e+00],\n",
              "       [-1.03645635e+00,  7.44784233e-01],\n",
              "       [ 7.85606451e-01, -5.76337706e-01],\n",
              "       [-4.36027447e-01,  1.68910568e-01],\n",
              "       [-1.97102450e-01,  1.15128329e+00],\n",
              "       [ 9.53892754e-01,  1.08353345e+00],\n",
              "       [-1.57871222e+00, -1.25383614e+00],\n",
              "       [-2.84362014e-01, -4.74712941e-01],\n",
              "       [-1.28784700e+00, -1.66033519e+00],\n",
              "       [ 7.71418945e-02, -5.08587863e-01],\n",
              "       [-1.09047418e+00, -1.72808504e+00],\n",
              "       [-7.45235384e-02,  4.73784861e-01],\n",
              "       [-5.91848097e-01,  8.80283919e-01],\n",
              "       [ 1.34863840e+00, -2.50720823e+00],\n",
              "       [-8.49471573e-01, -4.74712941e-01],\n",
              "       [ 6.48484279e-01, -4.40838020e-01],\n",
              "       [-5.50295924e-01,  1.25290806e+00],\n",
              "       [-5.62761576e-01,  3.34108815e-02],\n",
              "       [-1.39796026e+00, -1.15221137e+00],\n",
              "       [-6.41354951e-02, -8.13462156e-01],\n",
              "       [ 8.54523292e-02,  1.11740837e+00],\n",
              "       [ 3.09382968e+00, -1.69838648e-01],\n",
              "       [-1.33770961e+00,  3.38285175e-01],\n",
              "       [-8.61937225e-01,  1.01160725e-01],\n",
              "       [-7.85065704e-01, -1.05058661e+00],\n",
              "       [-5.48218315e-01, -4.40838020e-01],\n",
              "       [ 3.63851891e-01, -8.47337078e-01],\n",
              "       [-3.71621578e-01, -1.62646027e+00],\n",
              "       [-3.90320056e-01,  1.15128329e+00],\n",
              "       [ 3.95016021e-01,  7.44784233e-01],\n",
              "       [-3.63311144e-01, -5.08587863e-01],\n",
              "       [-1.07765277e-01, -5.42462784e-01],\n",
              "       [-6.00158532e-01,  5.07659783e-01],\n",
              "       [ 4.59421890e-01,  1.08353345e+00],\n",
              "       [-1.24386147e-01, -4.06963098e-01],\n",
              "       [-7.55979182e-01,  1.15128329e+00],\n",
              "       [ 1.34448318e+00, -7.11837392e-01],\n",
              "       [-1.52677200e+00, -1.25383614e+00],\n",
              "       [ 1.00167775e+00,  1.11740837e+00],\n",
              "       [-1.27538135e+00, -1.38933582e+00],\n",
              "       [-8.24540269e-01, -3.43389615e-02],\n",
              "       [-5.25364620e-01, -3.73088177e-01],\n",
              "       [ 4.96818846e-01,  1.04965853e+00],\n",
              "       [ 9.95444927e-01, -1.02088805e-01],\n",
              "       [-1.55550277e-01, -4.74712941e-01],\n",
              "       [-1.78439547e+00, -6.82138830e-02],\n",
              "       [-6.02236141e-01,  7.10909312e-01],\n",
              "       [ 8.77021233e-01,  7.10909312e-01],\n",
              "       [-7.37280704e-01, -1.08446153e+00],\n",
              "       [-1.39796026e+00,  3.38285175e-01],\n",
              "       [-4.04863317e-01, -2.43945839e+00],\n",
              "       [ 2.52016778e-02,  9.14158841e-01],\n",
              "       [-1.19435461e+00,  8.12534076e-01],\n",
              "       [-5.25364620e-01, -5.08587863e-01],\n",
              "       [-3.71265823e-02,  9.14158841e-01],\n",
              "       [ 7.73140799e-01,  1.01578361e+00],\n",
              "       [-1.29823505e+00,  2.02785489e-01],\n",
              "       [-7.49746356e-01, -3.05338334e-01],\n",
              "       [ 1.08306025e-01,  9.81908684e-01],\n",
              "       [ 8.95719711e-01, -8.13462156e-01],\n",
              "       [ 3.60076620e+00,  6.09284547e-01],\n",
              "       [ 1.56091024e-01, -1.05058661e+00],\n",
              "       [-4.96278099e-01,  1.15128329e+00],\n",
              "       [-3.09293318e-01,  1.18515821e+00],\n",
              "       [ 1.35314937e-01,  1.15128329e+00],\n",
              "       [ 1.22813710e+00, -1.55871043e+00],\n",
              "       [ 1.01414340e+00, -2.71463412e-01],\n",
              "       [-1.49976309e+00,  8.80283919e-01],\n",
              "       [ 2.39783078e+00,  1.15128329e+00],\n",
              "       [-1.01176696e-02,  1.11740837e+00],\n",
              "       [ 2.70373731e-04,  1.15128329e+00],\n",
              "       [-9.32575919e-01, -3.05338334e-01],\n",
              "       [ 2.15475057e+00,  7.44784233e-01],\n",
              "       [ 3.63851891e-01, -2.37588491e-01],\n",
              "       [ 4.13714499e-01,  8.46408998e-01],\n",
              "       [-2.46965058e-01,  1.35035646e-01],\n",
              "       [-1.97102450e-01, -3.05338334e-01],\n",
              "       [-1.14864722e+00,  2.70535332e-01],\n",
              "       [-8.99334181e-01, -2.03713569e-01],\n",
              "       [-9.11444078e-02, -2.71463412e-01],\n",
              "       [-1.17565613e+00,  4.06035018e-01],\n",
              "       [-5.33675055e-01,  4.06035018e-01],\n",
              "       [-6.87418096e-01, -1.45708567e+00],\n",
              "       [-1.29823505e+00, -7.11837392e-01],\n",
              "       [ 1.72676318e+00, -8.13462156e-01],\n",
              "       [ 6.21475366e-01, -5.08587863e-01],\n",
              "       [ 8.93642102e-01,  1.15128329e+00],\n",
              "       [-1.17357853e+00, -1.05058661e+00],\n",
              "       [ 7.04579713e-01,  1.18515821e+00],\n",
              "       [ 1.08893732e+00,  8.12534076e-01],\n",
              "       [-5.66916793e-01,  8.80283919e-01],\n",
              "       [ 2.72792864e-02, -1.66033519e+00],\n",
              "       [ 5.84434165e-02, -1.79583488e+00],\n",
              "       [-1.47690939e+00, -1.08446153e+00],\n",
              "       [-3.15526144e-01,  8.80283919e-01],\n",
              "       [ 4.18225471e-02,  1.01578361e+00],\n",
              "       [-1.01775787e+00, -3.73088177e-01],\n",
              "       [ 4.53189064e-01,  3.04410254e-01],\n",
              "       [ 4.17869717e-01, -1.89745964e+00],\n",
              "       [ 4.76042759e-01,  1.15128329e+00],\n",
              "       [-3.46690274e-01,  6.72858030e-02],\n",
              "       [ 4.59421890e-01,  1.18515821e+00],\n",
              "       [-8.24540269e-01,  3.34108815e-02],\n",
              "       [ 4.03326456e-01,  2.02785489e-01],\n",
              "       [ 3.22299718e-01, -6.44087549e-01],\n",
              "       [-4.90045273e-01,  7.78659155e-01],\n",
              "       [ 2.34798240e-03,  1.08353345e+00],\n",
              "       [-2.11645711e-01, -6.10212627e-01],\n",
              "       [ 3.53463848e-01,  9.48033762e-01],\n",
              "       [-7.28970270e-01, -4.74712941e-01],\n",
              "       [-5.02510925e-01,  1.11740837e+00],\n",
              "       [-1.38929407e-01,  3.04410254e-01],\n",
              "       [-3.63311144e-01,  1.15128329e+00],\n",
              "       [-9.73772338e-02, -4.74712941e-01],\n",
              "       [-1.33147678e+00,  1.04965853e+00],\n",
              "       [ 1.61664992e+00,  1.01578361e+00],\n",
              "       [ 2.72792864e-02,  1.25290806e+00],\n",
              "       [-6.00158532e-01, -2.37588491e-01],\n",
              "       [ 1.47745014e+00, -2.43945839e+00],\n",
              "       [-7.72600052e-01,  1.35035646e-01],\n",
              "       [ 6.54717105e-01,  9.14158841e-01],\n",
              "       [ 4.18225471e-02,  1.04965853e+00],\n",
              "       [-1.49768548e+00, -6.82138830e-02],\n",
              "       [-7.55979182e-01,  1.35035646e-01],\n",
              "       [-9.15955050e-01, -7.45712313e-01],\n",
              "       [-2.92672449e-01, -2.03713569e-01],\n",
              "       [-6.00158532e-01, -1.66033519e+00],\n",
              "       [-8.55704399e-01, -1.76195996e+00],\n",
              "       [ 1.15749840e+00,  1.21903313e+00],\n",
              "       [ 3.57619065e-01, -5.76337706e-01],\n",
              "       [-6.82907124e-02,  1.04965853e+00],\n",
              "       [ 1.08306025e-01,  1.11740837e+00],\n",
              "       [-2.36577015e-01, -1.18608629e+00],\n",
              "       [ 8.70788407e-01,  7.44784233e-01],\n",
              "       [-1.51395059e-01, -1.35963726e-01],\n",
              "       [ 9.58403726e-02,  2.36660411e-01],\n",
              "       [ 6.25630584e-01,  9.14158841e-01],\n",
              "       [-1.49768548e+00, -4.64040021e-04],\n",
              "       [-1.03645635e+00,  7.44784233e-01],\n",
              "       [ 6.36018627e-01, -6.10212627e-01],\n",
              "       [-8.07919399e-01, -4.06963098e-01],\n",
              "       [ 3.11911674e-01, -1.21996121e+00],\n",
              "       [ 1.44420840e+00,  1.21903313e+00],\n",
              "       [-1.13998103e-01,  9.81908684e-01],\n",
              "       [ 2.00100752e+00,  8.80283919e-01],\n",
              "       [ 1.25514601e+00,  4.73784861e-01],\n",
              "       [-8.80635703e-01, -4.06963098e-01],\n",
              "       [-9.57507223e-01, -1.52483551e+00],\n",
              "       [-2.46965058e-01,  1.15128329e+00],\n",
              "       [ 5.79923193e-01, -1.96520949e+00],\n",
              "       [ 3.05678848e-01,  1.15128329e+00],\n",
              "       [ 2.70373731e-04, -1.08446153e+00],\n",
              "       [-1.11540548e+00, -5.42462784e-01],\n",
              "       [-3.92041910e-02,  7.10909312e-01],\n",
              "       [ 5.67457541e-01, -1.76195996e+00],\n",
              "       [ 2.14228491e+00,  7.78659155e-01],\n",
              "       [-1.26463755e-01,  1.21903313e+00],\n",
              "       [ 2.50794404e+00,  1.18515821e+00],\n",
              "       [ 2.84902762e-01,  1.04965853e+00],\n",
              "       [-9.73772338e-02,  6.09284547e-01],\n",
              "       [-1.05723244e+00,  1.68910568e-01]])"
            ]
          },
          "metadata": {
            "tags": []
          },
          "execution_count": 17
        }
      ]
    },
    {
      "cell_type": "code",
      "metadata": {
        "id": "iRy8AqcEQuTE"
      },
      "source": [
        "# 線形回帰\n",
        "# ライブラリのインポート\n",
        "from sklearn.linear_model import LinearRegression\n",
        "from sklearn.metrics import mean_squared_error"
      ],
      "execution_count": 18,
      "outputs": []
    },
    {
      "cell_type": "code",
      "metadata": {
        "colab": {
          "base_uri": "https://localhost:8080/"
        },
        "id": "i3fL9dxpRIgI",
        "outputId": "00b0c38f-2cbc-4d56-9a45-5166393585e3"
      },
      "source": [
        "target_col = 'SalePrice'\n",
        "feature_cols = ['GrLivArea', 'YearBuilt']\n",
        "print(df[target_col].head())\n",
        "print(df[feature_cols].head())"
      ],
      "execution_count": 19,
      "outputs": [
        {
          "output_type": "stream",
          "text": [
            "0    208500\n",
            "1    181500\n",
            "2    223500\n",
            "3    140000\n",
            "4    250000\n",
            "Name: SalePrice, dtype: int64\n",
            "   GrLivArea  YearBuilt\n",
            "0       1710       2003\n",
            "1       1262       1976\n",
            "2       1786       2001\n",
            "3       1717       1915\n",
            "4       2198       2000\n"
          ],
          "name": "stdout"
        }
      ]
    },
    {
      "cell_type": "code",
      "metadata": {
        "colab": {
          "base_uri": "https://localhost:8080/"
        },
        "id": "uJyagiTFSCiP",
        "outputId": "5ca069a2-e371-4b29-e4e2-9a5c3bc55b9f"
      },
      "source": [
        "# 線形回帰の学習\n",
        "lm = LinearRegression()\n",
        "lm.fit(X_train_std, y_train)"
      ],
      "execution_count": 20,
      "outputs": [
        {
          "output_type": "execute_result",
          "data": {
            "text/plain": [
              "LinearRegression(copy_X=True, fit_intercept=True, n_jobs=None, normalize=False)"
            ]
          },
          "metadata": {
            "tags": []
          },
          "execution_count": 20
        }
      ]
    },
    {
      "cell_type": "code",
      "metadata": {
        "id": "vH448TO0SYuG"
      },
      "source": [
        "# 線形回帰の推定\n",
        "y_pred =lm.predict(X_test_std)"
      ],
      "execution_count": 21,
      "outputs": []
    },
    {
      "cell_type": "code",
      "metadata": {
        "colab": {
          "base_uri": "https://localhost:8080/"
        },
        "id": "d1Ac02ppSl6L",
        "outputId": "1dc95374-d849-41f5-ed42-b6d01c5152d0"
      },
      "source": [
        "# 線形回帰の評価\n",
        "lm_mse = mean_squared_error(y_test, y_pred)\n",
        "print('MSE:{}'.format(lm_mse))\n",
        "print('RMSE:{}'.format(np.sqrt(lm_mse)))"
      ],
      "execution_count": 22,
      "outputs": [
        {
          "output_type": "stream",
          "text": [
            "MSE:1765157813.9374583\n",
            "RMSE:42013.781238272975\n"
          ],
          "name": "stdout"
        }
      ]
    },
    {
      "cell_type": "code",
      "metadata": {
        "colab": {
          "base_uri": "https://localhost:8080/",
          "height": 286
        },
        "id": "5oD358QIrvXu",
        "outputId": "14d6db11-5f69-45ac-f1ed-b1ac676b2621"
      },
      "source": [
        "# 線形回帰の可視化\n",
        "plt.xlim(0, 400000)\n",
        "plt.ylim(0, 400000)\n",
        "plt.scatter(y_test, y_pred)\n",
        "plt.xlabel('test')\n",
        "plt.ylabel('pred')\n",
        "plt.grid(True)\n",
        "plt.show()"
      ],
      "execution_count": 23,
      "outputs": [
        {
          "output_type": "display_data",
          "data": {
            "image/png": "[encoded data removed]",
            "text/plain": [
              "<Figure size 432x288 with 1 Axes>"
            ]
          },
          "metadata": {
            "tags": [],
            "needs_background": "light"
          }
        }
      ]
    },
    {
      "cell_type": "markdown",
      "metadata": {
        "id": "wVF9BhUjOvFo"
      },
      "source": [
        "【問題3】手法の比較\n",
        "\n",
        "以下のすべての手法について学習・推定・評価・可視化を行ってください。そして、指標値を１つの表にまとめてください。その表と可視化した図を利用して結果を簡単に考察してください。どの手法がどの指標値が良かったかや、どういった図になっていたかを述べてください。\n",
        "\n",
        "\n",
        "・線形回帰\n",
        "\n",
        "・SVM\n",
        "\n",
        "・決定木\n",
        "\n",
        "・ランダムフォレスト\n",
        "\n",
        "公式ドキュメントへのリンクは以下です。本来はパラメータチューニングを行いますが、まずはデフォルトの値で実行しましょう。\n",
        "\n",
        "\n",
        "・sklearn.linear_model.LinearRegression — scikit-learn 0.21.3 documentation\n",
        "\n",
        "・sklearn.svm.SVR — scikit-learn 0.21.3 documentation\n",
        "\n",
        "・sklearn.tree.DecisionTreeRegressor — scikit-learn 0.21.3 documentation\n",
        "\n",
        "・sklearn.ensemble.RandomForestRegressor — scikit-learn 0.21.3 documentation\n",
        "\n",
        "SVM、決定木、ランダムフォレストは分類問題でも使用した手法ですが、回帰問題用のライブラリはそれぞれ専用のものに分かれています。\n",
        "\n"
      ]
    },
    {
      "cell_type": "code",
      "metadata": {
        "colab": {
          "base_uri": "https://localhost:8080/"
        },
        "id": "-3POG0csTjx9",
        "outputId": "c512dacd-a6a8-4500-f96d-182f53a45d74"
      },
      "source": [
        "# SVMの場合\n",
        "# SVRのライブラリの読み込み\n",
        "from sklearn.svm import SVR\n",
        "# SVMで学習\n",
        "sv = SVR().fit(X_train_std, y_train)\n",
        "# SVMで予測\n",
        "sv_y_pred = sv.predict(X_test_std)\n",
        "sv_y_pred"
      ],
      "execution_count": 24,
      "outputs": [
        {
          "output_type": "execute_result",
          "data": {
            "text/plain": [
              "array([162105.84318199, 162077.18298027, 162213.88541263, 161785.67016748,\n",
              "       162210.48058964, 162232.02263566, 162255.95010971, 161833.27937347,\n",
              "       162192.43756899, 162058.52398578, 161793.10418081, 162031.4594766 ,\n",
              "       161901.77352631, 161895.27322745, 162213.73654153, 162230.38783209,\n",
              "       162178.3849055 , 162169.5095549 , 161821.74871903, 161835.69542383,\n",
              "       161827.77027763, 161818.74911206, 161892.95334159, 161788.05845396,\n",
              "       162236.1801622 , 162215.18919393, 162116.31209684, 162201.81186424,\n",
              "       162258.8935351 , 161912.09805955, 162198.86184703, 161791.6267339 ,\n",
              "       162160.83931584, 161891.40825927, 161854.25085149, 162035.06711184,\n",
              "       161881.15218454, 162223.90185917, 161815.84604029, 162086.80764686,\n",
              "       161911.1470237 , 161852.00506683, 161815.00518195, 162211.02173251,\n",
              "       161916.81024191, 161829.18899124, 162024.97182313, 161860.8837727 ,\n",
              "       161828.19165855, 162006.84538072, 162068.65000694, 162257.84621085,\n",
              "       161897.97024479, 161825.79362484, 162172.53137821, 161961.08318393,\n",
              "       161823.90311618, 161972.20838821, 162029.52514218, 162181.34536187,\n",
              "       162187.38073709, 161851.56555827, 162242.30330586, 161804.4665375 ,\n",
              "       162098.99741779, 161853.25299244, 162209.4467568 , 162121.59589527,\n",
              "       161909.56397533, 161896.62003758, 162026.79713854, 161996.64714666,\n",
              "       162123.44912332, 162111.05051027, 162243.60606041, 162187.20978575,\n",
              "       161839.83659457, 162258.1000825 , 162032.81752929, 161833.33801347,\n",
              "       161833.80840306, 162133.96039172, 162206.18216615, 161799.39447862,\n",
              "       162130.78282126, 162244.10625119, 162116.45127885, 162234.3505105 ,\n",
              "       161787.00680266, 162074.29061247, 161889.87565525, 161841.76619151,\n",
              "       162016.93173806, 162209.47875851, 162214.02953225, 161997.13120381,\n",
              "       162242.51026888, 161828.50561208, 161949.78395713, 162024.26292128,\n",
              "       161807.83843973, 162038.28931499, 162150.15076553, 161820.18571683,\n",
              "       162210.21619513, 162027.94193611, 162128.73787532, 161884.74395239,\n",
              "       161785.20934017, 161901.55156031, 162063.09727831, 161797.83907246,\n",
              "       161835.07221597, 162034.71454197, 162253.1788141 , 161838.68710691,\n",
              "       161918.58808785, 162246.2809102 , 162240.77377332, 161840.57264046,\n",
              "       161872.01187739, 162258.668364  , 162115.1152398 , 161826.08639868,\n",
              "       161891.81837331, 161896.38827273, 162248.81150712, 161788.49524182,\n",
              "       161891.83129414, 161856.1611136 , 162255.32094796, 162152.70051384,\n",
              "       161850.15528784, 162157.00901145, 162057.59985608, 161913.84348522,\n",
              "       162241.59828818, 161845.32219004, 162233.7299962 , 162248.35427203,\n",
              "       162237.44919883, 162249.10957818, 161918.25593509, 162052.09523721,\n",
              "       161785.67016748, 162092.05590929, 161797.03742869, 161844.89282384,\n",
              "       162068.86718376, 162121.85314411, 161873.76821184, 162081.11014068,\n",
              "       162176.70042919, 161983.21823706, 161891.39731487, 161837.93589616,\n",
              "       162110.00548391, 161816.39645653, 162223.03529523, 161886.43344961,\n",
              "       161970.83707979, 161906.09345737, 162131.67290512, 161970.47682783,\n",
              "       162031.22732121, 162234.19712221, 162146.62949173, 161798.66305663,\n",
              "       162257.00721224, 162199.70766673, 161818.77445768, 161889.59648676,\n",
              "       161979.6741855 , 161837.88660946, 161878.43975747, 162085.6324793 ,\n",
              "       162242.19215014, 161886.32457721, 161825.25417549, 162230.96127035,\n",
              "       162113.66079909, 162109.6361536 , 162158.38641617, 162215.17680194,\n",
              "       162109.0755844 , 162198.01617281, 161835.45493618, 161799.42739479,\n",
              "       161870.33774711, 161999.32433764, 162195.16412274, 162061.51019929,\n",
              "       161785.67016748, 162010.01015177, 161912.02161994, 162192.51522073,\n",
              "       161908.57375282, 162261.46483001, 161879.69394055, 162068.30668638,\n",
              "       162261.54967592, 162146.63298596, 162118.16303107, 162242.33076982,\n",
              "       162085.65366533, 161827.35364801, 161961.70866294, 161788.71151008,\n",
              "       162234.80103869, 162119.40345876, 161952.6615225 , 161843.80661609,\n",
              "       161865.57532787, 162154.41451348, 161847.05967761, 162009.67764797,\n",
              "       161891.85266885, 161803.74816253, 162077.33113908, 162067.98248607,\n",
              "       162119.1048408 , 161992.89062843, 161937.3073134 , 161856.49729123,\n",
              "       161940.26892342, 162015.02396557, 162232.59349486, 162109.86983679,\n",
              "       162055.41537126, 162261.31092908, 162240.19698396, 161850.11490254,\n",
              "       161795.70130278, 162130.13594169, 161829.18899124, 162123.22140129,\n",
              "       162140.89222803, 162186.72068709, 161786.97435656, 162248.38258162,\n",
              "       161938.96178665, 161843.5659245 , 162160.52080636, 161821.77798958,\n",
              "       161933.26941783, 162129.09365775, 161806.84241425, 162045.6974187 ,\n",
              "       161885.87983391, 162195.85608306, 161818.03085533, 162191.08891259,\n",
              "       162252.91698623, 162132.42675139, 162247.61104307, 161870.01942944,\n",
              "       161842.22333554, 162240.92543344, 161800.56008527, 162087.75963147,\n",
              "       161954.29863094, 162253.70046829, 162042.3037702 , 162077.46499434,\n",
              "       162244.02213499, 162258.92563081, 162257.25815237, 162254.21743698,\n",
              "       162190.20295385, 161916.94644938, 161791.87514198, 162215.82373693,\n",
              "       162194.54329259, 162255.80126878, 161835.10612694, 162253.03011772,\n",
              "       161852.96788724, 162247.38046339, 161981.95839125, 162034.30422705,\n",
              "       161968.35113431, 162180.93850256, 162254.19919028, 161843.46478118,\n",
              "       161874.52080379, 161856.87889493, 161935.6870924 , 161853.85737416,\n",
              "       162110.75938434, 162078.16008303, 161999.84266124, 161803.15116661,\n",
              "       162039.21350979, 162124.05542675, 161915.46408289, 161818.08231263,\n",
              "       161875.32634055, 162222.37910328, 162047.35450511, 161890.46743093,\n",
              "       161884.26441962, 161792.51382711, 161837.58243532, 161942.90914979,\n",
              "       161850.39117066, 162146.60915148, 162228.06212014, 161856.87992862,\n",
              "       161896.6959612 , 162009.60250799, 162256.07965082, 161913.89343715,\n",
              "       162080.2318763 , 162057.06594752, 161838.0307314 , 162250.85194515,\n",
              "       161828.12713722, 161864.1379323 , 161849.73914003, 162257.18024229,\n",
              "       162126.400789  , 161897.55769522, 161862.15314637, 162048.50113051,\n",
              "       162242.83062572, 161795.48419547, 161889.28673339, 161927.53377081,\n",
              "       162199.36719359, 161974.4542345 , 161832.81477504, 162189.16922311,\n",
              "       162260.48327212, 161870.76820086, 161830.35330174, 162217.73363103,\n",
              "       162016.29520053, 162038.85733684, 161895.87948448, 162127.06192087,\n",
              "       162163.28692458, 162229.6217291 , 161998.57042809, 162099.56248488,\n",
              "       161962.12476215, 162104.47580004, 162209.07714234, 162211.97191506,\n",
              "       161815.00518195, 162130.92553059, 162035.48531242, 162240.31329867,\n",
              "       161999.429194  , 161917.44320522, 161888.10813361, 161830.23520779,\n",
              "       161944.326132  , 161909.51292577, 162001.23217497, 161821.32095706,\n",
              "       161793.68082346, 162056.34293364, 162024.83057061, 162255.99691968,\n",
              "       161795.97053205, 162260.50051432, 162241.03039868, 162083.04266481,\n",
              "       161885.20200399, 161895.71341823, 161821.00982847, 162133.24692346,\n",
              "       162210.74865309, 161804.03280212, 162161.82816432, 161932.19262271,\n",
              "       162257.34785487, 161963.70529613, 162256.37279558, 161876.24619973,\n",
              "       162134.68457372, 161959.58249402, 162082.64650517, 162209.20232444,\n",
              "       161869.99440216, 162243.12854039, 161812.81401811, 162123.13481178,\n",
              "       162060.71681458, 162151.54697012, 161908.3138638 , 161992.89062843,\n",
              "       162192.75781878, 162217.65946678, 161859.25032753, 162003.70854319,\n",
              "       161902.51821396, 162256.98518592, 162213.00450232, 161840.06561276,\n",
              "       161904.92152594, 161786.05229791, 161917.94154348, 161842.93717568,\n",
              "       161851.5922311 , 162235.52599812, 161975.00534756, 162196.0867482 ,\n",
              "       162225.31334017, 161839.48281065, 162245.74310909, 161959.37813695,\n",
              "       162092.06450221, 162256.3657592 , 161847.05967761, 161981.95839125,\n",
              "       162011.57493721, 161812.71445919, 161912.56904577, 162206.66873221,\n",
              "       162182.80319896, 162148.62862775, 162204.76497725, 161807.39023111,\n",
              "       161827.23896693, 162172.35147968, 161947.95832489, 162246.70243292,\n",
              "       161871.40056334, 161791.09012368, 162161.50515293, 161942.04132698,\n",
              "       162132.6282232 , 162195.17866462, 162094.1679705 , 162242.30330586,\n",
              "       162132.90399232, 161877.14876801])"
            ]
          },
          "metadata": {
            "tags": []
          },
          "execution_count": 24
        }
      ]
    },
    {
      "cell_type": "code",
      "metadata": {
        "colab": {
          "base_uri": "https://localhost:8080/"
        },
        "id": "QWuEQmtWVQ-8",
        "outputId": "e62565c5-493b-4aad-f335-770e61a5d989"
      },
      "source": [
        "# SVMの評価\n",
        "sv_mse = mean_squared_error(y_test, sv_y_pred)\n",
        "print('MSE:{}'.format(sv_mse))\n",
        "print('RMSE:{}'.format(np.sqrt(sv_mse)))"
      ],
      "execution_count": 25,
      "outputs": [
        {
          "output_type": "stream",
          "text": [
            "MSE:5210408041.65456\n",
            "RMSE:72183.156218432\n"
          ],
          "name": "stdout"
        }
      ]
    },
    {
      "cell_type": "code",
      "metadata": {
        "colab": {
          "base_uri": "https://localhost:8080/",
          "height": 286
        },
        "id": "F-t6KFOXvlLD",
        "outputId": "b233d833-5d24-435d-a20b-d49d1dd1d94a"
      },
      "source": [
        "# SVMの可視化\n",
        "plt.xlim(0, 400000)\n",
        "plt.ylim(0, 400000)\n",
        "plt.scatter(y_test, sv_y_pred)\n",
        "plt.xlabel('test')\n",
        "plt.ylabel('sv_pred')\n",
        "plt.grid(True)\n",
        "plt.show()"
      ],
      "execution_count": 26,
      "outputs": [
        {
          "output_type": "display_data",
          "data": {
            "image/png": "[encoded data removed]",
            "text/plain": [
              "<Figure size 432x288 with 1 Axes>"
            ]
          },
          "metadata": {
            "tags": [],
            "needs_background": "light"
          }
        }
      ]
    },
    {
      "cell_type": "code",
      "metadata": {
        "id": "Z8A0xsr0zfou"
      },
      "source": [
        "# 決定木の場合\n",
        "# ライブラリのインポート\n",
        "from sklearn.tree import DecisionTreeRegressor"
      ],
      "execution_count": 37,
      "outputs": []
    },
    {
      "cell_type": "code",
      "metadata": {
        "id": "UVhiKLSNWMpz"
      },
      "source": [
        "# 決定木の学習\n",
        "dt = DecisionTreeRegressor(max_depth = 10, random_state = 1234)\n",
        "dt.fit(X_train_std, y_train)\n",
        "# 決定木の推定\n",
        "dt_y_pred =dt.predict(X_test_std)"
      ],
      "execution_count": 38,
      "outputs": []
    },
    {
      "cell_type": "code",
      "metadata": {
        "colab": {
          "base_uri": "https://localhost:8080/"
        },
        "id": "_NQmiIkkWQA3",
        "outputId": "61399f8f-8fa0-4567-b4d7-b00b4031aef9"
      },
      "source": [
        "# 決定木の評価\n",
        "dt_mse = mean_squared_error(y_test, dt_y_pred)\n",
        "print('MSE:{}'.format(dt_mse))\n",
        "print('RMSE:{}'.format(np.sqrt(dt_mse)))"
      ],
      "execution_count": 39,
      "outputs": [
        {
          "output_type": "stream",
          "text": [
            "MSE:3129670246.178622\n",
            "RMSE:55943.4557940303\n"
          ],
          "name": "stdout"
        }
      ]
    },
    {
      "cell_type": "code",
      "metadata": {
        "colab": {
          "base_uri": "https://localhost:8080/",
          "height": 523
        },
        "id": "LNkVCb_Vo7fT",
        "outputId": "9122222a-8bc7-435f-df90-19a158b44f5a"
      },
      "source": [
        "# 決定木の可視化\n",
        "from sklearn.tree import plot_tree\n",
        "fig = plt.figure(figsize= (10, 8))\n",
        "ax = fig.add_subplot()\n",
        "ax = plot_tree(dt, feature_names = feature_cols, filled = True, rounded = True)\n",
        "\n",
        "plt.suptitle('Decison Tree')\n",
        "plt.show()"
      ],
      "execution_count": 40,
      "outputs": [
        {
          "output_type": "display_data",
          "data": {
            "image/png": "[encoded data removed]",
            "text/plain": [
              "<Figure size 720x576 with 1 Axes>"
            ]
          },
          "metadata": {
            "tags": [],
            "needs_background": "light"
          }
        }
      ]
    },
    {
      "cell_type": "code",
      "metadata": {
        "colab": {
          "base_uri": "https://localhost:8080/",
          "height": 286
        },
        "id": "E-xMwlfxw3Cx",
        "outputId": "3e7290c3-bfda-4130-d0da-941b05d0b8a2"
      },
      "source": [
        "# 決定木の可視化\n",
        "plt.xlim(0, 400000)\n",
        "plt.ylim(0, 400000)\n",
        "plt.scatter(y_test, dt_y_pred)\n",
        "plt.xlabel('test')\n",
        "plt.ylabel('dt_pred')\n",
        "plt.grid(True)\n",
        "plt.show()"
      ],
      "execution_count": 41,
      "outputs": [
        {
          "output_type": "display_data",
          "data": {
            "image/png": "[encoded data removed]",
            "text/plain": [
              "<Figure size 432x288 with 1 Axes>"
            ]
          },
          "metadata": {
            "tags": [],
            "needs_background": "light"
          }
        }
      ]
    },
    {
      "cell_type": "code",
      "metadata": {
        "id": "UTk89d3PXq8p"
      },
      "source": [
        "# ランダムフォレスト\n",
        "# ライブラリのインポート\n",
        "from sklearn.ensemble import RandomForestRegressor"
      ],
      "execution_count": 42,
      "outputs": []
    },
    {
      "cell_type": "code",
      "metadata": {
        "id": "TnhL0nqUYDnQ"
      },
      "source": [
        "# ランダムフォレストの学習\n",
        "rf = RandomForestRegressor(random_state = 1234)\n",
        "rf.fit(X_train_std, y_train)\n",
        "# ランダムフォレストの推定\n",
        "rf_y_pred =rf.predict(X_test_std)"
      ],
      "execution_count": 43,
      "outputs": []
    },
    {
      "cell_type": "code",
      "metadata": {
        "colab": {
          "base_uri": "https://localhost:8080/"
        },
        "id": "oOw84sx_YDTb",
        "outputId": "36ad78be-fe4d-41a1-92ea-aa2f7adcab93"
      },
      "source": [
        "# ランダムフォレストの評価\n",
        "rf_mse = mean_squared_error(y_test, rf_y_pred)\n",
        "print('MSE:{}'.format(rf_mse))\n",
        "print('RMSE:{}'.format(np.sqrt(rf_mse)))"
      ],
      "execution_count": 44,
      "outputs": [
        {
          "output_type": "stream",
          "text": [
            "MSE:2009786683.9873726\n",
            "RMSE:44830.64447437013\n"
          ],
          "name": "stdout"
        }
      ]
    },
    {
      "cell_type": "code",
      "metadata": {
        "colab": {
          "base_uri": "https://localhost:8080/",
          "height": 286
        },
        "id": "4-Kjze8XwtRg",
        "outputId": "96bb6cfa-b405-470b-9c0e-f5b30f613e48"
      },
      "source": [
        "# ランダムフォレストの可視化\n",
        "plt.xlim(0, 400000)\n",
        "plt.ylim(0, 400000)\n",
        "plt.scatter(y_test, rf_y_pred)\n",
        "plt.xlabel('test')\n",
        "plt.ylabel('rf_pred')\n",
        "plt.grid(True)\n",
        "plt.show()"
      ],
      "execution_count": 45,
      "outputs": [
        {
          "output_type": "display_data",
          "data": {
            "image/png": "[encoded data removed]",
            "text/plain": [
              "<Figure size 432x288 with 1 Axes>"
            ]
          },
          "metadata": {
            "tags": [],
            "needs_background": "light"
          }
        }
      ]
    },
    {
      "cell_type": "markdown",
      "metadata": {
        "id": "ASdi9ZpCKGUM"
      },
      "source": [
        ""
      ]
    },
    {
      "cell_type": "markdown",
      "metadata": {
        "id": "GIoj0JYhP1kZ"
      },
      "source": [
        "【問題4】（アドバンス課題）他の特徴量も使用しての学習\n",
        "\n",
        "ここまでは練習のために2つの特徴量だけを使いましたが、他の特徴量を加えるとどのようになるか検証してください。どう選択・加工するかにはデータ分析が重要になってきます。\n",
        "\n",
        "\n",
        "KaggleのNotebooksも参考にできます。\n",
        "\n",
        "\n",
        "House Prices: Advanced Regression Techniques | Kaggle"
      ]
    }
  ]
}
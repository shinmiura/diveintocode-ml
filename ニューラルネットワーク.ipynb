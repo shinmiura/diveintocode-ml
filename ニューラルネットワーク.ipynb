{
  "nbformat": 4,
  "nbformat_minor": 0,
  "metadata": {
    "colab": {
      "name": "ニューラルネットワーク.ipynb",
      "provenance": [],
      "mount_file_id": "116vCjva4N4ZJ-gK5rTLd2wbzo8_uEHaF",
      "authorship_tag": "ABX9TyOiruqfe11X/6lSESwLmW+S",
      "include_colab_link": true
    },
    "kernelspec": {
      "name": "python3",
      "display_name": "Python 3"
    },
    "language_info": {
      "name": "python"
    },
    "accelerator": "GPU"
  },
  "cells": [
    {
      "cell_type": "markdown",
      "metadata": {
        "id": "view-in-github",
        "colab_type": "text"
      },
      "source": [
        "<a href=\"https://colab.research.google.com/github/shinmiura/diveintocode-ml/blob/master/%E3%83%8B%E3%83%A5%E3%83%BC%E3%83%A9%E3%83%AB%E3%83%8D%E3%83%83%E3%83%88%E3%83%AF%E3%83%BC%E3%82%AF.ipynb\" target=\"_parent\"><img src=\"https://colab.research.google.com/assets/colab-badge.svg\" alt=\"Open In Colab\"/></a>"
      ]
    },
    {
      "cell_type": "code",
      "metadata": {
        "id": "ij7JP20MfjBA"
      },
      "source": [
        "# 必要なライブラリの読み込み\n",
        "\n",
        "%matplotlib inline\n",
        "\n",
        "import numpy as np\n",
        "import pandas as pd\n",
        "import torch\n",
        "from torch import nn\n",
        "from torch import optim\n",
        "import torch.nn.functional as F\n",
        "from torch.utils.data import DataLoader, TensorDataset\n",
        "from sklearn.preprocessing import OneHotEncoder\n",
        "from sklearn.model_selection import train_test_split\n",
        "import matplotlib.pyplot as plt\n",
        "from sklearn.metrics import confusion_matrix\n",
        "from sklearn.metrics import accuracy_score\n",
        "from IPython.display import Image, display_png"
      ],
      "execution_count": null,
      "outputs": []
    },
    {
      "cell_type": "code",
      "metadata": {
        "id": "dNTf1GQUhozj"
      },
      "source": [
        "# digitsデータを使うためにimportする\n",
        "from torchvision.datasets import MNIST\n",
        "import torchvision"
      ],
      "execution_count": null,
      "outputs": []
    },
    {
      "cell_type": "code",
      "metadata": {
        "colab": {
          "base_uri": "https://localhost:8080/"
        },
        "id": "j9r50b96h1pV",
        "outputId": "700a8f63-0212-4adf-cf81-2808ca31cd97"
      },
      "source": [
        "# GPUが使えるか否かの確認(使える場合は「cuda」、使えない場合は「cpa」と表示される)\n",
        "if torch.cuda.is_available():\n",
        "  device = 'cuda'\n",
        "else:\n",
        "  device = 'cpu'\n",
        "print(device)"
      ],
      "execution_count": null,
      "outputs": [
        {
          "output_type": "stream",
          "name": "stdout",
          "text": [
            "cuda\n"
          ]
        }
      ]
    },
    {
      "cell_type": "code",
      "metadata": {
        "id": "7g11FsNXF-ur"
      },
      "source": [
        "import numpy as np\n",
        "import pandas as pd\n",
        "from keras.datasets import mnist\n",
        "import matplotlib.pyplot as plt\n",
        "from sklearn.metrics import accuracy_score\n",
        "from sklearn.preprocessing import OneHotEncoder\n",
        "from sklearn.model_selection import train_test_split\n",
        "%matplotlib inline"
      ],
      "execution_count": 6,
      "outputs": []
    },
    {
      "cell_type": "markdown",
      "metadata": {
        "id": "XndPa2pgi2vJ"
      },
      "source": [
        "# 1.このSprintについて"
      ]
    },
    {
      "cell_type": "markdown",
      "metadata": {
        "id": "dGxJty0wjBLq"
      },
      "source": [
        "**Sprintの目的**\n",
        "\n",
        "・スクラッチを通してニューラルネットワークの基礎を理解する\n",
        "\n",
        "・画像データの扱い方を知る"
      ]
    },
    {
      "cell_type": "markdown",
      "metadata": {
        "id": "KY-B97m5jK3Q"
      },
      "source": [
        "**どのように学ぶか**\n",
        "\n",
        "スクラッチで単純なニューラルネットワークを実装した後、学習と検証を行なっていきます。"
      ]
    },
    {
      "cell_type": "markdown",
      "metadata": {
        "id": "LUwLZOMbjXwp"
      },
      "source": [
        "# 2.MNISTデータセット"
      ]
    },
    {
      "cell_type": "markdown",
      "metadata": {
        "id": "tGLMeee3jZyY"
      },
      "source": [
        "ニューラルネットワークスクラッチの検証にはMNISTデータセットを使用します。各種ライブラリやサイトからダウンロードできますが、ここでは深層学習フレームワークのKerasを用います。以下のコードを実行すればデータセットをダウンロードし、展開まで行えます。\n",
        "\n",
        "\n",
        "《データセットをダウンロードするコード》"
      ]
    },
    {
      "cell_type": "code",
      "metadata": {
        "id": "tev2NPYljc9o"
      },
      "source": [
        "from keras.datasets import mnist\n",
        "# データの読み込み\n",
        "(X_train, y_train), (X_test, y_test) = mnist.load_data()"
      ],
      "execution_count": 7,
      "outputs": []
    },
    {
      "cell_type": "markdown",
      "metadata": {
        "id": "MFmoL9FHjih9"
      },
      "source": [
        "《MNISTとは？》\n",
        "\n",
        "\n",
        "画像分類のための定番データセットで、手書き数字認識を行います。このデータセットには訓練用6万枚、テスト用1万枚の28×28ピクセルの白黒画像、およびそれらが0〜9のどの数字であるかというラベルが含まれています。\n",
        "\n",
        "\n",
        "《画像データとは？》\n",
        "\n",
        "\n",
        "デジタル画像は点の集合で、これをピクセルと呼びます。一般的に白黒画像であればピクセルには0〜255の値が含まれます。一方、カラー画像であればR（赤）、G（緑）、B（青）それぞれに対応する0〜255の値が含まれます。機械学習をする上では、この0〜255の値一つひとつが特徴量として扱われます。0〜255は符号なしの8ビット整数で表せる範囲になるため、NumPyであれば「uint8」型の変数として保持できます。"
      ]
    },
    {
      "cell_type": "markdown",
      "metadata": {
        "id": "nKmkVEUXjncp"
      },
      "source": [
        "**データセットの確認**\n",
        "\n",
        "どういったデータなのかを見てみます。\n",
        "\n",
        "\n",
        "《サンプルコード》"
      ]
    },
    {
      "cell_type": "code",
      "metadata": {
        "colab": {
          "base_uri": "https://localhost:8080/"
        },
        "id": "bFDUZu7AjiOe",
        "outputId": "461c96ee-ebb7-4dca-a1c6-3e63b506026e"
      },
      "source": [
        "print(X_train.shape) # (60000, 28, 28)\n",
        "print(X_test.shape) # (10000, 28, 28)\n",
        "print(X_train[0].dtype) # uint8\n",
        "print(X_train[0])"
      ],
      "execution_count": 8,
      "outputs": [
        {
          "output_type": "stream",
          "name": "stdout",
          "text": [
            "(60000, 28, 28)\n",
            "(10000, 28, 28)\n",
            "uint8\n",
            "[[  0   0   0   0   0   0   0   0   0   0   0   0   0   0   0   0   0   0\n",
            "    0   0   0   0   0   0   0   0   0   0]\n",
            " [  0   0   0   0   0   0   0   0   0   0   0   0   0   0   0   0   0   0\n",
            "    0   0   0   0   0   0   0   0   0   0]\n",
            " [  0   0   0   0   0   0   0   0   0   0   0   0   0   0   0   0   0   0\n",
            "    0   0   0   0   0   0   0   0   0   0]\n",
            " [  0   0   0   0   0   0   0   0   0   0   0   0   0   0   0   0   0   0\n",
            "    0   0   0   0   0   0   0   0   0   0]\n",
            " [  0   0   0   0   0   0   0   0   0   0   0   0   0   0   0   0   0   0\n",
            "    0   0   0   0   0   0   0   0   0   0]\n",
            " [  0   0   0   0   0   0   0   0   0   0   0   0   3  18  18  18 126 136\n",
            "  175  26 166 255 247 127   0   0   0   0]\n",
            " [  0   0   0   0   0   0   0   0  30  36  94 154 170 253 253 253 253 253\n",
            "  225 172 253 242 195  64   0   0   0   0]\n",
            " [  0   0   0   0   0   0   0  49 238 253 253 253 253 253 253 253 253 251\n",
            "   93  82  82  56  39   0   0   0   0   0]\n",
            " [  0   0   0   0   0   0   0  18 219 253 253 253 253 253 198 182 247 241\n",
            "    0   0   0   0   0   0   0   0   0   0]\n",
            " [  0   0   0   0   0   0   0   0  80 156 107 253 253 205  11   0  43 154\n",
            "    0   0   0   0   0   0   0   0   0   0]\n",
            " [  0   0   0   0   0   0   0   0   0  14   1 154 253  90   0   0   0   0\n",
            "    0   0   0   0   0   0   0   0   0   0]\n",
            " [  0   0   0   0   0   0   0   0   0   0   0 139 253 190   2   0   0   0\n",
            "    0   0   0   0   0   0   0   0   0   0]\n",
            " [  0   0   0   0   0   0   0   0   0   0   0  11 190 253  70   0   0   0\n",
            "    0   0   0   0   0   0   0   0   0   0]\n",
            " [  0   0   0   0   0   0   0   0   0   0   0   0  35 241 225 160 108   1\n",
            "    0   0   0   0   0   0   0   0   0   0]\n",
            " [  0   0   0   0   0   0   0   0   0   0   0   0   0  81 240 253 253 119\n",
            "   25   0   0   0   0   0   0   0   0   0]\n",
            " [  0   0   0   0   0   0   0   0   0   0   0   0   0   0  45 186 253 253\n",
            "  150  27   0   0   0   0   0   0   0   0]\n",
            " [  0   0   0   0   0   0   0   0   0   0   0   0   0   0   0  16  93 252\n",
            "  253 187   0   0   0   0   0   0   0   0]\n",
            " [  0   0   0   0   0   0   0   0   0   0   0   0   0   0   0   0   0 249\n",
            "  253 249  64   0   0   0   0   0   0   0]\n",
            " [  0   0   0   0   0   0   0   0   0   0   0   0   0   0  46 130 183 253\n",
            "  253 207   2   0   0   0   0   0   0   0]\n",
            " [  0   0   0   0   0   0   0   0   0   0   0   0  39 148 229 253 253 253\n",
            "  250 182   0   0   0   0   0   0   0   0]\n",
            " [  0   0   0   0   0   0   0   0   0   0  24 114 221 253 253 253 253 201\n",
            "   78   0   0   0   0   0   0   0   0   0]\n",
            " [  0   0   0   0   0   0   0   0  23  66 213 253 253 253 253 198  81   2\n",
            "    0   0   0   0   0   0   0   0   0   0]\n",
            " [  0   0   0   0   0   0  18 171 219 253 253 253 253 195  80   9   0   0\n",
            "    0   0   0   0   0   0   0   0   0   0]\n",
            " [  0   0   0   0  55 172 226 253 253 253 253 244 133  11   0   0   0   0\n",
            "    0   0   0   0   0   0   0   0   0   0]\n",
            " [  0   0   0   0 136 253 253 253 212 135 132  16   0   0   0   0   0   0\n",
            "    0   0   0   0   0   0   0   0   0   0]\n",
            " [  0   0   0   0   0   0   0   0   0   0   0   0   0   0   0   0   0   0\n",
            "    0   0   0   0   0   0   0   0   0   0]\n",
            " [  0   0   0   0   0   0   0   0   0   0   0   0   0   0   0   0   0   0\n",
            "    0   0   0   0   0   0   0   0   0   0]\n",
            " [  0   0   0   0   0   0   0   0   0   0   0   0   0   0   0   0   0   0\n",
            "    0   0   0   0   0   0   0   0   0   0]]\n"
          ]
        }
      ]
    },
    {
      "cell_type": "code",
      "metadata": {
        "colab": {
          "base_uri": "https://localhost:8080/"
        },
        "id": "b73Hj8eJi-4C",
        "outputId": "18639410-5a30-4fc2-a6cf-2b877ba9530c"
      },
      "source": [
        "# データの確認\n",
        "print('全trainデータ:{}'.format(X_train.shape))\n",
        "print('全testデータ:{}'.format(X_test.shape))\n",
        "print('trainデータの中の１つのデータ:{}'.format(X_train[0].shape))\n",
        "print('trainデータの中の１つのデータの型:{}'.format(X_train[0].dtype))"
      ],
      "execution_count": 9,
      "outputs": [
        {
          "output_type": "stream",
          "name": "stdout",
          "text": [
            "全trainデータ:(60000, 28, 28)\n",
            "全testデータ:(10000, 28, 28)\n",
            "trainデータの中の１つのデータ:(28, 28)\n",
            "trainデータの中の１つのデータの型:uint8\n"
          ]
        }
      ]
    },
    {
      "cell_type": "code",
      "metadata": {
        "colab": {
          "base_uri": "https://localhost:8080/",
          "height": 281
        },
        "id": "ljQ2DuyGuV7C",
        "outputId": "fc39027a-babe-4028-937e-a8c0c9e92dd0"
      },
      "source": [
        "# trainデータの画像を描画して表示\n",
        "index = 0\n",
        "# grayに_rを付けて色を逆転させた(∵個人的に黒字が見やすい)。interpolationで画像を拡大表示する時の補完方法を指定。\n",
        "plt.imshow(X_train[index], cmap = plt.cm.gray_r, interpolation = 'nearest')\n",
        "plt.title('label : {}'.format(y_train[index]))\n",
        "plt.show()"
      ],
      "execution_count": 10,
      "outputs": [
        {
          "output_type": "display_data",
          "data": {
            "image/png": "[encoded data removed]",
            "text/plain": [
              "<Figure size 432x288 with 1 Axes>"
            ]
          },
          "metadata": {
            "needs_background": "light"
          }
        }
      ]
    },
    {
      "cell_type": "markdown",
      "metadata": {
        "id": "zd9eT-wsovp9"
      },
      "source": [
        "各データは28×28ピクセルの白黒画像です。"
      ]
    },
    {
      "cell_type": "markdown",
      "metadata": {
        "id": "TN3fOj6dowtu"
      },
      "source": [
        "**平滑化**\n",
        "\n",
        "(1, 28, 28)の各画像を、(1, 784)に変換します。これまで学んできた機械学習手法や、今回扱う全結合層のみのニューラルネットワークではこの形で扱います。すべてのピクセルが一列になっていることを、 平滑化（flatten） してあるという風に表現します。\n",
        "\n",
        "\n",
        "《サンプルコード》\n",
        "\n"
      ]
    },
    {
      "cell_type": "code",
      "metadata": {
        "id": "UKwV8iN9o6bX"
      },
      "source": [
        "X_train = X_train.reshape(-1, 784)\n",
        "X_test = X_test.reshape(-1, 784)"
      ],
      "execution_count": 11,
      "outputs": []
    },
    {
      "cell_type": "markdown",
      "metadata": {
        "id": "U86hVbmWo_yD"
      },
      "source": [
        "《補足》\n",
        "\n",
        "\n",
        "ここまで機械学習を学んでくる中で、特徴量の数を「次元」と呼んできました。その視点ではMNISTは784次元のデータです。一方で、NumPyのshapeが(784,)の状態を1次元配列とも呼びます。画像としての縦横の情報を持つ（28, 28)の状態であれば、2次元配列です。この視点では2次元のデータです。さらに、もしカラー画像であれば(28, 28, 3)ということになり、3次元配列です。先ほどの視点では3次元のデータになります。しかし、白黒でもカラーでも平面画像であり、立体データではないという視点で、2次元のデータです。画像データを扱う際にはこのように「次元」という言葉が複数の意味合いで使われることに注意してください。"
      ]
    },
    {
      "cell_type": "code",
      "metadata": {
        "id": "3PrkvSWuzHA_"
      },
      "source": [
        "# 画像データを一直線に並べる\n",
        "X_train = X_train.reshape(-1, 784)\n",
        "X_test = X_test.reshape(-1, 784)"
      ],
      "execution_count": 12,
      "outputs": []
    },
    {
      "cell_type": "code",
      "metadata": {
        "colab": {
          "base_uri": "https://localhost:8080/"
        },
        "id": "HSfF-29Q0is1",
        "outputId": "db2b7136-b294-4bf3-b0a7-d394c83466de"
      },
      "source": [
        "# データの確認\n",
        "print('全trainデータ:{}'.format(X_train.shape))\n",
        "print('全testデータ:{}'.format(X_test.shape))\n",
        "print('trainデータの中の１つのデータ:{}'.format(X_train[0].shape))\n",
        "print('trainデータの中の１つのデータの型:{}'.format(X_train[0].dtype))"
      ],
      "execution_count": 13,
      "outputs": [
        {
          "output_type": "stream",
          "name": "stdout",
          "text": [
            "全trainデータ:(60000, 784)\n",
            "全testデータ:(10000, 784)\n",
            "trainデータの中の１つのデータ:(784,)\n",
            "trainデータの中の１つのデータの型:uint8\n"
          ]
        }
      ]
    },
    {
      "cell_type": "markdown",
      "metadata": {
        "id": "z-4_tPjVpDoL"
      },
      "source": [
        "**画像データの可視化**\n",
        "\n",
        "画像データを可視化します。plt.imshowに渡します。\n",
        "\n",
        "\n",
        "《サンプルコード》"
      ]
    },
    {
      "cell_type": "code",
      "metadata": {
        "id": "FSrKHUOrpO3f"
      },
      "source": [
        "import matplotlib.pyplot as plt\n",
        "%matplotlib inline\n",
        "index = 0\n",
        "image = X_train[index].reshape(28,28)\n",
        "# X_train[index]: (784,)\n",
        "# image: (28, 28)\n",
        "plt.imshow(image, 'gray')\n",
        "plt.title('label : {}'.format(y_train[index]))\n",
        "plt.show()"
      ],
      "execution_count": null,
      "outputs": []
    },
    {
      "cell_type": "code",
      "metadata": {
        "colab": {
          "base_uri": "https://localhost:8080/",
          "height": 281
        },
        "id": "XQFTivDJ4EyN",
        "outputId": "8daf7bb8-30a6-41c5-de73-0625cce17b94"
      },
      "source": [
        "# import matplotlib.pyplot as plt (一番上で定義呼び出し済のためコメントアウト)\n",
        "# %matplotlib inline (一番上で定義呼び出し済のためコメントアウト)\n",
        "# 上記雛形は先頭のデータをしているが、n番目のデータというのはここで変更できる\n",
        "index = 0\n",
        "# X_train[index]: (784,)\n",
        "# image: (28, 28)\n",
        "# grayに_rを付けて色を逆転させた(∵個人的に黒字が見やすい)。interpolationで画像を拡大表示する時の補完方法を指定。\n",
        "plt.imshow(X_train[index].reshape(28, 28), cmap = plt.cm.gray_r, interpolation = 'nearest')\n",
        "plt.title('label : {}'.format(y_train[index]))\n",
        "plt.show()"
      ],
      "execution_count": 14,
      "outputs": [
        {
          "output_type": "display_data",
          "data": {
            "image/png": "[encoded data removed]",
            "text/plain": [
              "<Figure size 432x288 with 1 Axes>"
            ]
          },
          "metadata": {
            "needs_background": "light"
          }
        }
      ]
    },
    {
      "cell_type": "markdown",
      "metadata": {
        "id": "5Rql9E5ApS2U"
      },
      "source": [
        "numpy.reshape — NumPy v1.17 Manual\n",
        "\n",
        "\n",
        "matplotlib.pyplot.imshow — Matplotlib 3.1.1 documentation\n",
        "\n",
        "\n",
        "《発展的話題》\n",
        "\n",
        "\n",
        "画像データは符号なし8ビット整数のuint8型で保持されることが一般的ですが、plt.imshowはより自由な配列を画像として表示することが可能です。例えば、以下のようにマイナスの値を持ったfloat64型の浮動小数点であってもエラーにはならないし、先ほどとまったく同じ風に表示されます。\n",
        "\n"
      ]
    },
    {
      "cell_type": "code",
      "metadata": {
        "colab": {
          "base_uri": "https://localhost:8080/",
          "height": 1000
        },
        "id": "OOQDmGmkpUxo",
        "outputId": "52677a3d-2720-4e12-a9a2-294882506463"
      },
      "source": [
        "index = 0\n",
        "image = X_train[index].reshape(28,28)\n",
        "image = image.astype(np.float) # float型に変換\n",
        "image -= 105.35 # 意図的に負の小数値を作り出してみる\n",
        "plt.imshow(image, 'gray')\n",
        "plt.title('label : {}'.format(y_train[index]))\n",
        "plt.show()\n",
        "print(image) # 値を確認"
      ],
      "execution_count": 15,
      "outputs": [
        {
          "output_type": "display_data",
          "data": {
            "image/png": "[encoded data removed]",
            "text/plain": [
              "<Figure size 432x288 with 1 Axes>"
            ]
          },
          "metadata": {
            "needs_background": "light"
          }
        },
        {
          "output_type": "stream",
          "name": "stdout",
          "text": [
            "[[-105.35 -105.35 -105.35 -105.35 -105.35 -105.35 -105.35 -105.35 -105.35\n",
            "  -105.35 -105.35 -105.35 -105.35 -105.35 -105.35 -105.35 -105.35 -105.35\n",
            "  -105.35 -105.35 -105.35 -105.35 -105.35 -105.35 -105.35 -105.35 -105.35\n",
            "  -105.35]\n",
            " [-105.35 -105.35 -105.35 -105.35 -105.35 -105.35 -105.35 -105.35 -105.35\n",
            "  -105.35 -105.35 -105.35 -105.35 -105.35 -105.35 -105.35 -105.35 -105.35\n",
            "  -105.35 -105.35 -105.35 -105.35 -105.35 -105.35 -105.35 -105.35 -105.35\n",
            "  -105.35]\n",
            " [-105.35 -105.35 -105.35 -105.35 -105.35 -105.35 -105.35 -105.35 -105.35\n",
            "  -105.35 -105.35 -105.35 -105.35 -105.35 -105.35 -105.35 -105.35 -105.35\n",
            "  -105.35 -105.35 -105.35 -105.35 -105.35 -105.35 -105.35 -105.35 -105.35\n",
            "  -105.35]\n",
            " [-105.35 -105.35 -105.35 -105.35 -105.35 -105.35 -105.35 -105.35 -105.35\n",
            "  -105.35 -105.35 -105.35 -105.35 -105.35 -105.35 -105.35 -105.35 -105.35\n",
            "  -105.35 -105.35 -105.35 -105.35 -105.35 -105.35 -105.35 -105.35 -105.35\n",
            "  -105.35]\n",
            " [-105.35 -105.35 -105.35 -105.35 -105.35 -105.35 -105.35 -105.35 -105.35\n",
            "  -105.35 -105.35 -105.35 -105.35 -105.35 -105.35 -105.35 -105.35 -105.35\n",
            "  -105.35 -105.35 -105.35 -105.35 -105.35 -105.35 -105.35 -105.35 -105.35\n",
            "  -105.35]\n",
            " [-105.35 -105.35 -105.35 -105.35 -105.35 -105.35 -105.35 -105.35 -105.35\n",
            "  -105.35 -105.35 -105.35 -102.35  -87.35  -87.35  -87.35   20.65   30.65\n",
            "    69.65  -79.35   60.65  149.65  141.65   21.65 -105.35 -105.35 -105.35\n",
            "  -105.35]\n",
            " [-105.35 -105.35 -105.35 -105.35 -105.35 -105.35 -105.35 -105.35  -75.35\n",
            "   -69.35  -11.35   48.65   64.65  147.65  147.65  147.65  147.65  147.65\n",
            "   119.65   66.65  147.65  136.65   89.65  -41.35 -105.35 -105.35 -105.35\n",
            "  -105.35]\n",
            " [-105.35 -105.35 -105.35 -105.35 -105.35 -105.35 -105.35  -56.35  132.65\n",
            "   147.65  147.65  147.65  147.65  147.65  147.65  147.65  147.65  145.65\n",
            "   -12.35  -23.35  -23.35  -49.35  -66.35 -105.35 -105.35 -105.35 -105.35\n",
            "  -105.35]\n",
            " [-105.35 -105.35 -105.35 -105.35 -105.35 -105.35 -105.35  -87.35  113.65\n",
            "   147.65  147.65  147.65  147.65  147.65   92.65   76.65  141.65  135.65\n",
            "  -105.35 -105.35 -105.35 -105.35 -105.35 -105.35 -105.35 -105.35 -105.35\n",
            "  -105.35]\n",
            " [-105.35 -105.35 -105.35 -105.35 -105.35 -105.35 -105.35 -105.35  -25.35\n",
            "    50.65    1.65  147.65  147.65   99.65  -94.35 -105.35  -62.35   48.65\n",
            "  -105.35 -105.35 -105.35 -105.35 -105.35 -105.35 -105.35 -105.35 -105.35\n",
            "  -105.35]\n",
            " [-105.35 -105.35 -105.35 -105.35 -105.35 -105.35 -105.35 -105.35 -105.35\n",
            "   -91.35 -104.35   48.65  147.65  -15.35 -105.35 -105.35 -105.35 -105.35\n",
            "  -105.35 -105.35 -105.35 -105.35 -105.35 -105.35 -105.35 -105.35 -105.35\n",
            "  -105.35]\n",
            " [-105.35 -105.35 -105.35 -105.35 -105.35 -105.35 -105.35 -105.35 -105.35\n",
            "  -105.35 -105.35   33.65  147.65   84.65 -103.35 -105.35 -105.35 -105.35\n",
            "  -105.35 -105.35 -105.35 -105.35 -105.35 -105.35 -105.35 -105.35 -105.35\n",
            "  -105.35]\n",
            " [-105.35 -105.35 -105.35 -105.35 -105.35 -105.35 -105.35 -105.35 -105.35\n",
            "  -105.35 -105.35  -94.35   84.65  147.65  -35.35 -105.35 -105.35 -105.35\n",
            "  -105.35 -105.35 -105.35 -105.35 -105.35 -105.35 -105.35 -105.35 -105.35\n",
            "  -105.35]\n",
            " [-105.35 -105.35 -105.35 -105.35 -105.35 -105.35 -105.35 -105.35 -105.35\n",
            "  -105.35 -105.35 -105.35  -70.35  135.65  119.65   54.65    2.65 -104.35\n",
            "  -105.35 -105.35 -105.35 -105.35 -105.35 -105.35 -105.35 -105.35 -105.35\n",
            "  -105.35]\n",
            " [-105.35 -105.35 -105.35 -105.35 -105.35 -105.35 -105.35 -105.35 -105.35\n",
            "  -105.35 -105.35 -105.35 -105.35  -24.35  134.65  147.65  147.65   13.65\n",
            "   -80.35 -105.35 -105.35 -105.35 -105.35 -105.35 -105.35 -105.35 -105.35\n",
            "  -105.35]\n",
            " [-105.35 -105.35 -105.35 -105.35 -105.35 -105.35 -105.35 -105.35 -105.35\n",
            "  -105.35 -105.35 -105.35 -105.35 -105.35  -60.35   80.65  147.65  147.65\n",
            "    44.65  -78.35 -105.35 -105.35 -105.35 -105.35 -105.35 -105.35 -105.35\n",
            "  -105.35]\n",
            " [-105.35 -105.35 -105.35 -105.35 -105.35 -105.35 -105.35 -105.35 -105.35\n",
            "  -105.35 -105.35 -105.35 -105.35 -105.35 -105.35  -89.35  -12.35  146.65\n",
            "   147.65   81.65 -105.35 -105.35 -105.35 -105.35 -105.35 -105.35 -105.35\n",
            "  -105.35]\n",
            " [-105.35 -105.35 -105.35 -105.35 -105.35 -105.35 -105.35 -105.35 -105.35\n",
            "  -105.35 -105.35 -105.35 -105.35 -105.35 -105.35 -105.35 -105.35  143.65\n",
            "   147.65  143.65  -41.35 -105.35 -105.35 -105.35 -105.35 -105.35 -105.35\n",
            "  -105.35]\n",
            " [-105.35 -105.35 -105.35 -105.35 -105.35 -105.35 -105.35 -105.35 -105.35\n",
            "  -105.35 -105.35 -105.35 -105.35 -105.35  -59.35   24.65   77.65  147.65\n",
            "   147.65  101.65 -103.35 -105.35 -105.35 -105.35 -105.35 -105.35 -105.35\n",
            "  -105.35]\n",
            " [-105.35 -105.35 -105.35 -105.35 -105.35 -105.35 -105.35 -105.35 -105.35\n",
            "  -105.35 -105.35 -105.35  -66.35   42.65  123.65  147.65  147.65  147.65\n",
            "   144.65   76.65 -105.35 -105.35 -105.35 -105.35 -105.35 -105.35 -105.35\n",
            "  -105.35]\n",
            " [-105.35 -105.35 -105.35 -105.35 -105.35 -105.35 -105.35 -105.35 -105.35\n",
            "  -105.35  -81.35    8.65  115.65  147.65  147.65  147.65  147.65   95.65\n",
            "   -27.35 -105.35 -105.35 -105.35 -105.35 -105.35 -105.35 -105.35 -105.35\n",
            "  -105.35]\n",
            " [-105.35 -105.35 -105.35 -105.35 -105.35 -105.35 -105.35 -105.35  -82.35\n",
            "   -39.35  107.65  147.65  147.65  147.65  147.65   92.65  -24.35 -103.35\n",
            "  -105.35 -105.35 -105.35 -105.35 -105.35 -105.35 -105.35 -105.35 -105.35\n",
            "  -105.35]\n",
            " [-105.35 -105.35 -105.35 -105.35 -105.35 -105.35  -87.35   65.65  113.65\n",
            "   147.65  147.65  147.65  147.65   89.65  -25.35  -96.35 -105.35 -105.35\n",
            "  -105.35 -105.35 -105.35 -105.35 -105.35 -105.35 -105.35 -105.35 -105.35\n",
            "  -105.35]\n",
            " [-105.35 -105.35 -105.35 -105.35  -50.35   66.65  120.65  147.65  147.65\n",
            "   147.65  147.65  138.65   27.65  -94.35 -105.35 -105.35 -105.35 -105.35\n",
            "  -105.35 -105.35 -105.35 -105.35 -105.35 -105.35 -105.35 -105.35 -105.35\n",
            "  -105.35]\n",
            " [-105.35 -105.35 -105.35 -105.35   30.65  147.65  147.65  147.65  106.65\n",
            "    29.65   26.65  -89.35 -105.35 -105.35 -105.35 -105.35 -105.35 -105.35\n",
            "  -105.35 -105.35 -105.35 -105.35 -105.35 -105.35 -105.35 -105.35 -105.35\n",
            "  -105.35]\n",
            " [-105.35 -105.35 -105.35 -105.35 -105.35 -105.35 -105.35 -105.35 -105.35\n",
            "  -105.35 -105.35 -105.35 -105.35 -105.35 -105.35 -105.35 -105.35 -105.35\n",
            "  -105.35 -105.35 -105.35 -105.35 -105.35 -105.35 -105.35 -105.35 -105.35\n",
            "  -105.35]\n",
            " [-105.35 -105.35 -105.35 -105.35 -105.35 -105.35 -105.35 -105.35 -105.35\n",
            "  -105.35 -105.35 -105.35 -105.35 -105.35 -105.35 -105.35 -105.35 -105.35\n",
            "  -105.35 -105.35 -105.35 -105.35 -105.35 -105.35 -105.35 -105.35 -105.35\n",
            "  -105.35]\n",
            " [-105.35 -105.35 -105.35 -105.35 -105.35 -105.35 -105.35 -105.35 -105.35\n",
            "  -105.35 -105.35 -105.35 -105.35 -105.35 -105.35 -105.35 -105.35 -105.35\n",
            "  -105.35 -105.35 -105.35 -105.35 -105.35 -105.35 -105.35 -105.35 -105.35\n",
            "  -105.35]]\n"
          ]
        }
      ]
    },
    {
      "cell_type": "markdown",
      "metadata": {
        "id": "gtgELejRpYn3"
      },
      "source": [
        "これは、自動的に値を0〜255の整数に変換して処理するように作られているからです。uint8型であっても最小値が0、最大値が255でない場合には色合いがおかしくなります。それを防ぐためには次のように引数を入れてください。"
      ]
    },
    {
      "cell_type": "code",
      "metadata": {
        "colab": {
          "base_uri": "https://localhost:8080/",
          "height": 282
        },
        "id": "Rm2AgAG-pdN3",
        "outputId": "1325699e-97ba-43ed-d694-f0bbfb9030a4"
      },
      "source": [
        "plt.imshow(image, 'gray', vmin = 0, vmax = 255)"
      ],
      "execution_count": 16,
      "outputs": [
        {
          "output_type": "execute_result",
          "data": {
            "text/plain": [
              "<matplotlib.image.AxesImage at 0x7f55d53c8b50>"
            ]
          },
          "metadata": {},
          "execution_count": 16
        },
        {
          "output_type": "display_data",
          "data": {
            "image/png": "[encoded data removed]",
            "text/plain": [
              "<Figure size 432x288 with 1 Axes>"
            ]
          },
          "metadata": {
            "needs_background": "light"
          }
        }
      ]
    },
    {
      "cell_type": "markdown",
      "metadata": {
        "id": "9MU2damUpcOk"
      },
      "source": [
        "画像関係のライブラリではこの自動的なスケーリングが思わぬ結果を生むことがあるので、新しいメソッドを使うときには確認しておきましょう。"
      ]
    },
    {
      "cell_type": "markdown",
      "metadata": {
        "id": "D2nAdSXwpj-s"
      },
      "source": [
        "**前処理**\n",
        "\n",
        "画像は0から255のuint8型で表されますが、機械学習をする上では0から1のfloat型で扱うことになります。以下のコードで変換可能です。\n",
        "\n",
        "\n",
        "《サンプルコード》"
      ]
    },
    {
      "cell_type": "code",
      "metadata": {
        "id": "eKTnyf_WpjO0"
      },
      "source": [
        "X_train = X_train.astype(np.float)\n",
        "X_test = X_test.astype(np.float)\n",
        "X_train /= 255\n",
        "X_test /= 255\n",
        "print(X_train.max()) # 1.0\n",
        "print(X_train.min()) # 0.0"
      ],
      "execution_count": null,
      "outputs": []
    },
    {
      "cell_type": "code",
      "metadata": {
        "colab": {
          "base_uri": "https://localhost:8080/"
        },
        "id": "r8Z9DHPn1f1v",
        "outputId": "da55a8b2-34c4-4ef5-9361-86268bb521d9"
      },
      "source": [
        "# NNの入力値にするため、0〜1の範囲に収める\n",
        "X_train = X_train.astype(np.float)\n",
        "X_test = X_test.astype(np.float)\n",
        "# 色の階調が255であるため255で割ると講義内で説明あり\n",
        "X_train /= 255\n",
        "X_test /= 255\n",
        "# 0〜1の範囲内に収まっているか確認\n",
        "print('trainデータの最大値:{}、最小値:{}'.format(X_train.max(), X_train.min()))"
      ],
      "execution_count": 17,
      "outputs": [
        {
          "output_type": "stream",
          "name": "stdout",
          "text": [
            "trainデータの最大値:1.0、最小値:0.0\n"
          ]
        }
      ]
    },
    {
      "cell_type": "markdown",
      "metadata": {
        "id": "3lJ-lQlCpwn1"
      },
      "source": [
        "また、正解ラベルは0から9の整数ですが、ニューラルネットワークで多クラス分類を行う際には one-hot表現 に変換します。scikit-learnのOneHotEncoderを使用したコードが以下です。このone-hot表現による値はそのラベルである確率を示していることになるため、float型で扱います。\n",
        "\n",
        "《サンプルコード》"
      ]
    },
    {
      "cell_type": "code",
      "metadata": {
        "id": "hY7kXmENp3zO"
      },
      "source": [
        "from sklearn.preprocessing import OneHotEncoder\n",
        "enc = OneHotEncoder(handle_unknown='ignore', sparse=False)\n",
        "y_train_one_hot = enc.fit_transform(y_train[:, np.newaxis])\n",
        "y_test_one_hot = enc.transform(y_test[:, np.newaxis])\n",
        "print(y_train.shape) # (60000,)\n",
        "print(y_train_one_hot.shape) # (60000, 10)\n",
        "print(y_train_one_hot.dtype) # float64"
      ],
      "execution_count": null,
      "outputs": []
    },
    {
      "cell_type": "code",
      "metadata": {
        "colab": {
          "base_uri": "https://localhost:8080/"
        },
        "id": "EeL0cvbaihSa",
        "outputId": "15930c46-597f-467a-f051-e9bf9247cec5"
      },
      "source": [
        "# from sklearn.preprocessing import OneHotEncoder (一番上で定義呼び出し済のためコメントアウト)\n",
        "enc = OneHotEncoder(handle_unknown='ignore', sparse=False)\n",
        "y_train_one_hot = enc.fit_transform(y_train[:, np.newaxis])\n",
        "y_test_one_hot = enc.transform(y_test[:, np.newaxis])\n",
        "print(y_train.shape) # (60000,)\n",
        "print(y_train_one_hot.shape) # (60000, 10)\n",
        "print(y_train_one_hot.dtype) # float64"
      ],
      "execution_count": 18,
      "outputs": [
        {
          "output_type": "stream",
          "name": "stdout",
          "text": [
            "(60000,)\n",
            "(60000, 10)\n",
            "float64\n"
          ]
        }
      ]
    },
    {
      "cell_type": "code",
      "metadata": {
        "id": "JU1NvWKz-BKi"
      },
      "source": [
        "# trainデータを分割してバリデーションデータを作成\n",
        "X_train, X_val, y_train, y_val = train_test_split(X_train, y_train, test_size = 0.2)"
      ],
      "execution_count": 19,
      "outputs": []
    },
    {
      "cell_type": "code",
      "metadata": {
        "colab": {
          "base_uri": "https://localhost:8080/"
        },
        "id": "TJtE4i7I-h18",
        "outputId": "cde584aa-a51a-4462-da19-dcc707006ace"
      },
      "source": [
        "# from sklearn.preprocessing import OneHotEncoder (一番上で定義呼び出し済のためコメントアウト)\n",
        "enc = OneHotEncoder(handle_unknown='ignore', sparse=False)\n",
        "y_train_one_hot = enc.fit_transform(y_train[:, np.newaxis])\n",
        "y_test_one_hot = enc.transform(y_test[:, np.newaxis])\n",
        "y_val_one_hot = enc.transform(y_val[:, np.newaxis]) # add\n",
        "print('trainデータの目的変数:{}'.format(y_train.shape)) # (48000,)\n",
        "print(y_train_one_hot.shape) # (48000, 10)\n",
        "print(y_train_one_hot.dtype) # float64\n",
        "print('testデータの目的変数:{}'.format(y_test.shape)) # (10000,)\n",
        "print('validationデータの目的変数:{}'.format(y_val.shape)) # (12000,)"
      ],
      "execution_count": 20,
      "outputs": [
        {
          "output_type": "stream",
          "name": "stdout",
          "text": [
            "trainデータの目的変数:(48000,)\n",
            "(48000, 10)\n",
            "float64\n",
            "testデータの目的変数:(10000,)\n",
            "validationデータの目的変数:(12000,)\n"
          ]
        }
      ]
    },
    {
      "cell_type": "markdown",
      "metadata": {
        "id": "BQ5O9Y3-p9aJ"
      },
      "source": [
        "sklearn.preprocessing.OneHotEncoder — scikit-learn 0.21.3 documentation\n",
        "\n",
        "\n",
        "さらに、訓練データ6万枚の内2割を検証データとして分割してください。訓練データが48000枚、検証データが12000枚となります。\n",
        "\n",
        "\n",
        "《サンプルコード》"
      ]
    },
    {
      "cell_type": "code",
      "metadata": {
        "id": "CTUPmeDOp-hD",
        "colab": {
          "base_uri": "https://localhost:8080/"
        },
        "outputId": "e08b5970-705b-49bc-95d7-c592eb68f877"
      },
      "source": [
        "X_train, X_val, y_train, y_val = train_test_split(X_train, y_train, test_size=0.2)\n",
        "print(X_train.shape) # (48000, 784)\n",
        "print(X_val.shape) # (12000, 784)"
      ],
      "execution_count": null,
      "outputs": [
        {
          "output_type": "stream",
          "name": "stdout",
          "text": [
            "(38400, 784)\n",
            "(9600, 784)\n"
          ]
        }
      ]
    },
    {
      "cell_type": "markdown",
      "metadata": {
        "id": "ibIJJ7RmqCvZ"
      },
      "source": [
        "# 3.ニューラルネットワークスクラッチ"
      ]
    },
    {
      "cell_type": "markdown",
      "metadata": {
        "id": "zQxR3zaHqGMr"
      },
      "source": [
        "ニューラルネットワークのクラスをスクラッチで作成していきます。NumPyなど最低限のライブラリのみを使いアルゴリズムを実装していきます。\n",
        "\n",
        "\n",
        "今回は多クラス分類を行う3層のニューラルネットワークを作成します。層の数などは固定した上でニューラルネットワークの基本を学びます。次のSprintで層を自由に変えられる設計にしていきます。\n",
        "\n",
        "\n",
        "以下に雛形を用意してあります。このScratchSimpleNeuralNetrowkClassifierクラスにコードを書き加えていってください。"
      ]
    },
    {
      "cell_type": "code",
      "metadata": {
        "id": "fZVcdVC1qNrP"
      },
      "source": [
        "# 《雛形》\n",
        "class ScratchSimpleNeuralNetrowkClassifier():\n",
        "    \"\"\"\n",
        "    シンプルな三層ニューラルネットワーク分類器\n",
        "    Parameters\n",
        "    ----------\n",
        "    Attributes\n",
        "    ----------\n",
        "    \"\"\"\n",
        "    def __init__(self, verbose = True):\n",
        "        self.verbose = verbose\n",
        "        pass\n",
        "    def fit(self, X, y, X_val=None, y_val=None):\n",
        "        \"\"\"\n",
        "        ニューラルネットワーク分類器を学習する。\n",
        "        Parameters\n",
        "        ----------\n",
        "        X : 次の形のndarray, shape (n_samples, n_features)\n",
        "            訓練データの特徴量\n",
        "        y : 次の形のndarray, shape (n_samples, )\n",
        "            訓練データの正解値\n",
        "        X_val : 次の形のndarray, shape (n_samples, n_features)\n",
        "            検証データの特徴量\n",
        "        y_val : 次の形のndarray, shape (n_samples, )\n",
        "            検証データの正解値\n",
        "        \"\"\"\n",
        "        if self.verbose:\n",
        "            #verboseをTrueにした際は学習過程などを出力する\n",
        "            print()\n",
        "        pass\n",
        "    def predict(self, X):\n",
        "        \"\"\"\n",
        "        ニューラルネットワーク分類器を使い推定する。\n",
        "        Parameters\n",
        "        ----------\n",
        "        X : 次の形のndarray, shape (n_samples, n_features)\n",
        "            サンプル\n",
        "        Returns\n",
        "        -------\n",
        "            次の形のndarray, shape (n_samples, 1)\n",
        "            推定結果\n",
        "        \"\"\"\n",
        "        pass\n",
        "        return\n"
      ],
      "execution_count": null,
      "outputs": []
    },
    {
      "cell_type": "code",
      "metadata": {
        "id": "9OaBOeR1kV-M"
      },
      "source": [
        "class ScratchSimpleNeuralNetrowkClassifier():\n",
        "    \"\"\"\n",
        "    シンプルな三層ニューラルネットワーク分類器\n",
        "    Parameters\n",
        "    ----------\n",
        "    Attributes\n",
        "    ----------\n",
        "    \"\"\"\n",
        "    def __init__(self, batch_size = 20, n_features = 784, n_nodes1 = 400, n_nodes2 = 200, n_output = 10, sigma = 0.02, lr = 0.01, epoch = 10, verbose = True):\n",
        "        \"\"\"\n",
        "        学習に必要なインスタンス変数の初期化\n",
        "        Parameters\n",
        "        ----------\n",
        "        verbose : 計算過程を出力するか否か\n",
        "        batch_size : ミニバッチのデータ数\n",
        "        n_features : 説明変数の数\n",
        "        n_nodes1 : 1層目のノードの数\n",
        "        n_nodes2 : 2層目のノードの数\n",
        "        n_output : 出力層のノードの数\n",
        "        sigma : 重みの初期化の際のガウス分布の標準偏差\n",
        "        lr : 学習率\n",
        "        epoch : 学習回数\n",
        "        \"\"\"\n",
        "        self.verbose = verbose\n",
        "        self.batch_size = batch_size\n",
        "        self.n_features = n_features\n",
        "        self.n_nodes1 = n_nodes1\n",
        "        self.n_nodes2 = n_nodes2\n",
        "        self.n_output = n_output\n",
        "        self.sigma = sigma\n",
        "        self.lr = lr\n",
        "        self.epoch = epoch\n",
        "        # 損失記録用\n",
        "        self.loss_train = []\n",
        "        self.loss_val = [] # change\n",
        "        # 使用する重みの初期化(問題１の解答をここに記載する)\n",
        "        self.W1 = self.sigma * np.random.randn(self.n_features, self.n_nodes1)\n",
        "        self.W2 = self.sigma * np.random.randn(self.n_nodes1, self.n_nodes2)\n",
        "        self.W3 = self.sigma * np.random.randn(self.n_nodes2, self.n_output)\n",
        "        self.B1 = self.sigma * np.random.randn(1, self.n_nodes1)\n",
        "        self.B2 = self.sigma * np.random.randn(1, self.n_nodes2)\n",
        "        self.B3 = self.sigma * np.random.randn(1, self.n_output)\n",
        "\n",
        "    def fit(self, X, y, X_val=None, y_val=None): # change\n",
        "        \"\"\"\n",
        "        ニューラルネットワーク分類器を学習する。\n",
        "        Parameters\n",
        "        ----------\n",
        "        X : 次の形のndarray, shape (n_samples, n_features)\n",
        "            訓練データの特徴量\n",
        "        y : 次の形のndarray, shape (n_samples, )\n",
        "            訓練データの正解値\n",
        "        X_val : 次の形のndarray, shape (n_samples, n_features)\n",
        "            検証データの特徴量\n",
        "        y_val : 次の形のndarray, shape (n_samples, )\n",
        "            検証データの正解値\n",
        "        \n",
        "        Overview\n",
        "        -----------\n",
        "        学習回数分学習を繰り返すが、各学習の中でもミニバッチで全データ学習させている。\n",
        "        イメージとしては、下記\n",
        "        学習０回目\n",
        "        ミニバッチ学習０回目→ミニバッチ学習１回目→・・・\n",
        "        学習１回目\n",
        "        ミニバッチ学習０回目→ミニバッチ学習１回目→・・・\n",
        "        ・・・・\n",
        "        \"\"\"\n",
        "        # 学習回数分ループ\n",
        "        for _ in range(self.epoch):\n",
        "\n",
        "          # 先ほど定義したミニバッチイテレータのインスタンス化\n",
        "          get_mini_batch = GetMiniBatch(X, y, batch_size = self.batch_size)\n",
        "\n",
        "          # ミニバッチイテレータが停止するまでバッチ学習\n",
        "          # get_mini_batchを呼び出すたびに、説明変数と目的変数が返ってくる\n",
        "          for mini_X_train, mini_y_train in get_mini_batch:\n",
        "            # 順伝播\n",
        "            self.forward(mini_X_train)\n",
        "            # 逆伝播\n",
        "            self.backward(mini_X_train, mini_y_train)\n",
        "          \n",
        "          # ミニバッチ学習後のロス計算\n",
        "          self.forward(X)\n",
        "          self.loss_train.append(self.cross_entropy_error(y, self.Z3))\n",
        "          # 評価データがあるなら、こちらも計算\n",
        "          if X_val is not None:\n",
        "            self.forward(X_val)\n",
        "            self.loss_val.append(self.cross_entropy_error(y_val, self.Z3))\n",
        "\n",
        "        # 学習過程の出力\n",
        "        if self.verbose:\n",
        "          if X_val is None: # change\n",
        "            print(self.loss_train)\n",
        "          else:\n",
        "            print(self.loss_train, self.loss_val) # change\n",
        "            \n",
        "    # 問題２の解答をここに記載する\n",
        "    def forward(self, X):\n",
        "      \"\"\"\n",
        "      順伝播\n",
        "      Parameters\n",
        "      ----------\n",
        "      X　：　説明変数\n",
        "      \"\"\"\n",
        "      ## 1層目\n",
        "      # 活性化関数に通す前\n",
        "      self.A1 = X @ self.W1 + self.B1\n",
        "      # 上記を活性化関数に通す\n",
        "      self.Z1 = self.tanh_function(self.A1)\n",
        "\n",
        "      ## 2層目\n",
        "      # 活性化関数に通す前\n",
        "      self.A2 = self.Z1 @ self.W2 + self.B2\n",
        "      # 上記を活性化関数に通す\n",
        "      self.Z2 = self.tanh_function(self.A2)\n",
        "\n",
        "      ## 3層目(出力層)\n",
        "      # 活性化関数に通す前\n",
        "      self.A3 = self.Z2 @ self.W3 + self.B3\n",
        "      # 上記を活性化関数に通す\n",
        "      self.Z3 = self.softmax(self.A3)\n",
        "\n",
        "      # メンバ変数self.Z3がNNの出力となる\n",
        "    \n",
        "    # 問題４の解答をここに記載する\n",
        "    def backward(self, X, y):\n",
        "      \"\"\"\n",
        "      逆伝播\n",
        "      Parameters\n",
        "      ----------\n",
        "      X : 説明変数\n",
        "      \"\"\"\n",
        "      ## 3層目(出力層)\n",
        "      # 3層目の重みに対する勾配\n",
        "      dA3 = (self.Z3 - y) / self.batch_size # change\n",
        "      dW3 = self.Z2.T @ dA3\n",
        "      # 3層目のバイアス項に対する勾配\n",
        "      dB3 = np.sum(dA3, axis = 0)\n",
        "\n",
        "      ## 2層目\n",
        "      # 2層目の重みに対する勾配\n",
        "      dZ2 = dA3 @ self.W3.T\n",
        "      dA2 = dZ2 * (1- self.tanh_function(self.A2) ** 2)\n",
        "      dW2 = self.Z1.T @ dA2\n",
        "      # 2層目のバイアス項に対する勾配\n",
        "      dB2 = np.sum(dA2, axis = 0)\n",
        "\n",
        "      ## 1層目\n",
        "      # 1層目の重みに対する勾配\n",
        "      dZ1 = dA2 @ self.W2.T\n",
        "      dA1 = dZ1 * (1 - self.tanh_function(self.A1) ** 2)\n",
        "      dW1 = X.T @ dA1\n",
        "      # 1層目のバイアスに対する勾配\n",
        "      dB1 = np.sum(dA1, axis = 0)\n",
        "\n",
        "      # 各勾配に学習率を掛けて更新\n",
        "      self.W3 -= self.lr * dW3\n",
        "      self.B3 -= self.lr * dB3\n",
        "      self.W2 -= self.lr * dW2\n",
        "      self.B2 -= self.lr * dB2\n",
        "      self.W1 -= self.lr * dW1\n",
        "      self.B1 -= self.lr * dB1\n",
        "    \n",
        "    def tanh_function(self, A):\n",
        "      \"\"\"\n",
        "      活性化関数tanh\n",
        "      Parameters\n",
        "      ----------\n",
        "      A : 何かしらの配列\n",
        "      \"\"\"\n",
        "      return np.tanh(A)\n",
        "    \n",
        "    def softmax(self, A):\n",
        "      \"\"\"\n",
        "      活性化関数softmax\n",
        "      parameters\n",
        "      ----------\n",
        "      A : 何かしらの配列\n",
        "      \"\"\"\n",
        "      return np.exp(A) / np.sum(np.exp(A), axis = 1).reshape(-1, 1)\n",
        "    \n",
        "    # 問題３の解答をここに記載する\n",
        "    def cross_entropy_error(self, y, Z):\n",
        "      \"\"\"\n",
        "      損失関数　　クロスエントロピー誤差\n",
        "      Parameters\n",
        "      ----------\n",
        "      y : 正解データ\n",
        "      Z : 予測値\n",
        "      \"\"\"\n",
        "      L = - np.sum(y * np.log(Z)) / len(y)\n",
        "      return L\n",
        "\n",
        "    def predict(self, X):\n",
        "        \"\"\"\n",
        "        ニューラルネットワーク分類器を使い推定する。\n",
        "        Parameters\n",
        "        ----------\n",
        "        X : 説明変数\n",
        "        \"\"\"\n",
        "        # 順伝播処理\n",
        "        self.forward(X)\n",
        "        # 最も大きいインデックスをクラスとして採用\n",
        "        return np.argmax(self.Z3, axis = 1)"
      ],
      "execution_count": 37,
      "outputs": []
    },
    {
      "cell_type": "code",
      "metadata": {
        "id": "_ibBY1nAWoq7"
      },
      "source": [
        "# イテレータの基本\n",
        "class SampleIterator:\n",
        "  def __init__(self, num):\n",
        "    \"\"\"\n",
        "    通常のコンストラクタと同様の働き\n",
        "    \"\"\"\n",
        "    # 最大呼び出し回数\n",
        "    self.num = num\n",
        "  \n",
        "  def __iter__(self):\n",
        "    \"\"\"\n",
        "    呼び出される際は、まずここが呼ばれる\n",
        "    return self 部分は、このインスタンス自身を返している\n",
        "    \"\"\"\n",
        "    # 現在位置\n",
        "    self.current = 0\n",
        "    return self\n",
        "  \n",
        "  def __next__(self):\n",
        "    \"\"\"\n",
        "    基本的にここに返してやりたい処理を書く\n",
        "    \"\"\"\n",
        "    # 現在位置が最大呼び出し回数に達したかの判定\n",
        "    if self.current == self.num:\n",
        "      raise StopIteration()\n",
        "    \n",
        "    # 返してやりたい値\n",
        "    value = self.current\n",
        "\n",
        "    # 現在位置を進める\n",
        "    self.current += 1\n",
        "\n",
        "    return value"
      ],
      "execution_count": 38,
      "outputs": []
    },
    {
      "cell_type": "code",
      "metadata": {
        "id": "GfpCeCv-bR6J",
        "colab": {
          "base_uri": "https://localhost:8080/"
        },
        "outputId": "e625ed4c-c88e-41fb-b793-2a324837a0c4"
      },
      "source": [
        "sample_iter = SampleIterator(3)\n",
        "for i in sample_iter:\n",
        "    print(i)"
      ],
      "execution_count": 26,
      "outputs": [
        {
          "output_type": "stream",
          "name": "stdout",
          "text": [
            "0\n",
            "1\n",
            "2\n"
          ]
        }
      ]
    },
    {
      "cell_type": "markdown",
      "metadata": {
        "id": "o--kMCv5qPyn"
      },
      "source": [
        "ミニバッチ処理\n",
        "\n",
        "これまでの機械学習スクラッチでは、すべてのサンプルを一度に計算していました。しかし、ニューラルネットワークではデータを分割して入力する 確率的勾配降下法 が一般的です。分割した際のひとかたまりを ミニバッチ 、そのサンプル数を バッチサイズ と呼びます。\n",
        "\n",
        "\n",
        "今回はバッチサイズを20とします。今回使う訓練データは48000枚ですから、48000÷20で2400回の更新を繰り返すことになります。ニューラルネットワークではこれを2400回 イテレーション（iteration） すると呼びます。訓練データを一度すべて見ると1回の エポック（epoch） が終わったことになります。このエポックを複数回繰り返し、学習が完了します。\n",
        "\n",
        "\n",
        "これを実現するための簡素なイテレータを用意しました。for文で呼び出すと、ミニバッチを取得できます。\n",
        "\n",
        "\n",
        "《コード》\n",
        "\n"
      ]
    },
    {
      "cell_type": "code",
      "metadata": {
        "id": "xfqUKeoGsNeJ"
      },
      "source": [
        "class GetMiniBatch:\n",
        "    \"\"\"\n",
        "    ミニバッチを取得するイテレータ\n",
        "    Parameters\n",
        "    ----------\n",
        "    X : 次の形のndarray, shape (n_samples, n_features)\n",
        "      訓練データ\n",
        "    y : 次の形のndarray, shape (n_samples, 1)\n",
        "      正解値\n",
        "    batch_size : int\n",
        "      バッチサイズ\n",
        "    seed : int\n",
        "      NumPyの乱数のシード\n",
        "    \"\"\"\n",
        "    def __iniit__(self, x, y, batch_size = 20, seed = 0):\n",
        "      \"\"\"\n",
        "      通常のコンストラクタと同様の動き\n",
        "      Parameters\n",
        "      ----------\n",
        "      X : 説明変数(画像の１次元データ)\n",
        "      y : 目的変数(ラベル)\n",
        "      batch_size : 必要なミニバッチのデータ数\n",
        "      seed : ランダムシード固定\n",
        "      \"\"\"\n",
        "      # バッチ数のメンバ変数\n",
        "      self.batch_size = batch_size\n",
        "      # ランダムシードの固定(学習ごとに同じ生成順)\n",
        "      np.random.seed(seed)\n",
        "      # データ全体の長さ分のインデックスをランダムに並べ替え\n",
        "      shuffle_index = np.random.permutation(np.arange(X.shape[0]))  # np.random.permutationで配列をランダムに並べ替え\n",
        "      # 並べ替えたインデックスと同じ順番で説明変数と目的変数を並べ替え\n",
        "      self._X = X[shuffle_index]\n",
        "      self._y = y[shuffle_index]\n",
        "      # 必要となる呼び出し回数(データ数をバッチ数で割ると全データを学習するのに必要なバッチ呼び出し回数が出せる)\n",
        "      self._stop = np.ceil(X.shape[0]/self.batch_size).astype(np.int)\n",
        "\n",
        "      def __len__(self):\n",
        "        return self._stop\n",
        "      \n",
        "      def __iter__(self):\n",
        "        # \b呼び出し回数のカウント\n",
        "        self._counter = 0\n",
        "        return self\n",
        "      \n",
        "      def __next__(self):\n",
        "        # 全データを学習できた時点で止める\n",
        "        if self._counter >= self.stop:\n",
        "          raise StopIteration\n",
        "        # 並び替え後の_Xと_yの何番目のインデックスを採用するか\n",
        "        p0 = self._counter * self.batch_size\n",
        "        p1 = self._counter * self.batch_size + self.batch_size\n",
        "        # returnする前にカウンタに+1しておく\n",
        "        self._counter += 1\n",
        "        # 説明変数と目的変数を返す\n",
        "        return self._X[p0:p1], self._y[p0:p1]"
      ],
      "execution_count": null,
      "outputs": []
    },
    {
      "cell_type": "code",
      "metadata": {
        "id": "68WU453IqXjK"
      },
      "source": [
        "# 訓練データの中からランダムに一部のデータを選び出したものがミニバッチ。\n",
        "class GetMiniBatch:\n",
        "    \"\"\"\n",
        "    ミニバッチを取得するイテレータ\n",
        "    Parameters\n",
        "    ----------\n",
        "    X : 次の形のndarray, shape (n_samples, n_features)\n",
        "      訓練データ\n",
        "    y : 次の形のndarray, shape (n_samples, 1)\n",
        "      正解値\n",
        "    batch_size : int\n",
        "      バッチサイズ\n",
        "    seed : int\n",
        "      NumPyの乱数のシード\n",
        "    \"\"\"\n",
        "    def __init__(self, X, y, batch_size = 20, seed = 1234):\n",
        "      \"\"\"\n",
        "      通常のコンストラクタと同様の動き\n",
        "      Parameters\n",
        "      ----------\n",
        "      X : 説明変数(画像の１次元データ)\n",
        "      y : 目的変数(ラベル)\n",
        "      batch_size : 必要なミニバッチのデータ数\n",
        "      seed : ランダムシード固定\n",
        "      \"\"\"\n",
        "      # バッチ数のメンバ変数\n",
        "      self.batch_size = batch_size\n",
        "      # ランダムシードの固定(学習ごとに同じ生成順)\n",
        "      np.random.seed(seed)\n",
        "      # データ全体の長さ分のインデックスをランダムに並べ替え\n",
        "      # np.random.permutation:配列をランダムに並べ替え\n",
        "      shuffle_index = np.random.permutation(np.arange(X.shape[0]))\n",
        "      # 並べ替えたインデックスと同じ順番で説明変数と目的変数を並べ替え \n",
        "      self._X = X[shuffle_index]\n",
        "      self._y = y[shuffle_index]\n",
        "      self._stop = np.ceil(X.shape[0]/self.batch_size).astype(np.int)\n",
        "\n",
        "    def __len__(self):\n",
        "        return self._stop\n",
        "\n",
        "    # def __getitem__(self,item):\n",
        "        # p0 = item*self.batch_size\n",
        "        # p1 = item*self.batch_size + self.batch_size\n",
        "        # return self._X[p0:p1], self._y[p0:p1]\n",
        "\n",
        "    def __iter__(self):\n",
        "        # 何回目の呼び出しか\n",
        "        self._counter = 0\n",
        "        return self\n",
        "\n",
        "    def __next__(self):\n",
        "        # 全データを学習すればストップ\n",
        "        if self._counter >= self._stop:\n",
        "            raise StopIteration()\n",
        "        # 並び変えた_X,_yの何番目のインデックスを採用するか\n",
        "        p0 = self._counter*self.batch_size\n",
        "        p1 = self._counter*self.batch_size + self.batch_size\n",
        "        # returnする前にカウンタに+1しておく\n",
        "        self._counter += 1\n",
        "        # 説明変数と目的変数を返す\n",
        "        return self._X[p0:p1], self._y[p0:p1]"
      ],
      "execution_count": 39,
      "outputs": []
    },
    {
      "cell_type": "markdown",
      "metadata": {
        "id": "NaWeh-x2qfmr"
      },
      "source": [
        "このクラスをインスタンス化し、for文を使うことでミニバッチが取り出せます。"
      ]
    },
    {
      "cell_type": "code",
      "metadata": {
        "id": "BPsEV3FHqjTY"
      },
      "source": [
        "get_mini_batch = GetMiniBatch(X_train, y_train, batch_size=20)\n",
        "print(len(get_mini_batch)) # 2400\n",
        "print(get_mini_batch[5]) # 5番目のミニバッチが取得できる\n",
        "for mini_X_train, mini_y_train in get_mini_batch:\n",
        "    # このfor文内でミニバッチが使える\n",
        "    pass"
      ],
      "execution_count": null,
      "outputs": []
    },
    {
      "cell_type": "markdown",
      "metadata": {
        "id": "V2-shyEWqnyd"
      },
      "source": [
        "__getitem__や__next__は__init__と同じ特殊メソッドの一種です。"
      ]
    },
    {
      "cell_type": "markdown",
      "metadata": {
        "id": "TeFBaKXeqr6-"
      },
      "source": [
        "**学習**\n",
        "\n",
        "ニューラルネットワークの学習はフォワードプロパゲーションとバックプロパゲーションの繰り返しになります。"
      ]
    },
    {
      "cell_type": "markdown",
      "metadata": {
        "id": "DxW9jGJ0q3k5"
      },
      "source": [
        "**【問題1】重みの初期値を決めるコードの作成**\n",
        "\n",
        "ニューラルネットワークの各層の重みの初期値を決めるコードを作成してください。\n",
        "\n",
        "\n",
        "重みの初期値はさまざまな方法が提案されていますが、今回はガウス分布による単純な初期化を行います。バイアスに関しても同様です。\n",
        "\n",
        "\n",
        "以下のコードを参考にしてください。標準偏差の値sigmaはハイパーパラメータです。発展的な重みの初期化方法については次のSprintで扱います。\n",
        "\n",
        "\n",
        "《サンプルコード》\n",
        "\n"
      ]
    },
    {
      "cell_type": "code",
      "metadata": {
        "id": "gqE3RZEnq-1k"
      },
      "source": [
        "n_features = 784\n",
        "n_nodes1 = 400\n",
        "sigma = 0.01 # ガウス分布の標準偏差\n",
        "W1 = sigma * np.random.randn(n_features, n_nodes1)\n",
        "# W1: (784, 400)"
      ],
      "execution_count": null,
      "outputs": []
    },
    {
      "cell_type": "markdown",
      "metadata": {
        "id": "bxW-Gu9urD4f"
      },
      "source": [
        "numpy.random.randn — NumPy v1.15 Manual"
      ]
    },
    {
      "cell_type": "markdown",
      "metadata": {
        "id": "aijVzm6erHHo"
      },
      "source": [
        "**【問題2】フォワードプロパゲーションの実装**\n",
        "\n",
        "三層のニューラルネットワークの フォワードプロパゲーション を作成してください。以下の説明ではノード数は1層目は400、2層目は200としますが、変更しても構いません。\n",
        "\n",
        "\n",
        "各層の数式を以下に示します。今回はそれぞれの記号が表す配列が、実装上どのようなndarrayのshapeになるかを併記してあります。\n",
        "\n"
      ]
    },
    {
      "cell_type": "code",
      "metadata": {
        "id": "h8E7Lq_VbwAS"
      },
      "source": [
        "batch_size = 20 # バッチサイズ\n",
        "n_features = 784 # 特徴量の数\n",
        "n_nodes1 = 400 # 1層目のノード数\n",
        "n_nodes2 = 200 # 2層目のノード数\n",
        "n_output = 10 # 出力のクラス数（3層目のノード数）"
      ],
      "execution_count": null,
      "outputs": []
    },
    {
      "cell_type": "markdown",
      "metadata": {
        "id": "LOatbNz-bxXn"
      },
      "source": [
        "「1層目」\n",
        "\n",
        "$$\n",
        "A_1 = X \\cdot W_1 + B_1\n",
        "$$\n",
        "\n",
        "$X$ : 特徴量ベクトル (batch_size, n_features)\n",
        "\n",
        "\n",
        "$W_1$ : 1層目の重み (n_features, n_nodes1)\n",
        "\n",
        "\n",
        "$B_1$ : 1層目のバイアス (n_nodes1,)\n",
        "\n",
        "\n",
        "$A_1$ : 出力 (batch_size, n_nodes1)\n",
        "\n",
        "\n",
        "「1層目の活性化関数」\n",
        "\n",
        "$$\n",
        "Z_1 = f(A_1)\n",
        "$$\n",
        "\n",
        "$f()$ : 活性化関数\n",
        "\n",
        "\n",
        "$Z_1$ 出力 (batch_size, n_nodes1)\n",
        "\n",
        "\n",
        "「2層目」\n",
        "\n",
        "$$\n",
        "A_2 = Z_1 \\cdot W_2 + B_2\n",
        "$$\n",
        "\n",
        "$W_2$ : 2層目の重み (n_nodes1, n_nodes2)\n",
        "\n",
        "\n",
        "$B_2$ : 2層目のバイアス (n_nodes2,)\n",
        "\n",
        "\n",
        "$A_2$ : 出力 (batch_size, n_nodes2)\n",
        "\n",
        "\n",
        "「2層目の活性化関数」\n",
        "\n",
        "$$\n",
        "Z_2 = f(A_2)\n",
        "$$\n",
        "\n",
        "$f()$ : 活性化関数\n",
        "\n",
        "\n",
        "$Z_2$ 出力 (batch_size, n_nodes2)\n",
        "\n",
        "\n",
        "「3層目（出力層）」\n",
        "\n",
        "$$\n",
        "A_3 = Z_2 \\cdot W_3 + B_3\n",
        "$$\n",
        "\n",
        "$W_3$ : 3層目の重み (n_nodes2, n_output)\n",
        "\n",
        "\n",
        "$B_3$ : 3層目のバイアス (n_output,)\n",
        "\n",
        "\n",
        "$A_3$ : 出力 (batch_size, n_output)\n",
        "\n",
        "\n",
        "「3層目の活性化関数」\n",
        "\n",
        "$$\n",
        "Z_3 = softmax(A_3)\n",
        "$$\n",
        "\n",
        "$softmax()$ : ソフトマックス関数\n",
        "\n",
        "\n",
        "$Z_3$ 出力 (batch_size, n_output)\n",
        "\n",
        "\n",
        "$Z_3$ は各ラベル（0〜9）に対する確率の配列である。\n",
        "\n"
      ]
    },
    {
      "cell_type": "markdown",
      "metadata": {
        "id": "GrW68I49cnkA"
      },
      "source": [
        "**活性化関数（フォワードプロバゲーション）**\n",
        "\n",
        "活性化関数を作成し、フォワードプロパゲーションの中で使用します。切り替えられるように実装することを推奨しますが、片方でも構いません。\n",
        "\n",
        "\n",
        "「シグモイド関数」\n",
        "\n",
        "$$\n",
        "f(Z) = sigmoid(A) = \\frac{1}{1+exp(-A)}\n",
        "$$\n",
        "指数関数 $exp(-A)$ の計算はnp.expを使用してください。\n",
        "\n",
        "\n",
        "numpy.exp — NumPy v1.15 Manual\n",
        "\n",
        "\n",
        "「ハイパボリックタンジェント関数」\n",
        "\n",
        "\n",
        "次の数式で表されますが、np.tanhひとつで実現できます。\n",
        "\n",
        "$$\n",
        "f(Z) = tanh(A) = \\frac{exp(A) - exp(-A)}{exp(A) + exp(-A)}\n",
        "$$\n",
        "\n",
        "numpy.tanh — NumPy v1.15 Manual\n",
        "\n",
        "\n",
        "＊現在ではこれらの代わりにReLUと呼ばれる活性化関数が一般的です。次のSprintで扱います。\n",
        "\n"
      ]
    },
    {
      "cell_type": "markdown",
      "metadata": {
        "id": "UuZbnJJ5lKsu"
      },
      "source": [
        "**ソフトマックス関数**\n",
        "\n",
        "ソフトマックス関数を作成し、フォワードプロパゲーションの中で使用します。これも活性化関数の一種ですが、多クラス分類の出力層で使われる特性上、区別して扱われることが多いです。\n",
        "\n",
        "\n",
        "次の数式です。\n",
        "\n",
        "$$\n",
        "Z_{3\\_k} = \\frac{exp(A_{3\\_k})}{\\sum_{i=1}^{n_c}exp(A_{3\\_i})}\n",
        "$$\n",
        "\n",
        "$Z_{3_k}$ : $k$ 番目のクラスの確率ベクトル (batch_size,)\n",
        "\n",
        "\n",
        "$A_{3_k}$ : $k$ 番目のクラスにあたる前の層からのベクトル (batch_size,)\n",
        "\n",
        "\n",
        "$n_c$ : クラスの数、n_output。今回のMNISTでは10。\n",
        "\n",
        "\n",
        "分母はすべてのクラスに相当する値を指数関数に通した上で足し合わせたものです。その中で、分子に $k$ 番目のクラスを持ってくることで、 $k$ 番目のクラスである確率が求まります。\n",
        "\n",
        "\n",
        "これを10クラス分計算し、合わせたものが $Z_3$ です。"
      ]
    },
    {
      "cell_type": "code",
      "metadata": {
        "id": "sV_xZVDGmQKU"
      },
      "source": [
        ""
      ],
      "execution_count": null,
      "outputs": []
    },
    {
      "cell_type": "markdown",
      "metadata": {
        "id": "SXvbhFpflmPS"
      },
      "source": [
        "【問題3】交差エントロピー誤差の実装\n",
        "\n",
        "目的関数（損失関数）を作成します。\n",
        "\n",
        "\n",
        "多クラス分類の目的関数である交差エントロピー誤差 $L$ は次の数式です。\n",
        "\n",
        "$$\n",
        "L = - \\frac{1}{n_b}\\sum_{i}^{n_b}\\sum_{j}^{n_c}y_{ij} log(z_{3\\_ij})\n",
        "$$\n",
        "\n",
        "$y_{ij}$ : $j$ 番目のサンプルの $k$ 番目のクラスの正解ラベル（one-hot表現で0か1のスカラー）\n",
        "\n",
        "\n",
        "$z_{3_ij}$ : $j$ 番目のサンプルの $k$ 番目のクラスの確率（スカラー）\n",
        "\n",
        "\n",
        "$n_{b}$ : バッチサイズ、batch_size\n",
        "\n",
        "\n",
        "$n_{c}$ : クラスの数、n_output（今回のMNISTでは10）\n",
        "\n",
        "\n",
        "サンプル1つあたりの誤差が求まります。\n",
        "\n",
        "\n",
        "実数におけるlog(x)の定義域は0 < xです。したがって、logの中身がとても小さい値になってしまったときエラーを起こします。そこでlogの中に1e-7を足すことでエラーを回避できます。\n",
        "\n",
        "\n",
        "こういった処理はlogに限らず、さまざまな場所で出てくることがあります。\n",
        "\n"
      ]
    },
    {
      "cell_type": "code",
      "metadata": {
        "id": "15vBPChGmNWJ"
      },
      "source": [
        ""
      ],
      "execution_count": null,
      "outputs": []
    },
    {
      "cell_type": "markdown",
      "metadata": {
        "id": "8MMyL2czmQ8-"
      },
      "source": [
        "【問題4】バックプロパゲーションの実装\n",
        "\n",
        "三層のニューラルネットワークのバックプロパゲーションを作成してください。確率的勾配降下法を行う部分です。\n",
        "\n",
        "\n",
        "数式を以下に示します。\n",
        "\n",
        "\n",
        "まず、i層目の重みとバイアスの更新式です。 $W_i$ と $B_i$ に対し、更新後の $W_i^{\\prime}$ と $B_i^{\\prime}$ は次の数式で求められます。\n",
        "\n",
        "$$\n",
        "W_i^{\\prime} = W_i - \\alpha \\frac{\\partial L}{\\partial W_i} \\\\\n",
        "B_i^{\\prime} = B_i - \\alpha \\frac{\\partial L}{\\partial B_i}\n",
        "$$\n",
        "\n",
        "$\\alpha$ : 学習率（層ごとに変えることも可能だが、基本的にはすべて同じとする）\n",
        "\n",
        "\n",
        "$\\frac{\\partial L}{\\partial W_i}$ : $W_i$ に関する損失 $L$ の勾配\n",
        "\n",
        "\n",
        "$\\frac{\\partial L}{\\partial B_i}$ : $B_i$ に関する損失 $L$ の勾配\n",
        "\n",
        "\n",
        "＊この勾配はミニバッチのサンプル数分の合計または平均を考えます。ここでは合計を計算します。\n",
        "\n",
        "\n",
        "この更新方法はSprint3線形回帰やsprint4ロジスティック回帰における最急降下法と同様です。より効果的な更新方法が知られており、それは次のSprintで扱います。\n",
        "\n",
        "\n",
        "勾配 $\\frac{\\partial L}{\\partial W_i}$ や $\\frac{\\partial L}{\\partial B_i}$ を求めるために、バックプロパゲーションを行います。以下の数式です。ハイパボリックタンジェント関数を使用した例を載せました。シグモイド関数の場合の数式はその後ろにあります。"
      ]
    },
    {
      "cell_type": "markdown",
      "metadata": {
        "id": "hXkckFqMm_j4"
      },
      "source": [
        "「3層目」\n",
        "\n",
        "$$\n",
        "\\frac{\\partial L}{\\partial A_3} = \\frac{1}{n_b}(Z_{3} - Y)\\\\\n",
        "\\frac{\\partial L}{\\partial B_3} = \\sum_{j}^{n_b}\\frac{\\partial L}{\\partial A_{3\\_j}}\\\\\n",
        "\\frac{\\partial L}{\\partial W_3} = Z_{2}^{T}\\cdot \\frac{\\partial L}{\\partial A_3}\\\\\n",
        "\\frac{\\partial L}{\\partial Z_2} = \\frac{\\partial L}{\\partial A_3} \\cdot W_3^T\n",
        "$$\n",
        "\n",
        "\n",
        "$\\frac{\\partial L}{\\partial A_3}$ : $A_3$ に関する損失 $L$ の勾配 (batch_size, n_output)\n",
        "\n",
        "\n",
        "$\\frac{\\partial L}{\\partial A_{3_j}}$ : j番目のサンプルの$A_3$ に関する損失 $L$ の勾配 (n_nodes2,)\n",
        "\n",
        "\n",
        "$\\frac{\\partial L}{\\partial B_3}$ : $B_3$ に関する損失 $L$ の勾配 (n_output,)\n",
        "\n",
        "\n",
        "$\\frac{\\partial L}{\\partial W_3}$ : $W_3$ に関する損失 $L$ の勾配 (n_nodes2, n_output)\n",
        "\n",
        "\n",
        "$\\frac{\\partial L}{\\partial Z_2}$ : $Z_2$ に関する損失 $L$ の勾配 (batch_size, n_nodes2)\n",
        "\n",
        "\n",
        "$Z_{3}$ : ソフトマックス関数の出力 (batch_size, n_nodes2)\n",
        "\n",
        "\n",
        "$Y$ : 正解ラベル (batch_size, n_output)\n",
        "\n",
        "\n",
        "$Z_{2}$ : 2層目の活性化関数の出力 (batch_size, n_nodes2)\n",
        "\n",
        "\n",
        "$W_3$ : 3層目の重み (n_nodes2, n_output)\n",
        "\n",
        "\n",
        "$n_{b}$ : バッチサイズ、batch_size\n",
        "\n"
      ]
    },
    {
      "cell_type": "markdown",
      "metadata": {
        "id": "dvkiz06TnIVk"
      },
      "source": [
        "「2層目」\n",
        "\n",
        "$$\n",
        "\\frac{\\partial L}{\\partial A_2} = \\frac{\\partial L}{\\partial Z_2} \\odot \\{1-tanh^2(A_{2})\\}\\\\\n",
        "\\frac{\\partial L}{\\partial B_2} = \\sum_{j}^{n_b}\\frac{\\partial L}{\\partial A_{2\\_j}}\\\\\n",
        "\\frac{\\partial L}{\\partial W_2} = Z_{1}^T \\cdot \\frac{\\partial L}{\\partial A_2}\\\\\n",
        "\\frac{\\partial L}{\\partial Z_1} = \\frac{\\partial L}{\\partial A_2} \\cdot W_2^T\n",
        "$$\n",
        "\n",
        "$\\frac{\\partial L}{\\partial A_2}$ : $A_2$ に関する損失 $L$ の勾配 (batch_size, n_nodes2)\n",
        "\n",
        "\n",
        "$\\frac{\\partial L}{\\partial A_{2_j}}$ : j番目のサンプルの$A_2$ に関する損失 $L$ の勾配 (n_nodes2,)\n",
        "\n",
        "\n",
        "$\\frac{\\partial L}{\\partial B_2}$ : $B_2$ に関する損失 $L$ の勾配 (n_nodes2,)\n",
        "\n",
        "\n",
        "$\\frac{\\partial L}{\\partial W_2}$ : $W_2$ に関する損失 $L$ の勾配 (n_nodes1, n_nodes2)\n",
        "\n",
        "\n",
        "$\\frac{\\partial L}{\\partial Z_2}$ : $Z_2$ に関する損失 $L$ の勾配 (batch_size, n_nodes2)\n",
        "\n",
        "\n",
        "$A_2$ : 2層目の出力 (batch_size, n_nodes2)\n",
        "\n",
        "\n",
        "$Z_{1}$ : 1層目の活性化関数の出力 (batch_size, n_nodes1)\n",
        "\n",
        "\n",
        "$W_2$ : 2層目の重み (n_nodes1, n_nodes2)\n",
        "\n",
        "\n",
        "⊙\n",
        " の記号は「アダマール積」を意味します。\n",
        "アダマール積とは、同じサイズの行列同士の成分毎の積を演算することを言います。出力のサイズは同じサイズになります。"
      ]
    },
    {
      "cell_type": "code",
      "metadata": {
        "id": "E0iiHsuvpEU0"
      },
      "source": [
        ""
      ],
      "execution_count": null,
      "outputs": []
    },
    {
      "cell_type": "markdown",
      "metadata": {
        "id": "Qn0U5BzmpDXW"
      },
      "source": [
        "「1層目」\n",
        "\n",
        "$$\n",
        "\\frac{\\partial L}{\\partial A_1} = \\frac{\\partial L}{\\partial Z_1} \\odot \\{1-tanh^2(A_{1})\\}\\\\\n",
        "\\frac{\\partial L}{\\partial B_1} = \\sum_{j}^{n_b}\\frac{\\partial L}{\\partial A_{1\\_j}}\\\\\n",
        "\\frac{\\partial L}{\\partial W_1} = X^T \\cdot \\frac{\\partial L}{\\partial A_1}\\\\\n",
        "$$\n",
        "\n",
        "$\\frac{\\partial L}{\\partial A_1}$ : $A_1$ に関する損失 $L$ の勾配 (batch_size, n_nodes1)\n",
        "\n",
        "\n",
        "$\\frac{\\partial L}{\\partial A_{1_j}}$ : j番目のサンプルの$A_1$ に関する損失 $L$ の勾配 (n_nodes1,)\n",
        "\n",
        "\n",
        "$\\frac{\\partial L}{\\partial B_1}$ : $B_1$ に関する損失 $L$ の勾配 (n_nodes1,)\n",
        "\n",
        "\n",
        "$\\frac{\\partial L}{\\partial W_1}$ : $W_1$ に関する損失 $L$ の勾配 (n_features, n_nodes1)\n",
        "\n",
        "\n",
        "$\\frac{\\partial L}{\\partial Z_1}$ : $Z_1$ に関する損失 $L$ の勾配 (batch_size, n_nodes1)\n",
        "\n",
        "\n",
        "$A_1$ : 1層目の出力 (batch_size, n_nodes1)\n",
        "\n",
        "\n",
        "$X$ : 特徴量ベクトル (batch_size, n_features)\n",
        "\n",
        "\n",
        "$W_1$ : 1層目の重み (n_features, n_nodes1)\n",
        "\n"
      ]
    },
    {
      "cell_type": "markdown",
      "metadata": {
        "id": "tx603XvDpcpI"
      },
      "source": [
        "《補足》\n",
        "\n",
        "\n",
        "活性化関数にシグモイド関数を使用した場合は、次のようになります。\n",
        "\n",
        "$$\n",
        "\\frac{\\partial L}{\\partial A_2} = \\frac{\\partial L}{\\partial Z_2} \\odot  \\{1-sigmoid(A_{2})\\}\\odot sigmoid(A_{2})\n",
        "\\\\\n",
        "\\frac{\\partial L}{\\partial A_1} = \\frac{\\partial L}{\\partial Z_1} \\odot  \\{1-sigmoid(A_{1})\\}\\odot sigmoid(A_{1})\n",
        "$$"
      ]
    },
    {
      "cell_type": "markdown",
      "metadata": {
        "id": "ybYAFFPDpq6m"
      },
      "source": [
        "【問題5】推定\n",
        "\n",
        "推定を行うメソッドを作成してください。\n",
        "\n",
        "\n",
        "フォワードプロパゲーションによって出力された10個の確率の中で、最も高いものはどれかを判定します。\n",
        "\n",
        "\n",
        "numpy.argmax — NumPy v1.17 Manual"
      ]
    },
    {
      "cell_type": "markdown",
      "metadata": {
        "id": "mPvDSLiYpwoR"
      },
      "source": [
        "# 4.検証"
      ]
    },
    {
      "cell_type": "markdown",
      "metadata": {
        "id": "wa4kgBn-p0op"
      },
      "source": [
        "【問題6】学習と推定\n",
        "\n",
        "MNISTのデータを学習・推定し、Accuracyを計算してください。"
      ]
    },
    {
      "cell_type": "code",
      "metadata": {
        "id": "WL3PHcdPqF7m",
        "colab": {
          "base_uri": "https://localhost:8080/"
        },
        "outputId": "f03c2995-b11e-44f7-9d52-eccea616d50b"
      },
      "source": [
        "# インスタンス化\n",
        "nn = ScratchSimpleNeuralNetrowkClassifier(epoch = 10)\n",
        "# 学習\n",
        "nn.fit(X_train[:10000], y_train_one_hot[:10000], X_val, y_val_one_hot)  # change"
      ],
      "execution_count": 40,
      "outputs": [
        {
          "output_type": "stream",
          "name": "stdout",
          "text": [
            "[1.706822571651354, 0.8472953067677327, 0.5836384500617593, 0.4717468722541781, 0.4102791338551916, 0.37231887017363385, 0.34625396633168404, 0.32666178296993187, 0.31101747747330816, 0.29803105762586035] [1.7130975899881031, 0.8546018497359531, 0.5903453728192343, 0.481364886266617, 0.4242218613471757, 0.3910444235278006, 0.3697127495184225, 0.35462963947384907, 0.34323812072210036, 0.3342550715541612]\n"
          ]
        }
      ]
    },
    {
      "cell_type": "code",
      "metadata": {
        "id": "Zgdmt9h0FOoS"
      },
      "source": [
        "# 予測\n",
        "train_prediction = nn.predict(X_train)\n",
        "test_prediction = nn.predict(X_test)"
      ],
      "execution_count": 44,
      "outputs": []
    },
    {
      "cell_type": "code",
      "metadata": {
        "colab": {
          "base_uri": "https://localhost:8080/"
        },
        "id": "A_artiVnFaHu",
        "outputId": "26cd5c43-9e31-4d91-e766-40ab3ff2722b"
      },
      "source": [
        "# 正解率\n",
        "from sklearn.metrics import accuracy_score\n",
        "print('正解率:{}'.format(accuracy_score(y_train, train_prediction)))\n",
        "print('正解率:{}'.format(accuracy_score(y_test, test_prediction)))"
      ],
      "execution_count": 45,
      "outputs": [
        {
          "output_type": "stream",
          "name": "stdout",
          "text": [
            "正解率:0.9076041666666667\n",
            "正解率:0.9078\n"
          ]
        }
      ]
    },
    {
      "cell_type": "markdown",
      "metadata": {
        "id": "Zq3lMKH7p87F"
      },
      "source": [
        "【問題7】学習曲線のプロット\n",
        "\n",
        "学習曲線をプロットしてください。\n",
        "\n",
        "ニューラルネットワークは過学習が発生しやすいため、学習曲線の確認が重要です。訓練データと検証データに対するエポックごとの損失（交差エントロピー誤差）を記録できるようにする必要があります。"
      ]
    },
    {
      "cell_type": "code",
      "metadata": {
        "id": "A8MQ77uGqEyF",
        "colab": {
          "base_uri": "https://localhost:8080/",
          "height": 452
        },
        "outputId": "290a215b-c4bc-4935-a145-c91d4e02c13d"
      },
      "source": [
        "# 描画\n",
        "plt.plot(list(range(1, nn.epoch + 1)), nn.loss_train, label = 'train')\n",
        "plt.plot(list(range(1, nn.epoch + 1)), nn.loss_val, label = 'test') # change\n",
        "plt.legend()\n",
        "plt.xticks(list(range(1, nn.epoch + 1)))"
      ],
      "execution_count": 46,
      "outputs": [
        {
          "output_type": "execute_result",
          "data": {
            "text/plain": [
              "([<matplotlib.axis.XTick at 0x7f55d235e210>,\n",
              "  <matplotlib.axis.XTick at 0x7f55d235e1d0>,\n",
              "  <matplotlib.axis.XTick at 0x7f55d52fe890>,\n",
              "  <matplotlib.axis.XTick at 0x7f55c958a450>,\n",
              "  <matplotlib.axis.XTick at 0x7f55c92cced0>,\n",
              "  <matplotlib.axis.XTick at 0x7f55c92cc6d0>,\n",
              "  <matplotlib.axis.XTick at 0x7f55c915ca10>,\n",
              "  <matplotlib.axis.XTick at 0x7f55c915cc50>,\n",
              "  <matplotlib.axis.XTick at 0x7f55c915c110>,\n",
              "  <matplotlib.axis.XTick at 0x7f55c91b8990>],\n",
              " <a list of 10 Text major ticklabel objects>)"
            ]
          },
          "metadata": {},
          "execution_count": 46
        },
        {
          "output_type": "display_data",
          "data": {
            "image/png": "[encoded data removed]",
            "text/plain": [
              "<Figure size 432x288 with 1 Axes>"
            ]
          },
          "metadata": {
            "needs_background": "light"
          }
        }
      ]
    },
    {
      "cell_type": "markdown",
      "metadata": {
        "id": "t3lBYlYpqFXF"
      },
      "source": [
        "【問題8】（アドバンス課題）誤分類の確認\n",
        "\n",
        "誤分類した画像はどのようなものだったかを確認してください。推定値を用意し、以下のコードを実行してください。\n",
        "\n",
        "《コード》"
      ]
    },
    {
      "cell_type": "code",
      "metadata": {
        "id": "xhsaI-QyqXPn"
      },
      "source": [
        "\"\"\"\n",
        "語分類結果を並べて表示する。画像の上の表示は「推定結果/正解」である。\n",
        "Parameters:\n",
        "----------\n",
        "y_pred : 推定値のndarray (n_samples,)\n",
        "y_val : 検証データの正解ラベル(n_samples,)\n",
        "X_val : 検証データの特徴量（n_samples, n_features)\n",
        "\"\"\"\n",
        "import numpy as np\n",
        "import matplotlib.pyplot as plt\n",
        "num = 36 # いくつ表示するか\n",
        "\n",
        "true_false = y_pred==y_val\n",
        "false_list = np.where(true_false==False)[0].astype(np.int)\n",
        "if false_list.shape[0] < num:\n",
        "    num = false_list.shape[0]\n",
        "fig = plt.figure(figsize=(6, 6))\n",
        "fig.subplots_adjust(left=0, right=0.8,  bottom=0, top=0.8, hspace=1, wspace=0.5)\n",
        "for i in range(num):\n",
        "    ax = fig.add_subplot(6, 6, i + 1, xticks=[], yticks=[])\n",
        "    ax.set_title(\"{} / {}\".format(y_pred[false_list[i]],y_val[false_list[i]]))\n",
        "    ax.imshow(X_val.reshape(-1,28,28)[false_list[i]], cmap='gray')\n"
      ],
      "execution_count": null,
      "outputs": []
    }
  ]
}
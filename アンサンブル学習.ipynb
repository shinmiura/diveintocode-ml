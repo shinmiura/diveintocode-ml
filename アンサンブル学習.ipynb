{
  "nbformat": 4,
  "nbformat_minor": 0,
  "metadata": {
    "colab": {
      "name": "アンサンブル学習.ipynb",
      "provenance": [],
      "collapsed_sections": [],
      "mount_file_id": "11nm8Fwi8XWGfhBVQN3ndjPVljaQhpLzT",
      "authorship_tag": "ABX9TyOBL/R6xzKYR6mQfR3kfujf",
      "include_colab_link": true
    },
    "kernelspec": {
      "name": "python3",
      "display_name": "Python 3"
    },
    "language_info": {
      "name": "python"
    }
  },
  "cells": [
    {
      "cell_type": "markdown",
      "metadata": {
        "id": "view-in-github",
        "colab_type": "text"
      },
      "source": [
        "<a href=\"https://colab.research.google.com/github/shinmiura/diveintocode-ml/blob/master/%E3%82%A2%E3%83%B3%E3%82%B5%E3%83%B3%E3%83%96%E3%83%AB%E5%AD%A6%E7%BF%92.ipynb\" target=\"_parent\"><img src=\"https://colab.research.google.com/assets/colab-badge.svg\" alt=\"Open In Colab\"/></a>"
      ]
    },
    {
      "cell_type": "markdown",
      "metadata": {
        "id": "pTOTyXk70s2R"
      },
      "source": [
        "# 1.このSprintについて"
      ]
    },
    {
      "cell_type": "markdown",
      "metadata": {
        "id": "6QsEOKbI0xuM"
      },
      "source": [
        "**Sprintの目的**\n",
        "\n",
        "アンサンブル学習について理解する\n",
        "\n",
        "\n",
        "**どのように学ぶか**\n",
        "\n",
        "スクラッチでアンサンブル学習の各種手法を実装していきます。\n",
        "\n"
      ]
    },
    {
      "cell_type": "markdown",
      "metadata": {
        "id": "kWi_wI0v05lA"
      },
      "source": [
        "# 2.アンサンブル学習"
      ]
    },
    {
      "cell_type": "markdown",
      "metadata": {
        "id": "TkTs0EzD1Hbd"
      },
      "source": [
        "3種類のアンサンブル学習をスクラッチ実装していきます。そして、それぞれの効果を小さめのデータセットで確認します。\n",
        "\n",
        "\n",
        "・ブレンディング\n",
        "\n",
        "・バギング\n",
        "\n",
        "・スタッキング"
      ]
    },
    {
      "cell_type": "markdown",
      "metadata": {
        "id": "AsCSEnkO1Xmq"
      },
      "source": [
        "**小さなデータセットの用意**\n",
        "\n",
        "以前も利用した回帰のデータセットを用意します。\n",
        "\n",
        "\n",
        "House Prices: Advanced Regression Techniques\n",
        "\n",
        "\n",
        "この中のtrain.csvをダウンロードし、目的変数としてSalePrice、説明変数として、GrLivAreaとYearBuiltを使います。\n",
        "\n",
        "\n",
        "train.csvを学習データ8割、検証データ2割に分割してください。\n",
        "\n"
      ]
    },
    {
      "cell_type": "markdown",
      "metadata": {
        "id": "j3TpyFUQ1vkl"
      },
      "source": [
        "**scikit-learn**\n",
        "\n",
        "単一のモデルはスクラッチ実装ではなく、scikit-learnなどのライブラリの使用を推奨します。\n",
        "\n",
        "\n",
        "sklearn.linear_model.LinearRegression — scikit-learn 0.21.3 documentation\n",
        "\n",
        "\n",
        "sklearn.svm.SVR — scikit-learn 0.21.3 documentation\n",
        "\n",
        "\n",
        "sklearn.tree.DecisionTreeRegressor — scikit-learn 0.21.3 documentation"
      ]
    },
    {
      "cell_type": "markdown",
      "metadata": {
        "id": "kMonDCNq19SW"
      },
      "source": [
        "# 3.ブレンディング"
      ]
    },
    {
      "cell_type": "markdown",
      "metadata": {
        "id": "WF27wHhN2BOU"
      },
      "source": [
        "【問題1】ブレンディングのスクラッチ実装\n",
        "\n",
        "ブレンディング をスクラッチ実装し、単一モデルより精度があがる例を **最低3つ** 示してください。精度があがるとは、検証データに対する平均二乗誤差（MSE）が小さくなることを指します。"
      ]
    },
    {
      "cell_type": "code",
      "metadata": {
        "id": "TKrvwBhq2Ao3"
      },
      "source": [
        "import numpy as np\n",
        "import pandas as pd\n",
        "import matplotlib.pyplot as plt\n",
        "import seaborn as sns\n",
        "from sklearn.linear_model import LinearRegression, Ridge, Lasso, ElasticNet, SGDRegressor\n",
        "from sklearn.linear_model import PassiveAggressiveRegressor, ARDRegression, RidgeCV\n",
        "from sklearn.linear_model import TheilSenRegressor, RANSACRegressor, HuberRegressor\n",
        "from sklearn.neural_network import MLPRegressor\n",
        "from sklearn.svm import SVR, LinearSVR\n",
        "from sklearn.neighbors import KNeighborsRegressor\n",
        "from sklearn.tree import DecisionTreeRegressor\n",
        "from sklearn.ensemble import RandomForestRegressor, AdaBoostRegressor\n",
        "from sklearn.metrics import mean_squared_error\n",
        "from sklearn.metrics import r2_score\n",
        "from sklearn.metrics import log_loss\n",
        "from sklearn.model_selection import KFold\n",
        "from sklearn.model_selection import cross_val_score\n",
        "from sklearn.model_selection import train_test_split\n",
        "from sklearn.ensemble import BaggingRegressor"
      ],
      "execution_count": 1,
      "outputs": []
    },
    {
      "cell_type": "code",
      "metadata": {
        "id": "JENjwaO10ZxR",
        "colab": {
          "base_uri": "https://localhost:8080/",
          "height": 253
        },
        "outputId": "e8126576-c603-4e1a-e752-eef73f19476d"
      },
      "source": [
        "# データの読み込み\n",
        "data = pd.read_csv('/content/drive/MyDrive/DIC/train.csv')\n",
        "data.head()"
      ],
      "execution_count": 2,
      "outputs": [
        {
          "output_type": "execute_result",
          "data": {
            "text/html": [
              "<div>\n",
              "<style scoped>\n",
              "    .dataframe tbody tr th:only-of-type {\n",
              "        vertical-align: middle;\n",
              "    }\n",
              "\n",
              "    .dataframe tbody tr th {\n",
              "        vertical-align: top;\n",
              "    }\n",
              "\n",
              "    .dataframe thead th {\n",
              "        text-align: right;\n",
              "    }\n",
              "</style>\n",
              "<table border=\"1\" class=\"dataframe\">\n",
              "  <thead>\n",
              "    <tr style=\"text-align: right;\">\n",
              "      <th></th>\n",
              "      <th>Id</th>\n",
              "      <th>MSSubClass</th>\n",
              "      <th>MSZoning</th>\n",
              "      <th>LotFrontage</th>\n",
              "      <th>LotArea</th>\n",
              "      <th>Street</th>\n",
              "      <th>Alley</th>\n",
              "      <th>LotShape</th>\n",
              "      <th>LandContour</th>\n",
              "      <th>Utilities</th>\n",
              "      <th>LotConfig</th>\n",
              "      <th>LandSlope</th>\n",
              "      <th>Neighborhood</th>\n",
              "      <th>Condition1</th>\n",
              "      <th>Condition2</th>\n",
              "      <th>BldgType</th>\n",
              "      <th>HouseStyle</th>\n",
              "      <th>OverallQual</th>\n",
              "      <th>OverallCond</th>\n",
              "      <th>YearBuilt</th>\n",
              "      <th>YearRemodAdd</th>\n",
              "      <th>RoofStyle</th>\n",
              "      <th>RoofMatl</th>\n",
              "      <th>Exterior1st</th>\n",
              "      <th>Exterior2nd</th>\n",
              "      <th>MasVnrType</th>\n",
              "      <th>MasVnrArea</th>\n",
              "      <th>ExterQual</th>\n",
              "      <th>ExterCond</th>\n",
              "      <th>Foundation</th>\n",
              "      <th>BsmtQual</th>\n",
              "      <th>BsmtCond</th>\n",
              "      <th>BsmtExposure</th>\n",
              "      <th>BsmtFinType1</th>\n",
              "      <th>BsmtFinSF1</th>\n",
              "      <th>BsmtFinType2</th>\n",
              "      <th>BsmtFinSF2</th>\n",
              "      <th>BsmtUnfSF</th>\n",
              "      <th>TotalBsmtSF</th>\n",
              "      <th>Heating</th>\n",
              "      <th>...</th>\n",
              "      <th>CentralAir</th>\n",
              "      <th>Electrical</th>\n",
              "      <th>1stFlrSF</th>\n",
              "      <th>2ndFlrSF</th>\n",
              "      <th>LowQualFinSF</th>\n",
              "      <th>GrLivArea</th>\n",
              "      <th>BsmtFullBath</th>\n",
              "      <th>BsmtHalfBath</th>\n",
              "      <th>FullBath</th>\n",
              "      <th>HalfBath</th>\n",
              "      <th>BedroomAbvGr</th>\n",
              "      <th>KitchenAbvGr</th>\n",
              "      <th>KitchenQual</th>\n",
              "      <th>TotRmsAbvGrd</th>\n",
              "      <th>Functional</th>\n",
              "      <th>Fireplaces</th>\n",
              "      <th>FireplaceQu</th>\n",
              "      <th>GarageType</th>\n",
              "      <th>GarageYrBlt</th>\n",
              "      <th>GarageFinish</th>\n",
              "      <th>GarageCars</th>\n",
              "      <th>GarageArea</th>\n",
              "      <th>GarageQual</th>\n",
              "      <th>GarageCond</th>\n",
              "      <th>PavedDrive</th>\n",
              "      <th>WoodDeckSF</th>\n",
              "      <th>OpenPorchSF</th>\n",
              "      <th>EnclosedPorch</th>\n",
              "      <th>3SsnPorch</th>\n",
              "      <th>ScreenPorch</th>\n",
              "      <th>PoolArea</th>\n",
              "      <th>PoolQC</th>\n",
              "      <th>Fence</th>\n",
              "      <th>MiscFeature</th>\n",
              "      <th>MiscVal</th>\n",
              "      <th>MoSold</th>\n",
              "      <th>YrSold</th>\n",
              "      <th>SaleType</th>\n",
              "      <th>SaleCondition</th>\n",
              "      <th>SalePrice</th>\n",
              "    </tr>\n",
              "  </thead>\n",
              "  <tbody>\n",
              "    <tr>\n",
              "      <th>0</th>\n",
              "      <td>1</td>\n",
              "      <td>60</td>\n",
              "      <td>RL</td>\n",
              "      <td>65.0</td>\n",
              "      <td>8450</td>\n",
              "      <td>Pave</td>\n",
              "      <td>NaN</td>\n",
              "      <td>Reg</td>\n",
              "      <td>Lvl</td>\n",
              "      <td>AllPub</td>\n",
              "      <td>Inside</td>\n",
              "      <td>Gtl</td>\n",
              "      <td>CollgCr</td>\n",
              "      <td>Norm</td>\n",
              "      <td>Norm</td>\n",
              "      <td>1Fam</td>\n",
              "      <td>2Story</td>\n",
              "      <td>7</td>\n",
              "      <td>5</td>\n",
              "      <td>2003</td>\n",
              "      <td>2003</td>\n",
              "      <td>Gable</td>\n",
              "      <td>CompShg</td>\n",
              "      <td>VinylSd</td>\n",
              "      <td>VinylSd</td>\n",
              "      <td>BrkFace</td>\n",
              "      <td>196.0</td>\n",
              "      <td>Gd</td>\n",
              "      <td>TA</td>\n",
              "      <td>PConc</td>\n",
              "      <td>Gd</td>\n",
              "      <td>TA</td>\n",
              "      <td>No</td>\n",
              "      <td>GLQ</td>\n",
              "      <td>706</td>\n",
              "      <td>Unf</td>\n",
              "      <td>0</td>\n",
              "      <td>150</td>\n",
              "      <td>856</td>\n",
              "      <td>GasA</td>\n",
              "      <td>...</td>\n",
              "      <td>Y</td>\n",
              "      <td>SBrkr</td>\n",
              "      <td>856</td>\n",
              "      <td>854</td>\n",
              "      <td>0</td>\n",
              "      <td>1710</td>\n",
              "      <td>1</td>\n",
              "      <td>0</td>\n",
              "      <td>2</td>\n",
              "      <td>1</td>\n",
              "      <td>3</td>\n",
              "      <td>1</td>\n",
              "      <td>Gd</td>\n",
              "      <td>8</td>\n",
              "      <td>Typ</td>\n",
              "      <td>0</td>\n",
              "      <td>NaN</td>\n",
              "      <td>Attchd</td>\n",
              "      <td>2003.0</td>\n",
              "      <td>RFn</td>\n",
              "      <td>2</td>\n",
              "      <td>548</td>\n",
              "      <td>TA</td>\n",
              "      <td>TA</td>\n",
              "      <td>Y</td>\n",
              "      <td>0</td>\n",
              "      <td>61</td>\n",
              "      <td>0</td>\n",
              "      <td>0</td>\n",
              "      <td>0</td>\n",
              "      <td>0</td>\n",
              "      <td>NaN</td>\n",
              "      <td>NaN</td>\n",
              "      <td>NaN</td>\n",
              "      <td>0</td>\n",
              "      <td>2</td>\n",
              "      <td>2008</td>\n",
              "      <td>WD</td>\n",
              "      <td>Normal</td>\n",
              "      <td>208500</td>\n",
              "    </tr>\n",
              "    <tr>\n",
              "      <th>1</th>\n",
              "      <td>2</td>\n",
              "      <td>20</td>\n",
              "      <td>RL</td>\n",
              "      <td>80.0</td>\n",
              "      <td>9600</td>\n",
              "      <td>Pave</td>\n",
              "      <td>NaN</td>\n",
              "      <td>Reg</td>\n",
              "      <td>Lvl</td>\n",
              "      <td>AllPub</td>\n",
              "      <td>FR2</td>\n",
              "      <td>Gtl</td>\n",
              "      <td>Veenker</td>\n",
              "      <td>Feedr</td>\n",
              "      <td>Norm</td>\n",
              "      <td>1Fam</td>\n",
              "      <td>1Story</td>\n",
              "      <td>6</td>\n",
              "      <td>8</td>\n",
              "      <td>1976</td>\n",
              "      <td>1976</td>\n",
              "      <td>Gable</td>\n",
              "      <td>CompShg</td>\n",
              "      <td>MetalSd</td>\n",
              "      <td>MetalSd</td>\n",
              "      <td>None</td>\n",
              "      <td>0.0</td>\n",
              "      <td>TA</td>\n",
              "      <td>TA</td>\n",
              "      <td>CBlock</td>\n",
              "      <td>Gd</td>\n",
              "      <td>TA</td>\n",
              "      <td>Gd</td>\n",
              "      <td>ALQ</td>\n",
              "      <td>978</td>\n",
              "      <td>Unf</td>\n",
              "      <td>0</td>\n",
              "      <td>284</td>\n",
              "      <td>1262</td>\n",
              "      <td>GasA</td>\n",
              "      <td>...</td>\n",
              "      <td>Y</td>\n",
              "      <td>SBrkr</td>\n",
              "      <td>1262</td>\n",
              "      <td>0</td>\n",
              "      <td>0</td>\n",
              "      <td>1262</td>\n",
              "      <td>0</td>\n",
              "      <td>1</td>\n",
              "      <td>2</td>\n",
              "      <td>0</td>\n",
              "      <td>3</td>\n",
              "      <td>1</td>\n",
              "      <td>TA</td>\n",
              "      <td>6</td>\n",
              "      <td>Typ</td>\n",
              "      <td>1</td>\n",
              "      <td>TA</td>\n",
              "      <td>Attchd</td>\n",
              "      <td>1976.0</td>\n",
              "      <td>RFn</td>\n",
              "      <td>2</td>\n",
              "      <td>460</td>\n",
              "      <td>TA</td>\n",
              "      <td>TA</td>\n",
              "      <td>Y</td>\n",
              "      <td>298</td>\n",
              "      <td>0</td>\n",
              "      <td>0</td>\n",
              "      <td>0</td>\n",
              "      <td>0</td>\n",
              "      <td>0</td>\n",
              "      <td>NaN</td>\n",
              "      <td>NaN</td>\n",
              "      <td>NaN</td>\n",
              "      <td>0</td>\n",
              "      <td>5</td>\n",
              "      <td>2007</td>\n",
              "      <td>WD</td>\n",
              "      <td>Normal</td>\n",
              "      <td>181500</td>\n",
              "    </tr>\n",
              "    <tr>\n",
              "      <th>2</th>\n",
              "      <td>3</td>\n",
              "      <td>60</td>\n",
              "      <td>RL</td>\n",
              "      <td>68.0</td>\n",
              "      <td>11250</td>\n",
              "      <td>Pave</td>\n",
              "      <td>NaN</td>\n",
              "      <td>IR1</td>\n",
              "      <td>Lvl</td>\n",
              "      <td>AllPub</td>\n",
              "      <td>Inside</td>\n",
              "      <td>Gtl</td>\n",
              "      <td>CollgCr</td>\n",
              "      <td>Norm</td>\n",
              "      <td>Norm</td>\n",
              "      <td>1Fam</td>\n",
              "      <td>2Story</td>\n",
              "      <td>7</td>\n",
              "      <td>5</td>\n",
              "      <td>2001</td>\n",
              "      <td>2002</td>\n",
              "      <td>Gable</td>\n",
              "      <td>CompShg</td>\n",
              "      <td>VinylSd</td>\n",
              "      <td>VinylSd</td>\n",
              "      <td>BrkFace</td>\n",
              "      <td>162.0</td>\n",
              "      <td>Gd</td>\n",
              "      <td>TA</td>\n",
              "      <td>PConc</td>\n",
              "      <td>Gd</td>\n",
              "      <td>TA</td>\n",
              "      <td>Mn</td>\n",
              "      <td>GLQ</td>\n",
              "      <td>486</td>\n",
              "      <td>Unf</td>\n",
              "      <td>0</td>\n",
              "      <td>434</td>\n",
              "      <td>920</td>\n",
              "      <td>GasA</td>\n",
              "      <td>...</td>\n",
              "      <td>Y</td>\n",
              "      <td>SBrkr</td>\n",
              "      <td>920</td>\n",
              "      <td>866</td>\n",
              "      <td>0</td>\n",
              "      <td>1786</td>\n",
              "      <td>1</td>\n",
              "      <td>0</td>\n",
              "      <td>2</td>\n",
              "      <td>1</td>\n",
              "      <td>3</td>\n",
              "      <td>1</td>\n",
              "      <td>Gd</td>\n",
              "      <td>6</td>\n",
              "      <td>Typ</td>\n",
              "      <td>1</td>\n",
              "      <td>TA</td>\n",
              "      <td>Attchd</td>\n",
              "      <td>2001.0</td>\n",
              "      <td>RFn</td>\n",
              "      <td>2</td>\n",
              "      <td>608</td>\n",
              "      <td>TA</td>\n",
              "      <td>TA</td>\n",
              "      <td>Y</td>\n",
              "      <td>0</td>\n",
              "      <td>42</td>\n",
              "      <td>0</td>\n",
              "      <td>0</td>\n",
              "      <td>0</td>\n",
              "      <td>0</td>\n",
              "      <td>NaN</td>\n",
              "      <td>NaN</td>\n",
              "      <td>NaN</td>\n",
              "      <td>0</td>\n",
              "      <td>9</td>\n",
              "      <td>2008</td>\n",
              "      <td>WD</td>\n",
              "      <td>Normal</td>\n",
              "      <td>223500</td>\n",
              "    </tr>\n",
              "    <tr>\n",
              "      <th>3</th>\n",
              "      <td>4</td>\n",
              "      <td>70</td>\n",
              "      <td>RL</td>\n",
              "      <td>60.0</td>\n",
              "      <td>9550</td>\n",
              "      <td>Pave</td>\n",
              "      <td>NaN</td>\n",
              "      <td>IR1</td>\n",
              "      <td>Lvl</td>\n",
              "      <td>AllPub</td>\n",
              "      <td>Corner</td>\n",
              "      <td>Gtl</td>\n",
              "      <td>Crawfor</td>\n",
              "      <td>Norm</td>\n",
              "      <td>Norm</td>\n",
              "      <td>1Fam</td>\n",
              "      <td>2Story</td>\n",
              "      <td>7</td>\n",
              "      <td>5</td>\n",
              "      <td>1915</td>\n",
              "      <td>1970</td>\n",
              "      <td>Gable</td>\n",
              "      <td>CompShg</td>\n",
              "      <td>Wd Sdng</td>\n",
              "      <td>Wd Shng</td>\n",
              "      <td>None</td>\n",
              "      <td>0.0</td>\n",
              "      <td>TA</td>\n",
              "      <td>TA</td>\n",
              "      <td>BrkTil</td>\n",
              "      <td>TA</td>\n",
              "      <td>Gd</td>\n",
              "      <td>No</td>\n",
              "      <td>ALQ</td>\n",
              "      <td>216</td>\n",
              "      <td>Unf</td>\n",
              "      <td>0</td>\n",
              "      <td>540</td>\n",
              "      <td>756</td>\n",
              "      <td>GasA</td>\n",
              "      <td>...</td>\n",
              "      <td>Y</td>\n",
              "      <td>SBrkr</td>\n",
              "      <td>961</td>\n",
              "      <td>756</td>\n",
              "      <td>0</td>\n",
              "      <td>1717</td>\n",
              "      <td>1</td>\n",
              "      <td>0</td>\n",
              "      <td>1</td>\n",
              "      <td>0</td>\n",
              "      <td>3</td>\n",
              "      <td>1</td>\n",
              "      <td>Gd</td>\n",
              "      <td>7</td>\n",
              "      <td>Typ</td>\n",
              "      <td>1</td>\n",
              "      <td>Gd</td>\n",
              "      <td>Detchd</td>\n",
              "      <td>1998.0</td>\n",
              "      <td>Unf</td>\n",
              "      <td>3</td>\n",
              "      <td>642</td>\n",
              "      <td>TA</td>\n",
              "      <td>TA</td>\n",
              "      <td>Y</td>\n",
              "      <td>0</td>\n",
              "      <td>35</td>\n",
              "      <td>272</td>\n",
              "      <td>0</td>\n",
              "      <td>0</td>\n",
              "      <td>0</td>\n",
              "      <td>NaN</td>\n",
              "      <td>NaN</td>\n",
              "      <td>NaN</td>\n",
              "      <td>0</td>\n",
              "      <td>2</td>\n",
              "      <td>2006</td>\n",
              "      <td>WD</td>\n",
              "      <td>Abnorml</td>\n",
              "      <td>140000</td>\n",
              "    </tr>\n",
              "    <tr>\n",
              "      <th>4</th>\n",
              "      <td>5</td>\n",
              "      <td>60</td>\n",
              "      <td>RL</td>\n",
              "      <td>84.0</td>\n",
              "      <td>14260</td>\n",
              "      <td>Pave</td>\n",
              "      <td>NaN</td>\n",
              "      <td>IR1</td>\n",
              "      <td>Lvl</td>\n",
              "      <td>AllPub</td>\n",
              "      <td>FR2</td>\n",
              "      <td>Gtl</td>\n",
              "      <td>NoRidge</td>\n",
              "      <td>Norm</td>\n",
              "      <td>Norm</td>\n",
              "      <td>1Fam</td>\n",
              "      <td>2Story</td>\n",
              "      <td>8</td>\n",
              "      <td>5</td>\n",
              "      <td>2000</td>\n",
              "      <td>2000</td>\n",
              "      <td>Gable</td>\n",
              "      <td>CompShg</td>\n",
              "      <td>VinylSd</td>\n",
              "      <td>VinylSd</td>\n",
              "      <td>BrkFace</td>\n",
              "      <td>350.0</td>\n",
              "      <td>Gd</td>\n",
              "      <td>TA</td>\n",
              "      <td>PConc</td>\n",
              "      <td>Gd</td>\n",
              "      <td>TA</td>\n",
              "      <td>Av</td>\n",
              "      <td>GLQ</td>\n",
              "      <td>655</td>\n",
              "      <td>Unf</td>\n",
              "      <td>0</td>\n",
              "      <td>490</td>\n",
              "      <td>1145</td>\n",
              "      <td>GasA</td>\n",
              "      <td>...</td>\n",
              "      <td>Y</td>\n",
              "      <td>SBrkr</td>\n",
              "      <td>1145</td>\n",
              "      <td>1053</td>\n",
              "      <td>0</td>\n",
              "      <td>2198</td>\n",
              "      <td>1</td>\n",
              "      <td>0</td>\n",
              "      <td>2</td>\n",
              "      <td>1</td>\n",
              "      <td>4</td>\n",
              "      <td>1</td>\n",
              "      <td>Gd</td>\n",
              "      <td>9</td>\n",
              "      <td>Typ</td>\n",
              "      <td>1</td>\n",
              "      <td>TA</td>\n",
              "      <td>Attchd</td>\n",
              "      <td>2000.0</td>\n",
              "      <td>RFn</td>\n",
              "      <td>3</td>\n",
              "      <td>836</td>\n",
              "      <td>TA</td>\n",
              "      <td>TA</td>\n",
              "      <td>Y</td>\n",
              "      <td>192</td>\n",
              "      <td>84</td>\n",
              "      <td>0</td>\n",
              "      <td>0</td>\n",
              "      <td>0</td>\n",
              "      <td>0</td>\n",
              "      <td>NaN</td>\n",
              "      <td>NaN</td>\n",
              "      <td>NaN</td>\n",
              "      <td>0</td>\n",
              "      <td>12</td>\n",
              "      <td>2008</td>\n",
              "      <td>WD</td>\n",
              "      <td>Normal</td>\n",
              "      <td>250000</td>\n",
              "    </tr>\n",
              "  </tbody>\n",
              "</table>\n",
              "<p>5 rows × 81 columns</p>\n",
              "</div>"
            ],
            "text/plain": [
              "   Id  MSSubClass MSZoning  ...  SaleType  SaleCondition SalePrice\n",
              "0   1          60       RL  ...        WD         Normal    208500\n",
              "1   2          20       RL  ...        WD         Normal    181500\n",
              "2   3          60       RL  ...        WD         Normal    223500\n",
              "3   4          70       RL  ...        WD        Abnorml    140000\n",
              "4   5          60       RL  ...        WD         Normal    250000\n",
              "\n",
              "[5 rows x 81 columns]"
            ]
          },
          "metadata": {},
          "execution_count": 2
        }
      ]
    },
    {
      "cell_type": "code",
      "metadata": {
        "colab": {
          "base_uri": "https://localhost:8080/",
          "height": 204
        },
        "id": "tYNQTy6eB36z",
        "outputId": "ea027bde-98d8-41f2-e9ee-453029f0bcfe"
      },
      "source": [
        "# 特徴量２つ(最初の課題と同じものを選択)、ターゲット変数のみに絞ったデータを作成\n",
        "min_data = data[['GrLivArea' ,'YearBuilt' ,'SalePrice']]\n",
        "min_data.head()"
      ],
      "execution_count": 3,
      "outputs": [
        {
          "output_type": "execute_result",
          "data": {
            "text/html": [
              "<div>\n",
              "<style scoped>\n",
              "    .dataframe tbody tr th:only-of-type {\n",
              "        vertical-align: middle;\n",
              "    }\n",
              "\n",
              "    .dataframe tbody tr th {\n",
              "        vertical-align: top;\n",
              "    }\n",
              "\n",
              "    .dataframe thead th {\n",
              "        text-align: right;\n",
              "    }\n",
              "</style>\n",
              "<table border=\"1\" class=\"dataframe\">\n",
              "  <thead>\n",
              "    <tr style=\"text-align: right;\">\n",
              "      <th></th>\n",
              "      <th>GrLivArea</th>\n",
              "      <th>YearBuilt</th>\n",
              "      <th>SalePrice</th>\n",
              "    </tr>\n",
              "  </thead>\n",
              "  <tbody>\n",
              "    <tr>\n",
              "      <th>0</th>\n",
              "      <td>1710</td>\n",
              "      <td>2003</td>\n",
              "      <td>208500</td>\n",
              "    </tr>\n",
              "    <tr>\n",
              "      <th>1</th>\n",
              "      <td>1262</td>\n",
              "      <td>1976</td>\n",
              "      <td>181500</td>\n",
              "    </tr>\n",
              "    <tr>\n",
              "      <th>2</th>\n",
              "      <td>1786</td>\n",
              "      <td>2001</td>\n",
              "      <td>223500</td>\n",
              "    </tr>\n",
              "    <tr>\n",
              "      <th>3</th>\n",
              "      <td>1717</td>\n",
              "      <td>1915</td>\n",
              "      <td>140000</td>\n",
              "    </tr>\n",
              "    <tr>\n",
              "      <th>4</th>\n",
              "      <td>2198</td>\n",
              "      <td>2000</td>\n",
              "      <td>250000</td>\n",
              "    </tr>\n",
              "  </tbody>\n",
              "</table>\n",
              "</div>"
            ],
            "text/plain": [
              "   GrLivArea  YearBuilt  SalePrice\n",
              "0       1710       2003     208500\n",
              "1       1262       1976     181500\n",
              "2       1786       2001     223500\n",
              "3       1717       1915     140000\n",
              "4       2198       2000     250000"
            ]
          },
          "metadata": {},
          "execution_count": 3
        }
      ]
    },
    {
      "cell_type": "code",
      "metadata": {
        "colab": {
          "base_uri": "https://localhost:8080/",
          "height": 204
        },
        "id": "miTFyhGGDuwd",
        "outputId": "a3431a62-b506-4491-de0f-ea8206ae4fc2"
      },
      "source": [
        "X = min_data.iloc[:, 0:2]\n",
        "X.head()"
      ],
      "execution_count": 4,
      "outputs": [
        {
          "output_type": "execute_result",
          "data": {
            "text/html": [
              "<div>\n",
              "<style scoped>\n",
              "    .dataframe tbody tr th:only-of-type {\n",
              "        vertical-align: middle;\n",
              "    }\n",
              "\n",
              "    .dataframe tbody tr th {\n",
              "        vertical-align: top;\n",
              "    }\n",
              "\n",
              "    .dataframe thead th {\n",
              "        text-align: right;\n",
              "    }\n",
              "</style>\n",
              "<table border=\"1\" class=\"dataframe\">\n",
              "  <thead>\n",
              "    <tr style=\"text-align: right;\">\n",
              "      <th></th>\n",
              "      <th>GrLivArea</th>\n",
              "      <th>YearBuilt</th>\n",
              "    </tr>\n",
              "  </thead>\n",
              "  <tbody>\n",
              "    <tr>\n",
              "      <th>0</th>\n",
              "      <td>1710</td>\n",
              "      <td>2003</td>\n",
              "    </tr>\n",
              "    <tr>\n",
              "      <th>1</th>\n",
              "      <td>1262</td>\n",
              "      <td>1976</td>\n",
              "    </tr>\n",
              "    <tr>\n",
              "      <th>2</th>\n",
              "      <td>1786</td>\n",
              "      <td>2001</td>\n",
              "    </tr>\n",
              "    <tr>\n",
              "      <th>3</th>\n",
              "      <td>1717</td>\n",
              "      <td>1915</td>\n",
              "    </tr>\n",
              "    <tr>\n",
              "      <th>4</th>\n",
              "      <td>2198</td>\n",
              "      <td>2000</td>\n",
              "    </tr>\n",
              "  </tbody>\n",
              "</table>\n",
              "</div>"
            ],
            "text/plain": [
              "   GrLivArea  YearBuilt\n",
              "0       1710       2003\n",
              "1       1262       1976\n",
              "2       1786       2001\n",
              "3       1717       1915\n",
              "4       2198       2000"
            ]
          },
          "metadata": {},
          "execution_count": 4
        }
      ]
    },
    {
      "cell_type": "code",
      "metadata": {
        "colab": {
          "base_uri": "https://localhost:8080/"
        },
        "id": "hJRWq1WGEAPe",
        "outputId": "88be3a75-de12-47b5-906b-d6557fbfa17a"
      },
      "source": [
        "y = min_data.iloc[:, -1]\n",
        "y.head()"
      ],
      "execution_count": 5,
      "outputs": [
        {
          "output_type": "execute_result",
          "data": {
            "text/plain": [
              "0    208500\n",
              "1    181500\n",
              "2    223500\n",
              "3    140000\n",
              "4    250000\n",
              "Name: SalePrice, dtype: int64"
            ]
          },
          "metadata": {},
          "execution_count": 5
        }
      ]
    },
    {
      "cell_type": "code",
      "metadata": {
        "id": "7FpVm_weEHri"
      },
      "source": [
        "# 訓練データとテストデータに分割\n",
        "X_train, X_test, y_train, y_test = train_test_split(X, y, test_size = 0.3, random_state = None)"
      ],
      "execution_count": 6,
      "outputs": []
    },
    {
      "cell_type": "code",
      "metadata": {
        "id": "BudZ6zxeHQMu"
      },
      "source": [
        "# モデルの設定(初期化して辞書に格納)\n",
        "models = {'線形回帰' : LinearRegression(), 'SVM' : SVR(), '決定木' : DecisionTreeRegressor()}"
      ],
      "execution_count": 7,
      "outputs": []
    },
    {
      "cell_type": "markdown",
      "metadata": {
        "id": "HLuCLgmDK77S"
      },
      "source": [
        "〈問題１解答前半〉\n",
        "\n",
        "単一モデルの場合の精度をまず以下のとおり算出した。"
      ]
    },
    {
      "cell_type": "code",
      "metadata": {
        "colab": {
          "base_uri": "https://localhost:8080/"
        },
        "id": "JxkpAW1VIPEY",
        "outputId": "ad5eb247-56a4-45f2-d8bf-c0a7ec0c6318"
      },
      "source": [
        "for model_name, model in models.items():\n",
        "  # X_trainとy_trainを使ってモデルの学習\n",
        "  model.fit(X_train, y_train)\n",
        "  # 学習済モデルとX_testを使って予測\n",
        "  y_pred = model.predict(X_test)\n",
        "  # y_testと予測結果の答え合わせ\n",
        "  mse = mean_squared_error(y_test, y_pred)\n",
        "  print('{}モデルのRMSE : {}'.format(model_name, np.sqrt(mse)))"
      ],
      "execution_count": 8,
      "outputs": [
        {
          "output_type": "stream",
          "name": "stdout",
          "text": [
            "線形回帰モデルのRMSE : 41990.699746363214\n",
            "SVMモデルのRMSE : 79208.22345317087\n",
            "決定木モデルのRMSE : 53621.55996943175\n"
          ]
        }
      ]
    },
    {
      "cell_type": "markdown",
      "metadata": {
        "id": "9etKqieO4PEc"
      },
      "source": [
        "ブレンディングとは\n",
        "\n",
        "ブレンディングとは、N個の多様なモデルを独立して学習させ、推定結果を重み付けした上で足し合わせる方法です。最も単純には平均をとります。多様なモデルとは、以下のような条件を変化させることで作り出すものです。\n",
        "\n",
        "\n",
        "・手法（例：線形回帰、SVM、決定木、ニューラルネットワークなど）\n",
        "\n",
        "・ハイパーパラメータ（例：SVMのカーネルの種類、重みの初期値など）\n",
        "\n",
        "・入力データの前処理の仕方（例：標準化、対数変換、PCAなど）\n",
        "\n",
        "重要なのはそれぞれのモデルが大きく異なることです。\n",
        "\n",
        "\n",
        "回帰問題でのブレンディングは非常に単純であるため、scikit-learnには用意されていません。\n",
        "\n"
      ]
    },
    {
      "cell_type": "markdown",
      "metadata": {
        "id": "vXKlG7If6M7y"
      },
      "source": [
        "《補足》\n",
        "\n",
        "\n",
        "分類問題の場合は、多数決を行います。回帰問題に比べると複雑なため、scikit-learnにはVotingClassifierが用意されています。\n",
        "\n",
        "\n",
        "sklearn.ensemble.VotingClassifier — scikit-learn 0.21.3 documentation"
      ]
    },
    {
      "cell_type": "markdown",
      "metadata": {
        "id": "I1PZVYlaLXRN"
      },
      "source": [
        "〈問題１解答後半〉\n",
        "\n",
        "単一モデルよりも精度が上がる例を以下のとおり検証した。\n",
        "下記１〜３のいずれのアプローチも単一モデルに比して精度が下がっていることを確認できた。\n",
        "\n",
        "アプローチ１：複数モデルの予測値の平均をとる\n",
        "\n",
        "アプローチ２：学習時の乱数シードを変えて平均をとる\n",
        "\n",
        "アプローチ３：同じモデル×複数で各ハイパーパラメータを変えて平均をとる"
      ]
    },
    {
      "cell_type": "code",
      "metadata": {
        "colab": {
          "base_uri": "https://localhost:8080/"
        },
        "id": "lSAlNCWyMBJS",
        "outputId": "844ca34d-95df-45f5-cd20-c74f3f49e974"
      },
      "source": [
        "# アプローチ１：複数モデルの予測値の平均をとる\n",
        "lm = LinearRegression()\n",
        "sv = SVR()\n",
        "dt = DecisionTreeRegressor()\n",
        "#  複数の(ここでは３つに設定)モデルを個別に学習\n",
        "model1 = lm.fit(X_train, y_train)\n",
        "model2 = sv.fit(X_train, y_train)\n",
        "model3 = dt.fit(X_train, y_train)\n",
        "#  複数の(ここでは３つに設定)学習済モデルとX_testを使って予測\n",
        "pred1 = lm.predict(X_test)\n",
        "pred2 = sv.predict(X_test)\n",
        "pred3 = dt.predict(X_test)\n",
        "\n",
        "app1_pred = np.mean([pred1, pred2, pred3], axis = 0)\n",
        "\n",
        "# y_testと予測結果の答え合わせ\n",
        "app1_mse = mean_squared_error(y_test, app1_pred)\n",
        "print('3モデルの平均のRMSE : {}'.format(np.sqrt(app1_mse)))"
      ],
      "execution_count": 9,
      "outputs": [
        {
          "output_type": "stream",
          "name": "stdout",
          "text": [
            "3モデルの平均のRMSE : 46366.60188233441\n"
          ]
        }
      ]
    },
    {
      "cell_type": "code",
      "metadata": {
        "colab": {
          "base_uri": "https://localhost:8080/"
        },
        "id": "AX9CTUQSNjAz",
        "outputId": "4f827bdb-5068-46dd-eadf-06955654c169"
      },
      "source": [
        "# アプローチ２：学習時の乱数シードを変えて平均をとる\n",
        "# 訓練データとテストデータに分割する際に乱数シードを変える\n",
        "X2_train, X2_test, y2_train, y2_test = train_test_split(X, y, test_size = 0.3, random_state = 1234)\n",
        "lm = LinearRegression()\n",
        "sv = SVR()\n",
        "dt = DecisionTreeRegressor()\n",
        "#  複数の(ここでは３つに設定)モデルを個別に学習\n",
        "model12 = lm.fit(X2_train, y2_train)\n",
        "model22 = sv.fit(X2_train, y2_train)\n",
        "model32 = dt.fit(X2_train, y2_train)\n",
        "#  複数の(ここでは３つに設定)学習済モデルとX_testを使って予測\n",
        "pred12 = lm.predict(X2_test)\n",
        "pred22 = sv.predict(X2_test)\n",
        "pred32 = dt.predict(X2_test)\n",
        "\n",
        "app2_pred = np.mean([pred12, pred22, pred32], axis = 0)\n",
        "\n",
        "# y_testと予測結果の答え合わせ\n",
        "app2_mse = mean_squared_error(y2_test, app2_pred)\n",
        "print('学習時の乱数シードを変えた場合の平均のRMSE : {}'.format(np.sqrt(app2_mse)))"
      ],
      "execution_count": 10,
      "outputs": [
        {
          "output_type": "stream",
          "name": "stdout",
          "text": [
            "学習時の乱数シードを変えた場合の平均のRMSE : 42301.977651964655\n"
          ]
        }
      ]
    },
    {
      "cell_type": "code",
      "metadata": {
        "colab": {
          "base_uri": "https://localhost:8080/"
        },
        "id": "TN-g2MmlNjaJ",
        "outputId": "52f1088c-ed17-40b8-f624-673128a0ad1f"
      },
      "source": [
        "# アプローチ３：同じモデル×複数で各ハイパーパラメータを変えて平均をとる\n",
        "dt1 = DecisionTreeRegressor(max_depth = 5)\n",
        "dt2 = DecisionTreeRegressor(max_depth = 10)\n",
        "dt3 = DecisionTreeRegressor(max_depth = 15)\n",
        "#  複数の(ここでは３つに設定)モデルを個別に学習\n",
        "model1 = dt1.fit(X_train, y_train)\n",
        "model2 = dt2.fit(X_train, y_train)\n",
        "model3 = dt3.fit(X_train, y_train)\n",
        "#  複数の(ここでは３つに設定)学習済モデルとX_testを使って予測\n",
        "pred1 = dt1.predict(X_test)\n",
        "pred2 = dt2.predict(X_test)\n",
        "pred3 = dt3.predict(X_test)\n",
        "\n",
        "app3_pred = np.mean([pred1, pred2, pred3], axis = 0)\n",
        "\n",
        "# y_testと予測結果の答え合わせ\n",
        "app3_mse = mean_squared_error(y_test, app3_pred)\n",
        "print('同一モデルで各ハイパーパラメータを変えた場合の平均のRMSE : {}'.format(np.sqrt(app3_mse)))"
      ],
      "execution_count": 11,
      "outputs": [
        {
          "output_type": "stream",
          "name": "stdout",
          "text": [
            "同一モデルで各ハイパーパラメータを変えた場合の平均のRMSE : 39407.168731246325\n"
          ]
        }
      ]
    },
    {
      "cell_type": "markdown",
      "metadata": {
        "id": "svZxg3nw6P3V"
      },
      "source": [
        "# 4.バギング"
      ]
    },
    {
      "cell_type": "markdown",
      "metadata": {
        "id": "JABna7v86TTF"
      },
      "source": [
        "【問題2】バギングのスクラッチ実装\n",
        "\n",
        "バギング をスクラッチ実装し、単一モデルより精度があがる例を 最低1つ 示してください。"
      ]
    },
    {
      "cell_type": "markdown",
      "metadata": {
        "id": "9ZfnjWFy61lW"
      },
      "source": [
        "**バギングとは**\n",
        "\n",
        "バギングは入力データの選び方を多様化する方法です。訓練データから重複を許した上でランダムに抜き出すことで、N種類のサブセット（ ブートストラップサンプル ）を作り出します。それらによってモデルをN個学習し、推定結果の平均をとります。ブレンディングと異なり、それぞれの重み付けを変えることはありません。\n",
        "\n",
        "\n",
        "sklearn.model_selection.train_test_split — scikit-learn 0.21.3 documentation\n",
        "\n",
        "\n",
        "推定結果の平均をとる部分はブレンディングと同様の実装になります。"
      ]
    },
    {
      "cell_type": "markdown",
      "metadata": {
        "id": "IZZy3ucyaFtG"
      },
      "source": [
        "〈問題2解答前半〉\n",
        "\n",
        "単一モデルの場合の精度をまず以下のとおり算出した。"
      ]
    },
    {
      "cell_type": "code",
      "metadata": {
        "colab": {
          "base_uri": "https://localhost:8080/"
        },
        "id": "x3eg3XghZul9",
        "outputId": "b17c13b7-43fe-4ae8-d0be-345d5f25085b"
      },
      "source": [
        "# 単一モデルを初期化\n",
        "dt = DecisionTreeRegressor()\n",
        "# X_trainとy_trainを使ってモデルの学習\n",
        "model = dt.fit(X_train, y_train)\n",
        "# 学習済モデルとX_testを使って予測\n",
        "pred = model.predict(X_test)\n",
        "# y_testと予測結果の答え合わせ\n",
        "mse = mean_squared_error(y_test, pred)\n",
        "print('単一モデルのRMSE : {}'.format(np.sqrt(mse)))"
      ],
      "execution_count": 12,
      "outputs": [
        {
          "output_type": "stream",
          "name": "stdout",
          "text": [
            "単一モデルのRMSE : 53240.28069810585\n"
          ]
        }
      ]
    },
    {
      "cell_type": "markdown",
      "metadata": {
        "id": "Xav6YJtNnGhn"
      },
      "source": [
        "〈問題２解答後半〉\n",
        "\n",
        "単一モデルよりも精度が上がる例を以下のとおり検証した。以下のとおりバギングを実施した結果、精度が上がっていることを確認できた。"
      ]
    },
    {
      "cell_type": "code",
      "metadata": {
        "id": "ZwZkpQMzfHa3"
      },
      "source": [
        "# ブートストラップする回数を決定\n",
        "n_boot = 100"
      ],
      "execution_count": 13,
      "outputs": []
    },
    {
      "cell_type": "code",
      "metadata": {
        "id": "mXMKRD2hdJEn"
      },
      "source": [
        "# バギングによって取り出した各データに対して作成したモデルをリストに格納\n",
        "models = []"
      ],
      "execution_count": 14,
      "outputs": []
    },
    {
      "cell_type": "code",
      "metadata": {
        "id": "jzao_DosgCUE"
      },
      "source": [
        "# ブートストラップをfor文で行う\n",
        "for i in range(n_boot):\n",
        "  # 訓練データをさらにランダムに復元抽出サンプル(重複を許して抽出するため引数にshuffle = Trueとする)\n",
        "  X_bagging, _X, y_bagging, _y = train_test_split(X_train, y_train, train_size = 0.3, shuffle = True)\n",
        "  # 弱学習器を構築\n",
        "  dt = DecisionTreeRegressor()\n",
        "  # 学習\n",
        "  dt.fit(X_bagging, y_bagging)\n",
        "  # モデルを集約\n",
        "  models.append(dt)"
      ],
      "execution_count": 15,
      "outputs": []
    },
    {
      "cell_type": "code",
      "metadata": {
        "colab": {
          "base_uri": "https://localhost:8080/"
        },
        "id": "qehh3gXBggPv",
        "outputId": "b2cf17d2-a6c0-40c1-e73e-b3ac13693ac6"
      },
      "source": [
        "# 予測値の初期値を設定\n",
        "prediction = np.zeros(len(X_test))\n",
        "# 集約したモデルを集計し、モデル数(= ブートストラップする回数)で除して平均値を算定\n",
        "for model in models:\n",
        "  pred_value = model.predict(X_test)\n",
        "  prediction += pred_value\n",
        "\n",
        "bag_mean = prediction / n_boot \n",
        "# y_testと予測結果の答え合わせ\n",
        "bag_mse = mean_squared_error(y_test, bag_mean)\n",
        "print('決定木でバギングを行った場合の平均のRMSE : {}'.format(np.sqrt(bag_mse)))"
      ],
      "execution_count": 16,
      "outputs": [
        {
          "output_type": "stream",
          "name": "stdout",
          "text": [
            "決定木でバギングを行った場合の平均のRMSE : 35527.187579245525\n"
          ]
        }
      ]
    },
    {
      "cell_type": "markdown",
      "metadata": {
        "id": "-coLsnY37wRX"
      },
      "source": [
        "# 5.スタッキング"
      ]
    },
    {
      "cell_type": "markdown",
      "metadata": {
        "id": "QLlj7I4b70th"
      },
      "source": [
        "【問題3】スタッキングのスクラッチ実装\n",
        "\n",
        "スタッキング をスクラッチ実装し、単一モデルより精度があがる例を **最低1つ** 示してください。"
      ]
    },
    {
      "cell_type": "markdown",
      "metadata": {
        "id": "00jADX158Bfv"
      },
      "source": [
        "**スタッキングとは**\n",
        "\n",
        "スタッキングの手順は以下の通りです。最低限ステージ0とステージ1があればスタッキングは成立するため、それを実装してください。まずは $K_0=3, M_0=2$ 程度にします。"
      ]
    },
    {
      "cell_type": "markdown",
      "metadata": {
        "id": "ZfybIywj8SKY"
      },
      "source": [
        "《学習時》\n",
        "\n",
        "\n",
        "（ステージ $0$ ）\n",
        "\n",
        "\n",
        "・訓練データを $K_0$ 個に分割する。\n",
        "\n",
        "・分割した内の $(K_0 - 1)$ 個をまとめて訓練データ、残り $1$ 個を推定用データとする組み合わせが $K_0$ 個作れる。\n",
        "\n",
        "・あるモデルのインスタンスを $K_0$ 個用意し、異なる訓練データを使い学習する。\n",
        "\n",
        "・それぞれの学習済みモデルに対して、使っていない残り $1$ 個の推定用データを入力し、推定値を得る。（これをブレンドデータと呼ぶ）\n",
        "\n",
        "・さらに、異なるモデルのインスタンスも $K_0$ 個用意し、同様のことを行う。モデルが $M_0$ 個あれば、 $M_0$ 個のブレンドデータが得られる。\n",
        "\n",
        "（ステージ $n$ ）\n",
        "\n",
        "\n",
        "・ステージ $n-1$ のブレンドデータを$M_{n-1}$ 次元の特徴量を持つ訓練データと考え、 $K_n$ 個に分割する。以下同様である。\n",
        "\n",
        "（ステージ $N$ ）＊最後のステージ\n",
        "\n",
        "\n",
        "・ステージ $N-1$ の $M_{N-1}$ 個のブレンドデータを$M_{N-1}$ 次元の特徴量の入力として、1種類のモデルの学習を行う。これが最終的な推定を行うモデルとなる。\n",
        "\n",
        "《推定時》\n",
        "\n",
        "\n",
        "（ステージ $0$ ）\n",
        "\n",
        "\n",
        "・テストデータを $K_0×M_0$ 個の学習済みモデルに入力し、$K_0×M_0$ 個の推定値を得る。これを $K_0$ の軸で平均値を求め $M_0$ 次元の特徴量を持つデータを得る。（ブレンドテストと呼ぶ）\n",
        "\n",
        "（ステージ $n$ ）\n",
        "\n",
        "\n",
        "・ステージ $n-1$ で得たブレンドテストを $K_n×M_n$ 個の学習済みモデルに入力し、$K_n×M_n$ 個の推定値を得る。これを $K_n$ の軸で平均値を求め $M_0$ 次元の特徴量を持つデータを得る。（ブレンドテストと呼ぶ）\n",
        "\n",
        "（ステージ $N$ ）＊最後のステージ\n",
        "\n",
        "\n",
        "・ステージ $N-1$ で得たブレンドテストを学習済みモデルに入力し、推定値を得る。\n"
      ]
    },
    {
      "cell_type": "code",
      "metadata": {
        "id": "1XqAZZSKvVcO"
      },
      "source": [
        "class Stacking():\n",
        "  \"\"\"\n",
        "  スタッキングの実装\n",
        "  \"\"\"\n",
        "  def __init__(self, max_depth, splits, models):\n",
        "    \"\"\"\n",
        "    コンストラクタ\n",
        "    Parameters\n",
        "    --------------\n",
        "    max_depth : スタッキングする層\n",
        "    splits : 分割するsplits数\n",
        "    models : 適用するモデル\n",
        "    learned_models :　学習したモデル\n",
        "    \"\"\"\n",
        "    self.max_depth = max_depth\n",
        "    self.n_splits = splits\n",
        "    self.models = models\n",
        "    self.learned_models = [] \n",
        "  \n",
        "  def calc_blend(self, X, y, model):\n",
        "    \"\"\"\n",
        "    ブレンドデータを得る\n",
        "    Parameters\n",
        "    --------------\n",
        "    model : モデル\n",
        "    X : 特徴量\n",
        "    y : 目的変数\n",
        "    \"\"\"\n",
        "    # ブレンドデータの初期化\n",
        "    self.y_blend = np.zeros(len(X))\n",
        "\n",
        "    # 学習データをクロスバリデーションのfoldに分ける(Diverの記載に基づいてfoldを1から3とする)\n",
        "    kf = KFold(n_splits = self.n_splits, shuffle = False, random_state = 1234)\n",
        "    \n",
        "    # fold分繰り返す\n",
        "    for tr_idx, va_idx in kf.split(X):\n",
        "      # データを分割\n",
        "      X_train, X_val = X[tr_idx], X[va_idx]\n",
        "      y_train, y_val = y[tr_idx], y[va_idx]\n",
        "      \n",
        "      y_train = y_train.ravel()\n",
        "      y_valid = y_valid.ravel()\n",
        "\n",
        "      # 訓練データを用いた学習モデルの作成\n",
        "      regr = model\n",
        "      regr.fit(X_train, y_train)\n",
        "      self.fit_models.append(regr)\n",
        "      # ブレンドデータの作成\n",
        "      self.y_blend[valid_index] = regr.predict(X_valid)\n",
        "\n",
        "  def fit(self, X, y, depth):\n",
        "    \"\"\"\n",
        "    2層目以降の学習\n",
        "    Parameters\n",
        "    --------------\n",
        "    X : 特徴量\n",
        "    y : 目的変数\n",
        "    depth : 何層目のスタッキングか\n",
        "    \"\"\"\n",
        "    # 現在の何層目にいるかをインスタンス化\n",
        "    self.depth = depth\n",
        "\n",
        "    # 最深層に達したら、最終層のモデルを学習し(当該モデルの予測値を最終的な予測値とする)処理をいったん終了させる\n",
        "    if self.depth == self.max_depth:\n",
        "      # 最深層のモデルを取得\n",
        "      self.model = self.models[self.depth]\n",
        "      # 最深層のモデルを学習\n",
        "      self.model.fit(X, y)\n",
        "      return\n",
        "    \n",
        "    # 各層におけるモデルを取得\n",
        "    models = self.models[self.depth]\n",
        "    self.blend = np.zeros([len(X), len(models)])\n",
        "\n",
        "    #　各層ごとに全てのモデルで学習・予測\n",
        "    for i, mdl in enumerate(models):\n",
        "      self.calc_blend(X, y, mdl)\n",
        "      self.blend[:, i] = self.y_blend\n",
        "    \n",
        "    # (注)授業のコード解説を見たままメモして書いているので意味が理解できていないところ！！\n",
        "    self.bld = Stacking(self.max_depth, self.n_splits, self.models)\n",
        "    # １つ前の層のモデルの予測値を特徴量として使って学習\n",
        "    self.bld.fit_(blend_y, y, depth + 1)\n",
        "    # 次の層へ移る\n",
        "    self.depth += 1\n",
        "\n",
        "  def predict(self, X):\n",
        "    \"\"\"\n",
        "    2層目以降の予測\n",
        "    Parameters\n",
        "    --------------\n",
        "    X : 特徴量\n",
        "    y : 目的変数\n",
        "    depth_now : 何層目のスタッキングか\n",
        "    \"\"\"\n",
        "\n",
        "    # 最深層に達したら、最終層のモデルの予測値を最終的な予測値として処理\n",
        "    if self.depth == self.max_depth:\n",
        "      prediction = self.model.predict(X)\n",
        "      return prediction\n",
        "    \n",
        "    # 最大深さに達していない場合には、再帰的に呼び出す\n",
        "    else:\n",
        "      # 予測値の初期化\n",
        "      self.prediction = np.zeros(len(X))\n",
        "      # 次の層の特徴量として渡すブレンドデータを作成\n",
        "      self.y_next = np.zeros([len(X), len(self.models[self.depth])])\n",
        "      # どのモデルかを把握(初期値は0)\n",
        "      model_count = 0\n",
        "      for model in self.learned_models:\n",
        "        self.prediction += model.predict(X)\n",
        "        model_count += 1\n",
        "        if model_count % self.n_splits == 0:\n",
        "          # 取得してきた予測値の平均をとる\n",
        "          self.prediction = self.prediction / self.n_splits\n",
        "          # 上記の平均値を次の層の特徴量として使えるようにブレンドデータに格納\n",
        "          self.y_next[:, int(model_count / self.n_splits) -1] = self.prediction\n",
        "          # 次のモデルに影響してしまわないようにこの時点(次のモデルに移る前に)でも予測値の初期化が必要\n",
        "          self.prediction = np.zeros(len(X))\n",
        "      # 次の層の予測関数\n",
        "      prediction = self.stack.predict(self.blending)\n",
        "    return prediction"
      ],
      "execution_count": 21,
      "outputs": []
    },
    {
      "cell_type": "code",
      "metadata": {
        "id": "w5Fg4De2A6IK"
      },
      "source": [
        "# データを分割し、Numpyに変換\n",
        "X_train, X_test, y_train, y_test = train_test_split(X.to_numpy(), y.to_numpy(), test_size = 0.3, random_state = None)"
      ],
      "execution_count": 22,
      "outputs": []
    },
    {
      "cell_type": "code",
      "metadata": {
        "id": "u9Um_LGjxAsC",
        "colab": {
          "base_uri": "https://localhost:8080/",
          "height": 379
        },
        "outputId": "a8429b75-b848-4041-d697-5408e97c7118"
      },
      "source": [
        "# あるモデルのインスタンスを $K_0$ 個用意\n",
        "models = {\n",
        "    0 : [LinearRegression(), SVR(), DecisionTreeRegressor()],\n",
        "    1 : [ARDRegression(), HuberRegressor(), RandomForestRegressor()],\n",
        "    2 : [ARDRegression(), RandomForestRegressor(), DecisionTreeRegressor()],\n",
        "    3 : LinearRegression()\n",
        "}\n",
        "\n",
        "# 関数の呼び出し\n",
        "stack = Stacking(max_depth = 3, splits = 5, models = models)\n",
        "stack.fit(X_train, y_train, 0)"
      ],
      "execution_count": 23,
      "outputs": [
        {
          "output_type": "stream",
          "name": "stderr",
          "text": [
            "/usr/local/lib/python3.7/dist-packages/sklearn/model_selection/_split.py:296: FutureWarning: Setting a random_state has no effect since shuffle is False. This will raise an error in 0.24. You should leave random_state to its default (None), or set shuffle=True.\n",
            "  FutureWarning\n"
          ]
        },
        {
          "output_type": "error",
          "ename": "UnboundLocalError",
          "evalue": "ignored",
          "traceback": [
            "\u001b[0;31m---------------------------------------------------------------------------\u001b[0m",
            "\u001b[0;31mUnboundLocalError\u001b[0m                         Traceback (most recent call last)",
            "\u001b[0;32m<ipython-input-23-820d6d4fcb7e>\u001b[0m in \u001b[0;36m<module>\u001b[0;34m()\u001b[0m\n\u001b[1;32m      9\u001b[0m \u001b[0;31m# 関数の呼び出し\u001b[0m\u001b[0;34m\u001b[0m\u001b[0;34m\u001b[0m\u001b[0;34m\u001b[0m\u001b[0m\n\u001b[1;32m     10\u001b[0m \u001b[0mstack\u001b[0m \u001b[0;34m=\u001b[0m \u001b[0mStacking\u001b[0m\u001b[0;34m(\u001b[0m\u001b[0mmax_depth\u001b[0m \u001b[0;34m=\u001b[0m \u001b[0;36m3\u001b[0m\u001b[0;34m,\u001b[0m \u001b[0msplits\u001b[0m \u001b[0;34m=\u001b[0m \u001b[0;36m5\u001b[0m\u001b[0;34m,\u001b[0m \u001b[0mmodels\u001b[0m \u001b[0;34m=\u001b[0m \u001b[0mmodels\u001b[0m\u001b[0;34m)\u001b[0m\u001b[0;34m\u001b[0m\u001b[0;34m\u001b[0m\u001b[0m\n\u001b[0;32m---> 11\u001b[0;31m \u001b[0mstack\u001b[0m\u001b[0;34m.\u001b[0m\u001b[0mfit\u001b[0m\u001b[0;34m(\u001b[0m\u001b[0mX_train\u001b[0m\u001b[0;34m,\u001b[0m \u001b[0my_train\u001b[0m\u001b[0;34m,\u001b[0m \u001b[0;36m0\u001b[0m\u001b[0;34m)\u001b[0m\u001b[0;34m\u001b[0m\u001b[0;34m\u001b[0m\u001b[0m\n\u001b[0m",
            "\u001b[0;32m<ipython-input-21-812cf348480a>\u001b[0m in \u001b[0;36mfit\u001b[0;34m(self, X, y, depth)\u001b[0m\n\u001b[1;32m     75\u001b[0m     \u001b[0;31m#　各層ごとに全てのモデルで学習・予測\u001b[0m\u001b[0;34m\u001b[0m\u001b[0;34m\u001b[0m\u001b[0;34m\u001b[0m\u001b[0m\n\u001b[1;32m     76\u001b[0m     \u001b[0;32mfor\u001b[0m \u001b[0mi\u001b[0m\u001b[0;34m,\u001b[0m \u001b[0mmdl\u001b[0m \u001b[0;32min\u001b[0m \u001b[0menumerate\u001b[0m\u001b[0;34m(\u001b[0m\u001b[0mmodels\u001b[0m\u001b[0;34m)\u001b[0m\u001b[0;34m:\u001b[0m\u001b[0;34m\u001b[0m\u001b[0;34m\u001b[0m\u001b[0m\n\u001b[0;32m---> 77\u001b[0;31m       \u001b[0mself\u001b[0m\u001b[0;34m.\u001b[0m\u001b[0mcalc_blend\u001b[0m\u001b[0;34m(\u001b[0m\u001b[0mX\u001b[0m\u001b[0;34m,\u001b[0m \u001b[0my\u001b[0m\u001b[0;34m,\u001b[0m \u001b[0mmdl\u001b[0m\u001b[0;34m)\u001b[0m\u001b[0;34m\u001b[0m\u001b[0;34m\u001b[0m\u001b[0m\n\u001b[0m\u001b[1;32m     78\u001b[0m       \u001b[0mself\u001b[0m\u001b[0;34m.\u001b[0m\u001b[0mblend\u001b[0m\u001b[0;34m[\u001b[0m\u001b[0;34m:\u001b[0m\u001b[0;34m,\u001b[0m \u001b[0mi\u001b[0m\u001b[0;34m]\u001b[0m \u001b[0;34m=\u001b[0m \u001b[0mself\u001b[0m\u001b[0;34m.\u001b[0m\u001b[0my_blend\u001b[0m\u001b[0;34m\u001b[0m\u001b[0;34m\u001b[0m\u001b[0m\n\u001b[1;32m     79\u001b[0m \u001b[0;34m\u001b[0m\u001b[0m\n",
            "\u001b[0;32m<ipython-input-21-812cf348480a>\u001b[0m in \u001b[0;36mcalc_blend\u001b[0;34m(self, X, y, model)\u001b[0m\n\u001b[1;32m     40\u001b[0m \u001b[0;34m\u001b[0m\u001b[0m\n\u001b[1;32m     41\u001b[0m       \u001b[0my_train\u001b[0m \u001b[0;34m=\u001b[0m \u001b[0my_train\u001b[0m\u001b[0;34m.\u001b[0m\u001b[0mravel\u001b[0m\u001b[0;34m(\u001b[0m\u001b[0;34m)\u001b[0m\u001b[0;34m\u001b[0m\u001b[0;34m\u001b[0m\u001b[0m\n\u001b[0;32m---> 42\u001b[0;31m       \u001b[0my_valid\u001b[0m \u001b[0;34m=\u001b[0m \u001b[0my_valid\u001b[0m\u001b[0;34m.\u001b[0m\u001b[0mravel\u001b[0m\u001b[0;34m(\u001b[0m\u001b[0;34m)\u001b[0m\u001b[0;34m\u001b[0m\u001b[0;34m\u001b[0m\u001b[0m\n\u001b[0m\u001b[1;32m     43\u001b[0m \u001b[0;34m\u001b[0m\u001b[0m\n\u001b[1;32m     44\u001b[0m       \u001b[0;31m# 訓練データを用いた学習モデルの作成\u001b[0m\u001b[0;34m\u001b[0m\u001b[0;34m\u001b[0m\u001b[0;34m\u001b[0m\u001b[0m\n",
            "\u001b[0;31mUnboundLocalError\u001b[0m: local variable 'y_valid' referenced before assignment"
          ]
        }
      ]
    },
    {
      "cell_type": "code",
      "metadata": {
        "id": "LJSUyRpQ2UQL"
      },
      "source": [
        "prediction = stack.predict(X_test)"
      ],
      "execution_count": null,
      "outputs": []
    },
    {
      "cell_type": "code",
      "metadata": {
        "id": "D5HKd59RWJYA"
      },
      "source": [
        "# 指標\n",
        "mse = mean_squared_error(y_test, prediction)\n",
        "print('MSE : {:.3f}'.format(mse))"
      ],
      "execution_count": null,
      "outputs": []
    }
  ]
}
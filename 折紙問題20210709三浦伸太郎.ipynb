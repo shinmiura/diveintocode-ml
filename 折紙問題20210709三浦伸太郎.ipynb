{
  "nbformat": 4,
  "nbformat_minor": 0,
  "metadata": {
    "colab": {
      "name": "折紙問題20210709三浦伸太郎.ipynb",
      "provenance": [],
      "collapsed_sections": [],
      "authorship_tag": "ABX9TyN/iSwuO5mcxg+i0FnGXOlx",
      "include_colab_link": true
    },
    "kernelspec": {
      "name": "python3",
      "display_name": "Python 3"
    },
    "language_info": {
      "name": "python"
    }
  },
  "cells": [
    {
      "cell_type": "markdown",
      "metadata": {
        "id": "view-in-github",
        "colab_type": "text"
      },
      "source": [
        "<a href=\"https://colab.research.google.com/github/shinmiura/diveintocode-ml/blob/master/%E6%8A%98%E7%B4%99%E5%95%8F%E9%A1%8C20210709%E4%B8%89%E6%B5%A6%E4%BC%B8%E5%A4%AA%E9%83%8E.ipynb\" target=\"_parent\"><img src=\"https://colab.research.google.com/assets/colab-badge.svg\" alt=\"Open In Colab\"/></a>"
      ]
    },
    {
      "cell_type": "markdown",
      "metadata": {
        "id": "vLAjTJRnJJwn"
      },
      "source": [
        "【問題１】"
      ]
    },
    {
      "cell_type": "code",
      "metadata": {
        "colab": {
          "base_uri": "https://localhost:8080/"
        },
        "id": "Aj_FywccGzTS",
        "outputId": "ef7fd943-a9e2-4307-bd5d-d2ba93c59f08"
      },
      "source": [
        "# 紙を43回折った時の厚さを計算するコード\n",
        "\n",
        "THICKNESS = 0.00008\n",
        "folded_thickness = THICKNESS * 2 ** 43\n",
        "print(\"厚さ： {}メートル\".format(folded_thickness))"
      ],
      "execution_count": 1,
      "outputs": [
        {
          "output_type": "stream",
          "text": [
            "厚さ： 703687441.77664メートル\n"
          ],
          "name": "stdout"
        }
      ]
    },
    {
      "cell_type": "markdown",
      "metadata": {
        "id": "AwXMQzSAJZwt"
      },
      "source": [
        "【問題２】"
      ]
    },
    {
      "cell_type": "code",
      "metadata": {
        "colab": {
          "base_uri": "https://localhost:8080/"
        },
        "id": "DV4R1KFaJfZl",
        "outputId": "c0c62fcc-600c-4de7-97f7-8d099f2fee40"
      },
      "source": [
        "# メートルを万キロメートルに変換して小数点以下2桁で表示する\n",
        "print(\"厚さ： {:.2f}万キロメートル\".format(folded_thickness / 10000000))\n",
        "\n",
        "# 月までの距離\n",
        "moon = 384400\n",
        "# 折った紙が月に届くかどうか\n",
        "if int(folded_thickness) >+ moon:\n",
        "  print(\"折った紙が月に届く\")"
      ],
      "execution_count": 2,
      "outputs": [
        {
          "output_type": "stream",
          "text": [
            "厚さ： 70.37万キロメートル\n",
            "折った紙が月に届く\n"
          ],
          "name": "stdout"
        }
      ]
    },
    {
      "cell_type": "markdown",
      "metadata": {
        "id": "W5PmcceKMh0R"
      },
      "source": [
        "【課題３】"
      ]
    },
    {
      "cell_type": "code",
      "metadata": {
        "colab": {
          "base_uri": "https://localhost:8080/"
        },
        "id": "_K7sMi_9MlGm",
        "outputId": "b319a0ec-f5c9-4f91-ef52-474b386feabd"
      },
      "source": [
        "THICKNESS = 0.00008\n",
        "# 厚さが２倍\n",
        "a = 2\n",
        "# 43回折る\n",
        "n = 43\n",
        "for origami in range(n):\n",
        "  THICKNESS *= a\n",
        "print(\"厚さ： {}メートル\".format(THICKNESS))"
      ],
      "execution_count": 3,
      "outputs": [
        {
          "output_type": "stream",
          "text": [
            "厚さ： 703687441.77664メートル\n"
          ],
          "name": "stdout"
        }
      ]
    },
    {
      "cell_type": "markdown",
      "metadata": {
        "id": "JJgan5ZQQ_3w"
      },
      "source": [
        "【課題４】"
      ]
    },
    {
      "cell_type": "code",
      "metadata": {
        "colab": {
          "base_uri": "https://localhost:8080/"
        },
        "id": "dQSdgZrsOxdp",
        "outputId": "6b6c6624-19db-4e16-e290-22faf90f1f0d"
      },
      "source": [
        "import time\n",
        "start = time.time()\n",
        "#####\n",
        "THICKNESS = 0.00008\n",
        "folded_thickness = THICKNESS * 2 ** 43\n",
        "#####\n",
        "elapsed_time1 = time.time() - start\n",
        "print(\"time1 : {}[s]\".format(elapsed_time1))\n",
        "\n",
        "#####\n",
        "THICKNESS = 0.00008\n",
        "# 厚さが２倍\n",
        "a = 2\n",
        "# 43回折る\n",
        "n = 43\n",
        "for origami in range(n):\n",
        "  THICKNESS *= a\n",
        "#####\n",
        "elapsed_time2 = time.time() - start\n",
        "print(\"time2 : {}[s]\".format(elapsed_time2))\n",
        "\n",
        "# time1とtime2の比較\n",
        "if elapsed_time1 > elapsed_time2:\n",
        "  print('2の方が短い')\n",
        "elif elapsed_time1 == elapsed_time2:\n",
        "  print('どちらでも同じ')\n",
        "else:\n",
        "  print('1の方が短い')"
      ],
      "execution_count": 4,
      "outputs": [
        {
          "output_type": "stream",
          "text": [
            "time1 : 7.176399230957031e-05[s]\n",
            "time2 : 0.0003445148468017578[s]\n",
            "1の方が短い\n"
          ],
          "name": "stdout"
        }
      ]
    },
    {
      "cell_type": "markdown",
      "metadata": {
        "id": "7USulrcsTQrY"
      },
      "source": [
        "【問題５】"
      ]
    },
    {
      "cell_type": "code",
      "metadata": {
        "colab": {
          "base_uri": "https://localhost:8080/"
        },
        "id": "qo56UVJMTSRe",
        "outputId": "35091a00-c45f-467a-cd8a-29dadb9f27df"
      },
      "source": [
        "# 空のリストを作成\n",
        "result = []\n",
        "# 折る前の値をリストに追加\n",
        "THICKNESS = 0.00008\n",
        "result.append(THICKNESS)\n",
        "# 紙を折る過程の値をリストに追加\n",
        "n = 43\n",
        "for origami in range(n):\n",
        "  THICKNESS *= a\n",
        "  result.append(THICKNESS)\n",
        "\n",
        "# リストの表示\n",
        "print(result)\n",
        "# 44個の値が格納されていることをlen関数を用いて確認\n",
        "print(len(result))\n",
        "if len(result) == (n + 1):\n",
        "  print('最終的に' + str(n + 1) + '個の値が格納されていることを確認できた')"
      ],
      "execution_count": 8,
      "outputs": [
        {
          "output_type": "stream",
          "text": [
            "[8e-05, 0.00016, 0.00032, 0.00064, 0.00128, 0.00256, 0.00512, 0.01024, 0.02048, 0.04096, 0.08192, 0.16384, 0.32768, 0.65536, 1.31072, 2.62144, 5.24288, 10.48576, 20.97152, 41.94304, 83.88608, 167.77216, 335.54432, 671.08864, 1342.17728, 2684.35456, 5368.70912, 10737.41824, 21474.83648, 42949.67296, 85899.34592, 171798.69184, 343597.38368, 687194.76736, 1374389.53472, 2748779.06944, 5497558.13888, 10995116.27776, 21990232.55552, 43980465.11104, 87960930.22208, 175921860.44416, 351843720.88832, 703687441.77664]\n",
            "44\n",
            "最終的に44個の値が格納されていることを確認できた\n"
          ],
          "name": "stdout"
        }
      ]
    },
    {
      "cell_type": "markdown",
      "metadata": {
        "id": "utzaFp49VViW"
      },
      "source": [
        "【課題６】"
      ]
    },
    {
      "cell_type": "code",
      "metadata": {
        "colab": {
          "base_uri": "https://localhost:8080/",
          "height": 295
        },
        "id": "xLa995S2VY5x",
        "outputId": "2aa04936-f425-4229-c4cc-f2a2290bd8f4"
      },
      "source": [
        "import matplotlib.pyplot as plt\n",
        "%matplotlib inline\n",
        "# グラフを表示する。タイトルと軸ラベル名付き。\n",
        "plt.title(\"thickness of folded paper\")\n",
        "plt.xlabel(\"number of folds\")\n",
        "plt.ylabel(\"thickness [m]\")\n",
        "plt.plot(result)  # 「リスト名」のところにリストの変数名を入れる\n",
        "plt.show()"
      ],
      "execution_count": 10,
      "outputs": [
        {
          "output_type": "display_data",
          "data": {
            "image/png": "[encoded data removed]",
            "text/plain": [
              "<Figure size 432x288 with 1 Axes>"
            ]
          },
          "metadata": {
            "tags": [],
            "needs_background": "light"
          }
        }
      ]
    },
    {
      "cell_type": "markdown",
      "metadata": {
        "id": "MBrYC1PlVtkM"
      },
      "source": [
        "30乗を超えたあたりから加速度的に距離が伸びていく。\n",
        "指数関数敵に厚さが増すようになっている。"
      ]
    },
    {
      "cell_type": "markdown",
      "metadata": {
        "id": "InAr8nh7XDsJ"
      },
      "source": [
        "【課題７】"
      ]
    },
    {
      "cell_type": "code",
      "metadata": {
        "colab": {
          "base_uri": "https://localhost:8080/",
          "height": 295
        },
        "id": "j2s442VjXHeP",
        "outputId": "91b1ba41-5894-4213-f31d-7a730a83765f"
      },
      "source": [
        "# 赤い折れ線グラフを表示する。\n",
        "plt.title(\"thickness of folded paper\")\n",
        "plt.xlabel(\"number of folds\")\n",
        "plt.ylabel(\"thickness [m]\")\n",
        "plt.plot(result, color='red')\n",
        "plt.show()"
      ],
      "execution_count": 11,
      "outputs": [
        {
          "output_type": "display_data",
          "data": {
            "image/png": "[encoded data removed]",
            "text/plain": [
              "<Figure size 432x288 with 1 Axes>"
            ]
          },
          "metadata": {
            "tags": [],
            "needs_background": "light"
          }
        }
      ]
    },
    {
      "cell_type": "code",
      "metadata": {
        "colab": {
          "base_uri": "https://localhost:8080/",
          "height": 295
        },
        "id": "AOd0itbKXTwP",
        "outputId": "ec144515-96c1-4f74-a42d-83797846dfcf"
      },
      "source": [
        "# 緑色の折れ線グラフを表示する。\n",
        "plt.title(\"thickness of folded paper\")\n",
        "plt.xlabel(\"number of folds\")\n",
        "plt.ylabel(\"thickness [m]\")\n",
        "plt.plot(result, color='g')\n",
        "plt.show()"
      ],
      "execution_count": 14,
      "outputs": [
        {
          "output_type": "display_data",
          "data": {
            "image/png": "[encoded data removed]",
            "text/plain": [
              "<Figure size 432x288 with 1 Axes>"
            ]
          },
          "metadata": {
            "tags": [],
            "needs_background": "light"
          }
        }
      ]
    },
    {
      "cell_type": "code",
      "metadata": {
        "colab": {
          "base_uri": "https://localhost:8080/",
          "height": 295
        },
        "id": "ZJNNOGCxXq-U",
        "outputId": "25f9552c-0016-449e-89aa-03b41fdf85ad"
      },
      "source": [
        "# 線を太くして折れ線グラフを表示する。\n",
        "plt.title(\"thickness of folded paper\")\n",
        "plt.xlabel(\"number of folds\")\n",
        "plt.ylabel(\"thickness [m]\")\n",
        "plt.plot(result, linewidth = 5.0)\n",
        "plt.show()"
      ],
      "execution_count": 19,
      "outputs": [
        {
          "output_type": "display_data",
          "data": {
            "image/png": "[encoded data removed]",
            "text/plain": [
              "<Figure size 432x288 with 1 Axes>"
            ]
          },
          "metadata": {
            "tags": [],
            "needs_background": "light"
          }
        }
      ]
    },
    {
      "cell_type": "code",
      "metadata": {
        "colab": {
          "base_uri": "https://localhost:8080/",
          "height": 295
        },
        "id": "7CV4MrW7bSyc",
        "outputId": "2980148e-711d-4de4-c355-7dd46f35ff4f"
      },
      "source": [
        "# 線を点線にして折れ線グラフを表示する。\n",
        "plt.title(\"thickness of folded paper\")\n",
        "plt.xlabel(\"number of folds\")\n",
        "plt.ylabel(\"thickness [m]\")\n",
        "plt.plot(result, linestyle = \"--\")\n",
        "plt.show()"
      ],
      "execution_count": 20,
      "outputs": [
        {
          "output_type": "display_data",
          "data": {
            "image/png": "[encoded data removed]",
            "text/plain": [
              "<Figure size 432x288 with 1 Axes>"
            ]
          },
          "metadata": {
            "tags": [],
            "needs_background": "light"
          }
        }
      ]
    }
  ]
}